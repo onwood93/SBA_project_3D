{
 "cells": [
  {
   "cell_type": "code",
   "execution_count": 1,
   "metadata": {},
   "outputs": [
    {
     "name": "stdout",
     "output_type": "stream",
     "text": [
      "/home/onwood/SBA_project_3D\n"
     ]
    }
   ],
   "source": [
    "!pwd"
   ]
  },
  {
   "cell_type": "code",
   "execution_count": 1,
   "metadata": {},
   "outputs": [],
   "source": [
    "import torch\n",
    "import matplotlib.pylab as plt\n",
    "import matplotlib.patches as patches\n",
    "import numpy as np\n",
    "from utils.mydataset import MyDataset"
   ]
  },
  {
   "cell_type": "code",
   "execution_count": 2,
   "metadata": {},
   "outputs": [],
   "source": [
    "data_dir = 'dataset'\n",
    "dataset = MyDataset(data_dir=data_dir)"
   ]
  },
  {
   "cell_type": "code",
   "execution_count": 3,
   "metadata": {},
   "outputs": [
    {
     "data": {
      "text/plain": [
       "69624"
      ]
     },
     "execution_count": 3,
     "metadata": {},
     "output_type": "execute_result"
    }
   ],
   "source": [
    "len(dataset)"
   ]
  },
  {
   "cell_type": "code",
   "execution_count": 11,
   "metadata": {},
   "outputs": [
    {
     "data": {
      "text/plain": [
       "dict_keys(['A073', 'A086', 'A046', 'A078', 'A066', 'A033', 'A024', 'A038', 'A025', 'A031', 'A084', 'A105', 'A072', 'A011', 'A047', 'A063', 'A094', 'A019', 'A071', 'A003', 'A041', 'A010', 'A067', 'A030', 'A032', 'A085', 'A044', 'A082', 'A064', 'A077', 'A036', 'A088', 'A020', 'A016', 'A062', 'A065', 'A017', 'A013', 'A029', 'A061', 'A021', 'A006', 'A034', 'A079', 'A068', 'A012', 'A028', 'A083', 'A091', 'A004', 'A090', 'A070', 'A074', 'A087', 'A043', 'A069', 'A014', 'A093', 'A015', 'A103', 'A075', 'A049', 'A081', 'A001', 'A005', 'A018', 'A042', 'A037', 'A045', 'A076', 'A089', 'A002', 'A092'])"
      ]
     },
     "execution_count": 11,
     "metadata": {},
     "output_type": "execute_result"
    }
   ],
   "source": [
    "dataset.action_dir_dic.keys()"
   ]
  },
  {
   "cell_type": "code",
   "execution_count": 12,
   "metadata": {},
   "outputs": [
    {
     "data": {
      "text/plain": [
       "('dataset/a073_kp/S028C002P087R001A073_rgb_kp.json',\n",
       " 'dataset/a073_kp/S030C002P075R001A073_rgb_kp.json',\n",
       " 'dataset/a084_kp/S028C001P070R002A084_rgb_kp.json',\n",
       " 'dataset/a103_kp/S018C002P008R001A103_rgb_kp.json')"
      ]
     },
     "execution_count": 12,
     "metadata": {},
     "output_type": "execute_result"
    }
   ],
   "source": [
    "dataset.all_data_dir_list[0], dataset.all_data_dir_list[90], dataset.all_data_dir_list[10201], dataset.all_data_dir_list[56704]"
   ]
  },
  {
   "cell_type": "code",
   "execution_count": 4,
   "metadata": {},
   "outputs": [
    {
     "data": {
      "text/plain": [
       "dict_keys(['anchor_c0', 'anchor_aug_c0', 'semi_positives_c0', 'anchor_c1', 'anchor_aug_c1', 'semi_positives_c1', 'anchor_c2', 'anchor_aug_c2', 'semi_positives_c2', 'anchor_c3', 'anchor_aug_c3', 'semi_positives_c3', 'anchor_c4', 'anchor_aug_c4', 'semi_positives_c4', 'heatmap', 'optical_flow', 'origin'])"
      ]
     },
     "execution_count": 4,
     "metadata": {},
     "output_type": "execute_result"
    }
   ],
   "source": [
    "data_item = dataset[12000]\n",
    "data_item.keys()\n",
    "# data_item['semi_positives_c0'][0].size()"
   ]
  },
  {
   "cell_type": "code",
   "execution_count": 15,
   "metadata": {},
   "outputs": [
    {
     "data": {
      "text/plain": [
       "torch.Size([12, 17, 270, 480])"
      ]
     },
     "execution_count": 15,
     "metadata": {},
     "output_type": "execute_result"
    }
   ],
   "source": [
    "data_item['heatmap'].size()"
   ]
  },
  {
   "cell_type": "code",
   "execution_count": 8,
   "metadata": {},
   "outputs": [
    {
     "data": {
      "text/plain": [
       "torch.Size([49, 17, 2, 270, 480])"
      ]
     },
     "execution_count": 8,
     "metadata": {},
     "output_type": "execute_result"
    }
   ],
   "source": [
    "data_item['optical_flow'].size()"
   ]
  },
  {
   "cell_type": "code",
   "execution_count": 5,
   "metadata": {},
   "outputs": [],
   "source": [
    "heatmap = data_item['heatmap']\n",
    "optical_flow = data_item['optical_flow']\n",
    "origin = data_item['origin']"
   ]
  },
  {
   "cell_type": "code",
   "execution_count": 6,
   "metadata": {},
   "outputs": [
    {
     "data": {
      "text/plain": [
       "torch.Size([12, 17, 2])"
      ]
     },
     "execution_count": 6,
     "metadata": {},
     "output_type": "execute_result"
    }
   ],
   "source": [
    "origin.size()"
   ]
  },
  {
   "cell_type": "code",
   "execution_count": 27,
   "metadata": {},
   "outputs": [
    {
     "name": "stdout",
     "output_type": "stream",
     "text": [
      "tensor(0.9714)\n",
      "tensor(0.9714)\n",
      "tensor(2.3348)\n"
     ]
    }
   ],
   "source": [
    "print(optical_flow[:,:,[0],:,:].sum(dim=1).reshape(-1,270,480)[0].max())\n",
    "print(optical_flow[:,:,[0],:,:].sum(dim=1)[0].max())\n",
    "print(optical_flow[:,:,[0],:,:].sum(dim=1)[1].max())"
   ]
  },
  {
   "cell_type": "code",
   "execution_count": 21,
   "metadata": {},
   "outputs": [
    {
     "name": "stdout",
     "output_type": "stream",
     "text": [
      "torch.Size([270, 480])\n",
      "torch.Size([270, 480])\n",
      "torch.Size([12, 270, 480])\n",
      "torch.Size([11, 270, 480])\n"
     ]
    }
   ],
   "source": [
    "print(heatmap[0].sum(dim=[0]).shape)\n",
    "print(optical_flow[:,:,[0],:,:][0].sum(dim=[0,1]).shape)\n",
    "print(heatmap.sum(dim=1).shape)\n",
    "print(optical_flow[:,:,[0],:,:].sum(dim=[1,2]).shape)"
   ]
  },
  {
   "cell_type": "code",
   "execution_count": 8,
   "metadata": {},
   "outputs": [],
   "source": [
    "def flow_viz(heatmap, optical_flow):\n",
    "    heatmap_vis = heatmap.sum(dim=1)\n",
    "    # optical_flow_x = optical_flow[:,:,[0],:,:].sum(dim=[1,2])\n",
    "    # optical_flow_y = optical_flow[:,:,[1],:,:].sum(dim=[1,2])\n",
    "    optical_flow_x = optical_flow[:,:,[0],:,:]\n",
    "    optical_flow_y = optical_flow[:,:,[1],:,:]\n",
    "\n",
    "    i,j = np.meshgrid(np.arange(heatmap.sha))\n",
    "    for i in range(1, len(heatmap_vis)):\n",
    "        heat = heatmap_vis[i]\n",
    "        u = optical_flow_x[i-1]\n",
    "        v = optical_flow_y[i-1]\n",
    "        plt.imshow(heat)\n",
    "        plt.quiver(heat,u,v)\n",
    "        plt.show()"
   ]
  },
  {
   "cell_type": "code",
   "execution_count": 40,
   "metadata": {},
   "outputs": [],
   "source": [
    "def flow_viz(heatmap, optical_flow):\n",
    "    B,J,H,W = heatmap.shape\n",
    "\n",
    "    optical_flow_x = optical_flow[:,:,[0],:,:]\n",
    "    optical_flow_y = optical_flow[:,:,[1],:,:]\n",
    "\n",
    "    x,y = np.meshgrid(np.arange(W, dtype=np.float32), np.arange(H, dtype=np.float32), indexing='xy')\n",
    "    print(optical_flow_x.shape, x.shape)\n",
    "    for i in range(1, B):\n",
    "        plt.subplot(121)\n",
    "        plt.imshow(heatmap[i-1][5])\n",
    "        \n",
    "        plt.subplot(122)\n",
    "        plt.imshow(heatmap[i][5])\n",
    "        # u = optical_flow_x[i-1][7].squeeze()\n",
    "        # v = optical_flow_y[i-1][7].squeeze()\n",
    "        # plt.quiver(x,y,u,v)\n",
    "        plt.show()"
   ]
  },
  {
   "cell_type": "code",
   "execution_count": 141,
   "metadata": {},
   "outputs": [
    {
     "data": {
      "text/plain": [
       "torch.Size([12, 17, 2])"
      ]
     },
     "execution_count": 141,
     "metadata": {},
     "output_type": "execute_result"
    }
   ],
   "source": [
    "origin.shape"
   ]
  },
  {
   "cell_type": "code",
   "execution_count": 67,
   "metadata": {},
   "outputs": [
    {
     "data": {
      "text/plain": [
       "torch.Size([11, 2])"
      ]
     },
     "execution_count": 67,
     "metadata": {},
     "output_type": "execute_result"
    }
   ],
   "source": [
    "keypoints = origin[:, 5,:]\n",
    "\n",
    "flow = keypoints[1:] - keypoints[:-1]\n",
    "flow.shape"
   ]
  },
  {
   "cell_type": "code",
   "execution_count": 70,
   "metadata": {},
   "outputs": [
    {
     "data": {
      "text/plain": [
       "tensor(0.6779)"
      ]
     },
     "execution_count": 70,
     "metadata": {},
     "output_type": "execute_result"
    }
   ],
   "source": [
    "flow[0][0]"
   ]
  },
  {
   "cell_type": "code",
   "execution_count": 77,
   "metadata": {},
   "outputs": [
    {
     "data": {
      "text/plain": [
       "tensor([[[ 307.9257, 1028.9871],\n",
       "         [ 296.6754, 1044.7612],\n",
       "         [ 292.8230, 1021.4195],\n",
       "         [ 295.1177, 1077.1208],\n",
       "         [ 287.5029, 1016.1767],\n",
       "         [ 379.2431, 1100.8765],\n",
       "         [ 356.1763, 1003.6565],\n",
       "         [ 467.3124, 1115.8772],\n",
       "         [ 427.3257,  994.2663],\n",
       "         [ 547.1871, 1098.6855],\n",
       "         [ 499.1377,  979.7755],\n",
       "         [ 543.1466, 1066.5713],\n",
       "         [ 531.1617, 1006.2684],\n",
       "         [ 651.3691, 1075.5804],\n",
       "         [ 632.5958, 1019.2280],\n",
       "         [ 730.8253, 1072.6510],\n",
       "         [ 702.7830, 1026.0740]],\n",
       "\n",
       "        [[ 309.8183, 1035.5520],\n",
       "         [ 298.9942, 1052.5374],\n",
       "         [ 293.8551, 1027.6144],\n",
       "         [ 296.8477, 1080.2238],\n",
       "         [ 282.8792, 1020.0275],\n",
       "         [ 379.9210, 1102.5863],\n",
       "         [ 357.1841, 1002.3294],\n",
       "         [ 469.0983, 1115.8164],\n",
       "         [ 429.5131,  990.0859],\n",
       "         [ 548.3631, 1096.7725],\n",
       "         [ 501.1025,  977.3352],\n",
       "         [ 544.4481, 1065.9617],\n",
       "         [ 533.9604, 1004.9570],\n",
       "         [ 652.6397, 1076.8119],\n",
       "         [ 633.9957, 1019.5001],\n",
       "         [ 730.5914, 1070.9752],\n",
       "         [ 702.5994, 1024.8656]],\n",
       "\n",
       "        [[ 313.0514, 1046.0371],\n",
       "         [ 300.9360, 1061.7021],\n",
       "         [ 297.4562, 1035.8655],\n",
       "         [ 296.4485, 1084.1453],\n",
       "         [ 286.9229, 1022.4216],\n",
       "         [ 379.2056, 1103.3110],\n",
       "         [ 358.0334, 1000.8608],\n",
       "         [ 466.6140, 1117.0217],\n",
       "         [ 431.2086,  988.4184],\n",
       "         [ 548.1880, 1099.6937],\n",
       "         [ 502.8257,  975.7122],\n",
       "         [ 543.4550, 1067.2465],\n",
       "         [ 534.6871, 1005.6208],\n",
       "         [ 653.7032, 1077.6510],\n",
       "         [ 635.4025, 1018.9213],\n",
       "         [ 731.3757, 1071.3904],\n",
       "         [ 704.2280, 1024.7783]],\n",
       "\n",
       "        [[ 313.3093, 1047.7825],\n",
       "         [ 300.7734, 1062.5598],\n",
       "         [ 298.1619, 1036.9233],\n",
       "         [ 295.3546, 1084.4360],\n",
       "         [ 288.2565, 1023.1512],\n",
       "         [ 378.9582, 1104.6969],\n",
       "         [ 358.2115, 1001.0806],\n",
       "         [ 465.3624, 1119.0767],\n",
       "         [ 432.4342,  987.8419],\n",
       "         [ 546.3901, 1103.1204],\n",
       "         [ 505.4802,  974.9519],\n",
       "         [ 544.8344, 1068.9297],\n",
       "         [ 536.1109, 1006.4645],\n",
       "         [ 652.6038, 1077.9586],\n",
       "         [ 635.7914, 1018.0839],\n",
       "         [ 730.9801, 1071.5840],\n",
       "         [ 704.0947, 1024.4386]],\n",
       "\n",
       "        [[ 312.8592, 1046.5388],\n",
       "         [ 300.3697, 1061.6866],\n",
       "         [ 297.7786, 1035.9841],\n",
       "         [ 294.3319, 1084.3175],\n",
       "         [ 287.5129, 1023.0444],\n",
       "         [ 378.6657, 1105.4073],\n",
       "         [ 358.2160, 1001.5187],\n",
       "         [ 465.0392, 1124.1697],\n",
       "         [ 431.3875,  987.5719],\n",
       "         [ 541.8807, 1089.9937],\n",
       "         [ 504.5156,  975.1532],\n",
       "         [ 547.9653, 1069.1372],\n",
       "         [ 539.0817, 1006.9000],\n",
       "         [ 655.2780, 1078.0015],\n",
       "         [ 636.9397, 1019.5472],\n",
       "         [ 731.5428, 1071.0137],\n",
       "         [ 703.7372, 1024.5911]],\n",
       "\n",
       "        [[ 310.9152, 1046.8555],\n",
       "         [ 298.3423, 1061.5924],\n",
       "         [ 296.0898, 1035.8511],\n",
       "         [ 292.1497, 1085.0681],\n",
       "         [ 283.8634, 1022.6313],\n",
       "         [ 373.6657, 1105.4216],\n",
       "         [ 356.8320, 1003.0514],\n",
       "         [ 463.0109, 1117.8134],\n",
       "         [ 430.7523,  989.7875],\n",
       "         [ 479.7125, 1053.5209],\n",
       "         [ 504.2914,  976.5016],\n",
       "         [ 545.4263, 1070.6094],\n",
       "         [ 538.2126, 1007.3284],\n",
       "         [ 653.6281, 1078.5764],\n",
       "         [ 636.4562, 1018.7458],\n",
       "         [ 730.2664, 1071.7285],\n",
       "         [ 704.0212, 1024.5525]],\n",
       "\n",
       "        [[ 308.5361, 1044.4142],\n",
       "         [ 296.6285, 1060.1962],\n",
       "         [ 293.5509, 1034.0256],\n",
       "         [ 292.0152, 1086.8491],\n",
       "         [ 283.2448, 1023.3127],\n",
       "         [ 370.5384, 1103.2996],\n",
       "         [ 354.2354, 1005.4116],\n",
       "         [ 453.3585, 1091.5652],\n",
       "         [ 428.4258,  991.6379],\n",
       "         [ 408.0938, 1029.9840],\n",
       "         [ 503.2406,  979.5863],\n",
       "         [ 542.9852, 1070.8208],\n",
       "         [ 534.5793, 1008.5613],\n",
       "         [ 653.5930, 1078.8599],\n",
       "         [ 635.5995, 1019.1283],\n",
       "         [ 730.7606, 1071.2667],\n",
       "         [ 703.7921, 1024.1400]],\n",
       "\n",
       "        [[ 305.9268, 1040.7522],\n",
       "         [ 295.4721, 1056.7451],\n",
       "         [ 290.7584, 1032.1428],\n",
       "         [ 292.2145, 1086.0844],\n",
       "         [ 281.4595, 1023.4156],\n",
       "         [ 370.4474, 1101.9155],\n",
       "         [ 355.8145, 1011.8191],\n",
       "         [ 440.8846, 1075.2146],\n",
       "         [ 427.2283,  995.4928],\n",
       "         [ 378.1763, 1024.9662],\n",
       "         [ 502.6390,  982.1241],\n",
       "         [ 541.9550, 1069.7556],\n",
       "         [ 533.2592, 1009.8328],\n",
       "         [ 652.1982, 1079.3701],\n",
       "         [ 635.3402, 1018.5346],\n",
       "         [ 731.1396, 1070.8796],\n",
       "         [ 704.8419, 1024.4346]],\n",
       "\n",
       "        [[ 305.4627, 1038.8573],\n",
       "         [ 295.3240, 1055.1765],\n",
       "         [ 289.7168, 1031.1702],\n",
       "         [ 293.8626, 1086.1240],\n",
       "         [ 281.9773, 1024.1985],\n",
       "         [ 371.6800, 1100.5520],\n",
       "         [ 353.2426, 1013.6418],\n",
       "         [ 440.0541, 1071.1689],\n",
       "         [ 426.6023,  999.8275],\n",
       "         [ 379.4630, 1020.8818],\n",
       "         [ 500.9308,  986.1729],\n",
       "         [ 542.4690, 1068.3077],\n",
       "         [ 532.4462, 1010.0575],\n",
       "         [ 652.6996, 1077.6938],\n",
       "         [ 634.6614, 1019.4541],\n",
       "         [ 731.3381, 1071.6375],\n",
       "         [ 704.2128, 1024.4403]],\n",
       "\n",
       "        [[ 303.2543, 1037.2600],\n",
       "         [ 293.1410, 1053.4684],\n",
       "         [ 287.7220, 1029.7917],\n",
       "         [ 293.7098, 1084.4291],\n",
       "         [ 281.7970, 1022.8652],\n",
       "         [ 372.5035, 1097.9678],\n",
       "         [ 352.8188, 1013.5212],\n",
       "         [ 441.9577, 1068.0692],\n",
       "         [ 427.7651, 1000.7780],\n",
       "         [ 379.9900, 1017.0864],\n",
       "         [ 500.9016,  988.0870],\n",
       "         [ 542.8362, 1066.2505],\n",
       "         [ 532.4033, 1008.5369],\n",
       "         [ 651.8157, 1076.1289],\n",
       "         [ 633.9564, 1018.6440],\n",
       "         [ 730.5861, 1071.2625],\n",
       "         [ 703.5092, 1024.4558]],\n",
       "\n",
       "        [[ 303.1671, 1035.4810],\n",
       "         [ 293.6765, 1052.0366],\n",
       "         [ 287.0806, 1029.0769],\n",
       "         [ 294.0864, 1084.4810],\n",
       "         [ 279.1406, 1023.2869],\n",
       "         [ 373.1859, 1098.7645],\n",
       "         [ 352.8528, 1012.8091],\n",
       "         [ 441.7191, 1067.7095],\n",
       "         [ 428.4347, 1001.4547],\n",
       "         [ 379.0565, 1016.1571],\n",
       "         [ 500.9303,  988.9611],\n",
       "         [ 543.0579, 1065.9727],\n",
       "         [ 532.8082, 1007.7709],\n",
       "         [ 652.3428, 1075.3363],\n",
       "         [ 633.8638, 1018.5643],\n",
       "         [ 731.0519, 1070.7407],\n",
       "         [ 703.3083, 1024.2700]],\n",
       "\n",
       "        [[ 303.3071, 1035.6537],\n",
       "         [ 293.5340, 1052.0636],\n",
       "         [ 287.3520, 1029.3018],\n",
       "         [ 294.4111, 1084.1471],\n",
       "         [ 280.3148, 1023.3601],\n",
       "         [ 372.5155, 1097.3794],\n",
       "         [ 353.6339, 1010.9545],\n",
       "         [ 443.3204, 1067.5039],\n",
       "         [ 428.8220,  998.9464],\n",
       "         [ 381.6434, 1015.7620],\n",
       "         [ 501.5028,  986.6539],\n",
       "         [ 542.9685, 1066.0747],\n",
       "         [ 533.0369, 1007.9027],\n",
       "         [ 652.5821, 1076.5381],\n",
       "         [ 634.3907, 1017.6740],\n",
       "         [ 731.4720, 1070.1624],\n",
       "         [ 703.7545, 1024.1404]]])"
      ]
     },
     "execution_count": 77,
     "metadata": {},
     "output_type": "execute_result"
    }
   ],
   "source": [
    "origin"
   ]
  },
  {
   "cell_type": "code",
   "execution_count": 71,
   "metadata": {},
   "outputs": [],
   "source": []
  },
  {
   "cell_type": "code",
   "execution_count": 78,
   "metadata": {},
   "outputs": [
    {
     "data": {
      "text/plain": [
       "tensor([[0.6779, 0.6779, 0.6779,  ..., 0.6779, 0.6779, 0.6779],\n",
       "        [0.6779, 0.6779, 0.6779,  ..., 0.6779, 0.6779, 0.6779],\n",
       "        [0.6779, 0.6779, 0.6779,  ..., 0.6779, 0.6779, 0.6779],\n",
       "        ...,\n",
       "        [0.6779, 0.6779, 0.6779,  ..., 0.6779, 0.6779, 0.6779],\n",
       "        [0.6779, 0.6779, 0.6779,  ..., 0.6779, 0.6779, 0.6779],\n",
       "        [0.6779, 0.6779, 0.6779,  ..., 0.6779, 0.6779, 0.6779]])"
      ]
     },
     "execution_count": 78,
     "metadata": {},
     "output_type": "execute_result"
    }
   ],
   "source": [
    "u"
   ]
  },
  {
   "cell_type": "code",
   "execution_count": 79,
   "metadata": {},
   "outputs": [
    {
     "data": {
      "text/plain": [
       "tensor([[1.7098, 1.7098, 1.7098,  ..., 1.7098, 1.7098, 1.7098],\n",
       "        [1.7098, 1.7098, 1.7098,  ..., 1.7098, 1.7098, 1.7098],\n",
       "        [1.7098, 1.7098, 1.7098,  ..., 1.7098, 1.7098, 1.7098],\n",
       "        ...,\n",
       "        [1.7098, 1.7098, 1.7098,  ..., 1.7098, 1.7098, 1.7098],\n",
       "        [1.7098, 1.7098, 1.7098,  ..., 1.7098, 1.7098, 1.7098],\n",
       "        [1.7098, 1.7098, 1.7098,  ..., 1.7098, 1.7098, 1.7098]])"
      ]
     },
     "execution_count": 79,
     "metadata": {},
     "output_type": "execute_result"
    }
   ],
   "source": [
    "v"
   ]
  },
  {
   "cell_type": "code",
   "execution_count": 81,
   "metadata": {},
   "outputs": [
    {
     "data": {
      "text/plain": [
       "(torch.Size([270, 480]), torch.Size([270, 480]))"
      ]
     },
     "execution_count": 81,
     "metadata": {},
     "output_type": "execute_result"
    }
   ],
   "source": [
    "u.shape, v.shape"
   ]
  },
  {
   "cell_type": "code",
   "execution_count": 105,
   "metadata": {},
   "outputs": [
    {
     "data": {
      "text/plain": [
       "tensor([[1.7098, 1.7098, 1.7098,  ..., 1.7098, 1.7098, 1.7098],\n",
       "        [1.7098, 1.7098, 1.7098,  ..., 1.7098, 1.7098, 1.7098],\n",
       "        [1.7098, 1.7098, 1.7098,  ..., 1.7098, 1.7098, 1.7098],\n",
       "        ...,\n",
       "        [1.7098, 1.7098, 1.7098,  ..., 1.7098, 1.7098, 1.7098],\n",
       "        [1.7098, 1.7098, 1.7098,  ..., 1.7098, 1.7098, 1.7098],\n",
       "        [1.7098, 1.7098, 1.7098,  ..., 1.7098, 1.7098, 1.7098]])"
      ]
     },
     "execution_count": 105,
     "metadata": {},
     "output_type": "execute_result"
    }
   ],
   "source": [
    "v"
   ]
  },
  {
   "cell_type": "code",
   "execution_count": 126,
   "metadata": {},
   "outputs": [
    {
     "data": {
      "text/plain": [
       "tensor([[0.6779, 0.6779, 0.6779,  ..., 0.6779, 0.6779, 0.6779],\n",
       "        [0.6779, 0.6779, 0.6779,  ..., 0.6779, 0.6779, 0.6779],\n",
       "        [0.6779, 0.6779, 0.6779,  ..., 0.6779, 0.6779, 0.6779],\n",
       "        ...,\n",
       "        [0.6779, 0.6779, 0.6779,  ..., 0.6779, 0.6779, 0.6779],\n",
       "        [0.6779, 0.6779, 0.6779,  ..., 0.6779, 0.6779, 0.6779],\n",
       "        [0.6779, 0.6779, 0.6779,  ..., 0.6779, 0.6779, 0.6779]])"
      ]
     },
     "execution_count": 126,
     "metadata": {},
     "output_type": "execute_result"
    }
   ],
   "source": [
    "u"
   ]
  },
  {
   "cell_type": "code",
   "execution_count": 140,
   "metadata": {},
   "outputs": [
    {
     "data": {
      "text/plain": [
       "tensor([[[ 307.9257, 1028.9871],\n",
       "         [ 296.6754, 1044.7612],\n",
       "         [ 292.8230, 1021.4195],\n",
       "         [ 295.1177, 1077.1208],\n",
       "         [ 287.5029, 1016.1767],\n",
       "         [ 379.2431, 1100.8765],\n",
       "         [ 356.1763, 1003.6565],\n",
       "         [ 467.3124, 1115.8772],\n",
       "         [ 427.3257,  994.2663],\n",
       "         [ 547.1871, 1098.6855],\n",
       "         [ 499.1377,  979.7755],\n",
       "         [ 543.1466, 1066.5713],\n",
       "         [ 531.1617, 1006.2684],\n",
       "         [ 651.3691, 1075.5804],\n",
       "         [ 632.5958, 1019.2280],\n",
       "         [ 730.8253, 1072.6510],\n",
       "         [ 702.7830, 1026.0740]],\n",
       "\n",
       "        [[ 309.8183, 1035.5520],\n",
       "         [ 298.9942, 1052.5374],\n",
       "         [ 293.8551, 1027.6144],\n",
       "         [ 296.8477, 1080.2238],\n",
       "         [ 282.8792, 1020.0275],\n",
       "         [ 379.9210, 1102.5863],\n",
       "         [ 357.1841, 1002.3294],\n",
       "         [ 469.0983, 1115.8164],\n",
       "         [ 429.5131,  990.0859],\n",
       "         [ 548.3631, 1096.7725],\n",
       "         [ 501.1025,  977.3352],\n",
       "         [ 544.4481, 1065.9617],\n",
       "         [ 533.9604, 1004.9570],\n",
       "         [ 652.6397, 1076.8119],\n",
       "         [ 633.9957, 1019.5001],\n",
       "         [ 730.5914, 1070.9752],\n",
       "         [ 702.5994, 1024.8656]],\n",
       "\n",
       "        [[ 313.0514, 1046.0371],\n",
       "         [ 300.9360, 1061.7021],\n",
       "         [ 297.4562, 1035.8655],\n",
       "         [ 296.4485, 1084.1453],\n",
       "         [ 286.9229, 1022.4216],\n",
       "         [ 379.2056, 1103.3110],\n",
       "         [ 358.0334, 1000.8608],\n",
       "         [ 466.6140, 1117.0217],\n",
       "         [ 431.2086,  988.4184],\n",
       "         [ 548.1880, 1099.6937],\n",
       "         [ 502.8257,  975.7122],\n",
       "         [ 543.4550, 1067.2465],\n",
       "         [ 534.6871, 1005.6208],\n",
       "         [ 653.7032, 1077.6510],\n",
       "         [ 635.4025, 1018.9213],\n",
       "         [ 731.3757, 1071.3904],\n",
       "         [ 704.2280, 1024.7783]],\n",
       "\n",
       "        [[ 313.3093, 1047.7825],\n",
       "         [ 300.7734, 1062.5598],\n",
       "         [ 298.1619, 1036.9233],\n",
       "         [ 295.3546, 1084.4360],\n",
       "         [ 288.2565, 1023.1512],\n",
       "         [ 378.9582, 1104.6969],\n",
       "         [ 358.2115, 1001.0806],\n",
       "         [ 465.3624, 1119.0767],\n",
       "         [ 432.4342,  987.8419],\n",
       "         [ 546.3901, 1103.1204],\n",
       "         [ 505.4802,  974.9519],\n",
       "         [ 544.8344, 1068.9297],\n",
       "         [ 536.1109, 1006.4645],\n",
       "         [ 652.6038, 1077.9586],\n",
       "         [ 635.7914, 1018.0839],\n",
       "         [ 730.9801, 1071.5840],\n",
       "         [ 704.0947, 1024.4386]],\n",
       "\n",
       "        [[ 312.8592, 1046.5388],\n",
       "         [ 300.3697, 1061.6866],\n",
       "         [ 297.7786, 1035.9841],\n",
       "         [ 294.3319, 1084.3175],\n",
       "         [ 287.5129, 1023.0444],\n",
       "         [ 378.6657, 1105.4073],\n",
       "         [ 358.2160, 1001.5187],\n",
       "         [ 465.0392, 1124.1697],\n",
       "         [ 431.3875,  987.5719],\n",
       "         [ 541.8807, 1089.9937],\n",
       "         [ 504.5156,  975.1532],\n",
       "         [ 547.9653, 1069.1372],\n",
       "         [ 539.0817, 1006.9000],\n",
       "         [ 655.2780, 1078.0015],\n",
       "         [ 636.9397, 1019.5472],\n",
       "         [ 731.5428, 1071.0137],\n",
       "         [ 703.7372, 1024.5911]],\n",
       "\n",
       "        [[ 310.9152, 1046.8555],\n",
       "         [ 298.3423, 1061.5924],\n",
       "         [ 296.0898, 1035.8511],\n",
       "         [ 292.1497, 1085.0681],\n",
       "         [ 283.8634, 1022.6313],\n",
       "         [ 373.6657, 1105.4216],\n",
       "         [ 356.8320, 1003.0514],\n",
       "         [ 463.0109, 1117.8134],\n",
       "         [ 430.7523,  989.7875],\n",
       "         [ 479.7125, 1053.5209],\n",
       "         [ 504.2914,  976.5016],\n",
       "         [ 545.4263, 1070.6094],\n",
       "         [ 538.2126, 1007.3284],\n",
       "         [ 653.6281, 1078.5764],\n",
       "         [ 636.4562, 1018.7458],\n",
       "         [ 730.2664, 1071.7285],\n",
       "         [ 704.0212, 1024.5525]],\n",
       "\n",
       "        [[ 308.5361, 1044.4142],\n",
       "         [ 296.6285, 1060.1962],\n",
       "         [ 293.5509, 1034.0256],\n",
       "         [ 292.0152, 1086.8491],\n",
       "         [ 283.2448, 1023.3127],\n",
       "         [ 370.5384, 1103.2996],\n",
       "         [ 354.2354, 1005.4116],\n",
       "         [ 453.3585, 1091.5652],\n",
       "         [ 428.4258,  991.6379],\n",
       "         [ 408.0938, 1029.9840],\n",
       "         [ 503.2406,  979.5863],\n",
       "         [ 542.9852, 1070.8208],\n",
       "         [ 534.5793, 1008.5613],\n",
       "         [ 653.5930, 1078.8599],\n",
       "         [ 635.5995, 1019.1283],\n",
       "         [ 730.7606, 1071.2667],\n",
       "         [ 703.7921, 1024.1400]],\n",
       "\n",
       "        [[ 305.9268, 1040.7522],\n",
       "         [ 295.4721, 1056.7451],\n",
       "         [ 290.7584, 1032.1428],\n",
       "         [ 292.2145, 1086.0844],\n",
       "         [ 281.4595, 1023.4156],\n",
       "         [ 370.4474, 1101.9155],\n",
       "         [ 355.8145, 1011.8191],\n",
       "         [ 440.8846, 1075.2146],\n",
       "         [ 427.2283,  995.4928],\n",
       "         [ 378.1763, 1024.9662],\n",
       "         [ 502.6390,  982.1241],\n",
       "         [ 541.9550, 1069.7556],\n",
       "         [ 533.2592, 1009.8328],\n",
       "         [ 652.1982, 1079.3701],\n",
       "         [ 635.3402, 1018.5346],\n",
       "         [ 731.1396, 1070.8796],\n",
       "         [ 704.8419, 1024.4346]],\n",
       "\n",
       "        [[ 305.4627, 1038.8573],\n",
       "         [ 295.3240, 1055.1765],\n",
       "         [ 289.7168, 1031.1702],\n",
       "         [ 293.8626, 1086.1240],\n",
       "         [ 281.9773, 1024.1985],\n",
       "         [ 371.6800, 1100.5520],\n",
       "         [ 353.2426, 1013.6418],\n",
       "         [ 440.0541, 1071.1689],\n",
       "         [ 426.6023,  999.8275],\n",
       "         [ 379.4630, 1020.8818],\n",
       "         [ 500.9308,  986.1729],\n",
       "         [ 542.4690, 1068.3077],\n",
       "         [ 532.4462, 1010.0575],\n",
       "         [ 652.6996, 1077.6938],\n",
       "         [ 634.6614, 1019.4541],\n",
       "         [ 731.3381, 1071.6375],\n",
       "         [ 704.2128, 1024.4403]],\n",
       "\n",
       "        [[ 303.2543, 1037.2600],\n",
       "         [ 293.1410, 1053.4684],\n",
       "         [ 287.7220, 1029.7917],\n",
       "         [ 293.7098, 1084.4291],\n",
       "         [ 281.7970, 1022.8652],\n",
       "         [ 372.5035, 1097.9678],\n",
       "         [ 352.8188, 1013.5212],\n",
       "         [ 441.9577, 1068.0692],\n",
       "         [ 427.7651, 1000.7780],\n",
       "         [ 379.9900, 1017.0864],\n",
       "         [ 500.9016,  988.0870],\n",
       "         [ 542.8362, 1066.2505],\n",
       "         [ 532.4033, 1008.5369],\n",
       "         [ 651.8157, 1076.1289],\n",
       "         [ 633.9564, 1018.6440],\n",
       "         [ 730.5861, 1071.2625],\n",
       "         [ 703.5092, 1024.4558]],\n",
       "\n",
       "        [[ 303.1671, 1035.4810],\n",
       "         [ 293.6765, 1052.0366],\n",
       "         [ 287.0806, 1029.0769],\n",
       "         [ 294.0864, 1084.4810],\n",
       "         [ 279.1406, 1023.2869],\n",
       "         [ 373.1859, 1098.7645],\n",
       "         [ 352.8528, 1012.8091],\n",
       "         [ 441.7191, 1067.7095],\n",
       "         [ 428.4347, 1001.4547],\n",
       "         [ 379.0565, 1016.1571],\n",
       "         [ 500.9303,  988.9611],\n",
       "         [ 543.0579, 1065.9727],\n",
       "         [ 532.8082, 1007.7709],\n",
       "         [ 652.3428, 1075.3363],\n",
       "         [ 633.8638, 1018.5643],\n",
       "         [ 731.0519, 1070.7407],\n",
       "         [ 703.3083, 1024.2700]],\n",
       "\n",
       "        [[ 303.3071, 1035.6537],\n",
       "         [ 293.5340, 1052.0636],\n",
       "         [ 287.3520, 1029.3018],\n",
       "         [ 294.4111, 1084.1471],\n",
       "         [ 280.3148, 1023.3601],\n",
       "         [ 372.5155, 1097.3794],\n",
       "         [ 353.6339, 1010.9545],\n",
       "         [ 443.3204, 1067.5039],\n",
       "         [ 428.8220,  998.9464],\n",
       "         [ 381.6434, 1015.7620],\n",
       "         [ 501.5028,  986.6539],\n",
       "         [ 542.9685, 1066.0747],\n",
       "         [ 533.0369, 1007.9027],\n",
       "         [ 652.5821, 1076.5381],\n",
       "         [ 634.3907, 1017.6740],\n",
       "         [ 731.4720, 1070.1624],\n",
       "         [ 703.7545, 1024.1404]]])"
      ]
     },
     "execution_count": 140,
     "metadata": {},
     "output_type": "execute_result"
    }
   ],
   "source": [
    "origin"
   ]
  },
  {
   "cell_type": "code",
   "execution_count": 144,
   "metadata": {},
   "outputs": [],
   "source": [
    "# 5:R_shoulder\n",
    "keypoints = origin[:, 5,:] # [12,17,2]\n",
    "flow = keypoints[:-1] - keypoints[1:]\n",
    "\n",
    "flowmap = torch.zeros((11, 2, 270, 480))\n",
    "for i in range(len(flow)):\n",
    "    flowmap[i][0] = flowmap[i][0] + flow[i][0]\n",
    "    flowmap[i][1] = flowmap[i][1] + flow[i][1]"
   ]
  },
  {
   "cell_type": "code",
   "execution_count": 147,
   "metadata": {},
   "outputs": [
    {
     "data": {
      "text/plain": [
       "tensor([[-0.6779, -1.7098],\n",
       "        [ 0.7154, -0.7247],\n",
       "        [ 0.2474, -1.3859],\n",
       "        [ 0.2924, -0.7104],\n",
       "        [ 5.0000, -0.0143],\n",
       "        [ 3.1273,  2.1221],\n",
       "        [ 0.0910,  1.3840],\n",
       "        [-1.2326,  1.3635],\n",
       "        [-0.8235,  2.5842],\n",
       "        [-0.6824, -0.7968],\n",
       "        [ 0.6704,  1.3851]])"
      ]
     },
     "execution_count": 147,
     "metadata": {},
     "output_type": "execute_result"
    }
   ],
   "source": [
    "flow"
   ]
  },
  {
   "cell_type": "code",
   "execution_count": 145,
   "metadata": {},
   "outputs": [
    {
     "data": {
      "text/plain": [
       "tensor([[ 379.2431, 1100.8765],\n",
       "        [ 379.9210, 1102.5863],\n",
       "        [ 379.2056, 1103.3110],\n",
       "        [ 378.9582, 1104.6969],\n",
       "        [ 378.6657, 1105.4073],\n",
       "        [ 373.6657, 1105.4216],\n",
       "        [ 370.5384, 1103.2996],\n",
       "        [ 370.4474, 1101.9155],\n",
       "        [ 371.6800, 1100.5520],\n",
       "        [ 372.5035, 1097.9678],\n",
       "        [ 373.1859, 1098.7645],\n",
       "        [ 372.5155, 1097.3794]])"
      ]
     },
     "execution_count": 145,
     "metadata": {},
     "output_type": "execute_result"
    }
   ],
   "source": [
    "keypoints"
   ]
  },
  {
   "cell_type": "code",
   "execution_count": 146,
   "metadata": {},
   "outputs": [
    {
     "data": {
      "image/png": "[encoded data removed]",
      "text/plain": [
       "<Figure size 640x480 with 2 Axes>"
      ]
     },
     "metadata": {},
     "output_type": "display_data"
    }
   ],
   "source": [
    "from torch.nn import functional as F\n",
    "\n",
    "i,j = np.meshgrid(np.arange(480, dtype=np.float32), np.arange(270, dtype=np.float32))\n",
    "\n",
    "u = flowmap[0,0]\n",
    "v = flowmap[0,1]\n",
    "\n",
    "# flowmap_normalized = F.normalize(flowmap, dim=1)\n",
    "# u = flowmap_normalized[0,0]\n",
    "# v = flowmap_normalized[0,1]\n",
    "\n",
    "u_vis = torch.zeros_like(u, requires_grad=False)\n",
    "v_vis = torch.zeros_like(v, requires_grad=False)\n",
    "# u_vis[::10, ::10] = u[::10, ::10]\n",
    "# v_vis[::10, ::10] = v[::10, ::10]\n",
    "\n",
    "plt.subplot(121)\n",
    "plt.imshow(heatmap[0][5])\n",
    "plt.subplot(122)\n",
    "plt.imshow(heatmap[1][5])\n",
    "\n",
    "uu = u * heatmap[1][5]\n",
    "vv = v * heatmap[1][5]\n",
    "r, w = 10, 10\n",
    "# plt.quiver(i,j,uu,vv, scale=5)\n",
    "plt.quiver(i[::r, ::w],j[::r, ::w],uu[::r, ::w],vv[::r, ::w])\n",
    "\n",
    "plt.show()\n",
    "\n",
    "# plt.quiver(i,j,u_vis,v_vis)\n",
    "# plt.show()"
   ]
  },
  {
   "cell_type": "code",
   "execution_count": 121,
   "metadata": {},
   "outputs": [
    {
     "data": {
      "text/plain": [
       "tensor([[0., 0., 0.,  ..., 0., 0., 0.],\n",
       "        [0., 0., 0.,  ..., 0., 0., 0.],\n",
       "        [0., 0., 0.,  ..., 0., 0., 0.],\n",
       "        ...,\n",
       "        [0., 0., 0.,  ..., 0., 0., 0.],\n",
       "        [0., 0., 0.,  ..., 0., 0., 0.],\n",
       "        [0., 0., 0.,  ..., 0., 0., 0.]])"
      ]
     },
     "execution_count": 121,
     "metadata": {},
     "output_type": "execute_result"
    }
   ],
   "source": [
    "u * heatmap[1][5]"
   ]
  },
  {
   "cell_type": "code",
   "execution_count": 66,
   "metadata": {},
   "outputs": [
    {
     "data": {
      "text/plain": [
       "tensor([[ 0.6779,  1.7098],\n",
       "        [-0.7154,  0.7247],\n",
       "        [-0.2474,  1.3859],\n",
       "        [-0.2924,  0.7104],\n",
       "        [-5.0000,  0.0143],\n",
       "        [-3.1273, -2.1221],\n",
       "        [-0.0910, -1.3840],\n",
       "        [ 1.2326, -1.3635],\n",
       "        [ 0.8235, -2.5842],\n",
       "        [ 0.6824,  0.7968],\n",
       "        [-0.6704, -1.3851]])"
      ]
     },
     "execution_count": 66,
     "metadata": {},
     "output_type": "execute_result"
    }
   ],
   "source": [
    "flow"
   ]
  },
  {
   "cell_type": "code",
   "execution_count": null,
   "metadata": {},
   "outputs": [],
   "source": [
    "flowmap "
   ]
  },
  {
   "cell_type": "code",
   "execution_count": 65,
   "metadata": {},
   "outputs": [
    {
     "data": {
      "text/plain": [
       "torch.Size([12, 17, 270, 480])"
      ]
     },
     "execution_count": 65,
     "metadata": {},
     "output_type": "execute_result"
    }
   ],
   "source": [
    "heatmap.shape"
   ]
  },
  {
   "cell_type": "code",
   "execution_count": 12,
   "metadata": {},
   "outputs": [
    {
     "data": {
      "text/plain": [
       "tensor(0.4731)"
      ]
     },
     "execution_count": 12,
     "metadata": {},
     "output_type": "execute_result"
    }
   ],
   "source": [
    "optical_flow[0][0][0]"
   ]
  },
  {
   "cell_type": "code",
   "execution_count": 41,
   "metadata": {},
   "outputs": [
    {
     "name": "stdout",
     "output_type": "stream",
     "text": [
      "torch.Size([11, 17, 1, 270, 480]) (270, 480)\n"
     ]
    },
    {
     "data": {
      "image/png": "[encoded data removed]",
      "text/plain": [
       "<Figure size 640x480 with 2 Axes>"
      ]
     },
     "metadata": {},
     "output_type": "display_data"
    },
    {
     "data": {
      "image/png": "[encoded data removed]",
      "text/plain": [
       "<Figure size 640x480 with 2 Axes>"
      ]
     },
     "metadata": {},
     "output_type": "display_data"
    },
    {
     "data": {
      "image/png": "[encoded data removed]",
      "text/plain": [
       "<Figure size 640x480 with 2 Axes>"
      ]
     },
     "metadata": {},
     "output_type": "display_data"
    },
    {
     "data": {
      "image/png": "[encoded data removed]",
      "text/plain": [
       "<Figure size 640x480 with 2 Axes>"
      ]
     },
     "metadata": {},
     "output_type": "display_data"
    },
    {
     "data": {
      "image/png": "[encoded data removed]",
      "text/plain": [
       "<Figure size 640x480 with 2 Axes>"
      ]
     },
     "metadata": {},
     "output_type": "display_data"
    },
    {
     "data": {
      "image/png": "[encoded data removed]",
      "text/plain": [
       "<Figure size 640x480 with 2 Axes>"
      ]
     },
     "metadata": {},
     "output_type": "display_data"
    },
    {
     "data": {
      "image/png": "[encoded data removed]",
      "text/plain": [
       "<Figure size 640x480 with 2 Axes>"
      ]
     },
     "metadata": {},
     "output_type": "display_data"
    },
    {
     "data": {
      "image/png": "[encoded data removed]",
      "text/plain": [
       "<Figure size 640x480 with 2 Axes>"
      ]
     },
     "metadata": {},
     "output_type": "display_data"
    },
    {
     "data": {
      "image/png": "[encoded data removed]",
      "text/plain": [
       "<Figure size 640x480 with 2 Axes>"
      ]
     },
     "metadata": {},
     "output_type": "display_data"
    },
    {
     "data": {
      "image/png": "[encoded data removed]",
      "text/plain": [
       "<Figure size 640x480 with 2 Axes>"
      ]
     },
     "metadata": {},
     "output_type": "display_data"
    },
    {
     "data": {
      "image/png": "[encoded data removed]",
      "text/plain": [
       "<Figure size 640x480 with 2 Axes>"
      ]
     },
     "metadata": {},
     "output_type": "display_data"
    }
   ],
   "source": [
    "flow_viz(heatmap=heatmap, optical_flow=optical_flow)"
   ]
  },
  {
   "cell_type": "code",
   "execution_count": 18,
   "metadata": {},
   "outputs": [],
   "source": [
    "def heatmap_viz(heatmap):\n",
    "\n",
    "    heatmap_vis = heatmap.sum(dim=1)\n",
    "    \n",
    "    for i in range(len(heatmap)):\n",
    "        # tmp_heatmap = torch.zeros(heatmap.shape[2:4])\n",
    "        # for j in range(len(heatmap[i])):\n",
    "        #     tmp_heatmap += heatmap[i][j]\n",
    "            # if j == 0:\n",
    "            #     tmp_heatmap = heatmap[i][j]\n",
    "            # else:\n",
    "            #     tmp_heatmap += heatmap[i][j]\n",
    "        \n",
    "        # plt.imshow(tmp_heatmap)\n",
    "        plt.imshow(heatmap_vis[i])\n",
    "        plt.show()"
   ]
  },
  {
   "cell_type": "code",
   "execution_count": null,
   "metadata": {},
   "outputs": [],
   "source": [
    "heatmap_viz(data_item['heatmap'])"
   ]
  },
  {
   "cell_type": "code",
   "execution_count": null,
   "metadata": {},
   "outputs": [],
   "source": [
    "heatmap_viz(data_item['heatmap'])"
   ]
  },
  {
   "cell_type": "code",
   "execution_count": 9,
   "metadata": {},
   "outputs": [],
   "source": [
    "heatmap = data_item['heatmap']"
   ]
  },
  {
   "cell_type": "code",
   "execution_count": 48,
   "metadata": {},
   "outputs": [
    {
     "name": "stdout",
     "output_type": "stream",
     "text": [
      "tensor(6.4601)\n",
      "tensor(2.5916)\n"
     ]
    }
   ],
   "source": [
    "flow_1_0 = (heatmap[1] - heatmap[0]) * heatmap[1]\n",
    "x = flow_1_0[0].max(dim=1)[1].max()\n",
    "y = flow_1_0[0].max(dim=0)[1].max()\n",
    "flow_x = (flow_1_0[0] + x) * heatmap[1][0]\n",
    "flow_y = (flow_1_0[0] + y) * heatmap[1][0]\n",
    "print(flow_x.max())\n",
    "print(flow_y.max())"
   ]
  },
  {
   "cell_type": "code",
   "execution_count": 45,
   "metadata": {},
   "outputs": [
    {
     "data": {
      "text/plain": [
       "<matplotlib.image.AxesImage at 0x7f5e077b69c0>"
      ]
     },
     "execution_count": 45,
     "metadata": {},
     "output_type": "execute_result"
    },
    {
     "data": {
      "image/png": "[encoded data removed]",
      "text/plain": [
       "<Figure size 640x480 with 1 Axes>"
      ]
     },
     "metadata": {},
     "output_type": "display_data"
    }
   ],
   "source": [
    "plt.imshow(flow_x)"
   ]
  },
  {
   "cell_type": "code",
   "execution_count": 46,
   "metadata": {},
   "outputs": [
    {
     "data": {
      "text/plain": [
       "<matplotlib.image.AxesImage at 0x7f5e07842150>"
      ]
     },
     "execution_count": 46,
     "metadata": {},
     "output_type": "execute_result"
    },
    {
     "data": {
      "image/png": "[encoded data removed]",
      "text/plain": [
       "<Figure size 640x480 with 1 Axes>"
      ]
     },
     "metadata": {},
     "output_type": "display_data"
    }
   ],
   "source": [
    "plt.imshow(flow_y)"
   ]
  },
  {
   "cell_type": "code",
   "execution_count": null,
   "metadata": {},
   "outputs": [
    {
     "name": "stdout",
     "output_type": "stream",
     "text": [
      "anchor_c0 torch.Size([1, 25, 12])\n",
      "anchor_aug_c0 torch.Size([1, 27, 12])\n",
      "semi_positives_c0 torch.Size([10, 41, 12])\n",
      "anchor_c1 torch.Size([1, 25, 4])\n",
      "anchor_aug_c1 torch.Size([1, 27, 4])\n",
      "semi_positives_c1 torch.Size([10, 41, 4])\n",
      "anchor_c2 torch.Size([1, 25, 4])\n",
      "anchor_aug_c2 torch.Size([1, 27, 4])\n",
      "semi_positives_c2 torch.Size([10, 41, 4])\n",
      "anchor_c3 torch.Size([1, 25, 4])\n",
      "anchor_aug_c3 torch.Size([1, 27, 4])\n",
      "semi_positives_c3 torch.Size([10, 41, 4])\n",
      "anchor_c4 torch.Size([1, 25, 4])\n",
      "anchor_aug_c4 torch.Size([1, 27, 4])\n",
      "semi_positives_c4 torch.Size([10, 41, 4])\n"
     ]
    }
   ],
   "source": [
    "for i in range(5):\n",
    "    print(f\"anchor_c{i}\", data_item[f\"anchor_c{i}\"].shape)\n",
    "    print(f\"anchor_aug_c{i}\", data_item[f\"anchor_aug_c{i}\"].shape)\n",
    "    print(f\"semi_positives_c{i}\", data_item[f\"semi_positives_c{i}\"].shape)"
   ]
  },
  {
   "cell_type": "code",
   "execution_count": 26,
   "metadata": {},
   "outputs": [],
   "source": [
    "import os"
   ]
  },
  {
   "cell_type": "code",
   "execution_count": 29,
   "metadata": {},
   "outputs": [],
   "source": [
    "def visualize_keypoint(c0, c1, c2, c3, c4, a):\n",
    "    __, K, D = c0.shape\n",
    "    os.mkdir('test/semi/'+a.split('/')[-1].split('.')[0])\n",
    "    \n",
    "    neck_keypoint = np.array([5.0, 5.0]).reshape(1, 1, 2)\n",
    "    neck_keypoint = np.tile(neck_keypoint, [1, K, 1])\n",
    "    \n",
    "    nose = c0[:, :, :2] + neck_keypoint\n",
    "    left_shoulder = c0[:, :, 2:4] + neck_keypoint\n",
    "    right_shoulder = c0[:, :, 4:6] + neck_keypoint\n",
    "    mid_hip = c0[:, :, 6:8] + neck_keypoint\n",
    "    left_hip = c0[:, :, 8:10] + mid_hip\n",
    "    right_hip = c0[:, :, 10:12] + mid_hip\n",
    "\n",
    "    left_elbow = c1[:, :, 0:2]  + left_shoulder\n",
    "    left_wrist = c1[:, :, 2:4] + left_elbow\n",
    "\n",
    "    right_elbow = c2[:, :, 0:2]  + right_shoulder\n",
    "    right_wrist = c2[:, :, 2:4] + right_elbow\n",
    "\n",
    "    left_knee = c3[:, :, 0:2] + left_hip\n",
    "    left_ankle = c3[:, :, 2:4] + left_knee\n",
    "\n",
    "    right_knee = c4[:, :, 0:2] + right_hip\n",
    "    right_ankle = c4[:, :, 2:4] + right_knee\n",
    "\n",
    "    restored_keypoints = np.stack([\n",
    "        nose,\n",
    "        neck_keypoint,\n",
    "        left_shoulder,\n",
    "        right_ankle,\n",
    "        mid_hip,\n",
    "        left_hip,\n",
    "        right_hip,\n",
    "        left_elbow,\n",
    "        left_wrist,\n",
    "        right_elbow,\n",
    "        right_wrist,\n",
    "        left_knee,\n",
    "        left_ankle,\n",
    "        right_knee,\n",
    "        right_ankle\n",
    "    ], axis=-2)\n",
    "\n",
    "    print(restored_keypoints.shape)\n",
    "    print(restored_keypoints.max(), restored_keypoints.min())\n",
    "\n",
    "    for frame_index in range(restored_keypoints.shape[1]):\n",
    "        canvas = np.zeros((10, 10))\n",
    "\n",
    "        fig, ax = plt.subplots(1, 1)\n",
    "        ax.imshow(canvas)\n",
    "\n",
    "        for keypoint_index in range(restored_keypoints.shape[2]):\n",
    "            ax.add_patch(patches.Circle(\n",
    "                [restored_keypoints[0, frame_index, keypoint_index][1], restored_keypoints[0, frame_index, keypoint_index][0]],\n",
    "                radius=0.1,\n",
    "                fill=True,\n",
    "                color=\"red\"\n",
    "            ))\n",
    "        \n",
    "        fn = 'test/semi/'+a.split('/')[-1].split('.')[0]+'/'+str(frame_index)\n",
    "        plt.savefig(fn)\n",
    "        plt.show()"
   ]
  },
  {
   "cell_type": "code",
   "execution_count": 10,
   "metadata": {},
   "outputs": [],
   "source": [
    "def test_anchor(index):\n",
    "    data_item = dataset[index]\n",
    "    visualize_keypoint(\n",
    "        *[data_item[f\"anchor_c{i}\"] for i in range(5)]\n",
    "    )"
   ]
  },
  {
   "cell_type": "code",
   "execution_count": 30,
   "metadata": {},
   "outputs": [],
   "source": [
    "def test_anchor_aug(index):\n",
    "    a, data_item = dataset[index]\n",
    "    visualize_keypoint(\n",
    "        *[data_item[f\"anchor_aug_c{i}\"] for i in range(5)], a\n",
    "    )\n",
    "    print(a)"
   ]
  },
  {
   "cell_type": "code",
   "execution_count": 32,
   "metadata": {},
   "outputs": [
    {
     "name": "stderr",
     "output_type": "stream",
     "text": [
      "2024-05-17 11:44:36.319846: I tensorflow/core/platform/cpu_feature_guard.cc:210] This TensorFlow binary is optimized to use available CPU instructions in performance-critical operations.\n",
      "To enable the following instructions: AVX2 FMA, in other operations, rebuild TensorFlow with the appropriate compiler flags.\n",
      "2024-05-17 11:44:37.320175: W tensorflow/compiler/tf2tensorrt/utils/py_utils.cc:38] TF-TRT Warning: Could not find TensorRT\n"
     ]
    }
   ],
   "source": [
    "import tensorflow as tf"
   ]
  },
  {
   "cell_type": "code",
   "execution_count": 33,
   "metadata": {},
   "outputs": [],
   "source": [
    "def test_semi(index):\n",
    "    a, data_item = dataset[index]\n",
    "    for j in range(len(a)):\n",
    "        visualize_keypoint(\n",
    "            *[data_item[f\"semi_positives_c{i}\"][j][tf.newaxis,:,:] for i in range(5)], a[j]\n",
    "        )\n",
    "        print(a[j])"
   ]
  },
  {
   "cell_type": "code",
   "execution_count": 20,
   "metadata": {},
   "outputs": [
    {
     "name": "stdout",
     "output_type": "stream",
     "text": [
      "['dataset/a073_kp/S026C002P077R002A073_rgb_kp.json', 'dataset/a073_kp/S023C003P066R002A073_rgb_kp.json', 'dataset/a073_kp/S025C001P055R001A073_rgb_kp.json', 'dataset/a073_kp/S027C003P006R002A073_rgb_kp.json', 'dataset/a073_kp/S030C002P041R001A073_rgb_kp.json', 'dataset/a073_kp/S026C001P044R002A073_rgb_kp.json', 'dataset/a073_kp/S024C002P064R001A073_rgb_kp.json', 'dataset/a073_kp/S029C001P075R001A073_rgb_kp.json', 'dataset/a073_kp/S020C002P053R002A073_rgb_kp.json', 'dataset/a073_kp/S030C003P044R002A073_rgb_kp.json']\n"
     ]
    }
   ],
   "source": [
    "a, data_item = dataset[0]\n",
    "print(a)"
   ]
  },
  {
   "cell_type": "code",
   "execution_count": 7,
   "metadata": {},
   "outputs": [
    {
     "data": {
      "text/plain": [
       "('dataset/a073_kp/S028C002P087R001A073_rgb_kp.json',\n",
       " 'dataset/a073_kp/S030C002P075R001A073_rgb_kp.json',\n",
       " 'dataset/a046_kp/S007C003P007R001A046_rgb_kp.json',\n",
       " 'dataset/a084_kp/S028C001P070R002A084_rgb_kp.json',\n",
       " 'dataset/a103_kp/S018C002P008R001A103_rgb_kp.json')"
      ]
     },
     "execution_count": 7,
     "metadata": {},
     "output_type": "execute_result"
    }
   ],
   "source": [
    "dataset.all_data_dir_list[0], dataset.all_data_dir_list[90], dataset.all_data_dir_list[2345], dataset.all_data_dir_list[10201], dataset.all_data_dir_list[56704]"
   ]
  },
  {
   "cell_type": "code",
   "execution_count": null,
   "metadata": {},
   "outputs": [],
   "source": [
    "test_semi(3444)"
   ]
  },
  {
   "cell_type": "code",
   "execution_count": 3,
   "metadata": {},
   "outputs": [],
   "source": [
    "import os\n",
    "import numpy as np\n",
    "import json\n",
    "import torch\n",
    "import math"
   ]
  },
  {
   "cell_type": "code",
   "execution_count": 2,
   "metadata": {},
   "outputs": [],
   "source": [
    "def extract_keypoints_from_a_json(origin_vid_dir):\n",
    "    with open(origin_vid_dir, \"r\") as f:\n",
    "        origin_keypoints = json.load(f)\n",
    "\n",
    "    origin_keypoints_anno = origin_keypoints['annotations']\n",
    "    origin_tmp_list = []\n",
    "    for frame_data in origin_keypoints_anno:\n",
    "        if frame_data:\n",
    "            keypoints_list = [frame_data[key] for key in frame_data if frame_data[key]]\n",
    "            if keypoints_list:\n",
    "                origin_tmp_list.extend(keypoints_list)\n",
    "\n",
    "    # # Nonetype error 발생하는 듯\n",
    "    # if not origin_tmp_list:\n",
    "    #     return None\n",
    "\n",
    "    # reshape x\n",
    "    origin_anchor_keypoints = np.array(origin_tmp_list)[:,:,[0,1]]\n",
    "    return origin_anchor_keypoints"
   ]
  },
  {
   "cell_type": "code",
   "execution_count": 44,
   "metadata": {},
   "outputs": [],
   "source": [
    "def gaussian(points, h, w , sigma):\n",
    "    x = points[:,[1]][0]\n",
    "    y = points[:,[0]][0]\n",
    "    channel = [np.exp(-((w - x) ** 2 + (h - y) ** 2) / (2 * sigma ** 2))]\n",
    "    # channel = np.reshape(channel, newshape=(h,w))\n",
    "    return channel"
   ]
  },
  {
   "cell_type": "code",
   "execution_count": 45,
   "metadata": {},
   "outputs": [
    {
     "name": "stdout",
     "output_type": "stream",
     "text": [
      "[array([0.])]\n"
     ]
    }
   ],
   "source": [
    "data = extract_keypoints_from_a_json('dataset/a001_kp/S001C001P001R001A001_rgb_kp.json')\n",
    "points = data.reshape(-1,2)\n",
    "\n",
    "h = 1080\n",
    "w = 1920\n",
    "\n",
    "sigma = 5\n",
    "\n",
    "channel = gaussian(points, h, w, sigma)\n",
    "\n",
    "print(channel)\n",
    "\n",
    "# x_points = x.reshape(-1,)\n",
    "# y_points = y.reshape(-1,)\n",
    "\n",
    "# x_gau = gaussian(x_points, mean, sigma)\n",
    "# mu_x = 0.5 * (x + 1.) * w\n",
    "# mu_y = 0.5 * (y + 1.) * h\n",
    "\n",
    "# tmp_size = sigma * 3\n",
    "\n",
    "# x1, y1 = mu_x - tmp_size, mu_y - tmp_size\n",
    "\n",
    "# print(x_gau)"
   ]
  },
  {
   "cell_type": "code",
   "execution_count": null,
   "metadata": {},
   "outputs": [],
   "source": [
    "# N, H, W = 12, 10, 10\n",
    "# landmarks = torch.randint(0, H, (N, 2))\n",
    "\n",
    "# tmp = torch.zeros(N, 3, H, W)\n",
    "# rows, cols = landmarks.split(1, 1)\n",
    "# tmp[torch.arange(N), :, rows, cols] = 1.\n",
    "\n",
    "# image = torch.randn(N, 3, H, W)\n",
    "# image = torch.cat((image, tmp), 1)\n",
    "# print(image.shape)\n",
    "# > torch.Size([12, 6, 10, 10])"
   ]
  },
  {
   "cell_type": "markdown",
   "metadata": {},
   "source": [
    "np.transpose()"
   ]
  },
  {
   "cell_type": "code",
   "execution_count": 52,
   "metadata": {},
   "outputs": [
    {
     "name": "stdout",
     "output_type": "stream",
     "text": [
      "[[  0   1   2 ... 253 254 255]\n",
      " [  0   1   2 ... 253 254 255]\n",
      " [  0   1   2 ... 253 254 255]\n",
      " ...\n",
      " [  0   1   2 ... 253 254 255]\n",
      " [  0   1   2 ... 253 254 255]\n",
      " [  0   1   2 ... 253 254 255]]\n"
     ]
    }
   ],
   "source": [
    "kp = (100, 150) # W,H\n",
    "kp2 = (100, 180)\n",
    "H = np.tile(np.arange(256), 256).reshape(256,256).T\n",
    "W = np.tile(np.arange(256), 256).reshape(256,256)\n",
    "\n",
    "std = 5\n",
    "x_gauss = 1/(np.sqrt(2*np.pi)*std) * np.exp(-0.5*((H-kp[1])/std)**2) \n",
    "y_gauss = 1/(np.sqrt(2*np.pi)*std) * np.exp(-0.5*((W-kp[0])/std)**2)\n",
    "frame1 = 1000*(x_gauss * y_gauss)\n",
    "\n",
    "print(W)"
   ]
  },
  {
   "cell_type": "code",
   "execution_count": 53,
   "metadata": {},
   "outputs": [],
   "source": [
    "def extract_keypoints_from_a_json(origin_vid_dir):\n",
    "    with open(origin_vid_dir, \"r\") as f:\n",
    "        origin_keypoints = json.load(f)\n",
    "\n",
    "    origin_keypoints_anno = origin_keypoints['annotations']\n",
    "    origin_tmp_list = []\n",
    "    for frame_data in origin_keypoints_anno:\n",
    "        if frame_data:\n",
    "            keypoints_list = [frame_data[key] for key in frame_data if frame_data[key]]\n",
    "            if keypoints_list:\n",
    "                origin_tmp_list.extend(keypoints_list)\n",
    "\n",
    "    # # Nonetype error 발생하는 듯\n",
    "    # if not origin_tmp_list:\n",
    "    #     return None\n",
    "\n",
    "    # reshape x\n",
    "    origin_anchor_keypoints = np.array(origin_tmp_list)[:,:,[0,1]]\n",
    "    return origin_anchor_keypoints"
   ]
  },
  {
   "cell_type": "code",
   "execution_count": 7,
   "metadata": {},
   "outputs": [
    {
     "name": "stdout",
     "output_type": "stream",
     "text": [
      "[[   0    0    0 ...    0    0    0]\n",
      " [   1    1    1 ...    1    1    1]\n",
      " [   2    2    2 ...    2    2    2]\n",
      " ...\n",
      " [1077 1077 1077 ... 1077 1077 1077]\n",
      " [1078 1078 1078 ... 1078 1078 1078]\n",
      " [1079 1079 1079 ... 1079 1079 1079]]\n",
      "(1080, 1080)\n",
      "(1920, 1920)\n"
     ]
    },
    {
     "ename": "ValueError",
     "evalue": "operands could not be broadcast together with shapes (1080,1080) (1920,1920) ",
     "output_type": "error",
     "traceback": [
      "\u001b[0;31m---------------------------------------------------------------------------\u001b[0m",
      "\u001b[0;31mValueError\u001b[0m                                Traceback (most recent call last)",
      "Cell \u001b[0;32mIn[7], line 24\u001b[0m\n\u001b[1;32m     22\u001b[0m x_gauss \u001b[38;5;241m=\u001b[39m \u001b[38;5;241m1\u001b[39m\u001b[38;5;241m/\u001b[39m(np\u001b[38;5;241m.\u001b[39msqrt(\u001b[38;5;241m2\u001b[39m\u001b[38;5;241m*\u001b[39mnp\u001b[38;5;241m.\u001b[39mpi)\u001b[38;5;241m*\u001b[39mstd) \u001b[38;5;241m*\u001b[39m np\u001b[38;5;241m.\u001b[39mexp(\u001b[38;5;241m-\u001b[39m\u001b[38;5;241m0.5\u001b[39m\u001b[38;5;241m*\u001b[39m((H\u001b[38;5;241m-\u001b[39mx)\u001b[38;5;241m/\u001b[39mstd)\u001b[38;5;241m*\u001b[39m\u001b[38;5;241m*\u001b[39m\u001b[38;5;241m2\u001b[39m) \n\u001b[1;32m     23\u001b[0m y_gauss \u001b[38;5;241m=\u001b[39m \u001b[38;5;241m1\u001b[39m\u001b[38;5;241m/\u001b[39m(np\u001b[38;5;241m.\u001b[39msqrt(\u001b[38;5;241m2\u001b[39m\u001b[38;5;241m*\u001b[39mnp\u001b[38;5;241m.\u001b[39mpi)\u001b[38;5;241m*\u001b[39mstd) \u001b[38;5;241m*\u001b[39m np\u001b[38;5;241m.\u001b[39mexp(\u001b[38;5;241m-\u001b[39m\u001b[38;5;241m0.5\u001b[39m\u001b[38;5;241m*\u001b[39m((W\u001b[38;5;241m-\u001b[39my)\u001b[38;5;241m/\u001b[39mstd)\u001b[38;5;241m*\u001b[39m\u001b[38;5;241m*\u001b[39m\u001b[38;5;241m2\u001b[39m)\n\u001b[0;32m---> 24\u001b[0m frame1 \u001b[38;5;241m=\u001b[39m \u001b[38;5;241m1000\u001b[39m\u001b[38;5;241m*\u001b[39m(x_gauss \u001b[38;5;241m*\u001b[39m y_gauss)\n",
      "\u001b[0;31mValueError\u001b[0m: operands could not be broadcast together with shapes (1080,1080) (1920,1920) "
     ]
    }
   ],
   "source": [
    "import numpy as np\n",
    "import json\n",
    "\n",
    "data = extract_keypoints_from_a_json('dataset/a001_kp/S001C001P001R001A001_rgb_kp.json')\n",
    "points = data.reshape(-1,2)\n",
    "x_points = points[:,[0]]\n",
    "y_points = points[:,[1]]\n",
    "\n",
    "h = 1080\n",
    "w = 1920\n",
    "# w = 1920*(1080/1920)\n",
    "\n",
    "H = np.tile(np.arange(h), h).reshape(h,h).T\n",
    "print(H)\n",
    "print(H.shape)\n",
    "W = np.tile(np.arange(w), w).reshape(w,w)\n",
    "print(W.shape)\n",
    "\n",
    "std = 5\n",
    "x = x_points[0]\n",
    "y = y_points[0]*(1080/1920)\n",
    "x_gauss = 1/(np.sqrt(2*np.pi)*std) * np.exp(-0.5*((H-x)/std)**2) \n",
    "y_gauss = 1/(np.sqrt(2*np.pi)*std) * np.exp(-0.5*((W-y)/std)**2)\n",
    "frame1 = 1000*(x_gauss * y_gauss)\n"
   ]
  },
  {
   "cell_type": "code",
   "execution_count": 1,
   "metadata": {},
   "outputs": [
    {
     "ename": "NameError",
     "evalue": "name 'extract_keypoints_from_a_json' is not defined",
     "output_type": "error",
     "traceback": [
      "\u001b[0;31m---------------------------------------------------------------------------\u001b[0m",
      "\u001b[0;31mNameError\u001b[0m                                 Traceback (most recent call last)",
      "Cell \u001b[0;32mIn[1], line 7\u001b[0m\n\u001b[1;32m      4\u001b[0m \u001b[38;5;28;01mimport\u001b[39;00m \u001b[38;5;21;01mjson\u001b[39;00m\n\u001b[1;32m      5\u001b[0m \u001b[38;5;28;01mfrom\u001b[39;00m \u001b[38;5;21;01mPIL\u001b[39;00m \u001b[38;5;28;01mimport\u001b[39;00m Image\n\u001b[0;32m----> 7\u001b[0m data \u001b[38;5;241m=\u001b[39m extract_keypoints_from_a_json(\u001b[38;5;124m'\u001b[39m\u001b[38;5;124mdataset/a001_kp/S001C001P001R001A001_rgb_kp.json\u001b[39m\u001b[38;5;124m'\u001b[39m)\n\u001b[1;32m      8\u001b[0m points \u001b[38;5;241m=\u001b[39m data\u001b[38;5;241m.\u001b[39mreshape(\u001b[38;5;241m-\u001b[39m\u001b[38;5;241m1\u001b[39m,\u001b[38;5;241m2\u001b[39m)\n\u001b[1;32m      9\u001b[0m x_points \u001b[38;5;241m=\u001b[39m points[:,[\u001b[38;5;241m0\u001b[39m]]\n",
      "\u001b[0;31mNameError\u001b[0m: name 'extract_keypoints_from_a_json' is not defined"
     ]
    }
   ],
   "source": [
    "import matplotlib.pyplot as plt\n",
    "import seaborn as sns\n",
    "import numpy as np\n",
    "import json\n",
    "from PIL import Image\n",
    "\n",
    "data = extract_keypoints_from_a_json('dataset/a001_kp/S001C001P001R001A001_rgb_kp.json')\n",
    "points = data.reshape(-1,2)\n",
    "x_points = points[:,[0]]\n",
    "y_points = points[:,[1]]\n",
    "\n",
    "h = 1080\n",
    "w = 1920\n",
    "# w = 1920*(1080/1920)\n",
    "\n",
    "H = np.tile(np.arange(h)[:, None], (h, w))\n",
    "print(H)\n",
    "print(H.shape)\n",
    "W = np.tile(np.arange(w)[None, :], (h, w))\n",
    "\n",
    "std = 5\n",
    "\n",
    "# org_image = Image.open('frame0.jpg')\n",
    "# resized_image = org_image.resize((int(w), h))\n",
    "\n",
    "for i in range(17):\n",
    "    x = x_points[i]\n",
    "    y = y_points[i]\n",
    "    # y = y_points[i]*(1080/1920)\n",
    "    x_gauss = 1/(np.sqrt(2*np.pi)*std) * np.exp(-0.5*((H-x)/std)**2) \n",
    "    y_gauss = 1/(np.sqrt(2*np.pi)*std) * np.exp(-0.5*((W-y)/std)**2)\n",
    "    frame = (x_gauss * y_gauss)\n",
    "\n",
    "    # plt.imshow(resized_image)\n",
    "    # plt.imshow(frame, alpha = 0.6, cmap = 'viridis')\n",
    "    plt.imshow(frame)\n",
    "    plt.savefig(f'heatmap/A001{i}.png', bbox_inches='tight', pad_inches=0)\n",
    "    # overlap = frame * 0.4 + resized_image\n",
    "\n",
    "    # overlap_pil = Image.fromarray(overlap)\n",
    "    # overlap_pil.show()\n",
    "\n",
    "    # overlap_pil.save(f'overlap/frame{i}.png','png')\n",
    "\n",
    "    # ax = sns.heatmap(overlap)\n",
    "    # plt.show()\n"
   ]
  },
  {
   "cell_type": "code",
   "execution_count": null,
   "metadata": {},
   "outputs": [],
   "source": []
  }
 ],
 "metadata": {
  "kernelspec": {
   "display_name": "Python 3 (ipykernel)",
   "language": "python",
   "name": "python3"
  },
  "language_info": {
   "codemirror_mode": {
    "name": "ipython",
    "version": 3
   },
   "file_extension": ".py",
   "mimetype": "text/x-python",
   "name": "python",
   "nbconvert_exporter": "python",
   "pygments_lexer": "ipython3",
   "version": "3.12.3"
  }
 },
 "nbformat": 4,
 "nbformat_minor": 4
}
