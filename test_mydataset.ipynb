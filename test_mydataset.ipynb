{
 "cells": [
  {
   "cell_type": "code",
   "execution_count": null,
   "metadata": {},
   "outputs": [],
   "source": [
    "!pwd"
   ]
  },
  {
   "cell_type": "code",
   "execution_count": null,
   "metadata": {},
   "outputs": [],
   "source": []
  },
  {
   "cell_type": "code",
   "execution_count": 79,
   "metadata": {},
   "outputs": [],
   "source": [
    "import torch\n",
    "import matplotlib.pylab as plt\n",
    "import matplotlib.patches as patches\n",
    "import numpy as np\n",
    "from utils.mydataset import MyDataset"
   ]
  },
  {
   "cell_type": "code",
   "execution_count": null,
   "metadata": {},
   "outputs": [],
   "source": [
    "data_dir = 'dataset'\n",
    "dataset = MyDataset(data_dir=data_dir)"
   ]
  },
  {
   "cell_type": "code",
   "execution_count": 99,
   "metadata": {},
   "outputs": [],
   "source": [
    "dataset = MyDataset(data_dir = 'adjusted_100_dataset')"
   ]
  },
  {
   "cell_type": "code",
   "execution_count": 96,
   "metadata": {},
   "outputs": [
    {
     "data": {
      "text/plain": [
       "['adjusted_100_dataset/a073_kp/S028C002P087R001A073_rgb_kp.json',\n",
       " 'adjusted_100_dataset/a073_kp/S027C001P080R001A073_rgb_kp.json',\n",
       " 'adjusted_100_dataset/a073_kp/S031C003P067R002A073_rgb_kp.json',\n",
       " 'adjusted_100_dataset/a073_kp/S028C001P073R002A073_rgb_kp.json',\n",
       " 'adjusted_100_dataset/a073_kp/S026C002P008R001A073_rgb_kp.json',\n",
       " 'adjusted_100_dataset/a073_kp/S030C003P075R002A073_rgb_kp.json',\n",
       " 'adjusted_100_dataset/a073_kp/S019C002P041R002A073_rgb_kp.json',\n",
       " 'adjusted_100_dataset/a073_kp/S029C003P067R002A073_rgb_kp.json',\n",
       " 'adjusted_100_dataset/a073_kp/S026C001P044R002A073_rgb_kp.json',\n",
       " 'adjusted_100_dataset/a073_kp/S026C003P050R002A073_rgb_kp.json',\n",
       " 'adjusted_100_dataset/a073_kp/S019C001P047R001A073_rgb_kp.json',\n",
       " 'adjusted_100_dataset/a073_kp/S023C003P060R002A073_rgb_kp.json',\n",
       " 'adjusted_100_dataset/a073_kp/S019C003P046R001A073_rgb_kp.json',\n",
       " 'adjusted_100_dataset/a073_kp/S018C002P041R002A073_rgb_kp.json',\n",
       " 'adjusted_100_dataset/a073_kp/S021C001P055R001A073_rgb_kp.json',\n",
       " 'adjusted_100_dataset/a073_kp/S030C001P044R002A073_rgb_kp.json',\n",
       " 'adjusted_100_dataset/a073_kp/S029C002P008R002A073_rgb_kp.json',\n",
       " 'adjusted_100_dataset/a073_kp/S029C001P048R002A073_rgb_kp.json',\n",
       " 'adjusted_100_dataset/a073_kp/S022C001P066R002A073_rgb_kp.json',\n",
       " 'adjusted_100_dataset/a073_kp/S020C001P041R001A073_rgb_kp.json',\n",
       " 'adjusted_100_dataset/a073_kp/S029C002P006R002A073_rgb_kp.json',\n",
       " 'adjusted_100_dataset/a073_kp/S027C001P079R002A073_rgb_kp.json',\n",
       " 'adjusted_100_dataset/a073_kp/S020C001P054R001A073_rgb_kp.json',\n",
       " 'adjusted_100_dataset/a073_kp/S030C002P076R002A073_rgb_kp.json',\n",
       " 'adjusted_100_dataset/a073_kp/S024C003P063R001A073_rgb_kp.json',\n",
       " 'adjusted_100_dataset/a073_kp/S026C002P069R001A073_rgb_kp.json',\n",
       " 'adjusted_100_dataset/a073_kp/S026C001P077R002A073_rgb_kp.json',\n",
       " 'adjusted_100_dataset/a073_kp/S032C002P043R002A073_rgb_kp.json',\n",
       " 'adjusted_100_dataset/a073_kp/S028C002P046R001A073_rgb_kp.json',\n",
       " 'adjusted_100_dataset/a073_kp/S024C003P067R001A073_rgb_kp.json',\n",
       " 'adjusted_100_dataset/a073_kp/S029C001P088R001A073_rgb_kp.json',\n",
       " 'adjusted_100_dataset/a073_kp/S031C001P101R002A073_rgb_kp.json',\n",
       " 'adjusted_100_dataset/a073_kp/S022C002P066R001A073_rgb_kp.json',\n",
       " 'adjusted_100_dataset/a073_kp/S027C001P081R002A073_rgb_kp.json',\n",
       " 'adjusted_100_dataset/a073_kp/S032C001P043R002A073_rgb_kp.json',\n",
       " 'adjusted_100_dataset/a073_kp/S025C002P055R002A073_rgb_kp.json',\n",
       " 'adjusted_100_dataset/a073_kp/S018C002P008R001A073_rgb_kp.json',\n",
       " 'adjusted_100_dataset/a073_kp/S019C001P047R002A073_rgb_kp.json',\n",
       " 'adjusted_100_dataset/a073_kp/S027C001P081R001A073_rgb_kp.json',\n",
       " 'adjusted_100_dataset/a073_kp/S021C002P059R002A073_rgb_kp.json',\n",
       " 'adjusted_100_dataset/a073_kp/S025C003P065R001A073_rgb_kp.json',\n",
       " 'adjusted_100_dataset/a073_kp/S021C002P055R002A073_rgb_kp.json',\n",
       " 'adjusted_100_dataset/a073_kp/S025C001P055R001A073_rgb_kp.json',\n",
       " 'adjusted_100_dataset/a073_kp/S029C001P008R002A073_rgb_kp.json',\n",
       " 'adjusted_100_dataset/a073_kp/S025C002P058R001A073_rgb_kp.json',\n",
       " 'adjusted_100_dataset/a073_kp/S031C001P008R001A073_rgb_kp.json',\n",
       " 'adjusted_100_dataset/a073_kp/S029C001P075R002A073_rgb_kp.json',\n",
       " 'adjusted_100_dataset/a073_kp/S026C002P049R002A073_rgb_kp.json',\n",
       " 'adjusted_100_dataset/a073_kp/S031C003P101R002A073_rgb_kp.json',\n",
       " 'adjusted_100_dataset/a073_kp/S020C002P054R002A073_rgb_kp.json',\n",
       " 'adjusted_100_dataset/a073_kp/S026C003P008R001A073_rgb_kp.json',\n",
       " 'adjusted_100_dataset/a073_kp/S028C003P048R001A073_rgb_kp.json',\n",
       " 'adjusted_100_dataset/a073_kp/S023C003P061R001A073_rgb_kp.json',\n",
       " 'adjusted_100_dataset/a073_kp/S026C001P051R002A073_rgb_kp.json',\n",
       " 'adjusted_100_dataset/a073_kp/S029C003P008R002A073_rgb_kp.json',\n",
       " 'adjusted_100_dataset/a073_kp/S025C003P068R001A073_rgb_kp.json',\n",
       " 'adjusted_100_dataset/a073_kp/S019C003P050R001A073_rgb_kp.json',\n",
       " 'adjusted_100_dataset/a073_kp/S032C001P106R001A073_rgb_kp.json',\n",
       " 'adjusted_100_dataset/a073_kp/S029C003P067R001A073_rgb_kp.json',\n",
       " 'adjusted_100_dataset/a073_kp/S022C003P066R001A073_rgb_kp.json',\n",
       " 'adjusted_100_dataset/a073_kp/S032C002P044R001A073_rgb_kp.json',\n",
       " 'adjusted_100_dataset/a073_kp/S026C001P075R001A073_rgb_kp.json',\n",
       " 'adjusted_100_dataset/a073_kp/S027C001P086R001A073_rgb_kp.json',\n",
       " 'adjusted_100_dataset/a073_kp/S030C002P075R002A073_rgb_kp.json',\n",
       " 'adjusted_100_dataset/a073_kp/S031C002P100R001A073_rgb_kp.json',\n",
       " 'adjusted_100_dataset/a073_kp/S029C001P090R002A073_rgb_kp.json',\n",
       " 'adjusted_100_dataset/a073_kp/S029C001P051R002A073_rgb_kp.json',\n",
       " 'adjusted_100_dataset/a073_kp/S031C001P044R002A073_rgb_kp.json',\n",
       " 'adjusted_100_dataset/a073_kp/S031C001P006R002A073_rgb_kp.json',\n",
       " 'adjusted_100_dataset/a073_kp/S023C001P055R002A073_rgb_kp.json',\n",
       " 'adjusted_100_dataset/a073_kp/S030C003P011R002A073_rgb_kp.json',\n",
       " 'adjusted_100_dataset/a073_kp/S031C002P043R001A073_rgb_kp.json',\n",
       " 'adjusted_100_dataset/a073_kp/S028C001P087R002A073_rgb_kp.json',\n",
       " 'adjusted_100_dataset/a073_kp/S023C002P065R002A073_rgb_kp.json',\n",
       " 'adjusted_100_dataset/a073_kp/S025C003P058R001A073_rgb_kp.json',\n",
       " 'adjusted_100_dataset/a073_kp/S019C003P008R002A073_rgb_kp.json',\n",
       " 'adjusted_100_dataset/a073_kp/S023C003P055R001A073_rgb_kp.json',\n",
       " 'adjusted_100_dataset/a073_kp/S031C001P006R001A073_rgb_kp.json',\n",
       " 'adjusted_100_dataset/a073_kp/S031C003P041R002A073_rgb_kp.json',\n",
       " 'adjusted_100_dataset/a073_kp/S021C001P056R002A073_rgb_kp.json',\n",
       " 'adjusted_100_dataset/a073_kp/S027C001P086R002A073_rgb_kp.json',\n",
       " 'adjusted_100_dataset/a073_kp/S026C001P069R002A073_rgb_kp.json',\n",
       " 'adjusted_100_dataset/a073_kp/S030C003P093R002A073_rgb_kp.json',\n",
       " 'adjusted_100_dataset/a073_kp/S030C003P048R001A073_rgb_kp.json',\n",
       " 'adjusted_100_dataset/a073_kp/S029C001P049R002A073_rgb_kp.json',\n",
       " 'adjusted_100_dataset/a073_kp/S030C002P085R002A073_rgb_kp.json',\n",
       " 'adjusted_100_dataset/a073_kp/S028C001P087R001A073_rgb_kp.json',\n",
       " 'adjusted_100_dataset/a073_kp/S023C003P057R001A073_rgb_kp.json',\n",
       " 'adjusted_100_dataset/a073_kp/S030C002P075R001A073_rgb_kp.json',\n",
       " 'adjusted_100_dataset/a073_kp/S028C003P041R001A073_rgb_kp.json',\n",
       " 'adjusted_100_dataset/a073_kp/S023C003P068R001A073_rgb_kp.json',\n",
       " 'adjusted_100_dataset/a073_kp/S023C002P063R002A073_rgb_kp.json',\n",
       " 'adjusted_100_dataset/a073_kp/S031C003P051R002A073_rgb_kp.json',\n",
       " 'adjusted_100_dataset/a073_kp/S024C001P057R001A073_rgb_kp.json',\n",
       " 'adjusted_100_dataset/a073_kp/S029C003P080R002A073_rgb_kp.json',\n",
       " 'adjusted_100_dataset/a073_kp/S030C001P041R002A073_rgb_kp.json',\n",
       " 'adjusted_100_dataset/a073_kp/S030C002P048R001A073_rgb_kp.json',\n",
       " 'adjusted_100_dataset/a073_kp/S029C002P051R001A073_rgb_kp.json',\n",
       " 'adjusted_100_dataset/a073_kp/S031C003P082R001A073_rgb_kp.json',\n",
       " 'adjusted_100_dataset/a073_kp/S026C002P071R002A073_rgb_kp.json',\n",
       " 'adjusted_100_dataset/a073_kp/S021C003P057R002A073_rgb_kp.json',\n",
       " 'adjusted_100_dataset/a073_kp/S023C002P064R001A073_rgb_kp.json',\n",
       " 'adjusted_100_dataset/a073_kp/S032C002P104R002A073_rgb_kp.json',\n",
       " 'adjusted_100_dataset/a073_kp/S023C002P056R001A073_rgb_kp.json',\n",
       " 'adjusted_100_dataset/a073_kp/S020C002P041R002A073_rgb_kp.json',\n",
       " 'adjusted_100_dataset/a073_kp/S023C001P063R001A073_rgb_kp.json',\n",
       " 'adjusted_100_dataset/a073_kp/S028C002P041R002A073_rgb_kp.json',\n",
       " 'adjusted_100_dataset/a073_kp/S026C001P072R002A073_rgb_kp.json',\n",
       " 'adjusted_100_dataset/a073_kp/S031C001P100R001A073_rgb_kp.json',\n",
       " 'adjusted_100_dataset/a073_kp/S026C002P041R002A073_rgb_kp.json',\n",
       " 'adjusted_100_dataset/a073_kp/S022C003P065R002A073_rgb_kp.json',\n",
       " 'adjusted_100_dataset/a073_kp/S020C001P052R001A073_rgb_kp.json',\n",
       " 'adjusted_100_dataset/a073_kp/S029C002P044R001A073_rgb_kp.json',\n",
       " 'adjusted_100_dataset/a073_kp/S032C003P103R001A073_rgb_kp.json',\n",
       " 'adjusted_100_dataset/a073_kp/S027C003P011R002A073_rgb_kp.json',\n",
       " 'adjusted_100_dataset/a073_kp/S025C002P068R001A073_rgb_kp.json',\n",
       " 'adjusted_100_dataset/a073_kp/S028C002P048R001A073_rgb_kp.json',\n",
       " 'adjusted_100_dataset/a073_kp/S028C002P070R002A073_rgb_kp.json',\n",
       " 'adjusted_100_dataset/a073_kp/S025C003P066R002A073_rgb_kp.json',\n",
       " 'adjusted_100_dataset/a073_kp/S024C002P064R001A073_rgb_kp.json',\n",
       " 'adjusted_100_dataset/a073_kp/S024C001P061R001A073_rgb_kp.json',\n",
       " 'adjusted_100_dataset/a073_kp/S021C002P060R001A073_rgb_kp.json',\n",
       " 'adjusted_100_dataset/a073_kp/S026C002P051R001A073_rgb_kp.json',\n",
       " 'adjusted_100_dataset/a073_kp/S029C002P006R001A073_rgb_kp.json',\n",
       " 'adjusted_100_dataset/a073_kp/S020C001P008R002A073_rgb_kp.json',\n",
       " 'adjusted_100_dataset/a073_kp/S027C003P081R002A073_rgb_kp.json',\n",
       " 'adjusted_100_dataset/a073_kp/S024C002P067R002A073_rgb_kp.json',\n",
       " 'adjusted_100_dataset/a073_kp/S026C001P008R001A073_rgb_kp.json',\n",
       " 'adjusted_100_dataset/a073_kp/S031C003P006R001A073_rgb_kp.json',\n",
       " 'adjusted_100_dataset/a073_kp/S026C002P076R001A073_rgb_kp.json',\n",
       " 'adjusted_100_dataset/a073_kp/S030C003P043R002A073_rgb_kp.json',\n",
       " 'adjusted_100_dataset/a073_kp/S027C002P085R002A073_rgb_kp.json',\n",
       " 'adjusted_100_dataset/a073_kp/S018C003P045R001A073_rgb_kp.json',\n",
       " 'adjusted_100_dataset/a073_kp/S031C001P042R001A073_rgb_kp.json',\n",
       " 'adjusted_100_dataset/a073_kp/S026C002P075R001A073_rgb_kp.json',\n",
       " 'adjusted_100_dataset/a073_kp/S027C002P041R001A073_rgb_kp.json',\n",
       " 'adjusted_100_dataset/a073_kp/S030C001P096R001A073_rgb_kp.json',\n",
       " 'adjusted_100_dataset/a073_kp/S023C001P055R001A073_rgb_kp.json',\n",
       " 'adjusted_100_dataset/a073_kp/S030C001P092R001A073_rgb_kp.json',\n",
       " 'adjusted_100_dataset/a073_kp/S030C001P093R001A073_rgb_kp.json',\n",
       " 'adjusted_100_dataset/a073_kp/S018C001P044R002A073_rgb_kp.json',\n",
       " 'adjusted_100_dataset/a073_kp/S020C002P044R002A073_rgb_kp.json',\n",
       " 'adjusted_100_dataset/a073_kp/S030C002P081R001A073_rgb_kp.json',\n",
       " 'adjusted_100_dataset/a073_kp/S029C003P080R001A073_rgb_kp.json',\n",
       " 'adjusted_100_dataset/a073_kp/S031C002P097R001A073_rgb_kp.json',\n",
       " 'adjusted_100_dataset/a073_kp/S019C002P048R002A073_rgb_kp.json',\n",
       " 'adjusted_100_dataset/a073_kp/S031C002P008R001A073_rgb_kp.json',\n",
       " 'adjusted_100_dataset/a073_kp/S019C003P048R002A073_rgb_kp.json',\n",
       " 'adjusted_100_dataset/a073_kp/S022C001P064R001A073_rgb_kp.json',\n",
       " 'adjusted_100_dataset/a073_kp/S026C001P050R002A073_rgb_kp.json',\n",
       " 'adjusted_100_dataset/a073_kp/S020C003P053R002A073_rgb_kp.json',\n",
       " 'adjusted_100_dataset/a073_kp/S031C003P100R002A073_rgb_kp.json',\n",
       " 'adjusted_100_dataset/a073_kp/S029C001P067R002A073_rgb_kp.json',\n",
       " 'adjusted_100_dataset/a073_kp/S032C001P103R002A073_rgb_kp.json',\n",
       " 'adjusted_100_dataset/a073_kp/S029C002P041R001A073_rgb_kp.json',\n",
       " 'adjusted_100_dataset/a073_kp/S031C003P082R002A073_rgb_kp.json',\n",
       " 'adjusted_100_dataset/a073_kp/S029C001P051R001A073_rgb_kp.json',\n",
       " 'adjusted_100_dataset/a073_kp/S025C001P065R002A073_rgb_kp.json',\n",
       " 'adjusted_100_dataset/a073_kp/S020C002P043R001A073_rgb_kp.json',\n",
       " 'adjusted_100_dataset/a073_kp/S031C002P044R001A073_rgb_kp.json',\n",
       " 'adjusted_100_dataset/a073_kp/S018C002P045R001A073_rgb_kp.json',\n",
       " 'adjusted_100_dataset/a073_kp/S031C003P101R001A073_rgb_kp.json',\n",
       " 'adjusted_100_dataset/a073_kp/S027C002P082R002A073_rgb_kp.json',\n",
       " 'adjusted_100_dataset/a073_kp/S030C003P095R001A073_rgb_kp.json',\n",
       " 'adjusted_100_dataset/a073_kp/S023C001P066R001A073_rgb_kp.json',\n",
       " 'adjusted_100_dataset/a073_kp/S029C001P048R001A073_rgb_kp.json',\n",
       " 'adjusted_100_dataset/a073_kp/S031C002P006R001A073_rgb_kp.json',\n",
       " 'adjusted_100_dataset/a073_kp/S027C001P008R002A073_rgb_kp.json',\n",
       " 'adjusted_100_dataset/a073_kp/S029C001P041R002A073_rgb_kp.json',\n",
       " 'adjusted_100_dataset/a073_kp/S031C001P100R002A073_rgb_kp.json',\n",
       " 'adjusted_100_dataset/a073_kp/S023C002P056R002A073_rgb_kp.json',\n",
       " 'adjusted_100_dataset/a073_kp/S031C001P082R002A073_rgb_kp.json',\n",
       " 'adjusted_100_dataset/a073_kp/S023C001P060R002A073_rgb_kp.json',\n",
       " 'adjusted_100_dataset/a073_kp/S026C001P074R001A073_rgb_kp.json',\n",
       " 'adjusted_100_dataset/a073_kp/S032C002P067R002A073_rgb_kp.json',\n",
       " 'adjusted_100_dataset/a073_kp/S018C001P041R001A073_rgb_kp.json',\n",
       " 'adjusted_100_dataset/a073_kp/S022C001P067R002A073_rgb_kp.json',\n",
       " 'adjusted_100_dataset/a073_kp/S029C001P090R001A073_rgb_kp.json',\n",
       " 'adjusted_100_dataset/a073_kp/S030C003P067R001A073_rgb_kp.json',\n",
       " 'adjusted_100_dataset/a073_kp/S031C001P082R001A073_rgb_kp.json',\n",
       " 'adjusted_100_dataset/a073_kp/S027C003P044R001A073_rgb_kp.json',\n",
       " 'adjusted_100_dataset/a073_kp/S030C003P092R001A073_rgb_kp.json',\n",
       " 'adjusted_100_dataset/a073_kp/S030C001P076R001A073_rgb_kp.json',\n",
       " 'adjusted_100_dataset/a073_kp/S027C002P044R002A073_rgb_kp.json',\n",
       " 'adjusted_100_dataset/a073_kp/S021C002P055R001A073_rgb_kp.json',\n",
       " 'adjusted_100_dataset/a073_kp/S024C002P061R001A073_rgb_kp.json',\n",
       " 'adjusted_100_dataset/a073_kp/S026C003P070R001A073_rgb_kp.json',\n",
       " 'adjusted_100_dataset/a073_kp/S025C001P059R002A073_rgb_kp.json',\n",
       " 'adjusted_100_dataset/a073_kp/S030C002P008R001A073_rgb_kp.json',\n",
       " 'adjusted_100_dataset/a073_kp/S027C002P043R002A073_rgb_kp.json',\n",
       " 'adjusted_100_dataset/a073_kp/S026C001P050R001A073_rgb_kp.json',\n",
       " 'adjusted_100_dataset/a073_kp/S019C003P051R001A073_rgb_kp.json',\n",
       " 'adjusted_100_dataset/a073_kp/S026C002P070R002A073_rgb_kp.json',\n",
       " 'adjusted_100_dataset/a073_kp/S027C002P078R001A073_rgb_kp.json',\n",
       " 'adjusted_100_dataset/a073_kp/S031C001P043R001A073_rgb_kp.json',\n",
       " 'adjusted_100_dataset/a073_kp/S027C001P041R001A073_rgb_kp.json',\n",
       " 'adjusted_100_dataset/a073_kp/S018C001P044R001A073_rgb_kp.json',\n",
       " 'adjusted_100_dataset/a073_kp/S030C003P091R002A073_rgb_kp.json',\n",
       " 'adjusted_100_dataset/a073_kp/S022C003P061R002A073_rgb_kp.json',\n",
       " 'adjusted_100_dataset/a073_kp/S021C001P059R002A073_rgb_kp.json',\n",
       " 'adjusted_100_dataset/a073_kp/S030C001P075R002A073_rgb_kp.json',\n",
       " 'adjusted_100_dataset/a073_kp/S027C001P041R002A073_rgb_kp.json',\n",
       " 'adjusted_100_dataset/a073_kp/S030C002P011R001A073_rgb_kp.json',\n",
       " 'adjusted_100_dataset/a073_kp/S019C002P042R001A073_rgb_kp.json',\n",
       " 'adjusted_100_dataset/a073_kp/S022C001P066R001A073_rgb_kp.json',\n",
       " 'adjusted_100_dataset/a073_kp/S024C002P060R001A073_rgb_kp.json',\n",
       " 'adjusted_100_dataset/a073_kp/S030C003P081R001A073_rgb_kp.json',\n",
       " 'adjusted_100_dataset/a073_kp/S032C001P104R002A073_rgb_kp.json',\n",
       " 'adjusted_100_dataset/a073_kp/S027C003P086R001A073_rgb_kp.json',\n",
       " 'adjusted_100_dataset/a073_kp/S030C003P076R002A073_rgb_kp.json',\n",
       " 'adjusted_100_dataset/a073_kp/S028C002P048R002A073_rgb_kp.json',\n",
       " 'adjusted_100_dataset/a073_kp/S031C002P096R001A073_rgb_kp.json',\n",
       " 'adjusted_100_dataset/a073_kp/S031C002P067R001A073_rgb_kp.json',\n",
       " 'adjusted_100_dataset/a073_kp/S032C001P104R001A073_rgb_kp.json',\n",
       " 'adjusted_100_dataset/a073_kp/S024C003P067R002A073_rgb_kp.json',\n",
       " 'adjusted_100_dataset/a073_kp/S031C003P096R001A073_rgb_kp.json',\n",
       " 'adjusted_100_dataset/a073_kp/S024C003P064R001A073_rgb_kp.json',\n",
       " 'adjusted_100_dataset/a073_kp/S030C001P043R001A073_rgb_kp.json',\n",
       " 'adjusted_100_dataset/a073_kp/S019C001P048R002A073_rgb_kp.json',\n",
       " 'adjusted_100_dataset/a073_kp/S029C001P089R001A073_rgb_kp.json',\n",
       " 'adjusted_100_dataset/a073_kp/S032C003P105R001A073_rgb_kp.json',\n",
       " 'adjusted_100_dataset/a073_kp/S026C002P072R002A073_rgb_kp.json',\n",
       " 'adjusted_100_dataset/a073_kp/S023C002P061R001A073_rgb_kp.json',\n",
       " 'adjusted_100_dataset/a073_kp/S032C003P103R002A073_rgb_kp.json',\n",
       " 'adjusted_100_dataset/a073_kp/S032C002P041R002A073_rgb_kp.json',\n",
       " 'adjusted_100_dataset/a073_kp/S028C001P046R002A073_rgb_kp.json',\n",
       " 'adjusted_100_dataset/a073_kp/S027C001P011R001A073_rgb_kp.json',\n",
       " 'adjusted_100_dataset/a073_kp/S029C002P067R002A073_rgb_kp.json',\n",
       " 'adjusted_100_dataset/a073_kp/S029C002P008R001A073_rgb_kp.json',\n",
       " 'adjusted_100_dataset/a073_kp/S024C001P062R001A073_rgb_kp.json',\n",
       " 'adjusted_100_dataset/a073_kp/S023C001P058R001A073_rgb_kp.json',\n",
       " 'adjusted_100_dataset/a073_kp/S028C002P042R002A073_rgb_kp.json',\n",
       " 'adjusted_100_dataset/a073_kp/S027C001P080R002A073_rgb_kp.json',\n",
       " 'adjusted_100_dataset/a073_kp/S030C003P067R002A073_rgb_kp.json',\n",
       " 'adjusted_100_dataset/a073_kp/S023C002P057R001A073_rgb_kp.json',\n",
       " 'adjusted_100_dataset/a073_kp/S025C001P066R002A073_rgb_kp.json',\n",
       " 'adjusted_100_dataset/a073_kp/S030C001P067R002A073_rgb_kp.json',\n",
       " 'adjusted_100_dataset/a073_kp/S024C001P062R002A073_rgb_kp.json',\n",
       " 'adjusted_100_dataset/a073_kp/S022C001P064R002A073_rgb_kp.json',\n",
       " 'adjusted_100_dataset/a073_kp/S023C003P060R001A073_rgb_kp.json',\n",
       " 'adjusted_100_dataset/a073_kp/S026C003P072R002A073_rgb_kp.json',\n",
       " 'adjusted_100_dataset/a073_kp/S020C002P052R001A073_rgb_kp.json',\n",
       " 'adjusted_100_dataset/a073_kp/S028C003P070R002A073_rgb_kp.json',\n",
       " 'adjusted_100_dataset/a073_kp/S023C001P062R002A073_rgb_kp.json',\n",
       " 'adjusted_100_dataset/a073_kp/S030C002P008R002A073_rgb_kp.json',\n",
       " 'adjusted_100_dataset/a073_kp/S027C003P041R001A073_rgb_kp.json',\n",
       " 'adjusted_100_dataset/a073_kp/S022C001P067R001A073_rgb_kp.json',\n",
       " 'adjusted_100_dataset/a073_kp/S032C002P044R002A073_rgb_kp.json',\n",
       " 'adjusted_100_dataset/a073_kp/S020C002P053R001A073_rgb_kp.json',\n",
       " 'adjusted_100_dataset/a073_kp/S023C002P060R001A073_rgb_kp.json',\n",
       " 'adjusted_100_dataset/a073_kp/S020C002P044R001A073_rgb_kp.json',\n",
       " 'adjusted_100_dataset/a073_kp/S032C003P044R002A073_rgb_kp.json',\n",
       " 'adjusted_100_dataset/a073_kp/S032C003P067R001A073_rgb_kp.json',\n",
       " 'adjusted_100_dataset/a073_kp/S029C002P089R001A073_rgb_kp.json',\n",
       " 'adjusted_100_dataset/a073_kp/S023C001P061R001A073_rgb_kp.json',\n",
       " 'adjusted_100_dataset/a073_kp/S027C003P078R001A073_rgb_kp.json',\n",
       " 'adjusted_100_dataset/a073_kp/S026C001P044R001A073_rgb_kp.json',\n",
       " 'adjusted_100_dataset/a073_kp/S031C001P051R002A073_rgb_kp.json',\n",
       " 'adjusted_100_dataset/a073_kp/S031C003P085R001A073_rgb_kp.json',\n",
       " 'adjusted_100_dataset/a073_kp/S021C003P060R002A073_rgb_kp.json',\n",
       " 'adjusted_100_dataset/a073_kp/S030C003P096R002A073_rgb_kp.json',\n",
       " 'adjusted_100_dataset/a073_kp/S022C002P064R002A073_rgb_kp.json',\n",
       " 'adjusted_100_dataset/a073_kp/S022C003P067R001A073_rgb_kp.json',\n",
       " 'adjusted_100_dataset/a073_kp/S027C001P006R001A073_rgb_kp.json',\n",
       " 'adjusted_100_dataset/a073_kp/S029C003P041R002A073_rgb_kp.json',\n",
       " 'adjusted_100_dataset/a073_kp/S032C003P043R001A073_rgb_kp.json',\n",
       " 'adjusted_100_dataset/a073_kp/S031C003P099R001A073_rgb_kp.json',\n",
       " 'adjusted_100_dataset/a073_kp/S023C001P065R001A073_rgb_kp.json',\n",
       " 'adjusted_100_dataset/a073_kp/S025C003P056R001A073_rgb_kp.json',\n",
       " 'adjusted_100_dataset/a073_kp/S022C001P061R001A073_rgb_kp.json',\n",
       " 'adjusted_100_dataset/a073_kp/S027C003P006R001A073_rgb_kp.json',\n",
       " 'adjusted_100_dataset/a073_kp/S027C003P006R002A073_rgb_kp.json',\n",
       " 'adjusted_100_dataset/a073_kp/S028C001P048R001A073_rgb_kp.json',\n",
       " 'adjusted_100_dataset/a073_kp/S022C001P062R002A073_rgb_kp.json',\n",
       " 'adjusted_100_dataset/a073_kp/S032C002P067R001A073_rgb_kp.json',\n",
       " 'adjusted_100_dataset/a073_kp/S032C003P105R002A073_rgb_kp.json',\n",
       " 'adjusted_100_dataset/a073_kp/S029C003P075R001A073_rgb_kp.json',\n",
       " 'adjusted_100_dataset/a073_kp/S023C001P065R002A073_rgb_kp.json',\n",
       " 'adjusted_100_dataset/a073_kp/S031C001P097R002A073_rgb_kp.json',\n",
       " 'adjusted_100_dataset/a073_kp/S020C001P044R002A073_rgb_kp.json',\n",
       " 'adjusted_100_dataset/a073_kp/S028C003P048R002A073_rgb_kp.json',\n",
       " 'adjusted_100_dataset/a073_kp/S029C003P044R002A073_rgb_kp.json',\n",
       " 'adjusted_100_dataset/a073_kp/S029C002P067R001A073_rgb_kp.json',\n",
       " 'adjusted_100_dataset/a073_kp/S029C002P043R001A073_rgb_kp.json',\n",
       " 'adjusted_100_dataset/a073_kp/S022C002P061R002A073_rgb_kp.json',\n",
       " 'adjusted_100_dataset/a073_kp/S023C001P063R002A073_rgb_kp.json',\n",
       " 'adjusted_100_dataset/a073_kp/S025C001P068R002A073_rgb_kp.json',\n",
       " 'adjusted_100_dataset/a073_kp/S019C003P042R002A073_rgb_kp.json',\n",
       " 'adjusted_100_dataset/a073_kp/S029C001P074R002A073_rgb_kp.json',\n",
       " 'adjusted_100_dataset/a073_kp/S031C001P085R001A073_rgb_kp.json',\n",
       " 'adjusted_100_dataset/a073_kp/S019C001P049R002A073_rgb_kp.json',\n",
       " 'adjusted_100_dataset/a073_kp/S026C003P074R002A073_rgb_kp.json',\n",
       " 'adjusted_100_dataset/a073_kp/S027C001P084R002A073_rgb_kp.json',\n",
       " 'adjusted_100_dataset/a073_kp/S032C001P105R001A073_rgb_kp.json',\n",
       " 'adjusted_100_dataset/a073_kp/S030C003P085R002A073_rgb_kp.json',\n",
       " 'adjusted_100_dataset/a073_kp/S019C001P051R002A073_rgb_kp.json',\n",
       " 'adjusted_100_dataset/a073_kp/S025C001P058R002A073_rgb_kp.json',\n",
       " 'adjusted_100_dataset/a073_kp/S030C001P085R001A073_rgb_kp.json',\n",
       " 'adjusted_100_dataset/a073_kp/S025C001P066R001A073_rgb_kp.json',\n",
       " 'adjusted_100_dataset/a073_kp/S026C002P044R002A073_rgb_kp.json',\n",
       " 'adjusted_100_dataset/a073_kp/S030C001P067R001A073_rgb_kp.json',\n",
       " 'adjusted_100_dataset/a073_kp/S023C003P065R002A073_rgb_kp.json',\n",
       " 'adjusted_100_dataset/a073_kp/S025C002P059R001A073_rgb_kp.json',\n",
       " 'adjusted_100_dataset/a073_kp/S023C002P058R002A073_rgb_kp.json',\n",
       " 'adjusted_100_dataset/a073_kp/S022C003P061R001A073_rgb_kp.json',\n",
       " 'adjusted_100_dataset/a073_kp/S028C003P042R001A073_rgb_kp.json',\n",
       " 'adjusted_100_dataset/a073_kp/S029C003P044R001A073_rgb_kp.json',\n",
       " 'adjusted_100_dataset/a073_kp/S021C002P060R002A073_rgb_kp.json',\n",
       " 'adjusted_100_dataset/a073_kp/S020C002P008R001A073_rgb_kp.json',\n",
       " 'adjusted_100_dataset/a073_kp/S022C002P063R001A073_rgb_kp.json',\n",
       " 'adjusted_100_dataset/a073_kp/S029C001P067R001A073_rgb_kp.json',\n",
       " 'adjusted_100_dataset/a073_kp/S027C002P008R002A073_rgb_kp.json',\n",
       " 'adjusted_100_dataset/a073_kp/S023C002P067R001A073_rgb_kp.json',\n",
       " 'adjusted_100_dataset/a073_kp/S023C001P060R001A073_rgb_kp.json',\n",
       " 'adjusted_100_dataset/a073_kp/S021C001P060R002A073_rgb_kp.json',\n",
       " 'adjusted_100_dataset/a073_kp/S019C003P008R001A073_rgb_kp.json',\n",
       " 'adjusted_100_dataset/a073_kp/S020C003P052R002A073_rgb_kp.json',\n",
       " 'adjusted_100_dataset/a073_kp/S019C002P051R001A073_rgb_kp.json',\n",
       " 'adjusted_100_dataset/a073_kp/S019C002P051R002A073_rgb_kp.json',\n",
       " 'adjusted_100_dataset/a073_kp/S030C001P011R001A073_rgb_kp.json',\n",
       " 'adjusted_100_dataset/a073_kp/S026C001P076R001A073_rgb_kp.json',\n",
       " 'adjusted_100_dataset/a073_kp/S031C003P099R002A073_rgb_kp.json',\n",
       " 'adjusted_100_dataset/a073_kp/S030C003P081R002A073_rgb_kp.json',\n",
       " 'adjusted_100_dataset/a073_kp/S027C002P086R001A073_rgb_kp.json',\n",
       " 'adjusted_100_dataset/a073_kp/S027C002P082R001A073_rgb_kp.json',\n",
       " 'adjusted_100_dataset/a073_kp/S023C002P063R001A073_rgb_kp.json',\n",
       " 'adjusted_100_dataset/a073_kp/S028C001P043R001A073_rgb_kp.json',\n",
       " 'adjusted_100_dataset/a073_kp/S030C003P088R001A073_rgb_kp.json',\n",
       " 'adjusted_100_dataset/a073_kp/S018C001P042R001A073_rgb_kp.json',\n",
       " 'adjusted_100_dataset/a073_kp/S030C002P085R001A073_rgb_kp.json',\n",
       " 'adjusted_100_dataset/a073_kp/S030C002P092R001A073_rgb_kp.json',\n",
       " 'adjusted_100_dataset/a073_kp/S029C001P006R002A073_rgb_kp.json',\n",
       " 'adjusted_100_dataset/a073_kp/S024C001P057R002A073_rgb_kp.json',\n",
       " 'adjusted_100_dataset/a073_kp/S019C003P049R002A073_rgb_kp.json',\n",
       " 'adjusted_100_dataset/a073_kp/S018C003P043R001A073_rgb_kp.json',\n",
       " 'adjusted_100_dataset/a073_kp/S030C003P091R001A073_rgb_kp.json',\n",
       " 'adjusted_100_dataset/a073_kp/S018C003P008R002A073_rgb_kp.json',\n",
       " 'adjusted_100_dataset/a073_kp/S026C003P075R002A073_rgb_kp.json',\n",
       " 'adjusted_100_dataset/a073_kp/S031C001P041R002A073_rgb_kp.json',\n",
       " 'adjusted_100_dataset/a073_kp/S031C002P100R002A073_rgb_kp.json',\n",
       " 'adjusted_100_dataset/a073_kp/S030C002P092R002A073_rgb_kp.json',\n",
       " 'adjusted_100_dataset/a073_kp/S030C002P094R001A073_rgb_kp.json',\n",
       " 'adjusted_100_dataset/a073_kp/S020C003P041R001A073_rgb_kp.json',\n",
       " 'adjusted_100_dataset/a073_kp/S029C002P080R002A073_rgb_kp.json',\n",
       " 'adjusted_100_dataset/a073_kp/S030C003P043R001A073_rgb_kp.json',\n",
       " 'adjusted_100_dataset/a073_kp/S019C002P049R002A073_rgb_kp.json',\n",
       " 'adjusted_100_dataset/a073_kp/S031C002P099R001A073_rgb_kp.json',\n",
       " 'adjusted_100_dataset/a073_kp/S025C002P059R002A073_rgb_kp.json',\n",
       " 'adjusted_100_dataset/a073_kp/S031C001P051R001A073_rgb_kp.json',\n",
       " 'adjusted_100_dataset/a073_kp/S018C002P044R002A073_rgb_kp.json',\n",
       " 'adjusted_100_dataset/a073_kp/S027C002P081R002A073_rgb_kp.json',\n",
       " 'adjusted_100_dataset/a073_kp/S032C001P043R001A073_rgb_kp.json',\n",
       " 'adjusted_100_dataset/a073_kp/S029C001P049R001A073_rgb_kp.json',\n",
       " 'adjusted_100_dataset/a073_kp/S030C001P091R002A073_rgb_kp.json',\n",
       " 'adjusted_100_dataset/a073_kp/S027C001P044R002A073_rgb_kp.json',\n",
       " 'adjusted_100_dataset/a073_kp/S031C001P008R002A073_rgb_kp.json',\n",
       " 'adjusted_100_dataset/a073_kp/S026C003P077R001A073_rgb_kp.json',\n",
       " 'adjusted_100_dataset/a073_kp/S026C002P069R002A073_rgb_kp.json',\n",
       " 'adjusted_100_dataset/a073_kp/S029C001P043R002A073_rgb_kp.json',\n",
       " 'adjusted_100_dataset/a073_kp/S027C002P083R002A073_rgb_kp.json',\n",
       " 'adjusted_100_dataset/a073_kp/S031C002P008R002A073_rgb_kp.json',\n",
       " 'adjusted_100_dataset/a073_kp/S021C003P060R001A073_rgb_kp.json',\n",
       " 'adjusted_100_dataset/a073_kp/S027C001P043R002A073_rgb_kp.json',\n",
       " 'adjusted_100_dataset/a073_kp/S028C003P087R002A073_rgb_kp.json',\n",
       " 'adjusted_100_dataset/a073_kp/S026C001P076R002A073_rgb_kp.json',\n",
       " 'adjusted_100_dataset/a073_kp/S021C001P058R002A073_rgb_kp.json',\n",
       " 'adjusted_100_dataset/a073_kp/S029C002P090R001A073_rgb_kp.json',\n",
       " 'adjusted_100_dataset/a073_kp/S020C001P052R002A073_rgb_kp.json',\n",
       " 'adjusted_100_dataset/a073_kp/S029C003P088R001A073_rgb_kp.json',\n",
       " 'adjusted_100_dataset/a073_kp/S032C003P041R002A073_rgb_kp.json',\n",
       " 'adjusted_100_dataset/a073_kp/S029C003P043R002A073_rgb_kp.json',\n",
       " 'adjusted_100_dataset/a073_kp/S027C003P078R002A073_rgb_kp.json',\n",
       " 'adjusted_100_dataset/a073_kp/S026C003P074R001A073_rgb_kp.json',\n",
       " 'adjusted_100_dataset/a073_kp/S023C003P064R001A073_rgb_kp.json',\n",
       " 'adjusted_100_dataset/a073_kp/S021C001P056R001A073_rgb_kp.json',\n",
       " 'adjusted_100_dataset/a073_kp/S029C002P044R002A073_rgb_kp.json',\n",
       " 'adjusted_100_dataset/a073_kp/S027C001P082R001A073_rgb_kp.json',\n",
       " 'adjusted_100_dataset/a073_kp/S026C003P050R001A073_rgb_kp.json',\n",
       " 'adjusted_100_dataset/a073_kp/S031C001P044R001A073_rgb_kp.json',\n",
       " 'adjusted_100_dataset/a073_kp/S027C002P084R001A073_rgb_kp.json',\n",
       " 'adjusted_100_dataset/a073_kp/S030C003P096R001A073_rgb_kp.json',\n",
       " 'adjusted_100_dataset/a073_kp/S019C002P041R001A073_rgb_kp.json',\n",
       " 'adjusted_100_dataset/a073_kp/S031C001P042R002A073_rgb_kp.json',\n",
       " 'adjusted_100_dataset/a073_kp/S029C002P048R002A073_rgb_kp.json',\n",
       " 'adjusted_100_dataset/a073_kp/S026C003P049R002A073_rgb_kp.json',\n",
       " 'adjusted_100_dataset/a073_kp/S023C002P059R002A073_rgb_kp.json',\n",
       " 'adjusted_100_dataset/a073_kp/S031C002P044R002A073_rgb_kp.json',\n",
       " 'adjusted_100_dataset/a073_kp/S031C003P097R002A073_rgb_kp.json',\n",
       " 'adjusted_100_dataset/a073_kp/S029C002P075R001A073_rgb_kp.json',\n",
       " 'adjusted_100_dataset/a073_kp/S031C002P101R002A073_rgb_kp.json',\n",
       " 'adjusted_100_dataset/a073_kp/S023C003P068R002A073_rgb_kp.json',\n",
       " 'adjusted_100_dataset/a073_kp/S032C002P043R001A073_rgb_kp.json',\n",
       " 'adjusted_100_dataset/a073_kp/S026C002P050R002A073_rgb_kp.json',\n",
       " 'adjusted_100_dataset/a073_kp/S028C003P087R001A073_rgb_kp.json',\n",
       " 'adjusted_100_dataset/a073_kp/S023C001P066R002A073_rgb_kp.json',\n",
       " 'adjusted_100_dataset/a073_kp/S031C003P085R002A073_rgb_kp.json',\n",
       " 'adjusted_100_dataset/a073_kp/S028C003P073R001A073_rgb_kp.json',\n",
       " 'adjusted_100_dataset/a073_kp/S032C003P008R002A073_rgb_kp.json',\n",
       " 'adjusted_100_dataset/a073_kp/S030C002P094R002A073_rgb_kp.json',\n",
       " 'adjusted_100_dataset/a073_kp/S021C001P059R001A073_rgb_kp.json',\n",
       " 'adjusted_100_dataset/a073_kp/S030C002P011R002A073_rgb_kp.json',\n",
       " 'adjusted_100_dataset/a073_kp/S019C002P008R002A073_rgb_kp.json',\n",
       " 'adjusted_100_dataset/a073_kp/S032C002P106R002A073_rgb_kp.json',\n",
       " 'adjusted_100_dataset/a073_kp/S031C003P098R002A073_rgb_kp.json',\n",
       " 'adjusted_100_dataset/a073_kp/S024C003P063R002A073_rgb_kp.json',\n",
       " 'adjusted_100_dataset/a073_kp/S028C001P041R001A073_rgb_kp.json',\n",
       " 'adjusted_100_dataset/a073_kp/S029C002P051R002A073_rgb_kp.json',\n",
       " 'adjusted_100_dataset/a073_kp/S022C003P065R001A073_rgb_kp.json',\n",
       " 'adjusted_100_dataset/a073_kp/S032C001P106R002A073_rgb_kp.json',\n",
       " 'adjusted_100_dataset/a073_kp/S030C001P091R001A073_rgb_kp.json',\n",
       " 'adjusted_100_dataset/a073_kp/S030C003P095R002A073_rgb_kp.json',\n",
       " 'adjusted_100_dataset/a073_kp/S023C001P067R001A073_rgb_kp.json',\n",
       " 'adjusted_100_dataset/a073_kp/S030C003P048R002A073_rgb_kp.json',\n",
       " 'adjusted_100_dataset/a073_kp/S027C002P006R002A073_rgb_kp.json',\n",
       " 'adjusted_100_dataset/a073_kp/S019C001P048R001A073_rgb_kp.json',\n",
       " 'adjusted_100_dataset/a073_kp/S026C002P070R001A073_rgb_kp.json',\n",
       " 'adjusted_100_dataset/a073_kp/S020C002P041R001A073_rgb_kp.json',\n",
       " 'adjusted_100_dataset/a073_kp/S025C003P055R002A073_rgb_kp.json',\n",
       " 'adjusted_100_dataset/a073_kp/S027C002P081R001A073_rgb_kp.json',\n",
       " 'adjusted_100_dataset/a073_kp/S025C001P056R001A073_rgb_kp.json',\n",
       " 'adjusted_100_dataset/a073_kp/S030C001P044R001A073_rgb_kp.json',\n",
       " 'adjusted_100_dataset/a073_kp/S018C001P041R002A073_rgb_kp.json',\n",
       " 'adjusted_100_dataset/a073_kp/S018C001P042R002A073_rgb_kp.json',\n",
       " 'adjusted_100_dataset/a073_kp/S032C001P103R001A073_rgb_kp.json',\n",
       " 'adjusted_100_dataset/a073_kp/S029C002P074R002A073_rgb_kp.json',\n",
       " 'adjusted_100_dataset/a073_kp/S019C003P047R001A073_rgb_kp.json',\n",
       " 'adjusted_100_dataset/a073_kp/S018C003P042R002A073_rgb_kp.json',\n",
       " 'adjusted_100_dataset/a073_kp/S027C003P084R001A073_rgb_kp.json',\n",
       " 'adjusted_100_dataset/a073_kp/S024C001P063R002A073_rgb_kp.json',\n",
       " 'adjusted_100_dataset/a073_kp/S026C001P041R001A073_rgb_kp.json',\n",
       " 'adjusted_100_dataset/a073_kp/S030C002P044R002A073_rgb_kp.json',\n",
       " 'adjusted_100_dataset/a073_kp/S023C003P058R001A073_rgb_kp.json',\n",
       " 'adjusted_100_dataset/a073_kp/S032C003P067R002A073_rgb_kp.json',\n",
       " 'adjusted_100_dataset/a073_kp/S025C001P056R002A073_rgb_kp.json',\n",
       " 'adjusted_100_dataset/a073_kp/S027C003P084R002A073_rgb_kp.json',\n",
       " 'adjusted_100_dataset/a073_kp/S030C002P076R001A073_rgb_kp.json',\n",
       " 'adjusted_100_dataset/a073_kp/S026C003P044R001A073_rgb_kp.json',\n",
       " 'adjusted_100_dataset/a073_kp/S023C002P058R001A073_rgb_kp.json',\n",
       " 'adjusted_100_dataset/a073_kp/S030C001P092R002A073_rgb_kp.json',\n",
       " 'adjusted_100_dataset/a073_kp/S030C001P076R002A073_rgb_kp.json',\n",
       " 'adjusted_100_dataset/a073_kp/S030C002P043R001A073_rgb_kp.json',\n",
       " 'adjusted_100_dataset/a073_kp/S020C003P052R001A073_rgb_kp.json',\n",
       " 'adjusted_100_dataset/a073_kp/S032C002P103R001A073_rgb_kp.json',\n",
       " 'adjusted_100_dataset/a073_kp/S026C003P076R002A073_rgb_kp.json',\n",
       " 'adjusted_100_dataset/a073_kp/S021C003P056R001A073_rgb_kp.json',\n",
       " 'adjusted_100_dataset/a073_kp/S029C001P006R001A073_rgb_kp.json',\n",
       " 'adjusted_100_dataset/a073_kp/S030C003P085R001A073_rgb_kp.json',\n",
       " 'adjusted_100_dataset/a073_kp/S027C002P083R001A073_rgb_kp.json',\n",
       " 'adjusted_100_dataset/a073_kp/S022C001P065R001A073_rgb_kp.json',\n",
       " 'adjusted_100_dataset/a073_kp/S032C003P104R002A073_rgb_kp.json',\n",
       " 'adjusted_100_dataset/a073_kp/S021C003P058R002A073_rgb_kp.json',\n",
       " 'adjusted_100_dataset/a073_kp/S018C002P042R002A073_rgb_kp.json',\n",
       " 'adjusted_100_dataset/a073_kp/S018C003P045R002A073_rgb_kp.json',\n",
       " 'adjusted_100_dataset/a073_kp/S031C002P043R002A073_rgb_kp.json',\n",
       " 'adjusted_100_dataset/a073_kp/S029C003P048R001A073_rgb_kp.json',\n",
       " 'adjusted_100_dataset/a073_kp/S028C001P073R001A073_rgb_kp.json',\n",
       " 'adjusted_100_dataset/a073_kp/S028C003P073R002A073_rgb_kp.json',\n",
       " 'adjusted_100_dataset/a073_kp/S019C003P047R002A073_rgb_kp.json',\n",
       " 'adjusted_100_dataset/a073_kp/S018C003P044R002A073_rgb_kp.json',\n",
       " 'adjusted_100_dataset/a073_kp/S027C003P082R001A073_rgb_kp.json',\n",
       " 'adjusted_100_dataset/a073_kp/S032C002P103R002A073_rgb_kp.json',\n",
       " 'adjusted_100_dataset/a073_kp/S025C001P068R001A073_rgb_kp.json',\n",
       " 'adjusted_100_dataset/a073_kp/S027C003P080R002A073_rgb_kp.json',\n",
       " 'adjusted_100_dataset/a073_kp/S019C001P051R001A073_rgb_kp.json',\n",
       " 'adjusted_100_dataset/a073_kp/S027C003P086R002A073_rgb_kp.json',\n",
       " 'adjusted_100_dataset/a073_kp/S019C001P041R001A073_rgb_kp.json',\n",
       " 'adjusted_100_dataset/a073_kp/S023C001P064R001A073_rgb_kp.json',\n",
       " 'adjusted_100_dataset/a073_kp/S028C001P008R002A073_rgb_kp.json',\n",
       " 'adjusted_100_dataset/a073_kp/S027C001P078R002A073_rgb_kp.json',\n",
       " 'adjusted_100_dataset/a073_kp/S030C001P085R002A073_rgb_kp.json',\n",
       " 'adjusted_100_dataset/a073_kp/S032C003P043R002A073_rgb_kp.json',\n",
       " 'adjusted_100_dataset/a073_kp/S022C001P065R002A073_rgb_kp.json',\n",
       " 'adjusted_100_dataset/a073_kp/S024C003P061R002A073_rgb_kp.json',\n",
       " 'adjusted_100_dataset/a073_kp/S023C003P064R002A073_rgb_kp.json',\n",
       " 'adjusted_100_dataset/a073_kp/S031C003P097R001A073_rgb_kp.json',\n",
       " 'adjusted_100_dataset/a073_kp/S032C002P104R001A073_rgb_kp.json',\n",
       " 'adjusted_100_dataset/a073_kp/S025C002P066R002A073_rgb_kp.json',\n",
       " 'adjusted_100_dataset/a073_kp/S029C001P044R001A073_rgb_kp.json',\n",
       " 'adjusted_100_dataset/a073_kp/S022C002P063R002A073_rgb_kp.json',\n",
       " 'adjusted_100_dataset/a073_kp/S025C003P068R002A073_rgb_kp.json',\n",
       " 'adjusted_100_dataset/a073_kp/S031C001P043R002A073_rgb_kp.json',\n",
       " 'adjusted_100_dataset/a073_kp/S018C003P008R001A073_rgb_kp.json',\n",
       " 'adjusted_100_dataset/a073_kp/S019C002P050R002A073_rgb_kp.json',\n",
       " 'adjusted_100_dataset/a073_kp/S026C001P071R002A073_rgb_kp.json',\n",
       " 'adjusted_100_dataset/a073_kp/S032C001P041R002A073_rgb_kp.json',\n",
       " 'adjusted_100_dataset/a073_kp/S032C002P105R001A073_rgb_kp.json',\n",
       " 'adjusted_100_dataset/a073_kp/S030C001P088R002A073_rgb_kp.json',\n",
       " 'adjusted_100_dataset/a073_kp/S029C002P088R001A073_rgb_kp.json',\n",
       " 'adjusted_100_dataset/a073_kp/S024C001P067R002A073_rgb_kp.json',\n",
       " 'adjusted_100_dataset/a073_kp/S032C001P102R001A073_rgb_kp.json',\n",
       " 'adjusted_100_dataset/a073_kp/S031C001P099R002A073_rgb_kp.json',\n",
       " 'adjusted_100_dataset/a073_kp/S028C002P042R001A073_rgb_kp.json',\n",
       " 'adjusted_100_dataset/a073_kp/S027C001P085R001A073_rgb_kp.json',\n",
       " 'adjusted_100_dataset/a073_kp/S023C002P057R002A073_rgb_kp.json',\n",
       " 'adjusted_100_dataset/a073_kp/S025C002P065R002A073_rgb_kp.json',\n",
       " 'adjusted_100_dataset/a073_kp/S023C001P056R002A073_rgb_kp.json',\n",
       " 'adjusted_100_dataset/a073_kp/S027C003P011R001A073_rgb_kp.json',\n",
       " 'adjusted_100_dataset/a073_kp/S028C001P042R002A073_rgb_kp.json',\n",
       " 'adjusted_100_dataset/a073_kp/S030C003P044R002A073_rgb_kp.json',\n",
       " 'adjusted_100_dataset/a073_kp/S026C003P051R002A073_rgb_kp.json',\n",
       " 'adjusted_100_dataset/a073_kp/S023C003P057R002A073_rgb_kp.json',\n",
       " 'adjusted_100_dataset/a073_kp/S032C002P102R002A073_rgb_kp.json',\n",
       " 'adjusted_100_dataset/a073_kp/S030C002P091R001A073_rgb_kp.json',\n",
       " 'adjusted_100_dataset/a073_kp/S029C002P041R002A073_rgb_kp.json',\n",
       " 'adjusted_100_dataset/a073_kp/S024C002P063R002A073_rgb_kp.json',\n",
       " 'adjusted_100_dataset/a073_kp/S028C001P070R002A073_rgb_kp.json',\n",
       " 'adjusted_100_dataset/a073_kp/S023C003P062R002A073_rgb_kp.json',\n",
       " 'adjusted_100_dataset/a073_kp/S030C002P043R002A073_rgb_kp.json',\n",
       " 'adjusted_100_dataset/a073_kp/S028C002P046R002A073_rgb_kp.json',\n",
       " 'adjusted_100_dataset/a073_kp/S026C003P075R001A073_rgb_kp.json',\n",
       " 'adjusted_100_dataset/a073_kp/S030C003P076R001A073_rgb_kp.json',\n",
       " 'adjusted_100_dataset/a073_kp/S028C003P043R002A073_rgb_kp.json',\n",
       " 'adjusted_100_dataset/a073_kp/S022C002P062R002A073_rgb_kp.json',\n",
       " 'adjusted_100_dataset/a073_kp/S022C002P067R001A073_rgb_kp.json',\n",
       " 'adjusted_100_dataset/a073_kp/S023C003P067R001A073_rgb_kp.json',\n",
       " 'adjusted_100_dataset/a073_kp/S019C002P049R001A073_rgb_kp.json',\n",
       " 'adjusted_100_dataset/a073_kp/S028C001P046R001A073_rgb_kp.json',\n",
       " 'adjusted_100_dataset/a073_kp/S030C002P041R002A073_rgb_kp.json',\n",
       " 'adjusted_100_dataset/a073_kp/S029C002P049R002A073_rgb_kp.json',\n",
       " 'adjusted_100_dataset/a073_kp/S029C002P080R001A073_rgb_kp.json',\n",
       " 'adjusted_100_dataset/a073_kp/S031C003P044R001A073_rgb_kp.json',\n",
       " 'adjusted_100_dataset/a073_kp/S019C001P041R002A073_rgb_kp.json',\n",
       " 'adjusted_100_dataset/a073_kp/S026C002P008R002A073_rgb_kp.json',\n",
       " 'adjusted_100_dataset/a073_kp/S026C001P074R002A073_rgb_kp.json',\n",
       " 'adjusted_100_dataset/a073_kp/S021C003P058R001A073_rgb_kp.json',\n",
       " 'adjusted_100_dataset/a073_kp/S023C003P066R002A073_rgb_kp.json',\n",
       " 'adjusted_100_dataset/a073_kp/S031C003P044R002A073_rgb_kp.json',\n",
       " 'adjusted_100_dataset/a073_kp/S030C002P095R002A073_rgb_kp.json',\n",
       " 'adjusted_100_dataset/a073_kp/S030C002P093R002A073_rgb_kp.json',\n",
       " 'adjusted_100_dataset/a073_kp/S031C002P051R001A073_rgb_kp.json',\n",
       " 'adjusted_100_dataset/a073_kp/S031C002P085R002A073_rgb_kp.json',\n",
       " 'adjusted_100_dataset/a073_kp/S032C001P041R001A073_rgb_kp.json',\n",
       " 'adjusted_100_dataset/a073_kp/S025C002P068R002A073_rgb_kp.json',\n",
       " 'adjusted_100_dataset/a073_kp/S030C001P011R002A073_rgb_kp.json',\n",
       " 'adjusted_100_dataset/a073_kp/S021C002P058R002A073_rgb_kp.json',\n",
       " 'adjusted_100_dataset/a073_kp/S026C003P008R002A073_rgb_kp.json',\n",
       " 'adjusted_100_dataset/a073_kp/S026C001P072R001A073_rgb_kp.json',\n",
       " 'adjusted_100_dataset/a073_kp/S021C002P057R001A073_rgb_kp.json',\n",
       " 'adjusted_100_dataset/a073_kp/S023C003P059R002A073_rgb_kp.json',\n",
       " 'adjusted_100_dataset/a073_kp/S031C003P042R002A073_rgb_kp.json',\n",
       " 'adjusted_100_dataset/a073_kp/S027C001P011R002A073_rgb_kp.json',\n",
       " 'adjusted_100_dataset/a073_kp/S027C003P083R001A073_rgb_kp.json',\n",
       " 'adjusted_100_dataset/a073_kp/S020C001P054R002A073_rgb_kp.json',\n",
       " 'adjusted_100_dataset/a073_kp/S026C002P050R001A073_rgb_kp.json',\n",
       " 'adjusted_100_dataset/a073_kp/S022C002P061R001A073_rgb_kp.json',\n",
       " 'adjusted_100_dataset/a073_kp/S026C001P049R001A073_rgb_kp.json',\n",
       " 'adjusted_100_dataset/a073_kp/S028C003P008R001A073_rgb_kp.json',\n",
       " 'adjusted_100_dataset/a073_kp/S018C003P042R001A073_rgb_kp.json',\n",
       " 'adjusted_100_dataset/a073_kp/S031C003P042R001A073_rgb_kp.json',\n",
       " 'adjusted_100_dataset/a073_kp/S023C002P059R001A073_rgb_kp.json',\n",
       " 'adjusted_100_dataset/a073_kp/S029C001P080R001A073_rgb_kp.json',\n",
       " 'adjusted_100_dataset/a073_kp/S028C002P070R001A073_rgb_kp.json',\n",
       " 'adjusted_100_dataset/a073_kp/S032C002P102R001A073_rgb_kp.json',\n",
       " 'adjusted_100_dataset/a073_kp/S029C003P041R001A073_rgb_kp.json',\n",
       " 'adjusted_100_dataset/a073_kp/S032C001P105R002A073_rgb_kp.json',\n",
       " 'adjusted_100_dataset/a073_kp/S023C002P066R002A073_rgb_kp.json',\n",
       " 'adjusted_100_dataset/a073_kp/S020C003P044R002A073_rgb_kp.json',\n",
       " 'adjusted_100_dataset/a073_kp/S029C003P049R002A073_rgb_kp.json',\n",
       " 'adjusted_100_dataset/a073_kp/S024C002P063R001A073_rgb_kp.json',\n",
       " 'adjusted_100_dataset/a073_kp/S026C002P074R001A073_rgb_kp.json',\n",
       " 'adjusted_100_dataset/a073_kp/S030C002P096R001A073_rgb_kp.json',\n",
       " 'adjusted_100_dataset/a073_kp/S027C002P041R002A073_rgb_kp.json',\n",
       " 'adjusted_100_dataset/a073_kp/S030C002P041R001A073_rgb_kp.json',\n",
       " 'adjusted_100_dataset/a073_kp/S025C002P056R002A073_rgb_kp.json',\n",
       " 'adjusted_100_dataset/a073_kp/S019C002P046R001A073_rgb_kp.json',\n",
       " 'adjusted_100_dataset/a073_kp/S025C001P055R002A073_rgb_kp.json',\n",
       " 'adjusted_100_dataset/a073_kp/S019C002P050R001A073_rgb_kp.json',\n",
       " 'adjusted_100_dataset/a073_kp/S026C003P041R002A073_rgb_kp.json',\n",
       " 'adjusted_100_dataset/a073_kp/S029C002P088R002A073_rgb_kp.json',\n",
       " 'adjusted_100_dataset/a073_kp/S024C003P062R002A073_rgb_kp.json',\n",
       " 'adjusted_100_dataset/a073_kp/S019C001P046R001A073_rgb_kp.json',\n",
       " 'adjusted_100_dataset/a073_kp/S021C003P057R001A073_rgb_kp.json',\n",
       " 'adjusted_100_dataset/a073_kp/S020C001P044R001A073_rgb_kp.json',\n",
       " 'adjusted_100_dataset/a073_kp/S018C003P044R001A073_rgb_kp.json',\n",
       " 'adjusted_100_dataset/a073_kp/S029C003P051R002A073_rgb_kp.json',\n",
       " 'adjusted_100_dataset/a073_kp/S022C003P062R002A073_rgb_kp.json',\n",
       " 'adjusted_100_dataset/a073_kp/S024C002P061R002A073_rgb_kp.json',\n",
       " 'adjusted_100_dataset/a073_kp/S029C001P075R001A073_rgb_kp.json',\n",
       " 'adjusted_100_dataset/a073_kp/S022C003P066R002A073_rgb_kp.json',\n",
       " 'adjusted_100_dataset/a073_kp/S021C001P057R002A073_rgb_kp.json',\n",
       " 'adjusted_100_dataset/a073_kp/S024C003P062R001A073_rgb_kp.json',\n",
       " 'adjusted_100_dataset/a073_kp/S020C002P008R002A073_rgb_kp.json',\n",
       " 'adjusted_100_dataset/a073_kp/S030C003P088R002A073_rgb_kp.json',\n",
       " 'adjusted_100_dataset/a073_kp/S027C002P011R001A073_rgb_kp.json',\n",
       " 'adjusted_100_dataset/a073_kp/S018C002P041R001A073_rgb_kp.json',\n",
       " 'adjusted_100_dataset/a073_kp/S021C001P057R001A073_rgb_kp.json',\n",
       " 'adjusted_100_dataset/a073_kp/S028C003P042R002A073_rgb_kp.json',\n",
       " 'adjusted_100_dataset/a073_kp/S021C001P055R002A073_rgb_kp.json',\n",
       " 'adjusted_100_dataset/a073_kp/S025C003P059R002A073_rgb_kp.json',\n",
       " 'adjusted_100_dataset/a073_kp/S028C003P041R002A073_rgb_kp.json',\n",
       " 'adjusted_100_dataset/a073_kp/S029C002P074R001A073_rgb_kp.json',\n",
       " 'adjusted_100_dataset/a073_kp/S022C003P063R001A073_rgb_kp.json',\n",
       " 'adjusted_100_dataset/a073_kp/S029C001P044R002A073_rgb_kp.json',\n",
       " 'adjusted_100_dataset/a073_kp/S029C003P074R001A073_rgb_kp.json',\n",
       " 'adjusted_100_dataset/a073_kp/S030C001P081R002A073_rgb_kp.json',\n",
       " 'adjusted_100_dataset/a073_kp/S025C003P058R002A073_rgb_kp.json',\n",
       " 'adjusted_100_dataset/a073_kp/S031C002P041R002A073_rgb_kp.json',\n",
       " 'adjusted_100_dataset/a073_kp/S019C003P046R002A073_rgb_kp.json',\n",
       " 'adjusted_100_dataset/a073_kp/S032C002P106R001A073_rgb_kp.json',\n",
       " 'adjusted_100_dataset/a073_kp/S030C002P044R001A073_rgb_kp.json',\n",
       " 'adjusted_100_dataset/a073_kp/S023C001P059R002A073_rgb_kp.json',\n",
       " 'adjusted_100_dataset/a073_kp/S019C001P008R002A073_rgb_kp.json',\n",
       " 'adjusted_100_dataset/a073_kp/S031C002P051R002A073_rgb_kp.json',\n",
       " 'adjusted_100_dataset/a073_kp/S023C001P057R002A073_rgb_kp.json',\n",
       " 'adjusted_100_dataset/a073_kp/S022C002P065R001A073_rgb_kp.json',\n",
       " 'adjusted_100_dataset/a073_kp/S029C003P051R001A073_rgb_kp.json',\n",
       " 'adjusted_100_dataset/a073_kp/S030C003P094R001A073_rgb_kp.json',\n",
       " 'adjusted_100_dataset/a073_kp/S022C001P062R001A073_rgb_kp.json',\n",
       " 'adjusted_100_dataset/a073_kp/S018C002P008R002A073_rgb_kp.json',\n",
       " 'adjusted_100_dataset/a073_kp/S029C003P049R001A073_rgb_kp.json',\n",
       " 'adjusted_100_dataset/a073_kp/S022C002P062R001A073_rgb_kp.json',\n",
       " 'adjusted_100_dataset/a073_kp/S030C003P093R001A073_rgb_kp.json',\n",
       " 'adjusted_100_dataset/a073_kp/S026C003P044R002A073_rgb_kp.json',\n",
       " 'adjusted_100_dataset/a073_kp/S032C003P008R001A073_rgb_kp.json',\n",
       " 'adjusted_100_dataset/a073_kp/S026C001P049R002A073_rgb_kp.json',\n",
       " 'adjusted_100_dataset/a073_kp/S027C002P080R001A073_rgb_kp.json',\n",
       " 'adjusted_100_dataset/a073_kp/S030C002P096R002A073_rgb_kp.json',\n",
       " 'adjusted_100_dataset/a073_kp/S026C002P076R002A073_rgb_kp.json',\n",
       " 'adjusted_100_dataset/a073_kp/S026C003P072R001A073_rgb_kp.json',\n",
       " 'adjusted_100_dataset/a073_kp/S030C003P008R002A073_rgb_kp.json',\n",
       " 'adjusted_100_dataset/a073_kp/S020C002P054R001A073_rgb_kp.json',\n",
       " 'adjusted_100_dataset/a073_kp/S027C001P006R002A073_rgb_kp.json',\n",
       " 'adjusted_100_dataset/a073_kp/S025C003P065R002A073_rgb_kp.json',\n",
       " 'adjusted_100_dataset/a073_kp/S028C002P043R002A073_rgb_kp.json',\n",
       " 'adjusted_100_dataset/a073_kp/S023C001P067R002A073_rgb_kp.json',\n",
       " 'adjusted_100_dataset/a073_kp/S026C003P069R001A073_rgb_kp.json',\n",
       " 'adjusted_100_dataset/a073_kp/S032C003P102R002A073_rgb_kp.json',\n",
       " 'adjusted_100_dataset/a073_kp/S030C001P095R001A073_rgb_kp.json',\n",
       " 'adjusted_100_dataset/a073_kp/S019C003P048R001A073_rgb_kp.json',\n",
       " 'adjusted_100_dataset/a073_kp/S031C003P041R001A073_rgb_kp.json',\n",
       " 'adjusted_100_dataset/a073_kp/S031C003P008R002A073_rgb_kp.json',\n",
       " 'adjusted_100_dataset/a073_kp/S023C001P068R002A073_rgb_kp.json',\n",
       " 'adjusted_100_dataset/a073_kp/S027C002P011R002A073_rgb_kp.json',\n",
       " 'adjusted_100_dataset/a073_kp/S024C001P064R002A073_rgb_kp.json',\n",
       " 'adjusted_100_dataset/a073_kp/S023C003P056R002A073_rgb_kp.json',\n",
       " 'adjusted_100_dataset/a073_kp/S026C002P072R001A073_rgb_kp.json',\n",
       " 'adjusted_100_dataset/a073_kp/S029C002P089R002A073_rgb_kp.json',\n",
       " 'adjusted_100_dataset/a073_kp/S032C002P105R002A073_rgb_kp.json',\n",
       " 'adjusted_100_dataset/a073_kp/S026C003P077R002A073_rgb_kp.json',\n",
       " 'adjusted_100_dataset/a073_kp/S028C001P008R001A073_rgb_kp.json',\n",
       " 'adjusted_100_dataset/a073_kp/S022C003P064R002A073_rgb_kp.json',\n",
       " 'adjusted_100_dataset/a073_kp/S021C001P060R001A073_rgb_kp.json',\n",
       " 'adjusted_100_dataset/a073_kp/S028C002P073R001A073_rgb_kp.json',\n",
       " 'adjusted_100_dataset/a073_kp/S028C002P073R002A073_rgb_kp.json',\n",
       " 'adjusted_100_dataset/a073_kp/S020C002P053R002A073_rgb_kp.json',\n",
       " 'adjusted_100_dataset/a073_kp/S025C003P059R001A073_rgb_kp.json',\n",
       " 'adjusted_100_dataset/a073_kp/S027C003P079R002A073_rgb_kp.json',\n",
       " 'adjusted_100_dataset/a073_kp/S020C002P043R002A073_rgb_kp.json',\n",
       " 'adjusted_100_dataset/a073_kp/S022C003P067R002A073_rgb_kp.json',\n",
       " 'adjusted_100_dataset/a073_kp/S023C001P068R001A073_rgb_kp.json',\n",
       " 'adjusted_100_dataset/a073_kp/S018C002P043R002A073_rgb_kp.json',\n",
       " 'adjusted_100_dataset/a073_kp/S027C001P078R001A073_rgb_kp.json',\n",
       " 'adjusted_100_dataset/a073_kp/S027C003P083R002A073_rgb_kp.json',\n",
       " 'adjusted_100_dataset/a073_kp/S031C001P096R002A073_rgb_kp.json',\n",
       " 'adjusted_100_dataset/a073_kp/S027C003P044R002A073_rgb_kp.json',\n",
       " 'adjusted_100_dataset/a073_kp/S029C003P090R002A073_rgb_kp.json',\n",
       " 'adjusted_100_dataset/a073_kp/S027C002P079R001A073_rgb_kp.json',\n",
       " 'adjusted_100_dataset/a073_kp/S028C001P041R002A073_rgb_kp.json',\n",
       " 'adjusted_100_dataset/a073_kp/S031C002P099R002A073_rgb_kp.json',\n",
       " 'adjusted_100_dataset/a073_kp/S022C001P063R001A073_rgb_kp.json',\n",
       " 'adjusted_100_dataset/a073_kp/S020C001P041R002A073_rgb_kp.json',\n",
       " 'adjusted_100_dataset/a073_kp/S020C003P044R001A073_rgb_kp.json',\n",
       " 'adjusted_100_dataset/a073_kp/S025C003P066R001A073_rgb_kp.json',\n",
       " 'adjusted_100_dataset/a073_kp/S027C002P080R002A073_rgb_kp.json',\n",
       " 'adjusted_100_dataset/a073_kp/S030C001P008R002A073_rgb_kp.json',\n",
       " 'adjusted_100_dataset/a073_kp/S018C003P043R002A073_rgb_kp.json',\n",
       " 'adjusted_100_dataset/a073_kp/S030C003P011R001A073_rgb_kp.json',\n",
       " 'adjusted_100_dataset/a073_kp/S023C002P055R002A073_rgb_kp.json',\n",
       " 'adjusted_100_dataset/a073_kp/S029C003P048R002A073_rgb_kp.json',\n",
       " 'adjusted_100_dataset/a073_kp/S028C002P008R002A073_rgb_kp.json',\n",
       " 'adjusted_100_dataset/a073_kp/S031C001P097R001A073_rgb_kp.json',\n",
       " 'adjusted_100_dataset/a073_kp/S029C003P089R001A073_rgb_kp.json',\n",
       " 'adjusted_100_dataset/a073_kp/S027C002P084R002A073_rgb_kp.json',\n",
       " 'adjusted_100_dataset/a073_kp/S019C002P046R002A073_rgb_kp.json',\n",
       " 'adjusted_100_dataset/a073_kp/S030C001P096R002A073_rgb_kp.json',\n",
       " 'adjusted_100_dataset/a073_kp/S027C001P084R001A073_rgb_kp.json',\n",
       " 'adjusted_100_dataset/a073_kp/S030C003P041R002A073_rgb_kp.json',\n",
       " 'adjusted_100_dataset/a073_kp/S023C003P067R002A073_rgb_kp.json',\n",
       " 'adjusted_100_dataset/a073_kp/S031C001P041R001A073_rgb_kp.json',\n",
       " 'adjusted_100_dataset/a073_kp/S030C003P092R002A073_rgb_kp.json',\n",
       " 'adjusted_100_dataset/a073_kp/S028C002P008R001A073_rgb_kp.json',\n",
       " 'adjusted_100_dataset/a073_kp/S023C002P066R001A073_rgb_kp.json',\n",
       " 'adjusted_100_dataset/a073_kp/S019C003P041R001A073_rgb_kp.json',\n",
       " 'adjusted_100_dataset/a073_kp/S021C003P056R002A073_rgb_kp.json',\n",
       " 'adjusted_100_dataset/a073_kp/S032C002P008R001A073_rgb_kp.json',\n",
       " 'adjusted_100_dataset/a073_kp/S023C003P063R002A073_rgb_kp.json',\n",
       " 'adjusted_100_dataset/a073_kp/S019C002P042R002A073_rgb_kp.json',\n",
       " 'adjusted_100_dataset/a073_kp/S023C003P062R001A073_rgb_kp.json',\n",
       " 'adjusted_100_dataset/a073_kp/S027C003P080R001A073_rgb_kp.json',\n",
       " 'adjusted_100_dataset/a073_kp/S032C003P102R001A073_rgb_kp.json',\n",
       " 'adjusted_100_dataset/a073_kp/S023C003P063R001A073_rgb_kp.json',\n",
       " 'adjusted_100_dataset/a073_kp/S026C002P077R002A073_rgb_kp.json',\n",
       " 'adjusted_100_dataset/a073_kp/S019C002P047R002A073_rgb_kp.json',\n",
       " 'adjusted_100_dataset/a073_kp/S029C001P041R001A073_rgb_kp.json',\n",
       " 'adjusted_100_dataset/a073_kp/S032C001P067R002A073_rgb_kp.json',\n",
       " 'adjusted_100_dataset/a073_kp/S027C001P085R002A073_rgb_kp.json',\n",
       " 'adjusted_100_dataset/a073_kp/S030C003P041R001A073_rgb_kp.json',\n",
       " 'adjusted_100_dataset/a073_kp/S032C001P044R001A073_rgb_kp.json',\n",
       " 'adjusted_100_dataset/a073_kp/S031C003P051R001A073_rgb_kp.json',\n",
       " 'adjusted_100_dataset/a073_kp/S023C001P059R001A073_rgb_kp.json',\n",
       " 'adjusted_100_dataset/a073_kp/S028C001P043R002A073_rgb_kp.json',\n",
       " 'adjusted_100_dataset/a073_kp/S019C002P047R001A073_rgb_kp.json',\n",
       " 'adjusted_100_dataset/a073_kp/S019C001P046R002A073_rgb_kp.json',\n",
       " 'adjusted_100_dataset/a073_kp/S023C003P059R001A073_rgb_kp.json',\n",
       " 'adjusted_100_dataset/a073_kp/S026C002P044R001A073_rgb_kp.json',\n",
       " 'adjusted_100_dataset/a073_kp/S032C001P067R001A073_rgb_kp.json',\n",
       " 'adjusted_100_dataset/a073_kp/S026C003P071R001A073_rgb_kp.json',\n",
       " 'adjusted_100_dataset/a073_kp/S027C002P008R001A073_rgb_kp.json',\n",
       " 'adjusted_100_dataset/a073_kp/S027C003P085R001A073_rgb_kp.json',\n",
       " 'adjusted_100_dataset/a073_kp/S023C003P055R002A073_rgb_kp.json',\n",
       " 'adjusted_100_dataset/a073_kp/S026C001P075R002A073_rgb_kp.json',\n",
       " 'adjusted_100_dataset/a073_kp/S022C003P064R001A073_rgb_kp.json',\n",
       " 'adjusted_100_dataset/a073_kp/S024C003P060R002A073_rgb_kp.json',\n",
       " 'adjusted_100_dataset/a073_kp/S018C002P044R001A073_rgb_kp.json',\n",
       " 'adjusted_100_dataset/a073_kp/S027C002P006R001A073_rgb_kp.json',\n",
       " 'adjusted_100_dataset/a073_kp/S031C001P098R001A073_rgb_kp.json',\n",
       " 'adjusted_100_dataset/a073_kp/S030C002P081R002A073_rgb_kp.json',\n",
       " 'adjusted_100_dataset/a073_kp/S031C003P100R001A073_rgb_kp.json',\n",
       " 'adjusted_100_dataset/a073_kp/S018C001P008R002A073_rgb_kp.json',\n",
       " 'adjusted_100_dataset/a073_kp/S027C001P083R002A073_rgb_kp.json',\n",
       " 'adjusted_100_dataset/a073_kp/S030C001P075R001A073_rgb_kp.json',\n",
       " 'adjusted_100_dataset/a073_kp/S029C003P075R002A073_rgb_kp.json',\n",
       " 'adjusted_100_dataset/a073_kp/S029C003P089R002A073_rgb_kp.json',\n",
       " 'adjusted_100_dataset/a073_kp/S030C001P041R001A073_rgb_kp.json',\n",
       " 'adjusted_100_dataset/a073_kp/S024C002P064R002A073_rgb_kp.json',\n",
       " 'adjusted_100_dataset/a073_kp/S020C003P053R001A073_rgb_kp.json',\n",
       " 'adjusted_100_dataset/a073_kp/S032C003P104R001A073_rgb_kp.json',\n",
       " 'adjusted_100_dataset/a073_kp/S031C002P098R001A073_rgb_kp.json',\n",
       " 'adjusted_100_dataset/a073_kp/S021C003P059R002A073_rgb_kp.json',\n",
       " 'adjusted_100_dataset/a073_kp/S030C002P091R002A073_rgb_kp.json',\n",
       " 'adjusted_100_dataset/a073_kp/S026C003P051R001A073_rgb_kp.json',\n",
       " 'adjusted_100_dataset/a073_kp/S019C003P049R001A073_rgb_kp.json',\n",
       " 'adjusted_100_dataset/a073_kp/S027C003P079R001A073_rgb_kp.json',\n",
       " 'adjusted_100_dataset/a073_kp/S018C001P043R002A073_rgb_kp.json',\n",
       " 'adjusted_100_dataset/a073_kp/S020C003P041R002A073_rgb_kp.json',\n",
       " 'adjusted_100_dataset/a073_kp/S028C001P042R001A073_rgb_kp.json',\n",
       " 'adjusted_100_dataset/a073_kp/S026C002P051R002A073_rgb_kp.json',\n",
       " 'adjusted_100_dataset/a073_kp/S027C001P082R002A073_rgb_kp.json',\n",
       " 'adjusted_100_dataset/a073_kp/S029C001P080R002A073_rgb_kp.json',\n",
       " 'adjusted_100_dataset/a073_kp/S026C003P076R001A073_rgb_kp.json',\n",
       " 'adjusted_100_dataset/a073_kp/S031C002P101R001A073_rgb_kp.json',\n",
       " 'adjusted_100_dataset/a073_kp/S022C002P065R002A073_rgb_kp.json',\n",
       " 'adjusted_100_dataset/a073_kp/S027C001P043R001A073_rgb_kp.json',\n",
       " 'adjusted_100_dataset/a073_kp/S031C002P098R002A073_rgb_kp.json',\n",
       " 'adjusted_100_dataset/a073_kp/S030C002P067R002A073_rgb_kp.json',\n",
       " 'adjusted_100_dataset/a073_kp/S024C002P060R002A073_rgb_kp.json',\n",
       " 'adjusted_100_dataset/a073_kp/S029C002P090R002A073_rgb_kp.json',\n",
       " 'adjusted_100_dataset/a073_kp/S026C001P077R001A073_rgb_kp.json',\n",
       " 'adjusted_100_dataset/a073_kp/S029C002P049R001A073_rgb_kp.json',\n",
       " 'adjusted_100_dataset/a073_kp/S030C002P095R001A073_rgb_kp.json',\n",
       " 'adjusted_100_dataset/a073_kp/S021C003P055R001A073_rgb_kp.json',\n",
       " 'adjusted_100_dataset/a073_kp/S024C002P067R001A073_rgb_kp.json',\n",
       " 'adjusted_100_dataset/a073_kp/S026C003P071R002A073_rgb_kp.json',\n",
       " 'adjusted_100_dataset/a073_kp/S020C001P043R002A073_rgb_kp.json',\n",
       " 'adjusted_100_dataset/a073_kp/S031C002P041R001A073_rgb_kp.json',\n",
       " 'adjusted_100_dataset/a073_kp/S031C001P101R001A073_rgb_kp.json',\n",
       " 'adjusted_100_dataset/a073_kp/S026C003P070R002A073_rgb_kp.json',\n",
       " 'adjusted_100_dataset/a073_kp/S019C003P051R002A073_rgb_kp.json',\n",
       " 'adjusted_100_dataset/a073_kp/S028C002P043R001A073_rgb_kp.json',\n",
       " 'adjusted_100_dataset/a073_kp/S026C002P049R001A073_rgb_kp.json',\n",
       " 'adjusted_100_dataset/a073_kp/S019C001P050R002A073_rgb_kp.json',\n",
       " 'adjusted_100_dataset/a073_kp/S019C002P048R001A073_rgb_kp.json',\n",
       " 'adjusted_100_dataset/a073_kp/S025C003P056R002A073_rgb_kp.json',\n",
       " 'adjusted_100_dataset/a073_kp/S027C003P041R002A073_rgb_kp.json',\n",
       " 'adjusted_100_dataset/a073_kp/S023C003P066R001A073_rgb_kp.json',\n",
       " 'adjusted_100_dataset/a073_kp/S023C001P057R001A073_rgb_kp.json',\n",
       " 'adjusted_100_dataset/a073_kp/S023C001P056R001A073_rgb_kp.json',\n",
       " 'adjusted_100_dataset/a073_kp/S027C001P044R001A073_rgb_kp.json',\n",
       " 'adjusted_100_dataset/a073_kp/S027C001P079R001A073_rgb_kp.json',\n",
       " 'adjusted_100_dataset/a073_kp/S023C001P062R001A073_rgb_kp.json',\n",
       " 'adjusted_100_dataset/a073_kp/S030C001P048R002A073_rgb_kp.json',\n",
       " 'adjusted_100_dataset/a073_kp/S027C003P043R001A073_rgb_kp.json',\n",
       " 'adjusted_100_dataset/a073_kp/S028C003P070R001A073_rgb_kp.json',\n",
       " 'adjusted_100_dataset/a073_kp/S025C002P055R001A073_rgb_kp.json',\n",
       " 'adjusted_100_dataset/a073_kp/S020C003P043R001A073_rgb_kp.json',\n",
       " 'adjusted_100_dataset/a073_kp/S026C001P070R002A073_rgb_kp.json',\n",
       " 'adjusted_100_dataset/a073_kp/S020C001P008R001A073_rgb_kp.json',\n",
       " 'adjusted_100_dataset/a073_kp/S030C002P067R001A073_rgb_kp.json',\n",
       " 'adjusted_100_dataset/a073_kp/S031C002P096R002A073_rgb_kp.json',\n",
       " 'adjusted_100_dataset/a073_kp/S029C003P008R001A073_rgb_kp.json',\n",
       " 'adjusted_100_dataset/a073_kp/S030C001P088R001A073_rgb_kp.json',\n",
       " 'adjusted_100_dataset/a073_kp/S031C002P097R002A073_rgb_kp.json',\n",
       " 'adjusted_100_dataset/a073_kp/S026C001P069R001A073_rgb_kp.json',\n",
       " 'adjusted_100_dataset/a073_kp/S022C001P063R002A073_rgb_kp.json',\n",
       " 'adjusted_100_dataset/a073_kp/S025C003P055R001A073_rgb_kp.json',\n",
       " 'adjusted_100_dataset/a073_kp/S030C003P008R001A073_rgb_kp.json',\n",
       " 'adjusted_100_dataset/a073_kp/S027C002P085R001A073_rgb_kp.json',\n",
       " 'adjusted_100_dataset/a073_kp/S029C003P006R001A073_rgb_kp.json',\n",
       " 'adjusted_100_dataset/a073_kp/S022C003P063R002A073_rgb_kp.json',\n",
       " 'adjusted_100_dataset/a073_kp/S021C002P059R001A073_rgb_kp.json',\n",
       " 'adjusted_100_dataset/a073_kp/S019C001P042R002A073_rgb_kp.json',\n",
       " 'adjusted_100_dataset/a073_kp/S027C001P008R001A073_rgb_kp.json',\n",
       " 'adjusted_100_dataset/a073_kp/S031C003P096R002A073_rgb_kp.json',\n",
       " 'adjusted_100_dataset/a073_kp/S028C002P087R002A073_rgb_kp.json',\n",
       " 'adjusted_100_dataset/a073_kp/S018C001P043R001A073_rgb_kp.json',\n",
       " 'adjusted_100_dataset/a073_kp/S021C001P058R001A073_rgb_kp.json',\n",
       " 'adjusted_100_dataset/a073_kp/S020C003P008R001A073_rgb_kp.json',\n",
       " 'adjusted_100_dataset/a073_kp/S020C001P043R001A073_rgb_kp.json',\n",
       " 'adjusted_100_dataset/a073_kp/S029C002P043R002A073_rgb_kp.json',\n",
       " 'adjusted_100_dataset/a073_kp/S023C003P061R002A073_rgb_kp.json',\n",
       " 'adjusted_100_dataset/a073_kp/S024C002P062R001A073_rgb_kp.json',\n",
       " 'adjusted_100_dataset/a073_kp/S025C001P058R001A073_rgb_kp.json',\n",
       " 'adjusted_100_dataset/a073_kp/S027C001P083R001A073_rgb_kp.json',\n",
       " 'adjusted_100_dataset/a073_kp/S031C003P098R001A073_rgb_kp.json',\n",
       " 'adjusted_100_dataset/a073_kp/S032C001P008R002A073_rgb_kp.json',\n",
       " 'adjusted_100_dataset/a073_kp/S024C002P057R001A073_rgb_kp.json',\n",
       " 'adjusted_100_dataset/a073_kp/S019C003P041R002A073_rgb_kp.json',\n",
       " 'adjusted_100_dataset/a073_kp/S024C001P060R001A073_rgb_kp.json',\n",
       " 'adjusted_100_dataset/a073_kp/S027C002P044R001A073_rgb_kp.json',\n",
       " 'adjusted_100_dataset/a073_kp/S028C001P048R002A073_rgb_kp.json',\n",
       " 'adjusted_100_dataset/a073_kp/S030C001P094R002A073_rgb_kp.json',\n",
       " 'adjusted_100_dataset/a073_kp/S026C003P049R001A073_rgb_kp.json',\n",
       " 'adjusted_100_dataset/a073_kp/S028C003P046R002A073_rgb_kp.json',\n",
       " 'adjusted_100_dataset/a073_kp/S025C002P058R002A073_rgb_kp.json',\n",
       " 'adjusted_100_dataset/a073_kp/S024C001P061R002A073_rgb_kp.json',\n",
       " 'adjusted_100_dataset/a073_kp/S022C003P062R001A073_rgb_kp.json',\n",
       " 'adjusted_100_dataset/a073_kp/S030C002P088R001A073_rgb_kp.json',\n",
       " 'adjusted_100_dataset/a073_kp/S024C003P061R001A073_rgb_kp.json',\n",
       " 'adjusted_100_dataset/a073_kp/S031C003P008R001A073_rgb_kp.json',\n",
       " 'adjusted_100_dataset/a073_kp/S026C002P074R002A073_rgb_kp.json',\n",
       " 'adjusted_100_dataset/a073_kp/S021C002P058R001A073_rgb_kp.json',\n",
       " 'adjusted_100_dataset/a073_kp/S027C003P008R002A073_rgb_kp.json',\n",
       " 'adjusted_100_dataset/a073_kp/S019C001P050R001A073_rgb_kp.json',\n",
       " 'adjusted_100_dataset/a073_kp/S019C003P050R002A073_rgb_kp.json',\n",
       " 'adjusted_100_dataset/a073_kp/S023C003P056R001A073_rgb_kp.json',\n",
       " 'adjusted_100_dataset/a073_kp/S026C001P008R002A073_rgb_kp.json',\n",
       " 'adjusted_100_dataset/a073_kp/S026C001P070R001A073_rgb_kp.json',\n",
       " 'adjusted_100_dataset/a073_kp/S019C003P042R001A073_rgb_kp.json',\n",
       " 'adjusted_100_dataset/a073_kp/S022C002P066R002A073_rgb_kp.json',\n",
       " 'adjusted_100_dataset/a073_kp/S022C001P061R002A073_rgb_kp.json',\n",
       " 'adjusted_100_dataset/a073_kp/S026C001P051R001A073_rgb_kp.json',\n",
       " 'adjusted_100_dataset/a073_kp/S023C002P060R002A073_rgb_kp.json',\n",
       " 'adjusted_100_dataset/a073_kp/S029C001P088R002A073_rgb_kp.json',\n",
       " 'adjusted_100_dataset/a073_kp/S027C002P079R002A073_rgb_kp.json',\n",
       " 'adjusted_100_dataset/a073_kp/S025C002P066R001A073_rgb_kp.json',\n",
       " 'adjusted_100_dataset/a073_kp/S025C002P056R001A073_rgb_kp.json',\n",
       " 'adjusted_100_dataset/a073_kp/S032C001P102R002A073_rgb_kp.json',\n",
       " 'adjusted_100_dataset/a073_kp/S021C003P059R001A073_rgb_kp.json',\n",
       " 'adjusted_100_dataset/a073_kp/S018C001P008R001A073_rgb_kp.json',\n",
       " 'adjusted_100_dataset/a073_kp/S026C002P077R001A073_rgb_kp.json',\n",
       " 'adjusted_100_dataset/a073_kp/S022C002P067R002A073_rgb_kp.json',\n",
       " 'adjusted_100_dataset/a073_kp/S027C002P086R002A073_rgb_kp.json',\n",
       " 'adjusted_100_dataset/a073_kp/S027C003P085R002A073_rgb_kp.json',\n",
       " 'adjusted_100_dataset/a073_kp/S031C003P006R002A073_rgb_kp.json',\n",
       " 'adjusted_100_dataset/a073_kp/S026C002P075R002A073_rgb_kp.json',\n",
       " 'adjusted_100_dataset/a073_kp/S032C003P044R001A073_rgb_kp.json',\n",
       " 'adjusted_100_dataset/a073_kp/S029C003P043R001A073_rgb_kp.json',\n",
       " 'adjusted_100_dataset/a073_kp/S031C001P067R001A073_rgb_kp.json',\n",
       " 'adjusted_100_dataset/a073_kp/S023C001P061R002A073_rgb_kp.json',\n",
       " 'adjusted_100_dataset/a073_kp/S021C003P055R002A073_rgb_kp.json',\n",
       " 'adjusted_100_dataset/a073_kp/S031C003P043R002A073_rgb_kp.json',\n",
       " 'adjusted_100_dataset/a073_kp/S030C002P088R002A073_rgb_kp.json',\n",
       " 'adjusted_100_dataset/a073_kp/S030C003P094R002A073_rgb_kp.json',\n",
       " 'adjusted_100_dataset/a073_kp/S020C003P043R002A073_rgb_kp.json',\n",
       " 'adjusted_100_dataset/a073_kp/S025C001P065R001A073_rgb_kp.json',\n",
       " 'adjusted_100_dataset/a073_kp/S026C003P041R001A073_rgb_kp.json',\n",
       " 'adjusted_100_dataset/a073_kp/S023C003P058R002A073_rgb_kp.json',\n",
       " 'adjusted_100_dataset/a073_kp/S028C003P043R001A073_rgb_kp.json',\n",
       " 'adjusted_100_dataset/a073_kp/S029C001P089R002A073_rgb_kp.json',\n",
       " 'adjusted_100_dataset/a073_kp/S021C002P057R002A073_rgb_kp.json',\n",
       " 'adjusted_100_dataset/a073_kp/S020C002P052R002A073_rgb_kp.json',\n",
       " 'adjusted_100_dataset/a073_kp/S030C003P044R001A073_rgb_kp.json',\n",
       " 'adjusted_100_dataset/a073_kp/S019C002P008R001A073_rgb_kp.json',\n",
       " 'adjusted_100_dataset/a073_kp/S018C001P045R001A073_rgb_kp.json',\n",
       " 'adjusted_100_dataset/a073_kp/S031C003P067R001A073_rgb_kp.json',\n",
       " 'adjusted_100_dataset/a073_kp/S031C002P006R002A073_rgb_kp.json',\n",
       " 'adjusted_100_dataset/a073_kp/S032C003P106R001A073_rgb_kp.json',\n",
       " 'adjusted_100_dataset/a073_kp/S031C002P082R001A073_rgb_kp.json',\n",
       " 'adjusted_100_dataset/a073_kp/S018C002P042R001A073_rgb_kp.json',\n",
       " 'adjusted_100_dataset/a073_kp/S025C002P065R001A073_rgb_kp.json',\n",
       " 'adjusted_100_dataset/a073_kp/S031C001P085R002A073_rgb_kp.json',\n",
       " 'adjusted_100_dataset/a073_kp/S031C001P096R001A073_rgb_kp.json',\n",
       " 'adjusted_100_dataset/a073_kp/S023C002P068R002A073_rgb_kp.json',\n",
       " 'adjusted_100_dataset/a073_kp/S023C003P065R001A073_rgb_kp.json',\n",
       " 'adjusted_100_dataset/a073_kp/S024C001P064R001A073_rgb_kp.json',\n",
       " 'adjusted_100_dataset/a073_kp/S026C002P041R001A073_rgb_kp.json',\n",
       " 'adjusted_100_dataset/a073_kp/S021C002P056R002A073_rgb_kp.json',\n",
       " 'adjusted_100_dataset/a073_kp/S018C002P045R002A073_rgb_kp.json',\n",
       " 'adjusted_100_dataset/a073_kp/S030C002P048R002A073_rgb_kp.json',\n",
       " 'adjusted_100_dataset/a073_kp/S029C002P048R001A073_rgb_kp.json',\n",
       " 'adjusted_100_dataset/a073_kp/S032C003P041R001A073_rgb_kp.json',\n",
       " 'adjusted_100_dataset/a073_kp/S024C001P060R002A073_rgb_kp.json',\n",
       " 'adjusted_100_dataset/a073_kp/S027C003P008R001A073_rgb_kp.json',\n",
       " 'adjusted_100_dataset/a073_kp/S031C001P099R001A073_rgb_kp.json',\n",
       " 'adjusted_100_dataset/a073_kp/S027C002P043R001A073_rgb_kp.json',\n",
       " 'adjusted_100_dataset/a073_kp/S029C003P090R001A073_rgb_kp.json',\n",
       " 'adjusted_100_dataset/a073_kp/S018C001P045R002A073_rgb_kp.json',\n",
       " 'adjusted_100_dataset/a073_kp/S029C001P074R001A073_rgb_kp.json',\n",
       " 'adjusted_100_dataset/a073_kp/S030C001P093R002A073_rgb_kp.json',\n",
       " 'adjusted_100_dataset/a073_kp/S019C001P008R001A073_rgb_kp.json',\n",
       " 'adjusted_100_dataset/a073_kp/S024C003P060R001A073_rgb_kp.json',\n",
       " 'adjusted_100_dataset/a073_kp/S024C003P064R002A073_rgb_kp.json',\n",
       " 'adjusted_100_dataset/a073_kp/S019C001P042R001A073_rgb_kp.json',\n",
       " 'adjusted_100_dataset/a073_kp/S030C001P095R002A073_rgb_kp.json',\n",
       " 'adjusted_100_dataset/a073_kp/S019C001P049R001A073_rgb_kp.json',\n",
       " 'adjusted_100_dataset/a073_kp/S031C001P098R002A073_rgb_kp.json',\n",
       " 'adjusted_100_dataset/a073_kp/S032C001P008R001A073_rgb_kp.json',\n",
       " 'adjusted_100_dataset/a073_kp/S024C002P057R002A073_rgb_kp.json',\n",
       " 'adjusted_100_dataset/a073_kp/S031C002P067R002A073_rgb_kp.json',\n",
       " 'adjusted_100_dataset/a073_kp/S025C001P059R001A073_rgb_kp.json',\n",
       " 'adjusted_100_dataset/a073_kp/S028C002P041R001A073_rgb_kp.json',\n",
       " 'adjusted_100_dataset/a073_kp/S018C003P041R002A073_rgb_kp.json',\n",
       " 'adjusted_100_dataset/a073_kp/S027C003P043R002A073_rgb_kp.json',\n",
       " 'adjusted_100_dataset/a073_kp/S020C001P053R001A073_rgb_kp.json',\n",
       " 'adjusted_100_dataset/a073_kp/S024C003P057R001A073_rgb_kp.json',\n",
       " 'adjusted_100_dataset/a073_kp/S027C003P081R001A073_rgb_kp.json',\n",
       " 'adjusted_100_dataset/a073_kp/S031C002P085R001A073_rgb_kp.json',\n",
       " 'adjusted_100_dataset/a073_kp/S032C002P041R001A073_rgb_kp.json',\n",
       " 'adjusted_100_dataset/a073_kp/S026C001P071R001A073_rgb_kp.json',\n",
       " 'adjusted_100_dataset/a073_kp/S027C002P078R002A073_rgb_kp.json',\n",
       " 'adjusted_100_dataset/a073_kp/S032C002P008R002A073_rgb_kp.json',\n",
       " 'adjusted_100_dataset/a073_kp/S020C003P054R002A073_rgb_kp.json',\n",
       " 'adjusted_100_dataset/a073_kp/S029C001P043R001A073_rgb_kp.json',\n",
       " 'adjusted_100_dataset/a073_kp/S030C003P075R001A073_rgb_kp.json',\n",
       " 'adjusted_100_dataset/a073_kp/S029C003P088R002A073_rgb_kp.json',\n",
       " 'adjusted_100_dataset/a073_kp/S031C002P042R001A073_rgb_kp.json',\n",
       " 'adjusted_100_dataset/a073_kp/S026C002P071R001A073_rgb_kp.json',\n",
       " 'adjusted_100_dataset/a073_kp/S023C002P068R001A073_rgb_kp.json',\n",
       " 'adjusted_100_dataset/a073_kp/S030C001P094R001A073_rgb_kp.json',\n",
       " 'adjusted_100_dataset/a073_kp/S023C002P064R002A073_rgb_kp.json',\n",
       " 'adjusted_100_dataset/a073_kp/S029C002P075R002A073_rgb_kp.json',\n",
       " 'adjusted_100_dataset/a073_kp/S030C001P008R001A073_rgb_kp.json',\n",
       " 'adjusted_100_dataset/a073_kp/S023C002P055R001A073_rgb_kp.json',\n",
       " 'adjusted_100_dataset/a073_kp/S029C003P074R002A073_rgb_kp.json',\n",
       " 'adjusted_100_dataset/a073_kp/S024C001P067R001A073_rgb_kp.json',\n",
       " 'adjusted_100_dataset/a073_kp/S020C001P053R002A073_rgb_kp.json',\n",
       " 'adjusted_100_dataset/a073_kp/S029C003P006R002A073_rgb_kp.json',\n",
       " 'adjusted_100_dataset/a073_kp/S031C002P082R002A073_rgb_kp.json',\n",
       " 'adjusted_100_dataset/a073_kp/S030C001P048R001A073_rgb_kp.json',\n",
       " 'adjusted_100_dataset/a073_kp/S023C001P058R002A073_rgb_kp.json',\n",
       " 'adjusted_100_dataset/a073_kp/S032C003P106R002A073_rgb_kp.json',\n",
       " 'adjusted_100_dataset/a073_kp/S031C002P042R002A073_rgb_kp.json',\n",
       " 'adjusted_100_dataset/a073_kp/S027C003P082R002A073_rgb_kp.json',\n",
       " 'adjusted_100_dataset/a073_kp/S024C002P062R002A073_rgb_kp.json',\n",
       " 'adjusted_100_dataset/a073_kp/S023C001P064R002A073_rgb_kp.json',\n",
       " 'adjusted_100_dataset/a073_kp/S031C001P067R002A073_rgb_kp.json',\n",
       " 'adjusted_100_dataset/a073_kp/S018C002P043R001A073_rgb_kp.json',\n",
       " 'adjusted_100_dataset/a073_kp/S031C003P043R001A073_rgb_kp.json',\n",
       " 'adjusted_100_dataset/a073_kp/S026C003P069R002A073_rgb_kp.json',\n",
       " 'adjusted_100_dataset/a073_kp/S028C003P008R002A073_rgb_kp.json',\n",
       " 'adjusted_100_dataset/a073_kp/S026C001P041R002A073_rgb_kp.json',\n",
       " 'adjusted_100_dataset/a073_kp/S020C003P008R002A073_rgb_kp.json',\n",
       " 'adjusted_100_dataset/a073_kp/S030C002P093R001A073_rgb_kp.json',\n",
       " 'adjusted_100_dataset/a073_kp/S029C001P008R001A073_rgb_kp.json',\n",
       " 'adjusted_100_dataset/a073_kp/S028C003P046R001A073_rgb_kp.json',\n",
       " 'adjusted_100_dataset/a073_kp/S028C001P070R001A073_rgb_kp.json',\n",
       " 'adjusted_100_dataset/a073_kp/S022C002P064R001A073_rgb_kp.json',\n",
       " 'adjusted_100_dataset/a073_kp/S023C002P065R001A073_rgb_kp.json',\n",
       " 'adjusted_100_dataset/a073_kp/S030C001P043R002A073_rgb_kp.json',\n",
       " 'adjusted_100_dataset/a073_kp/S021C002P056R001A073_rgb_kp.json',\n",
       " 'adjusted_100_dataset/a073_kp/S024C001P063R001A073_rgb_kp.json',\n",
       " 'adjusted_100_dataset/a073_kp/S030C001P081R001A073_rgb_kp.json',\n",
       " 'adjusted_100_dataset/a073_kp/S018C003P041R001A073_rgb_kp.json',\n",
       " 'adjusted_100_dataset/a073_kp/S024C003P057R002A073_rgb_kp.json',\n",
       " 'adjusted_100_dataset/a073_kp/S032C001P044R002A073_rgb_kp.json',\n",
       " 'adjusted_100_dataset/a086_kp/S027C001P011R002A086_rgb_kp.json',\n",
       " 'adjusted_100_dataset/a086_kp/S032C001P104R001A086_rgb_kp.json',\n",
       " 'adjusted_100_dataset/a086_kp/S025C001P056R002A086_rgb_kp.json',\n",
       " 'adjusted_100_dataset/a086_kp/S023C001P063R001A086_rgb_kp.json',\n",
       " 'adjusted_100_dataset/a086_kp/S026C003P069R001A086_rgb_kp.json',\n",
       " 'adjusted_100_dataset/a086_kp/S023C003P059R001A086_rgb_kp.json',\n",
       " 'adjusted_100_dataset/a086_kp/S021C002P057R001A086_rgb_kp.json',\n",
       " 'adjusted_100_dataset/a086_kp/S026C001P074R001A086_rgb_kp.json',\n",
       " 'adjusted_100_dataset/a086_kp/S029C002P008R001A086_rgb_kp.json',\n",
       " 'adjusted_100_dataset/a086_kp/S027C002P079R001A086_rgb_kp.json',\n",
       " 'adjusted_100_dataset/a086_kp/S026C003P044R002A086_rgb_kp.json',\n",
       " 'adjusted_100_dataset/a086_kp/S024C001P057R001A086_rgb_kp.json',\n",
       " 'adjusted_100_dataset/a086_kp/S031C001P041R002A086_rgb_kp.json',\n",
       " 'adjusted_100_dataset/a086_kp/S027C002P084R002A086_rgb_kp.json',\n",
       " 'adjusted_100_dataset/a086_kp/S029C001P006R002A086_rgb_kp.json',\n",
       " 'adjusted_100_dataset/a086_kp/S029C003P088R002A086_rgb_kp.json',\n",
       " 'adjusted_100_dataset/a086_kp/S027C002P041R002A086_rgb_kp.json',\n",
       " 'adjusted_100_dataset/a086_kp/S026C003P050R001A086_rgb_kp.json',\n",
       " 'adjusted_100_dataset/a086_kp/S027C003P008R002A086_rgb_kp.json',\n",
       " 'adjusted_100_dataset/a086_kp/S029C001P048R002A086_rgb_kp.json',\n",
       " 'adjusted_100_dataset/a086_kp/S024C002P067R002A086_rgb_kp.json',\n",
       " 'adjusted_100_dataset/a086_kp/S029C003P089R002A086_rgb_kp.json',\n",
       " 'adjusted_100_dataset/a086_kp/S030C002P008R001A086_rgb_kp.json',\n",
       " 'adjusted_100_dataset/a086_kp/S026C001P044R001A086_rgb_kp.json',\n",
       " 'adjusted_100_dataset/a086_kp/S023C001P066R002A086_rgb_kp.json',\n",
       " 'adjusted_100_dataset/a086_kp/S025C003P065R002A086_rgb_kp.json',\n",
       " 'adjusted_100_dataset/a086_kp/S031C001P082R001A086_rgb_kp.json',\n",
       " 'adjusted_100_dataset/a086_kp/S031C003P006R002A086_rgb_kp.json',\n",
       " 'adjusted_100_dataset/a086_kp/S023C003P056R002A086_rgb_kp.json',\n",
       " 'adjusted_100_dataset/a086_kp/S030C002P095R001A086_rgb_kp.json',\n",
       " 'adjusted_100_dataset/a086_kp/S023C002P068R001A086_rgb_kp.json',\n",
       " 'adjusted_100_dataset/a086_kp/S032C001P041R002A086_rgb_kp.json',\n",
       " 'adjusted_100_dataset/a086_kp/S031C001P096R001A086_rgb_kp.json',\n",
       " 'adjusted_100_dataset/a086_kp/S032C001P104R002A086_rgb_kp.json',\n",
       " 'adjusted_100_dataset/a086_kp/S027C001P085R002A086_rgb_kp.json',\n",
       " 'adjusted_100_dataset/a086_kp/S023C001P061R002A086_rgb_kp.json',\n",
       " 'adjusted_100_dataset/a086_kp/S021C002P056R002A086_rgb_kp.json',\n",
       " 'adjusted_100_dataset/a086_kp/S023C003P067R002A086_rgb_kp.json',\n",
       " 'adjusted_100_dataset/a086_kp/S028C003P073R001A086_rgb_kp.json',\n",
       " 'adjusted_100_dataset/a086_kp/S020C001P041R001A086_rgb_kp.json',\n",
       " 'adjusted_100_dataset/a086_kp/S029C001P080R001A086_rgb_kp.json',\n",
       " 'adjusted_100_dataset/a086_kp/S023C003P068R001A086_rgb_kp.json',\n",
       " 'adjusted_100_dataset/a086_kp/S026C001P049R002A086_rgb_kp.json',\n",
       " 'adjusted_100_dataset/a086_kp/S029C003P006R002A086_rgb_kp.json',\n",
       " 'adjusted_100_dataset/a086_kp/S024C002P064R001A086_rgb_kp.json',\n",
       " ...]"
      ]
     },
     "execution_count": 96,
     "metadata": {},
     "output_type": "execute_result"
    }
   ],
   "source": [
    "dataset.all_data_dir_list"
   ]
  },
  {
   "cell_type": "code",
   "execution_count": 101,
   "metadata": {},
   "outputs": [
    {
     "data": {
      "text/plain": [
       "73"
      ]
     },
     "execution_count": 101,
     "metadata": {},
     "output_type": "execute_result"
    }
   ],
   "source": [
    "len(dataset.action_dir_dic.keys())"
   ]
  },
  {
   "cell_type": "code",
   "execution_count": null,
   "metadata": {},
   "outputs": [],
   "source": [
    "dataset.all_data_dir_list[0], dataset.all_data_dir_list[90], dataset.all_data_dir_list[10201], dataset.all_data_dir_list[56704]"
   ]
  },
  {
   "cell_type": "code",
   "execution_count": 84,
   "metadata": {},
   "outputs": [
    {
     "data": {
      "text/plain": [
       "dict_keys(['anchor', 'anchor_heatmap', 'anchor_flow', 'class'])"
      ]
     },
     "execution_count": 84,
     "metadata": {},
     "output_type": "execute_result"
    }
   ],
   "source": [
    "data_item = dataset[100]\n",
    "data_item.keys()\n",
    "# data_item['semi_positives_c0'][0].size()"
   ]
  },
  {
   "cell_type": "code",
   "execution_count": null,
   "metadata": {},
   "outputs": [],
   "source": [
    "for key in data_item.keys():\n",
    "    if key == 'class':\n",
    "        print(key)\n",
    "        print(data_item[key])\n",
    "    else:\n",
    "        print(key)\n",
    "        print(data_item[key].size())\n",
    "        print(data_item[key].max())\n",
    "        print(data_item[key].min())"
   ]
  },
  {
   "cell_type": "code",
   "execution_count": null,
   "metadata": {},
   "outputs": [],
   "source": [
    "data_item['heatmap'].size()"
   ]
  },
  {
   "cell_type": "code",
   "execution_count": null,
   "metadata": {},
   "outputs": [],
   "source": [
    "data_item['optical_flow'].size()"
   ]
  },
  {
   "cell_type": "code",
   "execution_count": null,
   "metadata": {},
   "outputs": [],
   "source": [
    "heatmap = data_item['heatmap']\n",
    "optical_flow = data_item['optical_flow']\n",
    "origin = data_item['origin']"
   ]
  },
  {
   "cell_type": "code",
   "execution_count": null,
   "metadata": {},
   "outputs": [],
   "source": [
    "origin.size()"
   ]
  },
  {
   "cell_type": "code",
   "execution_count": null,
   "metadata": {},
   "outputs": [],
   "source": [
    "print(optical_flow[:,:,[0],:,:].sum(dim=1).reshape(-1,270,480)[0].max())\n",
    "print(optical_flow[:,:,[0],:,:].sum(dim=1)[0].max())\n",
    "print(optical_flow[:,:,[0],:,:].sum(dim=1)[1].max())"
   ]
  },
  {
   "cell_type": "code",
   "execution_count": null,
   "metadata": {},
   "outputs": [],
   "source": [
    "print(heatmap[0].sum(dim=[0]).shape)\n",
    "print(optical_flow[:,:,[0],:,:][0].sum(dim=[0,1]).shape)\n",
    "print(heatmap.sum(dim=1).shape)\n",
    "print(optical_flow[:,:,[0],:,:].sum(dim=[1,2]).shape)"
   ]
  },
  {
   "cell_type": "code",
   "execution_count": null,
   "metadata": {},
   "outputs": [],
   "source": [
    "def flow_viz(heatmap, optical_flow):\n",
    "    heatmap_vis = heatmap.sum(dim=1)\n",
    "    # optical_flow_x = optical_flow[:,:,[0],:,:].sum(dim=[1,2])\n",
    "    # optical_flow_y = optical_flow[:,:,[1],:,:].sum(dim=[1,2])\n",
    "    optical_flow_x = optical_flow[:,:,[0],:,:]\n",
    "    optical_flow_y = optical_flow[:,:,[1],:,:]\n",
    "\n",
    "    i,j = np.meshgrid(np.arange(heatmap.sha))\n",
    "    for i in range(1, len(heatmap_vis)):\n",
    "        heat = heatmap_vis[i]\n",
    "        u = optical_flow_x[i-1]\n",
    "        v = optical_flow_y[i-1]\n",
    "        plt.imshow(heat)\n",
    "        plt.quiver(heat,u,v)\n",
    "        plt.show()"
   ]
  },
  {
   "cell_type": "code",
   "execution_count": null,
   "metadata": {},
   "outputs": [],
   "source": [
    "def flow_viz(heatmap, optical_flow):\n",
    "    B,J,H,W = heatmap.shape\n",
    "\n",
    "    optical_flow_x = optical_flow[:,:,[0],:,:]\n",
    "    optical_flow_y = optical_flow[:,:,[1],:,:]\n",
    "\n",
    "    x,y = np.meshgrid(np.arange(W, dtype=np.float32), np.arange(H, dtype=np.float32), indexing='xy')\n",
    "    print(optical_flow_x.shape, x.shape)\n",
    "    for i in range(1, B):\n",
    "        plt.subplot(121)\n",
    "        plt.imshow(heatmap[i-1][5])\n",
    "        \n",
    "        plt.subplot(122)\n",
    "        plt.imshow(heatmap[i][5])\n",
    "        # u = optical_flow_x[i-1][7].squeeze()\n",
    "        # v = optical_flow_y[i-1][7].squeeze()\n",
    "        # plt.quiver(x,y,u,v)\n",
    "        plt.show()"
   ]
  },
  {
   "cell_type": "code",
   "execution_count": null,
   "metadata": {},
   "outputs": [],
   "source": [
    "origin.shape"
   ]
  },
  {
   "cell_type": "code",
   "execution_count": null,
   "metadata": {},
   "outputs": [],
   "source": [
    "keypoints = origin[:, 5,:]\n",
    "\n",
    "flow = keypoints[1:] - keypoints[:-1]\n",
    "flow.shape"
   ]
  },
  {
   "cell_type": "code",
   "execution_count": null,
   "metadata": {},
   "outputs": [],
   "source": [
    "flow[0][0]"
   ]
  },
  {
   "cell_type": "code",
   "execution_count": null,
   "metadata": {},
   "outputs": [],
   "source": [
    "origin"
   ]
  },
  {
   "cell_type": "code",
   "execution_count": null,
   "metadata": {},
   "outputs": [],
   "source": []
  },
  {
   "cell_type": "code",
   "execution_count": null,
   "metadata": {},
   "outputs": [],
   "source": [
    "u"
   ]
  },
  {
   "cell_type": "code",
   "execution_count": null,
   "metadata": {},
   "outputs": [],
   "source": [
    "v"
   ]
  },
  {
   "cell_type": "code",
   "execution_count": null,
   "metadata": {},
   "outputs": [],
   "source": [
    "u.shape, v.shape"
   ]
  },
  {
   "cell_type": "code",
   "execution_count": null,
   "metadata": {},
   "outputs": [],
   "source": [
    "v"
   ]
  },
  {
   "cell_type": "code",
   "execution_count": null,
   "metadata": {},
   "outputs": [],
   "source": [
    "u"
   ]
  },
  {
   "cell_type": "code",
   "execution_count": null,
   "metadata": {},
   "outputs": [],
   "source": [
    "origin"
   ]
  },
  {
   "cell_type": "code",
   "execution_count": null,
   "metadata": {},
   "outputs": [],
   "source": [
    "# 5:R_shoulder\n",
    "keypoints = origin[:, 5,:] # [12,17,2]\n",
    "flow = keypoints[:-1] - keypoints[1:]\n",
    "\n",
    "flowmap = torch.zeros((11, 2, 270, 480))\n",
    "for i in range(len(flow)):\n",
    "    flowmap[i][0] = flowmap[i][0] + flow[i][0]\n",
    "    flowmap[i][1] = flowmap[i][1] + flow[i][1]"
   ]
  },
  {
   "cell_type": "code",
   "execution_count": null,
   "metadata": {},
   "outputs": [],
   "source": [
    "flow"
   ]
  },
  {
   "cell_type": "code",
   "execution_count": null,
   "metadata": {},
   "outputs": [],
   "source": [
    "keypoints"
   ]
  },
  {
   "cell_type": "code",
   "execution_count": null,
   "metadata": {},
   "outputs": [],
   "source": [
    "from torch.nn import functional as F\n",
    "\n",
    "i,j = np.meshgrid(np.arange(480, dtype=np.float32), np.arange(270, dtype=np.float32))\n",
    "\n",
    "u = flowmap[0,0]\n",
    "v = flowmap[0,1]\n",
    "\n",
    "# flowmap_normalized = F.normalize(flowmap, dim=1)\n",
    "# u = flowmap_normalized[0,0]\n",
    "# v = flowmap_normalized[0,1]\n",
    "\n",
    "u_vis = torch.zeros_like(u, requires_grad=False)\n",
    "v_vis = torch.zeros_like(v, requires_grad=False)\n",
    "# u_vis[::10, ::10] = u[::10, ::10]\n",
    "# v_vis[::10, ::10] = v[::10, ::10]\n",
    "\n",
    "plt.subplot(121)\n",
    "plt.imshow(heatmap[0][5])\n",
    "plt.subplot(122)\n",
    "plt.imshow(heatmap[1][5])\n",
    "\n",
    "uu = u * heatmap[1][5]\n",
    "vv = v * heatmap[1][5]\n",
    "r, w = 10, 10\n",
    "# plt.quiver(i,j,uu,vv, scale=5)\n",
    "plt.quiver(i[::r, ::w],j[::r, ::w],uu[::r, ::w],vv[::r, ::w])\n",
    "\n",
    "plt.show()\n",
    "\n",
    "# plt.quiver(i,j,u_vis,v_vis)\n",
    "# plt.show()"
   ]
  },
  {
   "cell_type": "code",
   "execution_count": null,
   "metadata": {},
   "outputs": [],
   "source": [
    "u * heatmap[1][5]"
   ]
  },
  {
   "cell_type": "code",
   "execution_count": null,
   "metadata": {},
   "outputs": [],
   "source": [
    "flow"
   ]
  },
  {
   "cell_type": "code",
   "execution_count": null,
   "metadata": {},
   "outputs": [],
   "source": [
    "flowmap "
   ]
  },
  {
   "cell_type": "code",
   "execution_count": null,
   "metadata": {},
   "outputs": [],
   "source": [
    "heatmap.shape"
   ]
  },
  {
   "cell_type": "code",
   "execution_count": null,
   "metadata": {},
   "outputs": [],
   "source": [
    "optical_flow[0][0][0]"
   ]
  },
  {
   "cell_type": "code",
   "execution_count": null,
   "metadata": {},
   "outputs": [],
   "source": [
    "flow_viz(heatmap=heatmap, optical_flow=optical_flow)"
   ]
  },
  {
   "cell_type": "code",
   "execution_count": null,
   "metadata": {},
   "outputs": [],
   "source": [
    "def heatmap_viz(heatmap):\n",
    "\n",
    "    heatmap_vis = heatmap.sum(dim=1)\n",
    "    \n",
    "    for i in range(len(heatmap)):\n",
    "        # tmp_heatmap = torch.zeros(heatmap.shape[2:4])\n",
    "        # for j in range(len(heatmap[i])):\n",
    "        #     tmp_heatmap += heatmap[i][j]\n",
    "            # if j == 0:\n",
    "            #     tmp_heatmap = heatmap[i][j]\n",
    "            # else:\n",
    "            #     tmp_heatmap += heatmap[i][j]\n",
    "        \n",
    "        # plt.imshow(tmp_heatmap)\n",
    "        plt.imshow(heatmap_vis[i])\n",
    "        plt.show()"
   ]
  },
  {
   "cell_type": "code",
   "execution_count": null,
   "metadata": {},
   "outputs": [],
   "source": [
    "heatmap_viz(data_item['heatmap'])"
   ]
  },
  {
   "cell_type": "code",
   "execution_count": null,
   "metadata": {},
   "outputs": [],
   "source": [
    "heatmap_viz(data_item['heatmap'])"
   ]
  },
  {
   "cell_type": "code",
   "execution_count": null,
   "metadata": {},
   "outputs": [],
   "source": [
    "heatmap = data_item['heatmap']"
   ]
  },
  {
   "cell_type": "code",
   "execution_count": null,
   "metadata": {},
   "outputs": [],
   "source": [
    "flow_1_0 = (heatmap[1] - heatmap[0]) * heatmap[1]\n",
    "x = flow_1_0[0].max(dim=1)[1].max()\n",
    "y = flow_1_0[0].max(dim=0)[1].max()\n",
    "flow_x = (flow_1_0[0] + x) * heatmap[1][0]\n",
    "flow_y = (flow_1_0[0] + y) * heatmap[1][0]\n",
    "print(flow_x.max())\n",
    "print(flow_y.max())"
   ]
  },
  {
   "cell_type": "code",
   "execution_count": null,
   "metadata": {},
   "outputs": [],
   "source": [
    "plt.imshow(flow_x)"
   ]
  },
  {
   "cell_type": "code",
   "execution_count": null,
   "metadata": {},
   "outputs": [],
   "source": [
    "plt.imshow(flow_y)"
   ]
  },
  {
   "cell_type": "code",
   "execution_count": null,
   "metadata": {},
   "outputs": [],
   "source": [
    "for i in range(5):\n",
    "    print(f\"anchor_c{i}\", data_item[f\"anchor_c{i}\"].shape)\n",
    "    print(f\"anchor_aug_c{i}\", data_item[f\"anchor_aug_c{i}\"].shape)\n",
    "    print(f\"semi_positives_c{i}\", data_item[f\"semi_positives_c{i}\"].shape)"
   ]
  },
  {
   "cell_type": "code",
   "execution_count": null,
   "metadata": {},
   "outputs": [],
   "source": [
    "import os"
   ]
  },
  {
   "cell_type": "code",
   "execution_count": null,
   "metadata": {},
   "outputs": [],
   "source": [
    "def visualize_keypoint(c0, c1, c2, c3, c4, a):\n",
    "    __, K, D = c0.shape\n",
    "    os.mkdir('test/semi/'+a.split('/')[-1].split('.')[0])\n",
    "    \n",
    "    neck_keypoint = np.array([5.0, 5.0]).reshape(1, 1, 2)\n",
    "    neck_keypoint = np.tile(neck_keypoint, [1, K, 1])\n",
    "    \n",
    "    nose = c0[:, :, :2] + neck_keypoint\n",
    "    left_shoulder = c0[:, :, 2:4] + neck_keypoint\n",
    "    right_shoulder = c0[:, :, 4:6] + neck_keypoint\n",
    "    mid_hip = c0[:, :, 6:8] + neck_keypoint\n",
    "    left_hip = c0[:, :, 8:10] + mid_hip\n",
    "    right_hip = c0[:, :, 10:12] + mid_hip\n",
    "\n",
    "    left_elbow = c1[:, :, 0:2]  + left_shoulder\n",
    "    left_wrist = c1[:, :, 2:4] + left_elbow\n",
    "\n",
    "    right_elbow = c2[:, :, 0:2]  + right_shoulder\n",
    "    right_wrist = c2[:, :, 2:4] + right_elbow\n",
    "\n",
    "    left_knee = c3[:, :, 0:2] + left_hip\n",
    "    left_ankle = c3[:, :, 2:4] + left_knee\n",
    "\n",
    "    right_knee = c4[:, :, 0:2] + right_hip\n",
    "    right_ankle = c4[:, :, 2:4] + right_knee\n",
    "\n",
    "    restored_keypoints = np.stack([\n",
    "        nose,\n",
    "        neck_keypoint,\n",
    "        left_shoulder,\n",
    "        right_ankle,\n",
    "        mid_hip,\n",
    "        left_hip,\n",
    "        right_hip,\n",
    "        left_elbow,\n",
    "        left_wrist,\n",
    "        right_elbow,\n",
    "        right_wrist,\n",
    "        left_knee,\n",
    "        left_ankle,\n",
    "        right_knee,\n",
    "        right_ankle\n",
    "    ], axis=-2)\n",
    "\n",
    "    print(restored_keypoints.shape)\n",
    "    print(restored_keypoints.max(), restored_keypoints.min())\n",
    "\n",
    "    for frame_index in range(restored_keypoints.shape[1]):\n",
    "        canvas = np.zeros((10, 10))\n",
    "\n",
    "        fig, ax = plt.subplots(1, 1)\n",
    "        ax.imshow(canvas)\n",
    "\n",
    "        for keypoint_index in range(restored_keypoints.shape[2]):\n",
    "            ax.add_patch(patches.Circle(\n",
    "                [restored_keypoints[0, frame_index, keypoint_index][1], restored_keypoints[0, frame_index, keypoint_index][0]],\n",
    "                radius=0.1,\n",
    "                fill=True,\n",
    "                color=\"red\"\n",
    "            ))\n",
    "        \n",
    "        fn = 'test/semi/'+a.split('/')[-1].split('.')[0]+'/'+str(frame_index)\n",
    "        plt.savefig(fn)\n",
    "        plt.show()"
   ]
  },
  {
   "cell_type": "code",
   "execution_count": null,
   "metadata": {},
   "outputs": [],
   "source": [
    "def test_anchor(index):\n",
    "    data_item = dataset[index]\n",
    "    visualize_keypoint(\n",
    "        *[data_item[f\"anchor_c{i}\"] for i in range(5)]\n",
    "    )"
   ]
  },
  {
   "cell_type": "code",
   "execution_count": null,
   "metadata": {},
   "outputs": [],
   "source": [
    "def test_anchor_aug(index):\n",
    "    a, data_item = dataset[index]\n",
    "    visualize_keypoint(\n",
    "        *[data_item[f\"anchor_aug_c{i}\"] for i in range(5)], a\n",
    "    )\n",
    "    print(a)"
   ]
  },
  {
   "cell_type": "code",
   "execution_count": null,
   "metadata": {},
   "outputs": [],
   "source": [
    "import tensorflow as tf"
   ]
  },
  {
   "cell_type": "code",
   "execution_count": null,
   "metadata": {},
   "outputs": [],
   "source": [
    "def test_semi(index):\n",
    "    a, data_item = dataset[index]\n",
    "    for j in range(len(a)):\n",
    "        visualize_keypoint(\n",
    "            *[data_item[f\"semi_positives_c{i}\"][j][tf.newaxis,:,:] for i in range(5)], a[j]\n",
    "        )\n",
    "        print(a[j])"
   ]
  },
  {
   "cell_type": "code",
   "execution_count": null,
   "metadata": {},
   "outputs": [],
   "source": [
    "a, data_item = dataset[0]\n",
    "print(a)"
   ]
  },
  {
   "cell_type": "code",
   "execution_count": null,
   "metadata": {},
   "outputs": [],
   "source": [
    "dataset.all_data_dir_list[0], dataset.all_data_dir_list[90], dataset.all_data_dir_list[2345], dataset.all_data_dir_list[10201], dataset.all_data_dir_list[56704]"
   ]
  },
  {
   "cell_type": "code",
   "execution_count": null,
   "metadata": {},
   "outputs": [],
   "source": [
    "test_semi(3444)"
   ]
  },
  {
   "cell_type": "code",
   "execution_count": null,
   "metadata": {},
   "outputs": [],
   "source": [
    "import os\n",
    "import numpy as np\n",
    "import json\n",
    "import torch\n",
    "import math"
   ]
  },
  {
   "cell_type": "code",
   "execution_count": null,
   "metadata": {},
   "outputs": [],
   "source": [
    "def extract_keypoints_from_a_json(origin_vid_dir):\n",
    "    with open(origin_vid_dir, \"r\") as f:\n",
    "        origin_keypoints = json.load(f)\n",
    "\n",
    "    origin_keypoints_anno = origin_keypoints['annotations']\n",
    "    origin_tmp_list = []\n",
    "    for frame_data in origin_keypoints_anno:\n",
    "        if frame_data:\n",
    "            keypoints_list = [frame_data[key] for key in frame_data if frame_data[key]]\n",
    "            if keypoints_list:\n",
    "                origin_tmp_list.extend(keypoints_list)\n",
    "\n",
    "    # # Nonetype error 발생하는 듯\n",
    "    # if not origin_tmp_list:\n",
    "    #     return None\n",
    "\n",
    "    # reshape x\n",
    "    origin_anchor_keypoints = np.array(origin_tmp_list)[:,:,[0,1]]\n",
    "    return origin_anchor_keypoints"
   ]
  },
  {
   "cell_type": "code",
   "execution_count": null,
   "metadata": {},
   "outputs": [],
   "source": [
    "def gaussian(points, h, w , sigma):\n",
    "    x = points[:,[1]][0]\n",
    "    y = points[:,[0]][0]\n",
    "    channel = [np.exp(-((w - x) ** 2 + (h - y) ** 2) / (2 * sigma ** 2))]\n",
    "    # channel = np.reshape(channel, newshape=(h,w))\n",
    "    return channel"
   ]
  },
  {
   "cell_type": "code",
   "execution_count": null,
   "metadata": {},
   "outputs": [],
   "source": [
    "data = extract_keypoints_from_a_json('dataset/a001_kp/S001C001P001R001A001_rgb_kp.json')\n",
    "points = data.reshape(-1,2)\n",
    "\n",
    "h = 1080\n",
    "w = 1920\n",
    "\n",
    "sigma = 5\n",
    "\n",
    "channel = gaussian(points, h, w, sigma)\n",
    "\n",
    "print(channel)\n",
    "\n",
    "# x_points = x.reshape(-1,)\n",
    "# y_points = y.reshape(-1,)\n",
    "\n",
    "# x_gau = gaussian(x_points, mean, sigma)\n",
    "# mu_x = 0.5 * (x + 1.) * w\n",
    "# mu_y = 0.5 * (y + 1.) * h\n",
    "\n",
    "# tmp_size = sigma * 3\n",
    "\n",
    "# x1, y1 = mu_x - tmp_size, mu_y - tmp_size\n",
    "\n",
    "# print(x_gau)"
   ]
  },
  {
   "cell_type": "code",
   "execution_count": null,
   "metadata": {},
   "outputs": [],
   "source": [
    "# N, H, W = 12, 10, 10\n",
    "# landmarks = torch.randint(0, H, (N, 2))\n",
    "\n",
    "# tmp = torch.zeros(N, 3, H, W)\n",
    "# rows, cols = landmarks.split(1, 1)\n",
    "# tmp[torch.arange(N), :, rows, cols] = 1.\n",
    "\n",
    "# image = torch.randn(N, 3, H, W)\n",
    "# image = torch.cat((image, tmp), 1)\n",
    "# print(image.shape)\n",
    "# > torch.Size([12, 6, 10, 10])"
   ]
  },
  {
   "cell_type": "markdown",
   "metadata": {},
   "source": [
    "np.transpose()"
   ]
  },
  {
   "cell_type": "code",
   "execution_count": null,
   "metadata": {},
   "outputs": [],
   "source": [
    "kp = (100, 150) # W,H\n",
    "kp2 = (100, 180)\n",
    "H = np.tile(np.arange(256), 256).reshape(256,256).T\n",
    "W = np.tile(np.arange(256), 256).reshape(256,256)\n",
    "\n",
    "std = 5\n",
    "x_gauss = 1/(np.sqrt(2*np.pi)*std) * np.exp(-0.5*((H-kp[1])/std)**2) \n",
    "y_gauss = 1/(np.sqrt(2*np.pi)*std) * np.exp(-0.5*((W-kp[0])/std)**2)\n",
    "frame1 = 1000*(x_gauss * y_gauss)\n",
    "\n",
    "print(W)"
   ]
  },
  {
   "cell_type": "code",
   "execution_count": null,
   "metadata": {},
   "outputs": [],
   "source": [
    "def extract_keypoints_from_a_json(origin_vid_dir):\n",
    "    with open(origin_vid_dir, \"r\") as f:\n",
    "        origin_keypoints = json.load(f)\n",
    "\n",
    "    origin_keypoints_anno = origin_keypoints['annotations']\n",
    "    origin_tmp_list = []\n",
    "    for frame_data in origin_keypoints_anno:\n",
    "        if frame_data:\n",
    "            keypoints_list = [frame_data[key] for key in frame_data if frame_data[key]]\n",
    "            if keypoints_list:\n",
    "                origin_tmp_list.extend(keypoints_list)\n",
    "\n",
    "    # # Nonetype error 발생하는 듯\n",
    "    # if not origin_tmp_list:\n",
    "    #     return None\n",
    "\n",
    "    # reshape x\n",
    "    origin_anchor_keypoints = np.array(origin_tmp_list)[:,:,[0,1]]\n",
    "    return origin_anchor_keypoints"
   ]
  },
  {
   "cell_type": "code",
   "execution_count": null,
   "metadata": {},
   "outputs": [],
   "source": [
    "import numpy as np\n",
    "import json\n",
    "\n",
    "data = extract_keypoints_from_a_json('dataset/a001_kp/S001C001P001R001A001_rgb_kp.json')\n",
    "points = data.reshape(-1,2)\n",
    "x_points = points[:,[0]]\n",
    "y_points = points[:,[1]]\n",
    "\n",
    "h = 1080\n",
    "w = 1920\n",
    "# w = 1920*(1080/1920)\n",
    "\n",
    "H = np.tile(np.arange(h), h).reshape(h,h).T\n",
    "print(H)\n",
    "print(H.shape)\n",
    "W = np.tile(np.arange(w), w).reshape(w,w)\n",
    "print(W.shape)\n",
    "\n",
    "std = 5\n",
    "x = x_points[0]\n",
    "y = y_points[0]*(1080/1920)\n",
    "x_gauss = 1/(np.sqrt(2*np.pi)*std) * np.exp(-0.5*((H-x)/std)**2) \n",
    "y_gauss = 1/(np.sqrt(2*np.pi)*std) * np.exp(-0.5*((W-y)/std)**2)\n",
    "frame1 = 1000*(x_gauss * y_gauss)\n"
   ]
  },
  {
   "cell_type": "code",
   "execution_count": null,
   "metadata": {},
   "outputs": [],
   "source": [
    "import matplotlib.pyplot as plt\n",
    "import seaborn as sns\n",
    "import numpy as np\n",
    "import json\n",
    "from PIL import Image\n",
    "\n",
    "data = extract_keypoints_from_a_json('dataset/a001_kp/S001C001P001R001A001_rgb_kp.json')\n",
    "points = data.reshape(-1,2)\n",
    "x_points = points[:,[0]]\n",
    "y_points = points[:,[1]]\n",
    "\n",
    "h = 1080\n",
    "w = 1920\n",
    "# w = 1920*(1080/1920)\n",
    "\n",
    "H = np.tile(np.arange(h)[:, None], (h, w))\n",
    "print(H)\n",
    "print(H.shape)\n",
    "W = np.tile(np.arange(w)[None, :], (h, w))\n",
    "\n",
    "std = 5\n",
    "\n",
    "# org_image = Image.open('frame0.jpg')\n",
    "# resized_image = org_image.resize((int(w), h))\n",
    "\n",
    "for i in range(17):\n",
    "    x = x_points[i]\n",
    "    y = y_points[i]\n",
    "    # y = y_points[i]*(1080/1920)\n",
    "    x_gauss = 1/(np.sqrt(2*np.pi)*std) * np.exp(-0.5*((H-x)/std)**2) \n",
    "    y_gauss = 1/(np.sqrt(2*np.pi)*std) * np.exp(-0.5*((W-y)/std)**2)\n",
    "    frame = (x_gauss * y_gauss)\n",
    "\n",
    "    # plt.imshow(resized_image)\n",
    "    # plt.imshow(frame, alpha = 0.6, cmap = 'viridis')\n",
    "    plt.imshow(frame)\n",
    "    plt.savefig(f'heatmap/A001{i}.png', bbox_inches='tight', pad_inches=0)\n",
    "    # overlap = frame * 0.4 + resized_image\n",
    "\n",
    "    # overlap_pil = Image.fromarray(overlap)\n",
    "    # overlap_pil.show()\n",
    "\n",
    "    # overlap_pil.save(f'overlap/frame{i}.png','png')\n",
    "\n",
    "    # ax = sns.heatmap(overlap)\n",
    "    # plt.show()\n"
   ]
  },
  {
   "cell_type": "code",
   "execution_count": null,
   "metadata": {},
   "outputs": [],
   "source": [
    "from utils.mydataset import MyDataset\n",
    "data_dir = 'dataset'\n",
    "dataset = MyDataset(data_dir=data_dir,num_semi_positives=4)\n",
    "data_item = dataset[12000]\n",
    "origin = data_item['origin']\n",
    "augmen = data_item['augmentation']\n",
    "semi_posi = data_item['semi_positives']\n",
    "heatmap = data_item['heatmap']\n",
    "op_flow = data_item['optical_flow']\n",
    "print(origin.size())\n",
    "print(augmen.size())\n",
    "print(semi_posi.size())\n",
    "print(heatmap.size())\n",
    "print(op_flow.size())"
   ]
  },
  {
   "cell_type": "code",
   "execution_count": null,
   "metadata": {},
   "outputs": [],
   "source": [
    "len(semi_posi)"
   ]
  },
  {
   "cell_type": "code",
   "execution_count": null,
   "metadata": {},
   "outputs": [],
   "source": [
    "from utils.mydataset import MyDataset\n",
    "from torch.utils.data import DataLoader\n",
    "\n",
    "data_dir = 'dataset'\n",
    "batch = 3\n",
    "train_data = MyDataset(data_dir,num_semi_positives=1)\n",
    "trainloader = DataLoader(train_data, batch_size = batch)"
   ]
  },
  {
   "cell_type": "code",
   "execution_count": null,
   "metadata": {},
   "outputs": [],
   "source": [
    "print(next(iter(trainloader))['origin'])"
   ]
  },
  {
   "cell_type": "code",
   "execution_count": null,
   "metadata": {},
   "outputs": [],
   "source": [
    "import torch\n",
    "import torch.nn as nn\n",
    "from model.networks import Encoder, Decoder\n",
    "from model.losses import contra_loss\n",
    "\n",
    "encoder = Encoder()\n",
    "decoder = Decoder()\n",
    "mse = nn.MSELoss()\n",
    "optimizer = torch.optim.Adam([{'params':encoder.parameters(),'lr':0.001},\n",
    "                              {'params':decoder.parameters(),'lr':0.001}])"
   ]
  },
  {
   "cell_type": "code",
   "execution_count": null,
   "metadata": {},
   "outputs": [],
   "source": [
    "keys = ['origin', 'origin_heatmap', 'origin_flow', 'augmentation', 'aug_heatmap', 'aug_flow', 'semi_positives', 'sp_heatmap', 'sp_flow']"
   ]
  },
  {
   "cell_type": "code",
   "execution_count": null,
   "metadata": {},
   "outputs": [],
   "source": [
    "print(len(trainloader))\n",
    "print(len(trainloader.dataset))"
   ]
  },
  {
   "cell_type": "code",
   "execution_count": null,
   "metadata": {},
   "outputs": [],
   "source": [
    "for epoch in range(2):  # loop over the dataset multiple times\n",
    "\n",
    "    running_loss = 0.0\n",
    "    for train_item in trainloader:\n",
    "        # get the inputs; data is a list of [inputs, labels]\n",
    "        for i in range(batch):\n",
    "            # origin 0.25 처리 필요\n",
    "            origin = train_item['origin'][i] * 0.25\n",
    "            h_input = train_item['origin_heatmap'][i]\n",
    "            f_input = train_item['origin_flow'][i]\n",
    "\n",
    "            # h_feat = hE(h_input)\n",
    "            # f_feat = fE(f_input)\n",
    "\n",
    "            # hf_feat = torch.cat((h_feat, f_feat), dim=1).transpose(1,0)[None,...]\n",
    "            motion_feature = encoder(h_input,f_input)\n",
    "\n",
    "            optimizer.zero_grad()\n",
    "\n",
    "            de_m_feat = decoder(motion_feature)\n",
    "\n",
    "            # 처음부터 origin 0번 제거하고 가져오기\n",
    "            loss = mse(origin,de_m_feat)\n",
    "            loss.backward()\n",
    "            optimizer.step()\n",
    "            print(loss)\n",
    "\n",
    "\n",
    "\n",
    "#         # zero the parameter gradients\n",
    "#         optimizer.zero_grad()\n",
    "\n",
    "#         # forward + backward + optimize\n",
    "#         outputs = net(inputs)\n",
    "#         loss = criterion(outputs, labels)\n",
    "#         loss.backward()\n",
    "#         optimizer.step()\n",
    "\n",
    "#         # print statistics\n",
    "#         running_loss += loss.item()\n",
    "#         if i % 2000 == 1999:    # print every 2000 mini-batches\n",
    "#             print(f'[{epoch + 1}, {i + 1:5d}] loss: {running_loss / 2000:.3f}')\n",
    "#             running_loss = 0.0\n",
    "\n",
    "# print('Finished Training')"
   ]
  },
  {
   "cell_type": "code",
   "execution_count": null,
   "metadata": {},
   "outputs": [],
   "source": [
    "# if len(origin) == 33:\n",
    "#     return origin\n",
    "# elif len(origin) > 33:\n",
    "#     uniform_num = np.random.uniform(0, len(origin), 33)\n",
    "#     uniform_origin_keypoint = [origin[int(i)] for i in uniform_num]\n",
    "#     return np.array(uniform_origin_keypoint)\n",
    "#     # return np.array(uniform_origin_keypoint)\n",
    "# elif len(origin) < 33:\n",
    "#     num_repet = math.ceil((33 - len(origin)) / len(origin) + 1)\n",
    "#     extended_origin = []\n",
    "#     for i in range(num_repet):\n",
    "#         if i % 2 == 0:\n",
    "#             tmp_origin = origin\n",
    "#         elif i % 2 == 1:\n",
    "#             tmp_origin = origin[::-1]\n",
    "#         extended_origin.append(tmp_origin)\n",
    "#     extended_origin = np.array(extended_origin).reshape(-1,17,2)[0:33]\n",
    "#     return extended_origin"
   ]
  },
  {
   "cell_type": "code",
   "execution_count": null,
   "metadata": {},
   "outputs": [],
   "source": []
  },
  {
   "cell_type": "code",
   "execution_count": null,
   "metadata": {},
   "outputs": [],
   "source": [
    "from sklearn.preprocessing import MinMaxScaler\n",
    "scaler = MinMaxScaler(feature_range=(-1, 1))\n",
    "\n",
    "scaled_origin = []\n",
    "for i in range(len(tmp_origin)):\n",
    "    scaled_origin.append(scaler.fit_transform(tmp_origin[i]))\n",
    "print(np.array(scaled_origin))"
   ]
  },
  {
   "cell_type": "code",
   "execution_count": null,
   "metadata": {},
   "outputs": [],
   "source": [
    "from utils.mydataset import MyDataset\n",
    "import torch\n",
    "import numpy as np\n",
    "\n",
    "data_dir = 'dataset'\n",
    "\n",
    "train_data = MyDataset(data_dir,num_semi_positives=2)\n",
    "train_data_0 = train_data[555]\n",
    "print(train_data_0.keys())"
   ]
  },
  {
   "cell_type": "code",
   "execution_count": null,
   "metadata": {},
   "outputs": [],
   "source": [
    "keys = train_data_0.keys()\n",
    "for key in keys:\n",
    "    if key == 'class':\n",
    "        print('<'+key+'>')\n",
    "        print(train_data_0[key])\n",
    "    else:\n",
    "        print('<'+key+'>')\n",
    "        print(\"size: \", train_data_0[key].size())\n",
    "        print(\"max: \", train_data_0[key].max())\n",
    "        print(\"min: \", train_data_0[key].min())\n"
   ]
  },
  {
   "cell_type": "code",
   "execution_count": null,
   "metadata": {},
   "outputs": [],
   "source": [
    "from model.networks import Encoder, Decoder\n",
    "from copy import deepcopy\n",
    "encoder = Encoder()\n",
    "encoder_aug = deepcopy(encoder)\n",
    "encoder_sp = deepcopy(encoder)"
   ]
  },
  {
   "cell_type": "code",
   "execution_count": null,
   "metadata": {},
   "outputs": [],
   "source": [
    "h_input = train_data_0['anchor_heatmap'][None,:]\n",
    "h_aug_input = train_data_0['aug_heatmap'][None,:]\n",
    "h_sp_input = train_data_0['sp_heatmap'][None,:]\n",
    "f_input = train_data_0['anchor_flow'][None,:]\n",
    "f_aug_input = train_data_0['aug_flow'][None,:]\n",
    "f_sp_input = train_data_0['sp_flow'][None,:]\n"
   ]
  },
  {
   "cell_type": "code",
   "execution_count": null,
   "metadata": {},
   "outputs": [],
   "source": [
    "motion_feature = encoder(h_input, f_input)\n",
    "motion_aug_feature = encoder_aug(h_aug_input, f_aug_input)\n",
    "motion_sp_feature = encoder_sp(h_sp_input, f_sp_input)\n",
    "# de_mf = decoder(motion_feature)\n",
    "# print(de_mf.shape)"
   ]
  },
  {
   "cell_type": "code",
   "execution_count": null,
   "metadata": {},
   "outputs": [],
   "source": [
    "import torch\n",
    "import torch.nn as nn\n",
    "import torch.nn.functional as F\n",
    "\n",
    "# target = torch.Tensor(motion_feature.shape).fill_(73)\n",
    "# loss = F.cross_entropy(motion_feature, target)\n",
    "\n",
    "loss = F.cross_entropy(motion_feature, motion_sp_feature)\n",
    "print(loss)"
   ]
  },
  {
   "cell_type": "code",
   "execution_count": null,
   "metadata": {},
   "outputs": [],
   "source": []
  },
  {
   "cell_type": "code",
   "execution_count": null,
   "metadata": {},
   "outputs": [],
   "source": [
    "print(de_mf.shape)"
   ]
  },
  {
   "cell_type": "code",
   "execution_count": null,
   "metadata": {},
   "outputs": [],
   "source": [
    "print(train_data_0['origin'].max())\n",
    "print(train_data_0['origin_heatmap'].max())\n",
    "print(train_data_0['origin_flow'].max())"
   ]
  },
  {
   "cell_type": "code",
   "execution_count": null,
   "metadata": {},
   "outputs": [],
   "source": [
    "print(train_data_0['origin'].min())"
   ]
  },
  {
   "cell_type": "code",
   "execution_count": null,
   "metadata": {},
   "outputs": [],
   "source": [
    "print(train_data_0['origin_heatmap'].size())"
   ]
  },
  {
   "cell_type": "code",
   "execution_count": null,
   "metadata": {},
   "outputs": [],
   "source": [
    "print(train_data_0['origin_flow'].size())"
   ]
  },
  {
   "cell_type": "code",
   "execution_count": null,
   "metadata": {},
   "outputs": [],
   "source": [
    "tmp_origin = train_data_0['origin'] * 0.25\n",
    "origin_x_max = int(torch.max(tmp_origin[:,:,0]))\n",
    "origin_y_max = int(torch.max(tmp_origin[:,:,1]))\n",
    "\n",
    "origin_x_min = int(torch.min(tmp_origin[:,:,0]))\n",
    "origin_y_min = int(torch.min(tmp_origin[:,:,1]))\n",
    "\n",
    "print(origin_x_max)\n",
    "print(origin_y_max)\n",
    "print(origin_x_min)\n",
    "print(origin_y_min)"
   ]
  },
  {
   "cell_type": "code",
   "execution_count": null,
   "metadata": {},
   "outputs": [],
   "source": [
    "print(origin_x_max - origin_x_min)\n",
    "x_center = (origin_x_max + origin_x_min)//2\n",
    "y_center = (origin_y_max + origin_y_min)//2\n",
    "\n",
    "print(x_center)\n",
    "print(y_center)\n",
    "print(origin_y_max - origin_y_min)\n",
    "margin = 25"
   ]
  },
  {
   "cell_type": "code",
   "execution_count": null,
   "metadata": {},
   "outputs": [],
   "source": [
    "crop_heatmap = train_data_0['origin_heatmap'][:,:,origin_x_min-margin:origin_x_max+margin,origin_y_min-margin:origin_y_max+margin]"
   ]
  },
  {
   "cell_type": "code",
   "execution_count": null,
   "metadata": {},
   "outputs": [],
   "source": [
    "import torchvision.transforms.functional as ttF\n",
    "# crop_heatmap.size()\n",
    "resized_crop_heatmap = ttF.resize(crop_heatmap, (200,100))\n",
    "print(resized_crop_heatmap.shape)"
   ]
  },
  {
   "cell_type": "code",
   "execution_count": null,
   "metadata": {},
   "outputs": [],
   "source": [
    "import matplotlib.pyplot as plt\n",
    "for j in range(32):\n",
    "    tmp_heat = train_data_0['origin_heatmap'][j][0]\n",
    "    for i in range(1, 17):\n",
    "        tmp_heat += train_data_0['origin_heatmap'][j][i]\n",
    "    plt.subplots(1,1)\n",
    "    plt.imshow(tmp_heat)\n",
    "    print(tmp_heat.shape)"
   ]
  },
  {
   "cell_type": "code",
   "execution_count": null,
   "metadata": {},
   "outputs": [],
   "source": [
    "import torch\n",
    "import torch.nn as nn\n",
    "import torch.nn.functional as F\n",
    "from utils.mydataset import MyDataset\n",
    "from model.networks import Encoder, Decoder\n",
    "from copy import deepcopy\n",
    "\n",
    "data_dir = 'dataset'\n",
    "train_data = MyDataset(data_dir,num_semi_positives=1)\n",
    "train_data_0 = train_data[555]\n",
    "\n",
    "origin = train_data_0['origin'].reshape(1,32,17,2) * 0.25\n",
    "h_input = train_data_0['origin_heatmap']\n",
    "f_input = train_data_0['origin_flow']\n",
    "\n",
    "aug_origin = train_data_0['augmentation'].reshape(1,32,17,2) * 0.25\n",
    "aug_h_input = train_data_0['aug_heatmap']\n",
    "aug_f_input = train_data_0['aug_flow']\n",
    "\n",
    "semi_origin = train_data_0['semi_positives'].reshape(-1,32,17,2) * 0.25\n",
    "semi_h_input = train_data_0['sp_heatmap'].reshape(-1,32,17,270,480)\n",
    "semi_f_input = train_data_0['sp_flow'].reshape(-1,32,34,270,480)\n",
    "\n",
    "encoder = Encoder()\n",
    "decoder = Decoder()\n",
    "\n",
    "# -- deepcopy init에서 만드는 이유?\n",
    "cp_encoder1 = deepcopy(encoder)\n",
    "cp_encoder2 = deepcopy(encoder)\n",
    "\n",
    "motion_feature = encoder(h_input,f_input)\n",
    "# (N, 32, 128)\n",
    "# (N, 128) 전체 비디오 정보를 담음\n",
    "# de_m_feat = decoder(motion_feature)\n",
    "\n",
    "aug_feature = cp_encoder1(aug_h_input, aug_f_input)\n",
    "semi_feature = cp_encoder2(semi_h_input, semi_f_input)"
   ]
  },
  {
   "cell_type": "code",
   "execution_count": null,
   "metadata": {},
   "outputs": [],
   "source": [
    "print(motion_feature.shape)\n",
    "print(aug_feature.shape)\n",
    "print(semi_feature.shape)"
   ]
  },
  {
   "cell_type": "code",
   "execution_count": null,
   "metadata": {},
   "outputs": [],
   "source": [
    "mf_mean = motion_feature.mean(dim=2)\n",
    "af_mean = aug_feature.mean(dim=2)\n",
    "sf_mean = semi_feature.mean(dim=2)"
   ]
  },
  {
   "cell_type": "code",
   "execution_count": null,
   "metadata": {},
   "outputs": [],
   "source": [
    "sf_mean.shape"
   ]
  },
  {
   "cell_type": "code",
   "execution_count": null,
   "metadata": {},
   "outputs": [],
   "source": []
  },
  {
   "cell_type": "code",
   "execution_count": null,
   "metadata": {},
   "outputs": [],
   "source": [
    "print(origin.shape)\n",
    "print(de_m_feat.shape)"
   ]
  },
  {
   "cell_type": "code",
   "execution_count": null,
   "metadata": {},
   "outputs": [],
   "source": [
    "print(torch.dot(origin.reshape(-1,2), de_m_feat.reshape(-1,2)))"
   ]
  },
  {
   "cell_type": "code",
   "execution_count": null,
   "metadata": {},
   "outputs": [],
   "source": [
    "reshape_origin = origin.reshape(-1,2)\n",
    "reshape_feat = de_m_feat.reshape(-1,2)"
   ]
  },
  {
   "cell_type": "code",
   "execution_count": null,
   "metadata": {},
   "outputs": [],
   "source": [
    "similarity = []\n",
    "for i in range(len(reshape_origin)):\n",
    "    similarity.append(torch.dot(reshape_origin[i],reshape_feat[i]))\n",
    "print(torch.tensor(similarity).reshape(-1,1).shape)"
   ]
  },
  {
   "cell_type": "code",
   "execution_count": null,
   "metadata": {},
   "outputs": [],
   "source": [
    "1-(72/73)**9"
   ]
  },
  {
   "cell_type": "code",
   "execution_count": null,
   "metadata": {},
   "outputs": [],
   "source": []
  },
  {
   "cell_type": "markdown",
   "metadata": {},
   "source": [
    "cross entropy test"
   ]
  },
  {
   "cell_type": "code",
   "execution_count": null,
   "metadata": {},
   "outputs": [],
   "source": [
    "from utils.mydataset import MyDataset\n",
    "from model.networks import Encoder, Decoder\n",
    "import torch\n",
    "import torch.nn as nn\n",
    "import torch.nn.functional as F"
   ]
  },
  {
   "cell_type": "code",
   "execution_count": null,
   "metadata": {},
   "outputs": [],
   "source": [
    "data_dir = 'dataset'\n",
    "dataset = MyDataset(data_dir=data_dir, num_semi_positives=1)\n",
    "data_item = dataset[100]\n",
    "data_item_2 = dataset[200] \n",
    "print(data_item.keys())"
   ]
  },
  {
   "cell_type": "code",
   "execution_count": null,
   "metadata": {},
   "outputs": [],
   "source": [
    "encoder = Encoder()\n",
    "decoder = Decoder()"
   ]
  },
  {
   "cell_type": "code",
   "execution_count": null,
   "metadata": {},
   "outputs": [],
   "source": [
    "origin_anchor = data_item['anchor'][None,:]\n",
    "h_input = data_item['anchor_heatmap'][None,:]\n",
    "f_input = data_item['anchor_flow'][None,:]\n",
    "# class_num = torch.tensor([int(data_item['class'][1:]) - 1 for i in range(73)])[None,:]\n",
    "# class_num = torch.tensor([int(data_item['class'][1:]) - 1 for i in range(72)])\n",
    "class_num = torch.tensor([int(data_item['class'][1:]) - 1])\n",
    "# class_num = []\n",
    "\n",
    "# class_num = torch.tensor([0 for])"
   ]
  },
  {
   "cell_type": "code",
   "execution_count": null,
   "metadata": {},
   "outputs": [],
   "source": [
    "print(origin_anchor.size())\n"
   ]
  },
  {
   "cell_type": "code",
   "execution_count": null,
   "metadata": {},
   "outputs": [],
   "source": [
    "class_num.dtype"
   ]
  },
  {
   "cell_type": "code",
   "execution_count": null,
   "metadata": {},
   "outputs": [],
   "source": [
    "print(class_num.size())\n",
    "print(class_num)"
   ]
  },
  {
   "cell_type": "code",
   "execution_count": null,
   "metadata": {},
   "outputs": [],
   "source": [
    "print(torch.tensor([0,1]).size())"
   ]
  },
  {
   "cell_type": "code",
   "execution_count": null,
   "metadata": {},
   "outputs": [],
   "source": [
    "motion_feature = encoder(h_input, f_input)\n",
    "decoded = decoder(motion_feature)"
   ]
  },
  {
   "cell_type": "code",
   "execution_count": null,
   "metadata": {},
   "outputs": [],
   "source": [
    "mse = nn.MSELoss()\n",
    "cE = nn.CrossEntropyLoss()"
   ]
  },
  {
   "cell_type": "code",
   "execution_count": null,
   "metadata": {},
   "outputs": [],
   "source": [
    "test_mf = torch.cat((motion_feature,motion_feature),dim=0)"
   ]
  },
  {
   "cell_type": "code",
   "execution_count": null,
   "metadata": {},
   "outputs": [],
   "source": [
    "print(test_mf.size())"
   ]
  },
  {
   "cell_type": "code",
   "execution_count": null,
   "metadata": {},
   "outputs": [],
   "source": [
    "print(motion_feature.size())"
   ]
  },
  {
   "cell_type": "code",
   "execution_count": null,
   "metadata": {},
   "outputs": [],
   "source": [
    "print(motion_feature.mean(dim=1).shape)\n",
    "mean_motion_feature = motion_feature.mean(dim=1)"
   ]
  },
  {
   "cell_type": "code",
   "execution_count": null,
   "metadata": {},
   "outputs": [],
   "source": [
    "mse_loss = mse(origin_anchor, decoded)\n",
    "cE_loss = cE(mean_motion_feature, class_num)"
   ]
  },
  {
   "cell_type": "code",
   "execution_count": null,
   "metadata": {},
   "outputs": [],
   "source": [
    "loss = mse_loss + cE_loss\n",
    "print(loss)"
   ]
  },
  {
   "cell_type": "markdown",
   "metadata": {},
   "source": [
    "train"
   ]
  },
  {
   "cell_type": "code",
   "execution_count": null,
   "metadata": {},
   "outputs": [],
   "source": [
    "from utils.mydataset import MyDataset\n",
    "from model.networks import Encoder, Decoder\n",
    "import torch\n",
    "import torch.nn as nn\n",
    "from torch.utils.data import DataLoader"
   ]
  },
  {
   "cell_type": "code",
   "execution_count": null,
   "metadata": {},
   "outputs": [],
   "source": [
    "data_dir = 'dataset'\n",
    "batch = 3\n",
    "dataset = MyDataset(data_dir, 1)\n",
    "train_loader = DataLoader(dataset, batch)"
   ]
  },
  {
   "cell_type": "code",
   "execution_count": null,
   "metadata": {},
   "outputs": [],
   "source": [
    "encoder = Encoder()\n",
    "decoder = Decoder()\n",
    "mse = nn.MSELoss()\n",
    "cE = nn.CrossEntropyLoss()\n",
    "optimizer = torch.optim.Adam([{'params':encoder.parameters(),'lr':0.001},\n",
    "                              {'params':decoder.parameters(),'lr':0.001}])"
   ]
  },
  {
   "cell_type": "code",
   "execution_count": null,
   "metadata": {},
   "outputs": [],
   "source": [
    "for i, train_item in enumerate(train_loader, 0):\n",
    "    pass"
   ]
  },
  {
   "cell_type": "code",
   "execution_count": null,
   "metadata": {},
   "outputs": [],
   "source": [
    "for epoch in range(2):  # loop over the dataset multiple times\n",
    "\n",
    "    running_loss = 0.0\n",
    "    \n",
    "    for i, train_item in enumerate(train_loader, 0):\n",
    "        # get the inputs; data is a list of [inputs, labels]\n",
    "        anchor = train_item['anchor']\n",
    "        h_input = train_item['anchor_heatmap']\n",
    "        f_input = train_item['anchor_flow']\n",
    "        class_num = train_item['class']\n",
    "\n",
    "        # print(anchor.size())\n",
    "        # print(h_input.size())\n",
    "        # print(f_input.size())\n",
    "        print(class_num, class_num.size())\n",
    "\n",
    "        motion_feature = encoder(h_input,f_input)\n",
    "        mean_motion_feature = motion_feature.mean(dim=1)\n",
    "        decoded = decoder(motion_feature)\n",
    "\n",
    "        optimizer.zero_grad()\n",
    "\n",
    "        loss = mse(anchor, decoded) + cE(mean_motion_feature, class_num)\n",
    "        loss.backward()\n",
    "        optimizer.step()\n",
    "        print(loss)\n",
    "\n",
    "        # print statistics\n",
    "        running_loss += loss.item()\n",
    "        if i % 2000 == 1999:    # print every 2000 mini-batches\n",
    "            print(f'[{epoch + 1}, {i + 1:5d}] loss: {running_loss / 2000:.3f}')\n",
    "            running_loss = 0.0"
   ]
  },
  {
   "cell_type": "code",
   "execution_count": null,
   "metadata": {},
   "outputs": [],
   "source": [
    "import numpy as np\n",
    "import pathlib\n",
    "import os\n",
    "import json\n",
    "import math"
   ]
  },
  {
   "cell_type": "code",
   "execution_count": null,
   "metadata": {},
   "outputs": [],
   "source": [
    "def load_data_dir(data_dir):\n",
    "    all_data_dir_list = []\n",
    "    action_dir_dic = {}\n",
    "    label_dic = {}\n",
    "\n",
    "    for file_path in pathlib.Path(data_dir).glob(\"*/*.json\"):\n",
    "        action = file_path.name.split('_')[0][file_path.name.split('_')[0].find('A'):]\n",
    "        all_data_dir_list.append(str(file_path))\n",
    "        if action in action_dir_dic.keys():\n",
    "            action_dir_dic[action].append(str(file_path))\n",
    "        else:\n",
    "            action_dir_dic[action] = [str(file_path)]\n",
    "    \n",
    "    for i, key in enumerate(action_dir_dic.keys()):\n",
    "        label_dic[key] = i\n",
    "        \n",
    "    return all_data_dir_list, action_dir_dic, label_dic"
   ]
  },
  {
   "cell_type": "code",
   "execution_count": null,
   "metadata": {},
   "outputs": [],
   "source": [
    "def extract_keypoints_from_a_json(origin_vid_dir):\n",
    "        # print(\"anchor: \", origin_vid_dir)\n",
    "        with open(origin_vid_dir, \"r\") as f:\n",
    "            origin_keypoints = json.load(f)\n",
    "\n",
    "        origin_keypoints_anno = origin_keypoints['annotations']\n",
    "        origin_tmp_list = []\n",
    "        for frame_data in origin_keypoints_anno:\n",
    "            if frame_data:\n",
    "                keypoints_list = [frame_data[key] for key in frame_data if frame_data[key]]\n",
    "                if keypoints_list:\n",
    "                    origin_tmp_list.extend(keypoints_list)\n",
    "\n",
    "        # # Nonetype error 발생하는 듯\n",
    "        # if not origin_tmp_list:\n",
    "        #     return None\n",
    "\n",
    "        # reshape x\n",
    "        origin_anchor_keypoints = np.array(origin_tmp_list)[:,:,[0,1]]\n",
    "        return origin_anchor_keypoints"
   ]
  },
  {
   "cell_type": "code",
   "execution_count": 61,
   "metadata": {},
   "outputs": [],
   "source": [
    "def adjusting_frame(origin_keypoint):\n",
    "    if len(origin_keypoint) == 33:\n",
    "        return origin_keypoint\n",
    "    \n",
    "    elif len(origin_keypoint) > 33:\n",
    "        # print(len(origin_keypoint))\n",
    "        linspace_num = np.linspace(start=0, stop=len(origin_keypoint), num=33, endpoint=False)# 적어도 sorting해줄 것 / interpolation or np.linspace로 추출하는 방법 권장\n",
    "        # print(linspace_num)\n",
    "        linspace_origin_keypoint = [origin_keypoint[int(i)] for i in linspace_num]\n",
    "        return np.array(linspace_origin_keypoint)\n",
    "\n",
    "    elif len(origin_keypoint) < 33:\n",
    "        num_repet = math.ceil((33 - len(origin_keypoint)) / len(origin_keypoint) + 1)\n",
    "        extended_origin = []\n",
    "        for i in range(num_repet):\n",
    "            if i % 2 == 0:\n",
    "                tmp_origin = origin_keypoint\n",
    "            elif i % 2 == 1:\n",
    "                tmp_origin = origin_keypoint[::-1]\n",
    "            extended_origin.append(tmp_origin)\n",
    "        extended_origin = np.array(extended_origin).reshape(-1,17,2)[0:33]\n",
    "        return extended_origin"
   ]
  },
  {
   "cell_type": "code",
   "execution_count": null,
   "metadata": {},
   "outputs": [],
   "source": [
    "data_dir = 'dataset'"
   ]
  },
  {
   "cell_type": "code",
   "execution_count": 64,
   "metadata": {},
   "outputs": [],
   "source": [
    "total_dir,dir_by_class,_ = load_data_dir(data_dir)"
   ]
  },
  {
   "cell_type": "code",
   "execution_count": 67,
   "metadata": {},
   "outputs": [
    {
     "name": "stdout",
     "output_type": "stream",
     "text": [
      "73\n"
     ]
    }
   ],
   "source": [
    "keys = dir_by_class.keys()\n",
    "print(len(keys))"
   ]
  },
  {
   "cell_type": "code",
   "execution_count": 88,
   "metadata": {},
   "outputs": [
    {
     "name": "stdout",
     "output_type": "stream",
     "text": [
      "['dataset/a073_kp/S028C002P087R001A073_rgb_kp.json', 'dataset/a073_kp/S026C003P050R002A073_rgb_kp.json', 'dataset/a073_kp/S020C001P041R001A073_rgb_kp.json', 'dataset/a073_kp/S028C002P046R001A073_rgb_kp.json', 'dataset/a073_kp/S027C001P081R001A073_rgb_kp.json', 'dataset/a073_kp/S026C002P049R002A073_rgb_kp.json', 'dataset/a073_kp/S032C001P106R001A073_rgb_kp.json', 'dataset/a073_kp/S029C001P051R002A073_rgb_kp.json', 'dataset/a073_kp/S023C003P055R001A073_rgb_kp.json', 'dataset/a073_kp/S030C002P085R002A073_rgb_kp.json', 'dataset/a073_kp/S030C001P041R002A073_rgb_kp.json', 'dataset/a073_kp/S023C001P063R001A073_rgb_kp.json', 'dataset/a073_kp/S027C003P011R002A073_rgb_kp.json', 'dataset/a073_kp/S020C001P008R002A073_rgb_kp.json', 'dataset/a073_kp/S031C001P042R001A073_rgb_kp.json', 'dataset/a073_kp/S029C003P080R001A073_rgb_kp.json', 'dataset/a073_kp/S029C001P067R002A073_rgb_kp.json', 'dataset/a073_kp/S027C002P082R002A073_rgb_kp.json', 'dataset/a073_kp/S031C001P082R002A073_rgb_kp.json', 'dataset/a073_kp/S030C003P092R001A073_rgb_kp.json', 'dataset/a073_kp/S019C003P051R001A073_rgb_kp.json', 'dataset/a073_kp/S030C001P075R002A073_rgb_kp.json', 'dataset/a073_kp/S028C002P048R002A073_rgb_kp.json', 'dataset/a073_kp/S029C001P089R001A073_rgb_kp.json', 'dataset/a073_kp/S024C001P062R001A073_rgb_kp.json', 'dataset/a073_kp/S022C001P064R002A073_rgb_kp.json', 'dataset/a073_kp/S020C002P053R001A073_rgb_kp.json', 'dataset/a073_kp/S031C001P051R002A073_rgb_kp.json', 'dataset/a073_kp/S023C001P065R001A073_rgb_kp.json', 'dataset/a073_kp/S029C003P075R001A073_rgb_kp.json', 'dataset/a073_kp/S025C001P068R002A073_rgb_kp.json', 'dataset/a073_kp/S025C001P058R002A073_rgb_kp.json', 'dataset/a073_kp/S028C003P042R001A073_rgb_kp.json', 'dataset/a073_kp/S019C003P008R001A073_rgb_kp.json', 'dataset/a073_kp/S027C002P082R001A073_rgb_kp.json', 'dataset/a073_kp/S018C003P043R001A073_rgb_kp.json', 'dataset/a073_kp/S029C002P080R002A073_rgb_kp.json', 'dataset/a073_kp/S030C001P091R002A073_rgb_kp.json', 'dataset/a073_kp/S027C001P043R002A073_rgb_kp.json', 'dataset/a073_kp/S026C003P074R001A073_rgb_kp.json', 'dataset/a073_kp/S031C001P042R002A073_rgb_kp.json', 'dataset/a073_kp/S032C002P043R001A073_rgb_kp.json', 'dataset/a073_kp/S019C002P008R002A073_rgb_kp.json', 'dataset/a073_kp/S030C003P095R002A073_rgb_kp.json', 'dataset/a073_kp/S030C001P044R001A073_rgb_kp.json', 'dataset/a073_kp/S026C001P041R001A073_rgb_kp.json', 'dataset/a073_kp/S030C001P076R002A073_rgb_kp.json', 'dataset/a073_kp/S022C001P065R001A073_rgb_kp.json', 'dataset/a073_kp/S018C003P044R002A073_rgb_kp.json', 'dataset/a073_kp/S028C001P008R002A073_rgb_kp.json', 'dataset/a073_kp/S029C001P044R001A073_rgb_kp.json', 'dataset/a073_kp/S029C002P088R001A073_rgb_kp.json', 'dataset/a073_kp/S027C003P011R001A073_rgb_kp.json', 'dataset/a073_kp/S023C003P062R002A073_rgb_kp.json', 'dataset/a073_kp/S019C002P049R001A073_rgb_kp.json', 'dataset/a073_kp/S023C003P066R002A073_rgb_kp.json', 'dataset/a073_kp/S021C002P058R002A073_rgb_kp.json', 'dataset/a073_kp/S022C002P061R001A073_rgb_kp.json', 'dataset/a073_kp/S029C003P041R001A073_rgb_kp.json', 'dataset/a073_kp/S025C002P056R002A073_rgb_kp.json', 'dataset/a073_kp/S018C003P044R001A073_rgb_kp.json', 'dataset/a073_kp/S030C003P088R002A073_rgb_kp.json', 'dataset/a073_kp/S029C001P044R002A073_rgb_kp.json', 'dataset/a073_kp/S019C001P008R002A073_rgb_kp.json', 'dataset/a073_kp/S030C003P093R001A073_rgb_kp.json', 'dataset/a073_kp/S020C002P054R001A073_rgb_kp.json', 'dataset/a073_kp/S031C003P008R002A073_rgb_kp.json', 'dataset/a073_kp/S028C001P008R001A073_rgb_kp.json', 'dataset/a073_kp/S023C001P068R001A073_rgb_kp.json', 'dataset/a073_kp/S031C002P099R002A073_rgb_kp.json', 'dataset/a073_kp/S029C003P048R002A073_rgb_kp.json', 'dataset/a073_kp/S031C001P041R001A073_rgb_kp.json', 'dataset/a073_kp/S023C003P062R001A073_rgb_kp.json', 'dataset/a073_kp/S032C001P044R001A073_rgb_kp.json', 'dataset/a073_kp/S026C003P071R001A073_rgb_kp.json', 'dataset/a073_kp/S030C002P081R002A073_rgb_kp.json', 'dataset/a073_kp/S020C003P053R001A073_rgb_kp.json', 'dataset/a073_kp/S028C001P042R001A073_rgb_kp.json', 'dataset/a073_kp/S030C002P067R002A073_rgb_kp.json', 'dataset/a073_kp/S031C002P041R001A073_rgb_kp.json', 'dataset/a073_kp/S023C003P066R001A073_rgb_kp.json', 'dataset/a073_kp/S025C002P055R001A073_rgb_kp.json', 'dataset/a073_kp/S022C001P063R002A073_rgb_kp.json', 'dataset/a073_kp/S031C003P096R002A073_rgb_kp.json', 'dataset/a073_kp/S027C001P083R001A073_rgb_kp.json', 'dataset/a073_kp/S026C003P049R001A073_rgb_kp.json', 'dataset/a073_kp/S027C003P008R002A073_rgb_kp.json', 'dataset/a073_kp/S026C001P051R001A073_rgb_kp.json', 'dataset/a073_kp/S022C002P067R002A073_rgb_kp.json', 'dataset/a073_kp/S021C003P055R002A073_rgb_kp.json', 'dataset/a073_kp/S021C002P057R002A073_rgb_kp.json', 'dataset/a073_kp/S025C002P065R001A073_rgb_kp.json', 'dataset/a073_kp/S030C002P048R002A073_rgb_kp.json', 'dataset/a073_kp/S030C001P093R002A073_rgb_kp.json', 'dataset/a073_kp/S024C002P057R002A073_rgb_kp.json', 'dataset/a073_kp/S032C002P041R001A073_rgb_kp.json', 'dataset/a073_kp/S026C002P071R001A073_rgb_kp.json', 'dataset/a073_kp/S029C003P006R002A073_rgb_kp.json', 'dataset/a073_kp/S031C001P067R002A073_rgb_kp.json', 'dataset/a073_kp/S028C001P070R001A073_rgb_kp.json', 'dataset/a086_kp/S027C001P011R002A086_rgb_kp.json', 'dataset/a086_kp/S027C002P079R001A086_rgb_kp.json', 'dataset/a086_kp/S029C001P048R002A086_rgb_kp.json', 'dataset/a086_kp/S023C003P056R002A086_rgb_kp.json', 'dataset/a086_kp/S028C003P073R001A086_rgb_kp.json', 'dataset/a086_kp/S023C003P067R001A086_rgb_kp.json', 'dataset/a086_kp/S029C003P041R002A086_rgb_kp.json', 'dataset/a086_kp/S026C002P072R001A086_rgb_kp.json', 'dataset/a086_kp/S030C003P092R002A086_rgb_kp.json', 'dataset/a086_kp/S021C003P056R001A086_rgb_kp.json', 'dataset/a086_kp/S027C003P043R002A086_rgb_kp.json', 'dataset/a086_kp/S031C003P082R001A086_rgb_kp.json', 'dataset/a086_kp/S021C002P057R002A086_rgb_kp.json', 'dataset/a086_kp/S029C001P089R001A086_rgb_kp.json', 'dataset/a086_kp/S029C003P075R001A086_rgb_kp.json', 'dataset/a086_kp/S030C001P095R002A086_rgb_kp.json', 'dataset/a086_kp/S031C001P043R002A086_rgb_kp.json', 'dataset/a086_kp/S029C001P008R001A086_rgb_kp.json', 'dataset/a086_kp/S032C001P105R002A086_rgb_kp.json', 'dataset/a086_kp/S028C001P073R001A086_rgb_kp.json', 'dataset/a086_kp/S030C003P044R001A086_rgb_kp.json', 'dataset/a086_kp/S027C001P079R002A086_rgb_kp.json', 'dataset/a086_kp/S031C002P082R002A086_rgb_kp.json', 'dataset/a086_kp/S020C002P043R001A086_rgb_kp.json', 'dataset/a086_kp/S018C002P044R002A086_rgb_kp.json', 'dataset/a086_kp/S032C001P106R002A086_rgb_kp.json', 'dataset/a086_kp/S032C001P041R001A086_rgb_kp.json', 'dataset/a086_kp/S032C001P067R001A086_rgb_kp.json', 'dataset/a086_kp/S027C002P078R001A086_rgb_kp.json', 'dataset/a086_kp/S027C001P006R001A086_rgb_kp.json', 'dataset/a086_kp/S019C001P051R002A086_rgb_kp.json', 'dataset/a086_kp/S018C001P008R002A086_rgb_kp.json', 'dataset/a086_kp/S026C001P071R001A086_rgb_kp.json', 'dataset/a086_kp/S028C002P073R001A086_rgb_kp.json', 'dataset/a086_kp/S029C001P067R001A086_rgb_kp.json', 'dataset/a086_kp/S026C002P041R002A086_rgb_kp.json', 'dataset/a086_kp/S024C002P061R001A086_rgb_kp.json', 'dataset/a086_kp/S027C002P085R002A086_rgb_kp.json', 'dataset/a086_kp/S029C003P008R001A086_rgb_kp.json', 'dataset/a086_kp/S018C001P042R002A086_rgb_kp.json', 'dataset/a086_kp/S027C002P011R002A086_rgb_kp.json', 'dataset/a086_kp/S020C001P008R001A086_rgb_kp.json', 'dataset/a086_kp/S032C003P041R002A086_rgb_kp.json', 'dataset/a086_kp/S029C001P044R001A086_rgb_kp.json', 'dataset/a086_kp/S028C001P087R002A086_rgb_kp.json', 'dataset/a086_kp/S023C002P059R002A086_rgb_kp.json', 'dataset/a086_kp/S019C003P048R002A086_rgb_kp.json', 'dataset/a086_kp/S031C002P008R002A086_rgb_kp.json', 'dataset/a086_kp/S032C001P067R002A086_rgb_kp.json', 'dataset/a086_kp/S027C003P086R001A086_rgb_kp.json', 'dataset/a086_kp/S027C003P078R002A086_rgb_kp.json', 'dataset/a086_kp/S018C001P041R002A086_rgb_kp.json', 'dataset/a086_kp/S030C001P011R002A086_rgb_kp.json', 'dataset/a086_kp/S030C003P067R001A086_rgb_kp.json', 'dataset/a086_kp/S022C002P067R001A086_rgb_kp.json', 'dataset/a086_kp/S019C002P008R002A086_rgb_kp.json', 'dataset/a086_kp/S018C001P044R001A086_rgb_kp.json', 'dataset/a086_kp/S023C002P055R002A086_rgb_kp.json', 'dataset/a086_kp/S028C001P041R002A086_rgb_kp.json', 'dataset/a086_kp/S031C002P041R002A086_rgb_kp.json', 'dataset/a086_kp/S029C003P049R001A086_rgb_kp.json', 'dataset/a086_kp/S032C002P102R001A086_rgb_kp.json', 'dataset/a086_kp/S025C002P068R002A086_rgb_kp.json', 'dataset/a086_kp/S031C003P044R001A086_rgb_kp.json', 'dataset/a086_kp/S026C003P076R001A086_rgb_kp.json', 'dataset/a086_kp/S019C002P046R002A086_rgb_kp.json', 'dataset/a086_kp/S019C002P041R001A086_rgb_kp.json', 'dataset/a086_kp/S028C003P070R001A086_rgb_kp.json', 'dataset/a086_kp/S022C002P061R001A086_rgb_kp.json', 'dataset/a086_kp/S019C001P050R001A086_rgb_kp.json', 'dataset/a086_kp/S031C001P043R001A086_rgb_kp.json', 'dataset/a086_kp/S018C003P042R002A086_rgb_kp.json', 'dataset/a086_kp/S027C003P011R002A086_rgb_kp.json', 'dataset/a086_kp/S029C001P043R001A086_rgb_kp.json', 'dataset/a086_kp/S026C001P069R001A086_rgb_kp.json', 'dataset/a086_kp/S031C001P097R002A086_rgb_kp.json', 'dataset/a086_kp/S031C002P097R002A086_rgb_kp.json', 'dataset/a086_kp/S020C003P008R002A086_rgb_kp.json', 'dataset/a086_kp/S029C002P006R002A086_rgb_kp.json', 'dataset/a086_kp/S031C002P097R001A086_rgb_kp.json', 'dataset/a086_kp/S024C001P057R002A086_rgb_kp.json', 'dataset/a086_kp/S031C002P101R001A086_rgb_kp.json', 'dataset/a086_kp/S029C001P090R002A086_rgb_kp.json', 'dataset/a086_kp/S027C003P041R002A086_rgb_kp.json', 'dataset/a086_kp/S029C001P074R002A086_rgb_kp.json', 'dataset/a086_kp/S029C002P090R002A086_rgb_kp.json', 'dataset/a086_kp/S022C001P062R002A086_rgb_kp.json', 'dataset/a086_kp/S032C002P105R002A086_rgb_kp.json', 'dataset/a086_kp/S022C002P064R001A086_rgb_kp.json', 'dataset/a086_kp/S020C002P008R002A086_rgb_kp.json', 'dataset/a086_kp/S031C001P100R002A086_rgb_kp.json', 'dataset/a086_kp/S026C001P050R001A086_rgb_kp.json', 'dataset/a086_kp/S031C003P085R001A086_rgb_kp.json', 'dataset/a086_kp/S032C002P105R001A086_rgb_kp.json', 'dataset/a086_kp/S028C001P046R001A086_rgb_kp.json', 'dataset/a086_kp/S023C001P055R002A086_rgb_kp.json', 'dataset/a086_kp/S031C003P099R001A086_rgb_kp.json', 'dataset/a086_kp/S023C003P064R002A086_rgb_kp.json', 'dataset/a086_kp/S030C001P094R002A086_rgb_kp.json', 'dataset/a086_kp/S025C001P058R002A086_rgb_kp.json', 'dataset/a046_kp/S007C003P015R001A046_rgb_kp.json', 'dataset/a046_kp/S014C001P007R002A046_rgb_kp.json', 'dataset/a046_kp/S005C002P016R002A046_rgb_kp.json', 'dataset/a046_kp/S012C001P018R002A046_rgb_kp.json', 'dataset/a046_kp/S013C002P015R002A046_rgb_kp.json', 'dataset/a046_kp/S008C002P007R002A046_rgb_kp.json', 'dataset/a046_kp/S005C001P016R002A046_rgb_kp.json', 'dataset/a046_kp/S005C001P017R001A046_rgb_kp.json', 'dataset/a046_kp/S008C001P001R001A046_rgb_kp.json', 'dataset/a046_kp/S002C001P013R002A046_rgb_kp.json', 'dataset/a046_kp/S014C001P008R002A046_rgb_kp.json', 'dataset/a046_kp/S002C001P003R001A046_rgb_kp.json', 'dataset/a046_kp/S006C001P019R001A046_rgb_kp.json', 'dataset/a046_kp/S012C002P018R001A046_rgb_kp.json', 'dataset/a046_kp/S005C002P021R001A046_rgb_kp.json', 'dataset/a046_kp/S001C003P004R001A046_rgb_kp.json', 'dataset/a046_kp/S013C001P037R002A046_rgb_kp.json', 'dataset/a046_kp/S016C001P007R001A046_rgb_kp.json', 'dataset/a046_kp/S002C003P013R002A046_rgb_kp.json', 'dataset/a046_kp/S006C001P023R001A046_rgb_kp.json', 'dataset/a046_kp/S003C002P008R001A046_rgb_kp.json', 'dataset/a046_kp/S013C002P018R002A046_rgb_kp.json', 'dataset/a046_kp/S009C001P019R002A046_rgb_kp.json', 'dataset/a046_kp/S013C003P017R002A046_rgb_kp.json', 'dataset/a046_kp/S005C003P016R001A046_rgb_kp.json', 'dataset/a046_kp/S014C001P027R002A046_rgb_kp.json', 'dataset/a046_kp/S006C003P023R001A046_rgb_kp.json', 'dataset/a046_kp/S011C001P008R002A046_rgb_kp.json', 'dataset/a046_kp/S008C003P001R002A046_rgb_kp.json', 'dataset/a046_kp/S006C003P007R002A046_rgb_kp.json', 'dataset/a046_kp/S011C002P038R001A046_rgb_kp.json', 'dataset/a046_kp/S012C002P017R002A046_rgb_kp.json', 'dataset/a046_kp/S011C002P025R002A046_rgb_kp.json', 'dataset/a046_kp/S001C001P006R001A046_rgb_kp.json', 'dataset/a046_kp/S014C001P039R002A046_rgb_kp.json', 'dataset/a046_kp/S011C002P018R001A046_rgb_kp.json', 'dataset/a046_kp/S004C001P008R002A046_rgb_kp.json', 'dataset/a046_kp/S017C003P015R002A046_rgb_kp.json', 'dataset/a046_kp/S002C001P012R001A046_rgb_kp.json', 'dataset/a046_kp/S008C003P001R001A046_rgb_kp.json', 'dataset/a046_kp/S015C001P016R001A046_rgb_kp.json', 'dataset/a046_kp/S013C002P025R002A046_rgb_kp.json', 'dataset/a046_kp/S007C003P008R001A046_rgb_kp.json', 'dataset/a046_kp/S008C003P035R002A046_rgb_kp.json', 'dataset/a046_kp/S010C003P008R002A046_rgb_kp.json', 'dataset/a046_kp/S005C003P017R002A046_rgb_kp.json', 'dataset/a046_kp/S008C003P034R002A046_rgb_kp.json', 'dataset/a046_kp/S003C003P002R002A046_rgb_kp.json', 'dataset/a046_kp/S001C001P005R001A046_rgb_kp.json', 'dataset/a046_kp/S003C001P002R001A046_rgb_kp.json', 'dataset/a046_kp/S014C001P007R001A046_rgb_kp.json', 'dataset/a046_kp/S004C001P007R002A046_rgb_kp.json', 'dataset/a046_kp/S002C002P008R002A046_rgb_kp.json', 'dataset/a046_kp/S003C003P015R002A046_rgb_kp.json', 'dataset/a046_kp/S003C003P008R002A046_rgb_kp.json', 'dataset/a046_kp/S012C001P016R002A046_rgb_kp.json', 'dataset/a046_kp/S008C002P030R002A046_rgb_kp.json', 'dataset/a046_kp/S014C002P015R002A046_rgb_kp.json', 'dataset/a046_kp/S008C001P029R002A046_rgb_kp.json', 'dataset/a046_kp/S002C002P003R001A046_rgb_kp.json', 'dataset/a046_kp/S008C002P008R002A046_rgb_kp.json', 'dataset/a046_kp/S014C002P008R001A046_rgb_kp.json', 'dataset/a046_kp/S014C003P027R001A046_rgb_kp.json', 'dataset/a046_kp/S010C002P018R002A046_rgb_kp.json', 'dataset/a046_kp/S008C001P031R002A046_rgb_kp.json', 'dataset/a046_kp/S010C003P008R001A046_rgb_kp.json', 'dataset/a046_kp/S017C001P003R002A046_rgb_kp.json', 'dataset/a046_kp/S012C003P028R002A046_rgb_kp.json', 'dataset/a046_kp/S006C001P022R002A046_rgb_kp.json', 'dataset/a046_kp/S012C002P019R001A046_rgb_kp.json', 'dataset/a046_kp/S007C002P026R002A046_rgb_kp.json', 'dataset/a046_kp/S003C001P015R001A046_rgb_kp.json', 'dataset/a046_kp/S002C003P009R002A046_rgb_kp.json', 'dataset/a046_kp/S010C001P019R002A046_rgb_kp.json', 'dataset/a046_kp/S006C001P015R002A046_rgb_kp.json', 'dataset/a046_kp/S009C001P015R002A046_rgb_kp.json', 'dataset/a046_kp/S013C002P015R001A046_rgb_kp.json', 'dataset/a046_kp/S013C003P007R002A046_rgb_kp.json', 'dataset/a046_kp/S004C003P008R002A046_rgb_kp.json', 'dataset/a046_kp/S002C003P012R001A046_rgb_kp.json', 'dataset/a046_kp/S008C001P035R002A046_rgb_kp.json', 'dataset/a046_kp/S008C001P032R002A046_rgb_kp.json', 'dataset/a046_kp/S004C003P003R001A046_rgb_kp.json', 'dataset/a046_kp/S005C002P004R002A046_rgb_kp.json', 'dataset/a046_kp/S002C002P014R002A046_rgb_kp.json', 'dataset/a046_kp/S012C003P037R001A046_rgb_kp.json', 'dataset/a046_kp/S010C001P025R001A046_rgb_kp.json', 'dataset/a046_kp/S001C003P002R001A046_rgb_kp.json', 'dataset/a046_kp/S001C001P007R001A046_rgb_kp.json', 'dataset/a046_kp/S013C002P025R001A046_rgb_kp.json', 'dataset/a046_kp/S013C001P015R001A046_rgb_kp.json', 'dataset/a046_kp/S017C003P003R002A046_rgb_kp.json', 'dataset/a046_kp/S012C001P015R001A046_rgb_kp.json', 'dataset/a046_kp/S001C003P003R002A046_rgb_kp.json', 'dataset/a046_kp/S015C001P037R001A046_rgb_kp.json', 'dataset/a046_kp/S008C003P025R001A046_rgb_kp.json', 'dataset/a046_kp/S011C003P015R001A046_rgb_kp.json', 'dataset/a046_kp/S013C002P017R002A046_rgb_kp.json', 'dataset/a046_kp/S014C003P019R001A046_rgb_kp.json', 'dataset/a046_kp/S008C001P007R001A046_rgb_kp.json', 'dataset/a078_kp/S023C002P057R001A078_rgb_kp.json', 'dataset/a078_kp/S029C001P080R001A078_rgb_kp.json', 'dataset/a078_kp/S020C001P008R002A078_rgb_kp.json', 'dataset/a078_kp/S023C001P063R001A078_rgb_kp.json', 'dataset/a078_kp/S032C001P103R002A078_rgb_kp.json', 'dataset/a078_kp/S029C003P008R001A078_rgb_kp.json', 'dataset/a078_kp/S023C001P068R001A078_rgb_kp.json', 'dataset/a078_kp/S024C001P063R002A078_rgb_kp.json', 'dataset/a078_kp/S025C002P055R002A078_rgb_kp.json', 'dataset/a078_kp/S020C001P044R001A078_rgb_kp.json', 'dataset/a078_kp/S029C002P090R001A078_rgb_kp.json', 'dataset/a078_kp/S028C002P008R001A078_rgb_kp.json', 'dataset/a078_kp/S025C001P066R001A078_rgb_kp.json', 'dataset/a078_kp/S027C003P078R001A078_rgb_kp.json', 'dataset/a078_kp/S026C003P072R002A078_rgb_kp.json', 'dataset/a078_kp/S030C003P094R002A078_rgb_kp.json', 'dataset/a078_kp/S029C003P090R002A078_rgb_kp.json', 'dataset/a078_kp/S030C002P075R001A078_rgb_kp.json', 'dataset/a078_kp/S030C002P041R002A078_rgb_kp.json', 'dataset/a078_kp/S027C002P080R001A078_rgb_kp.json', 'dataset/a078_kp/S018C003P008R002A078_rgb_kp.json', 'dataset/a078_kp/S028C001P073R001A078_rgb_kp.json', 'dataset/a078_kp/S027C002P043R002A078_rgb_kp.json', 'dataset/a078_kp/S031C001P044R001A078_rgb_kp.json', 'dataset/a078_kp/S026C003P072R001A078_rgb_kp.json', 'dataset/a078_kp/S018C001P008R001A078_rgb_kp.json', 'dataset/a078_kp/S021C002P057R001A078_rgb_kp.json', 'dataset/a078_kp/S029C002P044R002A078_rgb_kp.json', 'dataset/a078_kp/S031C001P098R001A078_rgb_kp.json', 'dataset/a078_kp/S024C001P061R001A078_rgb_kp.json', 'dataset/a078_kp/S026C001P076R001A078_rgb_kp.json', 'dataset/a078_kp/S021C003P059R001A078_rgb_kp.json', 'dataset/a078_kp/S026C001P044R001A078_rgb_kp.json', 'dataset/a078_kp/S026C001P069R001A078_rgb_kp.json', 'dataset/a078_kp/S029C002P041R002A078_rgb_kp.json', 'dataset/a078_kp/S030C001P095R002A078_rgb_kp.json', 'dataset/a078_kp/S027C002P085R001A078_rgb_kp.json', 'dataset/a078_kp/S030C002P094R001A078_rgb_kp.json', 'dataset/a078_kp/S027C002P041R001A078_rgb_kp.json', 'dataset/a078_kp/S019C003P048R001A078_rgb_kp.json', 'dataset/a078_kp/S019C003P050R001A078_rgb_kp.json', 'dataset/a078_kp/S029C002P088R001A078_rgb_kp.json', 'dataset/a078_kp/S032C001P102R002A078_rgb_kp.json', 'dataset/a078_kp/S031C003P043R002A078_rgb_kp.json', 'dataset/a078_kp/S019C001P051R002A078_rgb_kp.json', 'dataset/a078_kp/S029C001P008R001A078_rgb_kp.json', 'dataset/a078_kp/S031C002P043R001A078_rgb_kp.json', 'dataset/a078_kp/S029C003P006R001A078_rgb_kp.json', 'dataset/a078_kp/S030C003P043R002A078_rgb_kp.json', 'dataset/a078_kp/S030C002P011R001A078_rgb_kp.json', 'dataset/a078_kp/S025C001P066R002A078_rgb_kp.json', 'dataset/a078_kp/S027C002P044R002A078_rgb_kp.json', 'dataset/a078_kp/S029C001P008R002A078_rgb_kp.json', 'dataset/a078_kp/S029C001P043R001A078_rgb_kp.json', 'dataset/a078_kp/S023C003P056R002A078_rgb_kp.json', 'dataset/a078_kp/S019C002P049R002A078_rgb_kp.json', 'dataset/a078_kp/S032C001P044R002A078_rgb_kp.json', 'dataset/a078_kp/S019C002P051R002A078_rgb_kp.json', 'dataset/a078_kp/S025C002P066R001A078_rgb_kp.json', 'dataset/a078_kp/S022C001P061R002A078_rgb_kp.json', 'dataset/a078_kp/S027C001P082R001A078_rgb_kp.json', 'dataset/a078_kp/S029C001P090R002A078_rgb_kp.json', 'dataset/a078_kp/S030C001P081R001A078_rgb_kp.json', 'dataset/a078_kp/S018C002P008R002A078_rgb_kp.json', 'dataset/a078_kp/S020C003P043R002A078_rgb_kp.json', 'dataset/a078_kp/S028C002P048R001A078_rgb_kp.json', 'dataset/a078_kp/S027C002P082R002A078_rgb_kp.json', 'dataset/a078_kp/S032C002P043R002A078_rgb_kp.json', 'dataset/a078_kp/S023C002P058R002A078_rgb_kp.json', 'dataset/a078_kp/S030C002P043R002A078_rgb_kp.json', 'dataset/a078_kp/S024C003P067R001A078_rgb_kp.json', 'dataset/a078_kp/S030C002P048R002A078_rgb_kp.json', 'dataset/a078_kp/S022C003P061R001A078_rgb_kp.json', 'dataset/a078_kp/S029C002P006R002A078_rgb_kp.json', 'dataset/a078_kp/S030C003P008R002A078_rgb_kp.json', 'dataset/a078_kp/S029C002P051R002A078_rgb_kp.json', 'dataset/a078_kp/S029C001P044R001A078_rgb_kp.json', 'dataset/a078_kp/S023C002P068R001A078_rgb_kp.json', 'dataset/a078_kp/S019C001P046R001A078_rgb_kp.json', 'dataset/a078_kp/S027C001P085R001A078_rgb_kp.json', 'dataset/a078_kp/S030C001P091R001A078_rgb_kp.json', 'dataset/a078_kp/S026C003P041R001A078_rgb_kp.json', 'dataset/a078_kp/S026C002P074R001A078_rgb_kp.json', 'dataset/a078_kp/S027C002P008R001A078_rgb_kp.json', 'dataset/a078_kp/S026C001P071R002A078_rgb_kp.json', 'dataset/a078_kp/S030C002P048R001A078_rgb_kp.json', 'dataset/a078_kp/S025C002P065R001A078_rgb_kp.json', 'dataset/a078_kp/S019C003P049R001A078_rgb_kp.json', 'dataset/a078_kp/S022C002P064R001A078_rgb_kp.json', 'dataset/a078_kp/S025C001P065R002A078_rgb_kp.json', 'dataset/a078_kp/S028C002P087R001A078_rgb_kp.json', 'dataset/a078_kp/S023C002P060R001A078_rgb_kp.json', 'dataset/a078_kp/S027C002P041R002A078_rgb_kp.json', 'dataset/a078_kp/S020C002P043R002A078_rgb_kp.json', 'dataset/a078_kp/S028C003P070R001A078_rgb_kp.json', 'dataset/a078_kp/S026C002P072R002A078_rgb_kp.json', 'dataset/a078_kp/S020C002P053R002A078_rgb_kp.json', 'dataset/a078_kp/S022C001P062R002A078_rgb_kp.json', 'dataset/a078_kp/S022C001P063R001A078_rgb_kp.json', 'dataset/a078_kp/S026C003P044R002A078_rgb_kp.json', 'dataset/a066_kp/S029C003P008R001A066_rgb_kp.json', 'dataset/a066_kp/S024C002P061R002A066_rgb_kp.json', 'dataset/a066_kp/S031C001P099R002A066_rgb_kp.json', 'dataset/a066_kp/S029C003P044R001A066_rgb_kp.json', 'dataset/a066_kp/S021C003P060R001A066_rgb_kp.json', 'dataset/a066_kp/S027C003P085R001A066_rgb_kp.json', 'dataset/a066_kp/S027C002P080R001A066_rgb_kp.json', 'dataset/a066_kp/S027C001P011R002A066_rgb_kp.json', 'dataset/a066_kp/S020C003P044R001A066_rgb_kp.json', 'dataset/a066_kp/S031C001P067R002A066_rgb_kp.json', 'dataset/a066_kp/S027C002P085R002A066_rgb_kp.json', 'dataset/a066_kp/S032C003P043R002A066_rgb_kp.json', 'dataset/a066_kp/S019C002P049R001A066_rgb_kp.json', 'dataset/a066_kp/S029C002P075R002A066_rgb_kp.json', 'dataset/a066_kp/S031C003P097R001A066_rgb_kp.json', 'dataset/a066_kp/S026C001P008R001A066_rgb_kp.json', 'dataset/a066_kp/S029C001P080R002A066_rgb_kp.json', 'dataset/a066_kp/S031C003P043R002A066_rgb_kp.json', 'dataset/a066_kp/S031C002P041R001A066_rgb_kp.json', 'dataset/a066_kp/S024C003P060R001A066_rgb_kp.json', 'dataset/a066_kp/S025C001P058R002A066_rgb_kp.json', 'dataset/a066_kp/S025C002P066R002A066_rgb_kp.json', 'dataset/a066_kp/S022C002P067R001A066_rgb_kp.json', 'dataset/a066_kp/S026C003P077R002A066_rgb_kp.json', 'dataset/a066_kp/S026C002P051R001A066_rgb_kp.json', 'dataset/a066_kp/S031C003P085R002A066_rgb_kp.json', 'dataset/a066_kp/S027C001P081R002A066_rgb_kp.json', 'dataset/a066_kp/S019C002P008R002A066_rgb_kp.json', 'dataset/a066_kp/S023C001P062R002A066_rgb_kp.json', 'dataset/a066_kp/S031C003P051R002A066_rgb_kp.json', 'dataset/a066_kp/S028C001P042R001A066_rgb_kp.json', 'dataset/a066_kp/S023C003P066R002A066_rgb_kp.json', 'dataset/a066_kp/S032C002P105R002A066_rgb_kp.json', 'dataset/a066_kp/S022C001P061R002A066_rgb_kp.json', 'dataset/a066_kp/S032C002P067R001A066_rgb_kp.json', 'dataset/a066_kp/S032C003P008R002A066_rgb_kp.json', 'dataset/a066_kp/S027C001P008R001A066_rgb_kp.json', 'dataset/a066_kp/S027C001P085R001A066_rgb_kp.json', 'dataset/a066_kp/S031C001P006R001A066_rgb_kp.json', 'dataset/a066_kp/S021C001P055R002A066_rgb_kp.json', 'dataset/a066_kp/S030C002P094R002A066_rgb_kp.json', 'dataset/a066_kp/S021C003P057R002A066_rgb_kp.json', 'dataset/a066_kp/S032C002P103R001A066_rgb_kp.json', 'dataset/a066_kp/S019C002P046R002A066_rgb_kp.json', 'dataset/a066_kp/S023C001P067R002A066_rgb_kp.json', 'dataset/a066_kp/S031C002P044R002A066_rgb_kp.json', 'dataset/a066_kp/S026C001P076R001A066_rgb_kp.json', 'dataset/a066_kp/S031C002P042R002A066_rgb_kp.json', 'dataset/a066_kp/S028C001P046R001A066_rgb_kp.json', 'dataset/a066_kp/S022C001P066R001A066_rgb_kp.json', 'dataset/a066_kp/S029C002P008R001A066_rgb_kp.json', 'dataset/a066_kp/S031C001P043R001A066_rgb_kp.json', 'dataset/a066_kp/S026C002P041R002A066_rgb_kp.json', 'dataset/a066_kp/S031C003P043R001A066_rgb_kp.json', 'dataset/a066_kp/S023C001P064R002A066_rgb_kp.json', 'dataset/a066_kp/S030C001P041R001A066_rgb_kp.json', 'dataset/a066_kp/S027C002P083R001A066_rgb_kp.json', 'dataset/a066_kp/S026C003P069R002A066_rgb_kp.json', 'dataset/a066_kp/S019C002P047R002A066_rgb_kp.json', 'dataset/a066_kp/S024C003P061R002A066_rgb_kp.json', 'dataset/a066_kp/S029C001P074R002A066_rgb_kp.json', 'dataset/a066_kp/S027C002P079R002A066_rgb_kp.json', 'dataset/a066_kp/S026C003P041R001A066_rgb_kp.json', 'dataset/a066_kp/S019C001P049R002A066_rgb_kp.json', 'dataset/a066_kp/S026C002P041R001A066_rgb_kp.json', 'dataset/a066_kp/S031C001P042R002A066_rgb_kp.json', 'dataset/a066_kp/S032C002P104R001A066_rgb_kp.json', 'dataset/a066_kp/S031C003P085R001A066_rgb_kp.json', 'dataset/a066_kp/S031C001P041R002A066_rgb_kp.json', 'dataset/a066_kp/S026C002P071R002A066_rgb_kp.json', 'dataset/a066_kp/S027C002P084R002A066_rgb_kp.json', 'dataset/a066_kp/S024C002P063R001A066_rgb_kp.json', 'dataset/a066_kp/S031C001P051R002A066_rgb_kp.json', 'dataset/a066_kp/S032C001P044R001A066_rgb_kp.json', 'dataset/a066_kp/S018C002P042R002A066_rgb_kp.json', 'dataset/a066_kp/S023C002P058R001A066_rgb_kp.json', 'dataset/a066_kp/S022C002P061R002A066_rgb_kp.json', 'dataset/a066_kp/S032C001P067R001A066_rgb_kp.json', 'dataset/a066_kp/S022C002P063R002A066_rgb_kp.json', 'dataset/a066_kp/S031C001P098R002A066_rgb_kp.json', 'dataset/a066_kp/S023C001P060R001A066_rgb_kp.json', 'dataset/a066_kp/S023C003P062R002A066_rgb_kp.json', 'dataset/a066_kp/S026C001P069R002A066_rgb_kp.json', 'dataset/a066_kp/S021C002P057R001A066_rgb_kp.json', 'dataset/a066_kp/S024C003P063R001A066_rgb_kp.json', 'dataset/a066_kp/S031C003P044R001A066_rgb_kp.json', 'dataset/a066_kp/S019C001P047R001A066_rgb_kp.json', 'dataset/a066_kp/S020C002P052R001A066_rgb_kp.json', 'dataset/a066_kp/S019C002P051R001A066_rgb_kp.json', 'dataset/a066_kp/S028C002P087R001A066_rgb_kp.json', 'dataset/a066_kp/S030C003P043R001A066_rgb_kp.json', 'dataset/a066_kp/S030C003P088R001A066_rgb_kp.json', 'dataset/a066_kp/S027C001P006R002A066_rgb_kp.json', 'dataset/a066_kp/S023C001P068R002A066_rgb_kp.json', 'dataset/a066_kp/S022C002P063R001A066_rgb_kp.json', 'dataset/a066_kp/S021C003P057R001A066_rgb_kp.json', 'dataset/a066_kp/S028C001P043R001A066_rgb_kp.json', 'dataset/a066_kp/S030C001P081R002A066_rgb_kp.json', 'dataset/a066_kp/S023C001P055R001A066_rgb_kp.json', 'dataset/a066_kp/S032C002P043R001A066_rgb_kp.json', 'dataset/a033_kp/S009C001P016R002A033_rgb_kp.json', 'dataset/a033_kp/S006C003P019R002A033_rgb_kp.json', 'dataset/a033_kp/S002C002P012R002A033_rgb_kp.json', 'dataset/a033_kp/S014C003P008R002A033_rgb_kp.json', 'dataset/a033_kp/S008C002P036R002A033_rgb_kp.json', 'dataset/a033_kp/S008C003P001R001A033_rgb_kp.json', 'dataset/a033_kp/S011C003P017R001A033_rgb_kp.json', 'dataset/a033_kp/S012C001P027R002A033_rgb_kp.json', 'dataset/a033_kp/S015C002P015R001A033_rgb_kp.json', 'dataset/a033_kp/S006C001P001R002A033_rgb_kp.json', 'dataset/a033_kp/S001C001P003R002A033_rgb_kp.json', 'dataset/a033_kp/S003C003P017R002A033_rgb_kp.json', 'dataset/a033_kp/S006C002P022R001A033_rgb_kp.json', 'dataset/a033_kp/S014C002P017R002A033_rgb_kp.json', 'dataset/a033_kp/S013C001P028R001A033_rgb_kp.json', 'dataset/a033_kp/S014C001P027R002A033_rgb_kp.json', 'dataset/a033_kp/S003C003P001R001A033_rgb_kp.json', 'dataset/a033_kp/S012C001P028R002A033_rgb_kp.json', 'dataset/a033_kp/S008C003P029R002A033_rgb_kp.json', 'dataset/a033_kp/S011C002P008R002A033_rgb_kp.json', 'dataset/a033_kp/S008C002P007R002A033_rgb_kp.json', 'dataset/a033_kp/S004C003P020R002A033_rgb_kp.json', 'dataset/a033_kp/S012C003P007R001A033_rgb_kp.json', 'dataset/a033_kp/S011C002P017R002A033_rgb_kp.json', 'dataset/a033_kp/S009C002P025R001A033_rgb_kp.json', 'dataset/a033_kp/S003C002P007R001A033_rgb_kp.json', 'dataset/a033_kp/S004C003P008R002A033_rgb_kp.json', 'dataset/a033_kp/S003C001P017R002A033_rgb_kp.json', 'dataset/a033_kp/S008C001P007R002A033_rgb_kp.json', 'dataset/a033_kp/S009C001P025R001A033_rgb_kp.json', 'dataset/a033_kp/S006C001P023R002A033_rgb_kp.json', 'dataset/a033_kp/S012C002P019R002A033_rgb_kp.json', 'dataset/a033_kp/S001C001P002R001A033_rgb_kp.json', 'dataset/a033_kp/S011C002P016R001A033_rgb_kp.json', 'dataset/a033_kp/S017C003P003R001A033_rgb_kp.json', 'dataset/a033_kp/S001C003P007R001A033_rgb_kp.json', 'dataset/a033_kp/S010C001P016R001A033_rgb_kp.json', 'dataset/a033_kp/S013C001P027R001A033_rgb_kp.json', 'dataset/a033_kp/S008C003P033R001A033_rgb_kp.json', 'dataset/a033_kp/S016C001P019R001A033_rgb_kp.json', 'dataset/a033_kp/S003C003P019R002A033_rgb_kp.json', 'dataset/a033_kp/S012C003P028R001A033_rgb_kp.json', 'dataset/a033_kp/S002C003P009R002A033_rgb_kp.json', 'dataset/a033_kp/S010C001P019R001A033_rgb_kp.json', 'dataset/a033_kp/S009C003P008R001A033_rgb_kp.json', 'dataset/a033_kp/S011C002P001R002A033_rgb_kp.json', 'dataset/a033_kp/S003C001P016R001A033_rgb_kp.json', 'dataset/a033_kp/S001C001P003R001A033_rgb_kp.json', 'dataset/a033_kp/S015C001P037R001A033_rgb_kp.json', 'dataset/a033_kp/S013C003P007R002A033_rgb_kp.json', 'dataset/a033_kp/S016C001P008R002A033_rgb_kp.json', 'dataset/a033_kp/S011C001P008R002A033_rgb_kp.json', 'dataset/a033_kp/S008C001P036R002A033_rgb_kp.json', 'dataset/a033_kp/S015C003P017R001A033_rgb_kp.json', 'dataset/a033_kp/S013C002P019R002A033_rgb_kp.json', 'dataset/a033_kp/S004C003P003R002A033_rgb_kp.json', 'dataset/a033_kp/S009C002P015R002A033_rgb_kp.json', 'dataset/a033_kp/S008C001P034R001A033_rgb_kp.json', 'dataset/a033_kp/S016C003P019R002A033_rgb_kp.json', 'dataset/a033_kp/S008C003P008R001A033_rgb_kp.json', 'dataset/a033_kp/S005C002P010R002A033_rgb_kp.json', 'dataset/a033_kp/S007C001P019R001A033_rgb_kp.json', 'dataset/a033_kp/S012C001P015R002A033_rgb_kp.json', 'dataset/a033_kp/S011C002P027R001A033_rgb_kp.json', 'dataset/a033_kp/S002C002P008R001A033_rgb_kp.json', 'dataset/a033_kp/S011C001P008R001A033_rgb_kp.json', 'dataset/a033_kp/S006C001P024R002A033_rgb_kp.json', 'dataset/a033_kp/S006C001P023R001A033_rgb_kp.json', 'dataset/a033_kp/S016C003P021R001A033_rgb_kp.json', 'dataset/a033_kp/S001C001P007R002A033_rgb_kp.json', 'dataset/a033_kp/S010C003P007R002A033_rgb_kp.json', 'dataset/a033_kp/S004C001P003R001A033_rgb_kp.json', 'dataset/a033_kp/S008C003P029R001A033_rgb_kp.json', 'dataset/a033_kp/S010C002P018R001A033_rgb_kp.json', 'dataset/a033_kp/S006C002P016R001A033_rgb_kp.json', 'dataset/a033_kp/S017C001P017R002A033_rgb_kp.json', 'dataset/a033_kp/S010C003P016R002A033_rgb_kp.json', 'dataset/a033_kp/S010C001P007R002A033_rgb_kp.json', 'dataset/a033_kp/S012C002P037R002A033_rgb_kp.json', 'dataset/a033_kp/S003C002P015R002A033_rgb_kp.json', 'dataset/a033_kp/S013C001P016R001A033_rgb_kp.json', 'dataset/a033_kp/S003C001P008R002A033_rgb_kp.json', 'dataset/a033_kp/S003C001P017R001A033_rgb_kp.json', 'dataset/a033_kp/S005C003P015R002A033_rgb_kp.json', 'dataset/a033_kp/S010C002P008R001A033_rgb_kp.json', 'dataset/a033_kp/S004C002P008R002A033_rgb_kp.json', 'dataset/a033_kp/S015C001P015R001A033_rgb_kp.json', 'dataset/a033_kp/S001C002P001R001A033_rgb_kp.json', 'dataset/a033_kp/S004C003P007R002A033_rgb_kp.json', 'dataset/a033_kp/S016C001P021R002A033_rgb_kp.json', 'dataset/a033_kp/S010C001P017R002A033_rgb_kp.json', 'dataset/a033_kp/S009C001P015R002A033_rgb_kp.json', 'dataset/a033_kp/S001C003P002R001A033_rgb_kp.json', 'dataset/a033_kp/S017C001P008R001A033_rgb_kp.json', 'dataset/a033_kp/S004C001P020R001A033_rgb_kp.json', 'dataset/a033_kp/S016C002P008R001A033_rgb_kp.json', 'dataset/a033_kp/S013C003P015R002A033_rgb_kp.json', 'dataset/a033_kp/S016C003P039R002A033_rgb_kp.json', 'dataset/a033_kp/S014C001P025R002A033_rgb_kp.json', 'dataset/a033_kp/S004C002P003R002A033_rgb_kp.json', 'dataset/a024_kp/S010C001P008R002A024_rgb_kp.json', 'dataset/a024_kp/S009C001P008R002A024_rgb_kp.json', 'dataset/a024_kp/S005C003P015R001A024_rgb_kp.json', 'dataset/a024_kp/S004C001P008R002A024_rgb_kp.json', 'dataset/a024_kp/S006C001P001R001A024_rgb_kp.json', 'dataset/a024_kp/S011C002P025R001A024_rgb_kp.json', 'dataset/a024_kp/S003C002P016R001A024_rgb_kp.json', 'dataset/a024_kp/S011C001P019R002A024_rgb_kp.json', 'dataset/a024_kp/S012C001P028R002A024_rgb_kp.json', 'dataset/a024_kp/S006C001P008R001A024_rgb_kp.json', 'dataset/a024_kp/S010C003P016R002A024_rgb_kp.json', 'dataset/a024_kp/S012C002P015R001A024_rgb_kp.json', 'dataset/a024_kp/S016C001P021R002A024_rgb_kp.json', 'dataset/a024_kp/S003C002P007R002A024_rgb_kp.json', 'dataset/a024_kp/S010C001P017R001A024_rgb_kp.json', 'dataset/a024_kp/S001C001P006R001A024_rgb_kp.json', 'dataset/a024_kp/S017C002P009R002A024_rgb_kp.json', 'dataset/a024_kp/S015C002P037R002A024_rgb_kp.json', 'dataset/a024_kp/S006C003P019R001A024_rgb_kp.json', 'dataset/a024_kp/S009C003P016R002A024_rgb_kp.json', 'dataset/a024_kp/S008C003P033R002A024_rgb_kp.json', 'dataset/a024_kp/S016C002P019R002A024_rgb_kp.json', 'dataset/a024_kp/S003C001P017R002A024_rgb_kp.json', 'dataset/a024_kp/S014C003P008R002A024_rgb_kp.json', 'dataset/a024_kp/S006C003P007R002A024_rgb_kp.json', 'dataset/a024_kp/S007C002P018R002A024_rgb_kp.json', 'dataset/a024_kp/S008C003P031R001A024_rgb_kp.json', 'dataset/a024_kp/S016C001P007R002A024_rgb_kp.json', 'dataset/a024_kp/S012C003P007R002A024_rgb_kp.json', 'dataset/a024_kp/S005C001P010R002A024_rgb_kp.json', 'dataset/a024_kp/S002C001P013R001A024_rgb_kp.json', 'dataset/a024_kp/S005C003P021R001A024_rgb_kp.json', 'dataset/a024_kp/S002C001P012R002A024_rgb_kp.json', 'dataset/a024_kp/S005C001P021R001A024_rgb_kp.json', 'dataset/a024_kp/S013C002P028R001A024_rgb_kp.json', 'dataset/a024_kp/S001C001P008R001A024_rgb_kp.json', 'dataset/a024_kp/S006C002P024R002A024_rgb_kp.json', 'dataset/a024_kp/S011C002P007R002A024_rgb_kp.json', 'dataset/a024_kp/S010C002P008R002A024_rgb_kp.json', 'dataset/a024_kp/S006C003P017R002A024_rgb_kp.json', 'dataset/a024_kp/S006C001P017R001A024_rgb_kp.json', 'dataset/a024_kp/S012C002P028R001A024_rgb_kp.json', 'dataset/a024_kp/S004C001P003R001A024_rgb_kp.json', 'dataset/a024_kp/S007C003P027R001A024_rgb_kp.json', 'dataset/a024_kp/S006C003P016R001A024_rgb_kp.json', 'dataset/a024_kp/S008C001P015R002A024_rgb_kp.json', 'dataset/a024_kp/S001C003P001R002A024_rgb_kp.json', 'dataset/a024_kp/S001C001P008R002A024_rgb_kp.json', 'dataset/a024_kp/S002C002P011R001A024_rgb_kp.json', 'dataset/a024_kp/S011C002P001R001A024_rgb_kp.json', 'dataset/a024_kp/S014C002P008R001A024_rgb_kp.json', 'dataset/a024_kp/S015C001P008R001A024_rgb_kp.json', 'dataset/a024_kp/S008C001P032R002A024_rgb_kp.json', 'dataset/a024_kp/S013C003P018R001A024_rgb_kp.json', 'dataset/a024_kp/S003C003P017R001A024_rgb_kp.json', 'dataset/a024_kp/S017C003P008R002A024_rgb_kp.json', 'dataset/a024_kp/S011C001P001R001A024_rgb_kp.json', 'dataset/a024_kp/S002C003P008R002A024_rgb_kp.json', 'dataset/a024_kp/S011C001P027R002A024_rgb_kp.json', 'dataset/a024_kp/S005C002P018R001A024_rgb_kp.json', 'dataset/a024_kp/S008C001P035R002A024_rgb_kp.json', 'dataset/a024_kp/S012C003P027R001A024_rgb_kp.json', 'dataset/a024_kp/S011C002P016R002A024_rgb_kp.json', 'dataset/a024_kp/S005C003P013R001A024_rgb_kp.json', 'dataset/a024_kp/S008C003P019R001A024_rgb_kp.json', 'dataset/a024_kp/S017C002P016R001A024_rgb_kp.json', 'dataset/a024_kp/S010C001P016R001A024_rgb_kp.json', 'dataset/a024_kp/S007C003P007R001A024_rgb_kp.json', 'dataset/a024_kp/S015C001P025R001A024_rgb_kp.json', 'dataset/a024_kp/S007C003P015R002A024_rgb_kp.json', 'dataset/a024_kp/S010C001P018R002A024_rgb_kp.json', 'dataset/a024_kp/S011C003P017R002A024_rgb_kp.json', 'dataset/a024_kp/S016C003P021R001A024_rgb_kp.json', 'dataset/a024_kp/S003C003P008R001A024_rgb_kp.json', 'dataset/a024_kp/S017C002P020R001A024_rgb_kp.json', 'dataset/a024_kp/S001C003P006R001A024_rgb_kp.json', 'dataset/a024_kp/S016C001P021R001A024_rgb_kp.json', 'dataset/a024_kp/S009C001P019R001A024_rgb_kp.json', 'dataset/a024_kp/S010C003P017R001A024_rgb_kp.json', 'dataset/a024_kp/S007C001P018R001A024_rgb_kp.json', 'dataset/a024_kp/S003C003P018R002A024_rgb_kp.json', 'dataset/a024_kp/S008C001P007R001A024_rgb_kp.json', 'dataset/a024_kp/S008C002P034R001A024_rgb_kp.json', 'dataset/a024_kp/S014C001P037R001A024_rgb_kp.json', 'dataset/a024_kp/S011C002P038R002A024_rgb_kp.json', 'dataset/a024_kp/S008C003P001R001A024_rgb_kp.json', 'dataset/a024_kp/S007C002P025R002A024_rgb_kp.json', 'dataset/a024_kp/S009C003P007R002A024_rgb_kp.json', 'dataset/a024_kp/S014C003P027R001A024_rgb_kp.json', 'dataset/a024_kp/S016C002P021R002A024_rgb_kp.json', 'dataset/a024_kp/S008C001P036R002A024_rgb_kp.json', 'dataset/a024_kp/S007C001P027R001A024_rgb_kp.json', 'dataset/a024_kp/S006C003P022R001A024_rgb_kp.json', 'dataset/a024_kp/S009C003P008R002A024_rgb_kp.json', 'dataset/a024_kp/S013C003P017R001A024_rgb_kp.json', 'dataset/a024_kp/S011C003P018R002A024_rgb_kp.json', 'dataset/a024_kp/S001C001P003R001A024_rgb_kp.json', 'dataset/a024_kp/S015C001P025R002A024_rgb_kp.json', 'dataset/a024_kp/S017C003P020R002A024_rgb_kp.json', 'dataset/a024_kp/S013C001P019R001A024_rgb_kp.json', 'dataset/a038_kp/S010C003P008R002A038_rgb_kp.json', 'dataset/a038_kp/S012C003P025R002A038_rgb_kp.json', 'dataset/a038_kp/S010C003P018R001A038_rgb_kp.json', 'dataset/a038_kp/S010C001P008R001A038_rgb_kp.json', 'dataset/a038_kp/S013C001P017R002A038_rgb_kp.json', 'dataset/a038_kp/S007C002P026R002A038_rgb_kp.json', 'dataset/a038_kp/S008C001P019R001A038_rgb_kp.json', 'dataset/a038_kp/S015C002P025R001A038_rgb_kp.json', 'dataset/a038_kp/S008C001P008R001A038_rgb_kp.json', 'dataset/a038_kp/S012C001P018R002A038_rgb_kp.json', 'dataset/a038_kp/S016C001P007R002A038_rgb_kp.json', 'dataset/a038_kp/S003C002P017R001A038_rgb_kp.json', 'dataset/a038_kp/S001C002P006R001A038_rgb_kp.json', 'dataset/a038_kp/S014C001P039R002A038_rgb_kp.json', 'dataset/a038_kp/S005C001P015R001A038_rgb_kp.json', 'dataset/a038_kp/S001C003P001R002A038_rgb_kp.json', 'dataset/a038_kp/S005C002P010R001A038_rgb_kp.json', 'dataset/a038_kp/S013C001P025R001A038_rgb_kp.json', 'dataset/a038_kp/S011C001P038R002A038_rgb_kp.json', 'dataset/a038_kp/S012C002P027R001A038_rgb_kp.json', 'dataset/a038_kp/S016C001P021R002A038_rgb_kp.json', 'dataset/a038_kp/S011C001P038R001A038_rgb_kp.json', 'dataset/a038_kp/S014C003P037R002A038_rgb_kp.json', 'dataset/a038_kp/S013C003P016R002A038_rgb_kp.json', 'dataset/a038_kp/S008C001P031R002A038_rgb_kp.json', 'dataset/a038_kp/S003C003P016R001A038_rgb_kp.json', 'dataset/a038_kp/S013C003P007R001A038_rgb_kp.json', 'dataset/a038_kp/S007C001P016R002A038_rgb_kp.json', 'dataset/a038_kp/S008C003P035R001A038_rgb_kp.json', 'dataset/a038_kp/S010C003P018R002A038_rgb_kp.json', 'dataset/a038_kp/S010C001P018R001A038_rgb_kp.json', 'dataset/a038_kp/S009C001P019R002A038_rgb_kp.json', 'dataset/a038_kp/S016C001P040R001A038_rgb_kp.json', 'dataset/a038_kp/S003C002P002R002A038_rgb_kp.json', 'dataset/a038_kp/S010C002P018R002A038_rgb_kp.json', 'dataset/a038_kp/S002C001P009R002A038_rgb_kp.json', 'dataset/a038_kp/S010C003P015R002A038_rgb_kp.json', 'dataset/a038_kp/S007C003P026R002A038_rgb_kp.json', 'dataset/a038_kp/S013C002P017R001A038_rgb_kp.json', 'dataset/a038_kp/S005C002P018R001A038_rgb_kp.json', 'dataset/a038_kp/S005C002P016R002A038_rgb_kp.json', 'dataset/a038_kp/S009C002P016R002A038_rgb_kp.json', 'dataset/a038_kp/S006C001P001R002A038_rgb_kp.json', 'dataset/a038_kp/S006C002P015R002A038_rgb_kp.json', 'dataset/a038_kp/S013C003P028R001A038_rgb_kp.json', 'dataset/a038_kp/S006C002P016R002A038_rgb_kp.json', 'dataset/a038_kp/S009C001P016R002A038_rgb_kp.json', 'dataset/a038_kp/S003C003P008R001A038_rgb_kp.json', 'dataset/a038_kp/S008C001P030R002A038_rgb_kp.json', 'dataset/a038_kp/S016C002P040R002A038_rgb_kp.json', 'dataset/a038_kp/S001C002P001R001A038_rgb_kp.json', 'dataset/a038_kp/S008C002P007R001A038_rgb_kp.json', 'dataset/a038_kp/S012C002P007R002A038_rgb_kp.json', 'dataset/a038_kp/S014C002P027R001A038_rgb_kp.json', 'dataset/a038_kp/S016C002P008R001A038_rgb_kp.json', 'dataset/a038_kp/S002C001P009R001A038_rgb_kp.json', 'dataset/a038_kp/S007C003P025R002A038_rgb_kp.json', 'dataset/a038_kp/S010C003P013R002A038_rgb_kp.json', 'dataset/a038_kp/S002C001P011R002A038_rgb_kp.json', 'dataset/a038_kp/S009C003P017R002A038_rgb_kp.json', 'dataset/a038_kp/S011C001P015R002A038_rgb_kp.json', 'dataset/a038_kp/S003C001P015R002A038_rgb_kp.json', 'dataset/a038_kp/S012C003P016R002A038_rgb_kp.json', 'dataset/a038_kp/S011C001P019R002A038_rgb_kp.json', 'dataset/a038_kp/S012C003P008R002A038_rgb_kp.json', 'dataset/a038_kp/S014C003P017R001A038_rgb_kp.json', 'dataset/a038_kp/S004C002P008R002A038_rgb_kp.json', 'dataset/a038_kp/S013C003P025R001A038_rgb_kp.json', 'dataset/a038_kp/S016C003P039R002A038_rgb_kp.json', 'dataset/a038_kp/S012C003P018R002A038_rgb_kp.json', 'dataset/a038_kp/S014C003P025R001A038_rgb_kp.json', 'dataset/a038_kp/S007C001P028R002A038_rgb_kp.json', 'dataset/a038_kp/S011C001P001R001A038_rgb_kp.json', 'dataset/a038_kp/S002C001P012R002A038_rgb_kp.json', 'dataset/a038_kp/S006C001P024R001A038_rgb_kp.json', 'dataset/a038_kp/S007C001P016R001A038_rgb_kp.json', 'dataset/a038_kp/S017C001P015R002A038_rgb_kp.json', 'dataset/a038_kp/S015C002P017R002A038_rgb_kp.json', 'dataset/a038_kp/S003C001P016R001A038_rgb_kp.json', 'dataset/a038_kp/S005C002P004R001A038_rgb_kp.json', 'dataset/a038_kp/S008C002P001R001A038_rgb_kp.json', 'dataset/a038_kp/S017C002P015R002A038_rgb_kp.json', 'dataset/a038_kp/S017C001P003R001A038_rgb_kp.json', 'dataset/a038_kp/S001C003P005R002A038_rgb_kp.json', 'dataset/a038_kp/S017C001P020R002A038_rgb_kp.json', 'dataset/a038_kp/S008C003P025R001A038_rgb_kp.json', 'dataset/a038_kp/S008C003P036R002A038_rgb_kp.json', 'dataset/a038_kp/S009C001P008R001A038_rgb_kp.json', 'dataset/a038_kp/S011C002P016R002A038_rgb_kp.json', 'dataset/a038_kp/S005C003P010R002A038_rgb_kp.json', 'dataset/a038_kp/S003C003P002R001A038_rgb_kp.json', 'dataset/a038_kp/S013C002P025R002A038_rgb_kp.json', 'dataset/a038_kp/S006C003P024R001A038_rgb_kp.json', 'dataset/a038_kp/S017C002P009R001A038_rgb_kp.json', 'dataset/a038_kp/S007C001P017R002A038_rgb_kp.json', 'dataset/a038_kp/S016C003P021R002A038_rgb_kp.json', 'dataset/a038_kp/S006C003P019R002A038_rgb_kp.json', 'dataset/a038_kp/S014C002P007R002A038_rgb_kp.json', 'dataset/a038_kp/S007C002P001R002A038_rgb_kp.json', 'dataset/a038_kp/S010C002P007R002A038_rgb_kp.json', 'dataset/a025_kp/S001C003P004R001A025_rgb_kp.json', 'dataset/a025_kp/S016C003P039R002A025_rgb_kp.json', 'dataset/a025_kp/S002C003P013R001A025_rgb_kp.json', 'dataset/a025_kp/S006C002P016R002A025_rgb_kp.json', 'dataset/a025_kp/S012C003P027R001A025_rgb_kp.json', 'dataset/a025_kp/S003C003P019R001A025_rgb_kp.json', 'dataset/a025_kp/S017C003P016R001A025_rgb_kp.json', 'dataset/a025_kp/S010C001P016R002A025_rgb_kp.json', 'dataset/a025_kp/S005C001P013R002A025_rgb_kp.json', 'dataset/a025_kp/S015C002P008R001A025_rgb_kp.json', 'dataset/a025_kp/S008C002P036R001A025_rgb_kp.json', 'dataset/a025_kp/S002C001P009R002A025_rgb_kp.json', 'dataset/a025_kp/S003C002P001R001A025_rgb_kp.json', 'dataset/a025_kp/S016C003P019R001A025_rgb_kp.json', 'dataset/a025_kp/S008C002P008R002A025_rgb_kp.json', 'dataset/a025_kp/S007C003P008R001A025_rgb_kp.json', 'dataset/a025_kp/S007C002P027R001A025_rgb_kp.json', 'dataset/a025_kp/S006C003P023R001A025_rgb_kp.json', 'dataset/a025_kp/S003C001P007R002A025_rgb_kp.json', 'dataset/a025_kp/S011C001P008R002A025_rgb_kp.json', 'dataset/a025_kp/S015C002P007R002A025_rgb_kp.json', 'dataset/a025_kp/S006C001P016R001A025_rgb_kp.json', 'dataset/a025_kp/S012C002P017R002A025_rgb_kp.json', 'dataset/a025_kp/S016C002P019R001A025_rgb_kp.json', 'dataset/a025_kp/S011C001P018R002A025_rgb_kp.json', 'dataset/a025_kp/S007C001P028R002A025_rgb_kp.json', 'dataset/a025_kp/S010C001P015R002A025_rgb_kp.json', 'dataset/a025_kp/S011C003P008R001A025_rgb_kp.json', 'dataset/a025_kp/S002C002P011R002A025_rgb_kp.json', 'dataset/a025_kp/S015C003P016R002A025_rgb_kp.json', 'dataset/a025_kp/S001C002P001R001A025_rgb_kp.json', 'dataset/a025_kp/S016C001P019R001A025_rgb_kp.json', 'dataset/a025_kp/S013C001P037R001A025_rgb_kp.json', 'dataset/a025_kp/S015C002P015R001A025_rgb_kp.json', 'dataset/a025_kp/S008C003P033R002A025_rgb_kp.json', 'dataset/a025_kp/S017C002P003R001A025_rgb_kp.json', 'dataset/a025_kp/S009C001P016R001A025_rgb_kp.json', 'dataset/a025_kp/S005C002P010R002A025_rgb_kp.json', 'dataset/a025_kp/S009C001P017R001A025_rgb_kp.json', 'dataset/a025_kp/S011C003P019R002A025_rgb_kp.json', 'dataset/a025_kp/S006C001P015R001A025_rgb_kp.json', 'dataset/a025_kp/S010C001P019R001A025_rgb_kp.json', 'dataset/a025_kp/S017C002P008R001A025_rgb_kp.json', 'dataset/a025_kp/S001C001P003R001A025_rgb_kp.json', 'dataset/a025_kp/S007C001P019R002A025_rgb_kp.json', 'dataset/a025_kp/S007C002P025R002A025_rgb_kp.json', 'dataset/a025_kp/S010C002P008R001A025_rgb_kp.json', 'dataset/a025_kp/S003C001P019R001A025_rgb_kp.json', 'dataset/a025_kp/S006C003P007R002A025_rgb_kp.json', 'dataset/a025_kp/S014C001P025R001A025_rgb_kp.json', 'dataset/a025_kp/S015C002P037R002A025_rgb_kp.json', 'dataset/a025_kp/S002C002P014R002A025_rgb_kp.json', 'dataset/a025_kp/S014C001P015R001A025_rgb_kp.json', 'dataset/a025_kp/S009C001P016R002A025_rgb_kp.json', 'dataset/a025_kp/S006C001P023R001A025_rgb_kp.json', 'dataset/a025_kp/S006C001P008R002A025_rgb_kp.json', 'dataset/a025_kp/S013C003P008R002A025_rgb_kp.json', 'dataset/a025_kp/S008C003P007R001A025_rgb_kp.json', 'dataset/a025_kp/S015C002P025R001A025_rgb_kp.json', 'dataset/a025_kp/S004C003P003R001A025_rgb_kp.json', 'dataset/a025_kp/S003C003P017R002A025_rgb_kp.json', 'dataset/a025_kp/S010C002P016R002A025_rgb_kp.json', 'dataset/a025_kp/S007C003P026R002A025_rgb_kp.json', 'dataset/a025_kp/S003C003P018R002A025_rgb_kp.json', 'dataset/a025_kp/S015C001P025R001A025_rgb_kp.json', 'dataset/a025_kp/S003C003P007R002A025_rgb_kp.json', 'dataset/a025_kp/S002C002P010R001A025_rgb_kp.json', 'dataset/a025_kp/S005C003P010R002A025_rgb_kp.json', 'dataset/a025_kp/S013C003P025R002A025_rgb_kp.json', 'dataset/a025_kp/S013C003P007R002A025_rgb_kp.json', 'dataset/a025_kp/S007C001P028R001A025_rgb_kp.json', 'dataset/a025_kp/S013C002P015R001A025_rgb_kp.json', 'dataset/a025_kp/S012C003P025R001A025_rgb_kp.json', 'dataset/a025_kp/S016C003P008R002A025_rgb_kp.json', 'dataset/a025_kp/S017C003P009R002A025_rgb_kp.json', 'dataset/a025_kp/S010C002P015R001A025_rgb_kp.json', 'dataset/a025_kp/S005C001P015R002A025_rgb_kp.json', 'dataset/a025_kp/S013C003P028R002A025_rgb_kp.json', 'dataset/a025_kp/S007C002P008R002A025_rgb_kp.json', 'dataset/a025_kp/S008C002P035R001A025_rgb_kp.json', 'dataset/a025_kp/S003C002P007R002A025_rgb_kp.json', 'dataset/a025_kp/S013C002P019R002A025_rgb_kp.json', 'dataset/a025_kp/S015C001P008R001A025_rgb_kp.json', 'dataset/a025_kp/S002C003P007R001A025_rgb_kp.json', 'dataset/a025_kp/S007C003P025R002A025_rgb_kp.json', 'dataset/a025_kp/S015C003P016R001A025_rgb_kp.json', 'dataset/a025_kp/S017C002P003R002A025_rgb_kp.json', 'dataset/a025_kp/S003C003P015R001A025_rgb_kp.json', 'dataset/a025_kp/S005C002P018R002A025_rgb_kp.json', 'dataset/a025_kp/S012C001P025R002A025_rgb_kp.json', 'dataset/a025_kp/S006C002P024R002A025_rgb_kp.json', 'dataset/a025_kp/S007C002P017R002A025_rgb_kp.json', 'dataset/a025_kp/S008C002P007R001A025_rgb_kp.json', 'dataset/a025_kp/S014C002P017R002A025_rgb_kp.json', 'dataset/a025_kp/S012C002P027R002A025_rgb_kp.json', 'dataset/a025_kp/S012C003P008R002A025_rgb_kp.json', 'dataset/a025_kp/S011C002P001R001A025_rgb_kp.json', 'dataset/a025_kp/S016C002P021R001A025_rgb_kp.json', 'dataset/a025_kp/S017C002P016R001A025_rgb_kp.json', 'dataset/a025_kp/S002C001P012R001A025_rgb_kp.json', 'dataset/a031_kp/S004C002P003R001A031_rgb_kp.json', 'dataset/a031_kp/S009C003P025R002A031_rgb_kp.json', 'dataset/a031_kp/S007C003P028R001A031_rgb_kp.json', 'dataset/a031_kp/S006C001P024R002A031_rgb_kp.json', 'dataset/a031_kp/S015C002P008R001A031_rgb_kp.json', 'dataset/a031_kp/S010C001P021R002A031_rgb_kp.json', 'dataset/a031_kp/S015C003P015R001A031_rgb_kp.json', 'dataset/a031_kp/S017C001P009R002A031_rgb_kp.json', 'dataset/a031_kp/S013C001P017R002A031_rgb_kp.json', 'dataset/a031_kp/S011C003P001R002A031_rgb_kp.json', 'dataset/a031_kp/S012C001P025R001A031_rgb_kp.json', 'dataset/a031_kp/S003C003P017R002A031_rgb_kp.json', 'dataset/a031_kp/S003C003P007R001A031_rgb_kp.json', 'dataset/a031_kp/S004C003P007R001A031_rgb_kp.json', 'dataset/a031_kp/S008C002P015R001A031_rgb_kp.json', 'dataset/a031_kp/S010C003P007R002A031_rgb_kp.json', 'dataset/a031_kp/S016C001P025R002A031_rgb_kp.json', 'dataset/a031_kp/S003C003P015R002A031_rgb_kp.json', 'dataset/a031_kp/S011C001P025R001A031_rgb_kp.json', 'dataset/a031_kp/S013C003P015R001A031_rgb_kp.json', 'dataset/a031_kp/S007C001P028R002A031_rgb_kp.json', 'dataset/a031_kp/S005C002P016R001A031_rgb_kp.json', 'dataset/a031_kp/S017C003P017R002A031_rgb_kp.json', 'dataset/a031_kp/S011C003P002R002A031_rgb_kp.json', 'dataset/a031_kp/S003C001P018R001A031_rgb_kp.json', 'dataset/a031_kp/S004C002P008R001A031_rgb_kp.json', 'dataset/a031_kp/S013C003P028R002A031_rgb_kp.json', 'dataset/a031_kp/S014C002P037R001A031_rgb_kp.json', 'dataset/a031_kp/S011C001P038R001A031_rgb_kp.json', 'dataset/a031_kp/S011C003P018R002A031_rgb_kp.json', 'dataset/a031_kp/S009C002P019R002A031_rgb_kp.json', 'dataset/a031_kp/S010C001P018R001A031_rgb_kp.json', 'dataset/a031_kp/S007C002P027R002A031_rgb_kp.json', 'dataset/a031_kp/S010C001P008R002A031_rgb_kp.json', 'dataset/a031_kp/S007C002P025R001A031_rgb_kp.json', 'dataset/a031_kp/S001C002P005R002A031_rgb_kp.json', 'dataset/a031_kp/S015C002P016R001A031_rgb_kp.json', 'dataset/a031_kp/S002C001P008R002A031_rgb_kp.json', 'dataset/a031_kp/S010C003P025R002A031_rgb_kp.json', 'dataset/a031_kp/S005C002P013R001A031_rgb_kp.json', 'dataset/a031_kp/S014C001P027R002A031_rgb_kp.json', 'dataset/a031_kp/S003C003P016R001A031_rgb_kp.json', 'dataset/a031_kp/S015C003P017R002A031_rgb_kp.json', 'dataset/a031_kp/S015C003P008R001A031_rgb_kp.json', 'dataset/a031_kp/S011C001P008R002A031_rgb_kp.json', 'dataset/a031_kp/S003C003P001R001A031_rgb_kp.json', 'dataset/a031_kp/S008C003P001R002A031_rgb_kp.json', 'dataset/a031_kp/S006C002P008R001A031_rgb_kp.json', 'dataset/a031_kp/S010C003P019R002A031_rgb_kp.json', 'dataset/a031_kp/S010C002P021R002A031_rgb_kp.json', 'dataset/a031_kp/S013C002P027R001A031_rgb_kp.json', 'dataset/a031_kp/S010C001P017R001A031_rgb_kp.json', 'dataset/a031_kp/S015C001P007R001A031_rgb_kp.json', 'dataset/a031_kp/S017C002P003R002A031_rgb_kp.json', 'dataset/a031_kp/S008C001P015R002A031_rgb_kp.json', 'dataset/a031_kp/S015C003P037R001A031_rgb_kp.json', 'dataset/a031_kp/S011C002P025R001A031_rgb_kp.json', 'dataset/a031_kp/S013C003P025R002A031_rgb_kp.json', 'dataset/a031_kp/S006C003P008R002A031_rgb_kp.json', 'dataset/a031_kp/S010C002P008R002A031_rgb_kp.json', 'dataset/a031_kp/S011C003P018R001A031_rgb_kp.json', 'dataset/a031_kp/S003C001P019R002A031_rgb_kp.json', 'dataset/a031_kp/S008C001P034R002A031_rgb_kp.json', 'dataset/a031_kp/S009C003P008R002A031_rgb_kp.json', 'dataset/a031_kp/S010C002P018R001A031_rgb_kp.json', 'dataset/a031_kp/S012C003P007R001A031_rgb_kp.json', 'dataset/a031_kp/S014C002P007R001A031_rgb_kp.json', 'dataset/a031_kp/S003C002P016R002A031_rgb_kp.json', 'dataset/a031_kp/S012C003P017R001A031_rgb_kp.json', 'dataset/a031_kp/S011C001P027R002A031_rgb_kp.json', 'dataset/a031_kp/S007C002P016R001A031_rgb_kp.json', 'dataset/a031_kp/S001C003P005R001A031_rgb_kp.json', 'dataset/a031_kp/S008C003P007R002A031_rgb_kp.json', 'dataset/a031_kp/S007C003P019R001A031_rgb_kp.json', 'dataset/a031_kp/S011C001P002R002A031_rgb_kp.json', 'dataset/a031_kp/S004C001P003R002A031_rgb_kp.json', 'dataset/a031_kp/S003C001P008R001A031_rgb_kp.json', 'dataset/a031_kp/S011C002P016R002A031_rgb_kp.json', 'dataset/a031_kp/S009C002P007R001A031_rgb_kp.json', 'dataset/a031_kp/S008C003P029R002A031_rgb_kp.json', 'dataset/a031_kp/S005C003P015R002A031_rgb_kp.json', 'dataset/a031_kp/S013C003P007R002A031_rgb_kp.json', 'dataset/a031_kp/S003C001P017R001A031_rgb_kp.json', 'dataset/a031_kp/S016C003P007R002A031_rgb_kp.json', 'dataset/a031_kp/S006C002P024R002A031_rgb_kp.json', 'dataset/a031_kp/S014C003P017R002A031_rgb_kp.json', 'dataset/a031_kp/S013C002P037R001A031_rgb_kp.json', 'dataset/a031_kp/S003C002P017R001A031_rgb_kp.json', 'dataset/a031_kp/S006C001P017R001A031_rgb_kp.json', 'dataset/a031_kp/S016C003P019R002A031_rgb_kp.json', 'dataset/a031_kp/S005C003P017R002A031_rgb_kp.json', 'dataset/a031_kp/S007C002P008R002A031_rgb_kp.json', 'dataset/a031_kp/S002C002P012R002A031_rgb_kp.json', 'dataset/a031_kp/S001C002P005R001A031_rgb_kp.json', 'dataset/a031_kp/S008C001P025R001A031_rgb_kp.json', 'dataset/a031_kp/S017C001P003R002A031_rgb_kp.json', 'dataset/a031_kp/S013C003P019R001A031_rgb_kp.json', 'dataset/a031_kp/S005C003P021R002A031_rgb_kp.json', 'dataset/a031_kp/S015C001P017R001A031_rgb_kp.json', 'dataset/a031_kp/S006C003P024R002A031_rgb_kp.json', 'dataset/a084_kp/S022C003P063R002A084_rgb_kp.json', 'dataset/a084_kp/S026C001P051R001A084_rgb_kp.json', 'dataset/a084_kp/S019C001P008R001A084_rgb_kp.json', 'dataset/a084_kp/S020C002P052R001A084_rgb_kp.json', 'dataset/a084_kp/S032C002P103R002A084_rgb_kp.json', 'dataset/a084_kp/S021C001P055R002A084_rgb_kp.json', 'dataset/a084_kp/S030C002P067R001A084_rgb_kp.json', 'dataset/a084_kp/S025C002P065R001A084_rgb_kp.json', 'dataset/a084_kp/S020C001P052R002A084_rgb_kp.json', 'dataset/a084_kp/S031C003P051R002A084_rgb_kp.json', 'dataset/a084_kp/S027C003P083R002A084_rgb_kp.json', 'dataset/a084_kp/S019C003P046R001A084_rgb_kp.json', 'dataset/a084_kp/S023C001P067R001A084_rgb_kp.json', 'dataset/a084_kp/S021C001P057R001A084_rgb_kp.json', 'dataset/a084_kp/S018C001P043R001A084_rgb_kp.json', 'dataset/a084_kp/S029C002P075R002A084_rgb_kp.json', 'dataset/a084_kp/S024C003P064R002A084_rgb_kp.json', 'dataset/a084_kp/S020C002P054R002A084_rgb_kp.json', 'dataset/a084_kp/S029C001P051R002A084_rgb_kp.json', 'dataset/a084_kp/S030C001P091R002A084_rgb_kp.json', 'dataset/a084_kp/S024C003P061R002A084_rgb_kp.json', 'dataset/a084_kp/S028C003P041R002A084_rgb_kp.json', 'dataset/a084_kp/S027C002P080R001A084_rgb_kp.json', 'dataset/a084_kp/S024C002P064R002A084_rgb_kp.json', 'dataset/a084_kp/S029C002P044R001A084_rgb_kp.json', 'dataset/a084_kp/S024C002P067R002A084_rgb_kp.json', 'dataset/a084_kp/S027C003P084R002A084_rgb_kp.json', 'dataset/a084_kp/S028C003P042R002A084_rgb_kp.json', 'dataset/a084_kp/S030C003P085R001A084_rgb_kp.json', 'dataset/a084_kp/S023C003P059R002A084_rgb_kp.json', 'dataset/a084_kp/S022C003P062R002A084_rgb_kp.json', 'dataset/a084_kp/S027C001P041R002A084_rgb_kp.json', 'dataset/a084_kp/S027C002P043R002A084_rgb_kp.json', 'dataset/a084_kp/S019C002P041R002A084_rgb_kp.json', 'dataset/a084_kp/S021C001P055R001A084_rgb_kp.json', 'dataset/a084_kp/S030C003P096R001A084_rgb_kp.json', 'dataset/a084_kp/S030C002P008R001A084_rgb_kp.json', 'dataset/a084_kp/S020C002P054R001A084_rgb_kp.json', 'dataset/a084_kp/S029C001P043R001A084_rgb_kp.json', 'dataset/a084_kp/S019C001P046R001A084_rgb_kp.json', 'dataset/a084_kp/S019C001P041R002A084_rgb_kp.json', 'dataset/a084_kp/S030C001P043R001A084_rgb_kp.json', 'dataset/a084_kp/S024C003P064R001A084_rgb_kp.json', 'dataset/a084_kp/S025C002P059R001A084_rgb_kp.json', 'dataset/a084_kp/S027C001P086R001A084_rgb_kp.json', 'dataset/a084_kp/S032C001P067R001A084_rgb_kp.json', 'dataset/a084_kp/S024C001P061R002A084_rgb_kp.json', 'dataset/a084_kp/S026C001P049R002A084_rgb_kp.json', 'dataset/a084_kp/S019C002P046R001A084_rgb_kp.json', 'dataset/a084_kp/S028C001P042R002A084_rgb_kp.json', 'dataset/a084_kp/S032C002P104R001A084_rgb_kp.json', 'dataset/a084_kp/S026C002P051R002A084_rgb_kp.json', 'dataset/a084_kp/S030C003P044R001A084_rgb_kp.json', 'dataset/a084_kp/S018C002P008R002A084_rgb_kp.json', 'dataset/a084_kp/S019C003P041R001A084_rgb_kp.json', 'dataset/a084_kp/S030C001P011R001A084_rgb_kp.json', 'dataset/a084_kp/S032C002P105R001A084_rgb_kp.json', 'dataset/a084_kp/S029C002P074R001A084_rgb_kp.json', 'dataset/a084_kp/S023C001P061R002A084_rgb_kp.json', 'dataset/a084_kp/S023C001P059R002A084_rgb_kp.json', 'dataset/a084_kp/S029C001P044R001A084_rgb_kp.json', 'dataset/a084_kp/S023C002P058R001A084_rgb_kp.json', 'dataset/a084_kp/S026C003P049R001A084_rgb_kp.json', 'dataset/a084_kp/S020C003P052R001A084_rgb_kp.json', 'dataset/a084_kp/S022C001P064R001A084_rgb_kp.json', 'dataset/a084_kp/S030C001P095R002A084_rgb_kp.json', 'dataset/a084_kp/S018C002P041R002A084_rgb_kp.json', 'dataset/a084_kp/S030C001P008R002A084_rgb_kp.json', 'dataset/a084_kp/S030C001P092R001A084_rgb_kp.json', 'dataset/a084_kp/S031C003P043R002A084_rgb_kp.json', 'dataset/a084_kp/S026C003P069R001A084_rgb_kp.json', 'dataset/a084_kp/S019C002P051R001A084_rgb_kp.json', 'dataset/a084_kp/S027C003P044R001A084_rgb_kp.json', 'dataset/a084_kp/S032C001P043R001A084_rgb_kp.json', 'dataset/a084_kp/S029C002P080R002A084_rgb_kp.json', 'dataset/a084_kp/S023C001P066R002A084_rgb_kp.json', 'dataset/a084_kp/S031C001P044R001A084_rgb_kp.json', 'dataset/a084_kp/S032C002P106R002A084_rgb_kp.json', 'dataset/a084_kp/S030C003P093R002A084_rgb_kp.json', 'dataset/a084_kp/S029C001P043R002A084_rgb_kp.json', 'dataset/a084_kp/S020C002P008R001A084_rgb_kp.json', 'dataset/a084_kp/S030C001P075R002A084_rgb_kp.json', 'dataset/a084_kp/S030C003P092R001A084_rgb_kp.json', 'dataset/a084_kp/S027C001P078R002A084_rgb_kp.json', 'dataset/a084_kp/S020C002P044R002A084_rgb_kp.json', 'dataset/a084_kp/S030C002P081R002A084_rgb_kp.json', 'dataset/a084_kp/S026C003P074R001A084_rgb_kp.json', 'dataset/a084_kp/S029C002P049R001A084_rgb_kp.json', 'dataset/a084_kp/S020C001P053R001A084_rgb_kp.json', 'dataset/a084_kp/S023C003P060R002A084_rgb_kp.json', 'dataset/a084_kp/S028C003P087R001A084_rgb_kp.json', 'dataset/a084_kp/S018C001P043R002A084_rgb_kp.json', 'dataset/a084_kp/S032C003P105R002A084_rgb_kp.json', 'dataset/a084_kp/S026C001P075R002A084_rgb_kp.json', 'dataset/a084_kp/S026C001P072R002A084_rgb_kp.json', 'dataset/a084_kp/S023C001P060R001A084_rgb_kp.json', 'dataset/a084_kp/S031C003P042R002A084_rgb_kp.json', 'dataset/a084_kp/S031C001P096R002A084_rgb_kp.json', 'dataset/a084_kp/S032C001P106R002A084_rgb_kp.json', 'dataset/a084_kp/S032C001P067R002A084_rgb_kp.json', 'dataset/a105_kp/S027C003P011R001A105_rgb_kp.json', 'dataset/a105_kp/S022C002P064R002A105_rgb_kp.json', 'dataset/a105_kp/S021C003P056R002A105_rgb_kp.json', 'dataset/a105_kp/S029C003P075R001A105_rgb_kp.json', 'dataset/a105_kp/S026C001P070R002A105_rgb_kp.json', 'dataset/a105_kp/S027C001P083R002A105_rgb_kp.json', 'dataset/a105_kp/S024C002P057R002A105_rgb_kp.json', 'dataset/a105_kp/S024C003P064R001A105_rgb_kp.json', 'dataset/a105_kp/S029C003P006R001A105_rgb_kp.json', 'dataset/a105_kp/S022C002P062R002A105_rgb_kp.json', 'dataset/a105_kp/S019C003P046R001A105_rgb_kp.json', 'dataset/a105_kp/S028C002P070R001A105_rgb_kp.json', 'dataset/a105_kp/S022C003P061R002A105_rgb_kp.json', 'dataset/a105_kp/S027C003P041R002A105_rgb_kp.json', 'dataset/a105_kp/S029C002P051R002A105_rgb_kp.json', 'dataset/a105_kp/S025C001P065R002A105_rgb_kp.json', 'dataset/a105_kp/S031C001P044R001A105_rgb_kp.json', 'dataset/a105_kp/S032C001P102R001A105_rgb_kp.json', 'dataset/a105_kp/S027C002P011R001A105_rgb_kp.json', 'dataset/a105_kp/S026C002P008R001A105_rgb_kp.json', 'dataset/a105_kp/S029C003P049R001A105_rgb_kp.json', 'dataset/a105_kp/S030C003P092R002A105_rgb_kp.json', 'dataset/a105_kp/S029C002P041R002A105_rgb_kp.json', 'dataset/a105_kp/S029C003P041R001A105_rgb_kp.json', 'dataset/a105_kp/S026C002P076R002A105_rgb_kp.json', 'dataset/a105_kp/S031C003P042R001A105_rgb_kp.json', 'dataset/a105_kp/S025C002P059R002A105_rgb_kp.json', 'dataset/a105_kp/S021C001P055R002A105_rgb_kp.json', 'dataset/a105_kp/S025C002P058R001A105_rgb_kp.json', 'dataset/a105_kp/S026C002P050R002A105_rgb_kp.json', 'dataset/a105_kp/S026C002P050R001A105_rgb_kp.json', 'dataset/a105_kp/S027C003P008R001A105_rgb_kp.json', 'dataset/a105_kp/S029C001P049R002A105_rgb_kp.json', 'dataset/a105_kp/S019C003P050R002A105_rgb_kp.json', 'dataset/a105_kp/S028C001P087R001A105_rgb_kp.json', 'dataset/a105_kp/S030C003P044R002A105_rgb_kp.json', 'dataset/a105_kp/S029C001P008R002A105_rgb_kp.json', 'dataset/a105_kp/S023C001P063R002A105_rgb_kp.json', 'dataset/a105_kp/S024C002P060R002A105_rgb_kp.json', 'dataset/a105_kp/S028C003P008R001A105_rgb_kp.json', 'dataset/a105_kp/S023C003P059R002A105_rgb_kp.json', 'dataset/a105_kp/S026C003P041R001A105_rgb_kp.json', 'dataset/a105_kp/S022C003P061R001A105_rgb_kp.json', 'dataset/a105_kp/S028C001P048R001A105_rgb_kp.json', 'dataset/a105_kp/S024C003P061R002A105_rgb_kp.json', 'dataset/a105_kp/S024C001P063R002A105_rgb_kp.json', 'dataset/a105_kp/S027C003P082R002A105_rgb_kp.json', 'dataset/a105_kp/S032C002P103R002A105_rgb_kp.json', 'dataset/a105_kp/S027C002P041R002A105_rgb_kp.json', 'dataset/a105_kp/S029C001P088R001A105_rgb_kp.json', 'dataset/a105_kp/S020C003P052R001A105_rgb_kp.json', 'dataset/a105_kp/S024C003P062R002A105_rgb_kp.json', 'dataset/a105_kp/S025C002P065R001A105_rgb_kp.json', 'dataset/a105_kp/S022C002P066R002A105_rgb_kp.json', 'dataset/a105_kp/S031C003P085R002A105_rgb_kp.json', 'dataset/a105_kp/S020C003P008R001A105_rgb_kp.json', 'dataset/a105_kp/S025C002P066R001A105_rgb_kp.json', 'dataset/a105_kp/S026C001P071R002A105_rgb_kp.json', 'dataset/a105_kp/S019C003P008R002A105_rgb_kp.json', 'dataset/a105_kp/S020C002P044R002A105_rgb_kp.json', 'dataset/a105_kp/S027C003P011R002A105_rgb_kp.json', 'dataset/a105_kp/S031C002P044R002A105_rgb_kp.json', 'dataset/a105_kp/S028C001P008R002A105_rgb_kp.json', 'dataset/a105_kp/S019C002P051R002A105_rgb_kp.json', 'dataset/a105_kp/S031C003P041R002A105_rgb_kp.json', 'dataset/a105_kp/S030C001P043R002A105_rgb_kp.json', 'dataset/a105_kp/S027C001P079R002A105_rgb_kp.json', 'dataset/a105_kp/S027C001P011R002A105_rgb_kp.json', 'dataset/a105_kp/S021C002P060R001A105_rgb_kp.json', 'dataset/a105_kp/S027C002P006R002A105_rgb_kp.json', 'dataset/a105_kp/S031C001P067R001A105_rgb_kp.json', 'dataset/a105_kp/S031C001P051R002A105_rgb_kp.json', 'dataset/a105_kp/S026C001P008R001A105_rgb_kp.json', 'dataset/a105_kp/S026C003P008R002A105_rgb_kp.json', 'dataset/a105_kp/S021C002P055R001A105_rgb_kp.json', 'dataset/a105_kp/S027C002P078R002A105_rgb_kp.json', 'dataset/a105_kp/S021C001P059R001A105_rgb_kp.json', 'dataset/a105_kp/S030C002P096R001A105_rgb_kp.json', 'dataset/a105_kp/S029C002P080R001A105_rgb_kp.json', 'dataset/a105_kp/S027C001P085R002A105_rgb_kp.json', 'dataset/a105_kp/S029C003P080R001A105_rgb_kp.json', 'dataset/a105_kp/S021C003P057R002A105_rgb_kp.json', 'dataset/a105_kp/S030C001P093R002A105_rgb_kp.json', 'dataset/a105_kp/S032C001P067R001A105_rgb_kp.json', 'dataset/a105_kp/S030C001P088R001A105_rgb_kp.json', 'dataset/a105_kp/S026C002P041R001A105_rgb_kp.json', 'dataset/a105_kp/S026C002P044R001A105_rgb_kp.json', 'dataset/a105_kp/S023C001P061R002A105_rgb_kp.json', 'dataset/a105_kp/S018C003P042R001A105_rgb_kp.json', 'dataset/a105_kp/S026C002P041R002A105_rgb_kp.json', 'dataset/a105_kp/S032C002P008R001A105_rgb_kp.json', 'dataset/a105_kp/S019C003P041R002A105_rgb_kp.json', 'dataset/a105_kp/S032C003P103R002A105_rgb_kp.json', 'dataset/a105_kp/S019C001P047R002A105_rgb_kp.json', 'dataset/a105_kp/S029C003P067R001A105_rgb_kp.json', 'dataset/a105_kp/S032C003P102R002A105_rgb_kp.json', 'dataset/a105_kp/S025C003P055R001A105_rgb_kp.json', 'dataset/a105_kp/S030C002P093R001A105_rgb_kp.json', 'dataset/a105_kp/S027C002P081R001A105_rgb_kp.json', 'dataset/a105_kp/S028C003P043R002A105_rgb_kp.json', 'dataset/a072_kp/S021C003P057R001A072_rgb_kp.json', 'dataset/a072_kp/S030C002P093R002A072_rgb_kp.json', 'dataset/a072_kp/S025C003P068R001A072_rgb_kp.json', 'dataset/a072_kp/S032C003P102R001A072_rgb_kp.json', 'dataset/a072_kp/S026C002P077R002A072_rgb_kp.json', 'dataset/a072_kp/S031C002P098R002A072_rgb_kp.json', 'dataset/a072_kp/S029C001P008R001A072_rgb_kp.json', 'dataset/a072_kp/S032C002P067R002A072_rgb_kp.json', 'dataset/a072_kp/S025C001P068R001A072_rgb_kp.json', 'dataset/a072_kp/S018C002P045R002A072_rgb_kp.json', 'dataset/a072_kp/S031C003P008R002A072_rgb_kp.json', 'dataset/a072_kp/S022C003P067R001A072_rgb_kp.json', 'dataset/a072_kp/S026C001P071R002A072_rgb_kp.json', 'dataset/a072_kp/S020C002P044R001A072_rgb_kp.json', 'dataset/a072_kp/S029C003P041R002A072_rgb_kp.json', 'dataset/a072_kp/S029C002P074R001A072_rgb_kp.json', 'dataset/a072_kp/S019C003P047R002A072_rgb_kp.json', 'dataset/a072_kp/S030C002P096R001A072_rgb_kp.json', 'dataset/a072_kp/S031C001P006R001A072_rgb_kp.json', 'dataset/a072_kp/S029C003P041R001A072_rgb_kp.json', 'dataset/a072_kp/S030C002P093R001A072_rgb_kp.json', 'dataset/a072_kp/S030C002P008R002A072_rgb_kp.json', 'dataset/a072_kp/S027C002P083R001A072_rgb_kp.json', 'dataset/a072_kp/S031C002P043R001A072_rgb_kp.json', 'dataset/a072_kp/S026C002P044R001A072_rgb_kp.json', 'dataset/a072_kp/S031C001P100R001A072_rgb_kp.json', 'dataset/a072_kp/S030C003P067R002A072_rgb_kp.json', 'dataset/a072_kp/S024C001P061R001A072_rgb_kp.json', 'dataset/a072_kp/S020C003P043R001A072_rgb_kp.json', 'dataset/a072_kp/S030C001P081R001A072_rgb_kp.json', 'dataset/a072_kp/S031C001P051R001A072_rgb_kp.json', 'dataset/a072_kp/S032C003P008R001A072_rgb_kp.json', 'dataset/a072_kp/S023C003P060R002A072_rgb_kp.json', 'dataset/a072_kp/S019C003P008R001A072_rgb_kp.json', 'dataset/a072_kp/S024C002P062R001A072_rgb_kp.json', 'dataset/a072_kp/S026C003P071R001A072_rgb_kp.json', 'dataset/a072_kp/S032C003P008R002A072_rgb_kp.json', 'dataset/a072_kp/S031C003P099R001A072_rgb_kp.json', 'dataset/a072_kp/S030C002P088R002A072_rgb_kp.json', 'dataset/a072_kp/S027C001P084R001A072_rgb_kp.json', 'dataset/a072_kp/S028C002P008R002A072_rgb_kp.json', 'dataset/a072_kp/S030C002P096R002A072_rgb_kp.json', 'dataset/a072_kp/S019C001P046R001A072_rgb_kp.json', 'dataset/a072_kp/S029C003P080R002A072_rgb_kp.json', 'dataset/a072_kp/S031C001P042R002A072_rgb_kp.json', 'dataset/a072_kp/S022C003P066R001A072_rgb_kp.json', 'dataset/a072_kp/S022C002P061R001A072_rgb_kp.json', 'dataset/a072_kp/S030C001P094R002A072_rgb_kp.json', 'dataset/a072_kp/S029C001P049R001A072_rgb_kp.json', 'dataset/a072_kp/S020C001P052R001A072_rgb_kp.json', 'dataset/a072_kp/S027C001P086R001A072_rgb_kp.json', 'dataset/a072_kp/S020C003P053R002A072_rgb_kp.json', 'dataset/a072_kp/S029C003P088R001A072_rgb_kp.json', 'dataset/a072_kp/S032C003P067R001A072_rgb_kp.json', 'dataset/a072_kp/S019C002P048R001A072_rgb_kp.json', 'dataset/a072_kp/S020C001P041R002A072_rgb_kp.json', 'dataset/a072_kp/S022C001P065R002A072_rgb_kp.json', 'dataset/a072_kp/S029C002P043R001A072_rgb_kp.json', 'dataset/a072_kp/S029C001P049R002A072_rgb_kp.json', 'dataset/a072_kp/S030C002P011R002A072_rgb_kp.json', 'dataset/a072_kp/S019C003P047R001A072_rgb_kp.json', 'dataset/a072_kp/S023C001P056R002A072_rgb_kp.json', 'dataset/a072_kp/S027C003P044R002A072_rgb_kp.json', 'dataset/a072_kp/S030C002P085R001A072_rgb_kp.json', 'dataset/a072_kp/S027C003P081R002A072_rgb_kp.json', 'dataset/a072_kp/S028C001P048R001A072_rgb_kp.json', 'dataset/a072_kp/S026C002P072R002A072_rgb_kp.json', 'dataset/a072_kp/S029C002P043R002A072_rgb_kp.json', 'dataset/a072_kp/S030C002P085R002A072_rgb_kp.json', 'dataset/a072_kp/S032C003P104R002A072_rgb_kp.json', 'dataset/a072_kp/S029C001P051R002A072_rgb_kp.json', 'dataset/a072_kp/S024C001P067R002A072_rgb_kp.json', 'dataset/a072_kp/S021C002P060R002A072_rgb_kp.json', 'dataset/a072_kp/S027C001P085R002A072_rgb_kp.json', 'dataset/a072_kp/S018C003P041R001A072_rgb_kp.json', 'dataset/a072_kp/S031C001P085R001A072_rgb_kp.json', 'dataset/a072_kp/S030C002P075R002A072_rgb_kp.json', 'dataset/a072_kp/S029C003P006R001A072_rgb_kp.json', 'dataset/a072_kp/S023C001P068R002A072_rgb_kp.json', 'dataset/a072_kp/S031C001P096R002A072_rgb_kp.json', 'dataset/a072_kp/S026C001P049R001A072_rgb_kp.json', 'dataset/a072_kp/S030C003P075R001A072_rgb_kp.json', 'dataset/a072_kp/S027C001P079R001A072_rgb_kp.json', 'dataset/a072_kp/S023C002P063R002A072_rgb_kp.json', 'dataset/a072_kp/S030C002P094R001A072_rgb_kp.json', 'dataset/a072_kp/S026C002P008R001A072_rgb_kp.json', 'dataset/a072_kp/S023C001P058R001A072_rgb_kp.json', 'dataset/a072_kp/S022C002P063R001A072_rgb_kp.json', 'dataset/a072_kp/S018C003P043R002A072_rgb_kp.json', 'dataset/a072_kp/S031C001P006R002A072_rgb_kp.json', 'dataset/a072_kp/S029C003P075R002A072_rgb_kp.json', 'dataset/a072_kp/S018C001P043R001A072_rgb_kp.json', 'dataset/a072_kp/S024C001P062R001A072_rgb_kp.json', 'dataset/a072_kp/S019C003P048R002A072_rgb_kp.json', 'dataset/a072_kp/S027C002P011R001A072_rgb_kp.json', 'dataset/a072_kp/S027C002P081R001A072_rgb_kp.json', 'dataset/a072_kp/S018C002P041R001A072_rgb_kp.json', 'dataset/a072_kp/S026C001P070R002A072_rgb_kp.json', 'dataset/a072_kp/S027C001P084R002A072_rgb_kp.json', 'dataset/a072_kp/S027C002P085R002A072_rgb_kp.json', 'dataset/a011_kp/S014C002P007R001A011_rgb_kp.json', 'dataset/a011_kp/S005C001P018R002A011_rgb_kp.json', 'dataset/a011_kp/S012C001P028R002A011_rgb_kp.json', 'dataset/a011_kp/S013C003P037R001A011_rgb_kp.json', 'dataset/a011_kp/S005C002P016R002A011_rgb_kp.json', 'dataset/a011_kp/S006C003P024R001A011_rgb_kp.json', 'dataset/a011_kp/S008C002P036R002A011_rgb_kp.json', 'dataset/a011_kp/S014C003P025R002A011_rgb_kp.json', 'dataset/a011_kp/S006C002P019R002A011_rgb_kp.json', 'dataset/a011_kp/S007C003P019R002A011_rgb_kp.json', 'dataset/a011_kp/S017C003P020R002A011_rgb_kp.json', 'dataset/a011_kp/S007C003P027R002A011_rgb_kp.json', 'dataset/a011_kp/S012C002P016R002A011_rgb_kp.json', 'dataset/a011_kp/S011C002P015R001A011_rgb_kp.json', 'dataset/a011_kp/S013C001P007R001A011_rgb_kp.json', 'dataset/a011_kp/S007C003P001R001A011_rgb_kp.json', 'dataset/a011_kp/S001C003P004R002A011_rgb_kp.json', 'dataset/a011_kp/S007C001P026R001A011_rgb_kp.json', 'dataset/a011_kp/S012C003P015R001A011_rgb_kp.json', 'dataset/a011_kp/S016C003P007R001A011_rgb_kp.json', 'dataset/a011_kp/S010C001P019R002A011_rgb_kp.json', 'dataset/a011_kp/S014C003P039R002A011_rgb_kp.json', 'dataset/a011_kp/S006C003P022R002A011_rgb_kp.json', 'dataset/a011_kp/S006C003P016R002A011_rgb_kp.json', 'dataset/a011_kp/S005C001P021R001A011_rgb_kp.json', 'dataset/a011_kp/S004C003P020R001A011_rgb_kp.json', 'dataset/a011_kp/S009C002P016R002A011_rgb_kp.json', 'dataset/a011_kp/S016C002P039R002A011_rgb_kp.json', 'dataset/a011_kp/S010C001P015R002A011_rgb_kp.json', 'dataset/a011_kp/S014C003P015R001A011_rgb_kp.json', 'dataset/a011_kp/S013C001P037R001A011_rgb_kp.json', 'dataset/a011_kp/S008C001P015R002A011_rgb_kp.json', 'dataset/a011_kp/S003C003P002R002A011_rgb_kp.json', 'dataset/a011_kp/S011C001P008R002A011_rgb_kp.json', 'dataset/a011_kp/S012C002P028R002A011_rgb_kp.json', 'dataset/a011_kp/S011C001P027R002A011_rgb_kp.json', 'dataset/a011_kp/S004C002P007R001A011_rgb_kp.json', 'dataset/a011_kp/S006C003P016R001A011_rgb_kp.json', 'dataset/a011_kp/S012C003P016R002A011_rgb_kp.json', 'dataset/a011_kp/S011C003P017R002A011_rgb_kp.json', 'dataset/a011_kp/S006C002P016R002A011_rgb_kp.json', 'dataset/a011_kp/S003C001P018R002A011_rgb_kp.json', 'dataset/a011_kp/S015C001P007R002A011_rgb_kp.json', 'dataset/a011_kp/S012C001P016R001A011_rgb_kp.json', 'dataset/a011_kp/S001C002P002R001A011_rgb_kp.json', 'dataset/a011_kp/S007C003P017R002A011_rgb_kp.json', 'dataset/a011_kp/S002C001P009R002A011_rgb_kp.json', 'dataset/a011_kp/S009C002P017R002A011_rgb_kp.json', 'dataset/a011_kp/S012C002P017R002A011_rgb_kp.json', 'dataset/a011_kp/S016C002P019R001A011_rgb_kp.json', 'dataset/a011_kp/S010C003P016R001A011_rgb_kp.json', 'dataset/a011_kp/S011C003P008R001A011_rgb_kp.json', 'dataset/a011_kp/S003C003P007R001A011_rgb_kp.json', 'dataset/a011_kp/S010C002P017R001A011_rgb_kp.json', 'dataset/a011_kp/S008C001P032R001A011_rgb_kp.json', 'dataset/a011_kp/S015C002P016R002A011_rgb_kp.json', 'dataset/a011_kp/S010C001P016R002A011_rgb_kp.json', 'dataset/a011_kp/S006C001P019R002A011_rgb_kp.json', 'dataset/a011_kp/S001C001P004R002A011_rgb_kp.json', 'dataset/a011_kp/S014C001P037R002A011_rgb_kp.json', 'dataset/a011_kp/S005C003P010R002A011_rgb_kp.json', 'dataset/a011_kp/S012C001P028R001A011_rgb_kp.json', 'dataset/a011_kp/S008C003P025R002A011_rgb_kp.json', 'dataset/a011_kp/S007C002P008R002A011_rgb_kp.json', 'dataset/a011_kp/S014C003P037R001A011_rgb_kp.json', 'dataset/a011_kp/S003C002P002R002A011_rgb_kp.json', 'dataset/a011_kp/S010C002P016R001A011_rgb_kp.json', 'dataset/a011_kp/S010C003P025R002A011_rgb_kp.json', 'dataset/a011_kp/S005C002P004R002A011_rgb_kp.json', 'dataset/a011_kp/S007C003P001R002A011_rgb_kp.json', 'dataset/a011_kp/S003C003P008R001A011_rgb_kp.json', 'dataset/a011_kp/S004C001P020R001A011_rgb_kp.json', 'dataset/a011_kp/S001C003P007R001A011_rgb_kp.json', 'dataset/a011_kp/S010C001P019R001A011_rgb_kp.json', 'dataset/a011_kp/S015C001P019R001A011_rgb_kp.json', 'dataset/a011_kp/S016C003P007R002A011_rgb_kp.json', 'dataset/a011_kp/S001C002P006R001A011_rgb_kp.json', 'dataset/a011_kp/S009C001P016R001A011_rgb_kp.json', 'dataset/a011_kp/S008C001P035R001A011_rgb_kp.json', 'dataset/a011_kp/S013C001P027R002A011_rgb_kp.json', 'dataset/a011_kp/S015C003P015R001A011_rgb_kp.json', 'dataset/a011_kp/S013C003P007R002A011_rgb_kp.json', 'dataset/a011_kp/S007C002P016R001A011_rgb_kp.json', 'dataset/a011_kp/S008C003P001R002A011_rgb_kp.json', 'dataset/a011_kp/S016C002P007R001A011_rgb_kp.json', 'dataset/a011_kp/S008C001P034R002A011_rgb_kp.json', 'dataset/a011_kp/S007C002P025R001A011_rgb_kp.json', 'dataset/a011_kp/S006C003P017R001A011_rgb_kp.json', 'dataset/a011_kp/S008C001P029R001A011_rgb_kp.json', 'dataset/a011_kp/S005C002P018R002A011_rgb_kp.json', 'dataset/a011_kp/S007C001P001R001A011_rgb_kp.json', 'dataset/a011_kp/S013C003P019R001A011_rgb_kp.json', 'dataset/a011_kp/S006C001P008R001A011_rgb_kp.json', 'dataset/a011_kp/S007C003P015R001A011_rgb_kp.json', 'dataset/a011_kp/S003C001P016R001A011_rgb_kp.json', 'dataset/a011_kp/S014C003P017R002A011_rgb_kp.json', 'dataset/a011_kp/S010C003P017R001A011_rgb_kp.json', 'dataset/a011_kp/S012C003P008R001A011_rgb_kp.json', 'dataset/a011_kp/S002C002P012R002A011_rgb_kp.json', 'dataset/a011_kp/S011C003P028R002A011_rgb_kp.json', 'dataset/a047_kp/S012C002P018R001A047_rgb_kp.json', 'dataset/a047_kp/S010C001P016R002A047_rgb_kp.json', 'dataset/a047_kp/S008C002P015R002A047_rgb_kp.json', 'dataset/a047_kp/S011C002P016R001A047_rgb_kp.json', 'dataset/a047_kp/S009C001P007R002A047_rgb_kp.json', 'dataset/a047_kp/S013C001P028R002A047_rgb_kp.json', 'dataset/a047_kp/S003C002P007R002A047_rgb_kp.json', 'dataset/a047_kp/S003C001P007R001A047_rgb_kp.json', 'dataset/a047_kp/S017C002P007R001A047_rgb_kp.json', 'dataset/a047_kp/S007C003P027R002A047_rgb_kp.json', 'dataset/a047_kp/S017C002P020R001A047_rgb_kp.json', 'dataset/a047_kp/S011C002P025R001A047_rgb_kp.json', 'dataset/a047_kp/S017C003P003R001A047_rgb_kp.json', 'dataset/a047_kp/S012C001P025R002A047_rgb_kp.json', 'dataset/a047_kp/S007C002P018R002A047_rgb_kp.json', 'dataset/a047_kp/S011C003P027R001A047_rgb_kp.json', 'dataset/a047_kp/S005C001P015R001A047_rgb_kp.json', 'dataset/a047_kp/S008C002P008R002A047_rgb_kp.json', 'dataset/a047_kp/S009C002P017R001A047_rgb_kp.json', 'dataset/a047_kp/S016C002P008R001A047_rgb_kp.json', 'dataset/a047_kp/S001C002P006R002A047_rgb_kp.json', 'dataset/a047_kp/S006C003P017R002A047_rgb_kp.json', 'dataset/a047_kp/S015C002P017R002A047_rgb_kp.json', 'dataset/a047_kp/S012C003P008R002A047_rgb_kp.json', 'dataset/a047_kp/S011C002P015R002A047_rgb_kp.json', 'dataset/a047_kp/S016C002P039R002A047_rgb_kp.json', 'dataset/a047_kp/S007C001P015R001A047_rgb_kp.json', 'dataset/a047_kp/S007C002P008R001A047_rgb_kp.json', 'dataset/a047_kp/S007C002P017R002A047_rgb_kp.json', 'dataset/a047_kp/S011C001P017R001A047_rgb_kp.json', 'dataset/a047_kp/S014C001P027R001A047_rgb_kp.json', 'dataset/a047_kp/S003C003P017R001A047_rgb_kp.json', 'dataset/a047_kp/S003C003P019R001A047_rgb_kp.json', 'dataset/a047_kp/S007C003P001R001A047_rgb_kp.json', 'dataset/a047_kp/S012C003P037R002A047_rgb_kp.json', 'dataset/a047_kp/S014C003P008R001A047_rgb_kp.json', 'dataset/a047_kp/S010C002P016R001A047_rgb_kp.json', 'dataset/a047_kp/S006C001P024R002A047_rgb_kp.json', 'dataset/a047_kp/S016C003P008R002A047_rgb_kp.json', 'dataset/a047_kp/S015C002P016R002A047_rgb_kp.json', 'dataset/a047_kp/S001C001P003R002A047_rgb_kp.json', 'dataset/a047_kp/S005C001P004R002A047_rgb_kp.json', 'dataset/a047_kp/S010C003P007R002A047_rgb_kp.json', 'dataset/a047_kp/S009C002P016R002A047_rgb_kp.json', 'dataset/a047_kp/S010C001P018R002A047_rgb_kp.json', 'dataset/a047_kp/S010C001P019R001A047_rgb_kp.json', 'dataset/a047_kp/S007C001P025R002A047_rgb_kp.json', 'dataset/a047_kp/S011C001P019R001A047_rgb_kp.json', 'dataset/a047_kp/S001C003P001R001A047_rgb_kp.json', 'dataset/a047_kp/S015C003P019R002A047_rgb_kp.json', 'dataset/a047_kp/S011C002P027R001A047_rgb_kp.json', 'dataset/a047_kp/S011C001P008R002A047_rgb_kp.json', 'dataset/a047_kp/S002C001P011R001A047_rgb_kp.json', 'dataset/a047_kp/S012C001P027R002A047_rgb_kp.json', 'dataset/a047_kp/S006C001P023R001A047_rgb_kp.json', 'dataset/a047_kp/S003C001P016R001A047_rgb_kp.json', 'dataset/a047_kp/S002C001P010R001A047_rgb_kp.json', 'dataset/a047_kp/S007C001P017R002A047_rgb_kp.json', 'dataset/a047_kp/S002C002P010R002A047_rgb_kp.json', 'dataset/a047_kp/S006C003P008R001A047_rgb_kp.json', 'dataset/a047_kp/S010C002P015R002A047_rgb_kp.json', 'dataset/a047_kp/S016C003P019R001A047_rgb_kp.json', 'dataset/a047_kp/S008C001P029R001A047_rgb_kp.json', 'dataset/a047_kp/S013C001P037R002A047_rgb_kp.json', 'dataset/a047_kp/S007C001P017R001A047_rgb_kp.json', 'dataset/a047_kp/S016C001P025R001A047_rgb_kp.json', 'dataset/a047_kp/S003C001P002R001A047_rgb_kp.json', 'dataset/a047_kp/S017C003P008R001A047_rgb_kp.json', 'dataset/a047_kp/S006C003P019R002A047_rgb_kp.json', 'dataset/a047_kp/S014C003P007R002A047_rgb_kp.json', 'dataset/a047_kp/S010C003P018R002A047_rgb_kp.json', 'dataset/a047_kp/S011C002P008R002A047_rgb_kp.json', 'dataset/a047_kp/S014C003P039R001A047_rgb_kp.json', 'dataset/a047_kp/S017C002P017R002A047_rgb_kp.json', 'dataset/a047_kp/S002C001P013R001A047_rgb_kp.json', 'dataset/a047_kp/S008C003P031R001A047_rgb_kp.json', 'dataset/a047_kp/S006C002P024R001A047_rgb_kp.json', 'dataset/a047_kp/S001C001P003R001A047_rgb_kp.json', 'dataset/a047_kp/S013C002P027R001A047_rgb_kp.json', 'dataset/a047_kp/S001C003P004R002A047_rgb_kp.json', 'dataset/a047_kp/S008C002P032R002A047_rgb_kp.json', 'dataset/a047_kp/S017C001P003R002A047_rgb_kp.json', 'dataset/a047_kp/S012C002P016R002A047_rgb_kp.json', 'dataset/a047_kp/S014C003P037R002A047_rgb_kp.json', 'dataset/a047_kp/S005C001P013R002A047_rgb_kp.json', 'dataset/a047_kp/S011C003P038R001A047_rgb_kp.json', 'dataset/a047_kp/S010C002P017R001A047_rgb_kp.json', 'dataset/a047_kp/S007C002P019R001A047_rgb_kp.json', 'dataset/a047_kp/S007C003P018R002A047_rgb_kp.json', 'dataset/a047_kp/S006C003P001R002A047_rgb_kp.json', 'dataset/a047_kp/S002C003P003R001A047_rgb_kp.json', 'dataset/a047_kp/S017C002P009R001A047_rgb_kp.json', 'dataset/a047_kp/S010C003P019R002A047_rgb_kp.json', 'dataset/a047_kp/S008C001P001R001A047_rgb_kp.json', 'dataset/a047_kp/S006C002P023R001A047_rgb_kp.json', 'dataset/a047_kp/S009C003P015R001A047_rgb_kp.json', 'dataset/a047_kp/S011C002P038R001A047_rgb_kp.json', 'dataset/a047_kp/S005C001P016R002A047_rgb_kp.json', 'dataset/a047_kp/S010C003P015R001A047_rgb_kp.json', 'dataset/a047_kp/S010C002P015R001A047_rgb_kp.json', 'dataset/a063_kp/S021C001P060R002A063_rgb_kp.json', 'dataset/a063_kp/S027C002P081R002A063_rgb_kp.json', 'dataset/a063_kp/S021C002P055R002A063_rgb_kp.json', 'dataset/a063_kp/S030C003P044R002A063_rgb_kp.json', 'dataset/a063_kp/S020C003P052R002A063_rgb_kp.json', 'dataset/a063_kp/S030C001P091R002A063_rgb_kp.json', 'dataset/a063_kp/S030C002P067R002A063_rgb_kp.json', 'dataset/a063_kp/S028C001P041R002A063_rgb_kp.json', 'dataset/a063_kp/S031C001P096R001A063_rgb_kp.json', 'dataset/a063_kp/S032C001P041R002A063_rgb_kp.json', 'dataset/a063_kp/S021C002P057R001A063_rgb_kp.json', 'dataset/a063_kp/S026C001P008R002A063_rgb_kp.json', 'dataset/a063_kp/S032C001P105R002A063_rgb_kp.json', 'dataset/a063_kp/S020C002P008R001A063_rgb_kp.json', 'dataset/a063_kp/S029C002P008R002A063_rgb_kp.json', 'dataset/a063_kp/S028C002P087R002A063_rgb_kp.json', 'dataset/a063_kp/S020C002P044R001A063_rgb_kp.json', 'dataset/a063_kp/S030C002P076R002A063_rgb_kp.json', 'dataset/a063_kp/S019C001P008R002A063_rgb_kp.json', 'dataset/a063_kp/S023C001P067R001A063_rgb_kp.json', 'dataset/a063_kp/S019C003P046R002A063_rgb_kp.json', 'dataset/a063_kp/S028C001P042R002A063_rgb_kp.json', 'dataset/a063_kp/S024C003P061R001A063_rgb_kp.json', 'dataset/a063_kp/S027C003P008R002A063_rgb_kp.json', 'dataset/a063_kp/S027C003P008R001A063_rgb_kp.json', 'dataset/a063_kp/S021C003P060R001A063_rgb_kp.json', 'dataset/a063_kp/S029C001P043R001A063_rgb_kp.json', 'dataset/a063_kp/S023C003P060R001A063_rgb_kp.json', 'dataset/a063_kp/S027C002P041R001A063_rgb_kp.json', 'dataset/a063_kp/S023C001P064R001A063_rgb_kp.json', 'dataset/a063_kp/S024C001P062R001A063_rgb_kp.json', 'dataset/a063_kp/S029C001P067R002A063_rgb_kp.json', 'dataset/a063_kp/S019C001P051R001A063_rgb_kp.json', 'dataset/a063_kp/S029C003P075R001A063_rgb_kp.json', 'dataset/a063_kp/S030C003P067R001A063_rgb_kp.json', 'dataset/a063_kp/S022C002P062R002A063_rgb_kp.json', 'dataset/a063_kp/S023C001P067R002A063_rgb_kp.json', 'dataset/a063_kp/S019C003P047R001A063_rgb_kp.json', 'dataset/a063_kp/S032C003P008R002A063_rgb_kp.json', 'dataset/a063_kp/S026C001P050R002A063_rgb_kp.json', 'dataset/a063_kp/S019C001P048R002A063_rgb_kp.json', 'dataset/a063_kp/S026C003P049R002A063_rgb_kp.json', 'dataset/a063_kp/S023C002P059R002A063_rgb_kp.json', 'dataset/a063_kp/S027C002P085R001A063_rgb_kp.json', 'dataset/a063_kp/S027C001P085R001A063_rgb_kp.json', 'dataset/a063_kp/S023C001P063R002A063_rgb_kp.json', 'dataset/a063_kp/S029C002P041R001A063_rgb_kp.json', 'dataset/a063_kp/S031C002P067R002A063_rgb_kp.json', 'dataset/a063_kp/S024C002P057R001A063_rgb_kp.json', 'dataset/a063_kp/S023C003P055R001A063_rgb_kp.json', 'dataset/a063_kp/S020C002P053R002A063_rgb_kp.json', 'dataset/a063_kp/S025C001P055R002A063_rgb_kp.json', 'dataset/a063_kp/S025C002P068R002A063_rgb_kp.json', 'dataset/a063_kp/S027C002P079R001A063_rgb_kp.json', 'dataset/a063_kp/S025C002P059R002A063_rgb_kp.json', 'dataset/a063_kp/S029C001P090R001A063_rgb_kp.json', 'dataset/a063_kp/S029C001P067R001A063_rgb_kp.json', 'dataset/a063_kp/S023C003P055R002A063_rgb_kp.json', 'dataset/a063_kp/S030C003P048R001A063_rgb_kp.json', 'dataset/a063_kp/S031C003P099R002A063_rgb_kp.json', 'dataset/a063_kp/S030C003P011R001A063_rgb_kp.json', 'dataset/a063_kp/S031C003P006R001A063_rgb_kp.json', 'dataset/a063_kp/S026C002P069R001A063_rgb_kp.json', 'dataset/a063_kp/S023C002P060R002A063_rgb_kp.json', 'dataset/a063_kp/S023C003P058R001A063_rgb_kp.json', 'dataset/a063_kp/S029C003P051R001A063_rgb_kp.json', 'dataset/a063_kp/S020C002P041R002A063_rgb_kp.json', 'dataset/a063_kp/S026C002P049R002A063_rgb_kp.json', 'dataset/a063_kp/S030C001P094R001A063_rgb_kp.json', 'dataset/a063_kp/S022C001P062R001A063_rgb_kp.json', 'dataset/a063_kp/S020C003P054R002A063_rgb_kp.json', 'dataset/a063_kp/S021C002P056R001A063_rgb_kp.json', 'dataset/a063_kp/S030C001P093R002A063_rgb_kp.json', 'dataset/a063_kp/S029C003P044R002A063_rgb_kp.json', 'dataset/a063_kp/S023C003P062R001A063_rgb_kp.json', 'dataset/a063_kp/S030C003P076R001A063_rgb_kp.json', 'dataset/a063_kp/S026C003P074R002A063_rgb_kp.json', 'dataset/a063_kp/S031C001P041R002A063_rgb_kp.json', 'dataset/a063_kp/S030C003P088R002A063_rgb_kp.json', 'dataset/a063_kp/S021C003P058R002A063_rgb_kp.json', 'dataset/a063_kp/S023C001P057R002A063_rgb_kp.json', 'dataset/a063_kp/S025C002P055R001A063_rgb_kp.json', 'dataset/a063_kp/S027C002P086R002A063_rgb_kp.json', 'dataset/a063_kp/S031C002P008R002A063_rgb_kp.json', 'dataset/a063_kp/S027C003P083R001A063_rgb_kp.json', 'dataset/a063_kp/S021C003P055R002A063_rgb_kp.json', 'dataset/a063_kp/S030C002P044R001A063_rgb_kp.json', 'dataset/a063_kp/S026C001P069R002A063_rgb_kp.json', 'dataset/a063_kp/S019C001P046R001A063_rgb_kp.json', 'dataset/a063_kp/S027C003P006R002A063_rgb_kp.json', 'dataset/a063_kp/S022C002P063R001A063_rgb_kp.json', 'dataset/a063_kp/S029C003P049R001A063_rgb_kp.json', 'dataset/a063_kp/S025C002P068R001A063_rgb_kp.json', 'dataset/a063_kp/S032C002P103R001A063_rgb_kp.json', 'dataset/a063_kp/S031C003P097R002A063_rgb_kp.json', 'dataset/a063_kp/S022C003P067R002A063_rgb_kp.json', 'dataset/a063_kp/S031C002P051R001A063_rgb_kp.json', 'dataset/a063_kp/S032C002P106R001A063_rgb_kp.json', 'dataset/a063_kp/S031C002P043R002A063_rgb_kp.json', 'dataset/a063_kp/S026C002P077R001A063_rgb_kp.json', 'dataset/a094_kp/S027C001P080R001A094_rgb_kp.json', 'dataset/a094_kp/S029C001P051R002A094_rgb_kp.json', 'dataset/a094_kp/S025C003P056R002A094_rgb_kp.json', 'dataset/a094_kp/S026C002P071R002A094_rgb_kp.json', 'dataset/a094_kp/S021C001P057R001A094_rgb_kp.json', 'dataset/a094_kp/S026C003P072R002A094_rgb_kp.json', 'dataset/a094_kp/S031C002P082R002A094_rgb_kp.json', 'dataset/a094_kp/S019C003P047R001A094_rgb_kp.json', 'dataset/a094_kp/S027C003P006R001A094_rgb_kp.json', 'dataset/a094_kp/S027C002P011R001A094_rgb_kp.json', 'dataset/a094_kp/S032C002P106R002A094_rgb_kp.json', 'dataset/a094_kp/S032C003P103R001A094_rgb_kp.json', 'dataset/a094_kp/S019C001P050R001A094_rgb_kp.json', 'dataset/a094_kp/S022C003P066R002A094_rgb_kp.json', 'dataset/a094_kp/S026C001P050R001A094_rgb_kp.json', 'dataset/a094_kp/S028C002P008R002A094_rgb_kp.json', 'dataset/a094_kp/S026C001P008R001A094_rgb_kp.json', 'dataset/a094_kp/S032C003P043R001A094_rgb_kp.json', 'dataset/a094_kp/S026C003P077R002A094_rgb_kp.json', 'dataset/a094_kp/S020C001P053R002A094_rgb_kp.json', 'dataset/a094_kp/S027C001P011R001A094_rgb_kp.json', 'dataset/a094_kp/S029C003P049R001A094_rgb_kp.json', 'dataset/a094_kp/S024C001P060R002A094_rgb_kp.json', 'dataset/a094_kp/S030C003P093R002A094_rgb_kp.json', 'dataset/a094_kp/S026C001P044R001A094_rgb_kp.json', 'dataset/a094_kp/S026C001P077R002A094_rgb_kp.json', 'dataset/a094_kp/S031C001P006R002A094_rgb_kp.json', 'dataset/a094_kp/S029C002P049R002A094_rgb_kp.json', 'dataset/a094_kp/S027C003P044R002A094_rgb_kp.json', 'dataset/a094_kp/S027C002P079R001A094_rgb_kp.json', 'dataset/a094_kp/S030C002P094R001A094_rgb_kp.json', 'dataset/a094_kp/S023C001P056R001A094_rgb_kp.json', 'dataset/a094_kp/S018C002P043R001A094_rgb_kp.json', 'dataset/a094_kp/S025C002P058R001A094_rgb_kp.json', 'dataset/a094_kp/S018C003P042R002A094_rgb_kp.json', 'dataset/a094_kp/S027C002P084R001A094_rgb_kp.json', 'dataset/a094_kp/S027C002P084R002A094_rgb_kp.json', 'dataset/a094_kp/S021C001P060R001A094_rgb_kp.json', 'dataset/a094_kp/S027C002P082R002A094_rgb_kp.json', 'dataset/a094_kp/S023C002P063R002A094_rgb_kp.json', 'dataset/a094_kp/S020C002P054R001A094_rgb_kp.json', 'dataset/a094_kp/S028C002P048R001A094_rgb_kp.json', 'dataset/a094_kp/S029C002P090R002A094_rgb_kp.json', 'dataset/a094_kp/S031C001P082R001A094_rgb_kp.json', 'dataset/a094_kp/S022C003P065R001A094_rgb_kp.json', 'dataset/a094_kp/S023C003P064R002A094_rgb_kp.json', 'dataset/a094_kp/S027C002P083R002A094_rgb_kp.json', 'dataset/a094_kp/S026C002P008R002A094_rgb_kp.json', 'dataset/a094_kp/S025C002P056R001A094_rgb_kp.json', 'dataset/a094_kp/S032C002P041R001A094_rgb_kp.json', 'dataset/a094_kp/S032C003P041R001A094_rgb_kp.json', 'dataset/a094_kp/S026C003P044R002A094_rgb_kp.json', 'dataset/a094_kp/S032C002P104R002A094_rgb_kp.json', 'dataset/a094_kp/S030C001P091R002A094_rgb_kp.json', 'dataset/a094_kp/S026C002P049R002A094_rgb_kp.json', 'dataset/a094_kp/S023C001P058R001A094_rgb_kp.json', 'dataset/a094_kp/S026C001P044R002A094_rgb_kp.json', 'dataset/a094_kp/S030C003P011R001A094_rgb_kp.json', 'dataset/a094_kp/S025C003P055R001A094_rgb_kp.json', 'dataset/a094_kp/S032C003P067R001A094_rgb_kp.json', 'dataset/a094_kp/S030C002P075R001A094_rgb_kp.json', 'dataset/a094_kp/S019C002P051R002A094_rgb_kp.json', 'dataset/a094_kp/S027C003P086R001A094_rgb_kp.json', 'dataset/a094_kp/S023C001P060R001A094_rgb_kp.json', 'dataset/a094_kp/S024C002P062R002A094_rgb_kp.json', 'dataset/a094_kp/S030C002P088R001A094_rgb_kp.json', 'dataset/a094_kp/S031C003P051R002A094_rgb_kp.json', 'dataset/a094_kp/S030C002P044R001A094_rgb_kp.json', 'dataset/a094_kp/S030C003P067R001A094_rgb_kp.json', 'dataset/a094_kp/S020C001P043R002A094_rgb_kp.json', 'dataset/a094_kp/S027C001P085R001A094_rgb_kp.json', 'dataset/a094_kp/S032C003P044R001A094_rgb_kp.json', 'dataset/a094_kp/S023C001P055R002A094_rgb_kp.json', 'dataset/a094_kp/S030C001P088R001A094_rgb_kp.json', 'dataset/a094_kp/S029C002P080R001A094_rgb_kp.json', 'dataset/a094_kp/S023C001P066R002A094_rgb_kp.json', 'dataset/a094_kp/S022C001P064R002A094_rgb_kp.json', 'dataset/a094_kp/S021C003P058R001A094_rgb_kp.json', 'dataset/a094_kp/S023C003P058R002A094_rgb_kp.json', 'dataset/a094_kp/S026C001P076R001A094_rgb_kp.json', 'dataset/a094_kp/S021C002P060R002A094_rgb_kp.json', 'dataset/a094_kp/S031C001P096R002A094_rgb_kp.json', 'dataset/a094_kp/S022C002P062R002A094_rgb_kp.json', 'dataset/a094_kp/S023C003P061R001A094_rgb_kp.json', 'dataset/a094_kp/S031C003P043R002A094_rgb_kp.json', 'dataset/a094_kp/S029C003P051R002A094_rgb_kp.json', 'dataset/a094_kp/S021C002P057R002A094_rgb_kp.json', 'dataset/a094_kp/S030C001P011R001A094_rgb_kp.json', 'dataset/a094_kp/S030C002P091R002A094_rgb_kp.json', 'dataset/a094_kp/S026C002P069R002A094_rgb_kp.json', 'dataset/a094_kp/S023C001P063R002A094_rgb_kp.json', 'dataset/a094_kp/S026C001P049R002A094_rgb_kp.json', 'dataset/a094_kp/S022C003P065R002A094_rgb_kp.json', 'dataset/a094_kp/S029C003P090R002A094_rgb_kp.json', 'dataset/a094_kp/S021C001P057R002A094_rgb_kp.json', 'dataset/a094_kp/S030C003P041R002A094_rgb_kp.json', 'dataset/a094_kp/S021C003P055R002A094_rgb_kp.json', 'dataset/a094_kp/S020C001P052R002A094_rgb_kp.json', 'dataset/a094_kp/S026C002P076R002A094_rgb_kp.json', 'dataset/a094_kp/S028C003P042R001A094_rgb_kp.json', 'dataset/a019_kp/S002C003P007R001A019_rgb_kp.json', 'dataset/a019_kp/S014C002P037R001A019_rgb_kp.json', 'dataset/a019_kp/S001C002P008R002A019_rgb_kp.json', 'dataset/a019_kp/S007C003P027R001A019_rgb_kp.json', 'dataset/a019_kp/S008C001P007R001A019_rgb_kp.json', 'dataset/a019_kp/S013C002P008R002A019_rgb_kp.json', 'dataset/a019_kp/S015C002P015R001A019_rgb_kp.json', 'dataset/a019_kp/S003C003P015R002A019_rgb_kp.json', 'dataset/a019_kp/S003C003P008R001A019_rgb_kp.json', 'dataset/a019_kp/S012C001P017R001A019_rgb_kp.json', 'dataset/a019_kp/S007C002P018R002A019_rgb_kp.json', 'dataset/a019_kp/S003C001P001R002A019_rgb_kp.json', 'dataset/a019_kp/S013C001P007R002A019_rgb_kp.json', 'dataset/a019_kp/S003C001P018R002A019_rgb_kp.json', 'dataset/a019_kp/S016C002P021R002A019_rgb_kp.json', 'dataset/a019_kp/S008C001P031R001A019_rgb_kp.json', 'dataset/a019_kp/S002C002P007R002A019_rgb_kp.json', 'dataset/a019_kp/S010C003P013R001A019_rgb_kp.json', 'dataset/a019_kp/S009C001P015R001A019_rgb_kp.json', 'dataset/a019_kp/S015C001P015R002A019_rgb_kp.json', 'dataset/a019_kp/S012C002P025R002A019_rgb_kp.json', 'dataset/a019_kp/S004C003P020R001A019_rgb_kp.json', 'dataset/a019_kp/S016C001P021R001A019_rgb_kp.json', 'dataset/a019_kp/S013C003P019R001A019_rgb_kp.json', 'dataset/a019_kp/S013C003P007R002A019_rgb_kp.json', 'dataset/a019_kp/S012C002P027R001A019_rgb_kp.json', 'dataset/a019_kp/S013C003P025R002A019_rgb_kp.json', 'dataset/a019_kp/S012C002P017R001A019_rgb_kp.json', 'dataset/a019_kp/S011C002P018R002A019_rgb_kp.json', 'dataset/a019_kp/S017C001P007R001A019_rgb_kp.json', 'dataset/a019_kp/S007C002P025R001A019_rgb_kp.json', 'dataset/a019_kp/S006C003P023R002A019_rgb_kp.json', 'dataset/a019_kp/S011C001P002R002A019_rgb_kp.json', 'dataset/a019_kp/S012C002P017R002A019_rgb_kp.json', 'dataset/a019_kp/S017C002P017R002A019_rgb_kp.json', 'dataset/a019_kp/S010C003P019R002A019_rgb_kp.json', 'dataset/a019_kp/S007C001P026R002A019_rgb_kp.json', 'dataset/a019_kp/S008C002P031R002A019_rgb_kp.json', 'dataset/a019_kp/S017C003P016R001A019_rgb_kp.json', 'dataset/a019_kp/S007C001P001R001A019_rgb_kp.json', 'dataset/a019_kp/S017C003P020R001A019_rgb_kp.json', 'dataset/a019_kp/S009C003P015R001A019_rgb_kp.json', 'dataset/a019_kp/S009C001P007R001A019_rgb_kp.json', 'dataset/a019_kp/S010C001P008R002A019_rgb_kp.json', 'dataset/a019_kp/S012C002P008R001A019_rgb_kp.json', 'dataset/a019_kp/S002C001P012R002A019_rgb_kp.json', 'dataset/a019_kp/S008C002P030R001A019_rgb_kp.json', 'dataset/a019_kp/S011C002P007R002A019_rgb_kp.json', 'dataset/a019_kp/S017C001P017R001A019_rgb_kp.json', 'dataset/a019_kp/S006C001P015R001A019_rgb_kp.json', 'dataset/a019_kp/S005C002P013R002A019_rgb_kp.json', 'dataset/a019_kp/S012C001P025R002A019_rgb_kp.json', 'dataset/a019_kp/S003C003P001R002A019_rgb_kp.json', 'dataset/a019_kp/S012C001P037R001A019_rgb_kp.json', 'dataset/a019_kp/S012C001P017R002A019_rgb_kp.json', 'dataset/a019_kp/S004C002P003R001A019_rgb_kp.json', 'dataset/a019_kp/S009C002P025R001A019_rgb_kp.json', 'dataset/a019_kp/S017C002P003R002A019_rgb_kp.json', 'dataset/a019_kp/S007C003P016R001A019_rgb_kp.json', 'dataset/a019_kp/S013C003P019R002A019_rgb_kp.json', 'dataset/a019_kp/S003C001P015R001A019_rgb_kp.json', 'dataset/a019_kp/S008C001P008R001A019_rgb_kp.json', 'dataset/a019_kp/S003C001P002R001A019_rgb_kp.json', 'dataset/a019_kp/S008C001P036R002A019_rgb_kp.json', 'dataset/a019_kp/S007C003P008R002A019_rgb_kp.json', 'dataset/a019_kp/S009C003P017R001A019_rgb_kp.json', 'dataset/a019_kp/S008C001P001R001A019_rgb_kp.json', 'dataset/a019_kp/S008C001P029R001A019_rgb_kp.json', 'dataset/a019_kp/S009C001P008R002A019_rgb_kp.json', 'dataset/a019_kp/S012C001P016R002A019_rgb_kp.json', 'dataset/a019_kp/S008C001P019R002A019_rgb_kp.json', 'dataset/a019_kp/S014C003P027R001A019_rgb_kp.json', 'dataset/a019_kp/S013C002P018R002A019_rgb_kp.json', 'dataset/a019_kp/S011C002P019R001A019_rgb_kp.json', 'dataset/a019_kp/S013C001P037R001A019_rgb_kp.json', 'dataset/a019_kp/S009C001P025R002A019_rgb_kp.json', 'dataset/a019_kp/S003C002P007R001A019_rgb_kp.json', 'dataset/a019_kp/S004C003P020R002A019_rgb_kp.json', 'dataset/a019_kp/S003C003P002R002A019_rgb_kp.json', 'dataset/a019_kp/S014C002P027R001A019_rgb_kp.json', 'dataset/a019_kp/S013C002P018R001A019_rgb_kp.json', 'dataset/a019_kp/S008C002P007R001A019_rgb_kp.json', 'dataset/a019_kp/S002C003P010R002A019_rgb_kp.json', 'dataset/a019_kp/S008C003P029R002A019_rgb_kp.json', 'dataset/a019_kp/S017C001P015R002A019_rgb_kp.json', 'dataset/a019_kp/S015C001P025R001A019_rgb_kp.json', 'dataset/a019_kp/S006C002P016R001A019_rgb_kp.json', 'dataset/a019_kp/S001C003P001R002A019_rgb_kp.json', 'dataset/a019_kp/S017C003P003R002A019_rgb_kp.json', 'dataset/a019_kp/S007C001P007R001A019_rgb_kp.json', 'dataset/a019_kp/S010C001P015R002A019_rgb_kp.json', 'dataset/a019_kp/S016C002P019R001A019_rgb_kp.json', 'dataset/a019_kp/S005C003P013R001A019_rgb_kp.json', 'dataset/a019_kp/S010C003P017R001A019_rgb_kp.json', 'dataset/a019_kp/S002C001P007R001A019_rgb_kp.json', 'dataset/a019_kp/S003C002P016R001A019_rgb_kp.json', 'dataset/a019_kp/S011C001P019R002A019_rgb_kp.json', 'dataset/a019_kp/S012C001P025R001A019_rgb_kp.json', 'dataset/a019_kp/S016C002P007R001A019_rgb_kp.json', 'dataset/a019_kp/S016C002P019R002A019_rgb_kp.json', 'dataset/a071_kp/S027C001P044R001A071_rgb_kp.json', 'dataset/a071_kp/S026C001P074R002A071_rgb_kp.json', 'dataset/a071_kp/S022C003P062R002A071_rgb_kp.json', 'dataset/a071_kp/S023C001P067R002A071_rgb_kp.json', 'dataset/a071_kp/S020C001P044R001A071_rgb_kp.json', 'dataset/a071_kp/S027C001P086R002A071_rgb_kp.json', 'dataset/a071_kp/S026C002P075R001A071_rgb_kp.json', 'dataset/a071_kp/S028C003P048R001A071_rgb_kp.json', 'dataset/a071_kp/S025C001P066R002A071_rgb_kp.json', 'dataset/a071_kp/S029C002P089R002A071_rgb_kp.json', 'dataset/a071_kp/S024C002P060R002A071_rgb_kp.json', 'dataset/a071_kp/S029C002P051R002A071_rgb_kp.json', 'dataset/a071_kp/S019C001P047R001A071_rgb_kp.json', 'dataset/a071_kp/S028C003P042R002A071_rgb_kp.json', 'dataset/a071_kp/S018C002P045R002A071_rgb_kp.json', 'dataset/a071_kp/S028C003P008R002A071_rgb_kp.json', 'dataset/a071_kp/S024C002P057R001A071_rgb_kp.json', 'dataset/a071_kp/S031C002P098R002A071_rgb_kp.json', 'dataset/a071_kp/S027C002P078R001A071_rgb_kp.json', 'dataset/a071_kp/S026C002P051R002A071_rgb_kp.json', 'dataset/a071_kp/S030C003P067R001A071_rgb_kp.json', 'dataset/a071_kp/S032C002P104R001A071_rgb_kp.json', 'dataset/a071_kp/S022C001P063R002A071_rgb_kp.json', 'dataset/a071_kp/S032C003P106R001A071_rgb_kp.json', 'dataset/a071_kp/S032C002P106R001A071_rgb_kp.json', 'dataset/a071_kp/S025C001P065R001A071_rgb_kp.json', 'dataset/a071_kp/S020C001P041R002A071_rgb_kp.json', 'dataset/a071_kp/S020C002P053R002A071_rgb_kp.json', 'dataset/a071_kp/S030C002P092R002A071_rgb_kp.json', 'dataset/a071_kp/S018C002P042R002A071_rgb_kp.json', 'dataset/a071_kp/S020C001P041R001A071_rgb_kp.json', 'dataset/a071_kp/S024C001P063R001A071_rgb_kp.json', 'dataset/a071_kp/S025C003P059R002A071_rgb_kp.json', 'dataset/a071_kp/S030C003P092R001A071_rgb_kp.json', 'dataset/a071_kp/S024C002P061R002A071_rgb_kp.json', 'dataset/a071_kp/S032C003P008R002A071_rgb_kp.json', 'dataset/a071_kp/S026C003P049R002A071_rgb_kp.json', 'dataset/a071_kp/S022C003P061R001A071_rgb_kp.json', 'dataset/a071_kp/S029C003P048R002A071_rgb_kp.json', 'dataset/a071_kp/S020C002P008R001A071_rgb_kp.json', 'dataset/a071_kp/S029C003P067R001A071_rgb_kp.json', 'dataset/a071_kp/S024C001P067R001A071_rgb_kp.json', 'dataset/a071_kp/S022C002P064R001A071_rgb_kp.json', 'dataset/a071_kp/S029C001P088R002A071_rgb_kp.json', 'dataset/a071_kp/S019C002P050R001A071_rgb_kp.json', 'dataset/a071_kp/S019C001P042R002A071_rgb_kp.json', 'dataset/a071_kp/S022C002P066R001A071_rgb_kp.json', 'dataset/a071_kp/S028C003P008R001A071_rgb_kp.json', 'dataset/a071_kp/S023C003P064R002A071_rgb_kp.json', 'dataset/a071_kp/S027C002P080R001A071_rgb_kp.json', 'dataset/a071_kp/S029C001P075R001A071_rgb_kp.json', 'dataset/a071_kp/S028C002P073R002A071_rgb_kp.json', 'dataset/a071_kp/S019C003P047R001A071_rgb_kp.json', 'dataset/a071_kp/S030C003P081R002A071_rgb_kp.json', 'dataset/a071_kp/S029C002P008R002A071_rgb_kp.json', 'dataset/a071_kp/S030C001P076R001A071_rgb_kp.json', 'dataset/a071_kp/S022C003P066R002A071_rgb_kp.json', 'dataset/a071_kp/S026C003P075R002A071_rgb_kp.json', 'dataset/a071_kp/S024C003P067R002A071_rgb_kp.json', 'dataset/a071_kp/S023C003P063R002A071_rgb_kp.json', 'dataset/a071_kp/S021C002P055R002A071_rgb_kp.json', 'dataset/a071_kp/S030C003P008R001A071_rgb_kp.json', 'dataset/a071_kp/S025C003P056R002A071_rgb_kp.json', 'dataset/a071_kp/S025C002P066R002A071_rgb_kp.json', 'dataset/a071_kp/S025C003P065R002A071_rgb_kp.json', 'dataset/a071_kp/S029C003P008R001A071_rgb_kp.json', 'dataset/a071_kp/S030C001P043R002A071_rgb_kp.json', 'dataset/a071_kp/S027C001P006R001A071_rgb_kp.json', 'dataset/a071_kp/S030C003P085R001A071_rgb_kp.json', 'dataset/a071_kp/S025C001P065R002A071_rgb_kp.json', 'dataset/a071_kp/S019C003P046R002A071_rgb_kp.json', 'dataset/a071_kp/S023C001P059R002A071_rgb_kp.json', 'dataset/a071_kp/S018C002P044R002A071_rgb_kp.json', 'dataset/a071_kp/S026C001P075R001A071_rgb_kp.json', 'dataset/a071_kp/S018C003P044R001A071_rgb_kp.json', 'dataset/a071_kp/S029C002P051R001A071_rgb_kp.json', 'dataset/a071_kp/S032C002P103R002A071_rgb_kp.json', 'dataset/a071_kp/S030C003P048R001A071_rgb_kp.json', 'dataset/a071_kp/S025C001P068R001A071_rgb_kp.json', 'dataset/a071_kp/S028C003P042R001A071_rgb_kp.json', 'dataset/a071_kp/S024C002P063R002A071_rgb_kp.json', 'dataset/a071_kp/S027C001P078R001A071_rgb_kp.json', 'dataset/a071_kp/S018C001P008R001A071_rgb_kp.json', 'dataset/a071_kp/S020C002P054R001A071_rgb_kp.json', 'dataset/a071_kp/S030C001P041R001A071_rgb_kp.json', 'dataset/a071_kp/S023C003P055R002A071_rgb_kp.json', 'dataset/a071_kp/S023C002P057R002A071_rgb_kp.json', 'dataset/a071_kp/S029C003P075R001A071_rgb_kp.json', 'dataset/a071_kp/S027C003P043R002A071_rgb_kp.json', 'dataset/a071_kp/S027C001P085R001A071_rgb_kp.json', 'dataset/a071_kp/S030C003P094R001A071_rgb_kp.json', 'dataset/a071_kp/S019C001P008R002A071_rgb_kp.json', 'dataset/a071_kp/S030C001P044R001A071_rgb_kp.json', 'dataset/a071_kp/S026C002P049R001A071_rgb_kp.json', 'dataset/a071_kp/S023C002P067R001A071_rgb_kp.json', 'dataset/a071_kp/S023C001P063R002A071_rgb_kp.json', 'dataset/a071_kp/S029C001P006R002A071_rgb_kp.json', 'dataset/a071_kp/S030C003P091R001A071_rgb_kp.json', 'dataset/a071_kp/S023C001P056R001A071_rgb_kp.json', 'dataset/a071_kp/S025C002P059R002A071_rgb_kp.json', 'dataset/a003_kp/S007C002P027R001A003_rgb_kp.json', 'dataset/a003_kp/S003C002P018R001A003_rgb_kp.json', 'dataset/a003_kp/S003C001P019R001A003_rgb_kp.json', 'dataset/a003_kp/S012C003P007R001A003_rgb_kp.json', 'dataset/a003_kp/S012C001P018R001A003_rgb_kp.json', 'dataset/a003_kp/S002C002P003R002A003_rgb_kp.json', 'dataset/a003_kp/S008C002P032R002A003_rgb_kp.json', 'dataset/a003_kp/S008C001P035R001A003_rgb_kp.json', 'dataset/a003_kp/S013C001P027R002A003_rgb_kp.json', 'dataset/a003_kp/S010C002P019R001A003_rgb_kp.json', 'dataset/a003_kp/S009C002P008R001A003_rgb_kp.json', 'dataset/a003_kp/S004C002P020R001A003_rgb_kp.json', 'dataset/a003_kp/S001C003P005R002A003_rgb_kp.json', 'dataset/a003_kp/S011C001P017R001A003_rgb_kp.json', 'dataset/a003_kp/S012C003P025R001A003_rgb_kp.json', 'dataset/a003_kp/S008C003P036R001A003_rgb_kp.json', 'dataset/a003_kp/S006C003P023R002A003_rgb_kp.json', 'dataset/a003_kp/S006C001P015R001A003_rgb_kp.json', 'dataset/a003_kp/S009C003P025R001A003_rgb_kp.json', 'dataset/a003_kp/S003C003P018R001A003_rgb_kp.json', 'dataset/a003_kp/S008C002P034R001A003_rgb_kp.json', 'dataset/a003_kp/S013C003P016R002A003_rgb_kp.json', 'dataset/a003_kp/S013C003P027R001A003_rgb_kp.json', 'dataset/a003_kp/S008C001P008R001A003_rgb_kp.json', 'dataset/a003_kp/S011C003P001R001A003_rgb_kp.json', 'dataset/a003_kp/S013C002P007R002A003_rgb_kp.json', 'dataset/a003_kp/S005C002P004R001A003_rgb_kp.json', 'dataset/a003_kp/S010C002P016R001A003_rgb_kp.json', 'dataset/a003_kp/S008C001P025R002A003_rgb_kp.json', 'dataset/a003_kp/S009C002P019R002A003_rgb_kp.json', 'dataset/a003_kp/S007C003P019R002A003_rgb_kp.json', 'dataset/a003_kp/S001C002P008R001A003_rgb_kp.json', 'dataset/a003_kp/S013C001P018R002A003_rgb_kp.json', 'dataset/a003_kp/S014C002P027R002A003_rgb_kp.json', 'dataset/a003_kp/S014C003P015R002A003_rgb_kp.json', 'dataset/a003_kp/S013C003P037R002A003_rgb_kp.json', 'dataset/a003_kp/S006C001P007R001A003_rgb_kp.json', 'dataset/a003_kp/S007C001P026R002A003_rgb_kp.json', 'dataset/a003_kp/S003C002P007R002A003_rgb_kp.json', 'dataset/a003_kp/S002C002P003R001A003_rgb_kp.json', 'dataset/a003_kp/S011C003P015R001A003_rgb_kp.json', 'dataset/a003_kp/S017C001P008R001A003_rgb_kp.json', 'dataset/a003_kp/S015C001P015R001A003_rgb_kp.json', 'dataset/a003_kp/S003C003P017R001A003_rgb_kp.json', 'dataset/a003_kp/S006C003P008R002A003_rgb_kp.json', 'dataset/a003_kp/S013C003P007R001A003_rgb_kp.json', 'dataset/a003_kp/S006C001P024R001A003_rgb_kp.json', 'dataset/a003_kp/S008C001P035R002A003_rgb_kp.json', 'dataset/a003_kp/S010C003P021R001A003_rgb_kp.json', 'dataset/a003_kp/S001C001P007R002A003_rgb_kp.json', 'dataset/a003_kp/S012C003P018R002A003_rgb_kp.json', 'dataset/a003_kp/S017C003P009R001A003_rgb_kp.json', 'dataset/a003_kp/S010C001P015R001A003_rgb_kp.json', 'dataset/a003_kp/S014C001P037R002A003_rgb_kp.json', 'dataset/a003_kp/S008C003P019R002A003_rgb_kp.json', 'dataset/a003_kp/S008C001P033R001A003_rgb_kp.json', 'dataset/a003_kp/S002C002P008R002A003_rgb_kp.json', 'dataset/a003_kp/S008C002P025R002A003_rgb_kp.json', 'dataset/a003_kp/S010C003P025R001A003_rgb_kp.json', 'dataset/a003_kp/S006C001P024R002A003_rgb_kp.json', 'dataset/a003_kp/S005C003P016R001A003_rgb_kp.json', 'dataset/a003_kp/S006C003P024R002A003_rgb_kp.json', 'dataset/a003_kp/S017C003P017R002A003_rgb_kp.json', 'dataset/a003_kp/S013C003P007R002A003_rgb_kp.json', 'dataset/a003_kp/S007C001P025R002A003_rgb_kp.json', 'dataset/a003_kp/S009C001P017R002A003_rgb_kp.json', 'dataset/a003_kp/S003C001P007R001A003_rgb_kp.json', 'dataset/a003_kp/S011C003P007R002A003_rgb_kp.json', 'dataset/a003_kp/S008C001P030R002A003_rgb_kp.json', 'dataset/a003_kp/S005C002P021R002A003_rgb_kp.json', 'dataset/a003_kp/S006C001P008R002A003_rgb_kp.json', 'dataset/a003_kp/S013C003P017R002A003_rgb_kp.json', 'dataset/a003_kp/S008C001P032R001A003_rgb_kp.json', 'dataset/a003_kp/S015C003P016R001A003_rgb_kp.json', 'dataset/a003_kp/S007C001P028R002A003_rgb_kp.json', 'dataset/a003_kp/S001C002P003R002A003_rgb_kp.json', 'dataset/a003_kp/S012C001P019R001A003_rgb_kp.json', 'dataset/a003_kp/S002C001P007R001A003_rgb_kp.json', 'dataset/a003_kp/S007C003P001R001A003_rgb_kp.json', 'dataset/a003_kp/S005C002P015R002A003_rgb_kp.json', 'dataset/a003_kp/S011C003P007R001A003_rgb_kp.json', 'dataset/a003_kp/S001C001P004R001A003_rgb_kp.json', 'dataset/a003_kp/S002C002P012R001A003_rgb_kp.json', 'dataset/a003_kp/S015C002P025R002A003_rgb_kp.json', 'dataset/a003_kp/S010C002P008R002A003_rgb_kp.json', 'dataset/a003_kp/S004C003P007R002A003_rgb_kp.json', 'dataset/a003_kp/S011C002P038R002A003_rgb_kp.json', 'dataset/a003_kp/S006C001P008R001A003_rgb_kp.json', 'dataset/a003_kp/S008C003P033R002A003_rgb_kp.json', 'dataset/a003_kp/S012C001P027R002A003_rgb_kp.json', 'dataset/a003_kp/S016C001P040R002A003_rgb_kp.json', 'dataset/a003_kp/S007C001P008R002A003_rgb_kp.json', 'dataset/a003_kp/S001C002P004R002A003_rgb_kp.json', 'dataset/a003_kp/S007C001P028R001A003_rgb_kp.json', 'dataset/a003_kp/S010C001P025R002A003_rgb_kp.json', 'dataset/a003_kp/S014C003P007R002A003_rgb_kp.json', 'dataset/a003_kp/S003C002P016R002A003_rgb_kp.json', 'dataset/a003_kp/S014C003P025R002A003_rgb_kp.json', 'dataset/a003_kp/S012C002P028R002A003_rgb_kp.json', 'dataset/a003_kp/S017C001P003R001A003_rgb_kp.json', 'dataset/a041_kp/S011C003P007R001A041_rgb_kp.json', 'dataset/a041_kp/S010C002P016R001A041_rgb_kp.json', 'dataset/a041_kp/S003C002P007R002A041_rgb_kp.json', 'dataset/a041_kp/S009C001P015R001A041_rgb_kp.json', 'dataset/a041_kp/S011C003P028R002A041_rgb_kp.json', 'dataset/a041_kp/S016C002P025R002A041_rgb_kp.json', 'dataset/a041_kp/S008C001P031R002A041_rgb_kp.json', 'dataset/a041_kp/S002C002P014R002A041_rgb_kp.json', 'dataset/a041_kp/S016C003P040R001A041_rgb_kp.json', 'dataset/a041_kp/S001C001P006R001A041_rgb_kp.json', 'dataset/a041_kp/S014C003P008R002A041_rgb_kp.json', 'dataset/a041_kp/S016C003P008R001A041_rgb_kp.json', 'dataset/a041_kp/S004C001P008R002A041_rgb_kp.json', 'dataset/a041_kp/S003C003P001R002A041_rgb_kp.json', 'dataset/a041_kp/S002C002P003R002A041_rgb_kp.json', 'dataset/a041_kp/S001C002P007R002A041_rgb_kp.json', 'dataset/a041_kp/S005C001P016R002A041_rgb_kp.json', 'dataset/a041_kp/S008C003P035R001A041_rgb_kp.json', 'dataset/a041_kp/S004C002P003R001A041_rgb_kp.json', 'dataset/a041_kp/S006C003P023R002A041_rgb_kp.json', 'dataset/a041_kp/S003C002P016R001A041_rgb_kp.json', 'dataset/a041_kp/S009C002P017R001A041_rgb_kp.json', 'dataset/a041_kp/S013C003P016R001A041_rgb_kp.json', 'dataset/a041_kp/S005C003P021R001A041_rgb_kp.json', 'dataset/a041_kp/S001C001P006R002A041_rgb_kp.json', 'dataset/a041_kp/S008C002P034R001A041_rgb_kp.json', 'dataset/a041_kp/S003C001P008R002A041_rgb_kp.json', 'dataset/a041_kp/S014C001P008R001A041_rgb_kp.json', 'dataset/a041_kp/S001C001P003R001A041_rgb_kp.json', 'dataset/a041_kp/S001C003P002R002A041_rgb_kp.json', 'dataset/a041_kp/S006C001P015R001A041_rgb_kp.json', 'dataset/a041_kp/S014C002P008R001A041_rgb_kp.json', 'dataset/a041_kp/S011C003P008R002A041_rgb_kp.json', 'dataset/a041_kp/S005C002P010R002A041_rgb_kp.json', 'dataset/a041_kp/S017C002P008R001A041_rgb_kp.json', 'dataset/a041_kp/S015C001P017R002A041_rgb_kp.json', 'dataset/a041_kp/S005C003P013R002A041_rgb_kp.json', 'dataset/a041_kp/S003C003P016R001A041_rgb_kp.json', 'dataset/a041_kp/S010C003P025R001A041_rgb_kp.json', 'dataset/a041_kp/S008C002P019R001A041_rgb_kp.json', 'dataset/a041_kp/S014C002P027R001A041_rgb_kp.json', 'dataset/a041_kp/S003C003P015R002A041_rgb_kp.json', 'dataset/a041_kp/S001C002P004R001A041_rgb_kp.json', 'dataset/a041_kp/S006C003P024R002A041_rgb_kp.json', 'dataset/a041_kp/S008C002P032R002A041_rgb_kp.json', 'dataset/a041_kp/S007C002P026R001A041_rgb_kp.json', 'dataset/a041_kp/S007C003P015R002A041_rgb_kp.json', 'dataset/a041_kp/S011C002P038R001A041_rgb_kp.json', 'dataset/a041_kp/S016C002P039R002A041_rgb_kp.json', 'dataset/a041_kp/S010C002P021R002A041_rgb_kp.json', 'dataset/a041_kp/S001C002P002R001A041_rgb_kp.json', 'dataset/a041_kp/S010C002P016R002A041_rgb_kp.json', 'dataset/a041_kp/S009C001P017R002A041_rgb_kp.json', 'dataset/a041_kp/S013C002P017R001A041_rgb_kp.json', 'dataset/a041_kp/S006C003P019R001A041_rgb_kp.json', 'dataset/a041_kp/S015C001P019R002A041_rgb_kp.json', 'dataset/a041_kp/S005C003P010R001A041_rgb_kp.json', 'dataset/a041_kp/S007C002P017R002A041_rgb_kp.json', 'dataset/a041_kp/S006C003P017R001A041_rgb_kp.json', 'dataset/a041_kp/S007C003P026R002A041_rgb_kp.json', 'dataset/a041_kp/S015C003P015R001A041_rgb_kp.json', 'dataset/a041_kp/S014C001P017R002A041_rgb_kp.json', 'dataset/a041_kp/S013C003P027R002A041_rgb_kp.json', 'dataset/a041_kp/S011C002P028R002A041_rgb_kp.json', 'dataset/a041_kp/S016C001P040R002A041_rgb_kp.json', 'dataset/a041_kp/S017C001P003R001A041_rgb_kp.json', 'dataset/a041_kp/S006C003P007R001A041_rgb_kp.json', 'dataset/a041_kp/S016C002P040R002A041_rgb_kp.json', 'dataset/a041_kp/S001C003P008R001A041_rgb_kp.json', 'dataset/a041_kp/S010C003P013R002A041_rgb_kp.json', 'dataset/a041_kp/S009C001P025R001A041_rgb_kp.json', 'dataset/a041_kp/S006C001P023R001A041_rgb_kp.json', 'dataset/a041_kp/S007C001P018R001A041_rgb_kp.json', 'dataset/a041_kp/S003C003P007R002A041_rgb_kp.json', 'dataset/a041_kp/S005C002P021R001A041_rgb_kp.json', 'dataset/a041_kp/S008C001P033R002A041_rgb_kp.json', 'dataset/a041_kp/S011C002P027R001A041_rgb_kp.json', 'dataset/a041_kp/S006C003P001R002A041_rgb_kp.json', 'dataset/a041_kp/S016C002P007R001A041_rgb_kp.json', 'dataset/a041_kp/S001C001P008R002A041_rgb_kp.json', 'dataset/a041_kp/S005C003P015R002A041_rgb_kp.json', 'dataset/a041_kp/S006C001P007R002A041_rgb_kp.json', 'dataset/a041_kp/S011C002P016R001A041_rgb_kp.json', 'dataset/a041_kp/S007C003P018R001A041_rgb_kp.json', 'dataset/a041_kp/S001C001P004R001A041_rgb_kp.json', 'dataset/a041_kp/S017C001P020R002A041_rgb_kp.json', 'dataset/a041_kp/S006C002P023R001A041_rgb_kp.json', 'dataset/a041_kp/S008C001P030R002A041_rgb_kp.json', 'dataset/a041_kp/S002C002P007R001A041_rgb_kp.json', 'dataset/a041_kp/S015C002P037R001A041_rgb_kp.json', 'dataset/a041_kp/S007C002P027R001A041_rgb_kp.json', 'dataset/a041_kp/S007C002P026R002A041_rgb_kp.json', 'dataset/a041_kp/S013C002P028R002A041_rgb_kp.json', 'dataset/a041_kp/S011C002P007R001A041_rgb_kp.json', 'dataset/a041_kp/S014C001P039R001A041_rgb_kp.json', 'dataset/a041_kp/S003C001P015R001A041_rgb_kp.json', 'dataset/a041_kp/S012C001P025R001A041_rgb_kp.json', 'dataset/a041_kp/S001C003P001R002A041_rgb_kp.json', 'dataset/a041_kp/S005C001P010R001A041_rgb_kp.json', 'dataset/a041_kp/S007C003P017R001A041_rgb_kp.json', 'dataset/a010_kp/S007C002P015R001A010_rgb_kp.json', 'dataset/a010_kp/S005C003P021R001A010_rgb_kp.json', 'dataset/a010_kp/S004C001P008R001A010_rgb_kp.json', 'dataset/a010_kp/S003C003P016R001A010_rgb_kp.json', 'dataset/a010_kp/S016C001P007R001A010_rgb_kp.json', 'dataset/a010_kp/S001C001P005R001A010_rgb_kp.json', 'dataset/a010_kp/S003C001P016R002A010_rgb_kp.json', 'dataset/a010_kp/S006C001P017R001A010_rgb_kp.json', 'dataset/a010_kp/S013C002P008R001A010_rgb_kp.json', 'dataset/a010_kp/S007C001P017R001A010_rgb_kp.json', 'dataset/a010_kp/S009C002P008R002A010_rgb_kp.json', 'dataset/a010_kp/S014C003P015R002A010_rgb_kp.json', 'dataset/a010_kp/S006C003P024R001A010_rgb_kp.json', 'dataset/a010_kp/S001C001P003R002A010_rgb_kp.json', 'dataset/a010_kp/S002C003P013R002A010_rgb_kp.json', 'dataset/a010_kp/S013C001P018R001A010_rgb_kp.json', 'dataset/a010_kp/S007C003P027R001A010_rgb_kp.json', 'dataset/a010_kp/S011C002P028R002A010_rgb_kp.json', 'dataset/a010_kp/S008C001P015R001A010_rgb_kp.json', 'dataset/a010_kp/S005C001P017R002A010_rgb_kp.json', 'dataset/a010_kp/S007C003P001R001A010_rgb_kp.json', 'dataset/a010_kp/S002C003P011R002A010_rgb_kp.json', 'dataset/a010_kp/S001C003P006R002A010_rgb_kp.json', 'dataset/a010_kp/S010C003P017R001A010_rgb_kp.json', 'dataset/a010_kp/S007C002P027R002A010_rgb_kp.json', 'dataset/a010_kp/S001C003P004R001A010_rgb_kp.json', 'dataset/a010_kp/S010C002P013R002A010_rgb_kp.json', 'dataset/a010_kp/S006C003P017R001A010_rgb_kp.json', 'dataset/a010_kp/S009C001P008R001A010_rgb_kp.json', 'dataset/a010_kp/S011C001P016R001A010_rgb_kp.json', 'dataset/a010_kp/S016C002P039R001A010_rgb_kp.json', 'dataset/a010_kp/S012C002P015R001A010_rgb_kp.json', 'dataset/a010_kp/S001C001P007R001A010_rgb_kp.json', 'dataset/a010_kp/S014C003P008R001A010_rgb_kp.json', 'dataset/a010_kp/S001C003P007R001A010_rgb_kp.json', 'dataset/a010_kp/S003C002P018R002A010_rgb_kp.json', 'dataset/a010_kp/S001C003P002R002A010_rgb_kp.json', 'dataset/a010_kp/S012C002P008R002A010_rgb_kp.json', 'dataset/a010_kp/S012C001P019R001A010_rgb_kp.json', 'dataset/a010_kp/S014C003P017R001A010_rgb_kp.json', 'dataset/a010_kp/S011C002P027R002A010_rgb_kp.json', 'dataset/a010_kp/S017C001P015R001A010_rgb_kp.json', 'dataset/a010_kp/S012C003P037R002A010_rgb_kp.json', 'dataset/a010_kp/S012C001P019R002A010_rgb_kp.json', 'dataset/a010_kp/S011C002P007R001A010_rgb_kp.json', 'dataset/a010_kp/S008C001P036R002A010_rgb_kp.json', 'dataset/a010_kp/S011C001P019R001A010_rgb_kp.json', 'dataset/a010_kp/S004C001P008R002A010_rgb_kp.json', 'dataset/a010_kp/S002C002P003R002A010_rgb_kp.json', 'dataset/a010_kp/S008C001P033R002A010_rgb_kp.json', 'dataset/a010_kp/S008C003P035R002A010_rgb_kp.json', 'dataset/a010_kp/S003C003P018R001A010_rgb_kp.json', 'dataset/a010_kp/S001C001P006R001A010_rgb_kp.json', 'dataset/a010_kp/S013C003P027R001A010_rgb_kp.json', 'dataset/a010_kp/S011C001P007R001A010_rgb_kp.json', 'dataset/a010_kp/S006C002P023R002A010_rgb_kp.json', 'dataset/a010_kp/S003C003P007R002A010_rgb_kp.json', 'dataset/a010_kp/S002C001P010R001A010_rgb_kp.json', 'dataset/a010_kp/S007C001P016R001A010_rgb_kp.json', 'dataset/a010_kp/S003C003P001R002A010_rgb_kp.json', 'dataset/a010_kp/S006C001P019R001A010_rgb_kp.json', 'dataset/a010_kp/S003C003P001R001A010_rgb_kp.json', 'dataset/a010_kp/S011C001P018R002A010_rgb_kp.json', 'dataset/a010_kp/S014C003P039R001A010_rgb_kp.json', 'dataset/a010_kp/S010C003P008R002A010_rgb_kp.json', 'dataset/a010_kp/S001C001P005R002A010_rgb_kp.json', 'dataset/a010_kp/S015C002P019R001A010_rgb_kp.json', 'dataset/a010_kp/S012C003P017R002A010_rgb_kp.json', 'dataset/a010_kp/S012C002P018R001A010_rgb_kp.json', 'dataset/a010_kp/S008C001P031R001A010_rgb_kp.json', 'dataset/a010_kp/S015C003P008R002A010_rgb_kp.json', 'dataset/a010_kp/S011C003P002R002A010_rgb_kp.json', 'dataset/a010_kp/S006C002P008R001A010_rgb_kp.json', 'dataset/a010_kp/S005C003P004R002A010_rgb_kp.json', 'dataset/a010_kp/S009C002P007R001A010_rgb_kp.json', 'dataset/a010_kp/S008C003P034R002A010_rgb_kp.json', 'dataset/a010_kp/S012C001P007R001A010_rgb_kp.json', 'dataset/a010_kp/S001C001P001R002A010_rgb_kp.json', 'dataset/a010_kp/S006C002P019R001A010_rgb_kp.json', 'dataset/a010_kp/S013C002P017R001A010_rgb_kp.json', 'dataset/a010_kp/S008C003P036R001A010_rgb_kp.json', 'dataset/a010_kp/S001C003P001R001A010_rgb_kp.json', 'dataset/a010_kp/S012C002P018R002A010_rgb_kp.json', 'dataset/a010_kp/S007C003P017R002A010_rgb_kp.json', 'dataset/a010_kp/S013C003P018R002A010_rgb_kp.json', 'dataset/a010_kp/S016C003P040R001A010_rgb_kp.json', 'dataset/a010_kp/S001C002P008R002A010_rgb_kp.json', 'dataset/a010_kp/S017C001P017R002A010_rgb_kp.json', 'dataset/a010_kp/S011C003P018R001A010_rgb_kp.json', 'dataset/a010_kp/S001C002P005R002A010_rgb_kp.json', 'dataset/a010_kp/S014C002P019R002A010_rgb_kp.json', 'dataset/a010_kp/S016C001P021R001A010_rgb_kp.json', 'dataset/a010_kp/S007C002P016R002A010_rgb_kp.json', 'dataset/a010_kp/S009C003P016R002A010_rgb_kp.json', 'dataset/a010_kp/S014C001P017R001A010_rgb_kp.json', 'dataset/a010_kp/S014C001P037R002A010_rgb_kp.json', 'dataset/a010_kp/S006C001P024R001A010_rgb_kp.json', 'dataset/a010_kp/S010C003P008R001A010_rgb_kp.json', 'dataset/a010_kp/S012C001P027R002A010_rgb_kp.json', 'dataset/a010_kp/S012C001P027R001A010_rgb_kp.json', 'dataset/a067_kp/S027C002P086R002A067_rgb_kp.json', 'dataset/a067_kp/S023C003P067R001A067_rgb_kp.json', 'dataset/a067_kp/S029C002P075R002A067_rgb_kp.json', 'dataset/a067_kp/S024C003P057R001A067_rgb_kp.json', 'dataset/a067_kp/S021C002P058R002A067_rgb_kp.json', 'dataset/a067_kp/S030C003P096R002A067_rgb_kp.json', 'dataset/a067_kp/S030C003P092R001A067_rgb_kp.json', 'dataset/a067_kp/S028C002P046R001A067_rgb_kp.json', 'dataset/a067_kp/S032C003P043R002A067_rgb_kp.json', 'dataset/a067_kp/S020C002P041R002A067_rgb_kp.json', 'dataset/a067_kp/S018C002P041R001A067_rgb_kp.json', 'dataset/a067_kp/S023C003P068R002A067_rgb_kp.json', 'dataset/a067_kp/S020C002P054R002A067_rgb_kp.json', 'dataset/a067_kp/S026C003P072R002A067_rgb_kp.json', 'dataset/a067_kp/S030C002P081R002A067_rgb_kp.json', 'dataset/a067_kp/S032C002P105R002A067_rgb_kp.json', 'dataset/a067_kp/S025C003P065R001A067_rgb_kp.json', 'dataset/a067_kp/S031C001P082R002A067_rgb_kp.json', 'dataset/a067_kp/S027C002P081R002A067_rgb_kp.json', 'dataset/a067_kp/S024C002P061R001A067_rgb_kp.json', 'dataset/a067_kp/S031C002P098R002A067_rgb_kp.json', 'dataset/a067_kp/S022C002P066R002A067_rgb_kp.json', 'dataset/a067_kp/S028C003P043R001A067_rgb_kp.json', 'dataset/a067_kp/S025C002P066R001A067_rgb_kp.json', 'dataset/a067_kp/S030C002P067R002A067_rgb_kp.json', 'dataset/a067_kp/S023C001P061R002A067_rgb_kp.json', 'dataset/a067_kp/S027C001P043R002A067_rgb_kp.json', 'dataset/a067_kp/S025C003P065R002A067_rgb_kp.json', 'dataset/a067_kp/S028C002P046R002A067_rgb_kp.json', 'dataset/a067_kp/S026C001P049R001A067_rgb_kp.json', 'dataset/a067_kp/S026C002P041R002A067_rgb_kp.json', 'dataset/a067_kp/S031C003P006R001A067_rgb_kp.json', 'dataset/a067_kp/S030C003P048R002A067_rgb_kp.json', 'dataset/a067_kp/S020C002P053R002A067_rgb_kp.json', 'dataset/a067_kp/S022C003P062R002A067_rgb_kp.json', 'dataset/a067_kp/S029C001P067R001A067_rgb_kp.json', 'dataset/a067_kp/S029C002P080R002A067_rgb_kp.json', 'dataset/a067_kp/S027C003P081R001A067_rgb_kp.json', 'dataset/a067_kp/S022C002P062R001A067_rgb_kp.json', 'dataset/a067_kp/S027C001P011R002A067_rgb_kp.json', 'dataset/a067_kp/S026C002P070R001A067_rgb_kp.json', 'dataset/a067_kp/S025C002P065R002A067_rgb_kp.json', 'dataset/a067_kp/S019C003P048R001A067_rgb_kp.json', 'dataset/a067_kp/S027C001P006R002A067_rgb_kp.json', 'dataset/a067_kp/S026C003P050R001A067_rgb_kp.json', 'dataset/a067_kp/S030C003P044R001A067_rgb_kp.json', 'dataset/a067_kp/S032C001P044R001A067_rgb_kp.json', 'dataset/a067_kp/S026C002P072R002A067_rgb_kp.json', 'dataset/a067_kp/S023C001P062R002A067_rgb_kp.json', 'dataset/a067_kp/S023C001P065R001A067_rgb_kp.json', 'dataset/a067_kp/S029C003P074R001A067_rgb_kp.json', 'dataset/a067_kp/S028C002P087R001A067_rgb_kp.json', 'dataset/a067_kp/S021C003P056R001A067_rgb_kp.json', 'dataset/a067_kp/S022C003P067R002A067_rgb_kp.json', 'dataset/a067_kp/S019C002P047R001A067_rgb_kp.json', 'dataset/a067_kp/S031C001P041R001A067_rgb_kp.json', 'dataset/a067_kp/S020C002P052R001A067_rgb_kp.json', 'dataset/a067_kp/S030C002P008R002A067_rgb_kp.json', 'dataset/a067_kp/S024C003P061R001A067_rgb_kp.json', 'dataset/a067_kp/S027C003P085R001A067_rgb_kp.json', 'dataset/a067_kp/S032C003P067R002A067_rgb_kp.json', 'dataset/a067_kp/S021C001P055R002A067_rgb_kp.json', 'dataset/a067_kp/S030C003P048R001A067_rgb_kp.json', 'dataset/a067_kp/S030C002P095R002A067_rgb_kp.json', 'dataset/a067_kp/S026C001P041R002A067_rgb_kp.json', 'dataset/a067_kp/S029C003P006R001A067_rgb_kp.json', 'dataset/a067_kp/S028C001P043R002A067_rgb_kp.json', 'dataset/a067_kp/S023C003P058R002A067_rgb_kp.json', 'dataset/a067_kp/S023C003P056R002A067_rgb_kp.json', 'dataset/a067_kp/S029C001P088R002A067_rgb_kp.json', 'dataset/a067_kp/S029C001P051R001A067_rgb_kp.json', 'dataset/a067_kp/S030C001P008R002A067_rgb_kp.json', 'dataset/a067_kp/S020C003P053R002A067_rgb_kp.json', 'dataset/a067_kp/S021C003P059R002A067_rgb_kp.json', 'dataset/a067_kp/S030C003P085R002A067_rgb_kp.json', 'dataset/a067_kp/S027C003P081R002A067_rgb_kp.json', 'dataset/a067_kp/S031C003P097R002A067_rgb_kp.json', 'dataset/a067_kp/S029C001P006R002A067_rgb_kp.json', 'dataset/a067_kp/S026C002P050R001A067_rgb_kp.json', 'dataset/a067_kp/S023C002P063R001A067_rgb_kp.json', 'dataset/a067_kp/S028C001P070R001A067_rgb_kp.json', 'dataset/a067_kp/S031C003P051R001A067_rgb_kp.json', 'dataset/a067_kp/S030C002P096R002A067_rgb_kp.json', 'dataset/a067_kp/S031C001P051R002A067_rgb_kp.json', 'dataset/a067_kp/S024C003P064R001A067_rgb_kp.json', 'dataset/a067_kp/S025C001P066R002A067_rgb_kp.json', 'dataset/a067_kp/S026C002P049R002A067_rgb_kp.json', 'dataset/a067_kp/S020C002P043R001A067_rgb_kp.json', 'dataset/a067_kp/S018C001P042R002A067_rgb_kp.json', 'dataset/a067_kp/S030C001P095R002A067_rgb_kp.json', 'dataset/a067_kp/S019C001P008R001A067_rgb_kp.json', 'dataset/a067_kp/S019C002P041R001A067_rgb_kp.json', 'dataset/a067_kp/S031C003P041R002A067_rgb_kp.json', 'dataset/a067_kp/S019C001P048R002A067_rgb_kp.json', 'dataset/a067_kp/S031C002P082R001A067_rgb_kp.json', 'dataset/a067_kp/S032C002P043R002A067_rgb_kp.json', 'dataset/a067_kp/S022C003P061R001A067_rgb_kp.json', 'dataset/a067_kp/S025C002P068R001A067_rgb_kp.json', 'dataset/a067_kp/S024C001P062R001A067_rgb_kp.json', 'dataset/a067_kp/S029C002P008R001A067_rgb_kp.json', 'dataset/a030_kp/S017C002P009R002A030_rgb_kp.json', 'dataset/a030_kp/S007C001P027R002A030_rgb_kp.json', 'dataset/a030_kp/S016C003P040R002A030_rgb_kp.json', 'dataset/a030_kp/S001C003P004R001A030_rgb_kp.json', 'dataset/a030_kp/S012C003P019R001A030_rgb_kp.json', 'dataset/a030_kp/S007C001P017R001A030_rgb_kp.json', 'dataset/a030_kp/S005C002P016R001A030_rgb_kp.json', 'dataset/a030_kp/S010C001P021R001A030_rgb_kp.json', 'dataset/a030_kp/S007C001P025R002A030_rgb_kp.json', 'dataset/a030_kp/S013C002P027R002A030_rgb_kp.json', 'dataset/a030_kp/S012C003P028R001A030_rgb_kp.json', 'dataset/a030_kp/S005C002P013R002A030_rgb_kp.json', 'dataset/a030_kp/S005C003P017R002A030_rgb_kp.json', 'dataset/a030_kp/S007C002P017R002A030_rgb_kp.json', 'dataset/a030_kp/S012C001P008R002A030_rgb_kp.json', 'dataset/a030_kp/S008C001P031R001A030_rgb_kp.json', 'dataset/a030_kp/S002C001P012R002A030_rgb_kp.json', 'dataset/a030_kp/S007C003P017R001A030_rgb_kp.json', 'dataset/a030_kp/S010C001P017R002A030_rgb_kp.json', 'dataset/a030_kp/S016C003P040R001A030_rgb_kp.json', 'dataset/a030_kp/S001C002P006R002A030_rgb_kp.json', 'dataset/a030_kp/S011C003P001R002A030_rgb_kp.json', 'dataset/a030_kp/S008C001P007R002A030_rgb_kp.json', 'dataset/a030_kp/S013C001P018R002A030_rgb_kp.json', 'dataset/a030_kp/S004C003P003R002A030_rgb_kp.json', 'dataset/a030_kp/S017C001P017R002A030_rgb_kp.json', 'dataset/a030_kp/S012C002P007R002A030_rgb_kp.json', 'dataset/a030_kp/S014C001P027R002A030_rgb_kp.json', 'dataset/a030_kp/S007C001P001R002A030_rgb_kp.json', 'dataset/a030_kp/S014C001P007R002A030_rgb_kp.json', 'dataset/a030_kp/S011C001P025R001A030_rgb_kp.json', 'dataset/a030_kp/S013C002P007R001A030_rgb_kp.json', 'dataset/a030_kp/S002C002P009R002A030_rgb_kp.json', 'dataset/a030_kp/S007C002P001R001A030_rgb_kp.json', 'dataset/a030_kp/S008C003P034R002A030_rgb_kp.json', 'dataset/a030_kp/S012C002P025R001A030_rgb_kp.json', 'dataset/a030_kp/S015C003P037R001A030_rgb_kp.json', 'dataset/a030_kp/S008C001P031R002A030_rgb_kp.json', 'dataset/a030_kp/S014C003P039R001A030_rgb_kp.json', 'dataset/a030_kp/S002C002P010R002A030_rgb_kp.json', 'dataset/a030_kp/S008C002P029R002A030_rgb_kp.json', 'dataset/a030_kp/S012C003P037R002A030_rgb_kp.json', 'dataset/a030_kp/S017C001P008R002A030_rgb_kp.json', 'dataset/a030_kp/S007C001P018R001A030_rgb_kp.json', 'dataset/a030_kp/S004C001P003R001A030_rgb_kp.json', 'dataset/a030_kp/S002C002P009R001A030_rgb_kp.json', 'dataset/a030_kp/S013C002P016R001A030_rgb_kp.json', 'dataset/a030_kp/S012C002P015R001A030_rgb_kp.json', 'dataset/a030_kp/S014C002P037R002A030_rgb_kp.json', 'dataset/a030_kp/S010C002P018R001A030_rgb_kp.json', 'dataset/a030_kp/S006C003P024R002A030_rgb_kp.json', 'dataset/a030_kp/S013C002P017R001A030_rgb_kp.json', 'dataset/a030_kp/S011C003P002R002A030_rgb_kp.json', 'dataset/a030_kp/S005C001P010R001A030_rgb_kp.json', 'dataset/a030_kp/S007C003P017R002A030_rgb_kp.json', 'dataset/a030_kp/S014C003P027R002A030_rgb_kp.json', 'dataset/a030_kp/S003C001P001R002A030_rgb_kp.json', 'dataset/a030_kp/S013C001P028R001A030_rgb_kp.json', 'dataset/a030_kp/S016C001P007R002A030_rgb_kp.json', 'dataset/a030_kp/S017C001P016R002A030_rgb_kp.json', 'dataset/a030_kp/S006C002P022R002A030_rgb_kp.json', 'dataset/a030_kp/S012C003P025R002A030_rgb_kp.json', 'dataset/a030_kp/S008C003P019R001A030_rgb_kp.json', 'dataset/a030_kp/S008C002P025R001A030_rgb_kp.json', 'dataset/a030_kp/S015C001P025R002A030_rgb_kp.json', 'dataset/a030_kp/S013C003P008R001A030_rgb_kp.json', 'dataset/a030_kp/S006C002P023R002A030_rgb_kp.json', 'dataset/a030_kp/S014C001P025R001A030_rgb_kp.json', 'dataset/a030_kp/S003C002P008R002A030_rgb_kp.json', 'dataset/a030_kp/S006C003P023R002A030_rgb_kp.json', 'dataset/a030_kp/S004C002P003R002A030_rgb_kp.json', 'dataset/a030_kp/S004C003P008R002A030_rgb_kp.json', 'dataset/a030_kp/S006C001P024R002A030_rgb_kp.json', 'dataset/a030_kp/S001C001P005R001A030_rgb_kp.json', 'dataset/a030_kp/S008C003P031R002A030_rgb_kp.json', 'dataset/a030_kp/S005C001P021R001A030_rgb_kp.json', 'dataset/a030_kp/S002C001P012R001A030_rgb_kp.json', 'dataset/a030_kp/S011C003P015R002A030_rgb_kp.json', 'dataset/a030_kp/S001C003P003R002A030_rgb_kp.json', 'dataset/a030_kp/S011C003P018R001A030_rgb_kp.json', 'dataset/a030_kp/S008C003P008R002A030_rgb_kp.json', 'dataset/a030_kp/S017C002P007R002A030_rgb_kp.json', 'dataset/a030_kp/S015C003P008R001A030_rgb_kp.json', 'dataset/a030_kp/S001C003P002R002A030_rgb_kp.json', 'dataset/a030_kp/S016C002P019R001A030_rgb_kp.json', 'dataset/a030_kp/S006C003P023R001A030_rgb_kp.json', 'dataset/a030_kp/S017C001P008R001A030_rgb_kp.json', 'dataset/a030_kp/S014C002P017R001A030_rgb_kp.json', 'dataset/a030_kp/S003C002P002R002A030_rgb_kp.json', 'dataset/a030_kp/S016C001P021R001A030_rgb_kp.json', 'dataset/a030_kp/S008C001P019R001A030_rgb_kp.json', 'dataset/a030_kp/S012C003P018R001A030_rgb_kp.json', 'dataset/a030_kp/S005C002P018R002A030_rgb_kp.json', 'dataset/a030_kp/S013C001P017R001A030_rgb_kp.json', 'dataset/a030_kp/S010C002P008R001A030_rgb_kp.json', 'dataset/a030_kp/S006C003P015R001A030_rgb_kp.json', 'dataset/a030_kp/S011C003P002R001A030_rgb_kp.json', 'dataset/a030_kp/S014C001P037R001A030_rgb_kp.json', 'dataset/a030_kp/S016C002P007R001A030_rgb_kp.json', 'dataset/a030_kp/S015C001P007R001A030_rgb_kp.json', 'dataset/a032_kp/S012C001P019R001A032_rgb_kp.json', 'dataset/a032_kp/S008C002P034R002A032_rgb_kp.json', 'dataset/a032_kp/S012C003P028R001A032_rgb_kp.json', 'dataset/a032_kp/S014C001P025R001A032_rgb_kp.json', 'dataset/a032_kp/S011C002P028R002A032_rgb_kp.json', 'dataset/a032_kp/S014C002P007R001A032_rgb_kp.json', 'dataset/a032_kp/S001C003P001R002A032_rgb_kp.json', 'dataset/a032_kp/S007C002P019R002A032_rgb_kp.json', 'dataset/a032_kp/S013C003P015R001A032_rgb_kp.json', 'dataset/a032_kp/S005C001P016R001A032_rgb_kp.json', 'dataset/a032_kp/S013C002P016R002A032_rgb_kp.json', 'dataset/a032_kp/S007C002P001R001A032_rgb_kp.json', 'dataset/a032_kp/S007C003P019R001A032_rgb_kp.json', 'dataset/a032_kp/S015C003P019R001A032_rgb_kp.json', 'dataset/a032_kp/S014C003P019R001A032_rgb_kp.json', 'dataset/a032_kp/S015C002P025R001A032_rgb_kp.json', 'dataset/a032_kp/S012C002P008R002A032_rgb_kp.json', 'dataset/a032_kp/S003C002P001R002A032_rgb_kp.json', 'dataset/a032_kp/S011C003P015R002A032_rgb_kp.json', 'dataset/a032_kp/S009C003P008R002A032_rgb_kp.json', 'dataset/a032_kp/S003C003P015R002A032_rgb_kp.json', 'dataset/a032_kp/S010C001P025R001A032_rgb_kp.json', 'dataset/a032_kp/S006C003P023R002A032_rgb_kp.json', 'dataset/a032_kp/S002C002P014R002A032_rgb_kp.json', 'dataset/a032_kp/S008C002P035R002A032_rgb_kp.json', 'dataset/a032_kp/S008C002P031R002A032_rgb_kp.json', 'dataset/a032_kp/S005C002P010R002A032_rgb_kp.json', 'dataset/a032_kp/S005C003P016R002A032_rgb_kp.json', 'dataset/a032_kp/S014C003P037R001A032_rgb_kp.json', 'dataset/a032_kp/S016C002P007R001A032_rgb_kp.json', 'dataset/a032_kp/S004C003P020R001A032_rgb_kp.json', 'dataset/a032_kp/S003C001P008R002A032_rgb_kp.json', 'dataset/a032_kp/S011C002P007R002A032_rgb_kp.json', 'dataset/a032_kp/S010C001P007R002A032_rgb_kp.json', 'dataset/a032_kp/S006C003P022R002A032_rgb_kp.json', 'dataset/a032_kp/S014C003P025R002A032_rgb_kp.json', 'dataset/a032_kp/S012C002P037R002A032_rgb_kp.json', 'dataset/a032_kp/S005C003P021R001A032_rgb_kp.json', 'dataset/a032_kp/S008C001P001R001A032_rgb_kp.json', 'dataset/a032_kp/S007C002P015R001A032_rgb_kp.json', 'dataset/a032_kp/S010C001P021R002A032_rgb_kp.json', 'dataset/a032_kp/S013C001P025R001A032_rgb_kp.json', 'dataset/a032_kp/S016C002P007R002A032_rgb_kp.json', 'dataset/a032_kp/S001C003P006R002A032_rgb_kp.json', 'dataset/a032_kp/S016C003P019R002A032_rgb_kp.json', 'dataset/a032_kp/S006C001P022R002A032_rgb_kp.json', 'dataset/a032_kp/S007C002P018R001A032_rgb_kp.json', 'dataset/a032_kp/S006C001P023R002A032_rgb_kp.json', 'dataset/a032_kp/S009C001P017R001A032_rgb_kp.json', 'dataset/a032_kp/S011C002P027R001A032_rgb_kp.json', 'dataset/a032_kp/S012C002P015R002A032_rgb_kp.json', 'dataset/a032_kp/S002C002P003R001A032_rgb_kp.json', 'dataset/a032_kp/S004C003P007R002A032_rgb_kp.json', 'dataset/a032_kp/S011C002P002R001A032_rgb_kp.json', 'dataset/a032_kp/S001C001P008R001A032_rgb_kp.json', 'dataset/a032_kp/S010C001P018R001A032_rgb_kp.json', 'dataset/a032_kp/S003C003P019R001A032_rgb_kp.json', 'dataset/a032_kp/S005C001P015R002A032_rgb_kp.json', 'dataset/a032_kp/S017C002P017R002A032_rgb_kp.json', 'dataset/a032_kp/S012C001P007R002A032_rgb_kp.json', 'dataset/a032_kp/S017C002P009R001A032_rgb_kp.json', 'dataset/a032_kp/S002C003P010R002A032_rgb_kp.json', 'dataset/a032_kp/S013C003P017R001A032_rgb_kp.json', 'dataset/a032_kp/S010C002P015R002A032_rgb_kp.json', 'dataset/a032_kp/S010C003P021R001A032_rgb_kp.json', 'dataset/a032_kp/S010C002P013R002A032_rgb_kp.json', 'dataset/a032_kp/S007C003P017R002A032_rgb_kp.json', 'dataset/a032_kp/S014C001P037R002A032_rgb_kp.json', 'dataset/a032_kp/S010C001P015R002A032_rgb_kp.json', 'dataset/a032_kp/S010C001P021R001A032_rgb_kp.json', 'dataset/a032_kp/S013C003P015R002A032_rgb_kp.json', 'dataset/a032_kp/S007C002P026R001A032_rgb_kp.json', 'dataset/a032_kp/S008C003P033R001A032_rgb_kp.json', 'dataset/a032_kp/S003C002P017R001A032_rgb_kp.json', 'dataset/a032_kp/S008C001P008R001A032_rgb_kp.json', 'dataset/a032_kp/S013C003P017R002A032_rgb_kp.json', 'dataset/a032_kp/S008C003P034R001A032_rgb_kp.json', 'dataset/a032_kp/S017C003P017R002A032_rgb_kp.json', 'dataset/a032_kp/S001C001P007R002A032_rgb_kp.json', 'dataset/a032_kp/S009C002P007R002A032_rgb_kp.json', 'dataset/a032_kp/S017C001P009R002A032_rgb_kp.json', 'dataset/a032_kp/S007C001P019R002A032_rgb_kp.json', 'dataset/a032_kp/S003C001P001R002A032_rgb_kp.json', 'dataset/a032_kp/S014C001P015R001A032_rgb_kp.json', 'dataset/a032_kp/S008C003P015R002A032_rgb_kp.json', 'dataset/a032_kp/S007C002P007R001A032_rgb_kp.json', 'dataset/a032_kp/S011C003P016R001A032_rgb_kp.json', 'dataset/a032_kp/S005C002P004R002A032_rgb_kp.json', 'dataset/a032_kp/S007C002P018R002A032_rgb_kp.json', 'dataset/a032_kp/S007C002P008R001A032_rgb_kp.json', 'dataset/a032_kp/S004C001P008R001A032_rgb_kp.json', 'dataset/a032_kp/S011C001P008R002A032_rgb_kp.json', 'dataset/a032_kp/S013C001P008R002A032_rgb_kp.json', 'dataset/a032_kp/S002C001P013R002A032_rgb_kp.json', 'dataset/a032_kp/S007C003P015R002A032_rgb_kp.json', 'dataset/a032_kp/S006C003P024R001A032_rgb_kp.json', 'dataset/a032_kp/S008C003P029R002A032_rgb_kp.json', 'dataset/a032_kp/S014C003P017R001A032_rgb_kp.json', 'dataset/a032_kp/S007C003P028R001A032_rgb_kp.json', 'dataset/a032_kp/S012C001P016R001A032_rgb_kp.json', 'dataset/a085_kp/S031C003P096R002A085_rgb_kp.json', 'dataset/a085_kp/S021C002P057R002A085_rgb_kp.json', 'dataset/a085_kp/S028C003P073R002A085_rgb_kp.json', 'dataset/a085_kp/S025C003P066R002A085_rgb_kp.json', 'dataset/a085_kp/S029C002P049R001A085_rgb_kp.json', 'dataset/a085_kp/S030C002P008R002A085_rgb_kp.json', 'dataset/a085_kp/S026C002P041R001A085_rgb_kp.json', 'dataset/a085_kp/S032C001P043R001A085_rgb_kp.json', 'dataset/a085_kp/S029C001P075R001A085_rgb_kp.json', 'dataset/a085_kp/S020C003P053R002A085_rgb_kp.json', 'dataset/a085_kp/S022C002P065R001A085_rgb_kp.json', 'dataset/a085_kp/S026C002P070R001A085_rgb_kp.json', 'dataset/a085_kp/S021C003P060R002A085_rgb_kp.json', 'dataset/a085_kp/S021C002P056R002A085_rgb_kp.json', 'dataset/a085_kp/S025C002P066R001A085_rgb_kp.json', 'dataset/a085_kp/S025C001P066R002A085_rgb_kp.json', 'dataset/a085_kp/S029C002P006R002A085_rgb_kp.json', 'dataset/a085_kp/S032C002P043R001A085_rgb_kp.json', 'dataset/a085_kp/S029C002P090R002A085_rgb_kp.json', 'dataset/a085_kp/S032C001P008R001A085_rgb_kp.json', 'dataset/a085_kp/S027C002P041R002A085_rgb_kp.json', 'dataset/a085_kp/S031C001P100R001A085_rgb_kp.json', 'dataset/a085_kp/S020C001P052R001A085_rgb_kp.json', 'dataset/a085_kp/S021C001P060R002A085_rgb_kp.json', 'dataset/a085_kp/S029C003P043R001A085_rgb_kp.json', 'dataset/a085_kp/S028C002P041R002A085_rgb_kp.json', 'dataset/a085_kp/S026C003P008R002A085_rgb_kp.json', 'dataset/a085_kp/S029C003P044R001A085_rgb_kp.json', 'dataset/a085_kp/S029C001P075R002A085_rgb_kp.json', 'dataset/a085_kp/S023C001P063R001A085_rgb_kp.json', 'dataset/a085_kp/S019C003P050R002A085_rgb_kp.json', 'dataset/a085_kp/S029C003P041R002A085_rgb_kp.json', 'dataset/a085_kp/S024C003P067R002A085_rgb_kp.json', 'dataset/a085_kp/S031C002P006R002A085_rgb_kp.json', 'dataset/a085_kp/S028C001P070R001A085_rgb_kp.json', 'dataset/a085_kp/S032C003P102R002A085_rgb_kp.json', 'dataset/a085_kp/S021C003P056R001A085_rgb_kp.json', 'dataset/a085_kp/S030C001P081R001A085_rgb_kp.json', 'dataset/a085_kp/S032C003P067R002A085_rgb_kp.json', 'dataset/a085_kp/S026C001P077R002A085_rgb_kp.json', 'dataset/a085_kp/S027C003P085R001A085_rgb_kp.json', 'dataset/a085_kp/S028C002P043R002A085_rgb_kp.json', 'dataset/a085_kp/S023C003P059R002A085_rgb_kp.json', 'dataset/a085_kp/S030C001P067R001A085_rgb_kp.json', 'dataset/a085_kp/S032C001P102R001A085_rgb_kp.json', 'dataset/a085_kp/S021C003P060R001A085_rgb_kp.json', 'dataset/a085_kp/S026C002P070R002A085_rgb_kp.json', 'dataset/a085_kp/S018C003P008R001A085_rgb_kp.json', 'dataset/a085_kp/S018C003P008R002A085_rgb_kp.json', 'dataset/a085_kp/S031C003P043R001A085_rgb_kp.json', 'dataset/a085_kp/S030C003P048R001A085_rgb_kp.json', 'dataset/a085_kp/S032C002P103R001A085_rgb_kp.json', 'dataset/a085_kp/S021C001P060R001A085_rgb_kp.json', 'dataset/a085_kp/S026C001P008R002A085_rgb_kp.json', 'dataset/a085_kp/S032C003P008R002A085_rgb_kp.json', 'dataset/a085_kp/S027C002P043R002A085_rgb_kp.json', 'dataset/a085_kp/S023C002P055R001A085_rgb_kp.json', 'dataset/a085_kp/S023C002P058R001A085_rgb_kp.json', 'dataset/a085_kp/S021C003P057R002A085_rgb_kp.json', 'dataset/a085_kp/S019C001P047R002A085_rgb_kp.json', 'dataset/a085_kp/S023C003P055R002A085_rgb_kp.json', 'dataset/a085_kp/S021C002P058R001A085_rgb_kp.json', 'dataset/a085_kp/S032C003P041R002A085_rgb_kp.json', 'dataset/a085_kp/S023C002P059R001A085_rgb_kp.json', 'dataset/a085_kp/S026C002P069R002A085_rgb_kp.json', 'dataset/a085_kp/S020C002P008R002A085_rgb_kp.json', 'dataset/a085_kp/S031C002P085R001A085_rgb_kp.json', 'dataset/a085_kp/S027C001P081R002A085_rgb_kp.json', 'dataset/a085_kp/S031C001P098R002A085_rgb_kp.json', 'dataset/a085_kp/S026C003P075R002A085_rgb_kp.json', 'dataset/a085_kp/S027C003P041R002A085_rgb_kp.json', 'dataset/a085_kp/S027C003P086R002A085_rgb_kp.json', 'dataset/a085_kp/S018C003P043R002A085_rgb_kp.json', 'dataset/a085_kp/S026C002P044R001A085_rgb_kp.json', 'dataset/a085_kp/S023C001P058R002A085_rgb_kp.json', 'dataset/a085_kp/S025C002P068R002A085_rgb_kp.json', 'dataset/a085_kp/S029C001P043R001A085_rgb_kp.json', 'dataset/a085_kp/S032C002P067R002A085_rgb_kp.json', 'dataset/a085_kp/S031C002P067R001A085_rgb_kp.json', 'dataset/a085_kp/S026C001P072R001A085_rgb_kp.json', 'dataset/a085_kp/S022C003P065R001A085_rgb_kp.json', 'dataset/a085_kp/S031C003P008R002A085_rgb_kp.json', 'dataset/a085_kp/S019C002P050R002A085_rgb_kp.json', 'dataset/a085_kp/S029C002P048R001A085_rgb_kp.json', 'dataset/a085_kp/S026C002P072R002A085_rgb_kp.json', 'dataset/a085_kp/S019C003P041R001A085_rgb_kp.json', 'dataset/a085_kp/S026C003P041R002A085_rgb_kp.json', 'dataset/a085_kp/S024C001P067R001A085_rgb_kp.json', 'dataset/a085_kp/S032C001P105R001A085_rgb_kp.json', 'dataset/a085_kp/S028C002P046R002A085_rgb_kp.json', 'dataset/a085_kp/S022C001P066R001A085_rgb_kp.json', 'dataset/a085_kp/S026C001P074R002A085_rgb_kp.json', 'dataset/a085_kp/S029C002P044R002A085_rgb_kp.json', 'dataset/a085_kp/S030C002P043R001A085_rgb_kp.json', 'dataset/a085_kp/S019C003P046R002A085_rgb_kp.json', 'dataset/a085_kp/S023C002P064R001A085_rgb_kp.json', 'dataset/a085_kp/S030C002P067R002A085_rgb_kp.json', 'dataset/a085_kp/S030C002P044R001A085_rgb_kp.json', 'dataset/a085_kp/S030C003P088R002A085_rgb_kp.json', 'dataset/a085_kp/S024C001P060R001A085_rgb_kp.json', 'dataset/a044_kp/S009C001P008R001A044_rgb_kp.json', 'dataset/a044_kp/S006C003P024R002A044_rgb_kp.json', 'dataset/a044_kp/S013C002P008R001A044_rgb_kp.json', 'dataset/a044_kp/S011C001P002R002A044_rgb_kp.json', 'dataset/a044_kp/S006C003P001R002A044_rgb_kp.json', 'dataset/a044_kp/S008C003P033R002A044_rgb_kp.json', 'dataset/a044_kp/S011C001P007R001A044_rgb_kp.json', 'dataset/a044_kp/S014C001P015R001A044_rgb_kp.json', 'dataset/a044_kp/S002C001P003R002A044_rgb_kp.json', 'dataset/a044_kp/S014C003P027R001A044_rgb_kp.json', 'dataset/a044_kp/S013C003P007R002A044_rgb_kp.json', 'dataset/a044_kp/S007C002P019R001A044_rgb_kp.json', 'dataset/a044_kp/S006C001P019R002A044_rgb_kp.json', 'dataset/a044_kp/S016C003P021R001A044_rgb_kp.json', 'dataset/a044_kp/S010C002P013R002A044_rgb_kp.json', 'dataset/a044_kp/S012C003P018R002A044_rgb_kp.json', 'dataset/a044_kp/S004C001P007R002A044_rgb_kp.json', 'dataset/a044_kp/S017C003P020R001A044_rgb_kp.json', 'dataset/a044_kp/S002C002P013R001A044_rgb_kp.json', 'dataset/a044_kp/S015C003P016R001A044_rgb_kp.json', 'dataset/a044_kp/S001C001P007R002A044_rgb_kp.json', 'dataset/a044_kp/S007C001P026R001A044_rgb_kp.json', 'dataset/a044_kp/S007C002P027R001A044_rgb_kp.json', 'dataset/a044_kp/S015C001P017R002A044_rgb_kp.json', 'dataset/a044_kp/S011C002P018R001A044_rgb_kp.json', 'dataset/a044_kp/S002C002P010R002A044_rgb_kp.json', 'dataset/a044_kp/S007C002P015R001A044_rgb_kp.json', 'dataset/a044_kp/S011C001P016R001A044_rgb_kp.json', 'dataset/a044_kp/S007C003P019R001A044_rgb_kp.json', 'dataset/a044_kp/S007C003P019R002A044_rgb_kp.json', 'dataset/a044_kp/S012C003P019R001A044_rgb_kp.json', 'dataset/a044_kp/S009C002P025R001A044_rgb_kp.json', 'dataset/a044_kp/S012C002P008R002A044_rgb_kp.json', 'dataset/a044_kp/S011C003P027R001A044_rgb_kp.json', 'dataset/a044_kp/S001C003P008R002A044_rgb_kp.json', 'dataset/a044_kp/S015C002P017R002A044_rgb_kp.json', 'dataset/a044_kp/S014C002P039R001A044_rgb_kp.json', 'dataset/a044_kp/S005C003P021R002A044_rgb_kp.json', 'dataset/a044_kp/S016C002P008R001A044_rgb_kp.json', 'dataset/a044_kp/S009C003P015R002A044_rgb_kp.json', 'dataset/a044_kp/S011C002P025R002A044_rgb_kp.json', 'dataset/a044_kp/S014C001P025R002A044_rgb_kp.json', 'dataset/a044_kp/S011C002P016R002A044_rgb_kp.json', 'dataset/a044_kp/S008C003P036R002A044_rgb_kp.json', 'dataset/a044_kp/S013C001P037R002A044_rgb_kp.json', 'dataset/a044_kp/S005C002P016R001A044_rgb_kp.json', 'dataset/a044_kp/S010C002P015R001A044_rgb_kp.json', 'dataset/a044_kp/S015C003P008R002A044_rgb_kp.json', 'dataset/a044_kp/S008C002P007R002A044_rgb_kp.json', 'dataset/a044_kp/S002C002P012R001A044_rgb_kp.json', 'dataset/a044_kp/S006C001P023R001A044_rgb_kp.json', 'dataset/a044_kp/S002C003P008R001A044_rgb_kp.json', 'dataset/a044_kp/S005C003P021R001A044_rgb_kp.json', 'dataset/a044_kp/S005C001P017R002A044_rgb_kp.json', 'dataset/a044_kp/S011C003P016R002A044_rgb_kp.json', 'dataset/a044_kp/S006C002P007R001A044_rgb_kp.json', 'dataset/a044_kp/S009C001P008R002A044_rgb_kp.json', 'dataset/a044_kp/S011C001P019R002A044_rgb_kp.json', 'dataset/a044_kp/S006C001P007R002A044_rgb_kp.json', 'dataset/a044_kp/S016C003P040R002A044_rgb_kp.json', 'dataset/a044_kp/S015C002P025R002A044_rgb_kp.json', 'dataset/a044_kp/S011C002P028R001A044_rgb_kp.json', 'dataset/a044_kp/S003C003P002R002A044_rgb_kp.json', 'dataset/a044_kp/S016C002P007R002A044_rgb_kp.json', 'dataset/a044_kp/S015C001P008R002A044_rgb_kp.json', 'dataset/a044_kp/S010C001P015R001A044_rgb_kp.json', 'dataset/a044_kp/S004C001P003R002A044_rgb_kp.json', 'dataset/a044_kp/S008C002P032R001A044_rgb_kp.json', 'dataset/a044_kp/S010C001P007R001A044_rgb_kp.json', 'dataset/a044_kp/S013C002P017R001A044_rgb_kp.json', 'dataset/a044_kp/S007C003P008R001A044_rgb_kp.json', 'dataset/a044_kp/S014C001P008R002A044_rgb_kp.json', 'dataset/a044_kp/S003C003P008R001A044_rgb_kp.json', 'dataset/a044_kp/S010C001P017R001A044_rgb_kp.json', 'dataset/a044_kp/S011C003P002R001A044_rgb_kp.json', 'dataset/a044_kp/S016C001P008R001A044_rgb_kp.json', 'dataset/a044_kp/S006C002P023R001A044_rgb_kp.json', 'dataset/a044_kp/S009C002P025R002A044_rgb_kp.json', 'dataset/a044_kp/S010C002P017R002A044_rgb_kp.json', 'dataset/a044_kp/S001C002P007R001A044_rgb_kp.json', 'dataset/a044_kp/S012C003P007R002A044_rgb_kp.json', 'dataset/a044_kp/S011C003P007R001A044_rgb_kp.json', 'dataset/a044_kp/S003C001P002R002A044_rgb_kp.json', 'dataset/a044_kp/S016C003P039R001A044_rgb_kp.json', 'dataset/a044_kp/S009C001P017R002A044_rgb_kp.json', 'dataset/a044_kp/S012C001P027R002A044_rgb_kp.json', 'dataset/a044_kp/S015C001P037R002A044_rgb_kp.json', 'dataset/a044_kp/S002C001P014R001A044_rgb_kp.json', 'dataset/a044_kp/S003C003P017R002A044_rgb_kp.json', 'dataset/a044_kp/S008C002P007R001A044_rgb_kp.json', 'dataset/a044_kp/S012C003P019R002A044_rgb_kp.json', 'dataset/a044_kp/S007C002P018R001A044_rgb_kp.json', 'dataset/a044_kp/S012C001P008R001A044_rgb_kp.json', 'dataset/a044_kp/S001C002P003R001A044_rgb_kp.json', 'dataset/a044_kp/S001C003P002R002A044_rgb_kp.json', 'dataset/a044_kp/S015C001P017R001A044_rgb_kp.json', 'dataset/a044_kp/S014C001P007R001A044_rgb_kp.json', 'dataset/a044_kp/S006C001P017R001A044_rgb_kp.json', 'dataset/a044_kp/S004C001P008R002A044_rgb_kp.json', 'dataset/a044_kp/S009C002P019R001A044_rgb_kp.json', 'dataset/a082_kp/S029C003P048R002A082_rgb_kp.json', 'dataset/a082_kp/S023C003P057R002A082_rgb_kp.json', 'dataset/a082_kp/S032C003P103R001A082_rgb_kp.json', 'dataset/a082_kp/S030C003P081R002A082_rgb_kp.json', 'dataset/a082_kp/S032C002P041R002A082_rgb_kp.json', 'dataset/a082_kp/S022C002P065R002A082_rgb_kp.json', 'dataset/a082_kp/S025C003P066R002A082_rgb_kp.json', 'dataset/a082_kp/S021C002P057R002A082_rgb_kp.json', 'dataset/a082_kp/S024C003P067R001A082_rgb_kp.json', 'dataset/a082_kp/S025C001P058R001A082_rgb_kp.json', 'dataset/a082_kp/S020C003P053R001A082_rgb_kp.json', 'dataset/a082_kp/S027C003P082R001A082_rgb_kp.json', 'dataset/a082_kp/S027C001P083R002A082_rgb_kp.json', 'dataset/a082_kp/S020C001P053R001A082_rgb_kp.json', 'dataset/a082_kp/S026C002P072R001A082_rgb_kp.json', 'dataset/a082_kp/S030C001P044R002A082_rgb_kp.json', 'dataset/a082_kp/S031C002P067R002A082_rgb_kp.json', 'dataset/a082_kp/S029C003P088R001A082_rgb_kp.json', 'dataset/a082_kp/S025C002P055R001A082_rgb_kp.json', 'dataset/a082_kp/S019C003P008R002A082_rgb_kp.json', 'dataset/a082_kp/S028C001P043R002A082_rgb_kp.json', 'dataset/a082_kp/S027C002P079R002A082_rgb_kp.json', 'dataset/a082_kp/S023C002P057R002A082_rgb_kp.json', 'dataset/a082_kp/S027C003P011R001A082_rgb_kp.json', 'dataset/a082_kp/S032C002P104R002A082_rgb_kp.json', 'dataset/a082_kp/S023C001P055R002A082_rgb_kp.json', 'dataset/a082_kp/S030C001P085R002A082_rgb_kp.json', 'dataset/a082_kp/S022C003P063R002A082_rgb_kp.json', 'dataset/a082_kp/S031C001P098R002A082_rgb_kp.json', 'dataset/a082_kp/S031C003P096R002A082_rgb_kp.json', 'dataset/a082_kp/S018C002P045R001A082_rgb_kp.json', 'dataset/a082_kp/S025C003P059R001A082_rgb_kp.json', 'dataset/a082_kp/S019C001P048R001A082_rgb_kp.json', 'dataset/a082_kp/S030C001P088R001A082_rgb_kp.json', 'dataset/a082_kp/S024C001P062R001A082_rgb_kp.json', 'dataset/a082_kp/S023C001P056R002A082_rgb_kp.json', 'dataset/a082_kp/S025C002P058R001A082_rgb_kp.json', 'dataset/a082_kp/S026C001P069R001A082_rgb_kp.json', 'dataset/a082_kp/S025C002P059R001A082_rgb_kp.json', 'dataset/a082_kp/S031C001P044R001A082_rgb_kp.json', 'dataset/a082_kp/S031C003P051R002A082_rgb_kp.json', 'dataset/a082_kp/S030C002P044R001A082_rgb_kp.json', 'dataset/a082_kp/S027C002P082R001A082_rgb_kp.json', 'dataset/a082_kp/S025C003P055R002A082_rgb_kp.json', 'dataset/a082_kp/S030C003P085R002A082_rgb_kp.json', 'dataset/a082_kp/S026C001P075R002A082_rgb_kp.json', 'dataset/a082_kp/S031C003P067R002A082_rgb_kp.json', 'dataset/a082_kp/S026C002P044R002A082_rgb_kp.json', 'dataset/a082_kp/S030C001P096R001A082_rgb_kp.json', 'dataset/a082_kp/S029C001P049R001A082_rgb_kp.json', 'dataset/a082_kp/S030C003P096R001A082_rgb_kp.json', 'dataset/a082_kp/S019C003P042R001A082_rgb_kp.json', 'dataset/a082_kp/S020C001P043R001A082_rgb_kp.json', 'dataset/a082_kp/S026C001P050R002A082_rgb_kp.json', 'dataset/a082_kp/S028C001P070R002A082_rgb_kp.json', 'dataset/a082_kp/S028C003P042R002A082_rgb_kp.json', 'dataset/a082_kp/S027C002P084R002A082_rgb_kp.json', 'dataset/a082_kp/S030C001P044R001A082_rgb_kp.json', 'dataset/a082_kp/S031C001P041R001A082_rgb_kp.json', 'dataset/a082_kp/S021C002P060R002A082_rgb_kp.json', 'dataset/a082_kp/S025C003P065R001A082_rgb_kp.json', 'dataset/a082_kp/S029C001P074R001A082_rgb_kp.json', 'dataset/a082_kp/S029C001P089R001A082_rgb_kp.json', 'dataset/a082_kp/S022C003P064R001A082_rgb_kp.json', 'dataset/a082_kp/S019C003P049R001A082_rgb_kp.json', 'dataset/a082_kp/S025C002P059R002A082_rgb_kp.json', 'dataset/a082_kp/S031C002P051R001A082_rgb_kp.json', 'dataset/a082_kp/S018C001P043R001A082_rgb_kp.json', 'dataset/a082_kp/S022C001P067R002A082_rgb_kp.json', 'dataset/a082_kp/S025C002P065R002A082_rgb_kp.json', 'dataset/a082_kp/S030C002P095R001A082_rgb_kp.json', 'dataset/a082_kp/S021C001P055R002A082_rgb_kp.json', 'dataset/a082_kp/S022C001P066R001A082_rgb_kp.json', 'dataset/a082_kp/S029C001P043R002A082_rgb_kp.json', 'dataset/a082_kp/S023C003P062R001A082_rgb_kp.json', 'dataset/a082_kp/S018C001P008R001A082_rgb_kp.json', 'dataset/a082_kp/S023C001P060R002A082_rgb_kp.json', 'dataset/a082_kp/S029C003P041R002A082_rgb_kp.json', 'dataset/a082_kp/S031C003P085R001A082_rgb_kp.json', 'dataset/a082_kp/S018C002P041R001A082_rgb_kp.json', 'dataset/a082_kp/S023C003P066R002A082_rgb_kp.json', 'dataset/a082_kp/S031C001P051R002A082_rgb_kp.json', 'dataset/a082_kp/S030C002P085R002A082_rgb_kp.json', 'dataset/a082_kp/S030C001P043R002A082_rgb_kp.json', 'dataset/a082_kp/S027C001P086R002A082_rgb_kp.json', 'dataset/a082_kp/S029C002P067R001A082_rgb_kp.json', 'dataset/a082_kp/S020C003P008R001A082_rgb_kp.json', 'dataset/a082_kp/S030C002P067R001A082_rgb_kp.json', 'dataset/a082_kp/S030C003P076R001A082_rgb_kp.json', 'dataset/a082_kp/S031C001P100R002A082_rgb_kp.json', 'dataset/a082_kp/S032C003P041R001A082_rgb_kp.json', 'dataset/a082_kp/S030C003P075R001A082_rgb_kp.json', 'dataset/a082_kp/S030C001P011R001A082_rgb_kp.json', 'dataset/a082_kp/S030C003P043R002A082_rgb_kp.json', 'dataset/a082_kp/S027C002P085R002A082_rgb_kp.json', 'dataset/a082_kp/S020C001P008R001A082_rgb_kp.json', 'dataset/a082_kp/S030C001P075R001A082_rgb_kp.json', 'dataset/a082_kp/S031C001P100R001A082_rgb_kp.json', 'dataset/a082_kp/S026C001P074R002A082_rgb_kp.json', 'dataset/a082_kp/S027C003P044R002A082_rgb_kp.json', 'dataset/a064_kp/S019C002P051R002A064_rgb_kp.json', 'dataset/a064_kp/S022C003P067R002A064_rgb_kp.json', 'dataset/a064_kp/S023C001P056R002A064_rgb_kp.json', 'dataset/a064_kp/S020C002P041R002A064_rgb_kp.json', 'dataset/a064_kp/S023C002P065R001A064_rgb_kp.json', 'dataset/a064_kp/S025C001P055R002A064_rgb_kp.json', 'dataset/a064_kp/S027C002P081R002A064_rgb_kp.json', 'dataset/a064_kp/S021C001P056R001A064_rgb_kp.json', 'dataset/a064_kp/S031C002P008R002A064_rgb_kp.json', 'dataset/a064_kp/S024C001P067R002A064_rgb_kp.json', 'dataset/a064_kp/S031C001P096R001A064_rgb_kp.json', 'dataset/a064_kp/S029C002P041R002A064_rgb_kp.json', 'dataset/a064_kp/S029C003P089R002A064_rgb_kp.json', 'dataset/a064_kp/S023C002P063R001A064_rgb_kp.json', 'dataset/a064_kp/S030C001P096R001A064_rgb_kp.json', 'dataset/a064_kp/S028C002P043R001A064_rgb_kp.json', 'dataset/a064_kp/S020C001P053R001A064_rgb_kp.json', 'dataset/a064_kp/S019C002P008R001A064_rgb_kp.json', 'dataset/a064_kp/S029C002P075R002A064_rgb_kp.json', 'dataset/a064_kp/S020C003P044R001A064_rgb_kp.json', 'dataset/a064_kp/S030C002P067R002A064_rgb_kp.json', 'dataset/a064_kp/S026C001P008R002A064_rgb_kp.json', 'dataset/a064_kp/S030C003P008R002A064_rgb_kp.json', 'dataset/a064_kp/S031C001P067R002A064_rgb_kp.json', 'dataset/a064_kp/S018C001P042R001A064_rgb_kp.json', 'dataset/a064_kp/S026C002P075R001A064_rgb_kp.json', 'dataset/a064_kp/S020C002P044R002A064_rgb_kp.json', 'dataset/a064_kp/S031C003P096R002A064_rgb_kp.json', 'dataset/a064_kp/S019C001P051R001A064_rgb_kp.json', 'dataset/a064_kp/S029C003P041R002A064_rgb_kp.json', 'dataset/a064_kp/S031C003P051R002A064_rgb_kp.json', 'dataset/a064_kp/S029C001P080R001A064_rgb_kp.json', 'dataset/a064_kp/S029C003P048R002A064_rgb_kp.json', 'dataset/a064_kp/S030C002P041R001A064_rgb_kp.json', 'dataset/a064_kp/S031C001P041R002A064_rgb_kp.json', 'dataset/a064_kp/S030C001P076R001A064_rgb_kp.json', 'dataset/a064_kp/S018C002P008R002A064_rgb_kp.json', 'dataset/a064_kp/S026C001P072R001A064_rgb_kp.json', 'dataset/a064_kp/S026C001P075R002A064_rgb_kp.json', 'dataset/a064_kp/S030C001P088R001A064_rgb_kp.json', 'dataset/a064_kp/S030C003P076R001A064_rgb_kp.json', 'dataset/a064_kp/S022C001P066R001A064_rgb_kp.json', 'dataset/a064_kp/S032C003P044R001A064_rgb_kp.json', 'dataset/a064_kp/S022C002P066R001A064_rgb_kp.json', 'dataset/a064_kp/S029C003P088R001A064_rgb_kp.json', 'dataset/a064_kp/S026C002P051R002A064_rgb_kp.json', 'dataset/a064_kp/S026C001P076R002A064_rgb_kp.json', 'dataset/a064_kp/S027C003P043R001A064_rgb_kp.json', 'dataset/a064_kp/S020C003P043R002A064_rgb_kp.json', 'dataset/a064_kp/S027C003P084R001A064_rgb_kp.json', 'dataset/a064_kp/S026C003P049R001A064_rgb_kp.json', 'dataset/a064_kp/S030C002P048R002A064_rgb_kp.json', 'dataset/a064_kp/S026C002P076R001A064_rgb_kp.json', 'dataset/a064_kp/S029C003P089R001A064_rgb_kp.json', 'dataset/a064_kp/S023C002P067R002A064_rgb_kp.json', 'dataset/a064_kp/S020C001P044R002A064_rgb_kp.json', 'dataset/a064_kp/S025C002P055R001A064_rgb_kp.json', 'dataset/a064_kp/S029C002P043R001A064_rgb_kp.json', 'dataset/a064_kp/S028C001P008R002A064_rgb_kp.json', 'dataset/a064_kp/S029C002P075R001A064_rgb_kp.json', 'dataset/a064_kp/S023C003P057R001A064_rgb_kp.json', 'dataset/a064_kp/S029C001P080R002A064_rgb_kp.json', 'dataset/a064_kp/S029C001P043R001A064_rgb_kp.json', 'dataset/a064_kp/S022C002P064R002A064_rgb_kp.json', 'dataset/a064_kp/S029C002P067R001A064_rgb_kp.json', 'dataset/a064_kp/S031C001P100R002A064_rgb_kp.json', 'dataset/a064_kp/S019C003P046R002A064_rgb_kp.json', 'dataset/a064_kp/S032C003P103R001A064_rgb_kp.json', 'dataset/a064_kp/S028C001P008R001A064_rgb_kp.json', 'dataset/a064_kp/S031C001P051R001A064_rgb_kp.json', 'dataset/a064_kp/S019C002P050R002A064_rgb_kp.json', 'dataset/a064_kp/S032C002P008R002A064_rgb_kp.json', 'dataset/a064_kp/S026C003P074R001A064_rgb_kp.json', 'dataset/a064_kp/S026C001P041R001A064_rgb_kp.json', 'dataset/a064_kp/S030C002P096R001A064_rgb_kp.json', 'dataset/a064_kp/S027C003P081R002A064_rgb_kp.json', 'dataset/a064_kp/S031C001P098R002A064_rgb_kp.json', 'dataset/a064_kp/S031C003P008R001A064_rgb_kp.json', 'dataset/a064_kp/S030C002P091R001A064_rgb_kp.json', 'dataset/a064_kp/S031C003P044R001A064_rgb_kp.json', 'dataset/a064_kp/S018C001P044R001A064_rgb_kp.json', 'dataset/a064_kp/S019C003P050R002A064_rgb_kp.json', 'dataset/a064_kp/S031C003P067R002A064_rgb_kp.json', 'dataset/a064_kp/S030C001P048R002A064_rgb_kp.json', 'dataset/a064_kp/S030C002P044R002A064_rgb_kp.json', 'dataset/a064_kp/S028C002P041R002A064_rgb_kp.json', 'dataset/a064_kp/S023C001P061R002A064_rgb_kp.json', 'dataset/a064_kp/S032C002P008R001A064_rgb_kp.json', 'dataset/a064_kp/S024C003P061R002A064_rgb_kp.json', 'dataset/a064_kp/S020C001P043R001A064_rgb_kp.json', 'dataset/a064_kp/S023C001P062R001A064_rgb_kp.json', 'dataset/a064_kp/S030C003P008R001A064_rgb_kp.json', 'dataset/a064_kp/S019C001P049R001A064_rgb_kp.json', 'dataset/a064_kp/S024C002P062R002A064_rgb_kp.json', 'dataset/a064_kp/S023C001P055R001A064_rgb_kp.json', 'dataset/a064_kp/S027C001P011R002A064_rgb_kp.json', 'dataset/a064_kp/S030C002P092R001A064_rgb_kp.json', 'dataset/a064_kp/S026C003P044R001A064_rgb_kp.json', 'dataset/a064_kp/S023C001P065R002A064_rgb_kp.json', 'dataset/a064_kp/S032C003P043R001A064_rgb_kp.json', 'dataset/a077_kp/S031C001P067R001A077_rgb_kp.json', 'dataset/a077_kp/S030C003P092R002A077_rgb_kp.json', 'dataset/a077_kp/S031C003P097R002A077_rgb_kp.json', 'dataset/a077_kp/S018C003P042R001A077_rgb_kp.json', 'dataset/a077_kp/S027C003P041R001A077_rgb_kp.json', 'dataset/a077_kp/S032C002P106R002A077_rgb_kp.json', 'dataset/a077_kp/S024C001P067R002A077_rgb_kp.json', 'dataset/a077_kp/S020C003P043R001A077_rgb_kp.json', 'dataset/a077_kp/S026C002P071R001A077_rgb_kp.json', 'dataset/a077_kp/S024C003P061R001A077_rgb_kp.json', 'dataset/a077_kp/S026C002P050R002A077_rgb_kp.json', 'dataset/a077_kp/S032C003P008R001A077_rgb_kp.json', 'dataset/a077_kp/S030C002P043R001A077_rgb_kp.json', 'dataset/a077_kp/S018C002P044R002A077_rgb_kp.json', 'dataset/a077_kp/S029C002P041R001A077_rgb_kp.json', 'dataset/a077_kp/S022C003P067R001A077_rgb_kp.json', 'dataset/a077_kp/S028C002P041R002A077_rgb_kp.json', 'dataset/a077_kp/S030C002P085R001A077_rgb_kp.json', 'dataset/a077_kp/S026C001P071R002A077_rgb_kp.json', 'dataset/a077_kp/S031C003P041R001A077_rgb_kp.json', 'dataset/a077_kp/S028C001P046R001A077_rgb_kp.json', 'dataset/a077_kp/S024C003P057R002A077_rgb_kp.json', 'dataset/a077_kp/S022C001P067R002A077_rgb_kp.json', 'dataset/a077_kp/S029C003P008R002A077_rgb_kp.json', 'dataset/a077_kp/S032C002P008R002A077_rgb_kp.json', 'dataset/a077_kp/S021C001P059R002A077_rgb_kp.json', 'dataset/a077_kp/S019C003P051R001A077_rgb_kp.json', 'dataset/a077_kp/S030C003P011R002A077_rgb_kp.json', 'dataset/a077_kp/S031C001P082R002A077_rgb_kp.json', 'dataset/a077_kp/S027C003P008R001A077_rgb_kp.json', 'dataset/a077_kp/S026C002P051R002A077_rgb_kp.json', 'dataset/a077_kp/S026C003P070R001A077_rgb_kp.json', 'dataset/a077_kp/S030C003P076R002A077_rgb_kp.json', 'dataset/a077_kp/S030C001P076R002A077_rgb_kp.json', 'dataset/a077_kp/S024C002P067R002A077_rgb_kp.json', 'dataset/a077_kp/S026C003P049R001A077_rgb_kp.json', 'dataset/a077_kp/S026C001P070R002A077_rgb_kp.json', 'dataset/a077_kp/S029C002P090R001A077_rgb_kp.json', 'dataset/a077_kp/S027C003P078R002A077_rgb_kp.json', 'dataset/a077_kp/S020C001P008R001A077_rgb_kp.json', 'dataset/a077_kp/S029C001P008R002A077_rgb_kp.json', 'dataset/a077_kp/S026C002P077R001A077_rgb_kp.json', 'dataset/a077_kp/S026C002P074R001A077_rgb_kp.json', 'dataset/a077_kp/S023C003P060R002A077_rgb_kp.json', 'dataset/a077_kp/S031C001P008R002A077_rgb_kp.json', 'dataset/a077_kp/S018C002P044R001A077_rgb_kp.json', 'dataset/a077_kp/S027C003P084R001A077_rgb_kp.json', 'dataset/a077_kp/S021C001P056R001A077_rgb_kp.json', 'dataset/a077_kp/S023C001P062R002A077_rgb_kp.json', 'dataset/a077_kp/S027C002P082R002A077_rgb_kp.json', 'dataset/a077_kp/S030C001P043R002A077_rgb_kp.json', 'dataset/a077_kp/S029C001P080R001A077_rgb_kp.json', 'dataset/a077_kp/S030C003P041R001A077_rgb_kp.json', 'dataset/a077_kp/S031C002P043R002A077_rgb_kp.json', 'dataset/a077_kp/S026C003P074R001A077_rgb_kp.json', 'dataset/a077_kp/S019C003P046R002A077_rgb_kp.json', 'dataset/a077_kp/S028C002P087R001A077_rgb_kp.json', 'dataset/a077_kp/S026C003P076R001A077_rgb_kp.json', 'dataset/a077_kp/S025C002P055R002A077_rgb_kp.json', 'dataset/a077_kp/S019C002P047R001A077_rgb_kp.json', 'dataset/a077_kp/S019C002P008R001A077_rgb_kp.json', 'dataset/a077_kp/S019C002P051R001A077_rgb_kp.json', 'dataset/a077_kp/S026C003P041R002A077_rgb_kp.json', 'dataset/a077_kp/S027C003P086R002A077_rgb_kp.json', 'dataset/a077_kp/S024C002P062R002A077_rgb_kp.json', 'dataset/a077_kp/S031C001P098R002A077_rgb_kp.json', 'dataset/a077_kp/S027C001P080R001A077_rgb_kp.json', 'dataset/a077_kp/S019C003P042R001A077_rgb_kp.json', 'dataset/a077_kp/S022C001P062R002A077_rgb_kp.json', 'dataset/a077_kp/S025C002P068R001A077_rgb_kp.json', 'dataset/a077_kp/S029C003P088R002A077_rgb_kp.json', 'dataset/a077_kp/S026C001P049R001A077_rgb_kp.json', 'dataset/a077_kp/S021C003P059R001A077_rgb_kp.json', 'dataset/a077_kp/S026C002P072R002A077_rgb_kp.json', 'dataset/a077_kp/S026C001P071R001A077_rgb_kp.json', 'dataset/a077_kp/S022C003P062R001A077_rgb_kp.json', 'dataset/a077_kp/S021C002P056R002A077_rgb_kp.json', 'dataset/a077_kp/S027C002P079R002A077_rgb_kp.json', 'dataset/a077_kp/S029C002P074R001A077_rgb_kp.json', 'dataset/a077_kp/S018C003P045R001A077_rgb_kp.json', 'dataset/a077_kp/S028C001P048R001A077_rgb_kp.json', 'dataset/a077_kp/S026C001P008R002A077_rgb_kp.json', 'dataset/a077_kp/S027C003P083R001A077_rgb_kp.json', 'dataset/a077_kp/S030C001P081R002A077_rgb_kp.json', 'dataset/a077_kp/S027C003P080R001A077_rgb_kp.json', 'dataset/a077_kp/S028C003P070R001A077_rgb_kp.json', 'dataset/a077_kp/S026C001P069R002A077_rgb_kp.json', 'dataset/a077_kp/S029C001P008R001A077_rgb_kp.json', 'dataset/a077_kp/S020C002P041R002A077_rgb_kp.json', 'dataset/a077_kp/S025C002P058R002A077_rgb_kp.json', 'dataset/a077_kp/S027C003P085R001A077_rgb_kp.json', 'dataset/a077_kp/S026C002P049R002A077_rgb_kp.json', 'dataset/a077_kp/S029C003P006R001A077_rgb_kp.json', 'dataset/a077_kp/S030C003P088R001A077_rgb_kp.json', 'dataset/a077_kp/S029C001P043R001A077_rgb_kp.json', 'dataset/a077_kp/S029C002P043R001A077_rgb_kp.json', 'dataset/a077_kp/S031C001P008R001A077_rgb_kp.json', 'dataset/a077_kp/S023C001P062R001A077_rgb_kp.json', 'dataset/a077_kp/S030C001P043R001A077_rgb_kp.json', 'dataset/a077_kp/S030C001P091R002A077_rgb_kp.json', 'dataset/a036_kp/S007C002P018R001A036_rgb_kp.json', 'dataset/a036_kp/S017C001P016R002A036_rgb_kp.json', 'dataset/a036_kp/S015C001P025R001A036_rgb_kp.json', 'dataset/a036_kp/S013C002P027R001A036_rgb_kp.json', 'dataset/a036_kp/S010C003P017R002A036_rgb_kp.json', 'dataset/a036_kp/S012C003P018R002A036_rgb_kp.json', 'dataset/a036_kp/S011C002P008R001A036_rgb_kp.json', 'dataset/a036_kp/S001C002P003R001A036_rgb_kp.json', 'dataset/a036_kp/S002C002P010R002A036_rgb_kp.json', 'dataset/a036_kp/S003C002P018R002A036_rgb_kp.json', 'dataset/a036_kp/S003C001P018R002A036_rgb_kp.json', 'dataset/a036_kp/S001C002P007R001A036_rgb_kp.json', 'dataset/a036_kp/S004C002P007R001A036_rgb_kp.json', 'dataset/a036_kp/S013C001P008R002A036_rgb_kp.json', 'dataset/a036_kp/S007C002P026R001A036_rgb_kp.json', 'dataset/a036_kp/S007C003P016R001A036_rgb_kp.json', 'dataset/a036_kp/S010C003P021R002A036_rgb_kp.json', 'dataset/a036_kp/S010C001P008R002A036_rgb_kp.json', 'dataset/a036_kp/S008C001P031R002A036_rgb_kp.json', 'dataset/a036_kp/S010C001P021R002A036_rgb_kp.json', 'dataset/a036_kp/S003C002P008R002A036_rgb_kp.json', 'dataset/a036_kp/S006C001P016R002A036_rgb_kp.json', 'dataset/a036_kp/S007C001P018R001A036_rgb_kp.json', 'dataset/a036_kp/S013C001P037R001A036_rgb_kp.json', 'dataset/a036_kp/S009C003P016R001A036_rgb_kp.json', 'dataset/a036_kp/S001C001P002R002A036_rgb_kp.json', 'dataset/a036_kp/S012C003P008R001A036_rgb_kp.json', 'dataset/a036_kp/S015C003P025R002A036_rgb_kp.json', 'dataset/a036_kp/S004C001P003R001A036_rgb_kp.json', 'dataset/a036_kp/S011C002P028R001A036_rgb_kp.json', 'dataset/a036_kp/S016C001P040R002A036_rgb_kp.json', 'dataset/a036_kp/S009C001P016R001A036_rgb_kp.json', 'dataset/a036_kp/S006C001P001R001A036_rgb_kp.json', 'dataset/a036_kp/S015C001P016R001A036_rgb_kp.json', 'dataset/a036_kp/S007C003P015R002A036_rgb_kp.json', 'dataset/a036_kp/S015C001P016R002A036_rgb_kp.json', 'dataset/a036_kp/S008C003P025R002A036_rgb_kp.json', 'dataset/a036_kp/S008C003P019R001A036_rgb_kp.json', 'dataset/a036_kp/S010C002P013R001A036_rgb_kp.json', 'dataset/a036_kp/S006C001P007R001A036_rgb_kp.json', 'dataset/a036_kp/S008C003P025R001A036_rgb_kp.json', 'dataset/a036_kp/S016C003P021R002A036_rgb_kp.json', 'dataset/a036_kp/S014C003P015R001A036_rgb_kp.json', 'dataset/a036_kp/S002C002P010R001A036_rgb_kp.json', 'dataset/a036_kp/S006C003P015R001A036_rgb_kp.json', 'dataset/a036_kp/S007C002P016R002A036_rgb_kp.json', 'dataset/a036_kp/S015C003P037R001A036_rgb_kp.json', 'dataset/a036_kp/S013C001P028R001A036_rgb_kp.json', 'dataset/a036_kp/S010C003P013R002A036_rgb_kp.json', 'dataset/a036_kp/S007C002P019R001A036_rgb_kp.json', 'dataset/a036_kp/S012C001P028R001A036_rgb_kp.json', 'dataset/a036_kp/S012C003P027R001A036_rgb_kp.json', 'dataset/a036_kp/S008C003P008R001A036_rgb_kp.json', 'dataset/a036_kp/S001C002P005R002A036_rgb_kp.json', 'dataset/a036_kp/S014C001P025R002A036_rgb_kp.json', 'dataset/a036_kp/S008C003P007R002A036_rgb_kp.json', 'dataset/a036_kp/S003C003P017R001A036_rgb_kp.json', 'dataset/a036_kp/S003C003P016R001A036_rgb_kp.json', 'dataset/a036_kp/S008C003P030R002A036_rgb_kp.json', 'dataset/a036_kp/S004C003P007R001A036_rgb_kp.json', 'dataset/a036_kp/S012C003P037R002A036_rgb_kp.json', 'dataset/a036_kp/S001C001P007R002A036_rgb_kp.json', 'dataset/a036_kp/S017C003P007R001A036_rgb_kp.json', 'dataset/a036_kp/S012C002P017R001A036_rgb_kp.json', 'dataset/a036_kp/S017C003P016R001A036_rgb_kp.json', 'dataset/a036_kp/S011C003P017R001A036_rgb_kp.json', 'dataset/a036_kp/S003C001P008R001A036_rgb_kp.json', 'dataset/a036_kp/S008C001P033R002A036_rgb_kp.json', 'dataset/a036_kp/S012C001P037R001A036_rgb_kp.json', 'dataset/a036_kp/S006C003P001R001A036_rgb_kp.json', 'dataset/a036_kp/S002C001P010R002A036_rgb_kp.json', 'dataset/a036_kp/S011C003P038R002A036_rgb_kp.json', 'dataset/a036_kp/S010C002P019R002A036_rgb_kp.json', 'dataset/a036_kp/S007C002P017R002A036_rgb_kp.json', 'dataset/a036_kp/S003C001P019R002A036_rgb_kp.json', 'dataset/a036_kp/S008C001P033R001A036_rgb_kp.json', 'dataset/a036_kp/S011C002P018R002A036_rgb_kp.json', 'dataset/a036_kp/S008C003P029R002A036_rgb_kp.json', 'dataset/a036_kp/S016C003P019R002A036_rgb_kp.json', 'dataset/a036_kp/S014C001P039R001A036_rgb_kp.json', 'dataset/a036_kp/S001C003P006R002A036_rgb_kp.json', 'dataset/a036_kp/S016C001P039R001A036_rgb_kp.json', 'dataset/a036_kp/S012C002P016R002A036_rgb_kp.json', 'dataset/a036_kp/S017C003P007R002A036_rgb_kp.json', 'dataset/a036_kp/S005C002P010R001A036_rgb_kp.json', 'dataset/a036_kp/S010C001P017R001A036_rgb_kp.json', 'dataset/a036_kp/S014C003P025R002A036_rgb_kp.json', 'dataset/a036_kp/S017C003P008R001A036_rgb_kp.json', 'dataset/a036_kp/S006C002P022R002A036_rgb_kp.json', 'dataset/a036_kp/S011C001P016R001A036_rgb_kp.json', 'dataset/a036_kp/S011C003P025R001A036_rgb_kp.json', 'dataset/a036_kp/S002C003P010R002A036_rgb_kp.json', 'dataset/a036_kp/S013C001P019R002A036_rgb_kp.json', 'dataset/a036_kp/S016C001P021R002A036_rgb_kp.json', 'dataset/a036_kp/S011C002P017R001A036_rgb_kp.json', 'dataset/a036_kp/S011C001P001R002A036_rgb_kp.json', 'dataset/a036_kp/S007C003P018R002A036_rgb_kp.json', 'dataset/a036_kp/S008C003P031R002A036_rgb_kp.json', 'dataset/a036_kp/S001C002P004R002A036_rgb_kp.json', 'dataset/a036_kp/S002C001P013R002A036_rgb_kp.json', 'dataset/a088_kp/S031C001P044R002A088_rgb_kp.json', 'dataset/a088_kp/S025C001P055R002A088_rgb_kp.json', 'dataset/a088_kp/S023C001P067R002A088_rgb_kp.json', 'dataset/a088_kp/S030C001P088R002A088_rgb_kp.json', 'dataset/a088_kp/S023C003P055R002A088_rgb_kp.json', 'dataset/a088_kp/S030C003P091R001A088_rgb_kp.json', 'dataset/a088_kp/S023C003P066R001A088_rgb_kp.json', 'dataset/a088_kp/S029C002P067R002A088_rgb_kp.json', 'dataset/a088_kp/S027C003P082R001A088_rgb_kp.json', 'dataset/a088_kp/S023C002P064R001A088_rgb_kp.json', 'dataset/a088_kp/S027C002P043R002A088_rgb_kp.json', 'dataset/a088_kp/S031C002P067R002A088_rgb_kp.json', 'dataset/a088_kp/S029C002P006R002A088_rgb_kp.json', 'dataset/a088_kp/S032C001P106R001A088_rgb_kp.json', 'dataset/a088_kp/S019C003P048R001A088_rgb_kp.json', 'dataset/a088_kp/S028C003P046R002A088_rgb_kp.json', 'dataset/a088_kp/S030C003P008R001A088_rgb_kp.json', 'dataset/a088_kp/S024C001P063R002A088_rgb_kp.json', 'dataset/a088_kp/S021C001P060R002A088_rgb_kp.json', 'dataset/a088_kp/S031C003P100R001A088_rgb_kp.json', 'dataset/a088_kp/S028C001P043R002A088_rgb_kp.json', 'dataset/a088_kp/S018C001P041R001A088_rgb_kp.json', 'dataset/a088_kp/S023C003P060R002A088_rgb_kp.json', 'dataset/a088_kp/S029C002P090R002A088_rgb_kp.json', 'dataset/a088_kp/S024C001P057R001A088_rgb_kp.json', 'dataset/a088_kp/S025C001P055R001A088_rgb_kp.json', 'dataset/a088_kp/S021C002P056R001A088_rgb_kp.json', 'dataset/a088_kp/S026C001P008R001A088_rgb_kp.json', 'dataset/a088_kp/S020C001P054R001A088_rgb_kp.json', 'dataset/a088_kp/S030C003P088R002A088_rgb_kp.json', 'dataset/a088_kp/S022C001P066R002A088_rgb_kp.json', 'dataset/a088_kp/S030C001P011R002A088_rgb_kp.json', 'dataset/a088_kp/S030C001P091R002A088_rgb_kp.json', 'dataset/a088_kp/S032C001P106R002A088_rgb_kp.json', 'dataset/a088_kp/S029C001P048R002A088_rgb_kp.json', 'dataset/a088_kp/S026C001P074R001A088_rgb_kp.json', 'dataset/a088_kp/S019C002P041R002A088_rgb_kp.json', 'dataset/a088_kp/S031C002P096R002A088_rgb_kp.json', 'dataset/a088_kp/S026C003P070R002A088_rgb_kp.json', 'dataset/a088_kp/S023C001P058R001A088_rgb_kp.json', 'dataset/a088_kp/S029C002P090R001A088_rgb_kp.json', 'dataset/a088_kp/S031C003P067R002A088_rgb_kp.json', 'dataset/a088_kp/S020C001P043R001A088_rgb_kp.json', 'dataset/a088_kp/S029C003P049R001A088_rgb_kp.json', 'dataset/a088_kp/S028C001P087R002A088_rgb_kp.json', 'dataset/a088_kp/S019C003P049R002A088_rgb_kp.json', 'dataset/a088_kp/S022C003P061R002A088_rgb_kp.json', 'dataset/a088_kp/S022C003P065R001A088_rgb_kp.json', 'dataset/a088_kp/S031C002P042R001A088_rgb_kp.json', 'dataset/a088_kp/S030C003P093R001A088_rgb_kp.json', 'dataset/a088_kp/S027C002P081R002A088_rgb_kp.json', 'dataset/a088_kp/S032C003P106R001A088_rgb_kp.json', 'dataset/a088_kp/S020C003P052R002A088_rgb_kp.json', 'dataset/a088_kp/S032C002P102R002A088_rgb_kp.json', 'dataset/a088_kp/S028C001P043R001A088_rgb_kp.json', 'dataset/a088_kp/S030C001P041R001A088_rgb_kp.json', 'dataset/a088_kp/S019C003P046R002A088_rgb_kp.json', 'dataset/a088_kp/S032C003P067R001A088_rgb_kp.json', 'dataset/a088_kp/S031C001P051R002A088_rgb_kp.json', 'dataset/a088_kp/S031C002P042R002A088_rgb_kp.json', 'dataset/a088_kp/S032C003P008R002A088_rgb_kp.json', 'dataset/a088_kp/S023C001P064R001A088_rgb_kp.json', 'dataset/a088_kp/S019C001P042R002A088_rgb_kp.json', 'dataset/a088_kp/S032C001P103R001A088_rgb_kp.json', 'dataset/a088_kp/S032C002P067R002A088_rgb_kp.json', 'dataset/a088_kp/S026C001P050R001A088_rgb_kp.json', 'dataset/a088_kp/S023C002P057R002A088_rgb_kp.json', 'dataset/a088_kp/S031C003P043R001A088_rgb_kp.json', 'dataset/a088_kp/S019C003P041R001A088_rgb_kp.json', 'dataset/a088_kp/S022C001P065R001A088_rgb_kp.json', 'dataset/a088_kp/S026C002P071R002A088_rgb_kp.json', 'dataset/a088_kp/S025C002P059R001A088_rgb_kp.json', 'dataset/a088_kp/S028C003P070R001A088_rgb_kp.json', 'dataset/a088_kp/S027C002P079R002A088_rgb_kp.json', 'dataset/a088_kp/S030C002P008R001A088_rgb_kp.json', 'dataset/a088_kp/S027C002P078R002A088_rgb_kp.json', 'dataset/a088_kp/S026C001P075R002A088_rgb_kp.json', 'dataset/a088_kp/S023C001P060R002A088_rgb_kp.json', 'dataset/a088_kp/S031C001P099R002A088_rgb_kp.json', 'dataset/a088_kp/S030C003P044R001A088_rgb_kp.json', 'dataset/a088_kp/S018C001P008R002A088_rgb_kp.json', 'dataset/a088_kp/S024C002P062R002A088_rgb_kp.json', 'dataset/a088_kp/S021C003P055R002A088_rgb_kp.json', 'dataset/a088_kp/S020C002P008R001A088_rgb_kp.json', 'dataset/a088_kp/S029C002P041R002A088_rgb_kp.json', 'dataset/a088_kp/S025C003P058R001A088_rgb_kp.json', 'dataset/a088_kp/S024C003P061R001A088_rgb_kp.json', 'dataset/a088_kp/S031C002P082R001A088_rgb_kp.json', 'dataset/a088_kp/S031C001P097R001A088_rgb_kp.json', 'dataset/a088_kp/S020C002P053R001A088_rgb_kp.json', 'dataset/a088_kp/S025C001P066R002A088_rgb_kp.json', 'dataset/a088_kp/S032C001P067R002A088_rgb_kp.json', 'dataset/a088_kp/S025C003P056R001A088_rgb_kp.json', 'dataset/a088_kp/S027C001P011R002A088_rgb_kp.json', 'dataset/a088_kp/S029C002P080R002A088_rgb_kp.json', 'dataset/a088_kp/S023C003P058R001A088_rgb_kp.json', 'dataset/a088_kp/S021C002P058R001A088_rgb_kp.json', 'dataset/a088_kp/S029C002P089R001A088_rgb_kp.json', 'dataset/a088_kp/S025C003P058R002A088_rgb_kp.json', 'dataset/a088_kp/S032C001P103R002A088_rgb_kp.json', 'dataset/a020_kp/S017C002P020R002A020_rgb_kp.json', 'dataset/a020_kp/S001C002P002R002A020_rgb_kp.json', 'dataset/a020_kp/S011C001P016R001A020_rgb_kp.json', 'dataset/a020_kp/S012C001P017R001A020_rgb_kp.json', 'dataset/a020_kp/S013C003P015R001A020_rgb_kp.json', 'dataset/a020_kp/S011C001P038R002A020_rgb_kp.json', 'dataset/a020_kp/S015C001P017R001A020_rgb_kp.json', 'dataset/a020_kp/S006C002P024R002A020_rgb_kp.json', 'dataset/a020_kp/S011C003P017R001A020_rgb_kp.json', 'dataset/a020_kp/S008C002P033R002A020_rgb_kp.json', 'dataset/a020_kp/S003C002P007R001A020_rgb_kp.json', 'dataset/a020_kp/S016C001P025R002A020_rgb_kp.json', 'dataset/a020_kp/S003C002P016R002A020_rgb_kp.json', 'dataset/a020_kp/S011C003P018R001A020_rgb_kp.json', 'dataset/a020_kp/S003C001P019R002A020_rgb_kp.json', 'dataset/a020_kp/S009C003P019R002A020_rgb_kp.json', 'dataset/a020_kp/S014C001P019R001A020_rgb_kp.json', 'dataset/a020_kp/S010C003P017R001A020_rgb_kp.json', 'dataset/a020_kp/S008C002P008R001A020_rgb_kp.json', 'dataset/a020_kp/S010C002P008R002A020_rgb_kp.json', 'dataset/a020_kp/S015C001P025R001A020_rgb_kp.json', 'dataset/a020_kp/S002C003P010R002A020_rgb_kp.json', 'dataset/a020_kp/S003C001P016R002A020_rgb_kp.json', 'dataset/a020_kp/S003C001P017R001A020_rgb_kp.json', 'dataset/a020_kp/S005C002P015R001A020_rgb_kp.json', 'dataset/a020_kp/S001C003P003R001A020_rgb_kp.json', 'dataset/a020_kp/S003C003P002R001A020_rgb_kp.json', 'dataset/a020_kp/S010C001P015R001A020_rgb_kp.json', 'dataset/a020_kp/S002C002P009R001A020_rgb_kp.json', 'dataset/a020_kp/S008C002P025R001A020_rgb_kp.json', 'dataset/a020_kp/S006C003P001R002A020_rgb_kp.json', 'dataset/a020_kp/S010C001P018R001A020_rgb_kp.json', 'dataset/a020_kp/S006C002P007R001A020_rgb_kp.json', 'dataset/a020_kp/S008C002P015R002A020_rgb_kp.json', 'dataset/a020_kp/S013C001P015R002A020_rgb_kp.json', 'dataset/a020_kp/S015C001P016R001A020_rgb_kp.json', 'dataset/a020_kp/S016C002P008R002A020_rgb_kp.json', 'dataset/a020_kp/S007C001P027R002A020_rgb_kp.json', 'dataset/a020_kp/S008C003P033R002A020_rgb_kp.json', 'dataset/a020_kp/S006C001P017R001A020_rgb_kp.json', 'dataset/a020_kp/S013C001P007R001A020_rgb_kp.json', 'dataset/a020_kp/S009C002P019R001A020_rgb_kp.json', 'dataset/a020_kp/S008C001P029R001A020_rgb_kp.json', 'dataset/a020_kp/S010C003P008R001A020_rgb_kp.json', 'dataset/a020_kp/S011C003P002R001A020_rgb_kp.json', 'dataset/a020_kp/S012C002P028R002A020_rgb_kp.json', 'dataset/a020_kp/S008C001P025R001A020_rgb_kp.json', 'dataset/a020_kp/S012C001P008R001A020_rgb_kp.json', 'dataset/a020_kp/S004C001P007R002A020_rgb_kp.json', 'dataset/a020_kp/S014C002P015R002A020_rgb_kp.json', 'dataset/a020_kp/S014C001P007R002A020_rgb_kp.json', 'dataset/a020_kp/S011C002P017R001A020_rgb_kp.json', 'dataset/a020_kp/S004C002P008R001A020_rgb_kp.json', 'dataset/a020_kp/S009C003P008R001A020_rgb_kp.json', 'dataset/a020_kp/S002C001P007R001A020_rgb_kp.json', 'dataset/a020_kp/S016C002P021R001A020_rgb_kp.json', 'dataset/a020_kp/S006C003P008R002A020_rgb_kp.json', 'dataset/a020_kp/S009C001P007R001A020_rgb_kp.json', 'dataset/a020_kp/S013C002P018R002A020_rgb_kp.json', 'dataset/a020_kp/S002C003P012R001A020_rgb_kp.json', 'dataset/a020_kp/S015C002P007R001A020_rgb_kp.json', 'dataset/a020_kp/S007C001P019R001A020_rgb_kp.json', 'dataset/a020_kp/S012C003P028R001A020_rgb_kp.json', 'dataset/a020_kp/S006C002P022R001A020_rgb_kp.json', 'dataset/a020_kp/S017C003P009R002A020_rgb_kp.json', 'dataset/a020_kp/S008C001P015R002A020_rgb_kp.json', 'dataset/a020_kp/S009C003P007R002A020_rgb_kp.json', 'dataset/a020_kp/S012C002P015R002A020_rgb_kp.json', 'dataset/a020_kp/S004C003P003R002A020_rgb_kp.json', 'dataset/a020_kp/S012C003P028R002A020_rgb_kp.json', 'dataset/a020_kp/S014C002P019R002A020_rgb_kp.json', 'dataset/a020_kp/S008C003P033R001A020_rgb_kp.json', 'dataset/a020_kp/S014C003P017R001A020_rgb_kp.json', 'dataset/a020_kp/S006C001P024R001A020_rgb_kp.json', 'dataset/a020_kp/S015C003P025R002A020_rgb_kp.json', 'dataset/a020_kp/S017C003P015R002A020_rgb_kp.json', 'dataset/a020_kp/S012C001P018R002A020_rgb_kp.json', 'dataset/a020_kp/S013C002P008R002A020_rgb_kp.json', 'dataset/a020_kp/S002C002P013R001A020_rgb_kp.json', 'dataset/a020_kp/S006C001P015R002A020_rgb_kp.json', 'dataset/a020_kp/S013C002P027R001A020_rgb_kp.json', 'dataset/a020_kp/S005C003P021R001A020_rgb_kp.json', 'dataset/a020_kp/S002C002P010R002A020_rgb_kp.json', 'dataset/a020_kp/S015C003P015R002A020_rgb_kp.json', 'dataset/a020_kp/S004C002P007R002A020_rgb_kp.json', 'dataset/a020_kp/S017C001P016R002A020_rgb_kp.json', 'dataset/a020_kp/S010C002P019R001A020_rgb_kp.json', 'dataset/a020_kp/S007C002P025R002A020_rgb_kp.json', 'dataset/a020_kp/S002C001P008R001A020_rgb_kp.json', 'dataset/a020_kp/S017C001P003R002A020_rgb_kp.json', 'dataset/a020_kp/S007C003P027R001A020_rgb_kp.json', 'dataset/a020_kp/S003C002P017R002A020_rgb_kp.json', 'dataset/a020_kp/S007C003P026R001A020_rgb_kp.json', 'dataset/a020_kp/S014C003P025R001A020_rgb_kp.json', 'dataset/a020_kp/S002C003P009R001A020_rgb_kp.json', 'dataset/a020_kp/S012C003P008R002A020_rgb_kp.json', 'dataset/a020_kp/S016C002P039R002A020_rgb_kp.json', 'dataset/a020_kp/S002C001P008R002A020_rgb_kp.json', 'dataset/a020_kp/S011C002P017R002A020_rgb_kp.json', 'dataset/a020_kp/S006C002P023R001A020_rgb_kp.json', 'dataset/a016_kp/S017C002P017R001A016_rgb_kp.json', 'dataset/a016_kp/S013C001P016R001A016_rgb_kp.json', 'dataset/a016_kp/S009C002P008R002A016_rgb_kp.json', 'dataset/a016_kp/S012C001P017R002A016_rgb_kp.json', 'dataset/a016_kp/S008C003P019R001A016_rgb_kp.json', 'dataset/a016_kp/S012C001P015R002A016_rgb_kp.json', 'dataset/a016_kp/S006C003P007R002A016_rgb_kp.json', 'dataset/a016_kp/S007C001P026R002A016_rgb_kp.json', 'dataset/a016_kp/S014C001P017R001A016_rgb_kp.json', 'dataset/a016_kp/S001C003P001R002A016_rgb_kp.json', 'dataset/a016_kp/S001C002P002R002A016_rgb_kp.json', 'dataset/a016_kp/S008C001P031R002A016_rgb_kp.json', 'dataset/a016_kp/S007C001P007R001A016_rgb_kp.json', 'dataset/a016_kp/S012C001P015R001A016_rgb_kp.json', 'dataset/a016_kp/S009C002P025R001A016_rgb_kp.json', 'dataset/a016_kp/S010C002P017R001A016_rgb_kp.json', 'dataset/a016_kp/S014C001P019R002A016_rgb_kp.json', 'dataset/a016_kp/S015C002P016R001A016_rgb_kp.json', 'dataset/a016_kp/S012C001P008R002A016_rgb_kp.json', 'dataset/a016_kp/S012C003P019R002A016_rgb_kp.json', 'dataset/a016_kp/S005C002P004R002A016_rgb_kp.json', 'dataset/a016_kp/S012C003P019R001A016_rgb_kp.json', 'dataset/a016_kp/S013C003P017R001A016_rgb_kp.json', 'dataset/a016_kp/S013C003P037R002A016_rgb_kp.json', 'dataset/a016_kp/S005C001P010R002A016_rgb_kp.json', 'dataset/a016_kp/S013C001P017R002A016_rgb_kp.json', 'dataset/a016_kp/S017C003P017R001A016_rgb_kp.json', 'dataset/a016_kp/S013C001P025R002A016_rgb_kp.json', 'dataset/a016_kp/S012C002P008R001A016_rgb_kp.json', 'dataset/a016_kp/S003C001P016R002A016_rgb_kp.json', 'dataset/a016_kp/S011C003P018R001A016_rgb_kp.json', 'dataset/a016_kp/S008C001P008R002A016_rgb_kp.json', 'dataset/a016_kp/S017C002P008R002A016_rgb_kp.json', 'dataset/a016_kp/S014C001P027R002A016_rgb_kp.json', 'dataset/a016_kp/S013C003P019R001A016_rgb_kp.json', 'dataset/a016_kp/S008C001P025R002A016_rgb_kp.json', 'dataset/a016_kp/S001C001P007R001A016_rgb_kp.json', 'dataset/a016_kp/S005C001P004R001A016_rgb_kp.json', 'dataset/a016_kp/S015C001P019R002A016_rgb_kp.json', 'dataset/a016_kp/S011C002P007R001A016_rgb_kp.json', 'dataset/a016_kp/S013C001P016R002A016_rgb_kp.json', 'dataset/a016_kp/S013C001P019R002A016_rgb_kp.json', 'dataset/a016_kp/S006C002P001R002A016_rgb_kp.json', 'dataset/a016_kp/S002C003P008R002A016_rgb_kp.json', 'dataset/a016_kp/S009C002P017R001A016_rgb_kp.json', 'dataset/a016_kp/S014C001P039R001A016_rgb_kp.json', 'dataset/a016_kp/S010C003P017R001A016_rgb_kp.json', 'dataset/a016_kp/S002C002P010R002A016_rgb_kp.json', 'dataset/a016_kp/S007C003P027R002A016_rgb_kp.json', 'dataset/a016_kp/S013C003P017R002A016_rgb_kp.json', 'dataset/a016_kp/S017C003P016R002A016_rgb_kp.json', 'dataset/a016_kp/S016C002P039R002A016_rgb_kp.json', 'dataset/a016_kp/S011C001P025R002A016_rgb_kp.json', 'dataset/a016_kp/S002C003P014R002A016_rgb_kp.json', 'dataset/a016_kp/S011C003P008R001A016_rgb_kp.json', 'dataset/a016_kp/S001C002P001R002A016_rgb_kp.json', 'dataset/a016_kp/S015C001P037R002A016_rgb_kp.json', 'dataset/a016_kp/S012C001P018R002A016_rgb_kp.json', 'dataset/a016_kp/S017C003P003R002A016_rgb_kp.json', 'dataset/a016_kp/S008C003P032R002A016_rgb_kp.json', 'dataset/a016_kp/S015C002P007R001A016_rgb_kp.json', 'dataset/a016_kp/S016C001P040R002A016_rgb_kp.json', 'dataset/a016_kp/S011C002P025R001A016_rgb_kp.json', 'dataset/a016_kp/S007C002P027R002A016_rgb_kp.json', 'dataset/a016_kp/S011C003P038R002A016_rgb_kp.json', 'dataset/a016_kp/S011C003P025R001A016_rgb_kp.json', 'dataset/a016_kp/S006C003P008R001A016_rgb_kp.json', 'dataset/a016_kp/S014C002P015R001A016_rgb_kp.json', 'dataset/a016_kp/S006C003P024R002A016_rgb_kp.json', 'dataset/a016_kp/S007C001P019R001A016_rgb_kp.json', 'dataset/a016_kp/S005C002P016R002A016_rgb_kp.json', 'dataset/a016_kp/S010C001P018R001A016_rgb_kp.json', 'dataset/a016_kp/S014C002P019R001A016_rgb_kp.json', 'dataset/a016_kp/S003C003P008R001A016_rgb_kp.json', 'dataset/a016_kp/S014C001P007R002A016_rgb_kp.json', 'dataset/a016_kp/S015C003P016R001A016_rgb_kp.json', 'dataset/a016_kp/S016C002P008R002A016_rgb_kp.json', 'dataset/a016_kp/S001C001P006R001A016_rgb_kp.json', 'dataset/a016_kp/S012C002P037R001A016_rgb_kp.json', 'dataset/a016_kp/S003C002P008R001A016_rgb_kp.json', 'dataset/a016_kp/S008C003P015R001A016_rgb_kp.json', 'dataset/a016_kp/S009C003P019R002A016_rgb_kp.json', 'dataset/a016_kp/S007C001P028R002A016_rgb_kp.json', 'dataset/a016_kp/S006C002P022R002A016_rgb_kp.json', 'dataset/a016_kp/S001C003P004R002A016_rgb_kp.json', 'dataset/a016_kp/S005C001P013R001A016_rgb_kp.json', 'dataset/a016_kp/S006C003P022R001A016_rgb_kp.json', 'dataset/a016_kp/S006C002P007R001A016_rgb_kp.json', 'dataset/a016_kp/S008C002P031R001A016_rgb_kp.json', 'dataset/a016_kp/S008C003P007R002A016_rgb_kp.json', 'dataset/a016_kp/S017C001P008R002A016_rgb_kp.json', 'dataset/a016_kp/S006C001P023R002A016_rgb_kp.json', 'dataset/a016_kp/S003C002P007R001A016_rgb_kp.json', 'dataset/a016_kp/S013C001P027R002A016_rgb_kp.json', 'dataset/a016_kp/S003C001P001R002A016_rgb_kp.json', 'dataset/a016_kp/S010C003P015R001A016_rgb_kp.json', 'dataset/a016_kp/S017C003P020R001A016_rgb_kp.json', 'dataset/a016_kp/S012C003P027R001A016_rgb_kp.json', 'dataset/a016_kp/S004C003P007R001A016_rgb_kp.json', 'dataset/a016_kp/S015C003P007R001A016_rgb_kp.json', 'dataset/a062_kp/S020C003P041R001A062_rgb_kp.json', 'dataset/a062_kp/S018C003P045R001A062_rgb_kp.json', 'dataset/a062_kp/S019C003P051R002A062_rgb_kp.json', 'dataset/a062_kp/S030C003P092R001A062_rgb_kp.json', 'dataset/a062_kp/S027C002P085R001A062_rgb_kp.json', 'dataset/a062_kp/S021C003P058R001A062_rgb_kp.json', 'dataset/a062_kp/S031C001P043R002A062_rgb_kp.json', 'dataset/a062_kp/S023C003P066R002A062_rgb_kp.json', 'dataset/a062_kp/S032C003P043R002A062_rgb_kp.json', 'dataset/a062_kp/S022C002P063R001A062_rgb_kp.json', 'dataset/a062_kp/S030C001P067R002A062_rgb_kp.json', 'dataset/a062_kp/S025C003P056R002A062_rgb_kp.json', 'dataset/a062_kp/S023C003P067R001A062_rgb_kp.json', 'dataset/a062_kp/S030C002P076R001A062_rgb_kp.json', 'dataset/a062_kp/S018C003P045R002A062_rgb_kp.json', 'dataset/a062_kp/S026C002P072R002A062_rgb_kp.json', 'dataset/a062_kp/S026C003P049R001A062_rgb_kp.json', 'dataset/a062_kp/S031C003P044R001A062_rgb_kp.json', 'dataset/a062_kp/S025C002P068R001A062_rgb_kp.json', 'dataset/a062_kp/S026C001P051R002A062_rgb_kp.json', 'dataset/a062_kp/S022C002P066R001A062_rgb_kp.json', 'dataset/a062_kp/S026C001P041R001A062_rgb_kp.json', 'dataset/a062_kp/S022C002P061R001A062_rgb_kp.json', 'dataset/a062_kp/S019C003P049R001A062_rgb_kp.json', 'dataset/a062_kp/S018C003P042R002A062_rgb_kp.json', 'dataset/a062_kp/S021C002P057R002A062_rgb_kp.json', 'dataset/a062_kp/S024C003P064R002A062_rgb_kp.json', 'dataset/a062_kp/S030C001P008R002A062_rgb_kp.json', 'dataset/a062_kp/S018C001P008R002A062_rgb_kp.json', 'dataset/a062_kp/S029C001P090R002A062_rgb_kp.json', 'dataset/a062_kp/S023C001P060R002A062_rgb_kp.json', 'dataset/a062_kp/S029C003P075R001A062_rgb_kp.json', 'dataset/a062_kp/S023C002P060R001A062_rgb_kp.json', 'dataset/a062_kp/S027C003P079R002A062_rgb_kp.json', 'dataset/a062_kp/S019C002P041R002A062_rgb_kp.json', 'dataset/a062_kp/S024C002P060R002A062_rgb_kp.json', 'dataset/a062_kp/S029C001P008R001A062_rgb_kp.json', 'dataset/a062_kp/S032C003P105R002A062_rgb_kp.json', 'dataset/a062_kp/S028C003P046R001A062_rgb_kp.json', 'dataset/a062_kp/S019C001P048R002A062_rgb_kp.json', 'dataset/a062_kp/S032C002P043R002A062_rgb_kp.json', 'dataset/a062_kp/S024C003P061R001A062_rgb_kp.json', 'dataset/a062_kp/S028C003P043R001A062_rgb_kp.json', 'dataset/a062_kp/S027C001P079R001A062_rgb_kp.json', 'dataset/a062_kp/S021C003P055R001A062_rgb_kp.json', 'dataset/a062_kp/S032C002P041R002A062_rgb_kp.json', 'dataset/a062_kp/S020C003P044R002A062_rgb_kp.json', 'dataset/a062_kp/S019C002P050R001A062_rgb_kp.json', 'dataset/a062_kp/S021C001P057R001A062_rgb_kp.json', 'dataset/a062_kp/S030C002P067R002A062_rgb_kp.json', 'dataset/a062_kp/S025C003P065R002A062_rgb_kp.json', 'dataset/a062_kp/S022C001P065R002A062_rgb_kp.json', 'dataset/a062_kp/S028C002P043R001A062_rgb_kp.json', 'dataset/a062_kp/S027C002P079R002A062_rgb_kp.json', 'dataset/a062_kp/S026C002P076R001A062_rgb_kp.json', 'dataset/a062_kp/S028C001P046R002A062_rgb_kp.json', 'dataset/a062_kp/S030C003P076R001A062_rgb_kp.json', 'dataset/a062_kp/S023C002P068R001A062_rgb_kp.json', 'dataset/a062_kp/S028C002P046R002A062_rgb_kp.json', 'dataset/a062_kp/S028C003P087R002A062_rgb_kp.json', 'dataset/a062_kp/S032C001P102R002A062_rgb_kp.json', 'dataset/a062_kp/S030C003P044R002A062_rgb_kp.json', 'dataset/a062_kp/S030C003P011R002A062_rgb_kp.json', 'dataset/a062_kp/S032C001P102R001A062_rgb_kp.json', 'dataset/a062_kp/S029C001P044R001A062_rgb_kp.json', 'dataset/a062_kp/S023C001P060R001A062_rgb_kp.json', 'dataset/a062_kp/S018C001P043R002A062_rgb_kp.json', 'dataset/a062_kp/S022C002P064R001A062_rgb_kp.json', 'dataset/a062_kp/S025C002P058R001A062_rgb_kp.json', 'dataset/a062_kp/S023C003P063R002A062_rgb_kp.json', 'dataset/a062_kp/S022C001P067R002A062_rgb_kp.json', 'dataset/a062_kp/S021C001P060R001A062_rgb_kp.json', 'dataset/a062_kp/S029C003P041R001A062_rgb_kp.json', 'dataset/a062_kp/S032C003P103R002A062_rgb_kp.json', 'dataset/a062_kp/S019C003P046R001A062_rgb_kp.json', 'dataset/a062_kp/S031C002P100R002A062_rgb_kp.json', 'dataset/a062_kp/S027C001P041R001A062_rgb_kp.json', 'dataset/a062_kp/S026C001P070R002A062_rgb_kp.json', 'dataset/a062_kp/S024C001P067R002A062_rgb_kp.json', 'dataset/a062_kp/S030C003P008R002A062_rgb_kp.json', 'dataset/a062_kp/S030C003P075R002A062_rgb_kp.json', 'dataset/a062_kp/S029C001P067R002A062_rgb_kp.json', 'dataset/a062_kp/S020C001P044R002A062_rgb_kp.json', 'dataset/a062_kp/S027C002P081R001A062_rgb_kp.json', 'dataset/a062_kp/S022C003P061R001A062_rgb_kp.json', 'dataset/a062_kp/S032C001P008R001A062_rgb_kp.json', 'dataset/a062_kp/S029C002P008R001A062_rgb_kp.json', 'dataset/a062_kp/S022C003P067R002A062_rgb_kp.json', 'dataset/a062_kp/S030C003P088R002A062_rgb_kp.json', 'dataset/a062_kp/S020C001P052R002A062_rgb_kp.json', 'dataset/a062_kp/S018C001P044R001A062_rgb_kp.json', 'dataset/a062_kp/S030C002P088R001A062_rgb_kp.json', 'dataset/a062_kp/S024C001P061R002A062_rgb_kp.json', 'dataset/a062_kp/S027C003P083R001A062_rgb_kp.json', 'dataset/a062_kp/S030C003P085R002A062_rgb_kp.json', 'dataset/a062_kp/S025C001P056R001A062_rgb_kp.json', 'dataset/a062_kp/S018C001P041R001A062_rgb_kp.json', 'dataset/a062_kp/S019C002P048R002A062_rgb_kp.json', 'dataset/a062_kp/S028C001P073R001A062_rgb_kp.json', 'dataset/a062_kp/S023C003P061R002A062_rgb_kp.json', 'dataset/a065_kp/S029C002P090R001A065_rgb_kp.json', 'dataset/a065_kp/S030C001P048R001A065_rgb_kp.json', 'dataset/a065_kp/S031C001P044R001A065_rgb_kp.json', 'dataset/a065_kp/S026C003P072R002A065_rgb_kp.json', 'dataset/a065_kp/S027C002P006R002A065_rgb_kp.json', 'dataset/a065_kp/S027C003P079R001A065_rgb_kp.json', 'dataset/a065_kp/S023C001P056R001A065_rgb_kp.json', 'dataset/a065_kp/S019C001P041R001A065_rgb_kp.json', 'dataset/a065_kp/S029C001P048R002A065_rgb_kp.json', 'dataset/a065_kp/S027C002P079R002A065_rgb_kp.json', 'dataset/a065_kp/S025C001P065R001A065_rgb_kp.json', 'dataset/a065_kp/S028C001P008R001A065_rgb_kp.json', 'dataset/a065_kp/S026C001P076R001A065_rgb_kp.json', 'dataset/a065_kp/S027C002P041R001A065_rgb_kp.json', 'dataset/a065_kp/S027C002P083R002A065_rgb_kp.json', 'dataset/a065_kp/S031C001P008R002A065_rgb_kp.json', 'dataset/a065_kp/S032C002P043R002A065_rgb_kp.json', 'dataset/a065_kp/S019C003P046R001A065_rgb_kp.json', 'dataset/a065_kp/S020C003P052R001A065_rgb_kp.json', 'dataset/a065_kp/S029C001P041R002A065_rgb_kp.json', 'dataset/a065_kp/S018C003P008R001A065_rgb_kp.json', 'dataset/a065_kp/S022C002P065R002A065_rgb_kp.json', 'dataset/a065_kp/S023C003P066R001A065_rgb_kp.json', 'dataset/a065_kp/S027C001P044R001A065_rgb_kp.json', 'dataset/a065_kp/S022C003P062R001A065_rgb_kp.json', 'dataset/a065_kp/S030C001P096R002A065_rgb_kp.json', 'dataset/a065_kp/S031C003P043R001A065_rgb_kp.json', 'dataset/a065_kp/S028C002P070R001A065_rgb_kp.json', 'dataset/a065_kp/S022C002P066R001A065_rgb_kp.json', 'dataset/a065_kp/S023C001P059R002A065_rgb_kp.json', 'dataset/a065_kp/S030C001P092R001A065_rgb_kp.json', 'dataset/a065_kp/S023C003P063R001A065_rgb_kp.json', 'dataset/a065_kp/S029C002P041R002A065_rgb_kp.json', 'dataset/a065_kp/S027C003P085R001A065_rgb_kp.json', 'dataset/a065_kp/S029C002P088R001A065_rgb_kp.json', 'dataset/a065_kp/S019C001P008R001A065_rgb_kp.json', 'dataset/a065_kp/S028C003P008R001A065_rgb_kp.json', 'dataset/a065_kp/S030C003P095R002A065_rgb_kp.json', 'dataset/a065_kp/S030C001P094R002A065_rgb_kp.json', 'dataset/a065_kp/S031C003P082R001A065_rgb_kp.json', 'dataset/a065_kp/S021C003P058R001A065_rgb_kp.json', 'dataset/a065_kp/S031C001P006R001A065_rgb_kp.json', 'dataset/a065_kp/S027C002P084R002A065_rgb_kp.json', 'dataset/a065_kp/S019C001P047R002A065_rgb_kp.json', 'dataset/a065_kp/S026C003P076R002A065_rgb_kp.json', 'dataset/a065_kp/S027C003P079R002A065_rgb_kp.json', 'dataset/a065_kp/S027C003P083R001A065_rgb_kp.json', 'dataset/a065_kp/S023C002P064R001A065_rgb_kp.json', 'dataset/a065_kp/S029C003P048R001A065_rgb_kp.json', 'dataset/a065_kp/S022C001P066R002A065_rgb_kp.json', 'dataset/a065_kp/S020C002P041R001A065_rgb_kp.json', 'dataset/a065_kp/S026C003P071R002A065_rgb_kp.json', 'dataset/a065_kp/S031C003P096R002A065_rgb_kp.json', 'dataset/a065_kp/S026C002P069R002A065_rgb_kp.json', 'dataset/a065_kp/S026C003P070R002A065_rgb_kp.json', 'dataset/a065_kp/S026C001P051R001A065_rgb_kp.json', 'dataset/a065_kp/S023C001P062R001A065_rgb_kp.json', 'dataset/a065_kp/S026C003P049R001A065_rgb_kp.json', 'dataset/a065_kp/S022C003P061R002A065_rgb_kp.json', 'dataset/a065_kp/S019C003P051R001A065_rgb_kp.json', 'dataset/a065_kp/S026C003P071R001A065_rgb_kp.json', 'dataset/a065_kp/S022C002P065R001A065_rgb_kp.json', 'dataset/a065_kp/S020C001P043R001A065_rgb_kp.json', 'dataset/a065_kp/S022C002P067R001A065_rgb_kp.json', 'dataset/a065_kp/S029C002P049R002A065_rgb_kp.json', 'dataset/a065_kp/S024C003P067R001A065_rgb_kp.json', 'dataset/a065_kp/S026C003P072R001A065_rgb_kp.json', 'dataset/a065_kp/S029C002P044R002A065_rgb_kp.json', 'dataset/a065_kp/S027C002P044R002A065_rgb_kp.json', 'dataset/a065_kp/S023C003P064R002A065_rgb_kp.json', 'dataset/a065_kp/S027C001P083R001A065_rgb_kp.json', 'dataset/a065_kp/S019C003P046R002A065_rgb_kp.json', 'dataset/a065_kp/S030C003P094R002A065_rgb_kp.json', 'dataset/a065_kp/S024C003P060R001A065_rgb_kp.json', 'dataset/a065_kp/S019C003P048R002A065_rgb_kp.json', 'dataset/a065_kp/S027C003P081R002A065_rgb_kp.json', 'dataset/a065_kp/S030C003P091R002A065_rgb_kp.json', 'dataset/a065_kp/S026C002P051R001A065_rgb_kp.json', 'dataset/a065_kp/S022C002P063R001A065_rgb_kp.json', 'dataset/a065_kp/S026C002P041R001A065_rgb_kp.json', 'dataset/a065_kp/S029C001P080R002A065_rgb_kp.json', 'dataset/a065_kp/S019C003P049R001A065_rgb_kp.json', 'dataset/a065_kp/S029C003P048R002A065_rgb_kp.json', 'dataset/a065_kp/S026C003P077R002A065_rgb_kp.json', 'dataset/a065_kp/S020C001P044R002A065_rgb_kp.json', 'dataset/a065_kp/S020C001P041R001A065_rgb_kp.json', 'dataset/a065_kp/S032C001P102R001A065_rgb_kp.json', 'dataset/a065_kp/S031C003P044R002A065_rgb_kp.json', 'dataset/a065_kp/S025C003P065R002A065_rgb_kp.json', 'dataset/a065_kp/S020C002P043R002A065_rgb_kp.json', 'dataset/a065_kp/S025C003P056R002A065_rgb_kp.json', 'dataset/a065_kp/S032C001P043R002A065_rgb_kp.json', 'dataset/a065_kp/S031C002P098R002A065_rgb_kp.json', 'dataset/a065_kp/S029C001P089R001A065_rgb_kp.json', 'dataset/a065_kp/S019C002P046R002A065_rgb_kp.json', 'dataset/a065_kp/S031C001P101R001A065_rgb_kp.json', 'dataset/a065_kp/S022C002P064R002A065_rgb_kp.json', 'dataset/a065_kp/S029C001P051R001A065_rgb_kp.json', 'dataset/a065_kp/S019C003P042R001A065_rgb_kp.json', 'dataset/a065_kp/S023C002P059R001A065_rgb_kp.json', 'dataset/a017_kp/S001C001P005R001A017_rgb_kp.json', 'dataset/a017_kp/S005C002P013R002A017_rgb_kp.json', 'dataset/a017_kp/S007C002P028R002A017_rgb_kp.json', 'dataset/a017_kp/S008C002P001R001A017_rgb_kp.json', 'dataset/a017_kp/S007C002P015R001A017_rgb_kp.json', 'dataset/a017_kp/S007C003P017R001A017_rgb_kp.json', 'dataset/a017_kp/S012C003P037R002A017_rgb_kp.json', 'dataset/a017_kp/S002C003P012R001A017_rgb_kp.json', 'dataset/a017_kp/S013C002P028R002A017_rgb_kp.json', 'dataset/a017_kp/S010C003P007R002A017_rgb_kp.json', 'dataset/a017_kp/S003C001P018R002A017_rgb_kp.json', 'dataset/a017_kp/S011C003P015R001A017_rgb_kp.json', 'dataset/a017_kp/S002C003P007R002A017_rgb_kp.json', 'dataset/a017_kp/S012C001P015R002A017_rgb_kp.json', 'dataset/a017_kp/S005C003P021R001A017_rgb_kp.json', 'dataset/a017_kp/S008C002P033R001A017_rgb_kp.json', 'dataset/a017_kp/S008C003P025R002A017_rgb_kp.json', 'dataset/a017_kp/S016C001P040R001A017_rgb_kp.json', 'dataset/a017_kp/S009C002P007R002A017_rgb_kp.json', 'dataset/a017_kp/S003C001P002R002A017_rgb_kp.json', 'dataset/a017_kp/S010C002P025R002A017_rgb_kp.json', 'dataset/a017_kp/S003C001P008R002A017_rgb_kp.json', 'dataset/a017_kp/S013C003P037R002A017_rgb_kp.json', 'dataset/a017_kp/S012C001P017R001A017_rgb_kp.json', 'dataset/a017_kp/S002C001P009R001A017_rgb_kp.json', 'dataset/a017_kp/S007C002P015R002A017_rgb_kp.json', 'dataset/a017_kp/S014C001P027R001A017_rgb_kp.json', 'dataset/a017_kp/S011C001P002R001A017_rgb_kp.json', 'dataset/a017_kp/S011C001P015R001A017_rgb_kp.json', 'dataset/a017_kp/S010C002P007R001A017_rgb_kp.json', 'dataset/a017_kp/S008C001P019R001A017_rgb_kp.json', 'dataset/a017_kp/S012C003P018R001A017_rgb_kp.json', 'dataset/a017_kp/S016C003P040R001A017_rgb_kp.json', 'dataset/a017_kp/S011C001P018R001A017_rgb_kp.json', 'dataset/a017_kp/S011C003P038R002A017_rgb_kp.json', 'dataset/a017_kp/S010C003P013R002A017_rgb_kp.json', 'dataset/a017_kp/S002C002P009R002A017_rgb_kp.json', 'dataset/a017_kp/S016C002P007R002A017_rgb_kp.json', 'dataset/a017_kp/S012C002P008R002A017_rgb_kp.json', 'dataset/a017_kp/S006C003P001R002A017_rgb_kp.json', 'dataset/a017_kp/S012C003P016R002A017_rgb_kp.json', 'dataset/a017_kp/S004C001P003R001A017_rgb_kp.json', 'dataset/a017_kp/S009C001P025R001A017_rgb_kp.json', 'dataset/a017_kp/S016C002P040R001A017_rgb_kp.json', 'dataset/a017_kp/S008C003P008R002A017_rgb_kp.json', 'dataset/a017_kp/S004C001P007R001A017_rgb_kp.json', 'dataset/a017_kp/S012C001P008R001A017_rgb_kp.json', 'dataset/a017_kp/S013C003P008R002A017_rgb_kp.json', 'dataset/a017_kp/S008C001P030R001A017_rgb_kp.json', 'dataset/a017_kp/S015C002P007R001A017_rgb_kp.json', 'dataset/a017_kp/S001C001P002R002A017_rgb_kp.json', 'dataset/a017_kp/S014C003P039R002A017_rgb_kp.json', 'dataset/a017_kp/S001C001P007R001A017_rgb_kp.json', 'dataset/a017_kp/S010C003P015R002A017_rgb_kp.json', 'dataset/a017_kp/S010C002P008R002A017_rgb_kp.json', 'dataset/a017_kp/S008C003P033R001A017_rgb_kp.json', 'dataset/a017_kp/S004C002P007R002A017_rgb_kp.json', 'dataset/a017_kp/S013C001P037R002A017_rgb_kp.json', 'dataset/a017_kp/S015C002P017R002A017_rgb_kp.json', 'dataset/a017_kp/S011C002P028R002A017_rgb_kp.json', 'dataset/a017_kp/S013C001P027R002A017_rgb_kp.json', 'dataset/a017_kp/S012C001P037R001A017_rgb_kp.json', 'dataset/a017_kp/S011C002P025R001A017_rgb_kp.json', 'dataset/a017_kp/S004C002P007R001A017_rgb_kp.json', 'dataset/a017_kp/S006C001P017R001A017_rgb_kp.json', 'dataset/a017_kp/S014C003P025R002A017_rgb_kp.json', 'dataset/a017_kp/S013C002P025R002A017_rgb_kp.json', 'dataset/a017_kp/S009C003P007R002A017_rgb_kp.json', 'dataset/a017_kp/S013C001P028R001A017_rgb_kp.json', 'dataset/a017_kp/S013C002P019R002A017_rgb_kp.json', 'dataset/a017_kp/S007C001P025R002A017_rgb_kp.json', 'dataset/a017_kp/S006C003P022R001A017_rgb_kp.json', 'dataset/a017_kp/S001C001P003R001A017_rgb_kp.json', 'dataset/a017_kp/S008C001P001R002A017_rgb_kp.json', 'dataset/a017_kp/S008C001P008R002A017_rgb_kp.json', 'dataset/a017_kp/S011C001P028R002A017_rgb_kp.json', 'dataset/a017_kp/S001C002P005R002A017_rgb_kp.json', 'dataset/a017_kp/S013C001P025R001A017_rgb_kp.json', 'dataset/a017_kp/S003C002P007R002A017_rgb_kp.json', 'dataset/a017_kp/S008C001P007R002A017_rgb_kp.json', 'dataset/a017_kp/S012C002P037R002A017_rgb_kp.json', 'dataset/a017_kp/S009C003P016R002A017_rgb_kp.json', 'dataset/a017_kp/S012C003P025R002A017_rgb_kp.json', 'dataset/a017_kp/S006C001P015R002A017_rgb_kp.json', 'dataset/a017_kp/S017C001P003R001A017_rgb_kp.json', 'dataset/a017_kp/S004C003P008R002A017_rgb_kp.json', 'dataset/a017_kp/S006C001P023R001A017_rgb_kp.json', 'dataset/a017_kp/S012C001P037R002A017_rgb_kp.json', 'dataset/a017_kp/S001C001P006R001A017_rgb_kp.json', 'dataset/a017_kp/S002C001P008R001A017_rgb_kp.json', 'dataset/a017_kp/S004C002P003R002A017_rgb_kp.json', 'dataset/a017_kp/S012C002P016R001A017_rgb_kp.json', 'dataset/a017_kp/S003C002P017R002A017_rgb_kp.json', 'dataset/a017_kp/S012C003P027R002A017_rgb_kp.json', 'dataset/a017_kp/S001C002P003R002A017_rgb_kp.json', 'dataset/a017_kp/S017C003P007R002A017_rgb_kp.json', 'dataset/a017_kp/S012C002P027R002A017_rgb_kp.json', 'dataset/a017_kp/S002C003P011R001A017_rgb_kp.json', 'dataset/a017_kp/S001C003P002R001A017_rgb_kp.json', 'dataset/a017_kp/S016C003P007R001A017_rgb_kp.json', 'dataset/a013_kp/S015C002P019R001A013_rgb_kp.json', 'dataset/a013_kp/S006C003P017R002A013_rgb_kp.json', 'dataset/a013_kp/S012C003P019R001A013_rgb_kp.json', 'dataset/a013_kp/S001C001P007R002A013_rgb_kp.json', 'dataset/a013_kp/S013C002P025R002A013_rgb_kp.json', 'dataset/a013_kp/S007C001P015R001A013_rgb_kp.json', 'dataset/a013_kp/S013C002P025R001A013_rgb_kp.json', 'dataset/a013_kp/S016C001P039R002A013_rgb_kp.json', 'dataset/a013_kp/S003C001P015R002A013_rgb_kp.json', 'dataset/a013_kp/S015C002P025R002A013_rgb_kp.json', 'dataset/a013_kp/S010C001P016R002A013_rgb_kp.json', 'dataset/a013_kp/S010C003P021R001A013_rgb_kp.json', 'dataset/a013_kp/S003C003P016R002A013_rgb_kp.json', 'dataset/a013_kp/S006C002P015R002A013_rgb_kp.json', 'dataset/a013_kp/S008C001P029R002A013_rgb_kp.json', 'dataset/a013_kp/S005C003P010R002A013_rgb_kp.json', 'dataset/a013_kp/S013C001P008R002A013_rgb_kp.json', 'dataset/a013_kp/S006C002P016R001A013_rgb_kp.json', 'dataset/a013_kp/S008C002P008R002A013_rgb_kp.json', 'dataset/a013_kp/S009C001P008R002A013_rgb_kp.json', 'dataset/a013_kp/S014C002P019R001A013_rgb_kp.json', 'dataset/a013_kp/S011C002P015R001A013_rgb_kp.json', 'dataset/a013_kp/S005C001P015R001A013_rgb_kp.json', 'dataset/a013_kp/S016C003P021R001A013_rgb_kp.json', 'dataset/a013_kp/S009C002P008R002A013_rgb_kp.json', 'dataset/a013_kp/S008C003P031R001A013_rgb_kp.json', 'dataset/a013_kp/S005C001P004R002A013_rgb_kp.json', 'dataset/a013_kp/S001C002P001R001A013_rgb_kp.json', 'dataset/a013_kp/S005C003P015R001A013_rgb_kp.json', 'dataset/a013_kp/S007C003P028R002A013_rgb_kp.json', 'dataset/a013_kp/S011C002P019R002A013_rgb_kp.json', 'dataset/a013_kp/S008C003P035R002A013_rgb_kp.json', 'dataset/a013_kp/S013C002P028R001A013_rgb_kp.json', 'dataset/a013_kp/S016C002P040R002A013_rgb_kp.json', 'dataset/a013_kp/S015C003P017R001A013_rgb_kp.json', 'dataset/a013_kp/S007C003P026R001A013_rgb_kp.json', 'dataset/a013_kp/S015C002P016R001A013_rgb_kp.json', 'dataset/a013_kp/S001C003P007R001A013_rgb_kp.json', 'dataset/a013_kp/S011C002P016R002A013_rgb_kp.json', 'dataset/a013_kp/S015C002P025R001A013_rgb_kp.json', 'dataset/a013_kp/S010C001P008R002A013_rgb_kp.json', 'dataset/a013_kp/S015C001P016R002A013_rgb_kp.json', 'dataset/a013_kp/S008C003P033R001A013_rgb_kp.json', 'dataset/a013_kp/S007C002P019R001A013_rgb_kp.json', 'dataset/a013_kp/S016C002P008R002A013_rgb_kp.json', 'dataset/a013_kp/S006C003P001R002A013_rgb_kp.json', 'dataset/a013_kp/S014C003P039R002A013_rgb_kp.json', 'dataset/a013_kp/S009C003P007R002A013_rgb_kp.json', 'dataset/a013_kp/S008C002P031R002A013_rgb_kp.json', 'dataset/a013_kp/S012C002P025R001A013_rgb_kp.json', 'dataset/a013_kp/S013C002P015R001A013_rgb_kp.json', 'dataset/a013_kp/S008C001P008R001A013_rgb_kp.json', 'dataset/a013_kp/S017C002P020R001A013_rgb_kp.json', 'dataset/a013_kp/S012C001P027R001A013_rgb_kp.json', 'dataset/a013_kp/S008C002P033R002A013_rgb_kp.json', 'dataset/a013_kp/S012C003P027R001A013_rgb_kp.json', 'dataset/a013_kp/S002C002P008R002A013_rgb_kp.json', 'dataset/a013_kp/S012C002P019R002A013_rgb_kp.json', 'dataset/a013_kp/S006C001P024R002A013_rgb_kp.json', 'dataset/a013_kp/S002C001P008R002A013_rgb_kp.json', 'dataset/a013_kp/S008C001P033R001A013_rgb_kp.json', 'dataset/a013_kp/S011C002P007R001A013_rgb_kp.json', 'dataset/a013_kp/S005C003P010R001A013_rgb_kp.json', 'dataset/a013_kp/S008C003P032R001A013_rgb_kp.json', 'dataset/a013_kp/S015C001P017R002A013_rgb_kp.json', 'dataset/a013_kp/S006C002P001R001A013_rgb_kp.json', 'dataset/a013_kp/S003C003P017R001A013_rgb_kp.json', 'dataset/a013_kp/S007C002P015R002A013_rgb_kp.json', 'dataset/a013_kp/S006C002P016R002A013_rgb_kp.json', 'dataset/a013_kp/S005C002P017R002A013_rgb_kp.json', 'dataset/a013_kp/S011C001P038R001A013_rgb_kp.json', 'dataset/a013_kp/S017C001P015R002A013_rgb_kp.json', 'dataset/a013_kp/S013C002P037R002A013_rgb_kp.json', 'dataset/a013_kp/S013C002P018R001A013_rgb_kp.json', 'dataset/a013_kp/S012C002P016R001A013_rgb_kp.json', 'dataset/a013_kp/S007C002P026R001A013_rgb_kp.json', 'dataset/a013_kp/S013C003P008R002A013_rgb_kp.json', 'dataset/a013_kp/S016C003P039R001A013_rgb_kp.json', 'dataset/a013_kp/S008C001P019R002A013_rgb_kp.json', 'dataset/a013_kp/S002C001P011R002A013_rgb_kp.json', 'dataset/a013_kp/S011C001P007R001A013_rgb_kp.json', 'dataset/a013_kp/S009C001P007R002A013_rgb_kp.json', 'dataset/a013_kp/S011C002P028R001A013_rgb_kp.json', 'dataset/a013_kp/S016C003P040R002A013_rgb_kp.json', 'dataset/a013_kp/S017C001P009R002A013_rgb_kp.json', 'dataset/a013_kp/S007C003P026R002A013_rgb_kp.json', 'dataset/a013_kp/S011C003P015R002A013_rgb_kp.json', 'dataset/a013_kp/S002C001P014R001A013_rgb_kp.json', 'dataset/a013_kp/S015C002P017R001A013_rgb_kp.json', 'dataset/a013_kp/S012C003P018R001A013_rgb_kp.json', 'dataset/a013_kp/S015C001P019R002A013_rgb_kp.json', 'dataset/a013_kp/S012C003P015R001A013_rgb_kp.json', 'dataset/a013_kp/S011C001P001R002A013_rgb_kp.json', 'dataset/a013_kp/S007C003P016R002A013_rgb_kp.json', 'dataset/a013_kp/S016C001P019R001A013_rgb_kp.json', 'dataset/a013_kp/S008C001P033R002A013_rgb_kp.json', 'dataset/a013_kp/S008C002P019R001A013_rgb_kp.json', 'dataset/a013_kp/S003C002P017R001A013_rgb_kp.json', 'dataset/a013_kp/S002C002P009R001A013_rgb_kp.json', 'dataset/a013_kp/S007C001P016R002A013_rgb_kp.json', 'dataset/a029_kp/S010C002P016R002A029_rgb_kp.json', 'dataset/a029_kp/S010C001P019R002A029_rgb_kp.json', 'dataset/a029_kp/S011C001P008R002A029_rgb_kp.json', 'dataset/a029_kp/S007C003P018R001A029_rgb_kp.json', 'dataset/a029_kp/S009C003P016R001A029_rgb_kp.json', 'dataset/a029_kp/S006C002P016R002A029_rgb_kp.json', 'dataset/a029_kp/S015C001P015R002A029_rgb_kp.json', 'dataset/a029_kp/S008C002P019R002A029_rgb_kp.json', 'dataset/a029_kp/S009C002P007R001A029_rgb_kp.json', 'dataset/a029_kp/S008C002P030R001A029_rgb_kp.json', 'dataset/a029_kp/S004C001P020R001A029_rgb_kp.json', 'dataset/a029_kp/S014C001P015R001A029_rgb_kp.json', 'dataset/a029_kp/S003C003P018R002A029_rgb_kp.json', 'dataset/a029_kp/S014C003P019R001A029_rgb_kp.json', 'dataset/a029_kp/S011C001P015R002A029_rgb_kp.json', 'dataset/a029_kp/S008C001P025R001A029_rgb_kp.json', 'dataset/a029_kp/S017C001P016R001A029_rgb_kp.json', 'dataset/a029_kp/S003C001P017R001A029_rgb_kp.json', 'dataset/a029_kp/S005C003P016R001A029_rgb_kp.json', 'dataset/a029_kp/S010C003P019R001A029_rgb_kp.json', 'dataset/a029_kp/S010C001P015R002A029_rgb_kp.json', 'dataset/a029_kp/S016C002P040R002A029_rgb_kp.json', 'dataset/a029_kp/S006C003P015R002A029_rgb_kp.json', 'dataset/a029_kp/S013C001P008R002A029_rgb_kp.json', 'dataset/a029_kp/S001C002P005R001A029_rgb_kp.json', 'dataset/a029_kp/S012C001P028R002A029_rgb_kp.json', 'dataset/a029_kp/S017C003P017R001A029_rgb_kp.json', 'dataset/a029_kp/S013C001P037R001A029_rgb_kp.json', 'dataset/a029_kp/S013C002P015R002A029_rgb_kp.json', 'dataset/a029_kp/S006C002P022R001A029_rgb_kp.json', 'dataset/a029_kp/S008C002P031R002A029_rgb_kp.json', 'dataset/a029_kp/S001C001P004R001A029_rgb_kp.json', 'dataset/a029_kp/S016C003P025R001A029_rgb_kp.json', 'dataset/a029_kp/S008C003P032R001A029_rgb_kp.json', 'dataset/a029_kp/S013C002P025R002A029_rgb_kp.json', 'dataset/a029_kp/S005C001P016R002A029_rgb_kp.json', 'dataset/a029_kp/S008C003P035R001A029_rgb_kp.json', 'dataset/a029_kp/S004C001P020R002A029_rgb_kp.json', 'dataset/a029_kp/S002C001P010R002A029_rgb_kp.json', 'dataset/a029_kp/S006C001P015R001A029_rgb_kp.json', 'dataset/a029_kp/S014C002P027R002A029_rgb_kp.json', 'dataset/a029_kp/S007C001P028R001A029_rgb_kp.json', 'dataset/a029_kp/S010C003P018R001A029_rgb_kp.json', 'dataset/a029_kp/S013C003P008R002A029_rgb_kp.json', 'dataset/a029_kp/S001C001P001R001A029_rgb_kp.json', 'dataset/a029_kp/S003C001P002R001A029_rgb_kp.json', 'dataset/a029_kp/S013C001P017R001A029_rgb_kp.json', 'dataset/a029_kp/S006C001P001R001A029_rgb_kp.json', 'dataset/a029_kp/S017C002P017R002A029_rgb_kp.json', 'dataset/a029_kp/S010C001P013R001A029_rgb_kp.json', 'dataset/a029_kp/S012C003P018R002A029_rgb_kp.json', 'dataset/a029_kp/S003C001P018R002A029_rgb_kp.json', 'dataset/a029_kp/S002C003P011R001A029_rgb_kp.json', 'dataset/a029_kp/S003C003P008R002A029_rgb_kp.json', 'dataset/a029_kp/S016C001P039R002A029_rgb_kp.json', 'dataset/a029_kp/S008C001P025R002A029_rgb_kp.json', 'dataset/a029_kp/S007C001P001R002A029_rgb_kp.json', 'dataset/a029_kp/S003C003P001R002A029_rgb_kp.json', 'dataset/a029_kp/S002C003P009R002A029_rgb_kp.json', 'dataset/a029_kp/S005C003P013R001A029_rgb_kp.json', 'dataset/a029_kp/S014C002P019R001A029_rgb_kp.json', 'dataset/a029_kp/S015C001P007R002A029_rgb_kp.json', 'dataset/a029_kp/S007C003P025R002A029_rgb_kp.json', 'dataset/a029_kp/S017C001P008R001A029_rgb_kp.json', 'dataset/a029_kp/S005C002P017R001A029_rgb_kp.json', 'dataset/a029_kp/S014C002P039R001A029_rgb_kp.json', 'dataset/a029_kp/S016C001P040R002A029_rgb_kp.json', 'dataset/a029_kp/S014C002P007R001A029_rgb_kp.json', 'dataset/a029_kp/S014C001P015R002A029_rgb_kp.json', 'dataset/a029_kp/S006C003P023R002A029_rgb_kp.json', 'dataset/a029_kp/S006C002P017R001A029_rgb_kp.json', 'dataset/a029_kp/S007C003P001R002A029_rgb_kp.json', 'dataset/a029_kp/S001C002P002R002A029_rgb_kp.json', 'dataset/a029_kp/S012C002P019R002A029_rgb_kp.json', 'dataset/a029_kp/S015C003P025R002A029_rgb_kp.json', 'dataset/a029_kp/S001C003P003R002A029_rgb_kp.json', 'dataset/a029_kp/S012C002P027R002A029_rgb_kp.json', 'dataset/a029_kp/S017C002P016R001A029_rgb_kp.json', 'dataset/a029_kp/S002C002P014R002A029_rgb_kp.json', 'dataset/a029_kp/S010C003P008R002A029_rgb_kp.json', 'dataset/a029_kp/S001C001P008R002A029_rgb_kp.json', 'dataset/a029_kp/S015C002P017R002A029_rgb_kp.json', 'dataset/a029_kp/S004C003P008R002A029_rgb_kp.json', 'dataset/a029_kp/S007C002P001R002A029_rgb_kp.json', 'dataset/a029_kp/S011C003P002R001A029_rgb_kp.json', 'dataset/a029_kp/S007C002P015R001A029_rgb_kp.json', 'dataset/a029_kp/S017C003P017R002A029_rgb_kp.json', 'dataset/a029_kp/S008C001P008R001A029_rgb_kp.json', 'dataset/a029_kp/S005C002P013R002A029_rgb_kp.json', 'dataset/a029_kp/S013C001P028R001A029_rgb_kp.json', 'dataset/a029_kp/S011C003P007R001A029_rgb_kp.json', 'dataset/a029_kp/S010C002P018R002A029_rgb_kp.json', 'dataset/a029_kp/S003C003P016R001A029_rgb_kp.json', 'dataset/a029_kp/S004C002P007R001A029_rgb_kp.json', 'dataset/a029_kp/S002C002P010R001A029_rgb_kp.json', 'dataset/a029_kp/S003C003P015R002A029_rgb_kp.json', 'dataset/a029_kp/S016C002P008R002A029_rgb_kp.json', 'dataset/a029_kp/S005C002P004R001A029_rgb_kp.json', 'dataset/a029_kp/S009C001P019R001A029_rgb_kp.json', 'dataset/a029_kp/S002C002P012R001A029_rgb_kp.json', 'dataset/a061_kp/S030C001P075R001A061_rgb_kp.json', 'dataset/a061_kp/S030C003P076R002A061_rgb_kp.json', 'dataset/a061_kp/S030C002P011R002A061_rgb_kp.json', 'dataset/a061_kp/S030C001P044R001A061_rgb_kp.json', 'dataset/a061_kp/S028C003P043R002A061_rgb_kp.json', 'dataset/a061_kp/S032C001P044R001A061_rgb_kp.json', 'dataset/a061_kp/S022C001P065R001A061_rgb_kp.json', 'dataset/a061_kp/S020C002P043R001A061_rgb_kp.json', 'dataset/a061_kp/S023C003P059R002A061_rgb_kp.json', 'dataset/a061_kp/S032C001P041R001A061_rgb_kp.json', 'dataset/a061_kp/S028C003P073R002A061_rgb_kp.json', 'dataset/a061_kp/S023C001P060R001A061_rgb_kp.json', 'dataset/a061_kp/S025C003P066R001A061_rgb_kp.json', 'dataset/a061_kp/S021C001P060R002A061_rgb_kp.json', 'dataset/a061_kp/S024C003P062R001A061_rgb_kp.json', 'dataset/a061_kp/S031C001P041R002A061_rgb_kp.json', 'dataset/a061_kp/S025C003P059R001A061_rgb_kp.json', 'dataset/a061_kp/S031C002P097R002A061_rgb_kp.json', 'dataset/a061_kp/S027C003P084R001A061_rgb_kp.json', 'dataset/a061_kp/S023C003P061R001A061_rgb_kp.json', 'dataset/a061_kp/S029C001P049R002A061_rgb_kp.json', 'dataset/a061_kp/S031C001P100R002A061_rgb_kp.json', 'dataset/a061_kp/S018C003P008R001A061_rgb_kp.json', 'dataset/a061_kp/S028C002P043R001A061_rgb_kp.json', 'dataset/a061_kp/S031C001P042R002A061_rgb_kp.json', 'dataset/a061_kp/S020C003P054R002A061_rgb_kp.json', 'dataset/a061_kp/S029C001P067R002A061_rgb_kp.json', 'dataset/a061_kp/S030C002P096R001A061_rgb_kp.json', 'dataset/a061_kp/S022C003P064R002A061_rgb_kp.json', 'dataset/a061_kp/S022C002P061R001A061_rgb_kp.json', 'dataset/a061_kp/S026C003P071R002A061_rgb_kp.json', 'dataset/a061_kp/S029C002P008R002A061_rgb_kp.json', 'dataset/a061_kp/S024C003P057R002A061_rgb_kp.json', 'dataset/a061_kp/S025C001P065R002A061_rgb_kp.json', 'dataset/a061_kp/S024C003P064R002A061_rgb_kp.json', 'dataset/a061_kp/S030C001P043R001A061_rgb_kp.json', 'dataset/a061_kp/S023C003P058R002A061_rgb_kp.json', 'dataset/a061_kp/S026C001P077R002A061_rgb_kp.json', 'dataset/a061_kp/S026C002P072R002A061_rgb_kp.json', 'dataset/a061_kp/S024C003P067R002A061_rgb_kp.json', 'dataset/a061_kp/S018C003P043R002A061_rgb_kp.json', 'dataset/a061_kp/S030C001P011R001A061_rgb_kp.json', 'dataset/a061_kp/S028C001P070R002A061_rgb_kp.json', 'dataset/a061_kp/S022C003P067R001A061_rgb_kp.json', 'dataset/a061_kp/S027C001P085R001A061_rgb_kp.json', 'dataset/a061_kp/S030C003P008R001A061_rgb_kp.json', 'dataset/a061_kp/S031C001P096R001A061_rgb_kp.json', 'dataset/a061_kp/S032C003P041R002A061_rgb_kp.json', 'dataset/a061_kp/S018C003P041R002A061_rgb_kp.json', 'dataset/a061_kp/S031C003P044R002A061_rgb_kp.json', 'dataset/a061_kp/S031C001P051R002A061_rgb_kp.json', 'dataset/a061_kp/S023C003P061R002A061_rgb_kp.json', 'dataset/a061_kp/S019C002P048R002A061_rgb_kp.json', 'dataset/a061_kp/S018C001P042R002A061_rgb_kp.json', 'dataset/a061_kp/S031C003P051R001A061_rgb_kp.json', 'dataset/a061_kp/S023C001P068R002A061_rgb_kp.json', 'dataset/a061_kp/S029C002P067R002A061_rgb_kp.json', 'dataset/a061_kp/S023C001P064R001A061_rgb_kp.json', 'dataset/a061_kp/S025C003P056R001A061_rgb_kp.json', 'dataset/a061_kp/S032C001P105R001A061_rgb_kp.json', 'dataset/a061_kp/S029C003P041R001A061_rgb_kp.json', 'dataset/a061_kp/S026C002P051R001A061_rgb_kp.json', 'dataset/a061_kp/S031C003P006R002A061_rgb_kp.json', 'dataset/a061_kp/S018C003P008R002A061_rgb_kp.json', 'dataset/a061_kp/S029C003P090R001A061_rgb_kp.json', 'dataset/a061_kp/S030C001P067R002A061_rgb_kp.json', 'dataset/a061_kp/S032C001P102R002A061_rgb_kp.json', 'dataset/a061_kp/S032C003P008R001A061_rgb_kp.json', 'dataset/a061_kp/S030C002P076R001A061_rgb_kp.json', 'dataset/a061_kp/S028C003P048R002A061_rgb_kp.json', 'dataset/a061_kp/S025C002P056R002A061_rgb_kp.json', 'dataset/a061_kp/S032C001P067R002A061_rgb_kp.json', 'dataset/a061_kp/S029C001P006R001A061_rgb_kp.json', 'dataset/a061_kp/S018C001P041R001A061_rgb_kp.json', 'dataset/a061_kp/S031C002P044R001A061_rgb_kp.json', 'dataset/a061_kp/S026C002P008R001A061_rgb_kp.json', 'dataset/a061_kp/S027C001P041R002A061_rgb_kp.json', 'dataset/a061_kp/S032C002P043R002A061_rgb_kp.json', 'dataset/a061_kp/S026C003P049R001A061_rgb_kp.json', 'dataset/a061_kp/S025C003P055R002A061_rgb_kp.json', 'dataset/a061_kp/S024C003P057R001A061_rgb_kp.json', 'dataset/a061_kp/S023C001P068R001A061_rgb_kp.json', 'dataset/a061_kp/S031C002P099R001A061_rgb_kp.json', 'dataset/a061_kp/S030C001P085R001A061_rgb_kp.json', 'dataset/a061_kp/S024C002P064R001A061_rgb_kp.json', 'dataset/a061_kp/S030C002P076R002A061_rgb_kp.json', 'dataset/a061_kp/S026C001P044R002A061_rgb_kp.json', 'dataset/a061_kp/S030C002P091R001A061_rgb_kp.json', 'dataset/a061_kp/S024C002P061R001A061_rgb_kp.json', 'dataset/a061_kp/S019C002P046R002A061_rgb_kp.json', 'dataset/a061_kp/S027C002P011R002A061_rgb_kp.json', 'dataset/a061_kp/S023C001P059R001A061_rgb_kp.json', 'dataset/a061_kp/S020C002P008R002A061_rgb_kp.json', 'dataset/a061_kp/S029C003P089R002A061_rgb_kp.json', 'dataset/a061_kp/S030C001P096R001A061_rgb_kp.json', 'dataset/a061_kp/S030C003P092R002A061_rgb_kp.json', 'dataset/a061_kp/S023C002P060R002A061_rgb_kp.json', 'dataset/a061_kp/S029C003P044R001A061_rgb_kp.json', 'dataset/a061_kp/S031C001P006R001A061_rgb_kp.json', 'dataset/a061_kp/S020C003P043R001A061_rgb_kp.json', 'dataset/a021_kp/S009C001P016R001A021_rgb_kp.json', 'dataset/a021_kp/S013C003P037R002A021_rgb_kp.json', 'dataset/a021_kp/S011C002P016R001A021_rgb_kp.json', 'dataset/a021_kp/S010C002P017R001A021_rgb_kp.json', 'dataset/a021_kp/S008C001P033R001A021_rgb_kp.json', 'dataset/a021_kp/S003C002P018R002A021_rgb_kp.json', 'dataset/a021_kp/S008C002P033R001A021_rgb_kp.json', 'dataset/a021_kp/S008C003P034R001A021_rgb_kp.json', 'dataset/a021_kp/S014C003P008R001A021_rgb_kp.json', 'dataset/a021_kp/S017C003P016R002A021_rgb_kp.json', 'dataset/a021_kp/S015C003P007R001A021_rgb_kp.json', 'dataset/a021_kp/S012C002P017R002A021_rgb_kp.json', 'dataset/a021_kp/S015C003P015R001A021_rgb_kp.json', 'dataset/a021_kp/S003C001P002R001A021_rgb_kp.json', 'dataset/a021_kp/S008C003P031R002A021_rgb_kp.json', 'dataset/a021_kp/S006C002P016R002A021_rgb_kp.json', 'dataset/a021_kp/S007C001P026R001A021_rgb_kp.json', 'dataset/a021_kp/S011C002P028R001A021_rgb_kp.json', 'dataset/a021_kp/S007C001P015R002A021_rgb_kp.json', 'dataset/a021_kp/S017C002P016R002A021_rgb_kp.json', 'dataset/a021_kp/S003C002P015R002A021_rgb_kp.json', 'dataset/a021_kp/S013C003P016R002A021_rgb_kp.json', 'dataset/a021_kp/S017C001P003R001A021_rgb_kp.json', 'dataset/a021_kp/S011C003P016R001A021_rgb_kp.json', 'dataset/a021_kp/S003C002P016R001A021_rgb_kp.json', 'dataset/a021_kp/S011C003P028R001A021_rgb_kp.json', 'dataset/a021_kp/S017C002P007R002A021_rgb_kp.json', 'dataset/a021_kp/S002C002P007R002A021_rgb_kp.json', 'dataset/a021_kp/S002C002P013R001A021_rgb_kp.json', 'dataset/a021_kp/S002C001P013R002A021_rgb_kp.json', 'dataset/a021_kp/S013C002P007R002A021_rgb_kp.json', 'dataset/a021_kp/S015C002P007R001A021_rgb_kp.json', 'dataset/a021_kp/S008C003P032R002A021_rgb_kp.json', 'dataset/a021_kp/S005C001P016R001A021_rgb_kp.json', 'dataset/a021_kp/S008C003P033R001A021_rgb_kp.json', 'dataset/a021_kp/S015C002P019R002A021_rgb_kp.json', 'dataset/a021_kp/S002C003P007R002A021_rgb_kp.json', 'dataset/a021_kp/S016C003P021R001A021_rgb_kp.json', 'dataset/a021_kp/S017C001P008R001A021_rgb_kp.json', 'dataset/a021_kp/S011C001P038R002A021_rgb_kp.json', 'dataset/a021_kp/S016C001P025R001A021_rgb_kp.json', 'dataset/a021_kp/S010C002P016R001A021_rgb_kp.json', 'dataset/a021_kp/S011C003P008R001A021_rgb_kp.json', 'dataset/a021_kp/S001C003P002R002A021_rgb_kp.json', 'dataset/a021_kp/S011C001P001R002A021_rgb_kp.json', 'dataset/a021_kp/S003C001P008R001A021_rgb_kp.json', 'dataset/a021_kp/S003C003P007R001A021_rgb_kp.json', 'dataset/a021_kp/S011C002P016R002A021_rgb_kp.json', 'dataset/a021_kp/S001C002P007R001A021_rgb_kp.json', 'dataset/a021_kp/S010C002P016R002A021_rgb_kp.json', 'dataset/a021_kp/S008C002P019R002A021_rgb_kp.json', 'dataset/a021_kp/S014C003P037R001A021_rgb_kp.json', 'dataset/a021_kp/S011C003P025R001A021_rgb_kp.json', 'dataset/a021_kp/S008C003P019R001A021_rgb_kp.json', 'dataset/a021_kp/S002C001P011R002A021_rgb_kp.json', 'dataset/a021_kp/S016C001P019R001A021_rgb_kp.json', 'dataset/a021_kp/S005C003P013R002A021_rgb_kp.json', 'dataset/a021_kp/S016C003P007R002A021_rgb_kp.json', 'dataset/a021_kp/S007C001P001R002A021_rgb_kp.json', 'dataset/a021_kp/S016C003P019R001A021_rgb_kp.json', 'dataset/a021_kp/S007C002P001R001A021_rgb_kp.json', 'dataset/a021_kp/S012C003P017R001A021_rgb_kp.json', 'dataset/a021_kp/S012C001P007R001A021_rgb_kp.json', 'dataset/a021_kp/S013C001P025R002A021_rgb_kp.json', 'dataset/a021_kp/S007C003P025R001A021_rgb_kp.json', 'dataset/a021_kp/S014C001P007R001A021_rgb_kp.json', 'dataset/a021_kp/S007C003P028R002A021_rgb_kp.json', 'dataset/a021_kp/S001C001P003R002A021_rgb_kp.json', 'dataset/a021_kp/S016C001P039R001A021_rgb_kp.json', 'dataset/a021_kp/S006C002P024R001A021_rgb_kp.json', 'dataset/a021_kp/S005C001P021R002A021_rgb_kp.json', 'dataset/a021_kp/S017C002P020R001A021_rgb_kp.json', 'dataset/a021_kp/S015C001P008R002A021_rgb_kp.json', 'dataset/a021_kp/S002C001P010R002A021_rgb_kp.json', 'dataset/a021_kp/S013C002P015R001A021_rgb_kp.json', 'dataset/a021_kp/S012C001P018R002A021_rgb_kp.json', 'dataset/a021_kp/S012C001P016R002A021_rgb_kp.json', 'dataset/a021_kp/S004C001P007R001A021_rgb_kp.json', 'dataset/a021_kp/S001C003P001R001A021_rgb_kp.json', 'dataset/a021_kp/S017C003P003R002A021_rgb_kp.json', 'dataset/a021_kp/S012C003P016R001A021_rgb_kp.json', 'dataset/a021_kp/S003C003P002R002A021_rgb_kp.json', 'dataset/a021_kp/S015C001P016R002A021_rgb_kp.json', 'dataset/a021_kp/S005C003P016R002A021_rgb_kp.json', 'dataset/a021_kp/S013C002P019R002A021_rgb_kp.json', 'dataset/a021_kp/S010C002P025R001A021_rgb_kp.json', 'dataset/a021_kp/S001C003P008R002A021_rgb_kp.json', 'dataset/a021_kp/S009C003P015R002A021_rgb_kp.json', 'dataset/a021_kp/S011C002P017R001A021_rgb_kp.json', 'dataset/a021_kp/S005C001P010R002A021_rgb_kp.json', 'dataset/a021_kp/S016C001P008R001A021_rgb_kp.json', 'dataset/a021_kp/S009C003P016R001A021_rgb_kp.json', 'dataset/a021_kp/S008C001P001R002A021_rgb_kp.json', 'dataset/a021_kp/S007C001P019R002A021_rgb_kp.json', 'dataset/a021_kp/S011C003P038R001A021_rgb_kp.json', 'dataset/a021_kp/S002C003P007R001A021_rgb_kp.json', 'dataset/a021_kp/S002C003P003R001A021_rgb_kp.json', 'dataset/a021_kp/S017C003P015R002A021_rgb_kp.json', 'dataset/a021_kp/S010C001P019R002A021_rgb_kp.json', 'dataset/a021_kp/S017C003P009R002A021_rgb_kp.json', 'dataset/a006_kp/S013C001P027R002A006_rgb_kp.json', 'dataset/a006_kp/S008C002P035R001A006_rgb_kp.json', 'dataset/a006_kp/S007C001P025R001A006_rgb_kp.json', 'dataset/a006_kp/S008C001P033R001A006_rgb_kp.json', 'dataset/a006_kp/S009C002P015R002A006_rgb_kp.json', 'dataset/a006_kp/S008C002P035R002A006_rgb_kp.json', 'dataset/a006_kp/S015C001P019R001A006_rgb_kp.json', 'dataset/a006_kp/S013C003P028R001A006_rgb_kp.json', 'dataset/a006_kp/S007C002P019R001A006_rgb_kp.json', 'dataset/a006_kp/S003C002P002R001A006_rgb_kp.json', 'dataset/a006_kp/S017C003P016R001A006_rgb_kp.json', 'dataset/a006_kp/S007C002P016R002A006_rgb_kp.json', 'dataset/a006_kp/S016C003P040R002A006_rgb_kp.json', 'dataset/a006_kp/S001C001P005R001A006_rgb_kp.json', 'dataset/a006_kp/S011C003P017R001A006_rgb_kp.json', 'dataset/a006_kp/S017C003P007R001A006_rgb_kp.json', 'dataset/a006_kp/S014C003P037R002A006_rgb_kp.json', 'dataset/a006_kp/S010C002P019R001A006_rgb_kp.json', 'dataset/a006_kp/S008C003P001R002A006_rgb_kp.json', 'dataset/a006_kp/S005C002P013R002A006_rgb_kp.json', 'dataset/a006_kp/S014C002P015R002A006_rgb_kp.json', 'dataset/a006_kp/S016C003P039R002A006_rgb_kp.json', 'dataset/a006_kp/S013C003P016R001A006_rgb_kp.json', 'dataset/a006_kp/S012C001P037R002A006_rgb_kp.json', 'dataset/a006_kp/S008C003P033R001A006_rgb_kp.json', 'dataset/a006_kp/S012C003P019R002A006_rgb_kp.json', 'dataset/a006_kp/S006C002P024R002A006_rgb_kp.json', 'dataset/a006_kp/S007C003P027R001A006_rgb_kp.json', 'dataset/a006_kp/S015C003P017R001A006_rgb_kp.json', 'dataset/a006_kp/S012C003P027R002A006_rgb_kp.json', 'dataset/a006_kp/S008C001P034R001A006_rgb_kp.json', 'dataset/a006_kp/S007C001P027R001A006_rgb_kp.json', 'dataset/a006_kp/S005C003P010R002A006_rgb_kp.json', 'dataset/a006_kp/S010C003P008R001A006_rgb_kp.json', 'dataset/a006_kp/S001C003P001R002A006_rgb_kp.json', 'dataset/a006_kp/S013C002P025R002A006_rgb_kp.json', 'dataset/a006_kp/S015C003P015R002A006_rgb_kp.json', 'dataset/a006_kp/S015C002P016R001A006_rgb_kp.json', 'dataset/a006_kp/S003C003P016R002A006_rgb_kp.json', 'dataset/a006_kp/S003C003P002R001A006_rgb_kp.json', 'dataset/a006_kp/S001C001P005R002A006_rgb_kp.json', 'dataset/a006_kp/S010C002P013R002A006_rgb_kp.json', 'dataset/a006_kp/S005C001P017R002A006_rgb_kp.json', 'dataset/a006_kp/S015C003P019R002A006_rgb_kp.json', 'dataset/a006_kp/S017C003P015R001A006_rgb_kp.json', 'dataset/a006_kp/S013C001P016R001A006_rgb_kp.json', 'dataset/a006_kp/S012C003P018R002A006_rgb_kp.json', 'dataset/a006_kp/S010C003P007R001A006_rgb_kp.json', 'dataset/a006_kp/S016C001P008R001A006_rgb_kp.json', 'dataset/a006_kp/S008C003P015R001A006_rgb_kp.json', 'dataset/a006_kp/S013C002P027R001A006_rgb_kp.json', 'dataset/a006_kp/S002C001P008R002A006_rgb_kp.json', 'dataset/a006_kp/S016C003P025R001A006_rgb_kp.json', 'dataset/a006_kp/S010C003P025R001A006_rgb_kp.json', 'dataset/a006_kp/S008C002P032R002A006_rgb_kp.json', 'dataset/a006_kp/S004C003P003R002A006_rgb_kp.json', 'dataset/a006_kp/S009C002P008R001A006_rgb_kp.json', 'dataset/a006_kp/S004C002P008R001A006_rgb_kp.json', 'dataset/a006_kp/S007C001P019R002A006_rgb_kp.json', 'dataset/a006_kp/S004C002P020R001A006_rgb_kp.json', 'dataset/a006_kp/S011C001P019R002A006_rgb_kp.json', 'dataset/a006_kp/S007C003P008R001A006_rgb_kp.json', 'dataset/a006_kp/S013C002P018R001A006_rgb_kp.json', 'dataset/a006_kp/S017C001P009R002A006_rgb_kp.json', 'dataset/a006_kp/S006C002P022R001A006_rgb_kp.json', 'dataset/a006_kp/S008C002P031R001A006_rgb_kp.json', 'dataset/a006_kp/S006C001P016R001A006_rgb_kp.json', 'dataset/a006_kp/S005C002P016R002A006_rgb_kp.json', 'dataset/a006_kp/S011C003P016R002A006_rgb_kp.json', 'dataset/a006_kp/S002C002P011R001A006_rgb_kp.json', 'dataset/a006_kp/S009C002P007R001A006_rgb_kp.json', 'dataset/a006_kp/S001C003P007R002A006_rgb_kp.json', 'dataset/a006_kp/S009C002P019R002A006_rgb_kp.json', 'dataset/a006_kp/S001C001P007R002A006_rgb_kp.json', 'dataset/a006_kp/S015C003P016R002A006_rgb_kp.json', 'dataset/a006_kp/S012C003P007R002A006_rgb_kp.json', 'dataset/a006_kp/S012C001P018R001A006_rgb_kp.json', 'dataset/a006_kp/S003C001P007R002A006_rgb_kp.json', 'dataset/a006_kp/S007C001P028R001A006_rgb_kp.json', 'dataset/a006_kp/S001C001P001R001A006_rgb_kp.json', 'dataset/a006_kp/S006C001P017R001A006_rgb_kp.json', 'dataset/a006_kp/S012C002P015R002A006_rgb_kp.json', 'dataset/a006_kp/S014C001P017R002A006_rgb_kp.json', 'dataset/a006_kp/S013C002P007R002A006_rgb_kp.json', 'dataset/a006_kp/S014C001P037R002A006_rgb_kp.json', 'dataset/a006_kp/S012C002P037R002A006_rgb_kp.json', 'dataset/a006_kp/S007C002P018R001A006_rgb_kp.json', 'dataset/a006_kp/S010C003P008R002A006_rgb_kp.json', 'dataset/a006_kp/S014C003P007R002A006_rgb_kp.json', 'dataset/a006_kp/S002C003P009R002A006_rgb_kp.json', 'dataset/a006_kp/S015C001P015R001A006_rgb_kp.json', 'dataset/a006_kp/S002C002P007R001A006_rgb_kp.json', 'dataset/a006_kp/S016C001P040R001A006_rgb_kp.json', 'dataset/a006_kp/S001C003P004R001A006_rgb_kp.json', 'dataset/a006_kp/S016C001P008R002A006_rgb_kp.json', 'dataset/a006_kp/S005C002P013R001A006_rgb_kp.json', 'dataset/a006_kp/S005C003P015R001A006_rgb_kp.json', 'dataset/a006_kp/S004C003P008R002A006_rgb_kp.json', 'dataset/a006_kp/S004C002P007R001A006_rgb_kp.json', 'dataset/a006_kp/S009C003P015R001A006_rgb_kp.json', 'dataset/a034_kp/S005C002P017R002A034_rgb_kp.json', 'dataset/a034_kp/S011C001P025R002A034_rgb_kp.json', 'dataset/a034_kp/S003C003P001R002A034_rgb_kp.json', 'dataset/a034_kp/S001C003P007R002A034_rgb_kp.json', 'dataset/a034_kp/S010C003P015R001A034_rgb_kp.json', 'dataset/a034_kp/S007C001P001R002A034_rgb_kp.json', 'dataset/a034_kp/S012C001P007R001A034_rgb_kp.json', 'dataset/a034_kp/S001C003P006R002A034_rgb_kp.json', 'dataset/a034_kp/S008C001P031R001A034_rgb_kp.json', 'dataset/a034_kp/S012C001P019R001A034_rgb_kp.json', 'dataset/a034_kp/S010C003P021R002A034_rgb_kp.json', 'dataset/a034_kp/S008C002P019R001A034_rgb_kp.json', 'dataset/a034_kp/S012C001P015R002A034_rgb_kp.json', 'dataset/a034_kp/S010C003P008R001A034_rgb_kp.json', 'dataset/a034_kp/S012C003P016R001A034_rgb_kp.json', 'dataset/a034_kp/S008C002P001R002A034_rgb_kp.json', 'dataset/a034_kp/S010C002P025R002A034_rgb_kp.json', 'dataset/a034_kp/S011C002P008R001A034_rgb_kp.json', 'dataset/a034_kp/S017C002P003R001A034_rgb_kp.json', 'dataset/a034_kp/S011C002P019R002A034_rgb_kp.json', 'dataset/a034_kp/S002C001P014R001A034_rgb_kp.json', 'dataset/a034_kp/S007C002P015R001A034_rgb_kp.json', 'dataset/a034_kp/S017C001P015R002A034_rgb_kp.json', 'dataset/a034_kp/S002C003P003R002A034_rgb_kp.json', 'dataset/a034_kp/S017C003P016R002A034_rgb_kp.json', 'dataset/a034_kp/S011C002P038R001A034_rgb_kp.json', 'dataset/a034_kp/S013C001P016R002A034_rgb_kp.json', 'dataset/a034_kp/S006C001P007R002A034_rgb_kp.json', 'dataset/a034_kp/S012C003P017R001A034_rgb_kp.json', 'dataset/a034_kp/S005C002P015R002A034_rgb_kp.json', 'dataset/a034_kp/S005C003P018R002A034_rgb_kp.json', 'dataset/a034_kp/S002C002P003R001A034_rgb_kp.json', 'dataset/a034_kp/S016C003P008R002A034_rgb_kp.json', 'dataset/a034_kp/S008C002P019R002A034_rgb_kp.json', 'dataset/a034_kp/S007C003P008R001A034_rgb_kp.json', 'dataset/a034_kp/S005C002P004R001A034_rgb_kp.json', 'dataset/a034_kp/S008C001P029R001A034_rgb_kp.json', 'dataset/a034_kp/S011C003P019R002A034_rgb_kp.json', 'dataset/a034_kp/S005C003P015R002A034_rgb_kp.json', 'dataset/a034_kp/S009C003P008R002A034_rgb_kp.json', 'dataset/a034_kp/S004C001P008R001A034_rgb_kp.json', 'dataset/a034_kp/S001C002P001R001A034_rgb_kp.json', 'dataset/a034_kp/S007C001P019R002A034_rgb_kp.json', 'dataset/a034_kp/S015C001P019R002A034_rgb_kp.json', 'dataset/a034_kp/S004C002P008R001A034_rgb_kp.json', 'dataset/a034_kp/S006C002P008R001A034_rgb_kp.json', 'dataset/a034_kp/S006C003P008R001A034_rgb_kp.json', 'dataset/a034_kp/S008C002P001R001A034_rgb_kp.json', 'dataset/a034_kp/S002C001P010R002A034_rgb_kp.json', 'dataset/a034_kp/S006C003P007R001A034_rgb_kp.json', 'dataset/a034_kp/S014C001P008R002A034_rgb_kp.json', 'dataset/a034_kp/S013C003P008R002A034_rgb_kp.json', 'dataset/a034_kp/S016C003P019R001A034_rgb_kp.json', 'dataset/a034_kp/S011C001P038R002A034_rgb_kp.json', 'dataset/a034_kp/S016C002P040R002A034_rgb_kp.json', 'dataset/a034_kp/S002C002P011R001A034_rgb_kp.json', 'dataset/a034_kp/S003C002P018R002A034_rgb_kp.json', 'dataset/a034_kp/S001C002P003R002A034_rgb_kp.json', 'dataset/a034_kp/S014C003P025R002A034_rgb_kp.json', 'dataset/a034_kp/S017C003P003R001A034_rgb_kp.json', 'dataset/a034_kp/S002C001P007R002A034_rgb_kp.json', 'dataset/a034_kp/S009C001P019R002A034_rgb_kp.json', 'dataset/a034_kp/S011C003P019R001A034_rgb_kp.json', 'dataset/a034_kp/S003C001P002R002A034_rgb_kp.json', 'dataset/a034_kp/S008C001P033R001A034_rgb_kp.json', 'dataset/a034_kp/S006C003P022R002A034_rgb_kp.json', 'dataset/a034_kp/S007C001P008R001A034_rgb_kp.json', 'dataset/a034_kp/S009C001P016R002A034_rgb_kp.json', 'dataset/a034_kp/S008C001P036R001A034_rgb_kp.json', 'dataset/a034_kp/S008C001P019R002A034_rgb_kp.json', 'dataset/a034_kp/S009C002P016R002A034_rgb_kp.json', 'dataset/a034_kp/S003C002P016R001A034_rgb_kp.json', 'dataset/a034_kp/S007C002P015R002A034_rgb_kp.json', 'dataset/a034_kp/S015C001P007R001A034_rgb_kp.json', 'dataset/a034_kp/S013C002P007R002A034_rgb_kp.json', 'dataset/a034_kp/S011C003P001R002A034_rgb_kp.json', 'dataset/a034_kp/S013C001P016R001A034_rgb_kp.json', 'dataset/a034_kp/S007C003P007R001A034_rgb_kp.json', 'dataset/a034_kp/S009C003P008R001A034_rgb_kp.json', 'dataset/a034_kp/S010C001P019R001A034_rgb_kp.json', 'dataset/a034_kp/S008C002P031R002A034_rgb_kp.json', 'dataset/a034_kp/S013C001P018R002A034_rgb_kp.json', 'dataset/a034_kp/S008C001P035R002A034_rgb_kp.json', 'dataset/a034_kp/S016C002P040R001A034_rgb_kp.json', 'dataset/a034_kp/S007C002P007R002A034_rgb_kp.json', 'dataset/a034_kp/S012C001P027R001A034_rgb_kp.json', 'dataset/a034_kp/S008C002P032R002A034_rgb_kp.json', 'dataset/a034_kp/S004C002P008R002A034_rgb_kp.json', 'dataset/a034_kp/S008C002P007R001A034_rgb_kp.json', 'dataset/a034_kp/S007C003P027R001A034_rgb_kp.json', 'dataset/a034_kp/S012C003P008R001A034_rgb_kp.json', 'dataset/a034_kp/S016C002P019R001A034_rgb_kp.json', 'dataset/a034_kp/S013C001P017R001A034_rgb_kp.json', 'dataset/a034_kp/S008C003P025R002A034_rgb_kp.json', 'dataset/a034_kp/S001C003P003R002A034_rgb_kp.json', 'dataset/a034_kp/S009C003P025R001A034_rgb_kp.json', 'dataset/a034_kp/S001C003P004R001A034_rgb_kp.json', 'dataset/a034_kp/S016C002P039R002A034_rgb_kp.json', 'dataset/a034_kp/S016C001P025R002A034_rgb_kp.json', 'dataset/a034_kp/S014C003P019R001A034_rgb_kp.json', 'dataset/a079_kp/S030C001P092R001A079_rgb_kp.json', 'dataset/a079_kp/S031C001P044R001A079_rgb_kp.json', 'dataset/a079_kp/S021C001P060R002A079_rgb_kp.json', 'dataset/a079_kp/S019C003P047R002A079_rgb_kp.json', 'dataset/a079_kp/S023C001P062R002A079_rgb_kp.json', 'dataset/a079_kp/S023C002P055R002A079_rgb_kp.json', 'dataset/a079_kp/S027C003P081R002A079_rgb_kp.json', 'dataset/a079_kp/S031C001P042R002A079_rgb_kp.json', 'dataset/a079_kp/S029C002P044R001A079_rgb_kp.json', 'dataset/a079_kp/S027C003P085R002A079_rgb_kp.json', 'dataset/a079_kp/S031C003P042R001A079_rgb_kp.json', 'dataset/a079_kp/S031C001P099R002A079_rgb_kp.json', 'dataset/a079_kp/S023C002P060R002A079_rgb_kp.json', 'dataset/a079_kp/S020C003P053R001A079_rgb_kp.json', 'dataset/a079_kp/S032C003P043R001A079_rgb_kp.json', 'dataset/a079_kp/S030C003P095R002A079_rgb_kp.json', 'dataset/a079_kp/S029C003P048R001A079_rgb_kp.json', 'dataset/a079_kp/S031C002P051R001A079_rgb_kp.json', 'dataset/a079_kp/S029C002P043R002A079_rgb_kp.json', 'dataset/a079_kp/S029C003P089R002A079_rgb_kp.json', 'dataset/a079_kp/S022C002P061R001A079_rgb_kp.json', 'dataset/a079_kp/S032C002P044R001A079_rgb_kp.json', 'dataset/a079_kp/S032C002P105R001A079_rgb_kp.json', 'dataset/a079_kp/S026C003P049R001A079_rgb_kp.json', 'dataset/a079_kp/S029C001P088R002A079_rgb_kp.json', 'dataset/a079_kp/S019C002P041R001A079_rgb_kp.json', 'dataset/a079_kp/S026C003P075R002A079_rgb_kp.json', 'dataset/a079_kp/S028C003P070R002A079_rgb_kp.json', 'dataset/a079_kp/S023C001P059R001A079_rgb_kp.json', 'dataset/a079_kp/S029C003P044R001A079_rgb_kp.json', 'dataset/a079_kp/S024C002P057R002A079_rgb_kp.json', 'dataset/a079_kp/S024C003P057R001A079_rgb_kp.json', 'dataset/a079_kp/S027C002P078R002A079_rgb_kp.json', 'dataset/a079_kp/S024C002P067R001A079_rgb_kp.json', 'dataset/a079_kp/S031C003P067R001A079_rgb_kp.json', 'dataset/a079_kp/S029C001P074R002A079_rgb_kp.json', 'dataset/a079_kp/S027C003P083R001A079_rgb_kp.json', 'dataset/a079_kp/S022C001P067R001A079_rgb_kp.json', 'dataset/a079_kp/S026C003P074R001A079_rgb_kp.json', 'dataset/a079_kp/S030C003P081R001A079_rgb_kp.json', 'dataset/a079_kp/S027C003P082R002A079_rgb_kp.json', 'dataset/a079_kp/S020C001P052R001A079_rgb_kp.json', 'dataset/a079_kp/S019C001P051R001A079_rgb_kp.json', 'dataset/a079_kp/S026C002P077R001A079_rgb_kp.json', 'dataset/a079_kp/S025C003P066R001A079_rgb_kp.json', 'dataset/a079_kp/S026C001P051R001A079_rgb_kp.json', 'dataset/a079_kp/S026C002P041R001A079_rgb_kp.json', 'dataset/a079_kp/S023C003P058R002A079_rgb_kp.json', 'dataset/a079_kp/S018C002P041R001A079_rgb_kp.json', 'dataset/a079_kp/S021C003P057R001A079_rgb_kp.json', 'dataset/a079_kp/S030C001P011R002A079_rgb_kp.json', 'dataset/a079_kp/S025C002P059R001A079_rgb_kp.json', 'dataset/a079_kp/S027C003P080R002A079_rgb_kp.json', 'dataset/a079_kp/S019C003P042R001A079_rgb_kp.json', 'dataset/a079_kp/S030C001P067R002A079_rgb_kp.json', 'dataset/a079_kp/S023C003P060R001A079_rgb_kp.json', 'dataset/a079_kp/S030C001P081R001A079_rgb_kp.json', 'dataset/a079_kp/S028C003P048R001A079_rgb_kp.json', 'dataset/a079_kp/S023C003P063R002A079_rgb_kp.json', 'dataset/a079_kp/S032C003P102R001A079_rgb_kp.json', 'dataset/a079_kp/S028C002P046R001A079_rgb_kp.json', 'dataset/a079_kp/S022C001P064R002A079_rgb_kp.json', 'dataset/a079_kp/S022C001P063R002A079_rgb_kp.json', 'dataset/a079_kp/S031C003P006R001A079_rgb_kp.json', 'dataset/a079_kp/S022C002P061R002A079_rgb_kp.json', 'dataset/a079_kp/S027C001P008R001A079_rgb_kp.json', 'dataset/a079_kp/S031C003P051R001A079_rgb_kp.json', 'dataset/a079_kp/S032C002P104R001A079_rgb_kp.json', 'dataset/a079_kp/S022C001P067R002A079_rgb_kp.json', 'dataset/a079_kp/S029C001P006R002A079_rgb_kp.json', 'dataset/a079_kp/S018C002P045R001A079_rgb_kp.json', 'dataset/a079_kp/S025C003P058R001A079_rgb_kp.json', 'dataset/a079_kp/S030C001P067R001A079_rgb_kp.json', 'dataset/a079_kp/S026C002P070R002A079_rgb_kp.json', 'dataset/a079_kp/S032C001P044R001A079_rgb_kp.json', 'dataset/a079_kp/S031C001P051R001A079_rgb_kp.json', 'dataset/a079_kp/S029C002P075R001A079_rgb_kp.json', 'dataset/a079_kp/S031C003P082R001A079_rgb_kp.json', 'dataset/a079_kp/S031C001P043R002A079_rgb_kp.json', 'dataset/a079_kp/S027C002P086R001A079_rgb_kp.json', 'dataset/a079_kp/S022C002P066R002A079_rgb_kp.json', 'dataset/a079_kp/S029C003P090R001A079_rgb_kp.json', 'dataset/a079_kp/S026C002P071R002A079_rgb_kp.json', 'dataset/a079_kp/S018C001P008R002A079_rgb_kp.json', 'dataset/a079_kp/S030C001P041R001A079_rgb_kp.json', 'dataset/a079_kp/S026C002P049R001A079_rgb_kp.json', 'dataset/a079_kp/S021C002P057R002A079_rgb_kp.json', 'dataset/a079_kp/S024C002P064R001A079_rgb_kp.json', 'dataset/a079_kp/S032C003P043R002A079_rgb_kp.json', 'dataset/a079_kp/S021C002P055R001A079_rgb_kp.json', 'dataset/a079_kp/S032C002P044R002A079_rgb_kp.json', 'dataset/a079_kp/S027C001P011R002A079_rgb_kp.json', 'dataset/a079_kp/S027C002P081R001A079_rgb_kp.json', 'dataset/a079_kp/S022C001P064R001A079_rgb_kp.json', 'dataset/a079_kp/S031C002P099R001A079_rgb_kp.json', 'dataset/a079_kp/S024C002P060R002A079_rgb_kp.json', 'dataset/a079_kp/S029C002P049R001A079_rgb_kp.json', 'dataset/a079_kp/S027C002P080R001A079_rgb_kp.json', 'dataset/a079_kp/S018C002P042R001A079_rgb_kp.json', 'dataset/a079_kp/S030C002P041R002A079_rgb_kp.json', 'dataset/a068_kp/S031C001P100R002A068_rgb_kp.json', 'dataset/a068_kp/S020C003P043R002A068_rgb_kp.json', 'dataset/a068_kp/S026C003P071R001A068_rgb_kp.json', 'dataset/a068_kp/S031C003P096R001A068_rgb_kp.json', 'dataset/a068_kp/S020C001P054R002A068_rgb_kp.json', 'dataset/a068_kp/S018C002P045R001A068_rgb_kp.json', 'dataset/a068_kp/S019C003P008R001A068_rgb_kp.json', 'dataset/a068_kp/S025C002P065R002A068_rgb_kp.json', 'dataset/a068_kp/S030C003P085R002A068_rgb_kp.json', 'dataset/a068_kp/S031C002P067R002A068_rgb_kp.json', 'dataset/a068_kp/S026C001P050R001A068_rgb_kp.json', 'dataset/a068_kp/S023C003P067R001A068_rgb_kp.json', 'dataset/a068_kp/S028C003P042R001A068_rgb_kp.json', 'dataset/a068_kp/S023C003P059R001A068_rgb_kp.json', 'dataset/a068_kp/S031C001P101R001A068_rgb_kp.json', 'dataset/a068_kp/S028C003P048R002A068_rgb_kp.json', 'dataset/a068_kp/S029C003P074R002A068_rgb_kp.json', 'dataset/a068_kp/S021C001P059R002A068_rgb_kp.json', 'dataset/a068_kp/S031C002P082R002A068_rgb_kp.json', 'dataset/a068_kp/S028C003P087R002A068_rgb_kp.json', 'dataset/a068_kp/S024C001P061R001A068_rgb_kp.json', 'dataset/a068_kp/S031C001P085R001A068_rgb_kp.json', 'dataset/a068_kp/S031C003P067R001A068_rgb_kp.json', 'dataset/a068_kp/S030C002P048R002A068_rgb_kp.json', 'dataset/a068_kp/S019C001P042R001A068_rgb_kp.json', 'dataset/a068_kp/S028C002P073R002A068_rgb_kp.json', 'dataset/a068_kp/S031C002P098R002A068_rgb_kp.json', 'dataset/a068_kp/S030C002P092R002A068_rgb_kp.json', 'dataset/a068_kp/S029C002P089R001A068_rgb_kp.json', 'dataset/a068_kp/S027C001P006R001A068_rgb_kp.json', 'dataset/a068_kp/S022C002P062R001A068_rgb_kp.json', 'dataset/a068_kp/S028C002P008R002A068_rgb_kp.json', 'dataset/a068_kp/S019C003P051R002A068_rgb_kp.json', 'dataset/a068_kp/S027C002P083R001A068_rgb_kp.json', 'dataset/a068_kp/S030C002P091R001A068_rgb_kp.json', 'dataset/a068_kp/S030C003P043R002A068_rgb_kp.json', 'dataset/a068_kp/S019C002P049R001A068_rgb_kp.json', 'dataset/a068_kp/S030C003P092R002A068_rgb_kp.json', 'dataset/a068_kp/S028C002P041R001A068_rgb_kp.json', 'dataset/a068_kp/S023C001P064R001A068_rgb_kp.json', 'dataset/a068_kp/S026C001P076R002A068_rgb_kp.json', 'dataset/a068_kp/S022C002P061R001A068_rgb_kp.json', 'dataset/a068_kp/S027C002P079R002A068_rgb_kp.json', 'dataset/a068_kp/S026C001P044R001A068_rgb_kp.json', 'dataset/a068_kp/S024C001P067R002A068_rgb_kp.json', 'dataset/a068_kp/S028C002P042R002A068_rgb_kp.json', 'dataset/a068_kp/S023C003P055R002A068_rgb_kp.json', 'dataset/a068_kp/S023C002P064R001A068_rgb_kp.json', 'dataset/a068_kp/S024C002P064R002A068_rgb_kp.json', 'dataset/a068_kp/S023C001P062R002A068_rgb_kp.json', 'dataset/a068_kp/S029C002P044R001A068_rgb_kp.json', 'dataset/a068_kp/S029C002P080R002A068_rgb_kp.json', 'dataset/a068_kp/S031C003P082R001A068_rgb_kp.json', 'dataset/a068_kp/S030C002P094R002A068_rgb_kp.json', 'dataset/a068_kp/S023C003P061R001A068_rgb_kp.json', 'dataset/a068_kp/S028C002P043R002A068_rgb_kp.json', 'dataset/a068_kp/S021C002P058R001A068_rgb_kp.json', 'dataset/a068_kp/S029C002P090R002A068_rgb_kp.json', 'dataset/a068_kp/S023C001P058R002A068_rgb_kp.json', 'dataset/a068_kp/S019C001P048R002A068_rgb_kp.json', 'dataset/a068_kp/S031C002P101R001A068_rgb_kp.json', 'dataset/a068_kp/S030C001P093R002A068_rgb_kp.json', 'dataset/a068_kp/S023C003P063R002A068_rgb_kp.json', 'dataset/a068_kp/S023C003P058R002A068_rgb_kp.json', 'dataset/a068_kp/S032C003P043R002A068_rgb_kp.json', 'dataset/a068_kp/S019C001P041R002A068_rgb_kp.json', 'dataset/a068_kp/S025C003P065R002A068_rgb_kp.json', 'dataset/a068_kp/S026C003P050R002A068_rgb_kp.json', 'dataset/a068_kp/S030C002P093R001A068_rgb_kp.json', 'dataset/a068_kp/S026C002P008R002A068_rgb_kp.json', 'dataset/a068_kp/S030C001P076R001A068_rgb_kp.json', 'dataset/a068_kp/S027C003P082R002A068_rgb_kp.json', 'dataset/a068_kp/S027C001P008R001A068_rgb_kp.json', 'dataset/a068_kp/S018C001P043R002A068_rgb_kp.json', 'dataset/a068_kp/S029C002P041R001A068_rgb_kp.json', 'dataset/a068_kp/S029C003P088R002A068_rgb_kp.json', 'dataset/a068_kp/S027C002P044R002A068_rgb_kp.json', 'dataset/a068_kp/S019C001P041R001A068_rgb_kp.json', 'dataset/a068_kp/S027C003P008R001A068_rgb_kp.json', 'dataset/a068_kp/S030C001P081R002A068_rgb_kp.json', 'dataset/a068_kp/S028C003P008R001A068_rgb_kp.json', 'dataset/a068_kp/S022C001P065R002A068_rgb_kp.json', 'dataset/a068_kp/S029C002P051R002A068_rgb_kp.json', 'dataset/a068_kp/S027C001P081R001A068_rgb_kp.json', 'dataset/a068_kp/S029C002P043R002A068_rgb_kp.json', 'dataset/a068_kp/S027C003P006R002A068_rgb_kp.json', 'dataset/a068_kp/S023C003P067R002A068_rgb_kp.json', 'dataset/a068_kp/S032C001P103R001A068_rgb_kp.json', 'dataset/a068_kp/S029C002P051R001A068_rgb_kp.json', 'dataset/a068_kp/S018C001P042R002A068_rgb_kp.json', 'dataset/a068_kp/S026C003P051R002A068_rgb_kp.json', 'dataset/a068_kp/S027C003P080R002A068_rgb_kp.json', 'dataset/a068_kp/S019C002P050R001A068_rgb_kp.json', 'dataset/a068_kp/S030C002P011R001A068_rgb_kp.json', 'dataset/a068_kp/S025C002P058R001A068_rgb_kp.json', 'dataset/a068_kp/S026C001P051R002A068_rgb_kp.json', 'dataset/a068_kp/S031C001P008R001A068_rgb_kp.json', 'dataset/a068_kp/S026C001P049R001A068_rgb_kp.json', 'dataset/a068_kp/S023C003P064R002A068_rgb_kp.json', 'dataset/a068_kp/S018C003P041R001A068_rgb_kp.json', 'dataset/a012_kp/S011C002P001R002A012_rgb_kp.json', 'dataset/a012_kp/S001C003P002R001A012_rgb_kp.json', 'dataset/a012_kp/S005C002P013R001A012_rgb_kp.json', 'dataset/a012_kp/S005C002P015R001A012_rgb_kp.json', 'dataset/a012_kp/S015C003P016R002A012_rgb_kp.json', 'dataset/a012_kp/S009C003P025R002A012_rgb_kp.json', 'dataset/a012_kp/S011C002P038R002A012_rgb_kp.json', 'dataset/a012_kp/S005C002P017R001A012_rgb_kp.json', 'dataset/a012_kp/S007C001P027R001A012_rgb_kp.json', 'dataset/a012_kp/S006C003P001R001A012_rgb_kp.json', 'dataset/a012_kp/S006C001P001R002A012_rgb_kp.json', 'dataset/a012_kp/S001C003P002R002A012_rgb_kp.json', 'dataset/a012_kp/S006C002P016R001A012_rgb_kp.json', 'dataset/a012_kp/S003C002P019R002A012_rgb_kp.json', 'dataset/a012_kp/S006C003P024R002A012_rgb_kp.json', 'dataset/a012_kp/S013C003P025R001A012_rgb_kp.json', 'dataset/a012_kp/S005C002P017R002A012_rgb_kp.json', 'dataset/a012_kp/S008C001P029R002A012_rgb_kp.json', 'dataset/a012_kp/S005C001P004R002A012_rgb_kp.json', 'dataset/a012_kp/S009C003P007R001A012_rgb_kp.json', 'dataset/a012_kp/S012C002P008R002A012_rgb_kp.json', 'dataset/a012_kp/S016C001P040R001A012_rgb_kp.json', 'dataset/a012_kp/S011C003P015R002A012_rgb_kp.json', 'dataset/a012_kp/S007C001P018R002A012_rgb_kp.json', 'dataset/a012_kp/S002C001P011R002A012_rgb_kp.json', 'dataset/a012_kp/S017C001P016R001A012_rgb_kp.json', 'dataset/a012_kp/S007C002P016R001A012_rgb_kp.json', 'dataset/a012_kp/S010C002P021R001A012_rgb_kp.json', 'dataset/a012_kp/S008C001P029R001A012_rgb_kp.json', 'dataset/a012_kp/S013C001P017R001A012_rgb_kp.json', 'dataset/a012_kp/S008C003P030R001A012_rgb_kp.json', 'dataset/a012_kp/S015C003P017R001A012_rgb_kp.json', 'dataset/a012_kp/S005C001P010R001A012_rgb_kp.json', 'dataset/a012_kp/S012C002P028R002A012_rgb_kp.json', 'dataset/a012_kp/S017C002P017R002A012_rgb_kp.json', 'dataset/a012_kp/S016C001P007R001A012_rgb_kp.json', 'dataset/a012_kp/S003C003P001R002A012_rgb_kp.json', 'dataset/a012_kp/S012C003P025R002A012_rgb_kp.json', 'dataset/a012_kp/S017C002P008R002A012_rgb_kp.json', 'dataset/a012_kp/S013C002P007R002A012_rgb_kp.json', 'dataset/a012_kp/S010C002P019R002A012_rgb_kp.json', 'dataset/a012_kp/S006C002P015R002A012_rgb_kp.json', 'dataset/a012_kp/S007C001P028R001A012_rgb_kp.json', 'dataset/a012_kp/S003C001P007R002A012_rgb_kp.json', 'dataset/a012_kp/S009C001P008R001A012_rgb_kp.json', 'dataset/a012_kp/S005C001P017R002A012_rgb_kp.json', 'dataset/a012_kp/S007C003P027R002A012_rgb_kp.json', 'dataset/a012_kp/S007C003P015R001A012_rgb_kp.json', 'dataset/a012_kp/S015C001P015R002A012_rgb_kp.json', 'dataset/a012_kp/S005C003P010R002A012_rgb_kp.json', 'dataset/a012_kp/S004C001P008R001A012_rgb_kp.json', 'dataset/a012_kp/S007C001P015R001A012_rgb_kp.json', 'dataset/a012_kp/S013C002P028R002A012_rgb_kp.json', 'dataset/a012_kp/S011C001P001R001A012_rgb_kp.json', 'dataset/a012_kp/S006C003P015R001A012_rgb_kp.json', 'dataset/a012_kp/S008C002P025R002A012_rgb_kp.json', 'dataset/a012_kp/S011C001P028R002A012_rgb_kp.json', 'dataset/a012_kp/S002C001P010R002A012_rgb_kp.json', 'dataset/a012_kp/S003C001P018R002A012_rgb_kp.json', 'dataset/a012_kp/S003C003P007R002A012_rgb_kp.json', 'dataset/a012_kp/S002C002P008R001A012_rgb_kp.json', 'dataset/a012_kp/S003C003P018R001A012_rgb_kp.json', 'dataset/a012_kp/S015C002P008R001A012_rgb_kp.json', 'dataset/a012_kp/S004C002P007R002A012_rgb_kp.json', 'dataset/a012_kp/S006C002P015R001A012_rgb_kp.json', 'dataset/a012_kp/S006C001P007R002A012_rgb_kp.json', 'dataset/a012_kp/S011C002P017R002A012_rgb_kp.json', 'dataset/a012_kp/S003C001P015R002A012_rgb_kp.json', 'dataset/a012_kp/S014C001P027R002A012_rgb_kp.json', 'dataset/a012_kp/S017C001P016R002A012_rgb_kp.json', 'dataset/a012_kp/S015C002P019R002A012_rgb_kp.json', 'dataset/a012_kp/S005C003P004R002A012_rgb_kp.json', 'dataset/a012_kp/S009C001P025R002A012_rgb_kp.json', 'dataset/a012_kp/S011C001P018R002A012_rgb_kp.json', 'dataset/a012_kp/S011C001P008R001A012_rgb_kp.json', 'dataset/a012_kp/S011C003P008R001A012_rgb_kp.json', 'dataset/a012_kp/S008C003P007R001A012_rgb_kp.json', 'dataset/a012_kp/S004C003P008R001A012_rgb_kp.json', 'dataset/a012_kp/S014C003P027R002A012_rgb_kp.json', 'dataset/a012_kp/S010C003P021R001A012_rgb_kp.json', 'dataset/a012_kp/S013C001P007R002A012_rgb_kp.json', 'dataset/a012_kp/S001C001P004R002A012_rgb_kp.json', 'dataset/a012_kp/S008C002P031R002A012_rgb_kp.json', 'dataset/a012_kp/S003C002P018R002A012_rgb_kp.json', 'dataset/a012_kp/S014C003P027R001A012_rgb_kp.json', 'dataset/a012_kp/S014C003P015R001A012_rgb_kp.json', 'dataset/a012_kp/S011C003P016R001A012_rgb_kp.json', 'dataset/a012_kp/S014C001P025R002A012_rgb_kp.json', 'dataset/a012_kp/S017C002P020R002A012_rgb_kp.json', 'dataset/a012_kp/S003C002P015R001A012_rgb_kp.json', 'dataset/a012_kp/S012C002P017R002A012_rgb_kp.json', 'dataset/a012_kp/S017C003P017R001A012_rgb_kp.json', 'dataset/a012_kp/S007C003P025R002A012_rgb_kp.json', 'dataset/a012_kp/S016C002P007R001A012_rgb_kp.json', 'dataset/a012_kp/S007C002P026R001A012_rgb_kp.json', 'dataset/a012_kp/S012C003P019R002A012_rgb_kp.json', 'dataset/a012_kp/S011C001P038R002A012_rgb_kp.json', 'dataset/a012_kp/S013C002P037R001A012_rgb_kp.json', 'dataset/a012_kp/S002C003P013R001A012_rgb_kp.json', 'dataset/a012_kp/S014C001P039R002A012_rgb_kp.json', 'dataset/a028_kp/S007C003P001R002A028_rgb_kp.json', 'dataset/a028_kp/S008C002P031R002A028_rgb_kp.json', 'dataset/a028_kp/S010C001P008R001A028_rgb_kp.json', 'dataset/a028_kp/S014C003P008R001A028_rgb_kp.json', 'dataset/a028_kp/S017C002P009R001A028_rgb_kp.json', 'dataset/a028_kp/S013C003P019R002A028_rgb_kp.json', 'dataset/a028_kp/S001C003P002R001A028_rgb_kp.json', 'dataset/a028_kp/S011C001P016R002A028_rgb_kp.json', 'dataset/a028_kp/S007C002P025R001A028_rgb_kp.json', 'dataset/a028_kp/S008C001P032R002A028_rgb_kp.json', 'dataset/a028_kp/S012C003P015R001A028_rgb_kp.json', 'dataset/a028_kp/S015C002P037R001A028_rgb_kp.json', 'dataset/a028_kp/S003C003P001R001A028_rgb_kp.json', 'dataset/a028_kp/S001C002P008R001A028_rgb_kp.json', 'dataset/a028_kp/S003C001P002R001A028_rgb_kp.json', 'dataset/a028_kp/S002C002P011R001A028_rgb_kp.json', 'dataset/a028_kp/S005C003P021R001A028_rgb_kp.json', 'dataset/a028_kp/S014C002P019R001A028_rgb_kp.json', 'dataset/a028_kp/S008C001P007R001A028_rgb_kp.json', 'dataset/a028_kp/S017C002P003R001A028_rgb_kp.json', 'dataset/a028_kp/S012C003P008R002A028_rgb_kp.json', 'dataset/a028_kp/S007C001P027R002A028_rgb_kp.json', 'dataset/a028_kp/S012C001P037R001A028_rgb_kp.json', 'dataset/a028_kp/S002C001P013R002A028_rgb_kp.json', 'dataset/a028_kp/S008C001P025R002A028_rgb_kp.json', 'dataset/a028_kp/S006C003P015R001A028_rgb_kp.json', 'dataset/a028_kp/S010C003P018R002A028_rgb_kp.json', 'dataset/a028_kp/S003C001P001R002A028_rgb_kp.json', 'dataset/a028_kp/S013C003P025R002A028_rgb_kp.json', 'dataset/a028_kp/S009C001P025R002A028_rgb_kp.json', 'dataset/a028_kp/S011C001P002R001A028_rgb_kp.json', 'dataset/a028_kp/S013C001P016R001A028_rgb_kp.json', 'dataset/a028_kp/S011C001P016R001A028_rgb_kp.json', 'dataset/a028_kp/S003C002P001R002A028_rgb_kp.json', 'dataset/a028_kp/S013C003P027R002A028_rgb_kp.json', 'dataset/a028_kp/S008C002P019R002A028_rgb_kp.json', 'dataset/a028_kp/S016C003P019R001A028_rgb_kp.json', 'dataset/a028_kp/S011C003P008R001A028_rgb_kp.json', 'dataset/a028_kp/S010C001P017R001A028_rgb_kp.json', 'dataset/a028_kp/S009C003P007R001A028_rgb_kp.json', 'dataset/a028_kp/S008C003P033R001A028_rgb_kp.json', 'dataset/a028_kp/S002C003P014R001A028_rgb_kp.json', 'dataset/a028_kp/S007C001P028R001A028_rgb_kp.json', 'dataset/a028_kp/S011C002P017R002A028_rgb_kp.json', 'dataset/a028_kp/S007C003P016R001A028_rgb_kp.json', 'dataset/a028_kp/S010C002P017R002A028_rgb_kp.json', 'dataset/a028_kp/S011C003P016R002A028_rgb_kp.json', 'dataset/a028_kp/S017C001P003R002A028_rgb_kp.json', 'dataset/a028_kp/S014C001P025R002A028_rgb_kp.json', 'dataset/a028_kp/S014C001P027R002A028_rgb_kp.json', 'dataset/a028_kp/S013C002P008R002A028_rgb_kp.json', 'dataset/a028_kp/S007C003P017R002A028_rgb_kp.json', 'dataset/a028_kp/S017C003P017R002A028_rgb_kp.json', 'dataset/a028_kp/S003C001P007R002A028_rgb_kp.json', 'dataset/a028_kp/S002C003P013R001A028_rgb_kp.json', 'dataset/a028_kp/S003C001P019R002A028_rgb_kp.json', 'dataset/a028_kp/S017C001P003R001A028_rgb_kp.json', 'dataset/a028_kp/S009C003P019R001A028_rgb_kp.json', 'dataset/a028_kp/S011C003P008R002A028_rgb_kp.json', 'dataset/a028_kp/S007C001P017R002A028_rgb_kp.json', 'dataset/a028_kp/S015C001P015R001A028_rgb_kp.json', 'dataset/a028_kp/S006C001P008R001A028_rgb_kp.json', 'dataset/a028_kp/S012C001P018R002A028_rgb_kp.json', 'dataset/a028_kp/S011C001P008R002A028_rgb_kp.json', 'dataset/a028_kp/S005C001P017R002A028_rgb_kp.json', 'dataset/a028_kp/S011C002P019R001A028_rgb_kp.json', 'dataset/a028_kp/S014C003P007R001A028_rgb_kp.json', 'dataset/a028_kp/S010C003P021R002A028_rgb_kp.json', 'dataset/a028_kp/S011C001P017R001A028_rgb_kp.json', 'dataset/a028_kp/S017C001P015R002A028_rgb_kp.json', 'dataset/a028_kp/S008C002P032R002A028_rgb_kp.json', 'dataset/a028_kp/S004C001P020R002A028_rgb_kp.json', 'dataset/a028_kp/S013C002P028R001A028_rgb_kp.json', 'dataset/a028_kp/S015C003P008R002A028_rgb_kp.json', 'dataset/a028_kp/S006C001P007R001A028_rgb_kp.json', 'dataset/a028_kp/S011C001P017R002A028_rgb_kp.json', 'dataset/a028_kp/S014C002P025R002A028_rgb_kp.json', 'dataset/a028_kp/S013C001P008R001A028_rgb_kp.json', 'dataset/a028_kp/S001C003P008R002A028_rgb_kp.json', 'dataset/a028_kp/S008C002P008R002A028_rgb_kp.json', 'dataset/a028_kp/S007C001P001R002A028_rgb_kp.json', 'dataset/a028_kp/S009C002P025R001A028_rgb_kp.json', 'dataset/a028_kp/S010C003P007R002A028_rgb_kp.json', 'dataset/a028_kp/S013C002P037R001A028_rgb_kp.json', 'dataset/a028_kp/S002C002P003R001A028_rgb_kp.json', 'dataset/a028_kp/S016C002P019R002A028_rgb_kp.json', 'dataset/a028_kp/S010C003P019R002A028_rgb_kp.json', 'dataset/a028_kp/S003C001P015R002A028_rgb_kp.json', 'dataset/a028_kp/S006C001P017R002A028_rgb_kp.json', 'dataset/a028_kp/S003C003P018R002A028_rgb_kp.json', 'dataset/a028_kp/S015C003P016R002A028_rgb_kp.json', 'dataset/a028_kp/S013C001P028R002A028_rgb_kp.json', 'dataset/a028_kp/S006C001P008R002A028_rgb_kp.json', 'dataset/a028_kp/S010C002P021R002A028_rgb_kp.json', 'dataset/a028_kp/S004C003P007R002A028_rgb_kp.json', 'dataset/a028_kp/S006C002P022R001A028_rgb_kp.json', 'dataset/a028_kp/S017C003P015R002A028_rgb_kp.json', 'dataset/a028_kp/S016C001P021R002A028_rgb_kp.json', 'dataset/a028_kp/S007C001P016R001A028_rgb_kp.json', 'dataset/a028_kp/S011C001P001R002A028_rgb_kp.json', 'dataset/a083_kp/S021C001P057R001A083_rgb_kp.json', 'dataset/a083_kp/S026C002P008R001A083_rgb_kp.json', 'dataset/a083_kp/S020C003P008R002A083_rgb_kp.json', 'dataset/a083_kp/S027C002P079R001A083_rgb_kp.json', 'dataset/a083_kp/S028C003P087R002A083_rgb_kp.json', 'dataset/a083_kp/S020C002P054R002A083_rgb_kp.json', 'dataset/a083_kp/S027C003P081R001A083_rgb_kp.json', 'dataset/a083_kp/S031C003P085R001A083_rgb_kp.json', 'dataset/a083_kp/S019C003P048R002A083_rgb_kp.json', 'dataset/a083_kp/S022C002P066R001A083_rgb_kp.json', 'dataset/a083_kp/S018C003P045R002A083_rgb_kp.json', 'dataset/a083_kp/S025C002P058R002A083_rgb_kp.json', 'dataset/a083_kp/S030C002P067R001A083_rgb_kp.json', 'dataset/a083_kp/S021C003P055R001A083_rgb_kp.json', 'dataset/a083_kp/S030C001P041R001A083_rgb_kp.json', 'dataset/a083_kp/S031C001P051R001A083_rgb_kp.json', 'dataset/a083_kp/S025C001P058R001A083_rgb_kp.json', 'dataset/a083_kp/S024C003P064R001A083_rgb_kp.json', 'dataset/a083_kp/S031C001P041R002A083_rgb_kp.json', 'dataset/a083_kp/S031C003P097R001A083_rgb_kp.json', 'dataset/a083_kp/S023C002P056R001A083_rgb_kp.json', 'dataset/a083_kp/S020C001P043R001A083_rgb_kp.json', 'dataset/a083_kp/S029C001P043R002A083_rgb_kp.json', 'dataset/a083_kp/S023C003P067R001A083_rgb_kp.json', 'dataset/a083_kp/S031C002P067R002A083_rgb_kp.json', 'dataset/a083_kp/S031C001P100R001A083_rgb_kp.json', 'dataset/a083_kp/S022C003P067R001A083_rgb_kp.json', 'dataset/a083_kp/S023C002P068R002A083_rgb_kp.json', 'dataset/a083_kp/S019C003P041R001A083_rgb_kp.json', 'dataset/a083_kp/S029C001P075R001A083_rgb_kp.json', 'dataset/a083_kp/S023C003P068R001A083_rgb_kp.json', 'dataset/a083_kp/S028C003P070R002A083_rgb_kp.json', 'dataset/a083_kp/S029C001P049R002A083_rgb_kp.json', 'dataset/a083_kp/S031C003P051R002A083_rgb_kp.json', 'dataset/a083_kp/S031C002P085R002A083_rgb_kp.json', 'dataset/a083_kp/S030C002P094R001A083_rgb_kp.json', 'dataset/a083_kp/S030C001P048R002A083_rgb_kp.json', 'dataset/a083_kp/S027C002P043R001A083_rgb_kp.json', 'dataset/a083_kp/S031C001P043R001A083_rgb_kp.json', 'dataset/a083_kp/S029C003P074R002A083_rgb_kp.json', 'dataset/a083_kp/S026C003P008R001A083_rgb_kp.json', 'dataset/a083_kp/S027C003P082R001A083_rgb_kp.json', 'dataset/a083_kp/S029C001P075R002A083_rgb_kp.json', 'dataset/a083_kp/S030C003P096R001A083_rgb_kp.json', 'dataset/a083_kp/S032C002P103R001A083_rgb_kp.json', 'dataset/a083_kp/S024C002P067R001A083_rgb_kp.json', 'dataset/a083_kp/S026C002P069R002A083_rgb_kp.json', 'dataset/a083_kp/S024C003P061R001A083_rgb_kp.json', 'dataset/a083_kp/S027C001P044R001A083_rgb_kp.json', 'dataset/a083_kp/S026C002P077R002A083_rgb_kp.json', 'dataset/a083_kp/S027C002P085R002A083_rgb_kp.json', 'dataset/a083_kp/S019C001P048R002A083_rgb_kp.json', 'dataset/a083_kp/S018C003P045R001A083_rgb_kp.json', 'dataset/a083_kp/S030C002P041R002A083_rgb_kp.json', 'dataset/a083_kp/S027C001P084R001A083_rgb_kp.json', 'dataset/a083_kp/S032C001P104R001A083_rgb_kp.json', 'dataset/a083_kp/S026C002P071R002A083_rgb_kp.json', 'dataset/a083_kp/S028C001P073R002A083_rgb_kp.json', 'dataset/a083_kp/S028C001P070R001A083_rgb_kp.json', 'dataset/a083_kp/S031C003P006R002A083_rgb_kp.json', 'dataset/a083_kp/S027C002P081R001A083_rgb_kp.json', 'dataset/a083_kp/S023C003P064R001A083_rgb_kp.json', 'dataset/a083_kp/S028C002P048R002A083_rgb_kp.json', 'dataset/a083_kp/S026C002P050R001A083_rgb_kp.json', 'dataset/a083_kp/S023C002P061R001A083_rgb_kp.json', 'dataset/a083_kp/S032C003P008R001A083_rgb_kp.json', 'dataset/a083_kp/S031C002P042R002A083_rgb_kp.json', 'dataset/a083_kp/S022C002P062R002A083_rgb_kp.json', 'dataset/a083_kp/S027C002P011R002A083_rgb_kp.json', 'dataset/a083_kp/S029C002P074R002A083_rgb_kp.json', 'dataset/a083_kp/S023C002P059R002A083_rgb_kp.json', 'dataset/a083_kp/S030C002P092R002A083_rgb_kp.json', 'dataset/a083_kp/S027C003P079R002A083_rgb_kp.json', 'dataset/a083_kp/S032C001P105R001A083_rgb_kp.json', 'dataset/a083_kp/S020C001P043R002A083_rgb_kp.json', 'dataset/a083_kp/S024C003P064R002A083_rgb_kp.json', 'dataset/a083_kp/S028C001P041R001A083_rgb_kp.json', 'dataset/a083_kp/S023C003P061R001A083_rgb_kp.json', 'dataset/a083_kp/S025C003P056R001A083_rgb_kp.json', 'dataset/a083_kp/S020C001P008R001A083_rgb_kp.json', 'dataset/a083_kp/S019C001P041R002A083_rgb_kp.json', 'dataset/a083_kp/S023C002P057R001A083_rgb_kp.json', 'dataset/a083_kp/S024C002P063R002A083_rgb_kp.json', 'dataset/a083_kp/S022C003P061R002A083_rgb_kp.json', 'dataset/a083_kp/S023C001P063R001A083_rgb_kp.json', 'dataset/a083_kp/S027C001P079R001A083_rgb_kp.json', 'dataset/a083_kp/S019C003P051R001A083_rgb_kp.json', 'dataset/a083_kp/S029C002P048R001A083_rgb_kp.json', 'dataset/a083_kp/S031C001P098R001A083_rgb_kp.json', 'dataset/a083_kp/S022C001P062R001A083_rgb_kp.json', 'dataset/a083_kp/S026C003P070R002A083_rgb_kp.json', 'dataset/a083_kp/S020C002P041R002A083_rgb_kp.json', 'dataset/a083_kp/S029C001P051R001A083_rgb_kp.json', 'dataset/a083_kp/S027C003P011R002A083_rgb_kp.json', 'dataset/a083_kp/S021C002P055R001A083_rgb_kp.json', 'dataset/a083_kp/S026C003P076R001A083_rgb_kp.json', 'dataset/a083_kp/S020C001P053R002A083_rgb_kp.json', 'dataset/a083_kp/S019C001P041R001A083_rgb_kp.json', 'dataset/a083_kp/S023C002P066R002A083_rgb_kp.json', 'dataset/a083_kp/S031C002P043R001A083_rgb_kp.json', 'dataset/a091_kp/S018C002P041R002A091_rgb_kp.json', 'dataset/a091_kp/S026C002P074R002A091_rgb_kp.json', 'dataset/a091_kp/S032C002P103R002A091_rgb_kp.json', 'dataset/a091_kp/S029C001P074R001A091_rgb_kp.json', 'dataset/a091_kp/S030C001P076R002A091_rgb_kp.json', 'dataset/a091_kp/S023C002P057R001A091_rgb_kp.json', 'dataset/a091_kp/S031C001P067R001A091_rgb_kp.json', 'dataset/a091_kp/S029C002P006R001A091_rgb_kp.json', 'dataset/a091_kp/S032C003P104R001A091_rgb_kp.json', 'dataset/a091_kp/S029C002P067R002A091_rgb_kp.json', 'dataset/a091_kp/S030C002P067R001A091_rgb_kp.json', 'dataset/a091_kp/S026C001P077R001A091_rgb_kp.json', 'dataset/a091_kp/S021C002P056R001A091_rgb_kp.json', 'dataset/a091_kp/S024C002P064R002A091_rgb_kp.json', 'dataset/a091_kp/S029C003P088R002A091_rgb_kp.json', 'dataset/a091_kp/S025C001P058R001A091_rgb_kp.json', 'dataset/a091_kp/S018C003P041R001A091_rgb_kp.json', 'dataset/a091_kp/S023C002P061R002A091_rgb_kp.json', 'dataset/a091_kp/S023C001P060R002A091_rgb_kp.json', 'dataset/a091_kp/S030C003P067R002A091_rgb_kp.json', 'dataset/a091_kp/S023C003P066R002A091_rgb_kp.json', 'dataset/a091_kp/S021C002P058R002A091_rgb_kp.json', 'dataset/a091_kp/S030C002P088R001A091_rgb_kp.json', 'dataset/a091_kp/S028C001P042R001A091_rgb_kp.json', 'dataset/a091_kp/S019C003P046R002A091_rgb_kp.json', 'dataset/a091_kp/S028C001P042R002A091_rgb_kp.json', 'dataset/a091_kp/S032C003P067R002A091_rgb_kp.json', 'dataset/a091_kp/S032C001P106R001A091_rgb_kp.json', 'dataset/a091_kp/S022C001P067R001A091_rgb_kp.json', 'dataset/a091_kp/S024C002P057R001A091_rgb_kp.json', 'dataset/a091_kp/S025C001P066R001A091_rgb_kp.json', 'dataset/a091_kp/S027C002P083R002A091_rgb_kp.json', 'dataset/a091_kp/S032C002P102R002A091_rgb_kp.json', 'dataset/a091_kp/S032C001P105R002A091_rgb_kp.json', 'dataset/a091_kp/S030C002P011R001A091_rgb_kp.json', 'dataset/a091_kp/S029C002P048R001A091_rgb_kp.json', 'dataset/a091_kp/S029C003P067R002A091_rgb_kp.json', 'dataset/a091_kp/S031C002P097R002A091_rgb_kp.json', 'dataset/a091_kp/S032C003P105R002A091_rgb_kp.json', 'dataset/a091_kp/S020C001P041R002A091_rgb_kp.json', 'dataset/a091_kp/S022C003P066R001A091_rgb_kp.json', 'dataset/a091_kp/S028C002P008R002A091_rgb_kp.json', 'dataset/a091_kp/S019C003P049R002A091_rgb_kp.json', 'dataset/a091_kp/S032C002P041R001A091_rgb_kp.json', 'dataset/a091_kp/S029C002P051R001A091_rgb_kp.json', 'dataset/a091_kp/S026C003P051R001A091_rgb_kp.json', 'dataset/a091_kp/S032C003P041R002A091_rgb_kp.json', 'dataset/a091_kp/S031C003P082R002A091_rgb_kp.json', 'dataset/a091_kp/S019C002P042R002A091_rgb_kp.json', 'dataset/a091_kp/S032C002P103R001A091_rgb_kp.json', 'dataset/a091_kp/S026C003P049R002A091_rgb_kp.json', 'dataset/a091_kp/S025C003P056R002A091_rgb_kp.json', 'dataset/a091_kp/S029C002P088R002A091_rgb_kp.json', 'dataset/a091_kp/S031C003P098R001A091_rgb_kp.json', 'dataset/a091_kp/S020C003P052R001A091_rgb_kp.json', 'dataset/a091_kp/S024C003P062R002A091_rgb_kp.json', 'dataset/a091_kp/S025C003P065R001A091_rgb_kp.json', 'dataset/a091_kp/S027C002P041R001A091_rgb_kp.json', 'dataset/a091_kp/S030C002P095R001A091_rgb_kp.json', 'dataset/a091_kp/S026C001P070R002A091_rgb_kp.json', 'dataset/a091_kp/S026C002P074R001A091_rgb_kp.json', 'dataset/a091_kp/S024C002P067R002A091_rgb_kp.json', 'dataset/a091_kp/S030C002P095R002A091_rgb_kp.json', 'dataset/a091_kp/S030C002P088R002A091_rgb_kp.json', 'dataset/a091_kp/S030C002P092R001A091_rgb_kp.json', 'dataset/a091_kp/S020C003P041R001A091_rgb_kp.json', 'dataset/a091_kp/S027C001P083R002A091_rgb_kp.json', 'dataset/a091_kp/S025C003P055R001A091_rgb_kp.json', 'dataset/a091_kp/S022C002P065R002A091_rgb_kp.json', 'dataset/a091_kp/S022C002P067R002A091_rgb_kp.json', 'dataset/a091_kp/S031C002P043R001A091_rgb_kp.json', 'dataset/a091_kp/S023C003P057R002A091_rgb_kp.json', 'dataset/a091_kp/S030C001P094R002A091_rgb_kp.json', 'dataset/a091_kp/S023C002P066R001A091_rgb_kp.json', 'dataset/a091_kp/S026C001P044R001A091_rgb_kp.json', 'dataset/a091_kp/S031C001P100R001A091_rgb_kp.json', 'dataset/a091_kp/S023C003P056R002A091_rgb_kp.json', 'dataset/a091_kp/S026C003P008R002A091_rgb_kp.json', 'dataset/a091_kp/S020C002P054R002A091_rgb_kp.json', 'dataset/a091_kp/S031C001P097R001A091_rgb_kp.json', 'dataset/a091_kp/S027C003P044R002A091_rgb_kp.json', 'dataset/a091_kp/S023C001P066R002A091_rgb_kp.json', 'dataset/a091_kp/S031C003P008R001A091_rgb_kp.json', 'dataset/a091_kp/S029C002P008R001A091_rgb_kp.json', 'dataset/a091_kp/S029C001P044R001A091_rgb_kp.json', 'dataset/a091_kp/S027C003P078R002A091_rgb_kp.json', 'dataset/a091_kp/S019C001P048R001A091_rgb_kp.json', 'dataset/a091_kp/S031C003P043R001A091_rgb_kp.json', 'dataset/a091_kp/S028C001P048R002A091_rgb_kp.json', 'dataset/a091_kp/S029C003P049R002A091_rgb_kp.json', 'dataset/a091_kp/S023C002P060R001A091_rgb_kp.json', 'dataset/a091_kp/S022C001P066R001A091_rgb_kp.json', 'dataset/a091_kp/S029C002P051R002A091_rgb_kp.json', 'dataset/a091_kp/S021C002P059R001A091_rgb_kp.json', 'dataset/a091_kp/S029C001P049R002A091_rgb_kp.json', 'dataset/a091_kp/S026C003P069R001A091_rgb_kp.json', 'dataset/a091_kp/S029C003P049R001A091_rgb_kp.json', 'dataset/a091_kp/S026C002P050R001A091_rgb_kp.json', 'dataset/a091_kp/S027C003P086R002A091_rgb_kp.json', 'dataset/a091_kp/S029C001P089R002A091_rgb_kp.json', 'dataset/a004_kp/S016C003P019R002A004_rgb_kp.json', 'dataset/a004_kp/S007C001P008R001A004_rgb_kp.json', 'dataset/a004_kp/S002C001P009R001A004_rgb_kp.json', 'dataset/a004_kp/S005C003P017R002A004_rgb_kp.json', 'dataset/a004_kp/S003C003P019R001A004_rgb_kp.json', 'dataset/a004_kp/S016C002P021R001A004_rgb_kp.json', 'dataset/a004_kp/S015C001P017R002A004_rgb_kp.json', 'dataset/a004_kp/S003C002P016R001A004_rgb_kp.json', 'dataset/a004_kp/S009C002P008R002A004_rgb_kp.json', 'dataset/a004_kp/S010C002P016R001A004_rgb_kp.json', 'dataset/a004_kp/S014C001P008R001A004_rgb_kp.json', 'dataset/a004_kp/S001C003P004R001A004_rgb_kp.json', 'dataset/a004_kp/S007C003P027R001A004_rgb_kp.json', 'dataset/a004_kp/S007C001P007R001A004_rgb_kp.json', 'dataset/a004_kp/S015C001P016R002A004_rgb_kp.json', 'dataset/a004_kp/S017C001P008R001A004_rgb_kp.json', 'dataset/a004_kp/S001C003P006R002A004_rgb_kp.json', 'dataset/a004_kp/S015C002P007R002A004_rgb_kp.json', 'dataset/a004_kp/S009C003P008R002A004_rgb_kp.json', 'dataset/a004_kp/S009C001P016R002A004_rgb_kp.json', 'dataset/a004_kp/S014C001P027R002A004_rgb_kp.json', 'dataset/a004_kp/S007C003P026R002A004_rgb_kp.json', 'dataset/a004_kp/S008C003P029R002A004_rgb_kp.json', 'dataset/a004_kp/S008C003P034R002A004_rgb_kp.json', 'dataset/a004_kp/S007C002P015R002A004_rgb_kp.json', 'dataset/a004_kp/S003C003P019R002A004_rgb_kp.json', 'dataset/a004_kp/S007C003P028R001A004_rgb_kp.json', 'dataset/a004_kp/S011C002P016R001A004_rgb_kp.json', 'dataset/a004_kp/S006C002P022R002A004_rgb_kp.json', 'dataset/a004_kp/S009C003P017R002A004_rgb_kp.json', 'dataset/a004_kp/S016C002P039R001A004_rgb_kp.json', 'dataset/a004_kp/S002C001P008R002A004_rgb_kp.json', 'dataset/a004_kp/S003C003P017R002A004_rgb_kp.json', 'dataset/a004_kp/S003C002P015R002A004_rgb_kp.json', 'dataset/a004_kp/S008C002P015R002A004_rgb_kp.json', 'dataset/a004_kp/S013C001P015R001A004_rgb_kp.json', 'dataset/a004_kp/S007C002P028R001A004_rgb_kp.json', 'dataset/a004_kp/S013C001P027R002A004_rgb_kp.json', 'dataset/a004_kp/S006C002P017R001A004_rgb_kp.json', 'dataset/a004_kp/S003C001P017R002A004_rgb_kp.json', 'dataset/a004_kp/S006C002P023R002A004_rgb_kp.json', 'dataset/a004_kp/S006C003P019R002A004_rgb_kp.json', 'dataset/a004_kp/S010C002P017R002A004_rgb_kp.json', 'dataset/a004_kp/S008C003P008R001A004_rgb_kp.json', 'dataset/a004_kp/S017C003P008R002A004_rgb_kp.json', 'dataset/a004_kp/S007C001P027R001A004_rgb_kp.json', 'dataset/a004_kp/S003C001P015R001A004_rgb_kp.json', 'dataset/a004_kp/S005C003P015R001A004_rgb_kp.json', 'dataset/a004_kp/S008C001P029R001A004_rgb_kp.json', 'dataset/a004_kp/S012C003P019R002A004_rgb_kp.json', 'dataset/a004_kp/S007C002P025R002A004_rgb_kp.json', 'dataset/a004_kp/S012C001P008R001A004_rgb_kp.json', 'dataset/a004_kp/S006C001P019R002A004_rgb_kp.json', 'dataset/a004_kp/S011C002P018R001A004_rgb_kp.json', 'dataset/a004_kp/S008C001P031R002A004_rgb_kp.json', 'dataset/a004_kp/S015C002P025R002A004_rgb_kp.json', 'dataset/a004_kp/S010C001P008R002A004_rgb_kp.json', 'dataset/a004_kp/S002C001P014R001A004_rgb_kp.json', 'dataset/a004_kp/S001C001P007R001A004_rgb_kp.json', 'dataset/a004_kp/S013C002P037R002A004_rgb_kp.json', 'dataset/a004_kp/S007C003P019R001A004_rgb_kp.json', 'dataset/a004_kp/S013C003P019R002A004_rgb_kp.json', 'dataset/a004_kp/S017C001P020R001A004_rgb_kp.json', 'dataset/a004_kp/S017C003P015R001A004_rgb_kp.json', 'dataset/a004_kp/S008C002P001R001A004_rgb_kp.json', 'dataset/a004_kp/S006C001P022R002A004_rgb_kp.json', 'dataset/a004_kp/S008C001P015R002A004_rgb_kp.json', 'dataset/a004_kp/S002C003P013R001A004_rgb_kp.json', 'dataset/a004_kp/S008C001P035R002A004_rgb_kp.json', 'dataset/a004_kp/S016C001P040R001A004_rgb_kp.json', 'dataset/a004_kp/S005C003P010R001A004_rgb_kp.json', 'dataset/a004_kp/S013C002P025R001A004_rgb_kp.json', 'dataset/a004_kp/S014C003P025R002A004_rgb_kp.json', 'dataset/a004_kp/S006C001P016R002A004_rgb_kp.json', 'dataset/a004_kp/S011C003P008R002A004_rgb_kp.json', 'dataset/a004_kp/S006C003P024R001A004_rgb_kp.json', 'dataset/a004_kp/S011C003P019R001A004_rgb_kp.json', 'dataset/a004_kp/S006C001P024R002A004_rgb_kp.json', 'dataset/a004_kp/S013C003P028R002A004_rgb_kp.json', 'dataset/a004_kp/S013C003P037R001A004_rgb_kp.json', 'dataset/a004_kp/S004C002P020R002A004_rgb_kp.json', 'dataset/a004_kp/S012C002P037R002A004_rgb_kp.json', 'dataset/a004_kp/S011C003P017R001A004_rgb_kp.json', 'dataset/a004_kp/S017C003P008R001A004_rgb_kp.json', 'dataset/a004_kp/S015C002P015R001A004_rgb_kp.json', 'dataset/a004_kp/S011C003P038R002A004_rgb_kp.json', 'dataset/a004_kp/S006C003P007R001A004_rgb_kp.json', 'dataset/a004_kp/S005C002P015R002A004_rgb_kp.json', 'dataset/a004_kp/S013C003P015R001A004_rgb_kp.json', 'dataset/a004_kp/S001C003P007R001A004_rgb_kp.json', 'dataset/a004_kp/S006C002P019R002A004_rgb_kp.json', 'dataset/a004_kp/S003C002P017R002A004_rgb_kp.json', 'dataset/a004_kp/S007C003P016R002A004_rgb_kp.json', 'dataset/a004_kp/S006C001P017R002A004_rgb_kp.json', 'dataset/a004_kp/S009C001P008R002A004_rgb_kp.json', 'dataset/a004_kp/S016C003P007R001A004_rgb_kp.json', 'dataset/a004_kp/S013C002P015R001A004_rgb_kp.json', 'dataset/a004_kp/S006C002P001R002A004_rgb_kp.json', 'dataset/a004_kp/S010C002P007R001A004_rgb_kp.json', 'dataset/a004_kp/S008C003P007R001A004_rgb_kp.json', 'dataset/a090_kp/S019C002P050R001A090_rgb_kp.json', 'dataset/a090_kp/S024C002P061R001A090_rgb_kp.json', 'dataset/a090_kp/S024C003P067R002A090_rgb_kp.json', 'dataset/a090_kp/S022C002P062R001A090_rgb_kp.json', 'dataset/a090_kp/S030C002P088R002A090_rgb_kp.json', 'dataset/a090_kp/S024C001P063R001A090_rgb_kp.json', 'dataset/a090_kp/S021C003P055R002A090_rgb_kp.json', 'dataset/a090_kp/S029C003P075R002A090_rgb_kp.json', 'dataset/a090_kp/S031C003P042R002A090_rgb_kp.json', 'dataset/a090_kp/S024C001P064R002A090_rgb_kp.json', 'dataset/a090_kp/S026C001P008R002A090_rgb_kp.json', 'dataset/a090_kp/S031C001P098R002A090_rgb_kp.json', 'dataset/a090_kp/S025C002P065R002A090_rgb_kp.json', 'dataset/a090_kp/S030C002P095R002A090_rgb_kp.json', 'dataset/a090_kp/S024C002P060R001A090_rgb_kp.json', 'dataset/a090_kp/S027C001P011R001A090_rgb_kp.json', 'dataset/a090_kp/S030C001P081R002A090_rgb_kp.json', 'dataset/a090_kp/S020C003P052R001A090_rgb_kp.json', 'dataset/a090_kp/S023C003P062R002A090_rgb_kp.json', 'dataset/a090_kp/S028C003P048R001A090_rgb_kp.json', 'dataset/a090_kp/S029C002P090R001A090_rgb_kp.json', 'dataset/a090_kp/S027C002P083R001A090_rgb_kp.json', 'dataset/a090_kp/S023C002P060R001A090_rgb_kp.json', 'dataset/a090_kp/S027C002P081R002A090_rgb_kp.json', 'dataset/a090_kp/S027C001P044R001A090_rgb_kp.json', 'dataset/a090_kp/S019C001P046R001A090_rgb_kp.json', 'dataset/a090_kp/S024C002P057R001A090_rgb_kp.json', 'dataset/a090_kp/S030C001P048R002A090_rgb_kp.json', 'dataset/a090_kp/S019C003P048R001A090_rgb_kp.json', 'dataset/a090_kp/S026C002P050R002A090_rgb_kp.json', 'dataset/a090_kp/S019C001P050R002A090_rgb_kp.json', 'dataset/a090_kp/S026C003P051R001A090_rgb_kp.json', 'dataset/a090_kp/S020C002P043R002A090_rgb_kp.json', 'dataset/a090_kp/S032C003P067R001A090_rgb_kp.json', 'dataset/a090_kp/S024C001P057R001A090_rgb_kp.json', 'dataset/a090_kp/S030C001P088R001A090_rgb_kp.json', 'dataset/a090_kp/S029C002P048R002A090_rgb_kp.json', 'dataset/a090_kp/S026C003P044R002A090_rgb_kp.json', 'dataset/a090_kp/S026C002P051R001A090_rgb_kp.json', 'dataset/a090_kp/S030C001P011R002A090_rgb_kp.json', 'dataset/a090_kp/S023C001P063R002A090_rgb_kp.json', 'dataset/a090_kp/S027C002P008R001A090_rgb_kp.json', 'dataset/a090_kp/S026C002P077R002A090_rgb_kp.json', 'dataset/a090_kp/S020C001P008R002A090_rgb_kp.json', 'dataset/a090_kp/S022C002P065R001A090_rgb_kp.json', 'dataset/a090_kp/S030C003P008R001A090_rgb_kp.json', 'dataset/a090_kp/S030C002P096R002A090_rgb_kp.json', 'dataset/a090_kp/S029C002P043R002A090_rgb_kp.json', 'dataset/a090_kp/S020C002P054R002A090_rgb_kp.json', 'dataset/a090_kp/S019C001P041R001A090_rgb_kp.json', 'dataset/a090_kp/S031C001P006R002A090_rgb_kp.json', 'dataset/a090_kp/S024C001P063R002A090_rgb_kp.json', 'dataset/a090_kp/S018C002P041R002A090_rgb_kp.json', 'dataset/a090_kp/S028C003P087R002A090_rgb_kp.json', 'dataset/a090_kp/S029C003P090R002A090_rgb_kp.json', 'dataset/a090_kp/S032C002P105R001A090_rgb_kp.json', 'dataset/a090_kp/S024C002P057R002A090_rgb_kp.json', 'dataset/a090_kp/S026C002P041R001A090_rgb_kp.json', 'dataset/a090_kp/S023C003P066R002A090_rgb_kp.json', 'dataset/a090_kp/S029C001P089R002A090_rgb_kp.json', 'dataset/a090_kp/S018C002P008R002A090_rgb_kp.json', 'dataset/a090_kp/S028C002P048R002A090_rgb_kp.json', 'dataset/a090_kp/S030C003P043R002A090_rgb_kp.json', 'dataset/a090_kp/S030C002P076R001A090_rgb_kp.json', 'dataset/a090_kp/S028C003P008R002A090_rgb_kp.json', 'dataset/a090_kp/S032C002P104R001A090_rgb_kp.json', 'dataset/a090_kp/S031C002P098R002A090_rgb_kp.json', 'dataset/a090_kp/S031C003P099R002A090_rgb_kp.json', 'dataset/a090_kp/S018C002P045R002A090_rgb_kp.json', 'dataset/a090_kp/S026C003P076R001A090_rgb_kp.json', 'dataset/a090_kp/S032C002P102R001A090_rgb_kp.json', 'dataset/a090_kp/S028C002P087R001A090_rgb_kp.json', 'dataset/a090_kp/S027C001P083R001A090_rgb_kp.json', 'dataset/a090_kp/S029C001P080R002A090_rgb_kp.json', 'dataset/a090_kp/S027C001P078R001A090_rgb_kp.json', 'dataset/a090_kp/S019C003P041R001A090_rgb_kp.json', 'dataset/a090_kp/S026C001P070R002A090_rgb_kp.json', 'dataset/a090_kp/S021C003P058R001A090_rgb_kp.json', 'dataset/a090_kp/S029C003P090R001A090_rgb_kp.json', 'dataset/a090_kp/S022C003P061R001A090_rgb_kp.json', 'dataset/a090_kp/S019C003P048R002A090_rgb_kp.json', 'dataset/a090_kp/S027C001P080R001A090_rgb_kp.json', 'dataset/a090_kp/S023C003P067R001A090_rgb_kp.json', 'dataset/a090_kp/S031C002P051R002A090_rgb_kp.json', 'dataset/a090_kp/S030C001P093R001A090_rgb_kp.json', 'dataset/a090_kp/S026C002P069R002A090_rgb_kp.json', 'dataset/a090_kp/S030C001P043R002A090_rgb_kp.json', 'dataset/a090_kp/S023C001P059R001A090_rgb_kp.json', 'dataset/a090_kp/S021C001P058R002A090_rgb_kp.json', 'dataset/a090_kp/S032C001P044R002A090_rgb_kp.json', 'dataset/a090_kp/S030C001P091R002A090_rgb_kp.json', 'dataset/a090_kp/S031C001P008R002A090_rgb_kp.json', 'dataset/a090_kp/S019C002P042R001A090_rgb_kp.json', 'dataset/a090_kp/S021C003P055R001A090_rgb_kp.json', 'dataset/a090_kp/S031C003P096R002A090_rgb_kp.json', 'dataset/a090_kp/S028C003P008R001A090_rgb_kp.json', 'dataset/a090_kp/S032C002P044R001A090_rgb_kp.json', 'dataset/a090_kp/S019C002P049R001A090_rgb_kp.json', 'dataset/a090_kp/S030C002P043R002A090_rgb_kp.json', 'dataset/a090_kp/S030C001P096R002A090_rgb_kp.json', 'dataset/a070_kp/S031C003P006R001A070_rgb_kp.json', 'dataset/a070_kp/S028C001P008R002A070_rgb_kp.json', 'dataset/a070_kp/S019C001P046R001A070_rgb_kp.json', 'dataset/a070_kp/S030C001P048R002A070_rgb_kp.json', 'dataset/a070_kp/S029C003P051R001A070_rgb_kp.json', 'dataset/a070_kp/S031C002P067R002A070_rgb_kp.json', 'dataset/a070_kp/S021C001P058R001A070_rgb_kp.json', 'dataset/a070_kp/S026C001P049R002A070_rgb_kp.json', 'dataset/a070_kp/S019C003P048R002A070_rgb_kp.json', 'dataset/a070_kp/S024C003P060R002A070_rgb_kp.json', 'dataset/a070_kp/S030C002P044R002A070_rgb_kp.json', 'dataset/a070_kp/S020C003P041R001A070_rgb_kp.json', 'dataset/a070_kp/S026C002P041R001A070_rgb_kp.json', 'dataset/a070_kp/S030C002P096R001A070_rgb_kp.json', 'dataset/a070_kp/S028C001P046R001A070_rgb_kp.json', 'dataset/a070_kp/S021C001P057R001A070_rgb_kp.json', 'dataset/a070_kp/S022C002P061R001A070_rgb_kp.json', 'dataset/a070_kp/S029C003P089R002A070_rgb_kp.json', 'dataset/a070_kp/S031C002P044R001A070_rgb_kp.json', 'dataset/a070_kp/S022C002P065R001A070_rgb_kp.json', 'dataset/a070_kp/S018C003P042R002A070_rgb_kp.json', 'dataset/a070_kp/S020C001P008R001A070_rgb_kp.json', 'dataset/a070_kp/S019C001P042R002A070_rgb_kp.json', 'dataset/a070_kp/S027C003P081R002A070_rgb_kp.json', 'dataset/a070_kp/S026C001P075R002A070_rgb_kp.json', 'dataset/a070_kp/S027C001P044R002A070_rgb_kp.json', 'dataset/a070_kp/S020C002P041R001A070_rgb_kp.json', 'dataset/a070_kp/S026C002P074R002A070_rgb_kp.json', 'dataset/a070_kp/S031C003P042R002A070_rgb_kp.json', 'dataset/a070_kp/S032C001P041R001A070_rgb_kp.json', 'dataset/a070_kp/S024C001P057R002A070_rgb_kp.json', 'dataset/a070_kp/S025C002P056R002A070_rgb_kp.json', 'dataset/a070_kp/S031C003P101R001A070_rgb_kp.json', 'dataset/a070_kp/S023C002P064R002A070_rgb_kp.json', 'dataset/a070_kp/S032C003P106R001A070_rgb_kp.json', 'dataset/a070_kp/S029C001P089R001A070_rgb_kp.json', 'dataset/a070_kp/S030C001P043R002A070_rgb_kp.json', 'dataset/a070_kp/S029C001P043R001A070_rgb_kp.json', 'dataset/a070_kp/S032C001P043R002A070_rgb_kp.json', 'dataset/a070_kp/S027C001P079R001A070_rgb_kp.json', 'dataset/a070_kp/S023C001P059R002A070_rgb_kp.json', 'dataset/a070_kp/S023C001P062R001A070_rgb_kp.json', 'dataset/a070_kp/S027C003P081R001A070_rgb_kp.json', 'dataset/a070_kp/S029C003P067R002A070_rgb_kp.json', 'dataset/a070_kp/S030C002P075R001A070_rgb_kp.json', 'dataset/a070_kp/S031C002P041R002A070_rgb_kp.json', 'dataset/a070_kp/S026C001P070R001A070_rgb_kp.json', 'dataset/a070_kp/S019C003P008R001A070_rgb_kp.json', 'dataset/a070_kp/S025C003P065R001A070_rgb_kp.json', 'dataset/a070_kp/S027C001P083R002A070_rgb_kp.json', 'dataset/a070_kp/S023C003P061R001A070_rgb_kp.json', 'dataset/a070_kp/S025C001P058R002A070_rgb_kp.json', 'dataset/a070_kp/S027C001P006R001A070_rgb_kp.json', 'dataset/a070_kp/S024C002P067R002A070_rgb_kp.json', 'dataset/a070_kp/S029C003P074R001A070_rgb_kp.json', 'dataset/a070_kp/S021C003P057R002A070_rgb_kp.json', 'dataset/a070_kp/S028C001P043R002A070_rgb_kp.json', 'dataset/a070_kp/S020C003P008R002A070_rgb_kp.json', 'dataset/a070_kp/S025C003P058R002A070_rgb_kp.json', 'dataset/a070_kp/S031C002P006R001A070_rgb_kp.json', 'dataset/a070_kp/S027C003P008R001A070_rgb_kp.json', 'dataset/a070_kp/S018C003P008R001A070_rgb_kp.json', 'dataset/a070_kp/S027C002P078R001A070_rgb_kp.json', 'dataset/a070_kp/S019C001P051R002A070_rgb_kp.json', 'dataset/a070_kp/S026C003P077R001A070_rgb_kp.json', 'dataset/a070_kp/S026C002P044R002A070_rgb_kp.json', 'dataset/a070_kp/S031C002P082R001A070_rgb_kp.json', 'dataset/a070_kp/S029C002P048R001A070_rgb_kp.json', 'dataset/a070_kp/S032C001P104R001A070_rgb_kp.json', 'dataset/a070_kp/S029C003P041R002A070_rgb_kp.json', 'dataset/a070_kp/S023C002P068R001A070_rgb_kp.json', 'dataset/a070_kp/S032C002P102R002A070_rgb_kp.json', 'dataset/a070_kp/S030C002P011R001A070_rgb_kp.json', 'dataset/a070_kp/S020C001P053R001A070_rgb_kp.json', 'dataset/a070_kp/S027C002P080R002A070_rgb_kp.json', 'dataset/a070_kp/S032C003P104R002A070_rgb_kp.json', 'dataset/a070_kp/S026C003P075R001A070_rgb_kp.json', 'dataset/a070_kp/S018C001P042R002A070_rgb_kp.json', 'dataset/a070_kp/S030C001P067R001A070_rgb_kp.json', 'dataset/a070_kp/S023C003P055R001A070_rgb_kp.json', 'dataset/a070_kp/S024C001P057R001A070_rgb_kp.json', 'dataset/a070_kp/S031C001P067R002A070_rgb_kp.json', 'dataset/a070_kp/S030C001P008R001A070_rgb_kp.json', 'dataset/a070_kp/S032C001P106R002A070_rgb_kp.json', 'dataset/a070_kp/S019C003P046R001A070_rgb_kp.json', 'dataset/a070_kp/S031C002P082R002A070_rgb_kp.json', 'dataset/a070_kp/S023C001P056R002A070_rgb_kp.json', 'dataset/a070_kp/S026C002P008R001A070_rgb_kp.json', 'dataset/a070_kp/S020C001P052R002A070_rgb_kp.json', 'dataset/a070_kp/S026C002P041R002A070_rgb_kp.json', 'dataset/a070_kp/S022C003P061R002A070_rgb_kp.json', 'dataset/a070_kp/S027C001P086R002A070_rgb_kp.json', 'dataset/a070_kp/S023C002P055R001A070_rgb_kp.json', 'dataset/a070_kp/S032C001P008R002A070_rgb_kp.json', 'dataset/a070_kp/S022C002P062R001A070_rgb_kp.json', 'dataset/a070_kp/S028C003P008R001A070_rgb_kp.json', 'dataset/a070_kp/S018C001P008R002A070_rgb_kp.json', 'dataset/a070_kp/S031C003P041R002A070_rgb_kp.json', 'dataset/a070_kp/S021C002P055R002A070_rgb_kp.json', 'dataset/a070_kp/S028C001P043R001A070_rgb_kp.json', 'dataset/a074_kp/S030C001P011R002A074_rgb_kp.json', 'dataset/a074_kp/S029C001P044R001A074_rgb_kp.json', 'dataset/a074_kp/S019C003P049R001A074_rgb_kp.json', 'dataset/a074_kp/S030C003P075R001A074_rgb_kp.json', 'dataset/a074_kp/S031C002P098R002A074_rgb_kp.json', 'dataset/a074_kp/S027C002P080R002A074_rgb_kp.json', 'dataset/a074_kp/S028C001P046R002A074_rgb_kp.json', 'dataset/a074_kp/S028C003P042R001A074_rgb_kp.json', 'dataset/a074_kp/S026C003P008R002A074_rgb_kp.json', 'dataset/a074_kp/S021C001P058R002A074_rgb_kp.json', 'dataset/a074_kp/S031C002P006R001A074_rgb_kp.json', 'dataset/a074_kp/S020C001P008R002A074_rgb_kp.json', 'dataset/a074_kp/S018C003P043R001A074_rgb_kp.json', 'dataset/a074_kp/S030C001P041R001A074_rgb_kp.json', 'dataset/a074_kp/S024C002P067R002A074_rgb_kp.json', 'dataset/a074_kp/S020C001P043R002A074_rgb_kp.json', 'dataset/a074_kp/S031C002P041R002A074_rgb_kp.json', 'dataset/a074_kp/S019C001P046R002A074_rgb_kp.json', 'dataset/a074_kp/S032C003P043R002A074_rgb_kp.json', 'dataset/a074_kp/S030C001P093R002A074_rgb_kp.json', 'dataset/a074_kp/S031C003P101R001A074_rgb_kp.json', 'dataset/a074_kp/S028C001P042R002A074_rgb_kp.json', 'dataset/a074_kp/S026C003P074R002A074_rgb_kp.json', 'dataset/a074_kp/S023C002P057R001A074_rgb_kp.json', 'dataset/a074_kp/S026C002P044R002A074_rgb_kp.json', 'dataset/a074_kp/S031C001P099R002A074_rgb_kp.json', 'dataset/a074_kp/S022C002P061R002A074_rgb_kp.json', 'dataset/a074_kp/S030C003P091R001A074_rgb_kp.json', 'dataset/a074_kp/S027C003P011R002A074_rgb_kp.json', 'dataset/a074_kp/S018C002P008R001A074_rgb_kp.json', 'dataset/a074_kp/S030C002P093R002A074_rgb_kp.json', 'dataset/a074_kp/S027C001P043R001A074_rgb_kp.json', 'dataset/a074_kp/S022C002P065R002A074_rgb_kp.json', 'dataset/a074_kp/S030C003P094R001A074_rgb_kp.json', 'dataset/a074_kp/S025C003P056R002A074_rgb_kp.json', 'dataset/a074_kp/S029C001P006R002A074_rgb_kp.json', 'dataset/a074_kp/S032C002P008R001A074_rgb_kp.json', 'dataset/a074_kp/S026C001P069R001A074_rgb_kp.json', 'dataset/a074_kp/S029C003P049R001A074_rgb_kp.json', 'dataset/a074_kp/S032C001P008R001A074_rgb_kp.json', 'dataset/a074_kp/S029C002P074R002A074_rgb_kp.json', 'dataset/a074_kp/S027C001P084R001A074_rgb_kp.json', 'dataset/a074_kp/S031C003P051R001A074_rgb_kp.json', 'dataset/a074_kp/S022C001P066R002A074_rgb_kp.json', 'dataset/a074_kp/S020C002P054R002A074_rgb_kp.json', 'dataset/a074_kp/S032C003P106R001A074_rgb_kp.json', 'dataset/a074_kp/S019C001P050R002A074_rgb_kp.json', 'dataset/a074_kp/S019C003P051R001A074_rgb_kp.json', 'dataset/a074_kp/S030C001P085R002A074_rgb_kp.json', 'dataset/a074_kp/S022C001P067R001A074_rgb_kp.json', 'dataset/a074_kp/S031C001P082R001A074_rgb_kp.json', 'dataset/a074_kp/S032C003P102R001A074_rgb_kp.json', 'dataset/a074_kp/S022C003P062R002A074_rgb_kp.json', 'dataset/a074_kp/S030C003P075R002A074_rgb_kp.json', 'dataset/a074_kp/S026C001P041R001A074_rgb_kp.json', 'dataset/a074_kp/S021C002P058R002A074_rgb_kp.json', 'dataset/a074_kp/S021C001P059R002A074_rgb_kp.json', 'dataset/a074_kp/S022C003P064R002A074_rgb_kp.json', 'dataset/a074_kp/S029C001P006R001A074_rgb_kp.json', 'dataset/a074_kp/S027C003P080R002A074_rgb_kp.json', 'dataset/a074_kp/S026C001P071R002A074_rgb_kp.json', 'dataset/a074_kp/S027C003P080R001A074_rgb_kp.json', 'dataset/a074_kp/S028C001P041R001A074_rgb_kp.json', 'dataset/a074_kp/S030C001P081R001A074_rgb_kp.json', 'dataset/a074_kp/S032C001P104R001A074_rgb_kp.json', 'dataset/a074_kp/S024C002P061R002A074_rgb_kp.json', 'dataset/a074_kp/S021C002P057R001A074_rgb_kp.json', 'dataset/a074_kp/S023C001P055R001A074_rgb_kp.json', 'dataset/a074_kp/S030C003P067R002A074_rgb_kp.json', 'dataset/a074_kp/S031C002P067R001A074_rgb_kp.json', 'dataset/a074_kp/S030C002P095R001A074_rgb_kp.json', 'dataset/a074_kp/S029C001P080R001A074_rgb_kp.json', 'dataset/a074_kp/S030C003P011R002A074_rgb_kp.json', 'dataset/a074_kp/S023C002P056R001A074_rgb_kp.json', 'dataset/a074_kp/S032C001P041R001A074_rgb_kp.json', 'dataset/a074_kp/S030C003P088R002A074_rgb_kp.json', 'dataset/a074_kp/S029C003P090R001A074_rgb_kp.json', 'dataset/a074_kp/S032C003P104R002A074_rgb_kp.json', 'dataset/a074_kp/S029C003P008R001A074_rgb_kp.json', 'dataset/a074_kp/S026C003P044R001A074_rgb_kp.json', 'dataset/a074_kp/S032C001P104R002A074_rgb_kp.json', 'dataset/a074_kp/S020C003P044R002A074_rgb_kp.json', 'dataset/a074_kp/S019C001P046R001A074_rgb_kp.json', 'dataset/a074_kp/S027C003P086R002A074_rgb_kp.json', 'dataset/a074_kp/S030C003P095R001A074_rgb_kp.json', 'dataset/a074_kp/S019C003P046R002A074_rgb_kp.json', 'dataset/a074_kp/S019C001P051R001A074_rgb_kp.json', 'dataset/a074_kp/S018C003P043R002A074_rgb_kp.json', 'dataset/a074_kp/S025C001P065R001A074_rgb_kp.json', 'dataset/a074_kp/S026C002P070R001A074_rgb_kp.json', 'dataset/a074_kp/S026C002P077R001A074_rgb_kp.json', 'dataset/a074_kp/S030C002P096R001A074_rgb_kp.json', 'dataset/a074_kp/S022C001P065R002A074_rgb_kp.json', 'dataset/a074_kp/S023C001P066R001A074_rgb_kp.json', 'dataset/a074_kp/S031C002P042R002A074_rgb_kp.json', 'dataset/a074_kp/S019C001P042R001A074_rgb_kp.json', 'dataset/a074_kp/S023C001P064R001A074_rgb_kp.json', 'dataset/a074_kp/S023C003P066R002A074_rgb_kp.json', 'dataset/a074_kp/S027C003P006R002A074_rgb_kp.json', 'dataset/a074_kp/S031C002P067R002A074_rgb_kp.json', 'dataset/a087_kp/S029C001P006R001A087_rgb_kp.json', 'dataset/a087_kp/S027C003P011R002A087_rgb_kp.json', 'dataset/a087_kp/S023C001P058R002A087_rgb_kp.json', 'dataset/a087_kp/S029C003P049R001A087_rgb_kp.json', 'dataset/a087_kp/S026C002P076R002A087_rgb_kp.json', 'dataset/a087_kp/S026C003P041R001A087_rgb_kp.json', 'dataset/a087_kp/S026C003P051R002A087_rgb_kp.json', 'dataset/a087_kp/S031C001P096R001A087_rgb_kp.json', 'dataset/a087_kp/S023C002P060R001A087_rgb_kp.json', 'dataset/a087_kp/S019C002P042R002A087_rgb_kp.json', 'dataset/a087_kp/S019C001P049R002A087_rgb_kp.json', 'dataset/a087_kp/S027C003P078R002A087_rgb_kp.json', 'dataset/a087_kp/S027C001P081R002A087_rgb_kp.json', 'dataset/a087_kp/S030C001P094R001A087_rgb_kp.json', 'dataset/a087_kp/S028C003P043R002A087_rgb_kp.json', 'dataset/a087_kp/S029C001P080R002A087_rgb_kp.json', 'dataset/a087_kp/S022C001P063R001A087_rgb_kp.json', 'dataset/a087_kp/S023C001P066R001A087_rgb_kp.json', 'dataset/a087_kp/S026C002P075R001A087_rgb_kp.json', 'dataset/a087_kp/S022C001P064R001A087_rgb_kp.json', 'dataset/a087_kp/S021C003P060R002A087_rgb_kp.json', 'dataset/a087_kp/S032C002P067R002A087_rgb_kp.json', 'dataset/a087_kp/S031C003P043R002A087_rgb_kp.json', 'dataset/a087_kp/S028C001P048R002A087_rgb_kp.json', 'dataset/a087_kp/S032C002P008R001A087_rgb_kp.json', 'dataset/a087_kp/S020C002P008R002A087_rgb_kp.json', 'dataset/a087_kp/S032C002P106R001A087_rgb_kp.json', 'dataset/a087_kp/S026C002P049R001A087_rgb_kp.json', 'dataset/a087_kp/S023C002P056R001A087_rgb_kp.json', 'dataset/a087_kp/S018C003P044R002A087_rgb_kp.json', 'dataset/a087_kp/S026C001P074R001A087_rgb_kp.json', 'dataset/a087_kp/S032C003P044R001A087_rgb_kp.json', 'dataset/a087_kp/S021C001P057R002A087_rgb_kp.json', 'dataset/a087_kp/S027C001P008R002A087_rgb_kp.json', 'dataset/a087_kp/S027C002P011R002A087_rgb_kp.json', 'dataset/a087_kp/S022C001P067R001A087_rgb_kp.json', 'dataset/a087_kp/S032C003P105R002A087_rgb_kp.json', 'dataset/a087_kp/S028C001P042R001A087_rgb_kp.json', 'dataset/a087_kp/S027C003P085R001A087_rgb_kp.json', 'dataset/a087_kp/S026C002P050R001A087_rgb_kp.json', 'dataset/a087_kp/S032C003P044R002A087_rgb_kp.json', 'dataset/a087_kp/S032C002P104R001A087_rgb_kp.json', 'dataset/a087_kp/S030C001P093R002A087_rgb_kp.json', 'dataset/a087_kp/S031C002P042R001A087_rgb_kp.json', 'dataset/a087_kp/S028C001P070R001A087_rgb_kp.json', 'dataset/a087_kp/S029C001P075R002A087_rgb_kp.json', 'dataset/a087_kp/S019C003P049R002A087_rgb_kp.json', 'dataset/a087_kp/S031C001P041R002A087_rgb_kp.json', 'dataset/a087_kp/S027C002P044R001A087_rgb_kp.json', 'dataset/a087_kp/S028C001P041R002A087_rgb_kp.json', 'dataset/a087_kp/S029C003P075R001A087_rgb_kp.json', 'dataset/a087_kp/S024C002P063R002A087_rgb_kp.json', 'dataset/a087_kp/S023C001P067R001A087_rgb_kp.json', 'dataset/a087_kp/S022C002P067R001A087_rgb_kp.json', 'dataset/a087_kp/S030C003P008R002A087_rgb_kp.json', 'dataset/a087_kp/S020C003P008R001A087_rgb_kp.json', 'dataset/a087_kp/S025C002P059R001A087_rgb_kp.json', 'dataset/a087_kp/S018C003P042R002A087_rgb_kp.json', 'dataset/a087_kp/S027C002P085R001A087_rgb_kp.json', 'dataset/a087_kp/S026C002P070R002A087_rgb_kp.json', 'dataset/a087_kp/S030C001P067R001A087_rgb_kp.json', 'dataset/a087_kp/S029C002P049R002A087_rgb_kp.json', 'dataset/a087_kp/S030C003P096R001A087_rgb_kp.json', 'dataset/a087_kp/S024C003P057R001A087_rgb_kp.json', 'dataset/a087_kp/S027C001P011R001A087_rgb_kp.json', 'dataset/a087_kp/S023C001P057R002A087_rgb_kp.json', 'dataset/a087_kp/S023C002P063R001A087_rgb_kp.json', 'dataset/a087_kp/S024C003P057R002A087_rgb_kp.json', 'dataset/a087_kp/S027C001P011R002A087_rgb_kp.json', 'dataset/a087_kp/S026C001P072R002A087_rgb_kp.json', 'dataset/a087_kp/S030C002P095R002A087_rgb_kp.json', 'dataset/a087_kp/S030C003P041R002A087_rgb_kp.json', 'dataset/a087_kp/S030C003P008R001A087_rgb_kp.json', 'dataset/a087_kp/S030C003P011R001A087_rgb_kp.json', 'dataset/a087_kp/S030C001P088R001A087_rgb_kp.json', 'dataset/a087_kp/S027C002P044R002A087_rgb_kp.json', 'dataset/a087_kp/S027C003P086R002A087_rgb_kp.json', 'dataset/a087_kp/S023C003P057R001A087_rgb_kp.json', 'dataset/a087_kp/S031C003P067R001A087_rgb_kp.json', 'dataset/a087_kp/S024C003P063R001A087_rgb_kp.json', 'dataset/a087_kp/S018C002P045R001A087_rgb_kp.json', 'dataset/a087_kp/S021C003P059R001A087_rgb_kp.json', 'dataset/a087_kp/S022C003P063R001A087_rgb_kp.json', 'dataset/a087_kp/S027C003P078R001A087_rgb_kp.json', 'dataset/a087_kp/S029C001P075R001A087_rgb_kp.json', 'dataset/a087_kp/S030C001P091R002A087_rgb_kp.json', 'dataset/a087_kp/S031C002P041R001A087_rgb_kp.json', 'dataset/a087_kp/S031C001P100R001A087_rgb_kp.json', 'dataset/a087_kp/S028C001P043R002A087_rgb_kp.json', 'dataset/a087_kp/S019C001P051R002A087_rgb_kp.json', 'dataset/a087_kp/S019C001P047R001A087_rgb_kp.json', 'dataset/a087_kp/S032C002P102R002A087_rgb_kp.json', 'dataset/a087_kp/S018C001P045R001A087_rgb_kp.json', 'dataset/a087_kp/S020C002P043R002A087_rgb_kp.json', 'dataset/a087_kp/S020C003P041R001A087_rgb_kp.json', 'dataset/a087_kp/S019C002P049R002A087_rgb_kp.json', 'dataset/a087_kp/S027C002P078R001A087_rgb_kp.json', 'dataset/a087_kp/S032C001P008R002A087_rgb_kp.json', 'dataset/a087_kp/S031C002P067R001A087_rgb_kp.json', 'dataset/a087_kp/S020C001P054R002A087_rgb_kp.json', 'dataset/a043_kp/S008C001P033R002A043_rgb_kp.json', 'dataset/a043_kp/S005C002P018R001A043_rgb_kp.json', 'dataset/a043_kp/S017C002P008R002A043_rgb_kp.json', 'dataset/a043_kp/S007C003P001R001A043_rgb_kp.json', 'dataset/a043_kp/S008C002P032R001A043_rgb_kp.json', 'dataset/a043_kp/S016C001P040R001A043_rgb_kp.json', 'dataset/a043_kp/S012C002P028R002A043_rgb_kp.json', 'dataset/a043_kp/S012C001P025R001A043_rgb_kp.json', 'dataset/a043_kp/S013C001P007R002A043_rgb_kp.json', 'dataset/a043_kp/S002C001P013R002A043_rgb_kp.json', 'dataset/a043_kp/S006C002P022R001A043_rgb_kp.json', 'dataset/a043_kp/S013C001P025R001A043_rgb_kp.json', 'dataset/a043_kp/S010C003P007R002A043_rgb_kp.json', 'dataset/a043_kp/S004C001P008R001A043_rgb_kp.json', 'dataset/a043_kp/S003C001P001R002A043_rgb_kp.json', 'dataset/a043_kp/S013C003P037R001A043_rgb_kp.json', 'dataset/a043_kp/S003C001P017R001A043_rgb_kp.json', 'dataset/a043_kp/S013C003P016R001A043_rgb_kp.json', 'dataset/a043_kp/S010C002P025R002A043_rgb_kp.json', 'dataset/a043_kp/S010C003P016R002A043_rgb_kp.json', 'dataset/a043_kp/S014C001P008R001A043_rgb_kp.json', 'dataset/a043_kp/S017C001P007R001A043_rgb_kp.json', 'dataset/a043_kp/S009C003P015R001A043_rgb_kp.json', 'dataset/a043_kp/S016C002P025R001A043_rgb_kp.json', 'dataset/a043_kp/S014C003P007R002A043_rgb_kp.json', 'dataset/a043_kp/S003C002P018R001A043_rgb_kp.json', 'dataset/a043_kp/S014C002P015R002A043_rgb_kp.json', 'dataset/a043_kp/S008C001P007R001A043_rgb_kp.json', 'dataset/a043_kp/S011C002P015R001A043_rgb_kp.json', 'dataset/a043_kp/S003C003P007R001A043_rgb_kp.json', 'dataset/a043_kp/S016C003P019R001A043_rgb_kp.json', 'dataset/a043_kp/S008C003P007R001A043_rgb_kp.json', 'dataset/a043_kp/S006C002P008R002A043_rgb_kp.json', 'dataset/a043_kp/S017C003P017R001A043_rgb_kp.json', 'dataset/a043_kp/S005C002P015R001A043_rgb_kp.json', 'dataset/a043_kp/S008C002P008R002A043_rgb_kp.json', 'dataset/a043_kp/S004C002P020R001A043_rgb_kp.json', 'dataset/a043_kp/S005C001P013R002A043_rgb_kp.json', 'dataset/a043_kp/S016C002P025R002A043_rgb_kp.json', 'dataset/a043_kp/S013C001P037R001A043_rgb_kp.json', 'dataset/a043_kp/S012C001P019R002A043_rgb_kp.json', 'dataset/a043_kp/S006C002P019R001A043_rgb_kp.json', 'dataset/a043_kp/S001C002P004R002A043_rgb_kp.json', 'dataset/a043_kp/S010C002P013R002A043_rgb_kp.json', 'dataset/a043_kp/S006C003P024R001A043_rgb_kp.json', 'dataset/a043_kp/S001C002P002R002A043_rgb_kp.json', 'dataset/a043_kp/S015C001P019R001A043_rgb_kp.json', 'dataset/a043_kp/S017C002P003R001A043_rgb_kp.json', 'dataset/a043_kp/S011C001P028R001A043_rgb_kp.json', 'dataset/a043_kp/S007C001P019R001A043_rgb_kp.json', 'dataset/a043_kp/S007C003P008R001A043_rgb_kp.json', 'dataset/a043_kp/S011C003P007R001A043_rgb_kp.json', 'dataset/a043_kp/S008C001P025R002A043_rgb_kp.json', 'dataset/a043_kp/S014C001P015R001A043_rgb_kp.json', 'dataset/a043_kp/S004C003P007R002A043_rgb_kp.json', 'dataset/a043_kp/S010C002P018R001A043_rgb_kp.json', 'dataset/a043_kp/S007C002P008R001A043_rgb_kp.json', 'dataset/a043_kp/S013C003P018R001A043_rgb_kp.json', 'dataset/a043_kp/S006C003P017R001A043_rgb_kp.json', 'dataset/a043_kp/S003C001P008R002A043_rgb_kp.json', 'dataset/a043_kp/S003C003P002R001A043_rgb_kp.json', 'dataset/a043_kp/S002C001P013R001A043_rgb_kp.json', 'dataset/a043_kp/S014C001P015R002A043_rgb_kp.json', 'dataset/a043_kp/S010C003P018R002A043_rgb_kp.json', 'dataset/a043_kp/S017C001P017R001A043_rgb_kp.json', 'dataset/a043_kp/S006C002P015R002A043_rgb_kp.json', 'dataset/a043_kp/S011C001P017R002A043_rgb_kp.json', 'dataset/a043_kp/S013C001P019R002A043_rgb_kp.json', 'dataset/a043_kp/S010C001P007R001A043_rgb_kp.json', 'dataset/a043_kp/S011C002P015R002A043_rgb_kp.json', 'dataset/a043_kp/S017C001P020R001A043_rgb_kp.json', 'dataset/a043_kp/S015C003P019R002A043_rgb_kp.json', 'dataset/a043_kp/S011C003P001R001A043_rgb_kp.json', 'dataset/a043_kp/S004C003P020R002A043_rgb_kp.json', 'dataset/a043_kp/S009C002P019R002A043_rgb_kp.json', 'dataset/a043_kp/S012C003P019R002A043_rgb_kp.json', 'dataset/a043_kp/S007C002P001R001A043_rgb_kp.json', 'dataset/a043_kp/S011C001P038R001A043_rgb_kp.json', 'dataset/a043_kp/S008C003P031R001A043_rgb_kp.json', 'dataset/a043_kp/S011C001P008R002A043_rgb_kp.json', 'dataset/a043_kp/S006C003P022R002A043_rgb_kp.json', 'dataset/a043_kp/S014C002P027R002A043_rgb_kp.json', 'dataset/a043_kp/S006C002P007R002A043_rgb_kp.json', 'dataset/a043_kp/S010C001P017R001A043_rgb_kp.json', 'dataset/a043_kp/S016C002P021R002A043_rgb_kp.json', 'dataset/a043_kp/S012C002P008R001A043_rgb_kp.json', 'dataset/a043_kp/S017C001P003R002A043_rgb_kp.json', 'dataset/a043_kp/S001C001P002R001A043_rgb_kp.json', 'dataset/a043_kp/S008C003P032R001A043_rgb_kp.json', 'dataset/a043_kp/S012C001P037R002A043_rgb_kp.json', 'dataset/a043_kp/S010C003P018R001A043_rgb_kp.json', 'dataset/a043_kp/S001C001P007R001A043_rgb_kp.json', 'dataset/a043_kp/S009C002P015R002A043_rgb_kp.json', 'dataset/a043_kp/S013C003P008R001A043_rgb_kp.json', 'dataset/a043_kp/S012C001P027R001A043_rgb_kp.json', 'dataset/a043_kp/S002C001P012R001A043_rgb_kp.json', 'dataset/a043_kp/S003C003P008R002A043_rgb_kp.json', 'dataset/a043_kp/S003C003P019R001A043_rgb_kp.json', 'dataset/a043_kp/S011C002P002R002A043_rgb_kp.json', 'dataset/a043_kp/S011C003P007R002A043_rgb_kp.json', 'dataset/a069_kp/S032C001P106R001A069_rgb_kp.json', 'dataset/a069_kp/S023C002P056R002A069_rgb_kp.json', 'dataset/a069_kp/S029C002P006R001A069_rgb_kp.json', 'dataset/a069_kp/S026C002P069R002A069_rgb_kp.json', 'dataset/a069_kp/S031C003P100R001A069_rgb_kp.json', 'dataset/a069_kp/S031C001P051R001A069_rgb_kp.json', 'dataset/a069_kp/S018C003P042R001A069_rgb_kp.json', 'dataset/a069_kp/S026C003P050R002A069_rgb_kp.json', 'dataset/a069_kp/S024C003P061R002A069_rgb_kp.json', 'dataset/a069_kp/S018C001P043R002A069_rgb_kp.json', 'dataset/a069_kp/S022C001P061R002A069_rgb_kp.json', 'dataset/a069_kp/S026C003P008R002A069_rgb_kp.json', 'dataset/a069_kp/S028C001P048R002A069_rgb_kp.json', 'dataset/a069_kp/S025C003P066R002A069_rgb_kp.json', 'dataset/a069_kp/S030C002P092R001A069_rgb_kp.json', 'dataset/a069_kp/S022C001P062R001A069_rgb_kp.json', 'dataset/a069_kp/S028C002P043R002A069_rgb_kp.json', 'dataset/a069_kp/S027C003P080R001A069_rgb_kp.json', 'dataset/a069_kp/S029C003P075R001A069_rgb_kp.json', 'dataset/a069_kp/S025C002P056R001A069_rgb_kp.json', 'dataset/a069_kp/S023C001P060R002A069_rgb_kp.json', 'dataset/a069_kp/S031C003P051R001A069_rgb_kp.json', 'dataset/a069_kp/S027C002P082R001A069_rgb_kp.json', 'dataset/a069_kp/S022C001P065R001A069_rgb_kp.json', 'dataset/a069_kp/S031C002P082R002A069_rgb_kp.json', 'dataset/a069_kp/S031C003P008R002A069_rgb_kp.json', 'dataset/a069_kp/S028C003P008R002A069_rgb_kp.json', 'dataset/a069_kp/S018C003P045R001A069_rgb_kp.json', 'dataset/a069_kp/S018C001P041R002A069_rgb_kp.json', 'dataset/a069_kp/S027C001P082R001A069_rgb_kp.json', 'dataset/a069_kp/S027C001P008R002A069_rgb_kp.json', 'dataset/a069_kp/S030C002P093R001A069_rgb_kp.json', 'dataset/a069_kp/S032C001P043R002A069_rgb_kp.json', 'dataset/a069_kp/S022C003P064R001A069_rgb_kp.json', 'dataset/a069_kp/S023C003P065R001A069_rgb_kp.json', 'dataset/a069_kp/S029C002P008R001A069_rgb_kp.json', 'dataset/a069_kp/S023C002P056R001A069_rgb_kp.json', 'dataset/a069_kp/S020C002P008R001A069_rgb_kp.json', 'dataset/a069_kp/S031C003P097R002A069_rgb_kp.json', 'dataset/a069_kp/S026C002P071R001A069_rgb_kp.json', 'dataset/a069_kp/S027C002P041R002A069_rgb_kp.json', 'dataset/a069_kp/S031C001P006R001A069_rgb_kp.json', 'dataset/a069_kp/S030C002P081R002A069_rgb_kp.json', 'dataset/a069_kp/S023C001P055R001A069_rgb_kp.json', 'dataset/a069_kp/S022C003P063R002A069_rgb_kp.json', 'dataset/a069_kp/S027C001P084R002A069_rgb_kp.json', 'dataset/a069_kp/S025C002P055R002A069_rgb_kp.json', 'dataset/a069_kp/S020C003P052R001A069_rgb_kp.json', 'dataset/a069_kp/S029C001P075R002A069_rgb_kp.json', 'dataset/a069_kp/S026C002P049R002A069_rgb_kp.json', 'dataset/a069_kp/S031C001P044R001A069_rgb_kp.json', 'dataset/a069_kp/S030C003P076R001A069_rgb_kp.json', 'dataset/a069_kp/S031C003P099R001A069_rgb_kp.json', 'dataset/a069_kp/S018C002P044R002A069_rgb_kp.json', 'dataset/a069_kp/S026C001P008R001A069_rgb_kp.json', 'dataset/a069_kp/S026C001P077R002A069_rgb_kp.json', 'dataset/a069_kp/S020C001P053R001A069_rgb_kp.json', 'dataset/a069_kp/S026C003P051R001A069_rgb_kp.json', 'dataset/a069_kp/S031C002P098R001A069_rgb_kp.json', 'dataset/a069_kp/S019C002P050R001A069_rgb_kp.json', 'dataset/a069_kp/S026C003P071R002A069_rgb_kp.json', 'dataset/a069_kp/S023C001P057R001A069_rgb_kp.json', 'dataset/a069_kp/S019C001P049R001A069_rgb_kp.json', 'dataset/a069_kp/S030C002P067R001A069_rgb_kp.json', 'dataset/a069_kp/S027C002P006R002A069_rgb_kp.json', 'dataset/a069_kp/S021C003P055R002A069_rgb_kp.json', 'dataset/a069_kp/S028C001P042R002A069_rgb_kp.json', 'dataset/a069_kp/S026C003P077R001A069_rgb_kp.json', 'dataset/a069_kp/S026C001P075R002A069_rgb_kp.json', 'dataset/a069_kp/S023C001P059R001A069_rgb_kp.json', 'dataset/a069_kp/S022C003P061R002A069_rgb_kp.json', 'dataset/a069_kp/S027C003P078R001A069_rgb_kp.json', 'dataset/a069_kp/S020C002P008R002A069_rgb_kp.json', 'dataset/a069_kp/S027C002P085R001A069_rgb_kp.json', 'dataset/a069_kp/S031C003P099R002A069_rgb_kp.json', 'dataset/a069_kp/S022C003P061R001A069_rgb_kp.json', 'dataset/a069_kp/S030C002P088R002A069_rgb_kp.json', 'dataset/a069_kp/S026C003P051R002A069_rgb_kp.json', 'dataset/a069_kp/S030C001P008R001A069_rgb_kp.json', 'dataset/a069_kp/S030C002P091R002A069_rgb_kp.json', 'dataset/a069_kp/S031C003P096R002A069_rgb_kp.json', 'dataset/a069_kp/S022C002P066R001A069_rgb_kp.json', 'dataset/a069_kp/S030C003P085R002A069_rgb_kp.json', 'dataset/a069_kp/S026C001P072R002A069_rgb_kp.json', 'dataset/a069_kp/S031C002P082R001A069_rgb_kp.json', 'dataset/a069_kp/S029C001P049R001A069_rgb_kp.json', 'dataset/a069_kp/S030C003P092R002A069_rgb_kp.json', 'dataset/a069_kp/S021C002P055R001A069_rgb_kp.json', 'dataset/a069_kp/S027C002P044R002A069_rgb_kp.json', 'dataset/a069_kp/S029C003P051R001A069_rgb_kp.json', 'dataset/a069_kp/S024C003P061R001A069_rgb_kp.json', 'dataset/a069_kp/S021C003P057R002A069_rgb_kp.json', 'dataset/a069_kp/S027C003P082R002A069_rgb_kp.json', 'dataset/a069_kp/S020C003P044R001A069_rgb_kp.json', 'dataset/a069_kp/S030C002P043R002A069_rgb_kp.json', 'dataset/a069_kp/S027C003P086R001A069_rgb_kp.json', 'dataset/a069_kp/S023C001P066R001A069_rgb_kp.json', 'dataset/a069_kp/S031C003P043R002A069_rgb_kp.json', 'dataset/a069_kp/S027C003P006R002A069_rgb_kp.json', 'dataset/a069_kp/S025C002P058R001A069_rgb_kp.json', 'dataset/a014_kp/S002C001P014R001A014_rgb_kp.json', 'dataset/a014_kp/S008C002P034R002A014_rgb_kp.json', 'dataset/a014_kp/S002C003P010R001A014_rgb_kp.json', 'dataset/a014_kp/S006C001P016R002A014_rgb_kp.json', 'dataset/a014_kp/S002C002P014R001A014_rgb_kp.json', 'dataset/a014_kp/S002C001P003R001A014_rgb_kp.json', 'dataset/a014_kp/S017C001P003R002A014_rgb_kp.json', 'dataset/a014_kp/S012C002P037R001A014_rgb_kp.json', 'dataset/a014_kp/S013C003P037R001A014_rgb_kp.json', 'dataset/a014_kp/S017C001P008R001A014_rgb_kp.json', 'dataset/a014_kp/S012C002P015R002A014_rgb_kp.json', 'dataset/a014_kp/S015C003P019R002A014_rgb_kp.json', 'dataset/a014_kp/S008C001P001R002A014_rgb_kp.json', 'dataset/a014_kp/S010C002P007R002A014_rgb_kp.json', 'dataset/a014_kp/S001C003P005R002A014_rgb_kp.json', 'dataset/a014_kp/S011C002P007R002A014_rgb_kp.json', 'dataset/a014_kp/S010C002P018R001A014_rgb_kp.json', 'dataset/a014_kp/S012C003P015R002A014_rgb_kp.json', 'dataset/a014_kp/S014C002P015R002A014_rgb_kp.json', 'dataset/a014_kp/S002C001P010R001A014_rgb_kp.json', 'dataset/a014_kp/S009C003P019R002A014_rgb_kp.json', 'dataset/a014_kp/S015C003P015R002A014_rgb_kp.json', 'dataset/a014_kp/S010C002P008R001A014_rgb_kp.json', 'dataset/a014_kp/S006C002P024R002A014_rgb_kp.json', 'dataset/a014_kp/S011C002P008R002A014_rgb_kp.json', 'dataset/a014_kp/S017C002P017R002A014_rgb_kp.json', 'dataset/a014_kp/S008C002P034R001A014_rgb_kp.json', 'dataset/a014_kp/S002C003P012R001A014_rgb_kp.json', 'dataset/a014_kp/S015C003P017R001A014_rgb_kp.json', 'dataset/a014_kp/S017C002P008R001A014_rgb_kp.json', 'dataset/a014_kp/S001C001P005R001A014_rgb_kp.json', 'dataset/a014_kp/S012C001P008R002A014_rgb_kp.json', 'dataset/a014_kp/S013C002P017R002A014_rgb_kp.json', 'dataset/a014_kp/S006C001P008R002A014_rgb_kp.json', 'dataset/a014_kp/S004C001P020R002A014_rgb_kp.json', 'dataset/a014_kp/S015C001P008R001A014_rgb_kp.json', 'dataset/a014_kp/S012C003P019R001A014_rgb_kp.json', 'dataset/a014_kp/S008C002P001R001A014_rgb_kp.json', 'dataset/a014_kp/S014C001P025R002A014_rgb_kp.json', 'dataset/a014_kp/S010C002P018R002A014_rgb_kp.json', 'dataset/a014_kp/S015C002P019R001A014_rgb_kp.json', 'dataset/a014_kp/S002C002P013R001A014_rgb_kp.json', 'dataset/a014_kp/S010C001P017R002A014_rgb_kp.json', 'dataset/a014_kp/S006C003P016R002A014_rgb_kp.json', 'dataset/a014_kp/S010C003P016R002A014_rgb_kp.json', 'dataset/a014_kp/S005C001P021R001A014_rgb_kp.json', 'dataset/a014_kp/S001C001P001R002A014_rgb_kp.json', 'dataset/a014_kp/S006C003P008R002A014_rgb_kp.json', 'dataset/a014_kp/S001C001P001R001A014_rgb_kp.json', 'dataset/a014_kp/S007C003P025R001A014_rgb_kp.json', 'dataset/a014_kp/S015C001P017R002A014_rgb_kp.json', 'dataset/a014_kp/S012C003P028R001A014_rgb_kp.json', 'dataset/a014_kp/S001C003P001R002A014_rgb_kp.json', 'dataset/a014_kp/S002C003P011R002A014_rgb_kp.json', 'dataset/a014_kp/S007C001P019R001A014_rgb_kp.json', 'dataset/a014_kp/S016C002P007R001A014_rgb_kp.json', 'dataset/a014_kp/S001C003P003R001A014_rgb_kp.json', 'dataset/a014_kp/S007C001P017R001A014_rgb_kp.json', 'dataset/a014_kp/S001C002P006R002A014_rgb_kp.json', 'dataset/a014_kp/S012C002P008R001A014_rgb_kp.json', 'dataset/a014_kp/S009C003P016R002A014_rgb_kp.json', 'dataset/a014_kp/S016C001P008R002A014_rgb_kp.json', 'dataset/a014_kp/S008C001P036R002A014_rgb_kp.json', 'dataset/a014_kp/S003C002P007R001A014_rgb_kp.json', 'dataset/a014_kp/S006C003P024R001A014_rgb_kp.json', 'dataset/a014_kp/S007C003P017R002A014_rgb_kp.json', 'dataset/a014_kp/S010C002P017R001A014_rgb_kp.json', 'dataset/a014_kp/S005C003P018R002A014_rgb_kp.json', 'dataset/a014_kp/S002C001P014R002A014_rgb_kp.json', 'dataset/a014_kp/S016C001P021R002A014_rgb_kp.json', 'dataset/a014_kp/S001C002P003R001A014_rgb_kp.json', 'dataset/a014_kp/S008C003P033R002A014_rgb_kp.json', 'dataset/a014_kp/S007C002P018R001A014_rgb_kp.json', 'dataset/a014_kp/S011C001P015R002A014_rgb_kp.json', 'dataset/a014_kp/S013C001P008R001A014_rgb_kp.json', 'dataset/a014_kp/S010C001P025R001A014_rgb_kp.json', 'dataset/a014_kp/S007C003P016R001A014_rgb_kp.json', 'dataset/a014_kp/S012C003P007R001A014_rgb_kp.json', 'dataset/a014_kp/S015C001P017R001A014_rgb_kp.json', 'dataset/a014_kp/S001C002P002R001A014_rgb_kp.json', 'dataset/a014_kp/S006C001P023R001A014_rgb_kp.json', 'dataset/a014_kp/S017C003P016R002A014_rgb_kp.json', 'dataset/a014_kp/S009C002P007R002A014_rgb_kp.json', 'dataset/a014_kp/S006C002P023R001A014_rgb_kp.json', 'dataset/a014_kp/S007C002P027R002A014_rgb_kp.json', 'dataset/a014_kp/S015C001P025R002A014_rgb_kp.json', 'dataset/a014_kp/S014C001P027R001A014_rgb_kp.json', 'dataset/a014_kp/S013C002P037R002A014_rgb_kp.json', 'dataset/a014_kp/S008C003P007R002A014_rgb_kp.json', 'dataset/a014_kp/S017C002P016R001A014_rgb_kp.json', 'dataset/a014_kp/S013C002P015R002A014_rgb_kp.json', 'dataset/a014_kp/S007C001P008R002A014_rgb_kp.json', 'dataset/a014_kp/S013C001P019R002A014_rgb_kp.json', 'dataset/a014_kp/S012C003P008R002A014_rgb_kp.json', 'dataset/a014_kp/S012C001P025R002A014_rgb_kp.json', 'dataset/a014_kp/S004C002P003R002A014_rgb_kp.json', 'dataset/a014_kp/S005C002P004R002A014_rgb_kp.json', 'dataset/a014_kp/S005C003P016R001A014_rgb_kp.json', 'dataset/a014_kp/S006C003P017R001A014_rgb_kp.json', 'dataset/a014_kp/S003C003P017R002A014_rgb_kp.json', 'dataset/a093_kp/S026C003P008R002A093_rgb_kp.json', 'dataset/a093_kp/S021C002P059R002A093_rgb_kp.json', 'dataset/a093_kp/S023C001P065R002A093_rgb_kp.json', 'dataset/a093_kp/S025C003P059R001A093_rgb_kp.json', 'dataset/a093_kp/S027C001P078R001A093_rgb_kp.json', 'dataset/a093_kp/S031C002P044R002A093_rgb_kp.json', 'dataset/a093_kp/S032C002P104R002A093_rgb_kp.json', 'dataset/a093_kp/S021C002P055R002A093_rgb_kp.json', 'dataset/a093_kp/S027C002P011R001A093_rgb_kp.json', 'dataset/a093_kp/S032C002P044R001A093_rgb_kp.json', 'dataset/a093_kp/S022C002P062R002A093_rgb_kp.json', 'dataset/a093_kp/S028C003P041R001A093_rgb_kp.json', 'dataset/a093_kp/S021C003P055R002A093_rgb_kp.json', 'dataset/a093_kp/S029C003P043R002A093_rgb_kp.json', 'dataset/a093_kp/S030C003P088R001A093_rgb_kp.json', 'dataset/a093_kp/S027C003P084R002A093_rgb_kp.json', 'dataset/a093_kp/S029C003P080R002A093_rgb_kp.json', 'dataset/a093_kp/S030C001P011R001A093_rgb_kp.json', 'dataset/a093_kp/S031C001P008R002A093_rgb_kp.json', 'dataset/a093_kp/S027C001P086R002A093_rgb_kp.json', 'dataset/a093_kp/S031C001P051R002A093_rgb_kp.json', 'dataset/a093_kp/S026C003P050R002A093_rgb_kp.json', 'dataset/a093_kp/S030C001P041R002A093_rgb_kp.json', 'dataset/a093_kp/S022C002P063R001A093_rgb_kp.json', 'dataset/a093_kp/S030C001P081R001A093_rgb_kp.json', 'dataset/a093_kp/S026C001P070R001A093_rgb_kp.json', 'dataset/a093_kp/S028C002P073R001A093_rgb_kp.json', 'dataset/a093_kp/S030C003P096R002A093_rgb_kp.json', 'dataset/a093_kp/S028C003P043R002A093_rgb_kp.json', 'dataset/a093_kp/S026C003P071R001A093_rgb_kp.json', 'dataset/a093_kp/S032C003P106R001A093_rgb_kp.json', 'dataset/a093_kp/S023C002P059R001A093_rgb_kp.json', 'dataset/a093_kp/S018C003P043R002A093_rgb_kp.json', 'dataset/a093_kp/S025C003P058R001A093_rgb_kp.json', 'dataset/a093_kp/S029C003P051R001A093_rgb_kp.json', 'dataset/a093_kp/S027C001P008R001A093_rgb_kp.json', 'dataset/a093_kp/S032C001P102R001A093_rgb_kp.json', 'dataset/a093_kp/S027C001P086R001A093_rgb_kp.json', 'dataset/a093_kp/S023C001P061R002A093_rgb_kp.json', 'dataset/a093_kp/S031C001P097R001A093_rgb_kp.json', 'dataset/a093_kp/S024C003P061R001A093_rgb_kp.json', 'dataset/a093_kp/S025C001P068R002A093_rgb_kp.json', 'dataset/a093_kp/S019C002P051R001A093_rgb_kp.json', 'dataset/a093_kp/S031C001P041R002A093_rgb_kp.json', 'dataset/a093_kp/S027C001P084R001A093_rgb_kp.json', 'dataset/a093_kp/S026C002P070R001A093_rgb_kp.json', 'dataset/a093_kp/S031C003P097R001A093_rgb_kp.json', 'dataset/a093_kp/S027C002P006R002A093_rgb_kp.json', 'dataset/a093_kp/S028C001P041R001A093_rgb_kp.json', 'dataset/a093_kp/S027C001P080R002A093_rgb_kp.json', 'dataset/a093_kp/S020C002P008R002A093_rgb_kp.json', 'dataset/a093_kp/S026C003P051R001A093_rgb_kp.json', 'dataset/a093_kp/S032C003P041R001A093_rgb_kp.json', 'dataset/a093_kp/S018C001P043R002A093_rgb_kp.json', 'dataset/a093_kp/S027C001P082R002A093_rgb_kp.json', 'dataset/a093_kp/S027C002P006R001A093_rgb_kp.json', 'dataset/a093_kp/S026C001P070R002A093_rgb_kp.json', 'dataset/a093_kp/S021C003P060R001A093_rgb_kp.json', 'dataset/a093_kp/S023C002P064R001A093_rgb_kp.json', 'dataset/a093_kp/S030C002P075R001A093_rgb_kp.json', 'dataset/a093_kp/S030C001P095R001A093_rgb_kp.json', 'dataset/a093_kp/S030C002P085R001A093_rgb_kp.json', 'dataset/a093_kp/S018C001P045R001A093_rgb_kp.json', 'dataset/a093_kp/S025C001P066R002A093_rgb_kp.json', 'dataset/a093_kp/S020C001P043R001A093_rgb_kp.json', 'dataset/a093_kp/S021C001P060R002A093_rgb_kp.json', 'dataset/a093_kp/S028C001P042R002A093_rgb_kp.json', 'dataset/a093_kp/S031C002P067R002A093_rgb_kp.json', 'dataset/a093_kp/S019C002P041R001A093_rgb_kp.json', 'dataset/a093_kp/S024C002P067R001A093_rgb_kp.json', 'dataset/a093_kp/S030C001P094R002A093_rgb_kp.json', 'dataset/a093_kp/S027C002P083R001A093_rgb_kp.json', 'dataset/a093_kp/S029C003P090R002A093_rgb_kp.json', 'dataset/a093_kp/S031C002P082R002A093_rgb_kp.json', 'dataset/a093_kp/S024C003P063R001A093_rgb_kp.json', 'dataset/a093_kp/S031C001P098R002A093_rgb_kp.json', 'dataset/a093_kp/S032C003P104R001A093_rgb_kp.json', 'dataset/a093_kp/S032C002P041R001A093_rgb_kp.json', 'dataset/a093_kp/S023C003P055R001A093_rgb_kp.json', 'dataset/a093_kp/S029C001P067R001A093_rgb_kp.json', 'dataset/a093_kp/S021C003P056R001A093_rgb_kp.json', 'dataset/a093_kp/S031C001P044R001A093_rgb_kp.json', 'dataset/a093_kp/S020C002P054R002A093_rgb_kp.json', 'dataset/a093_kp/S030C001P095R002A093_rgb_kp.json', 'dataset/a093_kp/S031C001P099R001A093_rgb_kp.json', 'dataset/a093_kp/S029C002P049R002A093_rgb_kp.json', 'dataset/a093_kp/S028C003P042R002A093_rgb_kp.json', 'dataset/a093_kp/S026C003P044R001A093_rgb_kp.json', 'dataset/a093_kp/S031C001P051R001A093_rgb_kp.json', 'dataset/a093_kp/S032C001P104R002A093_rgb_kp.json', 'dataset/a093_kp/S022C002P067R001A093_rgb_kp.json', 'dataset/a093_kp/S031C003P082R002A093_rgb_kp.json', 'dataset/a093_kp/S024C002P067R002A093_rgb_kp.json', 'dataset/a093_kp/S022C003P062R002A093_rgb_kp.json', 'dataset/a093_kp/S027C002P082R001A093_rgb_kp.json', 'dataset/a093_kp/S027C002P083R002A093_rgb_kp.json', 'dataset/a093_kp/S025C002P068R002A093_rgb_kp.json', 'dataset/a093_kp/S021C001P055R002A093_rgb_kp.json', 'dataset/a093_kp/S030C003P093R002A093_rgb_kp.json', 'dataset/a093_kp/S029C002P043R002A093_rgb_kp.json', 'dataset/a015_kp/S002C001P009R001A015_rgb_kp.json', 'dataset/a015_kp/S008C003P036R001A015_rgb_kp.json', 'dataset/a015_kp/S003C003P008R001A015_rgb_kp.json', 'dataset/a015_kp/S012C003P008R001A015_rgb_kp.json', 'dataset/a015_kp/S005C003P017R002A015_rgb_kp.json', 'dataset/a015_kp/S008C002P035R002A015_rgb_kp.json', 'dataset/a015_kp/S008C002P030R002A015_rgb_kp.json', 'dataset/a015_kp/S011C003P001R001A015_rgb_kp.json', 'dataset/a015_kp/S005C001P021R001A015_rgb_kp.json', 'dataset/a015_kp/S010C002P007R001A015_rgb_kp.json', 'dataset/a015_kp/S007C002P016R002A015_rgb_kp.json', 'dataset/a015_kp/S007C003P015R001A015_rgb_kp.json', 'dataset/a015_kp/S007C003P001R001A015_rgb_kp.json', 'dataset/a015_kp/S010C001P015R002A015_rgb_kp.json', 'dataset/a015_kp/S010C003P013R002A015_rgb_kp.json', 'dataset/a015_kp/S008C003P030R001A015_rgb_kp.json', 'dataset/a015_kp/S017C002P003R002A015_rgb_kp.json', 'dataset/a015_kp/S007C002P015R001A015_rgb_kp.json', 'dataset/a015_kp/S015C001P016R002A015_rgb_kp.json', 'dataset/a015_kp/S013C001P016R001A015_rgb_kp.json', 'dataset/a015_kp/S001C002P002R002A015_rgb_kp.json', 'dataset/a015_kp/S011C002P016R002A015_rgb_kp.json', 'dataset/a015_kp/S002C003P003R001A015_rgb_kp.json', 'dataset/a015_kp/S016C003P025R002A015_rgb_kp.json', 'dataset/a015_kp/S012C003P007R001A015_rgb_kp.json', 'dataset/a015_kp/S016C003P040R001A015_rgb_kp.json', 'dataset/a015_kp/S008C003P036R002A015_rgb_kp.json', 'dataset/a015_kp/S005C002P004R002A015_rgb_kp.json', 'dataset/a015_kp/S010C003P025R001A015_rgb_kp.json', 'dataset/a015_kp/S001C003P008R002A015_rgb_kp.json', 'dataset/a015_kp/S011C002P002R002A015_rgb_kp.json', 'dataset/a015_kp/S003C002P018R002A015_rgb_kp.json', 'dataset/a015_kp/S002C003P010R001A015_rgb_kp.json', 'dataset/a015_kp/S003C001P018R001A015_rgb_kp.json', 'dataset/a015_kp/S010C003P021R002A015_rgb_kp.json', 'dataset/a015_kp/S017C003P016R001A015_rgb_kp.json', 'dataset/a015_kp/S011C001P019R001A015_rgb_kp.json', 'dataset/a015_kp/S013C002P015R002A015_rgb_kp.json', 'dataset/a015_kp/S001C002P005R002A015_rgb_kp.json', 'dataset/a015_kp/S009C003P007R002A015_rgb_kp.json', 'dataset/a015_kp/S013C001P015R002A015_rgb_kp.json', 'dataset/a015_kp/S007C001P016R002A015_rgb_kp.json', 'dataset/a015_kp/S011C003P019R002A015_rgb_kp.json', 'dataset/a015_kp/S007C001P018R002A015_rgb_kp.json', 'dataset/a015_kp/S008C002P033R002A015_rgb_kp.json', 'dataset/a015_kp/S003C002P008R001A015_rgb_kp.json', 'dataset/a015_kp/S003C001P015R001A015_rgb_kp.json', 'dataset/a015_kp/S002C002P013R001A015_rgb_kp.json', 'dataset/a015_kp/S001C001P002R002A015_rgb_kp.json', 'dataset/a015_kp/S008C003P029R002A015_rgb_kp.json', 'dataset/a015_kp/S006C003P022R002A015_rgb_kp.json', 'dataset/a015_kp/S015C001P016R001A015_rgb_kp.json', 'dataset/a015_kp/S006C003P017R002A015_rgb_kp.json', 'dataset/a015_kp/S013C003P016R001A015_rgb_kp.json', 'dataset/a015_kp/S005C001P010R001A015_rgb_kp.json', 'dataset/a015_kp/S012C001P007R002A015_rgb_kp.json', 'dataset/a015_kp/S012C002P008R001A015_rgb_kp.json', 'dataset/a015_kp/S011C001P008R002A015_rgb_kp.json', 'dataset/a015_kp/S007C003P018R002A015_rgb_kp.json', 'dataset/a015_kp/S001C001P005R002A015_rgb_kp.json', 'dataset/a015_kp/S011C003P015R002A015_rgb_kp.json', 'dataset/a015_kp/S012C001P037R002A015_rgb_kp.json', 'dataset/a015_kp/S001C001P004R002A015_rgb_kp.json', 'dataset/a015_kp/S011C001P027R001A015_rgb_kp.json', 'dataset/a015_kp/S004C002P003R002A015_rgb_kp.json', 'dataset/a015_kp/S012C002P028R002A015_rgb_kp.json', 'dataset/a015_kp/S015C003P008R001A015_rgb_kp.json', 'dataset/a015_kp/S010C001P013R001A015_rgb_kp.json', 'dataset/a015_kp/S003C001P017R001A015_rgb_kp.json', 'dataset/a015_kp/S010C003P016R002A015_rgb_kp.json', 'dataset/a015_kp/S013C001P007R002A015_rgb_kp.json', 'dataset/a015_kp/S015C002P015R001A015_rgb_kp.json', 'dataset/a015_kp/S016C001P008R001A015_rgb_kp.json', 'dataset/a015_kp/S010C003P018R002A015_rgb_kp.json', 'dataset/a015_kp/S011C002P001R001A015_rgb_kp.json', 'dataset/a015_kp/S014C002P008R002A015_rgb_kp.json', 'dataset/a015_kp/S010C001P025R002A015_rgb_kp.json', 'dataset/a015_kp/S005C002P017R001A015_rgb_kp.json', 'dataset/a015_kp/S013C003P019R001A015_rgb_kp.json', 'dataset/a015_kp/S013C003P017R002A015_rgb_kp.json', 'dataset/a015_kp/S007C003P017R002A015_rgb_kp.json', 'dataset/a015_kp/S016C001P019R001A015_rgb_kp.json', 'dataset/a015_kp/S014C003P008R002A015_rgb_kp.json', 'dataset/a015_kp/S002C002P009R001A015_rgb_kp.json', 'dataset/a015_kp/S015C002P017R001A015_rgb_kp.json', 'dataset/a015_kp/S009C001P007R001A015_rgb_kp.json', 'dataset/a015_kp/S006C002P019R002A015_rgb_kp.json', 'dataset/a015_kp/S010C003P015R002A015_rgb_kp.json', 'dataset/a015_kp/S017C002P016R002A015_rgb_kp.json', 'dataset/a015_kp/S016C003P019R002A015_rgb_kp.json', 'dataset/a015_kp/S002C001P010R002A015_rgb_kp.json', 'dataset/a015_kp/S008C002P007R001A015_rgb_kp.json', 'dataset/a015_kp/S013C002P027R001A015_rgb_kp.json', 'dataset/a015_kp/S010C002P008R001A015_rgb_kp.json', 'dataset/a015_kp/S006C003P023R002A015_rgb_kp.json', 'dataset/a015_kp/S010C003P017R002A015_rgb_kp.json', 'dataset/a015_kp/S002C001P014R002A015_rgb_kp.json', 'dataset/a015_kp/S001C003P007R001A015_rgb_kp.json', 'dataset/a015_kp/S003C002P017R001A015_rgb_kp.json', 'dataset/a015_kp/S011C001P025R001A015_rgb_kp.json', 'dataset/a103_kp/S026C003P076R001A103_rgb_kp.json', 'dataset/a103_kp/S032C002P102R002A103_rgb_kp.json', 'dataset/a103_kp/S026C002P077R001A103_rgb_kp.json', 'dataset/a103_kp/S023C001P059R001A103_rgb_kp.json', 'dataset/a103_kp/S027C002P011R001A103_rgb_kp.json', 'dataset/a103_kp/S020C002P054R001A103_rgb_kp.json', 'dataset/a103_kp/S032C002P043R001A103_rgb_kp.json', 'dataset/a103_kp/S030C003P075R002A103_rgb_kp.json', 'dataset/a103_kp/S030C001P096R002A103_rgb_kp.json', 'dataset/a103_kp/S026C003P077R002A103_rgb_kp.json', 'dataset/a103_kp/S027C003P080R001A103_rgb_kp.json', 'dataset/a103_kp/S030C001P094R002A103_rgb_kp.json', 'dataset/a103_kp/S025C002P066R001A103_rgb_kp.json', 'dataset/a103_kp/S030C003P048R001A103_rgb_kp.json', 'dataset/a103_kp/S024C001P057R001A103_rgb_kp.json', 'dataset/a103_kp/S031C002P043R001A103_rgb_kp.json', 'dataset/a103_kp/S023C003P064R002A103_rgb_kp.json', 'dataset/a103_kp/S022C002P067R001A103_rgb_kp.json', 'dataset/a103_kp/S021C002P058R002A103_rgb_kp.json', 'dataset/a103_kp/S026C001P051R001A103_rgb_kp.json', 'dataset/a103_kp/S028C001P046R002A103_rgb_kp.json', 'dataset/a103_kp/S028C003P048R001A103_rgb_kp.json', 'dataset/a103_kp/S029C001P006R002A103_rgb_kp.json', 'dataset/a103_kp/S020C002P044R002A103_rgb_kp.json', 'dataset/a103_kp/S029C002P088R001A103_rgb_kp.json', 'dataset/a103_kp/S019C003P051R001A103_rgb_kp.json', 'dataset/a103_kp/S024C003P060R001A103_rgb_kp.json', 'dataset/a103_kp/S020C003P052R001A103_rgb_kp.json', 'dataset/a103_kp/S021C003P057R002A103_rgb_kp.json', 'dataset/a103_kp/S027C001P008R002A103_rgb_kp.json', 'dataset/a103_kp/S030C003P067R001A103_rgb_kp.json', 'dataset/a103_kp/S019C003P041R002A103_rgb_kp.json', 'dataset/a103_kp/S026C002P076R002A103_rgb_kp.json', 'dataset/a103_kp/S031C002P097R001A103_rgb_kp.json', 'dataset/a103_kp/S026C003P008R002A103_rgb_kp.json', 'dataset/a103_kp/S031C002P101R002A103_rgb_kp.json', 'dataset/a103_kp/S027C001P006R001A103_rgb_kp.json', 'dataset/a103_kp/S025C001P058R001A103_rgb_kp.json', 'dataset/a103_kp/S027C003P041R001A103_rgb_kp.json', 'dataset/a103_kp/S030C002P075R002A103_rgb_kp.json', 'dataset/a103_kp/S028C001P008R001A103_rgb_kp.json', 'dataset/a103_kp/S018C003P044R002A103_rgb_kp.json', 'dataset/a103_kp/S019C003P048R001A103_rgb_kp.json', 'dataset/a103_kp/S019C003P046R002A103_rgb_kp.json', 'dataset/a103_kp/S031C002P098R002A103_rgb_kp.json', 'dataset/a103_kp/S029C003P048R002A103_rgb_kp.json', 'dataset/a103_kp/S019C001P008R002A103_rgb_kp.json', 'dataset/a103_kp/S029C001P090R002A103_rgb_kp.json', 'dataset/a103_kp/S020C001P053R001A103_rgb_kp.json', 'dataset/a103_kp/S019C001P051R001A103_rgb_kp.json', 'dataset/a103_kp/S030C003P076R002A103_rgb_kp.json', 'dataset/a103_kp/S031C002P051R001A103_rgb_kp.json', 'dataset/a103_kp/S031C001P051R002A103_rgb_kp.json', 'dataset/a103_kp/S027C001P086R002A103_rgb_kp.json', 'dataset/a103_kp/S023C002P065R001A103_rgb_kp.json', 'dataset/a103_kp/S029C001P043R001A103_rgb_kp.json', 'dataset/a103_kp/S027C002P083R002A103_rgb_kp.json', 'dataset/a103_kp/S031C001P096R002A103_rgb_kp.json', 'dataset/a103_kp/S031C002P067R001A103_rgb_kp.json', 'dataset/a103_kp/S031C001P044R002A103_rgb_kp.json', 'dataset/a103_kp/S026C001P072R001A103_rgb_kp.json', 'dataset/a103_kp/S031C002P008R002A103_rgb_kp.json', 'dataset/a103_kp/S029C002P008R001A103_rgb_kp.json', 'dataset/a103_kp/S026C001P049R001A103_rgb_kp.json', 'dataset/a103_kp/S031C002P044R002A103_rgb_kp.json', 'dataset/a103_kp/S031C002P006R001A103_rgb_kp.json', 'dataset/a103_kp/S029C003P067R002A103_rgb_kp.json', 'dataset/a103_kp/S027C002P006R001A103_rgb_kp.json', 'dataset/a103_kp/S021C003P059R002A103_rgb_kp.json', 'dataset/a103_kp/S028C001P073R001A103_rgb_kp.json', 'dataset/a103_kp/S023C001P064R001A103_rgb_kp.json', 'dataset/a103_kp/S031C003P082R001A103_rgb_kp.json', 'dataset/a103_kp/S032C003P105R002A103_rgb_kp.json', 'dataset/a103_kp/S031C003P100R002A103_rgb_kp.json', 'dataset/a103_kp/S029C003P074R001A103_rgb_kp.json', 'dataset/a103_kp/S019C001P048R002A103_rgb_kp.json', 'dataset/a103_kp/S025C003P066R002A103_rgb_kp.json', 'dataset/a103_kp/S030C001P085R001A103_rgb_kp.json', 'dataset/a103_kp/S031C002P044R001A103_rgb_kp.json', 'dataset/a103_kp/S029C003P075R002A103_rgb_kp.json', 'dataset/a103_kp/S022C003P064R002A103_rgb_kp.json', 'dataset/a103_kp/S027C001P080R001A103_rgb_kp.json', 'dataset/a103_kp/S023C002P066R001A103_rgb_kp.json', 'dataset/a103_kp/S032C003P044R002A103_rgb_kp.json', 'dataset/a103_kp/S027C001P085R002A103_rgb_kp.json', 'dataset/a103_kp/S023C002P066R002A103_rgb_kp.json', 'dataset/a103_kp/S023C003P067R001A103_rgb_kp.json', 'dataset/a103_kp/S020C002P052R002A103_rgb_kp.json', 'dataset/a103_kp/S027C002P044R002A103_rgb_kp.json', 'dataset/a103_kp/S019C001P042R001A103_rgb_kp.json', 'dataset/a103_kp/S032C003P106R002A103_rgb_kp.json', 'dataset/a103_kp/S023C003P059R002A103_rgb_kp.json', 'dataset/a103_kp/S026C001P041R002A103_rgb_kp.json', 'dataset/a103_kp/S020C001P054R002A103_rgb_kp.json', 'dataset/a103_kp/S023C002P064R002A103_rgb_kp.json', 'dataset/a103_kp/S030C001P041R002A103_rgb_kp.json', 'dataset/a103_kp/S021C001P058R002A103_rgb_kp.json', 'dataset/a103_kp/S029C001P067R002A103_rgb_kp.json', 'dataset/a103_kp/S018C001P044R001A103_rgb_kp.json', 'dataset/a103_kp/S021C003P057R001A103_rgb_kp.json', 'dataset/a075_kp/S023C003P061R001A075_rgb_kp.json', 'dataset/a075_kp/S027C003P079R001A075_rgb_kp.json', 'dataset/a075_kp/S018C001P043R002A075_rgb_kp.json', 'dataset/a075_kp/S023C003P059R002A075_rgb_kp.json', 'dataset/a075_kp/S031C002P082R002A075_rgb_kp.json', 'dataset/a075_kp/S023C003P068R002A075_rgb_kp.json', 'dataset/a075_kp/S026C003P049R001A075_rgb_kp.json', 'dataset/a075_kp/S023C001P067R002A075_rgb_kp.json', 'dataset/a075_kp/S027C002P008R001A075_rgb_kp.json', 'dataset/a075_kp/S026C002P072R001A075_rgb_kp.json', 'dataset/a075_kp/S022C003P065R002A075_rgb_kp.json', 'dataset/a075_kp/S021C002P060R002A075_rgb_kp.json', 'dataset/a075_kp/S024C001P061R001A075_rgb_kp.json', 'dataset/a075_kp/S023C003P062R001A075_rgb_kp.json', 'dataset/a075_kp/S030C003P091R001A075_rgb_kp.json', 'dataset/a075_kp/S032C002P102R002A075_rgb_kp.json', 'dataset/a075_kp/S030C002P085R002A075_rgb_kp.json', 'dataset/a075_kp/S029C001P043R002A075_rgb_kp.json', 'dataset/a075_kp/S024C002P063R001A075_rgb_kp.json', 'dataset/a075_kp/S029C003P074R001A075_rgb_kp.json', 'dataset/a075_kp/S031C002P006R001A075_rgb_kp.json', 'dataset/a075_kp/S028C003P041R002A075_rgb_kp.json', 'dataset/a075_kp/S027C003P079R002A075_rgb_kp.json', 'dataset/a075_kp/S030C001P093R002A075_rgb_kp.json', 'dataset/a075_kp/S027C003P011R002A075_rgb_kp.json', 'dataset/a075_kp/S028C002P046R001A075_rgb_kp.json', 'dataset/a075_kp/S031C002P043R001A075_rgb_kp.json', 'dataset/a075_kp/S029C001P090R001A075_rgb_kp.json', 'dataset/a075_kp/S021C003P058R001A075_rgb_kp.json', 'dataset/a075_kp/S023C002P059R002A075_rgb_kp.json', 'dataset/a075_kp/S032C001P105R002A075_rgb_kp.json', 'dataset/a075_kp/S022C003P064R001A075_rgb_kp.json', 'dataset/a075_kp/S021C001P058R001A075_rgb_kp.json', 'dataset/a075_kp/S032C002P106R001A075_rgb_kp.json', 'dataset/a075_kp/S023C003P063R001A075_rgb_kp.json', 'dataset/a075_kp/S024C003P063R001A075_rgb_kp.json', 'dataset/a075_kp/S030C003P095R002A075_rgb_kp.json', 'dataset/a075_kp/S030C003P008R002A075_rgb_kp.json', 'dataset/a075_kp/S027C001P085R001A075_rgb_kp.json', 'dataset/a075_kp/S025C002P068R002A075_rgb_kp.json', 'dataset/a075_kp/S028C001P008R002A075_rgb_kp.json', 'dataset/a075_kp/S029C002P080R002A075_rgb_kp.json', 'dataset/a075_kp/S030C001P095R002A075_rgb_kp.json', 'dataset/a075_kp/S018C001P041R002A075_rgb_kp.json', 'dataset/a075_kp/S031C002P051R001A075_rgb_kp.json', 'dataset/a075_kp/S018C002P045R002A075_rgb_kp.json', 'dataset/a075_kp/S030C001P088R001A075_rgb_kp.json', 'dataset/a075_kp/S025C001P066R001A075_rgb_kp.json', 'dataset/a075_kp/S028C002P043R001A075_rgb_kp.json', 'dataset/a075_kp/S027C003P041R002A075_rgb_kp.json', 'dataset/a075_kp/S032C001P044R002A075_rgb_kp.json', 'dataset/a075_kp/S030C001P094R002A075_rgb_kp.json', 'dataset/a075_kp/S027C003P043R002A075_rgb_kp.json', 'dataset/a075_kp/S026C001P076R002A075_rgb_kp.json', 'dataset/a075_kp/S020C003P008R002A075_rgb_kp.json', 'dataset/a075_kp/S025C003P058R001A075_rgb_kp.json', 'dataset/a075_kp/S018C002P042R002A075_rgb_kp.json', 'dataset/a075_kp/S030C003P043R002A075_rgb_kp.json', 'dataset/a075_kp/S025C002P066R002A075_rgb_kp.json', 'dataset/a075_kp/S032C001P044R001A075_rgb_kp.json', 'dataset/a075_kp/S031C001P043R002A075_rgb_kp.json', 'dataset/a075_kp/S022C001P061R002A075_rgb_kp.json', 'dataset/a075_kp/S021C002P056R002A075_rgb_kp.json', 'dataset/a075_kp/S024C001P064R001A075_rgb_kp.json', 'dataset/a075_kp/S024C001P057R001A075_rgb_kp.json', 'dataset/a075_kp/S029C003P051R002A075_rgb_kp.json', 'dataset/a075_kp/S031C003P044R002A075_rgb_kp.json', 'dataset/a075_kp/S021C001P057R001A075_rgb_kp.json', 'dataset/a075_kp/S024C003P060R001A075_rgb_kp.json', 'dataset/a075_kp/S020C002P053R002A075_rgb_kp.json', 'dataset/a075_kp/S023C001P064R001A075_rgb_kp.json', 'dataset/a075_kp/S030C001P096R002A075_rgb_kp.json', 'dataset/a075_kp/S023C001P057R002A075_rgb_kp.json', 'dataset/a075_kp/S023C001P065R002A075_rgb_kp.json', 'dataset/a075_kp/S030C001P041R001A075_rgb_kp.json', 'dataset/a075_kp/S031C003P097R001A075_rgb_kp.json', 'dataset/a075_kp/S022C003P063R002A075_rgb_kp.json', 'dataset/a075_kp/S023C003P056R002A075_rgb_kp.json', 'dataset/a075_kp/S031C002P008R001A075_rgb_kp.json', 'dataset/a075_kp/S022C001P063R001A075_rgb_kp.json', 'dataset/a075_kp/S030C001P008R001A075_rgb_kp.json', 'dataset/a075_kp/S019C001P051R002A075_rgb_kp.json', 'dataset/a075_kp/S020C002P041R002A075_rgb_kp.json', 'dataset/a075_kp/S032C003P044R001A075_rgb_kp.json', 'dataset/a075_kp/S027C001P006R001A075_rgb_kp.json', 'dataset/a075_kp/S030C001P067R001A075_rgb_kp.json', 'dataset/a075_kp/S019C003P042R002A075_rgb_kp.json', 'dataset/a075_kp/S030C001P088R002A075_rgb_kp.json', 'dataset/a075_kp/S023C003P055R002A075_rgb_kp.json', 'dataset/a075_kp/S019C002P008R001A075_rgb_kp.json', 'dataset/a075_kp/S020C002P052R001A075_rgb_kp.json', 'dataset/a075_kp/S025C003P065R002A075_rgb_kp.json', 'dataset/a075_kp/S019C001P046R001A075_rgb_kp.json', 'dataset/a075_kp/S021C002P059R001A075_rgb_kp.json', 'dataset/a075_kp/S019C001P047R001A075_rgb_kp.json', 'dataset/a075_kp/S026C002P070R001A075_rgb_kp.json', 'dataset/a075_kp/S023C003P065R001A075_rgb_kp.json', 'dataset/a075_kp/S023C002P066R001A075_rgb_kp.json', 'dataset/a075_kp/S026C001P074R001A075_rgb_kp.json', 'dataset/a075_kp/S028C001P087R002A075_rgb_kp.json', 'dataset/a049_kp/S008C001P035R002A049_rgb_kp.json', 'dataset/a049_kp/S010C003P017R001A049_rgb_kp.json', 'dataset/a049_kp/S008C002P007R002A049_rgb_kp.json', 'dataset/a049_kp/S007C003P016R001A049_rgb_kp.json', 'dataset/a049_kp/S010C002P018R002A049_rgb_kp.json', 'dataset/a049_kp/S010C001P021R002A049_rgb_kp.json', 'dataset/a049_kp/S005C001P010R002A049_rgb_kp.json', 'dataset/a049_kp/S010C001P021R001A049_rgb_kp.json', 'dataset/a049_kp/S005C003P016R002A049_rgb_kp.json', 'dataset/a049_kp/S006C002P016R001A049_rgb_kp.json', 'dataset/a049_kp/S010C001P019R002A049_rgb_kp.json', 'dataset/a049_kp/S014C001P025R001A049_rgb_kp.json', 'dataset/a049_kp/S005C002P018R002A049_rgb_kp.json', 'dataset/a049_kp/S010C003P016R002A049_rgb_kp.json', 'dataset/a049_kp/S011C003P027R002A049_rgb_kp.json', 'dataset/a049_kp/S007C001P028R002A049_rgb_kp.json', 'dataset/a049_kp/S007C002P015R001A049_rgb_kp.json', 'dataset/a049_kp/S013C003P019R001A049_rgb_kp.json', 'dataset/a049_kp/S003C002P007R001A049_rgb_kp.json', 'dataset/a049_kp/S007C003P027R001A049_rgb_kp.json', 'dataset/a049_kp/S008C003P032R002A049_rgb_kp.json', 'dataset/a049_kp/S013C003P008R002A049_rgb_kp.json', 'dataset/a049_kp/S011C003P028R001A049_rgb_kp.json', 'dataset/a049_kp/S015C002P017R001A049_rgb_kp.json', 'dataset/a049_kp/S004C001P003R002A049_rgb_kp.json', 'dataset/a049_kp/S006C002P001R001A049_rgb_kp.json', 'dataset/a049_kp/S015C001P007R001A049_rgb_kp.json', 'dataset/a049_kp/S014C003P039R001A049_rgb_kp.json', 'dataset/a049_kp/S013C002P028R002A049_rgb_kp.json', 'dataset/a049_kp/S009C001P016R001A049_rgb_kp.json', 'dataset/a049_kp/S014C001P007R002A049_rgb_kp.json', 'dataset/a049_kp/S007C002P019R002A049_rgb_kp.json', 'dataset/a049_kp/S015C003P016R002A049_rgb_kp.json', 'dataset/a049_kp/S011C001P002R001A049_rgb_kp.json', 'dataset/a049_kp/S008C003P035R002A049_rgb_kp.json', 'dataset/a049_kp/S006C003P022R002A049_rgb_kp.json', 'dataset/a049_kp/S013C001P018R002A049_rgb_kp.json', 'dataset/a049_kp/S002C003P003R001A049_rgb_kp.json', 'dataset/a049_kp/S003C002P008R001A049_rgb_kp.json', 'dataset/a049_kp/S013C001P007R002A049_rgb_kp.json', 'dataset/a049_kp/S016C003P021R001A049_rgb_kp.json', 'dataset/a049_kp/S011C002P016R001A049_rgb_kp.json', 'dataset/a049_kp/S006C003P024R001A049_rgb_kp.json', 'dataset/a049_kp/S008C001P034R001A049_rgb_kp.json', 'dataset/a049_kp/S014C001P017R002A049_rgb_kp.json', 'dataset/a049_kp/S002C001P009R002A049_rgb_kp.json', 'dataset/a049_kp/S014C002P015R001A049_rgb_kp.json', 'dataset/a049_kp/S010C001P007R002A049_rgb_kp.json', 'dataset/a049_kp/S001C001P001R001A049_rgb_kp.json', 'dataset/a049_kp/S010C001P016R002A049_rgb_kp.json', 'dataset/a049_kp/S016C003P040R001A049_rgb_kp.json', 'dataset/a049_kp/S004C003P003R002A049_rgb_kp.json', 'dataset/a049_kp/S006C002P016R002A049_rgb_kp.json', 'dataset/a049_kp/S006C001P017R001A049_rgb_kp.json', 'dataset/a049_kp/S004C001P008R001A049_rgb_kp.json', 'dataset/a049_kp/S005C001P015R002A049_rgb_kp.json', 'dataset/a049_kp/S010C002P016R002A049_rgb_kp.json', 'dataset/a049_kp/S008C003P036R001A049_rgb_kp.json', 'dataset/a049_kp/S007C001P008R001A049_rgb_kp.json', 'dataset/a049_kp/S011C001P015R002A049_rgb_kp.json', 'dataset/a049_kp/S005C001P016R002A049_rgb_kp.json', 'dataset/a049_kp/S002C003P007R002A049_rgb_kp.json', 'dataset/a049_kp/S011C001P018R001A049_rgb_kp.json', 'dataset/a049_kp/S016C001P008R002A049_rgb_kp.json', 'dataset/a049_kp/S013C003P016R002A049_rgb_kp.json', 'dataset/a049_kp/S015C001P015R002A049_rgb_kp.json', 'dataset/a049_kp/S003C002P019R002A049_rgb_kp.json', 'dataset/a049_kp/S007C001P017R002A049_rgb_kp.json', 'dataset/a049_kp/S011C003P002R002A049_rgb_kp.json', 'dataset/a049_kp/S010C002P007R001A049_rgb_kp.json', 'dataset/a049_kp/S014C002P008R001A049_rgb_kp.json', 'dataset/a049_kp/S013C001P027R002A049_rgb_kp.json', 'dataset/a049_kp/S008C002P030R002A049_rgb_kp.json', 'dataset/a049_kp/S013C001P016R002A049_rgb_kp.json', 'dataset/a049_kp/S014C003P007R001A049_rgb_kp.json', 'dataset/a049_kp/S010C003P025R001A049_rgb_kp.json', 'dataset/a049_kp/S006C001P008R001A049_rgb_kp.json', 'dataset/a049_kp/S007C002P015R002A049_rgb_kp.json', 'dataset/a049_kp/S002C003P008R002A049_rgb_kp.json', 'dataset/a049_kp/S008C002P033R002A049_rgb_kp.json', 'dataset/a049_kp/S008C003P033R001A049_rgb_kp.json', 'dataset/a049_kp/S005C002P021R001A049_rgb_kp.json', 'dataset/a049_kp/S011C002P001R002A049_rgb_kp.json', 'dataset/a049_kp/S011C002P018R001A049_rgb_kp.json', 'dataset/a049_kp/S012C001P007R001A049_rgb_kp.json', 'dataset/a049_kp/S007C002P017R001A049_rgb_kp.json', 'dataset/a049_kp/S013C002P017R001A049_rgb_kp.json', 'dataset/a049_kp/S006C001P019R002A049_rgb_kp.json', 'dataset/a049_kp/S002C001P011R002A049_rgb_kp.json', 'dataset/a049_kp/S011C003P028R002A049_rgb_kp.json', 'dataset/a049_kp/S009C002P015R001A049_rgb_kp.json', 'dataset/a049_kp/S010C003P016R001A049_rgb_kp.json', 'dataset/a049_kp/S008C003P015R002A049_rgb_kp.json', 'dataset/a049_kp/S005C002P013R001A049_rgb_kp.json', 'dataset/a049_kp/S007C001P027R002A049_rgb_kp.json', 'dataset/a049_kp/S014C003P037R002A049_rgb_kp.json', 'dataset/a049_kp/S012C002P017R002A049_rgb_kp.json', 'dataset/a049_kp/S007C003P015R001A049_rgb_kp.json', 'dataset/a049_kp/S012C003P025R001A049_rgb_kp.json', 'dataset/a049_kp/S001C003P008R002A049_rgb_kp.json', 'dataset/a081_kp/S030C001P008R002A081_rgb_kp.json', 'dataset/a081_kp/S031C002P042R001A081_rgb_kp.json', 'dataset/a081_kp/S030C001P092R002A081_rgb_kp.json', 'dataset/a081_kp/S023C001P059R002A081_rgb_kp.json', 'dataset/a081_kp/S026C002P072R002A081_rgb_kp.json', 'dataset/a081_kp/S028C003P008R002A081_rgb_kp.json', 'dataset/a081_kp/S023C002P059R001A081_rgb_kp.json', 'dataset/a081_kp/S022C001P062R001A081_rgb_kp.json', 'dataset/a081_kp/S028C003P070R002A081_rgb_kp.json', 'dataset/a081_kp/S019C002P041R002A081_rgb_kp.json', 'dataset/a081_kp/S030C001P067R002A081_rgb_kp.json', 'dataset/a081_kp/S031C002P008R002A081_rgb_kp.json', 'dataset/a081_kp/S019C003P048R001A081_rgb_kp.json', 'dataset/a081_kp/S023C001P060R002A081_rgb_kp.json', 'dataset/a081_kp/S030C002P088R001A081_rgb_kp.json', 'dataset/a081_kp/S031C003P043R001A081_rgb_kp.json', 'dataset/a081_kp/S032C002P043R001A081_rgb_kp.json', 'dataset/a081_kp/S027C001P080R002A081_rgb_kp.json', 'dataset/a081_kp/S027C001P085R001A081_rgb_kp.json', 'dataset/a081_kp/S030C002P081R002A081_rgb_kp.json', 'dataset/a081_kp/S027C003P083R002A081_rgb_kp.json', 'dataset/a081_kp/S023C002P059R002A081_rgb_kp.json', 'dataset/a081_kp/S022C002P063R001A081_rgb_kp.json', 'dataset/a081_kp/S020C002P044R002A081_rgb_kp.json', 'dataset/a081_kp/S027C001P080R001A081_rgb_kp.json', 'dataset/a081_kp/S026C002P069R002A081_rgb_kp.json', 'dataset/a081_kp/S023C003P067R002A081_rgb_kp.json', 'dataset/a081_kp/S022C003P061R002A081_rgb_kp.json', 'dataset/a081_kp/S029C001P006R002A081_rgb_kp.json', 'dataset/a081_kp/S026C001P050R002A081_rgb_kp.json', 'dataset/a081_kp/S031C003P101R002A081_rgb_kp.json', 'dataset/a081_kp/S032C002P008R002A081_rgb_kp.json', 'dataset/a081_kp/S029C003P067R002A081_rgb_kp.json', 'dataset/a081_kp/S021C003P056R001A081_rgb_kp.json', 'dataset/a081_kp/S032C001P067R002A081_rgb_kp.json', 'dataset/a081_kp/S025C003P068R001A081_rgb_kp.json', 'dataset/a081_kp/S026C003P075R001A081_rgb_kp.json', 'dataset/a081_kp/S026C001P050R001A081_rgb_kp.json', 'dataset/a081_kp/S031C001P006R001A081_rgb_kp.json', 'dataset/a081_kp/S027C003P043R002A081_rgb_kp.json', 'dataset/a081_kp/S031C001P041R002A081_rgb_kp.json', 'dataset/a081_kp/S031C001P043R001A081_rgb_kp.json', 'dataset/a081_kp/S029C003P044R002A081_rgb_kp.json', 'dataset/a081_kp/S031C001P096R002A081_rgb_kp.json', 'dataset/a081_kp/S022C003P065R002A081_rgb_kp.json', 'dataset/a081_kp/S027C002P081R001A081_rgb_kp.json', 'dataset/a081_kp/S028C003P046R001A081_rgb_kp.json', 'dataset/a081_kp/S021C001P056R001A081_rgb_kp.json', 'dataset/a081_kp/S028C003P043R002A081_rgb_kp.json', 'dataset/a081_kp/S027C003P084R002A081_rgb_kp.json', 'dataset/a081_kp/S027C001P082R001A081_rgb_kp.json', 'dataset/a081_kp/S019C001P046R002A081_rgb_kp.json', 'dataset/a081_kp/S025C001P066R002A081_rgb_kp.json', 'dataset/a081_kp/S021C002P059R001A081_rgb_kp.json', 'dataset/a081_kp/S029C001P008R002A081_rgb_kp.json', 'dataset/a081_kp/S028C001P043R001A081_rgb_kp.json', 'dataset/a081_kp/S031C003P082R001A081_rgb_kp.json', 'dataset/a081_kp/S018C001P043R001A081_rgb_kp.json', 'dataset/a081_kp/S026C002P051R001A081_rgb_kp.json', 'dataset/a081_kp/S019C001P050R001A081_rgb_kp.json', 'dataset/a081_kp/S022C003P061R001A081_rgb_kp.json', 'dataset/a081_kp/S018C003P045R001A081_rgb_kp.json', 'dataset/a081_kp/S030C002P041R002A081_rgb_kp.json', 'dataset/a081_kp/S022C002P066R002A081_rgb_kp.json', 'dataset/a081_kp/S026C001P075R002A081_rgb_kp.json', 'dataset/a081_kp/S031C002P044R002A081_rgb_kp.json', 'dataset/a081_kp/S023C003P063R001A081_rgb_kp.json', 'dataset/a081_kp/S031C002P101R001A081_rgb_kp.json', 'dataset/a081_kp/S019C002P051R002A081_rgb_kp.json', 'dataset/a081_kp/S030C001P095R002A081_rgb_kp.json', 'dataset/a081_kp/S018C002P041R002A081_rgb_kp.json', 'dataset/a081_kp/S031C003P085R001A081_rgb_kp.json', 'dataset/a081_kp/S031C001P067R002A081_rgb_kp.json', 'dataset/a081_kp/S027C002P085R002A081_rgb_kp.json', 'dataset/a081_kp/S026C003P044R002A081_rgb_kp.json', 'dataset/a081_kp/S027C001P084R002A081_rgb_kp.json', 'dataset/a081_kp/S032C002P106R002A081_rgb_kp.json', 'dataset/a081_kp/S027C002P083R001A081_rgb_kp.json', 'dataset/a081_kp/S025C001P058R001A081_rgb_kp.json', 'dataset/a081_kp/S032C001P103R001A081_rgb_kp.json', 'dataset/a081_kp/S018C001P044R002A081_rgb_kp.json', 'dataset/a081_kp/S030C002P041R001A081_rgb_kp.json', 'dataset/a081_kp/S028C001P043R002A081_rgb_kp.json', 'dataset/a081_kp/S031C002P098R001A081_rgb_kp.json', 'dataset/a081_kp/S032C001P102R001A081_rgb_kp.json', 'dataset/a081_kp/S027C003P081R002A081_rgb_kp.json', 'dataset/a081_kp/S030C001P044R001A081_rgb_kp.json', 'dataset/a081_kp/S024C003P057R001A081_rgb_kp.json', 'dataset/a081_kp/S030C002P048R002A081_rgb_kp.json', 'dataset/a081_kp/S024C001P060R002A081_rgb_kp.json', 'dataset/a081_kp/S028C003P008R001A081_rgb_kp.json', 'dataset/a081_kp/S026C002P041R001A081_rgb_kp.json', 'dataset/a081_kp/S028C003P048R002A081_rgb_kp.json', 'dataset/a081_kp/S030C002P008R002A081_rgb_kp.json', 'dataset/a081_kp/S023C001P057R002A081_rgb_kp.json', 'dataset/a081_kp/S030C003P091R001A081_rgb_kp.json', 'dataset/a081_kp/S023C001P068R002A081_rgb_kp.json', 'dataset/a081_kp/S025C001P056R001A081_rgb_kp.json', 'dataset/a081_kp/S025C002P065R002A081_rgb_kp.json', 'dataset/a081_kp/S030C002P075R002A081_rgb_kp.json', 'dataset/a001_kp/S005C001P004R002A001_rgb_kp.json', 'dataset/a001_kp/S006C003P015R001A001_rgb_kp.json', 'dataset/a001_kp/S017C002P015R001A001_rgb_kp.json', 'dataset/a001_kp/S017C002P003R002A001_rgb_kp.json', 'dataset/a001_kp/S003C001P018R002A001_rgb_kp.json', 'dataset/a001_kp/S003C002P017R002A001_rgb_kp.json', 'dataset/a001_kp/S006C002P008R001A001_rgb_kp.json', 'dataset/a001_kp/S014C001P027R002A001_rgb_kp.json', 'dataset/a001_kp/S008C001P015R002A001_rgb_kp.json', 'dataset/a001_kp/S011C003P017R002A001_rgb_kp.json', 'dataset/a001_kp/S002C003P008R002A001_rgb_kp.json', 'dataset/a001_kp/S008C003P008R001A001_rgb_kp.json', 'dataset/a001_kp/S002C003P009R001A001_rgb_kp.json', 'dataset/a001_kp/S013C002P025R001A001_rgb_kp.json', 'dataset/a001_kp/S013C001P016R001A001_rgb_kp.json', 'dataset/a001_kp/S006C001P019R001A001_rgb_kp.json', 'dataset/a001_kp/S013C003P017R001A001_rgb_kp.json', 'dataset/a001_kp/S014C002P039R002A001_rgb_kp.json', 'dataset/a001_kp/S007C003P025R001A001_rgb_kp.json', 'dataset/a001_kp/S007C002P007R001A001_rgb_kp.json', 'dataset/a001_kp/S010C002P017R002A001_rgb_kp.json', 'dataset/a001_kp/S017C003P016R002A001_rgb_kp.json', 'dataset/a001_kp/S016C002P008R001A001_rgb_kp.json', 'dataset/a001_kp/S010C001P008R001A001_rgb_kp.json', 'dataset/a001_kp/S014C003P017R001A001_rgb_kp.json', 'dataset/a001_kp/S008C003P034R001A001_rgb_kp.json', 'dataset/a001_kp/S017C003P003R001A001_rgb_kp.json', 'dataset/a001_kp/S005C001P016R001A001_rgb_kp.json', 'dataset/a001_kp/S013C002P018R002A001_rgb_kp.json', 'dataset/a001_kp/S007C002P001R002A001_rgb_kp.json', 'dataset/a001_kp/S017C002P017R001A001_rgb_kp.json', 'dataset/a001_kp/S002C001P013R001A001_rgb_kp.json', 'dataset/a001_kp/S002C001P009R002A001_rgb_kp.json', 'dataset/a001_kp/S017C002P008R001A001_rgb_kp.json', 'dataset/a001_kp/S016C002P040R002A001_rgb_kp.json', 'dataset/a001_kp/S016C003P021R001A001_rgb_kp.json', 'dataset/a001_kp/S004C002P008R002A001_rgb_kp.json', 'dataset/a001_kp/S006C002P017R001A001_rgb_kp.json', 'dataset/a001_kp/S014C001P019R002A001_rgb_kp.json', 'dataset/a001_kp/S002C003P012R001A001_rgb_kp.json', 'dataset/a001_kp/S011C001P002R002A001_rgb_kp.json', 'dataset/a001_kp/S002C002P008R002A001_rgb_kp.json', 'dataset/a001_kp/S004C001P003R001A001_rgb_kp.json', 'dataset/a001_kp/S014C003P039R002A001_rgb_kp.json', 'dataset/a001_kp/S007C001P018R001A001_rgb_kp.json', 'dataset/a001_kp/S016C003P007R001A001_rgb_kp.json', 'dataset/a001_kp/S011C003P008R001A001_rgb_kp.json', 'dataset/a001_kp/S012C002P008R001A001_rgb_kp.json', 'dataset/a001_kp/S006C003P007R001A001_rgb_kp.json', 'dataset/a001_kp/S013C003P025R001A001_rgb_kp.json', 'dataset/a001_kp/S012C001P016R001A001_rgb_kp.json', 'dataset/a001_kp/S003C003P008R002A001_rgb_kp.json', 'dataset/a001_kp/S002C001P003R001A001_rgb_kp.json', 'dataset/a001_kp/S003C001P001R002A001_rgb_kp.json', 'dataset/a001_kp/S016C002P007R002A001_rgb_kp.json', 'dataset/a001_kp/S002C001P010R001A001_rgb_kp.json', 'dataset/a001_kp/S012C003P007R001A001_rgb_kp.json', 'dataset/a001_kp/S011C001P008R001A001_rgb_kp.json', 'dataset/a001_kp/S009C001P008R001A001_rgb_kp.json', 'dataset/a001_kp/S009C001P019R001A001_rgb_kp.json', 'dataset/a001_kp/S017C002P016R001A001_rgb_kp.json', 'dataset/a001_kp/S010C003P008R002A001_rgb_kp.json', 'dataset/a001_kp/S010C001P025R002A001_rgb_kp.json', 'dataset/a001_kp/S008C002P032R002A001_rgb_kp.json', 'dataset/a001_kp/S003C003P002R001A001_rgb_kp.json', 'dataset/a001_kp/S001C001P005R002A001_rgb_kp.json', 'dataset/a001_kp/S007C001P007R002A001_rgb_kp.json', 'dataset/a001_kp/S012C001P018R001A001_rgb_kp.json', 'dataset/a001_kp/S015C002P016R002A001_rgb_kp.json', 'dataset/a001_kp/S009C001P025R001A001_rgb_kp.json', 'dataset/a001_kp/S011C003P025R001A001_rgb_kp.json', 'dataset/a001_kp/S004C002P007R001A001_rgb_kp.json', 'dataset/a001_kp/S016C002P025R002A001_rgb_kp.json', 'dataset/a001_kp/S010C002P017R001A001_rgb_kp.json', 'dataset/a001_kp/S004C001P008R001A001_rgb_kp.json', 'dataset/a001_kp/S001C001P004R001A001_rgb_kp.json', 'dataset/a001_kp/S001C003P002R001A001_rgb_kp.json', 'dataset/a001_kp/S008C001P030R001A001_rgb_kp.json', 'dataset/a001_kp/S017C002P009R001A001_rgb_kp.json', 'dataset/a001_kp/S002C002P012R001A001_rgb_kp.json', 'dataset/a001_kp/S008C002P035R001A001_rgb_kp.json', 'dataset/a001_kp/S011C002P007R001A001_rgb_kp.json', 'dataset/a001_kp/S014C003P025R002A001_rgb_kp.json', 'dataset/a001_kp/S002C002P014R002A001_rgb_kp.json', 'dataset/a001_kp/S009C003P015R002A001_rgb_kp.json', 'dataset/a001_kp/S001C002P005R002A001_rgb_kp.json', 'dataset/a001_kp/S001C002P008R002A001_rgb_kp.json', 'dataset/a001_kp/S007C003P008R002A001_rgb_kp.json', 'dataset/a001_kp/S007C001P027R001A001_rgb_kp.json', 'dataset/a001_kp/S005C003P004R002A001_rgb_kp.json', 'dataset/a001_kp/S001C003P007R002A001_rgb_kp.json', 'dataset/a001_kp/S012C001P027R001A001_rgb_kp.json', 'dataset/a001_kp/S015C003P007R002A001_rgb_kp.json', 'dataset/a001_kp/S014C003P019R002A001_rgb_kp.json', 'dataset/a001_kp/S003C001P002R001A001_rgb_kp.json', 'dataset/a001_kp/S002C003P014R001A001_rgb_kp.json', 'dataset/a001_kp/S013C001P019R001A001_rgb_kp.json', 'dataset/a001_kp/S016C003P040R002A001_rgb_kp.json', 'dataset/a001_kp/S003C002P015R002A001_rgb_kp.json', 'dataset/a001_kp/S012C002P017R001A001_rgb_kp.json', 'dataset/a005_kp/S005C002P010R002A005_rgb_kp.json', 'dataset/a005_kp/S014C002P037R002A005_rgb_kp.json', 'dataset/a005_kp/S017C001P009R002A005_rgb_kp.json', 'dataset/a005_kp/S002C002P012R001A005_rgb_kp.json', 'dataset/a005_kp/S001C003P002R002A005_rgb_kp.json', 'dataset/a005_kp/S001C001P001R002A005_rgb_kp.json', 'dataset/a005_kp/S005C002P010R001A005_rgb_kp.json', 'dataset/a005_kp/S002C003P010R002A005_rgb_kp.json', 'dataset/a005_kp/S007C001P027R001A005_rgb_kp.json', 'dataset/a005_kp/S002C003P014R002A005_rgb_kp.json', 'dataset/a005_kp/S008C001P025R002A005_rgb_kp.json', 'dataset/a005_kp/S006C002P019R001A005_rgb_kp.json', 'dataset/a005_kp/S013C002P017R002A005_rgb_kp.json', 'dataset/a005_kp/S005C003P018R002A005_rgb_kp.json', 'dataset/a005_kp/S006C003P016R001A005_rgb_kp.json', 'dataset/a005_kp/S012C001P015R001A005_rgb_kp.json', 'dataset/a005_kp/S007C003P017R002A005_rgb_kp.json', 'dataset/a005_kp/S013C002P015R001A005_rgb_kp.json', 'dataset/a005_kp/S013C002P007R002A005_rgb_kp.json', 'dataset/a005_kp/S005C003P015R001A005_rgb_kp.json', 'dataset/a005_kp/S012C001P007R002A005_rgb_kp.json', 'dataset/a005_kp/S005C002P015R001A005_rgb_kp.json', 'dataset/a005_kp/S010C002P008R001A005_rgb_kp.json', 'dataset/a005_kp/S002C002P008R001A005_rgb_kp.json', 'dataset/a005_kp/S008C003P034R002A005_rgb_kp.json', 'dataset/a005_kp/S006C002P019R002A005_rgb_kp.json', 'dataset/a005_kp/S012C002P007R002A005_rgb_kp.json', 'dataset/a005_kp/S005C003P013R001A005_rgb_kp.json', 'dataset/a005_kp/S006C001P024R001A005_rgb_kp.json', 'dataset/a005_kp/S013C002P025R001A005_rgb_kp.json', 'dataset/a005_kp/S010C001P013R001A005_rgb_kp.json', 'dataset/a005_kp/S014C002P008R001A005_rgb_kp.json', 'dataset/a005_kp/S007C002P019R002A005_rgb_kp.json', 'dataset/a005_kp/S006C003P024R001A005_rgb_kp.json', 'dataset/a005_kp/S002C001P013R002A005_rgb_kp.json', 'dataset/a005_kp/S016C003P021R001A005_rgb_kp.json', 'dataset/a005_kp/S006C001P007R001A005_rgb_kp.json', 'dataset/a005_kp/S006C003P016R002A005_rgb_kp.json', 'dataset/a005_kp/S011C001P008R002A005_rgb_kp.json', 'dataset/a005_kp/S015C001P019R002A005_rgb_kp.json', 'dataset/a005_kp/S008C002P034R001A005_rgb_kp.json', 'dataset/a005_kp/S005C001P010R001A005_rgb_kp.json', 'dataset/a005_kp/S010C003P019R002A005_rgb_kp.json', 'dataset/a005_kp/S016C001P040R001A005_rgb_kp.json', 'dataset/a005_kp/S008C001P034R001A005_rgb_kp.json', 'dataset/a005_kp/S003C003P007R002A005_rgb_kp.json', 'dataset/a005_kp/S001C001P004R001A005_rgb_kp.json', 'dataset/a005_kp/S015C002P025R001A005_rgb_kp.json', 'dataset/a005_kp/S017C003P003R001A005_rgb_kp.json', 'dataset/a005_kp/S011C001P025R002A005_rgb_kp.json', 'dataset/a005_kp/S014C001P007R001A005_rgb_kp.json', 'dataset/a005_kp/S013C003P027R001A005_rgb_kp.json', 'dataset/a005_kp/S003C002P018R001A005_rgb_kp.json', 'dataset/a005_kp/S002C003P009R002A005_rgb_kp.json', 'dataset/a005_kp/S009C001P007R001A005_rgb_kp.json', 'dataset/a005_kp/S005C001P016R002A005_rgb_kp.json', 'dataset/a005_kp/S007C001P026R001A005_rgb_kp.json', 'dataset/a005_kp/S007C001P019R002A005_rgb_kp.json', 'dataset/a005_kp/S010C001P016R001A005_rgb_kp.json', 'dataset/a005_kp/S004C002P007R001A005_rgb_kp.json', 'dataset/a005_kp/S001C003P004R002A005_rgb_kp.json', 'dataset/a005_kp/S007C002P016R001A005_rgb_kp.json', 'dataset/a005_kp/S006C003P008R002A005_rgb_kp.json', 'dataset/a005_kp/S013C003P025R002A005_rgb_kp.json', 'dataset/a005_kp/S010C001P025R002A005_rgb_kp.json', 'dataset/a005_kp/S004C003P003R001A005_rgb_kp.json', 'dataset/a005_kp/S011C002P018R001A005_rgb_kp.json', 'dataset/a005_kp/S012C002P025R001A005_rgb_kp.json', 'dataset/a005_kp/S014C003P037R002A005_rgb_kp.json', 'dataset/a005_kp/S012C002P008R002A005_rgb_kp.json', 'dataset/a005_kp/S011C003P001R001A005_rgb_kp.json', 'dataset/a005_kp/S008C002P035R001A005_rgb_kp.json', 'dataset/a005_kp/S002C002P009R002A005_rgb_kp.json', 'dataset/a005_kp/S014C001P017R002A005_rgb_kp.json', 'dataset/a005_kp/S008C002P015R001A005_rgb_kp.json', 'dataset/a005_kp/S008C002P032R001A005_rgb_kp.json', 'dataset/a005_kp/S010C002P021R001A005_rgb_kp.json', 'dataset/a005_kp/S001C001P008R001A005_rgb_kp.json', 'dataset/a005_kp/S010C001P021R001A005_rgb_kp.json', 'dataset/a005_kp/S006C002P016R002A005_rgb_kp.json', 'dataset/a005_kp/S010C001P013R002A005_rgb_kp.json', 'dataset/a005_kp/S006C001P017R002A005_rgb_kp.json', 'dataset/a005_kp/S001C003P006R001A005_rgb_kp.json', 'dataset/a005_kp/S006C002P023R002A005_rgb_kp.json', 'dataset/a005_kp/S003C002P001R001A005_rgb_kp.json', 'dataset/a005_kp/S003C003P019R001A005_rgb_kp.json', 'dataset/a005_kp/S012C001P019R002A005_rgb_kp.json', 'dataset/a005_kp/S011C003P038R002A005_rgb_kp.json', 'dataset/a005_kp/S017C003P020R002A005_rgb_kp.json', 'dataset/a005_kp/S012C001P028R001A005_rgb_kp.json', 'dataset/a005_kp/S001C002P002R001A005_rgb_kp.json', 'dataset/a005_kp/S003C001P015R001A005_rgb_kp.json', 'dataset/a005_kp/S011C001P028R001A005_rgb_kp.json', 'dataset/a005_kp/S007C003P007R001A005_rgb_kp.json', 'dataset/a005_kp/S007C001P016R002A005_rgb_kp.json', 'dataset/a005_kp/S007C003P015R001A005_rgb_kp.json', 'dataset/a005_kp/S013C001P016R002A005_rgb_kp.json', 'dataset/a005_kp/S015C001P007R001A005_rgb_kp.json', 'dataset/a005_kp/S010C001P019R001A005_rgb_kp.json', 'dataset/a005_kp/S010C001P008R002A005_rgb_kp.json', 'dataset/a018_kp/S011C001P002R002A018_rgb_kp.json', 'dataset/a018_kp/S015C001P007R001A018_rgb_kp.json', 'dataset/a018_kp/S012C001P015R001A018_rgb_kp.json', 'dataset/a018_kp/S011C003P025R002A018_rgb_kp.json', 'dataset/a018_kp/S012C001P016R001A018_rgb_kp.json', 'dataset/a018_kp/S003C002P019R001A018_rgb_kp.json', 'dataset/a018_kp/S010C003P025R002A018_rgb_kp.json', 'dataset/a018_kp/S014C002P027R001A018_rgb_kp.json', 'dataset/a018_kp/S015C002P037R001A018_rgb_kp.json', 'dataset/a018_kp/S010C003P019R001A018_rgb_kp.json', 'dataset/a018_kp/S006C002P015R002A018_rgb_kp.json', 'dataset/a018_kp/S010C003P016R002A018_rgb_kp.json', 'dataset/a018_kp/S006C002P017R001A018_rgb_kp.json', 'dataset/a018_kp/S016C002P007R001A018_rgb_kp.json', 'dataset/a018_kp/S001C002P008R001A018_rgb_kp.json', 'dataset/a018_kp/S002C003P008R001A018_rgb_kp.json', 'dataset/a018_kp/S015C002P016R002A018_rgb_kp.json', 'dataset/a018_kp/S012C003P028R001A018_rgb_kp.json', 'dataset/a018_kp/S001C002P006R001A018_rgb_kp.json', 'dataset/a018_kp/S001C003P004R002A018_rgb_kp.json', 'dataset/a018_kp/S015C003P017R001A018_rgb_kp.json', 'dataset/a018_kp/S011C003P007R001A018_rgb_kp.json', 'dataset/a018_kp/S014C001P039R001A018_rgb_kp.json', 'dataset/a018_kp/S014C003P019R002A018_rgb_kp.json', 'dataset/a018_kp/S009C002P017R002A018_rgb_kp.json', 'dataset/a018_kp/S010C002P015R001A018_rgb_kp.json', 'dataset/a018_kp/S014C001P019R002A018_rgb_kp.json', 'dataset/a018_kp/S006C002P024R002A018_rgb_kp.json', 'dataset/a018_kp/S006C001P015R001A018_rgb_kp.json', 'dataset/a018_kp/S013C003P017R001A018_rgb_kp.json', 'dataset/a018_kp/S015C003P007R002A018_rgb_kp.json', 'dataset/a018_kp/S009C003P025R001A018_rgb_kp.json', 'dataset/a018_kp/S008C002P030R002A018_rgb_kp.json', 'dataset/a018_kp/S011C001P015R002A018_rgb_kp.json', 'dataset/a018_kp/S001C002P008R002A018_rgb_kp.json', 'dataset/a018_kp/S016C002P021R002A018_rgb_kp.json', 'dataset/a018_kp/S007C002P007R001A018_rgb_kp.json', 'dataset/a018_kp/S013C003P025R001A018_rgb_kp.json', 'dataset/a018_kp/S008C002P019R002A018_rgb_kp.json', 'dataset/a018_kp/S011C002P025R001A018_rgb_kp.json', 'dataset/a018_kp/S006C003P008R002A018_rgb_kp.json', 'dataset/a018_kp/S014C001P037R001A018_rgb_kp.json', 'dataset/a018_kp/S010C003P015R001A018_rgb_kp.json', 'dataset/a018_kp/S002C003P008R002A018_rgb_kp.json', 'dataset/a018_kp/S003C003P019R002A018_rgb_kp.json', 'dataset/a018_kp/S010C002P019R002A018_rgb_kp.json', 'dataset/a018_kp/S013C003P017R002A018_rgb_kp.json', 'dataset/a018_kp/S008C003P007R001A018_rgb_kp.json', 'dataset/a018_kp/S015C003P008R002A018_rgb_kp.json', 'dataset/a018_kp/S011C002P007R001A018_rgb_kp.json', 'dataset/a018_kp/S006C002P019R002A018_rgb_kp.json', 'dataset/a018_kp/S011C002P015R002A018_rgb_kp.json', 'dataset/a018_kp/S013C001P015R002A018_rgb_kp.json', 'dataset/a018_kp/S006C002P001R002A018_rgb_kp.json', 'dataset/a018_kp/S013C001P017R001A018_rgb_kp.json', 'dataset/a018_kp/S013C002P016R002A018_rgb_kp.json', 'dataset/a018_kp/S007C002P027R001A018_rgb_kp.json', 'dataset/a018_kp/S008C002P036R002A018_rgb_kp.json', 'dataset/a018_kp/S003C002P017R002A018_rgb_kp.json', 'dataset/a018_kp/S006C003P007R001A018_rgb_kp.json', 'dataset/a018_kp/S014C002P015R001A018_rgb_kp.json', 'dataset/a018_kp/S001C001P005R002A018_rgb_kp.json', 'dataset/a018_kp/S002C003P009R001A018_rgb_kp.json', 'dataset/a018_kp/S011C002P019R002A018_rgb_kp.json', 'dataset/a018_kp/S006C003P024R001A018_rgb_kp.json', 'dataset/a018_kp/S007C001P017R001A018_rgb_kp.json', 'dataset/a018_kp/S009C003P007R001A018_rgb_kp.json', 'dataset/a018_kp/S016C001P008R001A018_rgb_kp.json', 'dataset/a018_kp/S008C002P007R001A018_rgb_kp.json', 'dataset/a018_kp/S008C002P030R001A018_rgb_kp.json', 'dataset/a018_kp/S009C001P016R002A018_rgb_kp.json', 'dataset/a018_kp/S011C003P018R001A018_rgb_kp.json', 'dataset/a018_kp/S017C003P008R002A018_rgb_kp.json', 'dataset/a018_kp/S010C001P025R002A018_rgb_kp.json', 'dataset/a018_kp/S002C003P010R001A018_rgb_kp.json', 'dataset/a018_kp/S008C001P015R001A018_rgb_kp.json', 'dataset/a018_kp/S012C001P037R002A018_rgb_kp.json', 'dataset/a018_kp/S008C002P025R001A018_rgb_kp.json', 'dataset/a018_kp/S016C003P040R001A018_rgb_kp.json', 'dataset/a018_kp/S014C002P037R001A018_rgb_kp.json', 'dataset/a018_kp/S007C003P008R002A018_rgb_kp.json', 'dataset/a018_kp/S008C003P029R001A018_rgb_kp.json', 'dataset/a018_kp/S011C003P016R002A018_rgb_kp.json', 'dataset/a018_kp/S013C002P016R001A018_rgb_kp.json', 'dataset/a018_kp/S017C002P015R002A018_rgb_kp.json', 'dataset/a018_kp/S017C001P017R002A018_rgb_kp.json', 'dataset/a018_kp/S017C001P003R002A018_rgb_kp.json', 'dataset/a018_kp/S011C001P027R002A018_rgb_kp.json', 'dataset/a018_kp/S010C001P021R001A018_rgb_kp.json', 'dataset/a018_kp/S005C001P010R002A018_rgb_kp.json', 'dataset/a018_kp/S015C001P016R002A018_rgb_kp.json', 'dataset/a018_kp/S006C003P016R002A018_rgb_kp.json', 'dataset/a018_kp/S008C002P007R002A018_rgb_kp.json', 'dataset/a018_kp/S012C003P027R002A018_rgb_kp.json', 'dataset/a018_kp/S003C002P015R001A018_rgb_kp.json', 'dataset/a018_kp/S012C001P017R001A018_rgb_kp.json', 'dataset/a018_kp/S012C002P018R001A018_rgb_kp.json', 'dataset/a018_kp/S011C002P015R001A018_rgb_kp.json', 'dataset/a018_kp/S016C002P007R002A018_rgb_kp.json', 'dataset/a018_kp/S016C002P025R001A018_rgb_kp.json', 'dataset/a042_kp/S010C002P025R002A042_rgb_kp.json', 'dataset/a042_kp/S006C003P024R002A042_rgb_kp.json', 'dataset/a042_kp/S013C003P016R002A042_rgb_kp.json', 'dataset/a042_kp/S012C002P016R001A042_rgb_kp.json', 'dataset/a042_kp/S013C002P008R002A042_rgb_kp.json', 'dataset/a042_kp/S015C001P025R002A042_rgb_kp.json', 'dataset/a042_kp/S001C003P004R001A042_rgb_kp.json', 'dataset/a042_kp/S001C001P008R001A042_rgb_kp.json', 'dataset/a042_kp/S015C003P008R001A042_rgb_kp.json', 'dataset/a042_kp/S011C003P015R002A042_rgb_kp.json', 'dataset/a042_kp/S003C001P019R001A042_rgb_kp.json', 'dataset/a042_kp/S013C001P007R002A042_rgb_kp.json', 'dataset/a042_kp/S010C003P019R002A042_rgb_kp.json', 'dataset/a042_kp/S014C003P039R001A042_rgb_kp.json', 'dataset/a042_kp/S015C001P025R001A042_rgb_kp.json', 'dataset/a042_kp/S002C002P010R001A042_rgb_kp.json', 'dataset/a042_kp/S009C001P019R001A042_rgb_kp.json', 'dataset/a042_kp/S005C001P021R002A042_rgb_kp.json', 'dataset/a042_kp/S008C001P019R001A042_rgb_kp.json', 'dataset/a042_kp/S009C002P019R001A042_rgb_kp.json', 'dataset/a042_kp/S008C002P001R002A042_rgb_kp.json', 'dataset/a042_kp/S011C002P001R001A042_rgb_kp.json', 'dataset/a042_kp/S015C001P037R001A042_rgb_kp.json', 'dataset/a042_kp/S014C001P039R001A042_rgb_kp.json', 'dataset/a042_kp/S003C003P019R002A042_rgb_kp.json', 'dataset/a042_kp/S013C003P028R002A042_rgb_kp.json', 'dataset/a042_kp/S014C003P025R002A042_rgb_kp.json', 'dataset/a042_kp/S011C001P007R002A042_rgb_kp.json', 'dataset/a042_kp/S015C002P016R001A042_rgb_kp.json', 'dataset/a042_kp/S004C002P008R001A042_rgb_kp.json', 'dataset/a042_kp/S017C001P003R001A042_rgb_kp.json', 'dataset/a042_kp/S015C001P016R001A042_rgb_kp.json', 'dataset/a042_kp/S007C003P019R001A042_rgb_kp.json', 'dataset/a042_kp/S006C003P001R002A042_rgb_kp.json', 'dataset/a042_kp/S004C003P008R001A042_rgb_kp.json', 'dataset/a042_kp/S010C002P025R001A042_rgb_kp.json', 'dataset/a042_kp/S005C003P017R001A042_rgb_kp.json', 'dataset/a042_kp/S014C002P008R002A042_rgb_kp.json', 'dataset/a042_kp/S007C002P026R001A042_rgb_kp.json', 'dataset/a042_kp/S013C001P007R001A042_rgb_kp.json', 'dataset/a042_kp/S011C002P007R002A042_rgb_kp.json', 'dataset/a042_kp/S006C002P001R002A042_rgb_kp.json', 'dataset/a042_kp/S005C001P016R002A042_rgb_kp.json', 'dataset/a042_kp/S016C001P019R002A042_rgb_kp.json', 'dataset/a042_kp/S017C001P007R002A042_rgb_kp.json', 'dataset/a042_kp/S017C003P007R002A042_rgb_kp.json', 'dataset/a042_kp/S011C001P038R002A042_rgb_kp.json', 'dataset/a042_kp/S007C001P001R002A042_rgb_kp.json', 'dataset/a042_kp/S011C002P019R001A042_rgb_kp.json', 'dataset/a042_kp/S014C002P025R002A042_rgb_kp.json', 'dataset/a042_kp/S009C001P016R002A042_rgb_kp.json', 'dataset/a042_kp/S015C003P019R002A042_rgb_kp.json', 'dataset/a042_kp/S009C001P007R002A042_rgb_kp.json', 'dataset/a042_kp/S003C003P019R001A042_rgb_kp.json', 'dataset/a042_kp/S015C002P019R002A042_rgb_kp.json', 'dataset/a042_kp/S007C001P025R002A042_rgb_kp.json', 'dataset/a042_kp/S012C002P019R001A042_rgb_kp.json', 'dataset/a042_kp/S004C002P003R001A042_rgb_kp.json', 'dataset/a042_kp/S012C002P037R001A042_rgb_kp.json', 'dataset/a042_kp/S015C001P008R001A042_rgb_kp.json', 'dataset/a042_kp/S011C003P028R001A042_rgb_kp.json', 'dataset/a042_kp/S011C002P019R002A042_rgb_kp.json', 'dataset/a042_kp/S002C002P014R002A042_rgb_kp.json', 'dataset/a042_kp/S017C001P015R002A042_rgb_kp.json', 'dataset/a042_kp/S017C001P007R001A042_rgb_kp.json', 'dataset/a042_kp/S006C001P022R001A042_rgb_kp.json', 'dataset/a042_kp/S012C002P025R002A042_rgb_kp.json', 'dataset/a042_kp/S008C001P015R001A042_rgb_kp.json', 'dataset/a042_kp/S017C002P009R002A042_rgb_kp.json', 'dataset/a042_kp/S013C002P018R002A042_rgb_kp.json', 'dataset/a042_kp/S006C001P024R002A042_rgb_kp.json', 'dataset/a042_kp/S013C003P008R001A042_rgb_kp.json', 'dataset/a042_kp/S008C002P032R001A042_rgb_kp.json', 'dataset/a042_kp/S007C002P028R001A042_rgb_kp.json', 'dataset/a042_kp/S002C001P003R001A042_rgb_kp.json', 'dataset/a042_kp/S008C003P036R001A042_rgb_kp.json', 'dataset/a042_kp/S013C002P025R001A042_rgb_kp.json', 'dataset/a042_kp/S008C001P025R002A042_rgb_kp.json', 'dataset/a042_kp/S006C001P001R001A042_rgb_kp.json', 'dataset/a042_kp/S005C002P010R001A042_rgb_kp.json', 'dataset/a042_kp/S003C001P002R001A042_rgb_kp.json', 'dataset/a042_kp/S014C001P008R001A042_rgb_kp.json', 'dataset/a042_kp/S015C002P037R001A042_rgb_kp.json', 'dataset/a042_kp/S010C003P025R002A042_rgb_kp.json', 'dataset/a042_kp/S007C002P007R002A042_rgb_kp.json', 'dataset/a042_kp/S006C002P015R002A042_rgb_kp.json', 'dataset/a042_kp/S016C002P039R001A042_rgb_kp.json', 'dataset/a042_kp/S004C002P007R001A042_rgb_kp.json', 'dataset/a042_kp/S010C002P021R002A042_rgb_kp.json', 'dataset/a042_kp/S012C003P019R002A042_rgb_kp.json', 'dataset/a042_kp/S015C003P007R001A042_rgb_kp.json', 'dataset/a042_kp/S008C001P030R002A042_rgb_kp.json', 'dataset/a042_kp/S011C001P007R001A042_rgb_kp.json', 'dataset/a042_kp/S011C003P028R002A042_rgb_kp.json', 'dataset/a042_kp/S009C002P008R001A042_rgb_kp.json', 'dataset/a042_kp/S006C002P019R002A042_rgb_kp.json', 'dataset/a042_kp/S003C001P018R002A042_rgb_kp.json', 'dataset/a042_kp/S003C003P008R002A042_rgb_kp.json', 'dataset/a042_kp/S012C002P019R002A042_rgb_kp.json', 'dataset/a042_kp/S010C001P025R002A042_rgb_kp.json', 'dataset/a037_kp/S012C001P027R001A037_rgb_kp.json', 'dataset/a037_kp/S009C001P019R001A037_rgb_kp.json', 'dataset/a037_kp/S012C003P018R002A037_rgb_kp.json', 'dataset/a037_kp/S016C001P039R002A037_rgb_kp.json', 'dataset/a037_kp/S014C002P007R002A037_rgb_kp.json', 'dataset/a037_kp/S011C002P028R002A037_rgb_kp.json', 'dataset/a037_kp/S011C002P017R002A037_rgb_kp.json', 'dataset/a037_kp/S007C002P028R002A037_rgb_kp.json', 'dataset/a037_kp/S008C002P001R001A037_rgb_kp.json', 'dataset/a037_kp/S008C003P034R002A037_rgb_kp.json', 'dataset/a037_kp/S015C001P025R002A037_rgb_kp.json', 'dataset/a037_kp/S003C001P001R002A037_rgb_kp.json', 'dataset/a037_kp/S008C003P033R002A037_rgb_kp.json', 'dataset/a037_kp/S011C002P016R002A037_rgb_kp.json', 'dataset/a037_kp/S005C002P010R002A037_rgb_kp.json', 'dataset/a037_kp/S011C003P008R001A037_rgb_kp.json', 'dataset/a037_kp/S008C001P015R002A037_rgb_kp.json', 'dataset/a037_kp/S008C002P032R002A037_rgb_kp.json', 'dataset/a037_kp/S006C002P019R002A037_rgb_kp.json', 'dataset/a037_kp/S001C001P008R001A037_rgb_kp.json', 'dataset/a037_kp/S003C002P002R001A037_rgb_kp.json', 'dataset/a037_kp/S005C002P018R002A037_rgb_kp.json', 'dataset/a037_kp/S007C003P015R001A037_rgb_kp.json', 'dataset/a037_kp/S008C002P015R002A037_rgb_kp.json', 'dataset/a037_kp/S002C002P012R002A037_rgb_kp.json', 'dataset/a037_kp/S010C002P017R002A037_rgb_kp.json', 'dataset/a037_kp/S007C003P017R001A037_rgb_kp.json', 'dataset/a037_kp/S014C002P019R001A037_rgb_kp.json', 'dataset/a037_kp/S001C002P002R002A037_rgb_kp.json', 'dataset/a037_kp/S016C003P025R001A037_rgb_kp.json', 'dataset/a037_kp/S002C002P009R001A037_rgb_kp.json', 'dataset/a037_kp/S012C003P027R001A037_rgb_kp.json', 'dataset/a037_kp/S002C003P010R002A037_rgb_kp.json', 'dataset/a037_kp/S011C001P017R002A037_rgb_kp.json', 'dataset/a037_kp/S010C002P013R002A037_rgb_kp.json', 'dataset/a037_kp/S016C002P008R002A037_rgb_kp.json', 'dataset/a037_kp/S004C002P020R002A037_rgb_kp.json', 'dataset/a037_kp/S017C003P003R001A037_rgb_kp.json', 'dataset/a037_kp/S003C002P018R002A037_rgb_kp.json', 'dataset/a037_kp/S003C002P007R002A037_rgb_kp.json', 'dataset/a037_kp/S003C003P001R001A037_rgb_kp.json', 'dataset/a037_kp/S002C001P010R002A037_rgb_kp.json', 'dataset/a037_kp/S005C001P017R001A037_rgb_kp.json', 'dataset/a037_kp/S005C003P018R002A037_rgb_kp.json', 'dataset/a037_kp/S008C003P019R001A037_rgb_kp.json', 'dataset/a037_kp/S006C001P017R001A037_rgb_kp.json', 'dataset/a037_kp/S017C002P007R002A037_rgb_kp.json', 'dataset/a037_kp/S007C001P018R001A037_rgb_kp.json', 'dataset/a037_kp/S002C001P008R001A037_rgb_kp.json', 'dataset/a037_kp/S008C002P029R002A037_rgb_kp.json', 'dataset/a037_kp/S008C002P033R001A037_rgb_kp.json', 'dataset/a037_kp/S014C002P037R001A037_rgb_kp.json', 'dataset/a037_kp/S007C001P008R001A037_rgb_kp.json', 'dataset/a037_kp/S013C002P019R001A037_rgb_kp.json', 'dataset/a037_kp/S005C003P016R001A037_rgb_kp.json', 'dataset/a037_kp/S012C003P018R001A037_rgb_kp.json', 'dataset/a037_kp/S008C001P001R001A037_rgb_kp.json', 'dataset/a037_kp/S015C001P008R001A037_rgb_kp.json', 'dataset/a037_kp/S011C001P002R002A037_rgb_kp.json', 'dataset/a037_kp/S014C003P037R001A037_rgb_kp.json', 'dataset/a037_kp/S011C001P002R001A037_rgb_kp.json', 'dataset/a037_kp/S014C001P007R001A037_rgb_kp.json', 'dataset/a037_kp/S011C002P002R002A037_rgb_kp.json', 'dataset/a037_kp/S010C002P013R001A037_rgb_kp.json', 'dataset/a037_kp/S011C003P027R002A037_rgb_kp.json', 'dataset/a037_kp/S003C001P017R001A037_rgb_kp.json', 'dataset/a037_kp/S011C003P018R001A037_rgb_kp.json', 'dataset/a037_kp/S007C002P001R001A037_rgb_kp.json', 'dataset/a037_kp/S008C003P036R002A037_rgb_kp.json', 'dataset/a037_kp/S007C001P007R002A037_rgb_kp.json', 'dataset/a037_kp/S007C003P019R001A037_rgb_kp.json', 'dataset/a037_kp/S012C002P037R001A037_rgb_kp.json', 'dataset/a037_kp/S012C002P028R002A037_rgb_kp.json', 'dataset/a037_kp/S004C003P003R002A037_rgb_kp.json', 'dataset/a037_kp/S013C001P025R002A037_rgb_kp.json', 'dataset/a037_kp/S003C003P008R002A037_rgb_kp.json', 'dataset/a037_kp/S008C001P029R002A037_rgb_kp.json', 'dataset/a037_kp/S013C002P028R001A037_rgb_kp.json', 'dataset/a037_kp/S015C003P037R002A037_rgb_kp.json', 'dataset/a037_kp/S009C001P016R001A037_rgb_kp.json', 'dataset/a037_kp/S017C002P015R002A037_rgb_kp.json', 'dataset/a037_kp/S005C003P004R002A037_rgb_kp.json', 'dataset/a037_kp/S005C001P010R001A037_rgb_kp.json', 'dataset/a037_kp/S015C002P037R001A037_rgb_kp.json', 'dataset/a037_kp/S017C001P003R002A037_rgb_kp.json', 'dataset/a037_kp/S017C001P009R001A037_rgb_kp.json', 'dataset/a037_kp/S010C003P017R001A037_rgb_kp.json', 'dataset/a037_kp/S006C001P001R002A037_rgb_kp.json', 'dataset/a037_kp/S015C002P007R001A037_rgb_kp.json', 'dataset/a037_kp/S013C001P018R001A037_rgb_kp.json', 'dataset/a037_kp/S012C002P019R002A037_rgb_kp.json', 'dataset/a037_kp/S012C001P028R001A037_rgb_kp.json', 'dataset/a037_kp/S017C003P015R001A037_rgb_kp.json', 'dataset/a037_kp/S008C001P033R001A037_rgb_kp.json', 'dataset/a037_kp/S011C002P027R001A037_rgb_kp.json', 'dataset/a037_kp/S007C003P017R002A037_rgb_kp.json', 'dataset/a037_kp/S007C003P026R001A037_rgb_kp.json', 'dataset/a037_kp/S001C001P008R002A037_rgb_kp.json', 'dataset/a037_kp/S003C002P017R001A037_rgb_kp.json', 'dataset/a037_kp/S008C003P036R001A037_rgb_kp.json', 'dataset/a045_kp/S013C002P008R001A045_rgb_kp.json', 'dataset/a045_kp/S012C003P007R001A045_rgb_kp.json', 'dataset/a045_kp/S013C001P025R001A045_rgb_kp.json', 'dataset/a045_kp/S008C003P034R002A045_rgb_kp.json', 'dataset/a045_kp/S012C002P016R002A045_rgb_kp.json', 'dataset/a045_kp/S017C001P015R002A045_rgb_kp.json', 'dataset/a045_kp/S013C003P028R001A045_rgb_kp.json', 'dataset/a045_kp/S002C001P011R001A045_rgb_kp.json', 'dataset/a045_kp/S006C002P007R002A045_rgb_kp.json', 'dataset/a045_kp/S001C001P001R002A045_rgb_kp.json', 'dataset/a045_kp/S004C003P008R002A045_rgb_kp.json', 'dataset/a045_kp/S009C003P017R001A045_rgb_kp.json', 'dataset/a045_kp/S015C001P017R001A045_rgb_kp.json', 'dataset/a045_kp/S014C003P039R002A045_rgb_kp.json', 'dataset/a045_kp/S012C002P037R001A045_rgb_kp.json', 'dataset/a045_kp/S009C002P015R002A045_rgb_kp.json', 'dataset/a045_kp/S005C001P013R001A045_rgb_kp.json', 'dataset/a045_kp/S012C001P015R001A045_rgb_kp.json', 'dataset/a045_kp/S011C001P017R002A045_rgb_kp.json', 'dataset/a045_kp/S014C001P025R001A045_rgb_kp.json', 'dataset/a045_kp/S012C003P019R001A045_rgb_kp.json', 'dataset/a045_kp/S008C003P029R002A045_rgb_kp.json', 'dataset/a045_kp/S013C003P007R002A045_rgb_kp.json', 'dataset/a045_kp/S014C002P017R002A045_rgb_kp.json', 'dataset/a045_kp/S008C002P034R002A045_rgb_kp.json', 'dataset/a045_kp/S009C001P015R002A045_rgb_kp.json', 'dataset/a045_kp/S007C001P019R001A045_rgb_kp.json', 'dataset/a045_kp/S017C003P015R002A045_rgb_kp.json', 'dataset/a045_kp/S012C002P019R002A045_rgb_kp.json', 'dataset/a045_kp/S001C002P003R002A045_rgb_kp.json', 'dataset/a045_kp/S006C003P024R002A045_rgb_kp.json', 'dataset/a045_kp/S001C003P006R001A045_rgb_kp.json', 'dataset/a045_kp/S013C002P016R002A045_rgb_kp.json', 'dataset/a045_kp/S003C003P002R002A045_rgb_kp.json', 'dataset/a045_kp/S002C003P009R002A045_rgb_kp.json', 'dataset/a045_kp/S004C003P020R002A045_rgb_kp.json', 'dataset/a045_kp/S009C002P025R002A045_rgb_kp.json', 'dataset/a045_kp/S011C002P007R001A045_rgb_kp.json', 'dataset/a045_kp/S011C002P008R001A045_rgb_kp.json', 'dataset/a045_kp/S016C001P019R001A045_rgb_kp.json', 'dataset/a045_kp/S002C002P013R002A045_rgb_kp.json', 'dataset/a045_kp/S010C002P013R002A045_rgb_kp.json', 'dataset/a045_kp/S002C003P012R002A045_rgb_kp.json', 'dataset/a045_kp/S013C003P025R001A045_rgb_kp.json', 'dataset/a045_kp/S011C001P019R002A045_rgb_kp.json', 'dataset/a045_kp/S013C001P016R002A045_rgb_kp.json', 'dataset/a045_kp/S008C003P007R002A045_rgb_kp.json', 'dataset/a045_kp/S009C003P016R002A045_rgb_kp.json', 'dataset/a045_kp/S006C001P008R002A045_rgb_kp.json', 'dataset/a045_kp/S011C003P025R002A045_rgb_kp.json', 'dataset/a045_kp/S003C001P017R001A045_rgb_kp.json', 'dataset/a045_kp/S006C001P019R002A045_rgb_kp.json', 'dataset/a045_kp/S011C001P017R001A045_rgb_kp.json', 'dataset/a045_kp/S013C001P028R002A045_rgb_kp.json', 'dataset/a045_kp/S001C002P003R001A045_rgb_kp.json', 'dataset/a045_kp/S005C003P015R002A045_rgb_kp.json', 'dataset/a045_kp/S002C003P003R002A045_rgb_kp.json', 'dataset/a045_kp/S012C001P027R001A045_rgb_kp.json', 'dataset/a045_kp/S008C003P015R002A045_rgb_kp.json', 'dataset/a045_kp/S008C002P025R002A045_rgb_kp.json', 'dataset/a045_kp/S010C001P021R001A045_rgb_kp.json', 'dataset/a045_kp/S011C001P018R002A045_rgb_kp.json', 'dataset/a045_kp/S016C003P039R002A045_rgb_kp.json', 'dataset/a045_kp/S014C003P017R001A045_rgb_kp.json', 'dataset/a045_kp/S012C003P037R001A045_rgb_kp.json', 'dataset/a045_kp/S007C001P028R001A045_rgb_kp.json', 'dataset/a045_kp/S002C001P009R001A045_rgb_kp.json', 'dataset/a045_kp/S003C001P018R002A045_rgb_kp.json', 'dataset/a045_kp/S008C002P036R002A045_rgb_kp.json', 'dataset/a045_kp/S014C002P015R002A045_rgb_kp.json', 'dataset/a045_kp/S007C001P007R002A045_rgb_kp.json', 'dataset/a045_kp/S003C003P002R001A045_rgb_kp.json', 'dataset/a045_kp/S017C001P020R002A045_rgb_kp.json', 'dataset/a045_kp/S011C002P002R001A045_rgb_kp.json', 'dataset/a045_kp/S010C001P013R001A045_rgb_kp.json', 'dataset/a045_kp/S012C001P025R001A045_rgb_kp.json', 'dataset/a045_kp/S005C001P017R002A045_rgb_kp.json', 'dataset/a045_kp/S015C003P007R002A045_rgb_kp.json', 'dataset/a045_kp/S007C003P008R001A045_rgb_kp.json', 'dataset/a045_kp/S016C002P019R002A045_rgb_kp.json', 'dataset/a045_kp/S012C003P019R002A045_rgb_kp.json', 'dataset/a045_kp/S017C002P016R001A045_rgb_kp.json', 'dataset/a045_kp/S006C002P024R001A045_rgb_kp.json', 'dataset/a045_kp/S016C003P025R002A045_rgb_kp.json', 'dataset/a045_kp/S016C002P019R001A045_rgb_kp.json', 'dataset/a045_kp/S007C001P025R002A045_rgb_kp.json', 'dataset/a045_kp/S012C002P028R001A045_rgb_kp.json', 'dataset/a045_kp/S008C002P035R002A045_rgb_kp.json', 'dataset/a045_kp/S013C001P028R001A045_rgb_kp.json', 'dataset/a045_kp/S017C002P015R002A045_rgb_kp.json', 'dataset/a045_kp/S012C003P008R001A045_rgb_kp.json', 'dataset/a045_kp/S004C003P007R001A045_rgb_kp.json', 'dataset/a045_kp/S013C002P018R002A045_rgb_kp.json', 'dataset/a045_kp/S011C003P027R001A045_rgb_kp.json', 'dataset/a045_kp/S010C002P017R002A045_rgb_kp.json', 'dataset/a045_kp/S016C002P039R001A045_rgb_kp.json', 'dataset/a045_kp/S007C003P025R002A045_rgb_kp.json', 'dataset/a045_kp/S007C003P018R002A045_rgb_kp.json', 'dataset/a045_kp/S016C002P021R001A045_rgb_kp.json', 'dataset/a045_kp/S005C002P015R002A045_rgb_kp.json', 'dataset/a076_kp/S026C002P008R002A076_rgb_kp.json', 'dataset/a076_kp/S027C002P079R002A076_rgb_kp.json', 'dataset/a076_kp/S027C001P044R001A076_rgb_kp.json', 'dataset/a076_kp/S028C002P087R001A076_rgb_kp.json', 'dataset/a076_kp/S021C003P057R001A076_rgb_kp.json', 'dataset/a076_kp/S029C002P074R002A076_rgb_kp.json', 'dataset/a076_kp/S023C003P064R002A076_rgb_kp.json', 'dataset/a076_kp/S021C001P056R001A076_rgb_kp.json', 'dataset/a076_kp/S031C002P043R001A076_rgb_kp.json', 'dataset/a076_kp/S024C003P061R002A076_rgb_kp.json', 'dataset/a076_kp/S025C002P058R002A076_rgb_kp.json', 'dataset/a076_kp/S019C001P051R001A076_rgb_kp.json', 'dataset/a076_kp/S031C003P099R001A076_rgb_kp.json', 'dataset/a076_kp/S027C002P081R001A076_rgb_kp.json', 'dataset/a076_kp/S026C001P072R002A076_rgb_kp.json', 'dataset/a076_kp/S030C002P048R002A076_rgb_kp.json', 'dataset/a076_kp/S030C002P076R001A076_rgb_kp.json', 'dataset/a076_kp/S032C001P106R001A076_rgb_kp.json', 'dataset/a076_kp/S029C003P090R002A076_rgb_kp.json', 'dataset/a076_kp/S032C001P102R001A076_rgb_kp.json', 'dataset/a076_kp/S030C001P076R001A076_rgb_kp.json', 'dataset/a076_kp/S030C003P041R002A076_rgb_kp.json', 'dataset/a076_kp/S019C002P008R001A076_rgb_kp.json', 'dataset/a076_kp/S018C003P041R001A076_rgb_kp.json', 'dataset/a076_kp/S022C001P065R002A076_rgb_kp.json', 'dataset/a076_kp/S029C003P051R001A076_rgb_kp.json', 'dataset/a076_kp/S018C003P042R002A076_rgb_kp.json', 'dataset/a076_kp/S030C001P081R002A076_rgb_kp.json', 'dataset/a076_kp/S020C003P044R001A076_rgb_kp.json', 'dataset/a076_kp/S021C003P058R002A076_rgb_kp.json', 'dataset/a076_kp/S019C003P008R002A076_rgb_kp.json', 'dataset/a076_kp/S022C001P064R001A076_rgb_kp.json', 'dataset/a076_kp/S021C002P058R001A076_rgb_kp.json', 'dataset/a076_kp/S025C002P065R001A076_rgb_kp.json', 'dataset/a076_kp/S018C003P042R001A076_rgb_kp.json', 'dataset/a076_kp/S026C001P077R002A076_rgb_kp.json', 'dataset/a076_kp/S028C003P043R001A076_rgb_kp.json', 'dataset/a076_kp/S018C001P042R001A076_rgb_kp.json', 'dataset/a076_kp/S030C001P048R002A076_rgb_kp.json', 'dataset/a076_kp/S030C001P091R002A076_rgb_kp.json', 'dataset/a076_kp/S026C002P072R001A076_rgb_kp.json', 'dataset/a076_kp/S020C002P054R002A076_rgb_kp.json', 'dataset/a076_kp/S027C001P079R002A076_rgb_kp.json', 'dataset/a076_kp/S019C003P008R001A076_rgb_kp.json', 'dataset/a076_kp/S032C003P043R002A076_rgb_kp.json', 'dataset/a076_kp/S022C003P067R002A076_rgb_kp.json', 'dataset/a076_kp/S031C001P041R001A076_rgb_kp.json', 'dataset/a076_kp/S024C003P057R002A076_rgb_kp.json', 'dataset/a076_kp/S023C003P068R002A076_rgb_kp.json', 'dataset/a076_kp/S026C003P008R002A076_rgb_kp.json', 'dataset/a076_kp/S028C002P048R001A076_rgb_kp.json', 'dataset/a076_kp/S030C002P092R001A076_rgb_kp.json', 'dataset/a076_kp/S020C001P053R001A076_rgb_kp.json', 'dataset/a076_kp/S025C001P058R002A076_rgb_kp.json', 'dataset/a076_kp/S026C001P008R001A076_rgb_kp.json', 'dataset/a076_kp/S028C002P046R001A076_rgb_kp.json', 'dataset/a076_kp/S025C001P066R002A076_rgb_kp.json', 'dataset/a076_kp/S023C003P063R002A076_rgb_kp.json', 'dataset/a076_kp/S030C001P008R002A076_rgb_kp.json', 'dataset/a076_kp/S032C001P008R002A076_rgb_kp.json', 'dataset/a076_kp/S022C002P067R002A076_rgb_kp.json', 'dataset/a076_kp/S027C003P043R001A076_rgb_kp.json', 'dataset/a076_kp/S022C001P064R002A076_rgb_kp.json', 'dataset/a076_kp/S024C001P057R002A076_rgb_kp.json', 'dataset/a076_kp/S027C003P083R001A076_rgb_kp.json', 'dataset/a076_kp/S027C002P080R002A076_rgb_kp.json', 'dataset/a076_kp/S023C003P055R002A076_rgb_kp.json', 'dataset/a076_kp/S026C003P050R002A076_rgb_kp.json', 'dataset/a076_kp/S026C003P074R002A076_rgb_kp.json', 'dataset/a076_kp/S027C003P041R001A076_rgb_kp.json', 'dataset/a076_kp/S024C001P067R001A076_rgb_kp.json', 'dataset/a076_kp/S028C001P073R002A076_rgb_kp.json', 'dataset/a076_kp/S028C002P070R001A076_rgb_kp.json', 'dataset/a076_kp/S032C001P103R002A076_rgb_kp.json', 'dataset/a076_kp/S027C001P041R001A076_rgb_kp.json', 'dataset/a076_kp/S021C002P055R002A076_rgb_kp.json', 'dataset/a076_kp/S029C003P075R002A076_rgb_kp.json', 'dataset/a076_kp/S032C003P103R001A076_rgb_kp.json', 'dataset/a076_kp/S019C002P051R001A076_rgb_kp.json', 'dataset/a076_kp/S027C001P011R001A076_rgb_kp.json', 'dataset/a076_kp/S027C002P079R001A076_rgb_kp.json', 'dataset/a076_kp/S024C003P064R001A076_rgb_kp.json', 'dataset/a076_kp/S026C002P075R002A076_rgb_kp.json', 'dataset/a076_kp/S021C003P060R002A076_rgb_kp.json', 'dataset/a076_kp/S026C002P008R001A076_rgb_kp.json', 'dataset/a076_kp/S026C003P070R002A076_rgb_kp.json', 'dataset/a076_kp/S029C002P048R002A076_rgb_kp.json', 'dataset/a076_kp/S020C001P054R002A076_rgb_kp.json', 'dataset/a076_kp/S026C002P041R002A076_rgb_kp.json', 'dataset/a076_kp/S018C002P045R002A076_rgb_kp.json', 'dataset/a076_kp/S025C001P065R002A076_rgb_kp.json', 'dataset/a076_kp/S018C003P044R001A076_rgb_kp.json', 'dataset/a076_kp/S031C001P006R002A076_rgb_kp.json', 'dataset/a076_kp/S029C003P080R002A076_rgb_kp.json', 'dataset/a076_kp/S022C002P064R001A076_rgb_kp.json', 'dataset/a076_kp/S029C003P049R001A076_rgb_kp.json', 'dataset/a076_kp/S032C002P106R002A076_rgb_kp.json', 'dataset/a076_kp/S027C002P008R001A076_rgb_kp.json', 'dataset/a076_kp/S023C001P058R002A076_rgb_kp.json', 'dataset/a076_kp/S024C001P061R001A076_rgb_kp.json', 'dataset/a089_kp/S030C002P088R001A089_rgb_kp.json', 'dataset/a089_kp/S026C003P077R001A089_rgb_kp.json', 'dataset/a089_kp/S019C001P048R001A089_rgb_kp.json', 'dataset/a089_kp/S027C002P081R002A089_rgb_kp.json', 'dataset/a089_kp/S030C002P081R001A089_rgb_kp.json', 'dataset/a089_kp/S032C001P067R002A089_rgb_kp.json', 'dataset/a089_kp/S020C001P041R001A089_rgb_kp.json', 'dataset/a089_kp/S023C001P055R001A089_rgb_kp.json', 'dataset/a089_kp/S027C002P078R001A089_rgb_kp.json', 'dataset/a089_kp/S028C003P042R002A089_rgb_kp.json', 'dataset/a089_kp/S027C001P078R002A089_rgb_kp.json', 'dataset/a089_kp/S021C003P060R002A089_rgb_kp.json', 'dataset/a089_kp/S027C001P084R002A089_rgb_kp.json', 'dataset/a089_kp/S024C001P060R002A089_rgb_kp.json', 'dataset/a089_kp/S031C001P085R002A089_rgb_kp.json', 'dataset/a089_kp/S027C002P086R001A089_rgb_kp.json', 'dataset/a089_kp/S022C002P066R002A089_rgb_kp.json', 'dataset/a089_kp/S027C002P083R002A089_rgb_kp.json', 'dataset/a089_kp/S027C002P084R002A089_rgb_kp.json', 'dataset/a089_kp/S023C002P061R001A089_rgb_kp.json', 'dataset/a089_kp/S025C003P056R002A089_rgb_kp.json', 'dataset/a089_kp/S031C002P042R002A089_rgb_kp.json', 'dataset/a089_kp/S018C003P008R002A089_rgb_kp.json', 'dataset/a089_kp/S026C003P074R002A089_rgb_kp.json', 'dataset/a089_kp/S031C002P044R001A089_rgb_kp.json', 'dataset/a089_kp/S018C001P044R002A089_rgb_kp.json', 'dataset/a089_kp/S029C001P090R001A089_rgb_kp.json', 'dataset/a089_kp/S026C002P069R002A089_rgb_kp.json', 'dataset/a089_kp/S019C001P051R001A089_rgb_kp.json', 'dataset/a089_kp/S029C003P067R001A089_rgb_kp.json', 'dataset/a089_kp/S021C002P055R001A089_rgb_kp.json', 'dataset/a089_kp/S026C003P072R001A089_rgb_kp.json', 'dataset/a089_kp/S021C001P056R002A089_rgb_kp.json', 'dataset/a089_kp/S029C002P090R002A089_rgb_kp.json', 'dataset/a089_kp/S025C002P056R002A089_rgb_kp.json', 'dataset/a089_kp/S026C001P050R001A089_rgb_kp.json', 'dataset/a089_kp/S029C002P043R002A089_rgb_kp.json', 'dataset/a089_kp/S027C003P080R002A089_rgb_kp.json', 'dataset/a089_kp/S030C001P008R002A089_rgb_kp.json', 'dataset/a089_kp/S021C002P058R001A089_rgb_kp.json', 'dataset/a089_kp/S026C002P049R002A089_rgb_kp.json', 'dataset/a089_kp/S027C001P043R002A089_rgb_kp.json', 'dataset/a089_kp/S032C003P008R001A089_rgb_kp.json', 'dataset/a089_kp/S031C002P099R001A089_rgb_kp.json', 'dataset/a089_kp/S030C002P094R001A089_rgb_kp.json', 'dataset/a089_kp/S020C002P054R002A089_rgb_kp.json', 'dataset/a089_kp/S021C001P055R002A089_rgb_kp.json', 'dataset/a089_kp/S031C003P100R002A089_rgb_kp.json', 'dataset/a089_kp/S020C003P008R002A089_rgb_kp.json', 'dataset/a089_kp/S021C002P057R002A089_rgb_kp.json', 'dataset/a089_kp/S019C003P051R001A089_rgb_kp.json', 'dataset/a089_kp/S028C002P070R002A089_rgb_kp.json', 'dataset/a089_kp/S027C002P044R002A089_rgb_kp.json', 'dataset/a089_kp/S028C001P008R002A089_rgb_kp.json', 'dataset/a089_kp/S020C001P052R001A089_rgb_kp.json', 'dataset/a089_kp/S018C002P043R001A089_rgb_kp.json', 'dataset/a089_kp/S024C001P061R001A089_rgb_kp.json', 'dataset/a089_kp/S018C003P044R002A089_rgb_kp.json', 'dataset/a089_kp/S025C003P059R001A089_rgb_kp.json', 'dataset/a089_kp/S027C002P082R001A089_rgb_kp.json', 'dataset/a089_kp/S026C001P074R002A089_rgb_kp.json', 'dataset/a089_kp/S031C001P067R002A089_rgb_kp.json', 'dataset/a089_kp/S026C003P074R001A089_rgb_kp.json', 'dataset/a089_kp/S019C001P047R001A089_rgb_kp.json', 'dataset/a089_kp/S026C001P077R002A089_rgb_kp.json', 'dataset/a089_kp/S027C001P085R002A089_rgb_kp.json', 'dataset/a089_kp/S030C002P085R001A089_rgb_kp.json', 'dataset/a089_kp/S027C002P078R002A089_rgb_kp.json', 'dataset/a089_kp/S023C003P060R002A089_rgb_kp.json', 'dataset/a089_kp/S030C003P076R002A089_rgb_kp.json', 'dataset/a089_kp/S032C002P043R002A089_rgb_kp.json', 'dataset/a089_kp/S026C003P008R001A089_rgb_kp.json', 'dataset/a089_kp/S029C003P008R002A089_rgb_kp.json', 'dataset/a089_kp/S032C001P106R002A089_rgb_kp.json', 'dataset/a089_kp/S022C002P063R001A089_rgb_kp.json', 'dataset/a089_kp/S029C003P074R001A089_rgb_kp.json', 'dataset/a089_kp/S031C001P097R001A089_rgb_kp.json', 'dataset/a089_kp/S029C001P075R001A089_rgb_kp.json', 'dataset/a089_kp/S023C002P059R001A089_rgb_kp.json', 'dataset/a089_kp/S031C003P008R001A089_rgb_kp.json', 'dataset/a089_kp/S031C003P100R001A089_rgb_kp.json', 'dataset/a089_kp/S026C001P049R001A089_rgb_kp.json', 'dataset/a089_kp/S019C003P041R001A089_rgb_kp.json', 'dataset/a089_kp/S018C003P045R002A089_rgb_kp.json', 'dataset/a089_kp/S018C002P043R002A089_rgb_kp.json', 'dataset/a089_kp/S028C003P048R002A089_rgb_kp.json', 'dataset/a089_kp/S026C001P075R001A089_rgb_kp.json', 'dataset/a089_kp/S020C001P053R001A089_rgb_kp.json', 'dataset/a089_kp/S030C001P085R002A089_rgb_kp.json', 'dataset/a089_kp/S023C003P063R001A089_rgb_kp.json', 'dataset/a089_kp/S032C002P104R002A089_rgb_kp.json', 'dataset/a089_kp/S027C001P084R001A089_rgb_kp.json', 'dataset/a089_kp/S032C001P041R002A089_rgb_kp.json', 'dataset/a089_kp/S023C003P068R001A089_rgb_kp.json', 'dataset/a089_kp/S031C001P042R001A089_rgb_kp.json', 'dataset/a089_kp/S025C002P055R002A089_rgb_kp.json', 'dataset/a089_kp/S027C002P008R001A089_rgb_kp.json', 'dataset/a089_kp/S019C002P048R001A089_rgb_kp.json', 'dataset/a089_kp/S031C003P099R001A089_rgb_kp.json', 'dataset/a089_kp/S022C003P061R001A089_rgb_kp.json', 'dataset/a002_kp/S016C001P007R001A002_rgb_kp.json', 'dataset/a002_kp/S008C001P034R001A002_rgb_kp.json', 'dataset/a002_kp/S008C003P036R001A002_rgb_kp.json', 'dataset/a002_kp/S009C003P008R001A002_rgb_kp.json', 'dataset/a002_kp/S012C002P028R001A002_rgb_kp.json', 'dataset/a002_kp/S009C001P008R002A002_rgb_kp.json', 'dataset/a002_kp/S010C002P007R002A002_rgb_kp.json', 'dataset/a002_kp/S014C001P015R001A002_rgb_kp.json', 'dataset/a002_kp/S016C002P021R001A002_rgb_kp.json', 'dataset/a002_kp/S008C003P032R001A002_rgb_kp.json', 'dataset/a002_kp/S010C003P016R002A002_rgb_kp.json', 'dataset/a002_kp/S012C003P019R002A002_rgb_kp.json', 'dataset/a002_kp/S004C003P008R001A002_rgb_kp.json', 'dataset/a002_kp/S002C001P012R002A002_rgb_kp.json', 'dataset/a002_kp/S006C003P007R001A002_rgb_kp.json', 'dataset/a002_kp/S010C001P016R002A002_rgb_kp.json', 'dataset/a002_kp/S002C002P003R002A002_rgb_kp.json', 'dataset/a002_kp/S011C001P027R001A002_rgb_kp.json', 'dataset/a002_kp/S015C002P037R002A002_rgb_kp.json', 'dataset/a002_kp/S010C002P019R002A002_rgb_kp.json', 'dataset/a002_kp/S008C001P030R002A002_rgb_kp.json', 'dataset/a002_kp/S012C001P019R002A002_rgb_kp.json', 'dataset/a002_kp/S011C002P019R002A002_rgb_kp.json', 'dataset/a002_kp/S004C001P008R002A002_rgb_kp.json', 'dataset/a002_kp/S002C001P008R001A002_rgb_kp.json', 'dataset/a002_kp/S007C003P026R002A002_rgb_kp.json', 'dataset/a002_kp/S006C001P008R002A002_rgb_kp.json', 'dataset/a002_kp/S001C002P008R002A002_rgb_kp.json', 'dataset/a002_kp/S007C001P027R002A002_rgb_kp.json', 'dataset/a002_kp/S011C001P038R001A002_rgb_kp.json', 'dataset/a002_kp/S010C002P025R001A002_rgb_kp.json', 'dataset/a002_kp/S003C003P002R001A002_rgb_kp.json', 'dataset/a002_kp/S015C003P025R001A002_rgb_kp.json', 'dataset/a002_kp/S016C002P008R001A002_rgb_kp.json', 'dataset/a002_kp/S007C001P027R001A002_rgb_kp.json', 'dataset/a002_kp/S010C001P019R001A002_rgb_kp.json', 'dataset/a002_kp/S010C003P015R002A002_rgb_kp.json', 'dataset/a002_kp/S006C002P024R002A002_rgb_kp.json', 'dataset/a002_kp/S006C001P001R001A002_rgb_kp.json', 'dataset/a002_kp/S002C003P014R002A002_rgb_kp.json', 'dataset/a002_kp/S012C002P016R001A002_rgb_kp.json', 'dataset/a002_kp/S010C002P018R001A002_rgb_kp.json', 'dataset/a002_kp/S003C001P002R002A002_rgb_kp.json', 'dataset/a002_kp/S014C001P008R001A002_rgb_kp.json', 'dataset/a002_kp/S007C003P016R001A002_rgb_kp.json', 'dataset/a002_kp/S014C003P007R001A002_rgb_kp.json', 'dataset/a002_kp/S007C001P015R001A002_rgb_kp.json', 'dataset/a002_kp/S017C001P003R001A002_rgb_kp.json', 'dataset/a002_kp/S006C003P019R001A002_rgb_kp.json', 'dataset/a002_kp/S007C001P008R001A002_rgb_kp.json', 'dataset/a002_kp/S008C001P007R001A002_rgb_kp.json', 'dataset/a002_kp/S007C002P028R001A002_rgb_kp.json', 'dataset/a002_kp/S016C002P007R002A002_rgb_kp.json', 'dataset/a002_kp/S011C003P007R002A002_rgb_kp.json', 'dataset/a002_kp/S013C003P015R002A002_rgb_kp.json', 'dataset/a002_kp/S013C001P025R001A002_rgb_kp.json', 'dataset/a002_kp/S006C002P015R002A002_rgb_kp.json', 'dataset/a002_kp/S017C003P008R001A002_rgb_kp.json', 'dataset/a002_kp/S012C001P037R001A002_rgb_kp.json', 'dataset/a002_kp/S008C003P019R002A002_rgb_kp.json', 'dataset/a002_kp/S014C003P019R001A002_rgb_kp.json', 'dataset/a002_kp/S005C002P016R001A002_rgb_kp.json', 'dataset/a002_kp/S011C002P027R001A002_rgb_kp.json', 'dataset/a002_kp/S013C003P017R002A002_rgb_kp.json', 'dataset/a002_kp/S003C001P019R001A002_rgb_kp.json', 'dataset/a002_kp/S011C003P038R001A002_rgb_kp.json', 'dataset/a002_kp/S013C001P017R002A002_rgb_kp.json', 'dataset/a002_kp/S008C002P008R001A002_rgb_kp.json', 'dataset/a002_kp/S009C002P019R002A002_rgb_kp.json', 'dataset/a002_kp/S013C002P019R002A002_rgb_kp.json', 'dataset/a002_kp/S016C003P039R001A002_rgb_kp.json', 'dataset/a002_kp/S006C002P008R002A002_rgb_kp.json', 'dataset/a002_kp/S001C002P001R001A002_rgb_kp.json', 'dataset/a002_kp/S014C002P008R002A002_rgb_kp.json', 'dataset/a002_kp/S007C001P028R002A002_rgb_kp.json', 'dataset/a002_kp/S011C002P001R001A002_rgb_kp.json', 'dataset/a002_kp/S011C002P002R002A002_rgb_kp.json', 'dataset/a002_kp/S011C002P002R001A002_rgb_kp.json', 'dataset/a002_kp/S003C003P002R002A002_rgb_kp.json', 'dataset/a002_kp/S004C002P008R001A002_rgb_kp.json', 'dataset/a002_kp/S017C003P007R002A002_rgb_kp.json', 'dataset/a002_kp/S001C002P003R002A002_rgb_kp.json', 'dataset/a002_kp/S017C001P016R002A002_rgb_kp.json', 'dataset/a002_kp/S001C001P005R001A002_rgb_kp.json', 'dataset/a002_kp/S006C001P024R002A002_rgb_kp.json', 'dataset/a002_kp/S012C001P018R002A002_rgb_kp.json', 'dataset/a002_kp/S002C003P011R002A002_rgb_kp.json', 'dataset/a002_kp/S004C002P003R001A002_rgb_kp.json', 'dataset/a002_kp/S011C002P007R002A002_rgb_kp.json', 'dataset/a002_kp/S005C001P010R002A002_rgb_kp.json', 'dataset/a002_kp/S014C003P027R002A002_rgb_kp.json', 'dataset/a002_kp/S011C003P016R002A002_rgb_kp.json', 'dataset/a002_kp/S006C003P016R001A002_rgb_kp.json', 'dataset/a002_kp/S007C001P018R001A002_rgb_kp.json', 'dataset/a002_kp/S004C003P003R002A002_rgb_kp.json', 'dataset/a002_kp/S013C001P037R002A002_rgb_kp.json', 'dataset/a002_kp/S017C003P017R001A002_rgb_kp.json', 'dataset/a002_kp/S008C001P008R002A002_rgb_kp.json', 'dataset/a002_kp/S016C002P007R001A002_rgb_kp.json', 'dataset/a002_kp/S008C003P035R001A002_rgb_kp.json', 'dataset/a092_kp/S020C001P044R002A092_rgb_kp.json', 'dataset/a092_kp/S030C003P096R001A092_rgb_kp.json', 'dataset/a092_kp/S029C003P090R001A092_rgb_kp.json', 'dataset/a092_kp/S020C001P043R001A092_rgb_kp.json', 'dataset/a092_kp/S018C001P042R001A092_rgb_kp.json', 'dataset/a092_kp/S031C001P044R002A092_rgb_kp.json', 'dataset/a092_kp/S020C002P043R002A092_rgb_kp.json', 'dataset/a092_kp/S032C001P043R002A092_rgb_kp.json', 'dataset/a092_kp/S029C003P067R001A092_rgb_kp.json', 'dataset/a092_kp/S030C002P043R001A092_rgb_kp.json', 'dataset/a092_kp/S026C003P072R001A092_rgb_kp.json', 'dataset/a092_kp/S023C001P060R002A092_rgb_kp.json', 'dataset/a092_kp/S030C002P081R002A092_rgb_kp.json', 'dataset/a092_kp/S026C002P074R002A092_rgb_kp.json', 'dataset/a092_kp/S021C001P059R001A092_rgb_kp.json', 'dataset/a092_kp/S020C002P054R001A092_rgb_kp.json', 'dataset/a092_kp/S028C003P073R001A092_rgb_kp.json', 'dataset/a092_kp/S023C002P060R001A092_rgb_kp.json', 'dataset/a092_kp/S019C002P049R002A092_rgb_kp.json', 'dataset/a092_kp/S031C003P042R002A092_rgb_kp.json', 'dataset/a092_kp/S020C003P054R002A092_rgb_kp.json', 'dataset/a092_kp/S026C001P069R001A092_rgb_kp.json', 'dataset/a092_kp/S018C003P042R001A092_rgb_kp.json', 'dataset/a092_kp/S032C003P067R001A092_rgb_kp.json', 'dataset/a092_kp/S029C001P041R001A092_rgb_kp.json', 'dataset/a092_kp/S019C003P051R001A092_rgb_kp.json', 'dataset/a092_kp/S026C001P008R001A092_rgb_kp.json', 'dataset/a092_kp/S029C002P088R002A092_rgb_kp.json', 'dataset/a092_kp/S030C002P096R001A092_rgb_kp.json', 'dataset/a092_kp/S023C002P067R002A092_rgb_kp.json', 'dataset/a092_kp/S024C001P062R002A092_rgb_kp.json', 'dataset/a092_kp/S023C003P066R001A092_rgb_kp.json', 'dataset/a092_kp/S020C002P053R001A092_rgb_kp.json', 'dataset/a092_kp/S027C002P078R002A092_rgb_kp.json', 'dataset/a092_kp/S029C002P043R002A092_rgb_kp.json', 'dataset/a092_kp/S028C001P008R002A092_rgb_kp.json', 'dataset/a092_kp/S023C002P066R002A092_rgb_kp.json', 'dataset/a092_kp/S019C002P047R002A092_rgb_kp.json', 'dataset/a092_kp/S019C003P048R001A092_rgb_kp.json', 'dataset/a092_kp/S019C003P050R001A092_rgb_kp.json', 'dataset/a092_kp/S019C003P008R002A092_rgb_kp.json', 'dataset/a092_kp/S031C003P051R001A092_rgb_kp.json', 'dataset/a092_kp/S032C001P008R001A092_rgb_kp.json', 'dataset/a092_kp/S030C003P081R002A092_rgb_kp.json', 'dataset/a092_kp/S031C003P043R001A092_rgb_kp.json', 'dataset/a092_kp/S023C001P066R001A092_rgb_kp.json', 'dataset/a092_kp/S022C001P062R002A092_rgb_kp.json', 'dataset/a092_kp/S026C001P044R002A092_rgb_kp.json', 'dataset/a092_kp/S018C003P041R002A092_rgb_kp.json', 'dataset/a092_kp/S032C001P104R001A092_rgb_kp.json', 'dataset/a092_kp/S023C002P065R001A092_rgb_kp.json', 'dataset/a092_kp/S032C002P105R002A092_rgb_kp.json', 'dataset/a092_kp/S019C002P041R001A092_rgb_kp.json', 'dataset/a092_kp/S028C003P046R002A092_rgb_kp.json', 'dataset/a092_kp/S027C002P084R001A092_rgb_kp.json', 'dataset/a092_kp/S030C001P075R001A092_rgb_kp.json', 'dataset/a092_kp/S031C001P100R001A092_rgb_kp.json', 'dataset/a092_kp/S030C001P085R002A092_rgb_kp.json', 'dataset/a092_kp/S032C001P105R001A092_rgb_kp.json', 'dataset/a092_kp/S023C003P061R002A092_rgb_kp.json', 'dataset/a092_kp/S031C003P097R002A092_rgb_kp.json', 'dataset/a092_kp/S028C003P048R002A092_rgb_kp.json', 'dataset/a092_kp/S024C003P061R001A092_rgb_kp.json', 'dataset/a092_kp/S027C003P006R002A092_rgb_kp.json', 'dataset/a092_kp/S023C003P057R001A092_rgb_kp.json', 'dataset/a092_kp/S032C002P008R001A092_rgb_kp.json', 'dataset/a092_kp/S023C001P065R001A092_rgb_kp.json', 'dataset/a092_kp/S021C001P056R002A092_rgb_kp.json', 'dataset/a092_kp/S021C002P060R002A092_rgb_kp.json', 'dataset/a092_kp/S029C001P089R001A092_rgb_kp.json', 'dataset/a092_kp/S021C003P057R002A092_rgb_kp.json', 'dataset/a092_kp/S022C001P066R001A092_rgb_kp.json', 'dataset/a092_kp/S031C003P099R001A092_rgb_kp.json', 'dataset/a092_kp/S026C001P070R002A092_rgb_kp.json', 'dataset/a092_kp/S029C001P067R002A092_rgb_kp.json', 'dataset/a092_kp/S027C002P083R002A092_rgb_kp.json', 'dataset/a092_kp/S027C001P085R001A092_rgb_kp.json', 'dataset/a092_kp/S032C003P106R001A092_rgb_kp.json', 'dataset/a092_kp/S023C001P062R001A092_rgb_kp.json', 'dataset/a092_kp/S027C002P041R002A092_rgb_kp.json', 'dataset/a092_kp/S021C003P060R001A092_rgb_kp.json', 'dataset/a092_kp/S026C003P071R001A092_rgb_kp.json', 'dataset/a092_kp/S027C001P080R002A092_rgb_kp.json', 'dataset/a092_kp/S027C001P011R002A092_rgb_kp.json', 'dataset/a092_kp/S029C003P080R002A092_rgb_kp.json', 'dataset/a092_kp/S027C001P084R002A092_rgb_kp.json', 'dataset/a092_kp/S020C001P054R001A092_rgb_kp.json', 'dataset/a092_kp/S028C002P041R002A092_rgb_kp.json', 'dataset/a092_kp/S029C001P041R002A092_rgb_kp.json', 'dataset/a092_kp/S021C001P055R002A092_rgb_kp.json', 'dataset/a092_kp/S028C002P073R002A092_rgb_kp.json', 'dataset/a092_kp/S030C003P093R001A092_rgb_kp.json', 'dataset/a092_kp/S030C002P075R001A092_rgb_kp.json', 'dataset/a092_kp/S030C001P067R002A092_rgb_kp.json', 'dataset/a092_kp/S023C003P063R001A092_rgb_kp.json', 'dataset/a092_kp/S023C003P067R001A092_rgb_kp.json', 'dataset/a092_kp/S021C003P056R002A092_rgb_kp.json', 'dataset/a092_kp/S018C002P044R002A092_rgb_kp.json', 'dataset/a092_kp/S031C001P051R002A092_rgb_kp.json', 'dataset/a092_kp/S024C001P060R002A092_rgb_kp.json']\n"
     ]
    }
   ],
   "source": [
    "dir_100 = []\n",
    "for key in keys:\n",
    "    tmp_class_value = dir_by_class[key]\n",
    "    random_num = np.linspace(start=0, stop=len(tmp_class_value), num=100, endpoint=False)\n",
    "    for i in random_num:\n",
    "        dir_100.append(tmp_class_value[int(i)])\n",
    "print(dir_100)"
   ]
  },
  {
   "cell_type": "code",
   "execution_count": 89,
   "metadata": {},
   "outputs": [
    {
     "name": "stdout",
     "output_type": "stream",
     "text": [
      "dataset/a001_kp/S005C001P004R002A001_rgb_kp.json\n",
      "dataset/a001_kp/S006C003P015R001A001_rgb_kp.json\n",
      "dataset/a001_kp/S017C002P015R001A001_rgb_kp.json\n",
      "dataset/a001_kp/S017C002P003R002A001_rgb_kp.json\n",
      "dataset/a001_kp/S003C001P018R002A001_rgb_kp.json\n",
      "dataset/a001_kp/S003C002P017R002A001_rgb_kp.json\n",
      "dataset/a001_kp/S006C002P008R001A001_rgb_kp.json\n",
      "dataset/a001_kp/S014C001P027R002A001_rgb_kp.json\n",
      "dataset/a001_kp/S008C001P015R002A001_rgb_kp.json\n",
      "dataset/a001_kp/S011C003P017R002A001_rgb_kp.json\n",
      "dataset/a001_kp/S002C003P008R002A001_rgb_kp.json\n",
      "dataset/a001_kp/S008C003P008R001A001_rgb_kp.json\n",
      "dataset/a001_kp/S002C003P009R001A001_rgb_kp.json\n",
      "dataset/a001_kp/S013C002P025R001A001_rgb_kp.json\n",
      "dataset/a001_kp/S013C001P016R001A001_rgb_kp.json\n",
      "dataset/a001_kp/S006C001P019R001A001_rgb_kp.json\n",
      "dataset/a001_kp/S013C003P017R001A001_rgb_kp.json\n",
      "dataset/a001_kp/S014C002P039R002A001_rgb_kp.json\n",
      "dataset/a001_kp/S007C003P025R001A001_rgb_kp.json\n",
      "dataset/a001_kp/S007C002P007R001A001_rgb_kp.json\n",
      "dataset/a001_kp/S010C002P017R002A001_rgb_kp.json\n",
      "dataset/a001_kp/S017C003P016R002A001_rgb_kp.json\n",
      "dataset/a001_kp/S016C002P008R001A001_rgb_kp.json\n",
      "dataset/a001_kp/S010C001P008R001A001_rgb_kp.json\n",
      "dataset/a001_kp/S014C003P017R001A001_rgb_kp.json\n",
      "dataset/a001_kp/S008C003P034R001A001_rgb_kp.json\n",
      "dataset/a001_kp/S017C003P003R001A001_rgb_kp.json\n",
      "dataset/a001_kp/S005C001P016R001A001_rgb_kp.json\n",
      "dataset/a001_kp/S013C002P018R002A001_rgb_kp.json\n",
      "dataset/a001_kp/S007C002P001R002A001_rgb_kp.json\n",
      "dataset/a001_kp/S017C002P017R001A001_rgb_kp.json\n",
      "dataset/a001_kp/S002C001P013R001A001_rgb_kp.json\n",
      "dataset/a001_kp/S002C001P009R002A001_rgb_kp.json\n",
      "dataset/a001_kp/S017C002P008R001A001_rgb_kp.json\n",
      "dataset/a001_kp/S016C002P040R002A001_rgb_kp.json\n",
      "dataset/a001_kp/S016C003P021R001A001_rgb_kp.json\n",
      "dataset/a001_kp/S004C002P008R002A001_rgb_kp.json\n",
      "dataset/a001_kp/S006C002P017R001A001_rgb_kp.json\n",
      "dataset/a001_kp/S014C001P019R002A001_rgb_kp.json\n",
      "dataset/a001_kp/S002C003P012R001A001_rgb_kp.json\n",
      "dataset/a001_kp/S011C001P002R002A001_rgb_kp.json\n",
      "dataset/a001_kp/S002C002P008R002A001_rgb_kp.json\n",
      "dataset/a001_kp/S004C001P003R001A001_rgb_kp.json\n",
      "dataset/a001_kp/S014C003P039R002A001_rgb_kp.json\n",
      "dataset/a001_kp/S007C001P018R001A001_rgb_kp.json\n",
      "dataset/a001_kp/S016C003P007R001A001_rgb_kp.json\n",
      "dataset/a001_kp/S011C003P008R001A001_rgb_kp.json\n",
      "dataset/a001_kp/S012C002P008R001A001_rgb_kp.json\n",
      "dataset/a001_kp/S006C003P007R001A001_rgb_kp.json\n",
      "dataset/a001_kp/S013C003P025R001A001_rgb_kp.json\n",
      "dataset/a001_kp/S012C001P016R001A001_rgb_kp.json\n",
      "dataset/a001_kp/S003C003P008R002A001_rgb_kp.json\n",
      "dataset/a001_kp/S002C001P003R001A001_rgb_kp.json\n",
      "dataset/a001_kp/S003C001P001R002A001_rgb_kp.json\n",
      "dataset/a001_kp/S016C002P007R002A001_rgb_kp.json\n",
      "dataset/a001_kp/S002C001P010R001A001_rgb_kp.json\n",
      "dataset/a001_kp/S012C003P007R001A001_rgb_kp.json\n",
      "dataset/a001_kp/S011C001P008R001A001_rgb_kp.json\n",
      "dataset/a001_kp/S009C001P008R001A001_rgb_kp.json\n",
      "dataset/a001_kp/S009C001P019R001A001_rgb_kp.json\n",
      "dataset/a001_kp/S017C002P016R001A001_rgb_kp.json\n",
      "dataset/a001_kp/S010C003P008R002A001_rgb_kp.json\n",
      "dataset/a001_kp/S010C001P025R002A001_rgb_kp.json\n",
      "dataset/a001_kp/S008C002P032R002A001_rgb_kp.json\n",
      "dataset/a001_kp/S003C003P002R001A001_rgb_kp.json\n",
      "dataset/a001_kp/S001C001P005R002A001_rgb_kp.json\n",
      "dataset/a001_kp/S007C001P007R002A001_rgb_kp.json\n",
      "dataset/a001_kp/S012C001P018R001A001_rgb_kp.json\n",
      "dataset/a001_kp/S015C002P016R002A001_rgb_kp.json\n",
      "dataset/a001_kp/S009C001P025R001A001_rgb_kp.json\n",
      "dataset/a001_kp/S011C003P025R001A001_rgb_kp.json\n",
      "dataset/a001_kp/S004C002P007R001A001_rgb_kp.json\n",
      "dataset/a001_kp/S016C002P025R002A001_rgb_kp.json\n",
      "dataset/a001_kp/S010C002P017R001A001_rgb_kp.json\n",
      "dataset/a001_kp/S004C001P008R001A001_rgb_kp.json\n",
      "dataset/a001_kp/S001C001P004R001A001_rgb_kp.json\n",
      "dataset/a001_kp/S001C003P002R001A001_rgb_kp.json\n",
      "dataset/a001_kp/S008C001P030R001A001_rgb_kp.json\n",
      "dataset/a001_kp/S017C002P009R001A001_rgb_kp.json\n",
      "dataset/a001_kp/S002C002P012R001A001_rgb_kp.json\n",
      "dataset/a001_kp/S008C002P035R001A001_rgb_kp.json\n",
      "dataset/a001_kp/S011C002P007R001A001_rgb_kp.json\n",
      "dataset/a001_kp/S014C003P025R002A001_rgb_kp.json\n",
      "dataset/a001_kp/S002C002P014R002A001_rgb_kp.json\n",
      "dataset/a001_kp/S009C003P015R002A001_rgb_kp.json\n",
      "dataset/a001_kp/S001C002P005R002A001_rgb_kp.json\n",
      "dataset/a001_kp/S001C002P008R002A001_rgb_kp.json\n",
      "dataset/a001_kp/S007C003P008R002A001_rgb_kp.json\n",
      "dataset/a001_kp/S007C001P027R001A001_rgb_kp.json\n",
      "dataset/a001_kp/S005C003P004R002A001_rgb_kp.json\n",
      "dataset/a001_kp/S001C003P007R002A001_rgb_kp.json\n",
      "dataset/a001_kp/S012C001P027R001A001_rgb_kp.json\n",
      "dataset/a001_kp/S015C003P007R002A001_rgb_kp.json\n",
      "dataset/a001_kp/S014C003P019R002A001_rgb_kp.json\n",
      "dataset/a001_kp/S003C001P002R001A001_rgb_kp.json\n",
      "dataset/a001_kp/S002C003P014R001A001_rgb_kp.json\n",
      "dataset/a001_kp/S013C001P019R001A001_rgb_kp.json\n",
      "dataset/a001_kp/S016C003P040R002A001_rgb_kp.json\n",
      "dataset/a001_kp/S003C002P015R002A001_rgb_kp.json\n",
      "dataset/a001_kp/S012C002P017R001A001_rgb_kp.json\n"
     ]
    }
   ],
   "source": [
    "for i in range(len(dir_100)):\n",
    "    if 'a001_kp' in dir_100[i]:\n",
    "        print(dir_100[i])"
   ]
  },
  {
   "cell_type": "code",
   "execution_count": null,
   "metadata": {},
   "outputs": [],
   "source": [
    "print(total_dir[0])"
   ]
  },
  {
   "cell_type": "code",
   "execution_count": null,
   "metadata": {},
   "outputs": [],
   "source": [
    "data_dir = 'dataset'\n",
    "total_dir,_,_ = load_data_dir(data_dir)"
   ]
  },
  {
   "cell_type": "code",
   "execution_count": null,
   "metadata": {},
   "outputs": [],
   "source": [
    "import tqdm"
   ]
  },
  {
   "cell_type": "code",
   "execution_count": 98,
   "metadata": {},
   "outputs": [
    {
     "name": "stderr",
     "output_type": "stream",
     "text": [
      "100%|██████████| 7300/7300 [02:10<00:00, 55.78it/s] \n"
     ]
    }
   ],
   "source": [
    "for i in tqdm.tqdm(range(len(dir_100))):\n",
    "    extracted = extract_keypoints_from_a_json(dir_100[i])\n",
    "    adjusted = adjusting_frame(extracted)\n",
    "    # heatmap = compute_heatmap(extracted)\n",
    "    # flow = compute_optical_flow(extracted,heatmap)\n",
    "    # json_dic = {'file_name':total_dir[i],\n",
    "    #             'anchor':extracted.tolist(),\n",
    "    #             'heatmap':heatmap.tolist(),\n",
    "    #             'flow':flow.tolist()}\n",
    "    json_dic = {'annotation':adjusted.tolist()}\n",
    "    save_file_path = dir_100[i].replace('dataset','adjusted_100_dataset')\n",
    "    if len(adjusted) < 33:\n",
    "        print(dir_100[i])\n",
    "    with open(save_file_path, 'w') as f:\n",
    "        json.dump(json_dic, f)"
   ]
  },
  {
   "cell_type": "code",
   "execution_count": null,
   "metadata": {},
   "outputs": [],
   "source": [
    "adjusted_data_dir = 'adjusted_dataset'"
   ]
  },
  {
   "cell_type": "code",
   "execution_count": null,
   "metadata": {},
   "outputs": [],
   "source": [
    "a_total_dir,_,_ = load_data_dir(adjusted_data_dir)"
   ]
  },
  {
   "cell_type": "code",
   "execution_count": null,
   "metadata": {},
   "outputs": [],
   "source": [
    "def extract_adjusted_kps_from_a_json(origin_vid_dir):\n",
    "    with open(origin_vid_dir, \"r\") as f:\n",
    "        origin_keypoints = json.load(f)\n",
    "\n",
    "    return np.array(origin_keypoints['annotation'])"
   ]
  },
  {
   "cell_type": "code",
   "execution_count": null,
   "metadata": {},
   "outputs": [],
   "source": [
    "with open(a_total_dir[0], \"r\") as f:\n",
    "    origin_keypoints = json.load(f)\n",
    "\n",
    "origin_keypoints_anno = np.array(origin_keypoints['annotation'])"
   ]
  },
  {
   "cell_type": "code",
   "execution_count": null,
   "metadata": {},
   "outputs": [],
   "source": [
    "print(origin_keypoints_anno.shape)"
   ]
  },
  {
   "cell_type": "code",
   "execution_count": null,
   "metadata": {},
   "outputs": [],
   "source": [
    "extracted = extract_keypoints_from_a_json(total_dir[0])"
   ]
  },
  {
   "cell_type": "code",
   "execution_count": null,
   "metadata": {},
   "outputs": [],
   "source": [
    "print(extracted.shape)"
   ]
  },
  {
   "cell_type": "code",
   "execution_count": null,
   "metadata": {},
   "outputs": [],
   "source": [
    "adjusted = adjusting_frame(extracted)"
   ]
  },
  {
   "cell_type": "code",
   "execution_count": null,
   "metadata": {},
   "outputs": [],
   "source": [
    "json_dic = {'annotation':adjusted.tolist()}"
   ]
  },
  {
   "cell_type": "code",
   "execution_count": null,
   "metadata": {},
   "outputs": [],
   "source": [
    "print(json_dic)"
   ]
  },
  {
   "cell_type": "code",
   "execution_count": null,
   "metadata": {},
   "outputs": [],
   "source": [
    "save_file_path = total_dir[0].replace('dataset','adjusted_dataset')"
   ]
  },
  {
   "cell_type": "code",
   "execution_count": null,
   "metadata": {},
   "outputs": [],
   "source": [
    "print(save_file_path)"
   ]
  },
  {
   "cell_type": "code",
   "execution_count": null,
   "metadata": {},
   "outputs": [],
   "source": [
    "with open(save_file_path, 'w') as f:\n",
    "    json.dump(json_dic, f)"
   ]
  },
  {
   "cell_type": "code",
   "execution_count": null,
   "metadata": {},
   "outputs": [],
   "source": [
    "print(total_dir[0].split('/S'))"
   ]
  },
  {
   "cell_type": "code",
   "execution_count": 97,
   "metadata": {},
   "outputs": [],
   "source": [
    "for i in range(len(total_dir)):\n",
    "    folder_dir = total_dir[i].split('/S')[0].replace('dataset','adjusted_100_dataset')\n",
    "    try:\n",
    "        os.makedirs(folder_dir)\n",
    "    except FileExistsError:\n",
    "        pass"
   ]
  },
  {
   "cell_type": "code",
   "execution_count": null,
   "metadata": {},
   "outputs": [],
   "source": [
    "def compute_heatmap(keypoints, std=5, rate=0.25):\n",
    "    points = keypoints.reshape(-1,2) * rate\n",
    "\n",
    "    x_points = points[:,[0]]\n",
    "    y_points = points[:,[1]]\n",
    "\n",
    "    # H = np.tile(np.arange(h), h).reshape(h,h).T\n",
    "    # W = np.tile(np.arange(reduced_w), reduced_w).reshape(reduced_w,reduced_w)\n",
    "    # H = np.tile(np.arange(h)[:, None], (h, w))\n",
    "    # W = np.tile(np.arange(w)[None, :], (h, w))\n",
    "    H = np.tile(np.arange(270)[:, None], 480)\n",
    "    W = np.tile(np.arange(480)[:, None], 270).T\n",
    "\n",
    "    heatmap_list = []\n",
    "    for i in range(len(x_points)):\n",
    "        x = x_points[i]\n",
    "        y = y_points[i]\n",
    "        # x_gauss = 1/(np.sqrt(2*np.pi)*std) * np.exp(-0.5*((H-x)/std)**2)\n",
    "        # y_gauss = 1/(np.sqrt(2*np.pi)*std) * np.exp(-0.5*((W-y)/std)**2)\n",
    "        y_gauss = np.exp(-0.5*((H-x)/std)**2)\n",
    "        x_gauss = np.exp(-0.5*((W-y)/std)**2)\n",
    "        frame = (x_gauss * y_gauss)\n",
    "        frame = (frame / frame.max()) * 2 - 1\n",
    "        heatmap_list.append(frame)\n",
    "    heatmaps = np.array(heatmap_list).reshape(-1, 17, 270, 480)\n",
    "\n",
    "    return heatmaps"
   ]
  },
  {
   "cell_type": "code",
   "execution_count": null,
   "metadata": {},
   "outputs": [],
   "source": [
    "heatmap = compute_heatmap(extracted)"
   ]
  },
  {
   "cell_type": "code",
   "execution_count": null,
   "metadata": {},
   "outputs": [],
   "source": [
    "H = np.tile(np.arange(270)[:, None], 480)\n",
    "print(H)"
   ]
  },
  {
   "cell_type": "code",
   "execution_count": null,
   "metadata": {},
   "outputs": [],
   "source": []
  },
  {
   "cell_type": "code",
   "execution_count": null,
   "metadata": {},
   "outputs": [],
   "source": [
    "print(heatmap[0][0].mean())"
   ]
  },
  {
   "cell_type": "code",
   "execution_count": null,
   "metadata": {},
   "outputs": [],
   "source": [
    "def compute_optical_flow(keypoints, heatmaps, rate=0.25):\n",
    "        reduced_keypoints = keypoints * rate\n",
    "\n",
    "        # flow_x = []\n",
    "        # flow_y = []\n",
    "        # for i in range(1, len(reduced_keypoints)):\n",
    "        #     flow_x.append((reduced_keypoints[i] - reduced_keypoints[i-1])[:,[0]])\n",
    "        #     flow_y.append((reduced_keypoints[i] - reduced_keypoints[i-1])[:,[1]])\n",
    "        flow = reduced_keypoints[1:] - reduced_keypoints[:-1]\n",
    "        # flow_x = flow[:,:,[0]]\n",
    "        # flow_y = flow[:,:,[1]]\n",
    "        # hw_zeros = torch.zeros(size=(self.h, self.w)) # 빈 판\n",
    "        # flowmap = torch.zeros((len(flow), 2, self.h, self.w))\n",
    "        # for i in range(len(flow)):\n",
    "        #     flowmap[i][0] = flowmap[i][0] + flow[i][0]\n",
    "        #     flowmap[i][1] = flowmap[i][1] + flow[i][1]\n",
    "\n",
    "        # heatmaps -> (num_of_frames, num_of_keypoints, H, W)\n",
    "        # flow -> (num_of_frames - 1, num_of_keypoints, 2)\n",
    "\n",
    "        # tmp_x = ((hw_zeros + flow_x[i-1][j]) / 270) * 2 - 1\n",
    "        # tmp_y = ((hw_zeros + flow_y[i-1][j]) / 480) * 2 - 1\n",
    "        flow = np.stack([\n",
    "            (flow[..., 0] / 270) * 2 - 1,\n",
    "            (flow[..., 1] / 480) * 2 - 1\n",
    "        ], axis=-1)\n",
    "\n",
    "        # opt_flow_x.append(tmp_x * heatmap[j])\n",
    "        # opt_flow_y.append(tmp_y * heatmap[j])\n",
    "        opt_flow = heatmaps[1:, :, :, :, None] * flow[:, :, None, None, :] # (num_of_frames, num_of_keypoints, H, W, 2)\n",
    "        F, K, H, W, _ = opt_flow.shape\n",
    "        opt_flow = opt_flow.transpose(0, 1, 4, 2, 3).reshape(-1, K*2, H, W)\n",
    "        return opt_flow"
   ]
  },
  {
   "cell_type": "code",
   "execution_count": null,
   "metadata": {},
   "outputs": [],
   "source": [
    "heatmap = compute_heatmap(adjusted)\n",
    "flow = compute_optical_flow(adjusted,heatmap)"
   ]
  },
  {
   "cell_type": "code",
   "execution_count": null,
   "metadata": {},
   "outputs": [],
   "source": [
    "print(heatmap.shape)"
   ]
  },
  {
   "cell_type": "code",
   "execution_count": null,
   "metadata": {},
   "outputs": [],
   "source": [
    "print(flow.shape)"
   ]
  },
  {
   "cell_type": "code",
   "execution_count": null,
   "metadata": {},
   "outputs": [],
   "source": [
    "a = -1\n",
    "print(max(a,0))"
   ]
  },
  {
   "cell_type": "code",
   "execution_count": null,
   "metadata": {},
   "outputs": [],
   "source": [
    "import numpy as np\n",
    "import pathlib\n",
    "import os\n",
    "import json\n",
    "import math"
   ]
  },
  {
   "cell_type": "code",
   "execution_count": null,
   "metadata": {},
   "outputs": [],
   "source": [
    "data_dir = 'adjusted_dataset'"
   ]
  },
  {
   "cell_type": "code",
   "execution_count": null,
   "metadata": {},
   "outputs": [],
   "source": [
    "def load_data_dir(data_dir):\n",
    "    all_data_dir_list = []\n",
    "    action_dir_dic = {}\n",
    "    label_dic = {}\n",
    "\n",
    "    for file_path in pathlib.Path(data_dir).glob(\"*/*.json\"):\n",
    "        action = file_path.name.split('_')[0][file_path.name.split('_')[0].find('A'):]\n",
    "        all_data_dir_list.append(str(file_path))\n",
    "        if action in action_dir_dic.keys():\n",
    "            action_dir_dic[action].append(str(file_path))\n",
    "        else:\n",
    "            action_dir_dic[action] = [str(file_path)]\n",
    "    \n",
    "    for i, key in enumerate(action_dir_dic.keys()):\n",
    "        label_dic[key] = i\n",
    "        \n",
    "    # for act_path in os.listdir(data_dir):\n",
    "    #     if os.path.isdir(os.path.join(data_dir, act_path)):\n",
    "    #         for file_path in os.listdir(os.path.join(data_dir, act_path)):\n",
    "    #             if '.json' in file_path:\n",
    "    #                 whole_file_path = os.path.join(data_dir, act_path, file_path)\n",
    "    #                 action = file_path.split('_')[0][file_path.split('_')[0].find('A'):]\n",
    "    #                 all_data_dir_list.append(whole_file_path)\n",
    "    #                 if action in action_dir_dic.keys():\n",
    "    #                     action_dir_dic[action].append(whole_file_path)\n",
    "    #                 else:\n",
    "    #                     action_dir_dic[action] = [whole_file_path]\n",
    "\n",
    "    return all_data_dir_list, action_dir_dic, label_dic"
   ]
  },
  {
   "cell_type": "code",
   "execution_count": null,
   "metadata": {},
   "outputs": [],
   "source": [
    "def extract_adjusted_kps_from_a_json(origin_vid_dir):\n",
    "    with open(origin_vid_dir, \"r\") as f:\n",
    "        origin_keypoints = json.load(f)\n",
    "\n",
    "    return np.array(origin_keypoints['annotation'])"
   ]
  },
  {
   "cell_type": "code",
   "execution_count": null,
   "metadata": {},
   "outputs": [],
   "source": [
    "def compute_heatmap(keypoints, std=5, rate=0.25):\n",
    "    h = 270\n",
    "    w = 480\n",
    "    # points = keypoints.reshape(-1,2) * rate\n",
    "\n",
    "    # x_points = points[:,[0]]\n",
    "    # y_points = points[:,[1]]\n",
    "\n",
    "    # y_points = (keypoints[:, :,[0]] * rate).reshape(-1,1,1)\n",
    "    # x_points = (keypoints[:, :,[1]] * rate).reshape(-1,1,1)\n",
    "    y_points = (keypoints[:, :,[0]] * rate).reshape(-1,1) # 561, 1\n",
    "    x_points = (keypoints[:, :,[1]] * rate).reshape(-1,1) # 561, 1\n",
    "\n",
    "    # H = np.tile(np.arange(h), h).reshape(h,h).T\n",
    "    # W = np.tile(np.arange(reduced_w), reduced_w).reshape(reduced_w,reduced_w)\n",
    "    # H = np.tile(np.arange(h)[:, None], (h, w))\n",
    "    # W = np.tile(np.arange(w)[None, :], (h, w))\n",
    "    # H = np.tile(np.arange(h)[:, None], w)\n",
    "    # W = np.tile(np.arange(w)[:, None], h).T\n",
    "    \n",
    "    # H = np.repeat(np.tile(np.arange(h)[:, None], w)[None,:,:], 33*17, axis=0)\n",
    "    # W = np.repeat(np.tile(np.arange(w)[:, None], h).T[None,:,:], 33*17, axis=0)\n",
    "    H = np.arange(h)[None, :] # 1, 270\n",
    "    W = np.arange(w)[None, :] # 1, 480\n",
    "\n",
    "    # H - y_points: (561, 270)\n",
    "    log_y_gauss = -0.5 * ((H - y_points)/std)**2 # (561, 270)\n",
    "    log_x_gauss = -0.5 * ((W - x_points)/std)**2 # (561, 480)\n",
    "    log_gauss = log_x_gauss[:, None, :] + log_y_gauss[:, :, None]\n",
    "    gauss = np.exp(log_gauss)\n",
    "    heatmaps = (gauss / gauss.max(axis=(-1, -2), keepdims=True)) * 2 - 1\n",
    "\n",
    "    # tmp = np.exp(-0.5*((W-x_points)/std)**2)\n",
    "    # tmp_y_gauss = np.exp(-0.5*((H-y_points)/std)**2)\n",
    "    # tmp_x_gauss = np.exp(-0.5*((W-x_points)/std)**2)\n",
    "\n",
    "    # heatmaps = tmp_x_gauss * tmp_y_gauss\n",
    "    # print(tmp_y_gauss.shape)\n",
    "    # print(tmp_y_gauss[0][0])\n",
    "    # print('x_points: ', x_points[0][0])\n",
    "    # print(tmp_frame.shape)\n",
    "    # print(tmp_frame[0])\n",
    "    # heatmap_list = []\n",
    "    # for i in range(len(x_points)):\n",
    "    #     x = x_points[i]\n",
    "    #     y = y_points[i]\n",
    "    #     # x_gauss = 1/(np.sqrt(2*np.pi)*std) * np.exp(-0.5*((H-x)/std)**2)\n",
    "    #     # y_gauss = 1/(np.sqrt(2*np.pi)*std) * np.exp(-0.5*((W-y)/std)**2)\n",
    "    #     y_gauss = np.exp(-0.5*((H-y)/std)**2)\n",
    "    #     x_gauss = np.exp(-0.5*((W-x)/std)**2)\n",
    "    #     frame = (x_gauss * y_gauss)\n",
    "    #     # print(frame.max())\n",
    "    #     frame = (frame / frame.max()) * 2 - 1\n",
    "    #     heatmap_list.append(frame)\n",
    "    heatmaps = heatmaps.reshape(-1, 17, h, w)\n",
    "\n",
    "    return heatmaps"
   ]
  },
  {
   "cell_type": "code",
   "execution_count": null,
   "metadata": {},
   "outputs": [],
   "source": [
    "# def compute_heatmap(keypoints, std=5, rate=0.25):\n",
    "#     h = 270\n",
    "#     w = 480\n",
    "#     # points = keypoints.reshape(-1,2) * rate\n",
    "\n",
    "#     # x_points = points[:,[0]]\n",
    "#     # y_points = points[:,[1]]\n",
    "\n",
    "#     y_points = (keypoints[:, :,[0]] * rate).reshape(-1,1,1)\n",
    "#     x_points = (keypoints[:, :,[1]] * rate).reshape(-1,1,1)\n",
    "#     # y_points = (keypoints[:, :,[0]] * rate).reshape(-1,1) # 561, 1\n",
    "#     # x_points = (keypoints[:, :,[1]] * rate).reshape(-1,1) # 561, 1\n",
    "\n",
    "#     # H = np.tile(np.arange(h), h).reshape(h,h).T\n",
    "#     # W = np.tile(np.arange(reduced_w), reduced_w).reshape(reduced_w,reduced_w)\n",
    "#     # H = np.tile(np.arange(h)[:, None], (h, w))\n",
    "#     # W = np.tile(np.arange(w)[None, :], (h, w))\n",
    "#     # H = np.tile(np.arange(h)[:, None], w)\n",
    "#     # W = np.tile(np.arange(w)[:, None], h).T\n",
    "    \n",
    "#     H = np.repeat(np.tile(np.arange(h)[:, None], w)[None,:,:], 33*17, axis=0)\n",
    "#     W = np.repeat(np.tile(np.arange(w)[:, None], h).T[None,:,:], 33*17, axis=0)\n",
    "#     # H = np.arange(h)[None, :] # 1, 270\n",
    "#     # W = np.arange(w)[None, :] # 1, 480\n",
    "\n",
    "#     # H - y_points: (561, 270)\n",
    "#     # log_y_gauss = -0.5 * ((H - y_points)/std)**2 # (561, 270)\n",
    "#     # log_x_gauss = -0.5 * ((W - x_points)/std)**2 # (561, 480)\n",
    "#     # log_gauss = log_x_gauss[:, None, :] + log_y_gauss[:, :, None]\n",
    "#     # gauss = np.exp(log_gauss)\n",
    "#     # heatmaps = gauss / gauss.sum()\n",
    "\n",
    "#     tmp = np.exp(-0.5*((W-x_points)/std)**2)\n",
    "#     tmp_y_gauss = np.exp(-0.5*((H-y_points)/std)**2)\n",
    "#     tmp_x_gauss = np.exp(-0.5*((W-x_points)/std)**2)\n",
    "\n",
    "#     heatmaps = tmp_x_gauss * tmp_y_gauss\n",
    "#     # print(tmp_y_gauss.shape)\n",
    "#     # print(tmp_y_gauss[0][0])\n",
    "#     # print('x_points: ', x_points[0][0])\n",
    "#     # print(tmp_frame.shape)\n",
    "#     # print(tmp_frame[0])\n",
    "#     # heatmap_list = []\n",
    "#     # for i in range(len(x_points)):\n",
    "#     #     x = x_points[i]\n",
    "#     #     y = y_points[i]\n",
    "#     #     # x_gauss = 1/(np.sqrt(2*np.pi)*std) * np.exp(-0.5*((H-x)/std)**2)\n",
    "#     #     # y_gauss = 1/(np.sqrt(2*np.pi)*std) * np.exp(-0.5*((W-y)/std)**2)\n",
    "#     #     y_gauss = np.exp(-0.5*((H-y)/std)**2)\n",
    "#     #     x_gauss = np.exp(-0.5*((W-x)/std)**2)\n",
    "#     #     frame = (x_gauss * y_gauss)\n",
    "#     #     # print(frame.max())\n",
    "#     #     frame = (frame / frame.max()) * 2 - 1\n",
    "#     #     heatmap_list.append(frame)\n",
    "    # heatmaps = np.array(heatmap_list).reshape(-1, 17, h, w)\n",
    "\n",
    "#     return heatmaps"
   ]
  },
  {
   "cell_type": "code",
   "execution_count": null,
   "metadata": {},
   "outputs": [],
   "source": [
    "data = load_data_dir(data_dir)"
   ]
  },
  {
   "cell_type": "code",
   "execution_count": null,
   "metadata": {},
   "outputs": [],
   "source": [
    "all_data_dir = data[0]"
   ]
  },
  {
   "cell_type": "code",
   "execution_count": null,
   "metadata": {},
   "outputs": [],
   "source": [
    "one_data_dir = all_data_dir[0]"
   ]
  },
  {
   "cell_type": "code",
   "execution_count": null,
   "metadata": {},
   "outputs": [],
   "source": [
    "print(one_data_dir)"
   ]
  },
  {
   "cell_type": "code",
   "execution_count": null,
   "metadata": {},
   "outputs": [],
   "source": [
    "extracted = extract_adjusted_kps_from_a_json(one_data_dir)\n",
    "print(extracted.shape)"
   ]
  },
  {
   "cell_type": "code",
   "execution_count": null,
   "metadata": {},
   "outputs": [],
   "source": [
    "heatmap = compute_heatmap(extracted)\n",
    "# print(heatmap.shape)\n",
    "# print(heatmap[0].min())"
   ]
  },
  {
   "cell_type": "code",
   "execution_count": null,
   "metadata": {},
   "outputs": [],
   "source": [
    "heatmap = compute_heatmap(extracted)\n",
    "# print(heatmap.shape)\n",
    "# print(heatmap[0].min())"
   ]
  },
  {
   "cell_type": "code",
   "execution_count": null,
   "metadata": {},
   "outputs": [],
   "source": [
    "heatmap.shape"
   ]
  },
  {
   "cell_type": "code",
   "execution_count": null,
   "metadata": {},
   "outputs": [],
   "source": [
    "extracted[0][0] * 0.25"
   ]
  },
  {
   "cell_type": "code",
   "execution_count": null,
   "metadata": {},
   "outputs": [],
   "source": [
    "import matplotlib.pyplot as plt\n",
    "plt.imshow(heatmap[0,0,:,:])"
   ]
  },
  {
   "cell_type": "code",
   "execution_count": null,
   "metadata": {},
   "outputs": [],
   "source": [
    "import numpy as np\n",
    "\n",
    "def compute_heatmap_test(keypoints, std=5, rate=0.25):\n",
    "    h = 270\n",
    "    w = 480\n",
    "    # points = keypoints.reshape(-1, 2) * rate\n",
    "\n",
    "    y_points = keypoints[:, :, 0].reshape(-1, 1, 1, 1) * rate\n",
    "    x_points = keypoints[:, :, 1].reshape(-1, 1, 1, 1) * rate\n",
    "\n",
    "    H = np.arange(h).reshape(h, 1, 1)\n",
    "    W = np.arange(w).reshape(1, w, 1)\n",
    "\n",
    "    y_gauss = np.exp(-0.5 * ((H - y_points) / std) ** 2)\n",
    "    x_gauss = np.exp(-0.5 * ((W - x_points) / std) ** 2)\n",
    "\n",
    "    frames = y_gauss * x_gauss\n",
    "    print(frames.shape)\n",
    "    print(frames[0])\n",
    "    # 최대값이 0인 경우를 방지하기 위해 최소값을 설정\n",
    "    max_values = frames.max(axis=(0, 1), keepdims=True)\n",
    "    max_values[max_values == 0] = 1\n",
    "\n",
    "    frames = (frames / max_values) * 2 - 1\n",
    "\n",
    "    heatmaps = frames.reshape(-1, 17, h, w)\n",
    "\n",
    "    return heatmaps\n"
   ]
  },
  {
   "cell_type": "code",
   "execution_count": null,
   "metadata": {},
   "outputs": [],
   "source": [
    "heatmap_test = compute_heatmap_test(extracted)\n",
    "# print(heatmap_test.shape)\n",
    "# print(heatmap_test[0].min())"
   ]
  },
  {
   "cell_type": "code",
   "execution_count": null,
   "metadata": {},
   "outputs": [],
   "source": [
    "a = np.array([i+1 for i in range(24)]).reshape(3,2,4)\n",
    "b = np.array([1,2,3]).reshape(3,1,1)\n",
    "print(a)\n",
    "print(b)"
   ]
  },
  {
   "cell_type": "code",
   "execution_count": null,
   "metadata": {},
   "outputs": [],
   "source": [
    "print(a-b)"
   ]
  },
  {
   "cell_type": "code",
   "execution_count": null,
   "metadata": {},
   "outputs": [],
   "source": [
    "H = np.tile(np.arange(270)[:, None], 480)\n",
    "W = np.tile(np.arange(480)[:, None], 270).T"
   ]
  },
  {
   "cell_type": "code",
   "execution_count": null,
   "metadata": {},
   "outputs": [],
   "source": [
    "# test = np.tile(np.tile(np.arange(270)[:, None], 480)[:,:, None], 33*17)\n",
    "# test = np.tile(np.arange(270)[None, :, None], (480,33*17))\n",
    "test = np.repeat(np.tile(np.arange(270)[:, None], 480)[:,:,None],33*17, axis=2)"
   ]
  },
  {
   "cell_type": "code",
   "execution_count": null,
   "metadata": {},
   "outputs": [],
   "source": [
    "print(test.shape)"
   ]
  },
  {
   "cell_type": "code",
   "execution_count": null,
   "metadata": {},
   "outputs": [],
   "source": [
    "print(test[:,:,1])"
   ]
  },
  {
   "cell_type": "code",
   "execution_count": null,
   "metadata": {},
   "outputs": [],
   "source": [
    "# x = (33,17,1).reshape(1,1,-1)"
   ]
  },
  {
   "cell_type": "markdown",
   "metadata": {},
   "source": [
    "frame matching loss"
   ]
  },
  {
   "cell_type": "code",
   "execution_count": 17,
   "metadata": {},
   "outputs": [],
   "source": [
    "from tslearn.metrics import dtw_path, dtw"
   ]
  },
  {
   "cell_type": "code",
   "execution_count": 22,
   "metadata": {},
   "outputs": [],
   "source": [
    "from utils.mydataset import MyDataset\n",
    "from model.networks import Encoder, Decoder\n",
    "import torch\n",
    "import torch.nn as nn\n",
    "from torch.utils.data import DataLoader\n",
    "from copy import deepcopy\n",
    "import sys"
   ]
  },
  {
   "cell_type": "code",
   "execution_count": 3,
   "metadata": {},
   "outputs": [],
   "source": [
    "data_dir = 'adjusted_100_dataset'\n",
    "batch = 3\n",
    "dataset = MyDataset(data_dir, 1)\n",
    "# train_loader = DataLoader(dataset, batch)"
   ]
  },
  {
   "cell_type": "code",
   "execution_count": 4,
   "metadata": {},
   "outputs": [],
   "source": [
    "encoder = Encoder()\n",
    "sp_encoder = deepcopy(encoder)\n",
    "decoder = Decoder()\n",
    "mse = nn.MSELoss()\n",
    "cE = nn.CrossEntropyLoss()\n",
    "optimizer = torch.optim.Adam([{'params':encoder.parameters(),'lr':0.001},\n",
    "                              {'params':decoder.parameters(),'lr':0.001}])"
   ]
  },
  {
   "cell_type": "code",
   "execution_count": 5,
   "metadata": {},
   "outputs": [
    {
     "name": "stdout",
     "output_type": "stream",
     "text": [
      "(1, 33, 17, 2)\n",
      "dict_keys(['anchor', 'anchor_heatmap', 'anchor_flow', 'semi_positives', 'sp_heatmap', 'sp_flow', 'class'])\n"
     ]
    }
   ],
   "source": [
    "data = dataset[13]\n",
    "print(data.keys())"
   ]
  },
  {
   "cell_type": "code",
   "execution_count": 6,
   "metadata": {},
   "outputs": [
    {
     "name": "stdout",
     "output_type": "stream",
     "text": [
      "torch.Size([32, 17, 2])\n",
      "tensor(0.6255)\n",
      "tensor(-0.1248)\n",
      "torch.Size([32, 17, 200, 100])\n",
      "tensor(0.9999)\n",
      "tensor(-1.)\n",
      "torch.Size([32, 34, 200, 100])\n",
      "tensor(1.0255)\n",
      "tensor(-1.0186)\n",
      "torch.Size([1, 32, 17, 2])\n",
      "tensor(0.7569)\n",
      "tensor(-0.1932)\n",
      "torch.Size([1, 32, 17, 200, 100])\n",
      "tensor(0.9996)\n",
      "tensor(-1.)\n",
      "torch.Size([1, 32, 34, 200, 100])\n",
      "tensor(1.0746)\n",
      "tensor(-1.0537)\n",
      "tensor(0)\n"
     ]
    }
   ],
   "source": [
    "for key in data.keys():\n",
    "    if key == 'class':\n",
    "        print(data[key])\n",
    "    else:\n",
    "        print(data[key].shape)\n",
    "        print(data[key].max())\n",
    "        print(data[key].min())"
   ]
  },
  {
   "cell_type": "code",
   "execution_count": null,
   "metadata": {},
   "outputs": [],
   "source": []
  },
  {
   "cell_type": "code",
   "execution_count": 7,
   "metadata": {},
   "outputs": [],
   "source": [
    "h_input = data['anchor_heatmap'][None,...]\n",
    "f_input = data['anchor_flow'][None,...]"
   ]
  },
  {
   "cell_type": "code",
   "execution_count": 8,
   "metadata": {},
   "outputs": [],
   "source": [
    "h_sp_input = data['sp_heatmap'][None,...]\n",
    "f_sp_input = data['sp_flow'][None,...]"
   ]
  },
  {
   "cell_type": "code",
   "execution_count": 9,
   "metadata": {},
   "outputs": [
    {
     "name": "stdout",
     "output_type": "stream",
     "text": [
      "torch.Size([1, 1, 32, 17, 200, 100])\n"
     ]
    }
   ],
   "source": [
    "print(h_sp_input.shape)"
   ]
  },
  {
   "cell_type": "code",
   "execution_count": 10,
   "metadata": {},
   "outputs": [],
   "source": [
    "motion_feature = encoder(h_input, f_input)\n",
    "motion_sp_feature = sp_encoder(h_sp_input, f_sp_input)"
   ]
  },
  {
   "cell_type": "code",
   "execution_count": 59,
   "metadata": {},
   "outputs": [
    {
     "name": "stdout",
     "output_type": "stream",
     "text": [
      "torch.Size([1, 32, 73])\n",
      "torch.Size([1, 32, 73])\n"
     ]
    }
   ],
   "source": [
    "print(motion_feature.shape)\n",
    "print(motion_sp_feature.shape)"
   ]
  },
  {
   "cell_type": "code",
   "execution_count": 26,
   "metadata": {},
   "outputs": [],
   "source": [
    "# dtw_test = dtw_path(motion_feature.detach().squeeze(), motion_sp_feature.detach().squeeze())\n",
    "dtw_test = dtw_path(motion_feature.squeeze(), motion_sp_feature.squeeze())\n",
    "# dtw_test = dtw(motion_sp_feature.squeeze())"
   ]
  },
  {
   "cell_type": "code",
   "execution_count": 27,
   "metadata": {},
   "outputs": [
    {
     "name": "stdout",
     "output_type": "stream",
     "text": [
      "([(0, 0), (1, 1), (2, 2), (3, 3), (4, 4), (5, 5), (6, 6), (7, 7), (8, 8), (9, 9), (10, 10), (11, 11), (12, 12), (13, 13), (14, 14), (15, 15), (16, 16), (17, 17), (18, 18), (19, 19), (20, 20), (21, 21), (22, 22), (23, 23), (24, 24), (25, 25), (26, 26), (27, 27), (28, 28), (29, 29), (30, 30), (31, 31)], tensor(2.1729, grad_fn=<SqrtBackward0>))\n"
     ]
    }
   ],
   "source": [
    "print(dtw_test)"
   ]
  },
  {
   "cell_type": "code",
   "execution_count": 55,
   "metadata": {},
   "outputs": [
    {
     "name": "stdout",
     "output_type": "stream",
     "text": [
      "torch.Size([32, 73])\n"
     ]
    }
   ],
   "source": [
    "print(motion_feature[0].size())"
   ]
  },
  {
   "cell_type": "code",
   "execution_count": 60,
   "metadata": {},
   "outputs": [
    {
     "name": "stdout",
     "output_type": "stream",
     "text": [
      "torch.Size([32, 73])\n",
      "torch.Size([32, 73])\n"
     ]
    }
   ],
   "source": [
    "print(motion_feature[0, np.array(dtw_test[0])[:,0]].size())\n",
    "# print(tuple(np.array(dtw_test[0])[:,0]))\n",
    "print(motion_sp_feature[0, np.array(dtw_test[0])[:,1]].size())"
   ]
  },
  {
   "cell_type": "code",
   "execution_count": 30,
   "metadata": {},
   "outputs": [],
   "source": [
    "import numpy as np"
   ]
  },
  {
   "cell_type": "code",
   "execution_count": 35,
   "metadata": {},
   "outputs": [
    {
     "data": {
      "text/plain": [
       "tensor([[0.3109, 0.2484, 0.3730, 0.4488, 0.5761, 0.3757, 0.3743, 0.2846, 0.4493,\n",
       "         0.4475, 0.3065, 0.4472, 0.4736, 0.3155, 0.3501, 0.3237, 0.3501, 0.3480,\n",
       "         0.2007, 0.3121, 0.3046, 0.4994, 0.4438, 0.3218, 0.2547, 0.3859, 0.5475,\n",
       "         0.2924, 0.5045, 0.4207, 0.3134, 0.3583]],\n",
       "       grad_fn=<LinalgVectorNormBackward0>)"
      ]
     },
     "execution_count": 35,
     "metadata": {},
     "output_type": "execute_result"
    }
   ],
   "source": [
    "torch.norm(motion_feature - motion_sp_feature, dim = 2)"
   ]
  },
  {
   "cell_type": "code",
   "execution_count": 29,
   "metadata": {},
   "outputs": [],
   "source": [
    "from tslearn.metrics import dtw_path_from_metric, SoftDTWLossPyTorch, soft_dtw, dtw_path"
   ]
  },
  {
   "cell_type": "code",
   "execution_count": 37,
   "metadata": {},
   "outputs": [],
   "source": [
    "import torch\n",
    "import numpy as np\n",
    "import sys\n",
    "e_val = sys.float_info.epsilon\n",
    "batch = 8\n",
    "a = torch.randn(8,32,73)\n",
    "b = torch.randn(8,32,73)"
   ]
  },
  {
   "cell_type": "code",
   "execution_count": 66,
   "metadata": {},
   "outputs": [
    {
     "name": "stdout",
     "output_type": "stream",
     "text": [
      "tensor(67.6929)\n",
      "tensor(67.7875)\n",
      "tensor(68.8507)\n",
      "tensor(68.2236)\n",
      "tensor(67.8157)\n",
      "tensor(68.2988)\n",
      "tensor(69.3866)\n",
      "tensor(68.4552)\n"
     ]
    }
   ],
   "source": [
    "dtw_list = []\n",
    "for i in range(len(a)):\n",
    "    tmp_dtw = dtw_path(a[i], b[i])\n",
    "    tmp_dtw_dist = tmp_dtw[1]\n",
    "    # print(tmp_dtw_dist)\n",
    "    tmp_anchor_seq = np.array(tmp_dtw[0])[:,0]\n",
    "    tmp_sp_seq = np.array(tmp_dtw[0])[:,1]\n",
    "    # print(tmp_sp_seq)\n",
    "\n",
    "    anchor_re_tensor = a[i][tmp_anchor_seq]\n",
    "    # print(anchor_re_tensor.shape)\n",
    "    sp_re_tensor = b[i][tmp_sp_seq]\n",
    "\n",
    "    # print(torch.sum(1/(tmp_dtw_dist+e_val))*torch.norm(anchor_re_tensor - sp_re_tensor,dim=1))\n",
    "    tmp_loss = (1/(tmp_dtw_dist+e_val))*torch.norm(anchor_re_tensor - sp_re_tensor,dim=1)\n",
    "    # print(tmp_loss)\n",
    "    tmp_sum_loss = torch.sum(tmp_loss)\n",
    "    # print(tmp_sum_loss)\n",
    "    dtw_list.append(tmp_sum_loss)\n",
    "\n",
    "# print(dtw_list)\n",
    "dtw_loss = sum(dtw_list)/batch\n",
    "# print(dtw_loss)"
   ]
  },
  {
   "cell_type": "code",
   "execution_count": 63,
   "metadata": {},
   "outputs": [],
   "source": [
    "soft_dtw_loss = SoftDTWLossPyTorch(gamma=0.1)"
   ]
  },
  {
   "cell_type": "code",
   "execution_count": 64,
   "metadata": {},
   "outputs": [
    {
     "data": {
      "text/plain": [
       "tensor([4582.3242, 4595.1440, 4740.4136, 4654.4556, 4598.9692, 4664.7295,\n",
       "        4814.4941, 4686.1162])"
      ]
     },
     "execution_count": 64,
     "metadata": {},
     "output_type": "execute_result"
    }
   ],
   "source": [
    "soft_dtw_loss(a, b)"
   ]
  },
  {
   "cell_type": "code",
   "execution_count": 65,
   "metadata": {},
   "outputs": [
    {
     "name": "stdout",
     "output_type": "stream",
     "text": [
      "tensor(4667.0811)\n"
     ]
    }
   ],
   "source": [
    "soft_dtw_loss_mean_value = soft_dtw_loss(a, b).mean()\n",
    "print(soft_dtw_loss_mean_value)"
   ]
  },
  {
   "cell_type": "code",
   "execution_count": 11,
   "metadata": {},
   "outputs": [],
   "source": [
    "from datetime import datetime"
   ]
  },
  {
   "cell_type": "code",
   "execution_count": 17,
   "metadata": {},
   "outputs": [],
   "source": [
    "now = datetime.now().strftime('%Y-%m-%d_%H:%M:%S')"
   ]
  },
  {
   "cell_type": "code",
   "execution_count": 25,
   "metadata": {},
   "outputs": [],
   "source": [
    "epoch = 9"
   ]
  },
  {
   "cell_type": "code",
   "execution_count": 26,
   "metadata": {},
   "outputs": [
    {
     "data": {
      "text/plain": [
       "'/data/onwood/sba_project_3D/model_10_2024-06-19_01:13:01.pt'"
      ]
     },
     "execution_count": 26,
     "metadata": {},
     "output_type": "execute_result"
    }
   ],
   "source": [
    "f'/data/onwood/sba_project_3D/model_{epoch+1}_{now}.pt'"
   ]
  },
  {
   "cell_type": "code",
   "execution_count": 27,
   "metadata": {},
   "outputs": [],
   "source": [
    "from model.losses import frame_matching_loss"
   ]
  },
  {
   "cell_type": "code",
   "execution_count": 28,
   "metadata": {},
   "outputs": [
    {
     "ename": "TypeError",
     "evalue": "frame_matching_loss() missing 2 required positional arguments: 'anchor' and 'sp'",
     "output_type": "error",
     "traceback": [
      "\u001b[0;31m---------------------------------------------------------------------------\u001b[0m",
      "\u001b[0;31mTypeError\u001b[0m                                 Traceback (most recent call last)",
      "Cell \u001b[0;32mIn[28], line 1\u001b[0m\n\u001b[0;32m----> 1\u001b[0m fm \u001b[38;5;241m=\u001b[39m frame_matching_loss()\n",
      "\u001b[0;31mTypeError\u001b[0m: frame_matching_loss() missing 2 required positional arguments: 'anchor' and 'sp'"
     ]
    }
   ],
   "source": [
    "fm = frame_matching_loss()"
   ]
  },
  {
   "cell_type": "code",
   "execution_count": null,
   "metadata": {},
   "outputs": [],
   "source": []
  }
 ],
 "metadata": {
  "kernelspec": {
   "display_name": "Python 3 (ipykernel)",
   "language": "python",
   "name": "python3"
  },
  "language_info": {
   "codemirror_mode": {
    "name": "ipython",
    "version": 3
   },
   "file_extension": ".py",
   "mimetype": "text/x-python",
   "name": "python",
   "nbconvert_exporter": "python",
   "pygments_lexer": "ipython3",
   "version": "3.12.3"
  }
 },
 "nbformat": 4,
 "nbformat_minor": 4
}
