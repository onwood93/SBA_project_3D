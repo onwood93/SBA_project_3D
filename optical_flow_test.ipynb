{
 "cells": [
  {
   "cell_type": "code",
   "execution_count": 1,
   "metadata": {},
   "outputs": [],
   "source": [
    "import matplotlib.pyplot as plt\n",
    "import numpy as np\n",
    "import json"
   ]
  },
  {
   "cell_type": "code",
   "execution_count": 2,
   "metadata": {},
   "outputs": [],
   "source": [
    "def extract_keypoints_from_a_json(origin_vid_dir):\n",
    "    with open(origin_vid_dir, \"r\") as f:\n",
    "        origin_keypoints = json.load(f)\n",
    "\n",
    "    origin_keypoints_anno = origin_keypoints['annotations']\n",
    "    origin_tmp_list = []\n",
    "    for frame_data in origin_keypoints_anno:\n",
    "        if frame_data:\n",
    "            keypoints_list = [frame_data[key] for key in frame_data if frame_data[key]]\n",
    "            if keypoints_list:\n",
    "                origin_tmp_list.extend(keypoints_list)\n",
    "\n",
    "    # # Nonetype error 발생하는 듯\n",
    "    # if not origin_tmp_list:\n",
    "    #     return None\n",
    "\n",
    "    # reshape x\n",
    "    origin_anchor_keypoints = np.array(origin_tmp_list)[:,:,[0,1]]\n",
    "    return origin_anchor_keypoints"
   ]
  },
  {
   "cell_type": "code",
   "execution_count": 3,
   "metadata": {},
   "outputs": [],
   "source": [
    "def compute_heatmap(keypoints, h=1080, w=1920, std=5, rate=0.25):\n",
    "    points = keypoints.reshape(-1,2)\n",
    "\n",
    "    x_points = points[:,[0]]\n",
    "    y_points = points[:,[1]]\n",
    "\n",
    "    H = np.tile(np.arange(int(h * rate))[:, None], int(w * rate))\n",
    "    W = np.tile(np.arange(int(w * rate))[:, None], int(h * rate)).T\n",
    "\n",
    "    heatmap_list = []\n",
    "    for i in range(len(x_points)):\n",
    "        x = x_points[i]\n",
    "        y = y_points[i]\n",
    "        x_gauss = 1/(np.sqrt(2*np.pi)*std) * np.exp(-0.5*((H-x)/std)**2) \n",
    "        y_gauss = 1/(np.sqrt(2*np.pi)*std) * np.exp(-0.5*((W-y)/std)**2)\n",
    "        frame = (x_gauss * y_gauss)\n",
    "        heatmap_list.append(frame)\n",
    "    heatmaps = np.array(heatmap_list).reshape(-1, 17, int(h * rate), int(w * rate))\n",
    "\n",
    "    return heatmaps"
   ]
  },
  {
   "cell_type": "code",
   "execution_count": 5,
   "metadata": {},
   "outputs": [],
   "source": [
    "data_dir = \"dataset/a001_kp/S001C001P001R001A001_rgb_kp.json\"\n",
    "rate = 0.25\n",
    "origin_anchor_keypoints = extract_keypoints_from_a_json(data_dir) * rate\n",
    "heatmaps = compute_heatmap(origin_anchor_keypoints, rate = rate)"
   ]
  },
  {
   "cell_type": "code",
   "execution_count": 6,
   "metadata": {},
   "outputs": [
    {
     "name": "stdout",
     "output_type": "stream",
     "text": [
      "(35, 17, 2)\n"
     ]
    }
   ],
   "source": [
    "print(origin_anchor_keypoints.shape)"
   ]
  },
  {
   "cell_type": "code",
   "execution_count": 7,
   "metadata": {},
   "outputs": [
    {
     "name": "stdout",
     "output_type": "stream",
     "text": [
      "(35, 17, 270, 480)\n"
     ]
    }
   ],
   "source": [
    "print(heatmaps.shape)"
   ]
  },
  {
   "cell_type": "code",
   "execution_count": 8,
   "metadata": {},
   "outputs": [],
   "source": [
    "flow_x = []\n",
    "flow_y = []\n",
    "for i in range(1, len(origin_anchor_keypoints)):\n",
    "    flow_x.append((origin_anchor_keypoints[i] - origin_anchor_keypoints[i-1])[:,[0]])\n",
    "    flow_y.append((origin_anchor_keypoints[i] - origin_anchor_keypoints[i-1])[:,[1]])"
   ]
  },
  {
   "cell_type": "code",
   "execution_count": 9,
   "metadata": {},
   "outputs": [
    {
     "name": "stdout",
     "output_type": "stream",
     "text": [
      "(34, 17, 1)\n",
      "(34, 17, 1)\n"
     ]
    }
   ],
   "source": [
    "print(np.array(flow_x).shape)\n",
    "print(np.array(flow_y).shape)"
   ]
  },
  {
   "cell_type": "code",
   "execution_count": 10,
   "metadata": {},
   "outputs": [],
   "source": [
    "h = int(1080*rate)\n",
    "w = int(1920*rate)\n",
    "hw_zeros = np.zeros(shape=(h,w))"
   ]
  },
  {
   "cell_type": "code",
   "execution_count": 11,
   "metadata": {},
   "outputs": [],
   "source": [
    "opt_flow_x = []\n",
    "opt_flow_y = []\n",
    "for i in range(1,len(heatmaps)):\n",
    "    heatmap = heatmaps[i]\n",
    "    for j in range(len(heatmap)):\n",
    "        tmp_x = hw_zeros + flow_x[i-1][j]\n",
    "        tmp_y = hw_zeros + flow_y[i-1][j]\n",
    "        opt_flow_x.append(tmp_x * heatmap[j])\n",
    "        opt_flow_y.append(tmp_y * heatmap[j])\n"
   ]
  },
  {
   "cell_type": "code",
   "execution_count": 12,
   "metadata": {},
   "outputs": [],
   "source": [
    "reshape_opt_flow_y = (np.array(opt_flow_y)).reshape(-1,17,1,h,w)"
   ]
  },
  {
   "cell_type": "code",
   "execution_count": 13,
   "metadata": {},
   "outputs": [],
   "source": [
    "reshape_opt_flow_x = (np.array(opt_flow_x)).reshape(-1,17,1,h,w)"
   ]
  },
  {
   "cell_type": "code",
   "execution_count": 14,
   "metadata": {},
   "outputs": [
    {
     "name": "stdout",
     "output_type": "stream",
     "text": [
      "(34, 17, 1, 270, 480)\n",
      "(34, 17, 1, 270, 480)\n",
      "(34, 17, 2, 270, 480)\n"
     ]
    }
   ],
   "source": [
    "print(reshape_opt_flow_x.shape)\n",
    "print(reshape_opt_flow_y.shape)\n",
    "print(np.concatenate((reshape_opt_flow_x,reshape_opt_flow_y),axis=2).shape)"
   ]
  },
  {
   "cell_type": "code",
   "execution_count": null,
   "metadata": {},
   "outputs": [],
   "source": [
    "for j in range(len(reshape_opt_flow_x)):\n",
    "    tmp_flow_x = reshape_opt_flow_x[j].reshape(17,h,w)\n",
    "    for i in range(len(tmp_flow_x)):\n",
    "        if i == 0:\n",
    "            tmp_flow_plt_x = tmp_flow_x[0]\n",
    "        else:\n",
    "            tmp_flow_plt_x += tmp_flow_x[i]\n",
    "\n",
    "    plt.imshow(tmp_flow_plt_x)\n",
    "    plt.savefig(f\"opt_flow/x_270_480/x_frame{j}.jpg\")"
   ]
  },
  {
   "cell_type": "code",
   "execution_count": null,
   "metadata": {},
   "outputs": [],
   "source": [
    "for j in range(len(reshape_opt_flow_y)):\n",
    "    tmp_flow_y = reshape_opt_flow_y[j].reshape(17,h,w)\n",
    "    for i in range(len(tmp_flow_y)):\n",
    "        if i == 0:\n",
    "            tmp_flow_plt_y = tmp_flow_y[0]\n",
    "        else:\n",
    "            tmp_flow_plt_y += tmp_flow_y[i]\n",
    "\n",
    "    plt.imshow(tmp_flow_plt_y)\n",
    "    plt.savefig(f\"opt_flow/y_270_480/y_frame{j}.jpg\")"
   ]
  },
  {
   "cell_type": "code",
   "execution_count": null,
   "metadata": {},
   "outputs": [],
   "source": [
    "for i in range(len(opt_flow_x)):\n",
    "    plt.imshow(opt_flow_x[i])\n",
    "    plt.savefig(f\"opt_flow/x/x_frame{i}.jpg\")"
   ]
  },
  {
   "cell_type": "code",
   "execution_count": 58,
   "metadata": {},
   "outputs": [
    {
     "name": "stdout",
     "output_type": "stream",
     "text": [
      "35\n",
      "(17, 1080, 1920)\n",
      "(1080, 1920)\n",
      "34\n",
      "(17, 1)\n",
      "(1,)\n",
      "(1080, 1920)\n"
     ]
    }
   ],
   "source": [
    "print(len(heatmaps))\n",
    "print(heatmaps[0].shape)\n",
    "heatmap = heatmaps[0]\n",
    "print(heatmap[0].shape)\n",
    "print(len(flow_x))\n",
    "print(flow_x[0].shape)\n",
    "print(flow_x[0][0].shape)\n",
    "tmp_x = hw_zeros + flow_x[0][0]\n",
    "print(tmp_x.shape)"
   ]
  },
  {
   "cell_type": "code",
   "execution_count": 20,
   "metadata": {},
   "outputs": [],
   "source": [
    "tmp_x = hw_zeros+flow_x[0]\n",
    "tmp_y = hw_zeros+flow_y[0]"
   ]
  },
  {
   "cell_type": "code",
   "execution_count": 24,
   "metadata": {},
   "outputs": [
    {
     "name": "stdout",
     "output_type": "stream",
     "text": [
      "(1080, 1920)\n",
      "(1080, 1920)\n",
      "(1080, 1920)\n"
     ]
    }
   ],
   "source": [
    "print(tmp_x.shape)\n",
    "print(heatmaps[1][0].shape)\n",
    "print((tmp_x * heatmaps[1][0]).shape)"
   ]
  },
  {
   "cell_type": "code",
   "execution_count": 25,
   "metadata": {},
   "outputs": [
    {
     "data": {
      "text/plain": [
       "<matplotlib.image.AxesImage at 0x7f062f90e090>"
      ]
     },
     "execution_count": 25,
     "metadata": {},
     "output_type": "execute_result"
    },
    {
     "data": {
      "image/png": "[encoded data removed]",
      "text/plain": [
       "<Figure size 640x480 with 1 Axes>"
      ]
     },
     "metadata": {},
     "output_type": "display_data"
    }
   ],
   "source": [
    "op_flow_x = tmp_x * heatmaps[1][0]\n",
    "plt.imshow(op_flow_x)"
   ]
  },
  {
   "cell_type": "code",
   "execution_count": 26,
   "metadata": {},
   "outputs": [
    {
     "data": {
      "text/plain": [
       "<matplotlib.image.AxesImage at 0x7f062ebd2450>"
      ]
     },
     "execution_count": 26,
     "metadata": {},
     "output_type": "execute_result"
    },
    {
     "data": {
      "image/png": "[encoded data removed]",
      "text/plain": [
       "<Figure size 640x480 with 1 Axes>"
      ]
     },
     "metadata": {},
     "output_type": "display_data"
    }
   ],
   "source": [
    "op_flow_y = tmp_y * heatmaps[1][0]\n",
    "plt.imshow(op_flow_y)"
   ]
  },
  {
   "cell_type": "code",
   "execution_count": null,
   "metadata": {},
   "outputs": [],
   "source": []
  }
 ],
 "metadata": {
  "kernelspec": {
   "display_name": "Python 3 (ipykernel)",
   "language": "python",
   "name": "python3"
  }
 },
 "nbformat": 4,
 "nbformat_minor": 2
}
